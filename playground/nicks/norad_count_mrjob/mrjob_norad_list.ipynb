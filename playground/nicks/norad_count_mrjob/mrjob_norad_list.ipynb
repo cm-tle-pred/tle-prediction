{
 "cells": [
  {
   "cell_type": "code",
   "execution_count": 1,
   "metadata": {},
   "outputs": [
    {
     "data": {
      "text/plain": [
       "'D:\\\\Datasets\\\\Space-Track gp_history'"
      ]
     },
     "execution_count": 1,
     "metadata": {},
     "output_type": "execute_result"
    }
   ],
   "source": [
    "import os\n",
    "# import threading\n",
    "# from pyspark import SparkContext, SparkConf\n",
    "\n",
    "csv_store_path = os.environ['GP_HIST_PATH']\n",
    "#csv_store_path = os.environ['my_home_path'] + '\\data\\space-track-gp-hist-sample'\n",
    "file_list = 'all_files.txt'\n",
    "csv_store_path"
   ]
  },
  {
   "cell_type": "code",
   "execution_count": 2,
   "metadata": {},
   "outputs": [],
   "source": [
    "# write a file containing all the file names\n",
    "files = sorted([x for x in os.listdir(f'{csv_store_path}/') if x.endswith(\".csv.gz\")])\n",
    "with open(file_list, 'w+') as f:\n",
    "    for file in files:\n",
    "        f.write(csv_store_path + '\\\\' + file + '\\n')"
   ]
  },
  {
   "cell_type": "code",
   "execution_count": 3,
   "metadata": {},
   "outputs": [],
   "source": [
    "# import pandas as pd\n",
    "# file_path = r'D:\\Datasets\\Space-Track gp_history\\002000553-002100571.csv.gz'\n",
    "# #file_path = r'D:\\Dropbox (University of Michigan)\\Milestone 2\\data\\000000001-000100186.csv.gz'\n",
    "# df = pd.read_csv(file_path, compression='gzip', low_memory=False)\n",
    "# df = df[(df.MEAN_MOTION > 11.25) & (df.ECCENTRICITY < 0.25)]\n",
    "# #print(f'File: {file_path}')\n",
    "# df.NORAD_CAT_ID.to_list()"
   ]
  },
  {
   "cell_type": "code",
   "execution_count": 4,
   "metadata": {},
   "outputs": [
    {
     "name": "stdout",
     "output_type": "stream",
     "text": [
      "Overwriting norad_counts.py\n"
     ]
    }
   ],
   "source": [
    "%%file norad_counts.py\n",
    "from mrjob.job import MRJob, JSONProtocol\n",
    "import pandas as pd\n",
    "\n",
    "class MRNoradCounts(MRJob):\n",
    "    \n",
    "    def mapper(self, _, file_path):\n",
    "        try:\n",
    "            df = pd.read_csv(file_path, compression='gzip', low_memory=False)\n",
    "            df = df[(df.MEAN_MOTION > 11.25) & (df.ECCENTRICITY < 0.25)]\n",
    "        except:\n",
    "            raise Exception(f'Failed to open {file_path}') \n",
    "        #print(f'File: {file_path}')\n",
    "        for norad in df.NORAD_CAT_ID.to_list():\n",
    "            yield norad, 1\n",
    "            \n",
    "    def combiner(self, norad, counts):\n",
    "        yield norad, sum(counts)\n",
    "        \n",
    "    def reducer(self, norad, counts):\n",
    "        yield norad, sum(counts)\n",
    "        \n",
    "if __name__ == \"__main__\":\n",
    "    #mr_job = MRNoradCounts()\n",
    "    #runner = mr_job.make_runner()\n",
    "    #runner.run()\n",
    "    MRNoradCounts.run()\n",
    "#     mr_job = MRNoradCounts(args=[r'all_files.txt',\n",
    "#                                 #'-r', 'hadoop',\n",
    "#                                 #'--hadoop-streaming-jar', r'C:\\hadoop-3.3.0\\share\\hadoop\\tools\\lib\\hadoop-streaming-3.3.0.jar',\n",
    "#                                 #r'>output.txt',\n",
    "#                                 ])\n",
    "#     runner = mr_job.make_runner()\n",
    "#     runner.run()\n",
    "#     with mr_job.make_runner() as runner:\n",
    "#         runner.run()\n",
    "#         with open(r'output.csv', 'w+') as f: \n",
    "#             for line in runner.stream_output():\n",
    "#                 k,v = mr_job.parse_output_line(line)\n",
    "#                 f.write(f'{k},{v}\\n')"
   ]
  },
  {
   "cell_type": "code",
   "execution_count": 5,
   "metadata": {},
   "outputs": [],
   "source": [
    "#!python norad_counts.py all_files.txt >output.txt"
   ]
  },
  {
   "cell_type": "code",
   "execution_count": 6,
   "metadata": {},
   "outputs": [],
   "source": [
    "#python norad_counts.py --hadoop-streaming-jar C:\\hadoop-3.3.0\\share\\hadoop\\tools\\lib\\hadoop-streaming-3.3.0.jar all_files.txt >output.txt"
   ]
  }
 ],
 "metadata": {
  "kernelspec": {
   "display_name": "Python 3",
   "language": "python",
   "name": "python3"
  },
  "language_info": {
   "codemirror_mode": {
    "name": "ipython",
    "version": 3
   },
   "file_extension": ".py",
   "mimetype": "text/x-python",
   "name": "python",
   "nbconvert_exporter": "python",
   "pygments_lexer": "ipython3",
   "version": "3.8.5"
  }
 },
 "nbformat": 4,
 "nbformat_minor": 4
}
