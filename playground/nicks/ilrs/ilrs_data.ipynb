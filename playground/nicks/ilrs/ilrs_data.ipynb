{
 "cells": [
  {
   "cell_type": "markdown",
   "metadata": {},
   "source": [
    "ILRS (International Laser Range Service) provides accurate satellite positioning on a variety of satellites.\n",
    "\n",
    "More info: \n",
    "\n",
    "Normal Point Data (NPT):\n",
    "- https://ilrs.gsfc.nasa.gov/data_and_products/data/npt/index.html\n",
    "- Data available from: ftp://edc.dgfi.tum.de/pub/slr/data/npt_crd/\n",
    "\n",
    "Consolidated Laser Range Data (CRD):\n",
    "- https://ilrs.gsfc.nasa.gov/data_and_products/formats/crd.html\n",
    "    \n",
    "Consolidated Prediction Format (CPF):\n",
    "- https://ilrs.gsfc.nasa.gov/data_and_products/predictions/index.html\n",
    "   \n",
    "Python Package for reading/processing/predicting ILRS data:\n",
    "- https://pypi.org/project/slrfield/"
   ]
  },
  {
   "cell_type": "code",
   "execution_count": 2,
   "metadata": {},
   "outputs": [
    {
     "data": {
      "text/plain": [
       "['H1 CRD 01 2020 12 01 09',\n",
       " 'H2 GRZL       7839 34 02  4',\n",
       " 'H3 adeos       9604601 1555    24277 0 1',\n",
       " 'H4  1 2015  4 30  1  6 12 2015  4 30  1 19 48  1 0 0 0 1 0 2 0',\n",
       " 'C0 0 532.000 0902 2kHz C_SPAD1 GPS',\n",
       " 'C1 0 2kHz Nd:Van 1064 2000 0.400 10 10 1',\n",
       " 'C2 0 C_SPAD1 SPAD 532.0 20 5.0  400 +1V 10 0.3 35   28 WinClean2.2',\n",
       " 'C3 0 GPS HP58503A HP58503A Graz_Dassault NoSN 0.077',\n",
       " '20 4257 960.02 279.88 56.4 1',\n",
       " '20 4316 960.01 279.87 56.4 1',\n",
       " '40  4257 0 0902 10000  7786  1.742  112336.5   0.1  14   0.007  -0.660    -1 2 2 0',\n",
       " '40  4316 0 0902 10000  7848  1.742  112336.6   0.1  14   0.019  -0.648    -1 2 2 0',\n",
       " '11  4270.645517708733    0.007578833926 0902 2   15.0    483    16.1 -0.099 -0.583      1.1   1.6 0',\n",
       " '11  4280.734417704866    0.007248007116 0902 2   15.0    335    15.9 -0.019 -0.476      1.1   1.1 0',\n",
       " '11  4297.826117714866    0.006727709752 0902 2   15.0    510    16.3  0.036 -0.619      1.0   1.7 0',\n",
       " '11  4310.530517710373    0.006379999062 0902 2   15.0    436    16.6  0.136 -0.838     -5.1   1.5 0',\n",
       " '50 0902   16.2   0.018  -0.644    0.0 1',\n",
       " 'H8',\n",
       " 'H']"
      ]
     },
     "execution_count": 2,
     "metadata": {},
     "output_type": "execute_result"
    }
   ],
   "source": [
    "data = [l[:-1] for l in open('data/adeos_201504.npt').readlines()]\n",
    "data"
   ]
  },
  {
   "cell_type": "code",
   "execution_count": 4,
   "metadata": {},
   "outputs": [
    {
     "name": "stdout",
     "output_type": "stream",
     "text": [
      "Please input the Username for your EARTHDATA login account(which can be created at https://urs.earthdata.nasa.gov/): nmill\n",
      "Please input the Password: XUys6O6jEme9wLw7e*T3\n"
     ]
    },
    {
     "name": "stderr",
     "output_type": "stream",
     "text": [
      "Downloading ajisai_cpf_210313_5721.hts: 100%|\u001b[34m████████████████████████████████████████\u001b[39m| 130k/130k [00:00<00:00, 157kB/s]\u001b[0m\n",
      "Downloading etalon2_cpf_210313_5721.hts: 100%|\u001b[34m████████████████████████████████████\u001b[39m| 34.7k/34.7k [00:00<00:00, 85.2kB/s]\u001b[0m\n",
      "Downloading jason3_cpf_210313_5721.hts: 100%|\u001b[34m████████████████████████████████████████\u001b[39m| 130k/130k [00:00<00:00, 159kB/s]\u001b[0m\n",
      "Downloading lageos1_cpf_210313_5721.hts: 100%|\u001b[34m███████████████████████████████████████\u001b[39m| 104k/104k [00:00<00:00, 127kB/s]\u001b[0m\n"
     ]
    }
   ],
   "source": [
    "from slrfield import cpf_download\n",
    "\n",
    "sat_lists = ['ajisai','lageos1','hy2a','etalon2','jason3']\n",
    "cpf_files_cddis = cpf_download(sat_lists)"
   ]
  },
  {
   "cell_type": "code",
   "execution_count": 7,
   "metadata": {},
   "outputs": [
    {
     "name": "stdout",
     "output_type": "stream",
     "text": [
      "[{'MJD': array([59285, 59285, 59285, ..., 59290, 59290, 59290]), 'SoD': array([85200., 85440., 85680., ..., 84480., 84720., 84960.]), 'positions[m]': array([[ 1664839.78 , -6657733.969,  3853536.264],\n",
      "       [ 2855026.267, -6794938.364,  2765324.374],\n",
      "       [ 3912219.844, -6654838.615,  1547146.1  ],\n",
      "       ...,\n",
      "       [ 4478695.02 , -6248155.659, -1707989.32 ],\n",
      "       [ 5026321.533, -5316267.753, -2912579.761],\n",
      "       [ 5376644.743, -4152614.675, -3980428.501]]), 'Leap_Second': array([0, 0, 0, ..., 0, 0, 0]), 'Format': 'CPF', 'Format Version': '1', 'Ephemeris Source': 'HTS', 'Time of Ephemeris Production': '2021-03-13 12:00:00.000', 'Ephemeris Sequence Number': '5721', 'Target Name': 'ajisai', 'COSPAR ID': '8606101', 'SIC': '1500', 'NORAD ID': '16908', 'Start': '2021-03-13 00:00:00.000', 'End': '2021-03-18 00:00:00.000', 'Time Interval[sec]': '240', 'Target Type': 'passive(retro-reflector) artificial satellite', 'Reference Frame': 'ITRF(default)', 'Rotational Angle': 'Not Applicable', 'Center of Mass Correction': 'None applied. Prediction is for center of mass of target', 'Direction': 'instantaneous vector from geocenter to target, without light-time iteration', 'ts_utc': array(['2021-03-12 23:40:00.000', '2021-03-12 23:44:00.000',\n",
      "       '2021-03-12 23:48:00.000', ..., '2021-03-17 23:28:00.000',\n",
      "       '2021-03-17 23:32:00.000', '2021-03-17 23:36:00.000'], dtype='<U23')}]\n"
     ]
    }
   ],
   "source": [
    "from slrfield import read_cpfs\n",
    "cpf_data_cddis = read_cpfs(cpf_files_cddis[0])\n",
    "print(cpf_data_cddis.info)"
   ]
  },
  {
   "cell_type": "code",
   "execution_count": 8,
   "metadata": {},
   "outputs": [
    {
     "data": {
      "text/plain": [
       "'CPF/CDDIS/2021-03-13/ajisai_cpf_210313_5721.hts'"
      ]
     },
     "execution_count": 8,
     "metadata": {},
     "output_type": "execute_result"
    }
   ],
   "source": [
    "cpf_files_cddis[0]"
   ]
  }
 ],
 "metadata": {
  "kernelspec": {
   "display_name": "Python 3",
   "language": "python",
   "name": "python3"
  },
  "language_info": {
   "codemirror_mode": {
    "name": "ipython",
    "version": 3
   },
   "file_extension": ".py",
   "mimetype": "text/x-python",
   "name": "python",
   "nbconvert_exporter": "python",
   "pygments_lexer": "ipython3",
   "version": "3.8.5"
  }
 },
 "nbformat": 4,
 "nbformat_minor": 4
}
