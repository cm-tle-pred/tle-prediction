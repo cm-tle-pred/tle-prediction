{
 "cells": [
  {
   "cell_type": "code",
   "execution_count": 1,
   "metadata": {},
   "outputs": [],
   "source": [
    "import pandas as pd\n",
    "import numpy as np\n",
    "import os\n",
    "import pickle\n",
    "import random\n",
    "from tqdm.notebook import tqdm"
   ]
  },
  {
   "cell_type": "code",
   "execution_count": 2,
   "metadata": {},
   "outputs": [],
   "source": [
    "X_train = pd.read_pickle(os.environ['GP_HIST_PATH'] + '/cleaned/x_train1.pkl')\n",
    "y_train = pd.read_pickle(os.environ['GP_HIST_PATH'] + '/cleaned/y_train1.pkl')\n",
    "\n",
    "X_test = pd.read_pickle(os.environ['GP_HIST_PATH'] + '/cleaned/x_test1.pkl')\n",
    "y_test = pd.read_pickle(os.environ['GP_HIST_PATH'] + '/cleaned/y_test1.pkl')"
   ]
  },
  {
   "cell_type": "code",
   "execution_count": 3,
   "metadata": {},
   "outputs": [
    {
     "data": {
      "application/vnd.jupyter.widget-view+json": {
       "model_id": "146eea4e1ec046e599895c65764bf546",
       "version_major": 2,
       "version_minor": 0
      },
      "text/plain": [
       "  0%|          | 0/6 [00:00<?, ?it/s]"
      ]
     },
     "metadata": {},
     "output_type": "display_data"
    },
    {
     "name": "stdout",
     "output_type": "stream",
     "text": [
      "Processing function: \"more_recent_only\"\n",
      "Wall time: 23.9 ms\n",
      "==========================================================\n",
      "Processing function: \"leo_check\"\n",
      "Wall time: 18 ms\n",
      "==========================================================\n",
      "Processing function: \"degrees_range_check\"\n",
      "Wall time: 1.34 s\n",
      "==========================================================\n",
      "Processing function: \"inclination_range_check\"\n",
      "Wall time: 18 ms\n",
      "==========================================================\n",
      "Processing function: \"mean_motion_range_check\"\n",
      "Wall time: 17 ms\n",
      "==========================================================\n",
      "Processing function: \"skip_first_n\"\n",
      "Wall time: 4.26 s\n",
      "==========================================================\n"
     ]
    },
    {
     "data": {
      "text/plain": [
       "True     9619869\n",
       "False       6640\n",
       "Name: more_recent_only, dtype: int64"
      ]
     },
     "metadata": {},
     "output_type": "display_data"
    },
    {
     "data": {
      "text/plain": [
       "True     9530614\n",
       "False      95895\n",
       "Name: leo_check, dtype: int64"
      ]
     },
     "metadata": {},
     "output_type": "display_data"
    },
    {
     "data": {
      "text/plain": [
       "True     9626507\n",
       "False          2\n",
       "Name: degrees_range_check, dtype: int64"
      ]
     },
     "metadata": {},
     "output_type": "display_data"
    },
    {
     "data": {
      "text/plain": [
       "True     9626508\n",
       "False          1\n",
       "Name: inclination_range_check, dtype: int64"
      ]
     },
     "metadata": {},
     "output_type": "display_data"
    },
    {
     "data": {
      "text/plain": [
       "True     9487897\n",
       "False     138612\n",
       "Name: mean_motion_range_check, dtype: int64"
      ]
     },
     "metadata": {},
     "output_type": "display_data"
    },
    {
     "data": {
      "text/plain": [
       "True     9613291\n",
       "False      13218\n",
       "Name: skip_first_n, dtype: int64"
      ]
     },
     "metadata": {},
     "output_type": "display_data"
    },
    {
     "name": "stdout",
     "output_type": "stream",
     "text": [
      "==========================================================\n",
      "Masks combined:\n"
     ]
    },
    {
     "data": {
      "text/plain": [
       "True     9470808\n",
       "False     155701\n",
       "Name: combined_masks, dtype: int64"
      ]
     },
     "metadata": {},
     "output_type": "display_data"
    }
   ],
   "source": [
    "# Remove strange data\n",
    "# These are from 2_remove_anomaly/remove_anomaly.ipynb\n",
    "# This is already done to X_train, but not X_test\n",
    "# Modified because the values have since been normalized\n",
    "\n",
    "def more_recent_only(df):\n",
    "    mask = df.EPOCH > \"1990\"\n",
    "    return mask\n",
    "def leo_check(df):\n",
    "    mask = df['ECCENTRICITY'].between(0,1)\n",
    "    return mask\n",
    "def degrees_range_check(df):\n",
    "    degree_columns = ['RA_OF_ASC_NODE', 'ARG_OF_PERICENTER', 'MEAN_ANOMALY']\n",
    "    mask = df[degree_columns].apply(lambda x:x.between(0,1), axis=0).all(axis=1)\n",
    "    return mask\n",
    "def inclination_range_check(df):\n",
    "    mask = df['INCLINATION'].between(0,1)\n",
    "    return mask\n",
    "def mean_motion_range_check(df):\n",
    "    mask = df['MEAN_MOTION'].between(0,1)\n",
    "    return mask\n",
    "def skip_first_n(df, n=5):\n",
    "    mask = df.groupby(by=\"NORAD_CAT_ID\", as_index=False).apply(lambda x:x.EPOCH.rank() > n).reset_index(level=0, drop=True).sort_index()\n",
    "    return mask\n",
    "\n",
    "anomaly_functions = [\n",
    "    more_recent_only,\n",
    "    leo_check,\n",
    "    degrees_range_check,\n",
    "    inclination_range_check,\n",
    "    mean_motion_range_check,\n",
    "    skip_first_n,\n",
    "]\n",
    "\n",
    "anomaly_results = []\n",
    "for fn in tqdm(anomaly_functions):\n",
    "    print(f\"Processing function: \\\"{fn.__name__}\\\"\")\n",
    "    %time res = fn(X_test)\n",
    "    print(\"==========================================================\")\n",
    "    res.name = fn.__name__\n",
    "    anomaly_results.append(res)\n",
    "    \n",
    "for s in anomaly_results:\n",
    "    display(s.value_counts())\n",
    "    \n",
    "combined = pd.concat(anomaly_results, axis=1).all(axis=1)\n",
    "combined.name = \"combined_masks\"\n",
    "print(\"==========================================================\\nMasks combined:\")\n",
    "display(combined.value_counts())\n",
    "\n",
    "X_test_ra = X_test[combined]\n",
    "y_test_ra = y_test[combined]"
   ]
  },
  {
   "cell_type": "code",
   "execution_count": 4,
   "metadata": {},
   "outputs": [],
   "source": [
    "number = 1000\n",
    "np.random.seed(0)\n",
    "train_ids = np.random.choice(list(set(X_train.NORAD_CAT_ID.unique())),number)\n",
    "X_train_sample = X_train[X_train.NORAD_CAT_ID.isin(train_ids)]\n",
    "X_train_sample_idx = X_train_sample.index\n",
    "y_train_sample = y_train.loc[X_train_sample_idx]\n",
    "X_train_sample.to_pickle(os.environ['GP_HIST_PATH'] + f'/cleaned/x_train_sample_{number}.pkl')\n",
    "y_train_sample.to_pickle(os.environ['GP_HIST_PATH'] + f'/cleaned/y_train_sample_{number}.pkl')"
   ]
  },
  {
   "cell_type": "code",
   "execution_count": 6,
   "metadata": {},
   "outputs": [],
   "source": [
    "number = 100\n",
    "np.random.seed(0)\n",
    "test_ids = np.random.choice(list(set(X_test_ra.NORAD_CAT_ID.unique())),number)\n",
    "X_test_sample = X_test_ra[X_test_ra.NORAD_CAT_ID.isin(test_ids)]\n",
    "X_test_sample_idx = X_test_sample.index\n",
    "y_test_sample = y_test_ra.loc[X_test_sample_idx]\n",
    "X_test_sample.to_pickle(os.environ['GP_HIST_PATH'] + f'/cleaned/X_test_sample_{number}.pkl')\n",
    "y_test_sample.to_pickle(os.environ['GP_HIST_PATH'] + f'/cleaned/y_test_sample_{number}.pkl')"
   ]
  }
 ],
 "metadata": {
  "kernelspec": {
   "display_name": "Python 3",
   "language": "python",
   "name": "python3"
  },
  "language_info": {
   "codemirror_mode": {
    "name": "ipython",
    "version": 3
   },
   "file_extension": ".py",
   "mimetype": "text/x-python",
   "name": "python",
   "nbconvert_exporter": "python",
   "pygments_lexer": "ipython3",
   "version": "3.8.5"
  }
 },
 "nbformat": 4,
 "nbformat_minor": 4
}
