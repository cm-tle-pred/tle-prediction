{
 "cells": [
  {
   "cell_type": "code",
   "execution_count": 1,
   "metadata": {},
   "outputs": [],
   "source": [
    "from sgp4.api import Satrec, WGS72\n",
    "from sgp4.conveniences import jday_datetime\n",
    "from datetime import timezone\n",
    "import numpy as np\n",
    "import pandas as pd"
   ]
  },
  {
   "cell_type": "code",
   "execution_count": 19,
   "metadata": {},
   "outputs": [
    {
     "data": {
      "text/plain": [
       "(-7034.653882028586, -833.2443276655023, 0.4919885400425292)"
      ]
     },
     "execution_count": 19,
     "metadata": {},
     "output_type": "execute_result"
    }
   ],
   "source": [
    "line1='1 26619U 00075A   04118.83390259 -.00012193  00000-0 -27028-2 0  9998'\n",
    "line2='2 26619  98.2038 186.7557 0001921  94.7873 265.3585 14.57084849182472'\n",
    "epoch=pd.Timestamp('2004-04-27 20:00:49.183775')\n",
    "\n",
    "epoch_jd, epoch_fr = jday_datetime(epoch.replace(tzinfo=timezone.utc))\n",
    "\n",
    "Satrec.twoline2rv(line1, line2).sgp4(epoch_jd, epoch_fr)[1]\n",
    "# Result: (-7034.653882028586, -833.2443276655023, 0.4919885400425292)"
   ]
  },
  {
   "cell_type": "code",
   "execution_count": 21,
   "metadata": {},
   "outputs": [
    {
     "data": {
      "text/plain": [
       "(-7034.653882151979, -833.2443265352615, 0.49199643109566665)"
      ]
     },
     "execution_count": 21,
     "metadata": {},
     "output_type": "execute_result"
    }
   ],
   "source": [
    "BSTAR = -0.0027028\n",
    "MEAN_MOTION_DOT = -0.00012193\n",
    "MEAN_MOTION_DDOT = 0.0\n",
    "ECCENTRICITY = 0.0001921\n",
    "ARG_OF_PERICENTER = 94.7873 *np.pi/180\n",
    "INCLINATION = 98.2038 *np.pi/180\n",
    "MEAN_ANOMALY = 265.3585 *np.pi/180\n",
    "MEAN_MOTION = 14.57084849 *np.pi/(4*180)\n",
    "RA_OF_ASC_NODE = 186.7557 *np.pi/180\n",
    "\n",
    "epoch_days = (epoch - datetime.strptime('12/31/1949 00:00:00', '%m/%d/%Y %H:%M:%S')) / np.timedelta64(1, 'D')\n",
    "\n",
    "sat = Satrec()\n",
    "sat.sgp4init(\n",
    "     WGS72,           # gravity model\n",
    "     'i',             # 'a' = old AFSPC mode, 'i' = improved mode\n",
    "     0,               # satnum: Satellite number\n",
    "     epoch_days,       # epoch: days since 1949 December 31 00:00 UT\n",
    "     BSTAR,      # bstar: drag coefficient (/earth radii)\n",
    "     MEAN_MOTION_DOT, # ndot (NOT USED): ballistic coefficient (revs/day)\n",
    "     MEAN_MOTION_DDOT,             # nddot (NOT USED): mean motion 2nd derivative (revs/day^3)\n",
    "     ECCENTRICITY,       # ecco: eccentricity\n",
    "     ARG_OF_PERICENTER, # argpo: argument of perigee (radians)\n",
    "     INCLINATION, # inclo: inclination (radians)\n",
    "     MEAN_ANOMALY, # mo: mean anomaly (radians)\n",
    "     MEAN_MOTION, # no_kozai: mean motion (radians/minute)\n",
    "     RA_OF_ASC_NODE, # nodeo: right ascension of ascending node (radians)\n",
    ")\n",
    "sat.sgp4(epoch_jd, epoch_fr)[1]\n",
    "# Result: (-7034.653882151979, -833.2443265352615, 0.49199643109566665)"
   ]
  },
  {
   "cell_type": "code",
   "execution_count": null,
   "metadata": {},
   "outputs": [],
   "source": []
  }
 ],
 "metadata": {
  "kernelspec": {
   "display_name": "Python 3",
   "language": "python",
   "name": "python3"
  },
  "language_info": {
   "codemirror_mode": {
    "name": "ipython",
    "version": 3
   },
   "file_extension": ".py",
   "mimetype": "text/x-python",
   "name": "python",
   "nbconvert_exporter": "python",
   "pygments_lexer": "ipython3",
   "version": "3.8.5"
  }
 },
 "nbformat": 4,
 "nbformat_minor": 4
}
