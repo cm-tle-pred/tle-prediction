{
 "cells": [
  {
   "cell_type": "markdown",
   "metadata": {},
   "source": [
    "# Spark SQL Demo"
   ]
  },
  {
   "cell_type": "code",
   "execution_count": 1,
   "metadata": {},
   "outputs": [],
   "source": [
    "from pyspark.sql import SparkSession\n",
    "spark = SparkSession \\\n",
    "    .builder \\\n",
    "    .master(\"local[*]\") \\\n",
    "    .appName('My First Spark application') \\\n",
    "    .getOrCreate() \n",
    "\n",
    "sc = spark.sparkContext"
   ]
  },
  {
   "cell_type": "markdown",
   "metadata": {},
   "source": [
    "Read in some data:"
   ]
  },
  {
   "cell_type": "code",
   "execution_count": 2,
   "metadata": {},
   "outputs": [],
   "source": [
    "business = spark.read.json('../non_auto_assignments/data/yelp_academic/yelp_academic_dataset_business.json.gz')"
   ]
  },
  {
   "cell_type": "code",
   "execution_count": 3,
   "metadata": {},
   "outputs": [],
   "source": [
    "checkin = spark.read.json('../non_auto_assignments/data/yelp_academic/yelp_academic_dataset_checkin.json.gz')\n",
    "review = spark.read.json('../non_auto_assignments/data/yelp_academic/yelp_academic_dataset_review.json.gz')\n",
    "tip = spark.read.json('../non_auto_assignments/data/yelp_academic/yelp_academic_dataset_tip.json.gz')\n",
    "user = spark.read.json('../non_auto_assignments/data/yelp_academic/yelp_academic_dataset_user.json.gz')"
   ]
  },
  {
   "cell_type": "markdown",
   "metadata": {},
   "source": [
    "Look at a schema:"
   ]
  },
  {
   "cell_type": "code",
   "execution_count": 4,
   "metadata": {},
   "outputs": [
    {
     "name": "stdout",
     "output_type": "stream",
     "text": [
      "root\n",
      " |-- business_id: string (nullable = true)\n",
      " |-- compliment_count: long (nullable = true)\n",
      " |-- date: string (nullable = true)\n",
      " |-- text: string (nullable = true)\n",
      " |-- user_id: string (nullable = true)\n",
      "\n"
     ]
    }
   ],
   "source": [
    "tip.printSchema()"
   ]
  },
  {
   "cell_type": "markdown",
   "metadata": {},
   "source": [
    "and some data:"
   ]
  },
  {
   "cell_type": "code",
   "execution_count": 5,
   "metadata": {},
   "outputs": [],
   "source": [
    "tips = tip.first().asDict()"
   ]
  },
  {
   "cell_type": "code",
   "execution_count": 6,
   "metadata": {
    "scrolled": false
   },
   "outputs": [
    {
     "name": "stdout",
     "output_type": "stream",
     "text": [
      "business_id:\tVaKXUpmWTTWDKbpJ3aQdMw\n",
      "compliment_count:\t0\n",
      "date:\t2014-03-27 03:51:24\n",
      "text:\tGreat for watching games, ufc, and whatever else tickles yer fancy\n",
      "user_id:\tUPw5DWs_b-e2JRBS-t37Ag\n"
     ]
    }
   ],
   "source": [
    "for k,v in tips.items():\n",
    "    print(f'{k}:\\t{v}')"
   ]
  },
  {
   "cell_type": "markdown",
   "metadata": {},
   "source": [
    "Create a temporary view and issue a SQL query:"
   ]
  },
  {
   "cell_type": "code",
   "execution_count": 7,
   "metadata": {},
   "outputs": [],
   "source": [
    "tip.createOrReplaceTempView(\"tip\")\n",
    "result = spark.sql(\"SELECT COUNT(*) FROM tip\")"
   ]
  },
  {
   "cell_type": "markdown",
   "metadata": {},
   "source": [
    "Show the results:"
   ]
  },
  {
   "cell_type": "code",
   "execution_count": 8,
   "metadata": {},
   "outputs": [
    {
     "name": "stdout",
     "output_type": "stream",
     "text": [
      "+--------+\n",
      "|count(1)|\n",
      "+--------+\n",
      "| 1223094|\n",
      "+--------+\n",
      "\n"
     ]
    }
   ],
   "source": [
    "result.show()"
   ]
  },
  {
   "cell_type": "markdown",
   "metadata": {},
   "source": [
    "Does it match what we would expect?"
   ]
  },
  {
   "cell_type": "code",
   "execution_count": 9,
   "metadata": {},
   "outputs": [
    {
     "data": {
      "text/plain": [
       "1223094"
      ]
     },
     "execution_count": 9,
     "metadata": {},
     "output_type": "execute_result"
    }
   ],
   "source": [
    "tip.count()"
   ]
  },
  {
   "cell_type": "markdown",
   "metadata": {},
   "source": [
    "Go ahead and create temp views for all our DataFrames:"
   ]
  },
  {
   "cell_type": "code",
   "execution_count": 10,
   "metadata": {},
   "outputs": [],
   "source": [
    "business.createOrReplaceTempView(\"business\")\n",
    "checkin.createOrReplaceTempView(\"checkin\")\n",
    "tip.createOrReplaceTempView(\"tip\")\n",
    "review.createOrReplaceTempView(\"review\")\n",
    "user.createOrReplaceTempView(\"user\")"
   ]
  },
  {
   "cell_type": "markdown",
   "metadata": {},
   "source": [
    "## Simple SQL query"
   ]
  },
  {
   "cell_type": "code",
   "execution_count": 11,
   "metadata": {
    "scrolled": false
   },
   "outputs": [
    {
     "name": "stdout",
     "output_type": "stream",
     "text": [
      "+--------------------+--------------------+--------------------+--------------------+-------------------+--------------------+-------+-------------+--------------+--------------------+-----------+------------+-----+-----+\n",
      "|             address|          attributes|         business_id|          categories|               city|               hours|is_open|     latitude|     longitude|                name|postal_code|review_count|stars|state|\n",
      "+--------------------+--------------------+--------------------+--------------------+-------------------+--------------------+-------+-------------+--------------+--------------------+-----------+------------+-----+-----+\n",
      "|8261 Saint-Lauren...|[,, u'full_bar', ...|i_oghUPqLzzJtxC6Z...|Canadian (New), P...|           Montréal|[11:30-22:0, 11:3...|      1|   45.5397329|    -73.633639|            Braseiro|    H2P 2M1|          22|  4.0|   QC|\n",
      "|2425 Boulevard Go...|[,,,,,,, True,,, ...|735UkyT4px_oeW3iy...|  Parks, Active Life|           Montréal|[9:0-16:30, 9:0-1...|      1|45.5838977316| -73.653777726|Parc-nature de l'...|    H2B 1X7|          10|  4.5|   QC|\n",
      "|   10897 Rue du Pont|[,, u'full_bar', ...|SWX0K1dpy4fcRq-kt...|Landmarks & Histo...|           Montréal|[10:0-22:0, 10:0-...|      0|    45.574857|     -73.66113|  Bistro des Moulins|    H2B 2H3|           3|  3.5|   QC|\n",
      "|134 Rue Jean-Talon O|[,,, {'romantic':...|spi9UEWyNrq2O4y5D...|Vietnamese, Resta...|           Montréal|[17:0-20:0, 11:0-...|      0|   45.5331108|   -73.6195176|    Restaurant Nhu Y|    H2R 2X1|          11|  4.0|   QC|\n",
      "| 5411 rue Beaubien E|[,,,,,,,,,,, True...|cBQDYO0dIpG6--I3D...|Hair Removal, Bea...|           Montréal|[10:0-21:0,, 10:0...|      1|    45.575935|    -73.568558|    Secrets de Femme|    H1T 1W7|           3|  1.0|   QC|\n",
      "|580 boulevard Sai...|[,, 'full_bar', {...|v8zKjH1o_qAI4SBd3...|Restaurants, Cana...|              Laval|[11:0-23:0, 11:0-...|      1|45.5751900233|-73.7133273778|            Barbie's|    H7M 3Y2|          13|  3.0|   QC|\n",
      "|     1452 Rue Cunard|[,,,,,,, False,,,...|jqOwxL3g8ZIagujom...|Barbers, Beauty &...|              Laval|[10:0-20:0, 10:0-...|      1|45.5814235272|-73.7331728194|      Jim le Barbier|    H7S 2B7|           5|  4.5|   QC|\n",
      "|6950 Rue Saint-Denis|[,,,,,,,,,,,,,,,,...|NqpX1HsFVGwmnxnw_...|Restaurants, Amer...|           Montréal|                null|      0|   45.5370914|   -73.6121815|Aux Derniers Humains|    H2S 2S4|           8|  4.0|   QC|\n",
      "|7622 Rue Saint-Hu...|[,, u'full_bar', ...|3E0JDI0XMUoFztoEm...|     Nightlife, Bars|           Montréal|[16:0-3:0, 16:0-3...|      1|    45.543774|    -73.620155|           Le Record|    H2R 2N6|           3|  3.5|   QC|\n",
      "|3435 Boulevard St...|                null|4Rp1y8L_zecjHt6Av...|Cajun/Creole, Res...|           Montréal|                null|      1|   45.5128836|   -73.5699696|             Factory|    H2X 1C2|           3|  2.5|   QC|\n",
      "|417 Rue Saint-Pie...|[,, u'none', {'ro...|LF66oShCh30k5NOV6...|Coffee & Tea, Caf...|           Montréal|[8:0-18:0, 8:0-18...|      1|   45.5016615|    -73.556605|         Flyjin Café|        H2Y|          17|  4.5|   QC|\n",
      "|  2 Rue Sherbrooke E|[,, u'beer_and_wi...|9uhXxFrTR58KVD5fq...|Restaurants, Burg...|           Montréal|                null|      0| 45.512532975|-73.5692959126|        Jerry Ferrer|    H2X 1C2|          10|  4.0|   QC|\n",
      "|5300 rue Sherbroo...|[,,,,,,,,,,,,,,,,...|5GXKxdlJQOrmoPe0G...|Local Flavor, Chi...|           Montréal|[11:30-23:0, 11:3...|      0|   45.5679434|   -73.5526664|         Jardin Tiki|    H1V 1A1|           8|  2.5|   QC|\n",
      "|220 Boulevard de ...|[,, u'beer_and_wi...|6gorEMxDpiCTUmLXI...|Restaurants, Vege...|              Laval|[11:0-22:0, 11:0-...|      1|    45.576182|    -73.683505|     Tandoori Xpress|    H7G 2E1|           8|  2.5|   QC|\n",
      "|3878 Boulevard Sa...|[,,,,,,, True,,, ...|eJMbAEvDNyet8_Mma...|Beauty & Spas, Na...|           Montréal|[10:0-19:30,, 10:...|      1|    45.516051|    -73.577805|Ongles Spa St-Lau...|    H2W 1Y2|          16|  4.0|   QC|\n",
      "|  1801 Rue Ontario E|[,, u'full_bar', ...|CodoVn98WzIP2_NC1...|Restaurants, Cana...|           Montréal|[17:0-22:0,, 17:0...|      1|   45.5260887|   -73.5595135|Chez ma Grosse Tr...|    H2K 1T5|          30|  3.5|   QC|\n",
      "|3339 Boulevard de...|[,, u'full_bar', ...|4B8VnRAstRRshxiUz...|Restaurants, Sush...|Dollard-des-Ormeaux|[17:0-0:0, 17:0-2...|      1|    45.484315|    -73.795652|   Maiko Sushi - DDO|    H9B 1Z8|          51|  4.0|   QC|\n",
      "|12585 Sherbrooke ...|[,, u'full_bar', ...|8ELlbjnXfZAw4KbQR...|Italian, Restaurants|Pointe-Aux-Trembles|                null|      1|45.6509944559|-73.5120002206|      Tomate Basilic|    H1B 1C8|           8|  4.0|   QC|\n",
      "|4101 Rue Sherbroo...|[,,,,,,, True,,, ...|G_05ZI4Vpl4bxjjZR...|Arts & Entertainm...|           Montréal|[9:0-17:0,, 9:0-1...|      1|45.5603345562|-73.5612237261|Jardin Botanique ...|    H1X 2B2|         207|  4.5|   QC|\n",
      "|4299 rue Ontario Est|[,, u'none', {'ro...|G7sVtpD6aqpuUB4F3...|Breakfast & Brunc...|           Montréal|[6:45-19:0, 7:0-1...|      1|45.5524867983|-73.5399850964|          Hoche Café|    H1V 1K4|          65|  4.0|   QC|\n",
      "+--------------------+--------------------+--------------------+--------------------+-------------------+--------------------+-------+-------------+--------------+--------------------+-----------+------------+-----+-----+\n",
      "only showing top 20 rows\n",
      "\n"
     ]
    }
   ],
   "source": [
    "result = spark.sql(\"SELECT * FROM business WHERE state='QC'\")\n",
    "result.show()"
   ]
  },
  {
   "cell_type": "markdown",
   "metadata": {},
   "source": [
    "We often count things:"
   ]
  },
  {
   "cell_type": "code",
   "execution_count": 12,
   "metadata": {
    "scrolled": true
   },
   "outputs": [
    {
     "name": "stdout",
     "output_type": "stream",
     "text": [
      "+--------+\n",
      "|count(1)|\n",
      "+--------+\n",
      "|    9219|\n",
      "+--------+\n",
      "\n"
     ]
    }
   ],
   "source": [
    "result = spark.sql(\"SELECT count(*) FROM business WHERE state='QC'\")\n",
    "result.show()"
   ]
  },
  {
   "cell_type": "markdown",
   "metadata": {},
   "source": [
    "Clean up the column name:"
   ]
  },
  {
   "cell_type": "code",
   "execution_count": 13,
   "metadata": {
    "scrolled": true
   },
   "outputs": [
    {
     "name": "stdout",
     "output_type": "stream",
     "text": [
      "+---------+\n",
      "|the_count|\n",
      "+---------+\n",
      "|     9219|\n",
      "+---------+\n",
      "\n"
     ]
    }
   ],
   "source": [
    "result = spark.sql(\"SELECT count(*) AS the_count FROM business WHERE state='QC'\")\n",
    "result.show()"
   ]
  },
  {
   "cell_type": "markdown",
   "metadata": {},
   "source": [
    "Show some grouping (and query formatting):"
   ]
  },
  {
   "cell_type": "code",
   "execution_count": 14,
   "metadata": {},
   "outputs": [
    {
     "name": "stdout",
     "output_type": "stream",
     "text": [
      "+-----+--------+\n",
      "|state|count(1)|\n",
      "+-----+--------+\n",
      "|   AZ|   56686|\n",
      "|   SC|    1162|\n",
      "|  BAS|       1|\n",
      "|   NJ|       1|\n",
      "|   VA|       2|\n",
      "|   QC|    9219|\n",
      "|   BC|       1|\n",
      "|   NV|   36312|\n",
      "|   WI|    5154|\n",
      "|   CA|      19|\n",
      "|   NE|       2|\n",
      "|   CT|       3|\n",
      "|   NC|   14720|\n",
      "|   VT|       2|\n",
      "|   IL|    1932|\n",
      "|  XGL|       1|\n",
      "|   WA|       3|\n",
      "|   AL|       3|\n",
      "|  XGM|       4|\n",
      "|   OH|   14697|\n",
      "+-----+--------+\n",
      "only showing top 20 rows\n",
      "\n"
     ]
    }
   ],
   "source": [
    "query = \"\"\"\n",
    "SELECT state,count(*) \n",
    "    FROM business \n",
    "    GROUP BY state\n",
    "\"\"\"\n",
    "result = spark.sql(query)\n",
    "result.show()"
   ]
  },
  {
   "cell_type": "code",
   "execution_count": 15,
   "metadata": {
    "scrolled": true
   },
   "outputs": [
    {
     "name": "stdout",
     "output_type": "stream",
     "text": [
      "+-----+-----+\n",
      "|state|count|\n",
      "+-----+-----+\n",
      "|   AZ|56686|\n",
      "|   NV|36312|\n",
      "|   ON|33412|\n",
      "|   NC|14720|\n",
      "|   OH|14697|\n",
      "|   PA|11216|\n",
      "|   QC| 9219|\n",
      "|   AB| 8012|\n",
      "|   WI| 5154|\n",
      "|   IL| 1932|\n",
      "|   SC| 1162|\n",
      "|   NY|   22|\n",
      "|   CA|   19|\n",
      "|   TX|    6|\n",
      "|   FL|    4|\n",
      "|  XGM|    4|\n",
      "|   WA|    3|\n",
      "|   AL|    3|\n",
      "|   CT|    3|\n",
      "|   NE|    2|\n",
      "+-----+-----+\n",
      "only showing top 20 rows\n",
      "\n"
     ]
    }
   ],
   "source": [
    "query = \"\"\"\n",
    "SELECT state,count(*) as count\n",
    "    FROM business \n",
    "    GROUP BY state\n",
    "    ORDER BY count(*) DESC\n",
    "\"\"\"\n",
    "result = spark.sql(query)\n",
    "result.show()"
   ]
  },
  {
   "cell_type": "markdown",
   "metadata": {},
   "source": [
    "Joining two tables:"
   ]
  },
  {
   "cell_type": "code",
   "execution_count": 16,
   "metadata": {
    "scrolled": false
   },
   "outputs": [
    {
     "name": "stdout",
     "output_type": "stream",
     "text": [
      "+--------------------+--------------------+\n",
      "|                name|                text|\n",
      "+--------------------+--------------------+\n",
      "|  Buffalo Wild Wings|Great for watchin...|\n",
      "|      Sonic Drive-In|Happy Hour 2-4 da...|\n",
      "|Arriba Mexican Grill|Good chips and sa...|\n",
      "|               Ah-So|The setting and d...|\n",
      "|            Petagogy|Molly is definate...|\n",
      "|Yupha's Thai Kitchen|It's true! The dr...|\n",
      "|      The Black Bull|Only worth a visi...|\n",
      "|             Fushimi|Hands down best A...|\n",
      "|           Starbucks|Sat in the drive ...|\n",
      "|       Brake Masters|Okay so I had a g...|\n",
      "|Le Montmartre Fre...|More parking in t...|\n",
      "|       Haus Murphy's|Best pretzels thi...|\n",
      "|   Krua Thai Cuisine|Having the yellow...|\n",
      "|  The Captain's Boil|When you receive ...|\n",
      "|          Burger Bar|2nd stop for the ...|\n",
      "|            Biên Hòa|Really delicious ...|\n",
      "| East End Food Co-Op|            Dinner!!|\n",
      "|   Noodles & Company|Long lines at lun...|\n",
      "|Findlay Honda Hen...|Go somewhere else...|\n",
      "|Alberta King of Subs|#poutinecrawl #yy...|\n",
      "+--------------------+--------------------+\n",
      "only showing top 20 rows\n",
      "\n"
     ]
    }
   ],
   "source": [
    "query = \"\"\"\n",
    "SELECT business.name, tip.text \n",
    "    FROM tip \n",
    "    LEFT JOIN business \n",
    "        ON tip.business_id = business.business_id\n",
    "\"\"\"\n",
    "result = spark.sql(query)\n",
    "result.show()"
   ]
  },
  {
   "cell_type": "markdown",
   "metadata": {},
   "source": [
    "## Sampling"
   ]
  },
  {
   "cell_type": "code",
   "execution_count": 17,
   "metadata": {},
   "outputs": [
    {
     "data": {
      "text/plain": [
       "1623"
      ]
     },
     "execution_count": 17,
     "metadata": {},
     "output_type": "execute_result"
    }
   ],
   "source": [
    "query = \"\"\"\n",
    "SELECT * FROM checkin TABLESAMPLE (1 PERCENT)\n",
    "\"\"\"\n",
    "result = spark.sql(query)\n",
    "result.count()"
   ]
  },
  {
   "cell_type": "markdown",
   "metadata": {},
   "source": [
    "## User-defined functions"
   ]
  },
  {
   "cell_type": "code",
   "execution_count": 18,
   "metadata": {},
   "outputs": [],
   "source": [
    "def square(x):\n",
    "    return x*x"
   ]
  },
  {
   "cell_type": "code",
   "execution_count": 19,
   "metadata": {},
   "outputs": [],
   "source": [
    "from pyspark.sql.functions import udf\n",
    "from pyspark.sql.types import IntegerType\n",
    "square_udf_int = udf(lambda z: square(z), IntegerType())"
   ]
  },
  {
   "cell_type": "code",
   "execution_count": 20,
   "metadata": {},
   "outputs": [
    {
     "data": {
      "text/plain": [
       "<function __main__.square(x)>"
      ]
     },
     "execution_count": 20,
     "metadata": {},
     "output_type": "execute_result"
    }
   ],
   "source": [
    "spark.udf.register('square_udf_int',square)"
   ]
  },
  {
   "cell_type": "code",
   "execution_count": 21,
   "metadata": {
    "scrolled": false
   },
   "outputs": [
    {
     "name": "stdout",
     "output_type": "stream",
     "text": [
      "+-------------------+\n",
      "|compliments_squared|\n",
      "+-------------------+\n",
      "|                  9|\n",
      "|                  9|\n",
      "|                  9|\n",
      "|                  9|\n",
      "|                  9|\n",
      "|                  9|\n",
      "|                  9|\n",
      "|                  9|\n",
      "|                  9|\n",
      "|                  9|\n",
      "|                  9|\n",
      "|                  9|\n",
      "|                  9|\n",
      "|                  9|\n",
      "|                  9|\n",
      "|                  9|\n",
      "|                  9|\n",
      "|                  9|\n",
      "|                  9|\n",
      "|                  9|\n",
      "+-------------------+\n",
      "only showing top 20 rows\n",
      "\n"
     ]
    }
   ],
   "source": [
    "query = \"\"\"\n",
    "SELECT square_udf_int(compliment_count) AS compliments_squared \n",
    "   FROM tip \n",
    "   ORDER BY compliments_squared DESC\n",
    "\"\"\"\n",
    "result = spark.sql(query)\n",
    "result.show()"
   ]
  },
  {
   "cell_type": "markdown",
   "metadata": {},
   "source": [
    "## Pandas interoperability"
   ]
  },
  {
   "cell_type": "code",
   "execution_count": 22,
   "metadata": {},
   "outputs": [
    {
     "name": "stdout",
     "output_type": "stream",
     "text": [
      "+-----+-----+\n",
      "|state|count|\n",
      "+-----+-----+\n",
      "|   AZ|56686|\n",
      "|   NV|36312|\n",
      "|   ON|33412|\n",
      "|   NC|14720|\n",
      "|   OH|14697|\n",
      "|   PA|11216|\n",
      "|   QC| 9219|\n",
      "|   AB| 8012|\n",
      "|   WI| 5154|\n",
      "|   IL| 1932|\n",
      "|   SC| 1162|\n",
      "|   NY|   22|\n",
      "|   CA|   19|\n",
      "|   TX|    6|\n",
      "|  XGM|    4|\n",
      "|   FL|    4|\n",
      "|   WA|    3|\n",
      "|   AL|    3|\n",
      "|   CT|    3|\n",
      "|  XWY|    2|\n",
      "+-----+-----+\n",
      "only showing top 20 rows\n",
      "\n"
     ]
    }
   ],
   "source": [
    "query = \"\"\"\n",
    "SELECT state,count(*) as count\n",
    "    FROM business \n",
    "    GROUP BY state\n",
    "    ORDER BY count(*) DESC\n",
    "\"\"\"\n",
    "result = spark.sql(query)\n",
    "result.show()"
   ]
  },
  {
   "cell_type": "code",
   "execution_count": 23,
   "metadata": {},
   "outputs": [],
   "source": [
    "pandas_result = result.toPandas()"
   ]
  },
  {
   "cell_type": "code",
   "execution_count": 24,
   "metadata": {},
   "outputs": [
    {
     "data": {
      "text/html": [
       "<div>\n",
       "<style scoped>\n",
       "    .dataframe tbody tr th:only-of-type {\n",
       "        vertical-align: middle;\n",
       "    }\n",
       "\n",
       "    .dataframe tbody tr th {\n",
       "        vertical-align: top;\n",
       "    }\n",
       "\n",
       "    .dataframe thead th {\n",
       "        text-align: right;\n",
       "    }\n",
       "</style>\n",
       "<table border=\"1\" class=\"dataframe\">\n",
       "  <thead>\n",
       "    <tr style=\"text-align: right;\">\n",
       "      <th></th>\n",
       "      <th>state</th>\n",
       "      <th>count</th>\n",
       "    </tr>\n",
       "  </thead>\n",
       "  <tbody>\n",
       "    <tr>\n",
       "      <th>0</th>\n",
       "      <td>AZ</td>\n",
       "      <td>56686</td>\n",
       "    </tr>\n",
       "    <tr>\n",
       "      <th>1</th>\n",
       "      <td>NV</td>\n",
       "      <td>36312</td>\n",
       "    </tr>\n",
       "    <tr>\n",
       "      <th>2</th>\n",
       "      <td>ON</td>\n",
       "      <td>33412</td>\n",
       "    </tr>\n",
       "    <tr>\n",
       "      <th>3</th>\n",
       "      <td>NC</td>\n",
       "      <td>14720</td>\n",
       "    </tr>\n",
       "    <tr>\n",
       "      <th>4</th>\n",
       "      <td>OH</td>\n",
       "      <td>14697</td>\n",
       "    </tr>\n",
       "    <tr>\n",
       "      <th>5</th>\n",
       "      <td>PA</td>\n",
       "      <td>11216</td>\n",
       "    </tr>\n",
       "    <tr>\n",
       "      <th>6</th>\n",
       "      <td>QC</td>\n",
       "      <td>9219</td>\n",
       "    </tr>\n",
       "    <tr>\n",
       "      <th>7</th>\n",
       "      <td>AB</td>\n",
       "      <td>8012</td>\n",
       "    </tr>\n",
       "    <tr>\n",
       "      <th>8</th>\n",
       "      <td>WI</td>\n",
       "      <td>5154</td>\n",
       "    </tr>\n",
       "    <tr>\n",
       "      <th>9</th>\n",
       "      <td>IL</td>\n",
       "      <td>1932</td>\n",
       "    </tr>\n",
       "    <tr>\n",
       "      <th>10</th>\n",
       "      <td>SC</td>\n",
       "      <td>1162</td>\n",
       "    </tr>\n",
       "    <tr>\n",
       "      <th>11</th>\n",
       "      <td>NY</td>\n",
       "      <td>22</td>\n",
       "    </tr>\n",
       "    <tr>\n",
       "      <th>12</th>\n",
       "      <td>CA</td>\n",
       "      <td>19</td>\n",
       "    </tr>\n",
       "    <tr>\n",
       "      <th>13</th>\n",
       "      <td>TX</td>\n",
       "      <td>6</td>\n",
       "    </tr>\n",
       "    <tr>\n",
       "      <th>14</th>\n",
       "      <td>XGM</td>\n",
       "      <td>4</td>\n",
       "    </tr>\n",
       "    <tr>\n",
       "      <th>15</th>\n",
       "      <td>FL</td>\n",
       "      <td>4</td>\n",
       "    </tr>\n",
       "    <tr>\n",
       "      <th>16</th>\n",
       "      <td>CT</td>\n",
       "      <td>3</td>\n",
       "    </tr>\n",
       "    <tr>\n",
       "      <th>17</th>\n",
       "      <td>WA</td>\n",
       "      <td>3</td>\n",
       "    </tr>\n",
       "    <tr>\n",
       "      <th>18</th>\n",
       "      <td>AL</td>\n",
       "      <td>3</td>\n",
       "    </tr>\n",
       "    <tr>\n",
       "      <th>19</th>\n",
       "      <td>VA</td>\n",
       "      <td>2</td>\n",
       "    </tr>\n",
       "    <tr>\n",
       "      <th>20</th>\n",
       "      <td>NE</td>\n",
       "      <td>2</td>\n",
       "    </tr>\n",
       "    <tr>\n",
       "      <th>21</th>\n",
       "      <td>VT</td>\n",
       "      <td>2</td>\n",
       "    </tr>\n",
       "    <tr>\n",
       "      <th>22</th>\n",
       "      <td>XWY</td>\n",
       "      <td>2</td>\n",
       "    </tr>\n",
       "    <tr>\n",
       "      <th>23</th>\n",
       "      <td>GA</td>\n",
       "      <td>2</td>\n",
       "    </tr>\n",
       "    <tr>\n",
       "      <th>24</th>\n",
       "      <td>AK</td>\n",
       "      <td>2</td>\n",
       "    </tr>\n",
       "    <tr>\n",
       "      <th>25</th>\n",
       "      <td>BAS</td>\n",
       "      <td>1</td>\n",
       "    </tr>\n",
       "    <tr>\n",
       "      <th>26</th>\n",
       "      <td>NJ</td>\n",
       "      <td>1</td>\n",
       "    </tr>\n",
       "    <tr>\n",
       "      <th>27</th>\n",
       "      <td>BC</td>\n",
       "      <td>1</td>\n",
       "    </tr>\n",
       "    <tr>\n",
       "      <th>28</th>\n",
       "      <td>XGL</td>\n",
       "      <td>1</td>\n",
       "    </tr>\n",
       "    <tr>\n",
       "      <th>29</th>\n",
       "      <td>TN</td>\n",
       "      <td>1</td>\n",
       "    </tr>\n",
       "    <tr>\n",
       "      <th>30</th>\n",
       "      <td>NM</td>\n",
       "      <td>1</td>\n",
       "    </tr>\n",
       "    <tr>\n",
       "      <th>31</th>\n",
       "      <td>DUR</td>\n",
       "      <td>1</td>\n",
       "    </tr>\n",
       "    <tr>\n",
       "      <th>32</th>\n",
       "      <td>DOW</td>\n",
       "      <td>1</td>\n",
       "    </tr>\n",
       "    <tr>\n",
       "      <th>33</th>\n",
       "      <td>CON</td>\n",
       "      <td>1</td>\n",
       "    </tr>\n",
       "    <tr>\n",
       "      <th>34</th>\n",
       "      <td>AR</td>\n",
       "      <td>1</td>\n",
       "    </tr>\n",
       "    <tr>\n",
       "      <th>35</th>\n",
       "      <td>UT</td>\n",
       "      <td>1</td>\n",
       "    </tr>\n",
       "  </tbody>\n",
       "</table>\n",
       "</div>"
      ],
      "text/plain": [
       "   state  count\n",
       "0     AZ  56686\n",
       "1     NV  36312\n",
       "2     ON  33412\n",
       "3     NC  14720\n",
       "4     OH  14697\n",
       "5     PA  11216\n",
       "6     QC   9219\n",
       "7     AB   8012\n",
       "8     WI   5154\n",
       "9     IL   1932\n",
       "10    SC   1162\n",
       "11    NY     22\n",
       "12    CA     19\n",
       "13    TX      6\n",
       "14   XGM      4\n",
       "15    FL      4\n",
       "16    CT      3\n",
       "17    WA      3\n",
       "18    AL      3\n",
       "19    VA      2\n",
       "20    NE      2\n",
       "21    VT      2\n",
       "22   XWY      2\n",
       "23    GA      2\n",
       "24    AK      2\n",
       "25   BAS      1\n",
       "26    NJ      1\n",
       "27    BC      1\n",
       "28   XGL      1\n",
       "29    TN      1\n",
       "30    NM      1\n",
       "31   DUR      1\n",
       "32   DOW      1\n",
       "33   CON      1\n",
       "34    AR      1\n",
       "35    UT      1"
      ]
     },
     "execution_count": 24,
     "metadata": {},
     "output_type": "execute_result"
    }
   ],
   "source": [
    "pandas_result"
   ]
  },
  {
   "cell_type": "code",
   "execution_count": null,
   "metadata": {},
   "outputs": [],
   "source": []
  },
  {
   "cell_type": "code",
   "execution_count": null,
   "metadata": {},
   "outputs": [],
   "source": []
  }
 ],
 "metadata": {
  "kernelspec": {
   "display_name": "Python 3",
   "language": "python",
   "name": "python3"
  },
  "language_info": {
   "codemirror_mode": {
    "name": "ipython",
    "version": 3
   },
   "file_extension": ".py",
   "mimetype": "text/x-python",
   "name": "python",
   "nbconvert_exporter": "python",
   "pygments_lexer": "ipython3",
   "version": "3.8.5"
  }
 },
 "nbformat": 4,
 "nbformat_minor": 2
}
