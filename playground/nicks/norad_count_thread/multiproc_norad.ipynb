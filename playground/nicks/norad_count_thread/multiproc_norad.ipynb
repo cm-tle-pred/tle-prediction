{
 "cells": [
  {
   "cell_type": "code",
   "execution_count": 1,
   "metadata": {},
   "outputs": [],
   "source": [
    "import os\n",
    "\n",
    "csv_store_path = os.environ['GP_HIST_PATH']\n",
    "#csv_store_path = os.environ['my_home_path'] + '\\data\\space-track-gp-hist-sample'\n",
    "file_list = 'all_files.txt'\n",
    "\n",
    "# write a file containing all the file names\n",
    "files = sorted([x for x in os.listdir(f'{csv_store_path}/') if x.endswith(\".csv.gz\")])\n",
    "with open(file_list, 'w+') as f:\n",
    "    for file in files:\n",
    "        f.write(csv_store_path + '\\\\' + file + '\\n')"
   ]
  },
  {
   "cell_type": "code",
   "execution_count": 4,
   "metadata": {},
   "outputs": [
    {
     "name": "stdout",
     "output_type": "stream",
     "text": [
      "Overwriting multiproc_test.py\n"
     ]
    }
   ],
   "source": [
    "%%file multiproc_test.py\n",
    "import concurrent.futures\n",
    "import pandas as pd\n",
    "from collections import Counter\n",
    "from time import time\n",
    "\n",
    "def concurrent_task(file_path):\n",
    "    try:\n",
    "        df = pd.read_csv(file_path, compression='gzip', low_memory=False)\n",
    "        df = df[(df.MEAN_MOTION > 11.25) & (df.ECCENTRICITY < 0.25) & (df.)]\n",
    "    except:\n",
    "        raise Exception(f'Failed to open {file_path}')\n",
    "    return Counter(df.NORAD_CAT_ID.to_list())\n",
    "\n",
    "def write_output(all_counts):\n",
    "    with open('multiproc_output.txt', 'w+') as f:\n",
    "        for k,v in all_counts.items():\n",
    "            f.write(str(k) + ',' + str(v) + '\\n')\n",
    "\n",
    "def main():\n",
    "    file_list = 'all_files.txt'\n",
    "    \n",
    "    ts = time()\n",
    "    all_counts = Counter()\n",
    "    files = [file[:-1] for file in open(file_list).readlines()]\n",
    "\n",
    "    with concurrent.futures.ProcessPoolExecutor() as executor:\n",
    "        results = executor.map(concurrent_task, files)\n",
    "        for result in results:\n",
    "            all_counts += result\n",
    "    print(f'Took {time()-ts}')\n",
    "    write_output(all_counts)\n",
    "    \n",
    "\n",
    "if __name__ == '__main__':\n",
    "    main()"
   ]
  },
  {
   "cell_type": "code",
   "execution_count": 5,
   "metadata": {},
   "outputs": [
    {
     "name": "stdout",
     "output_type": "stream",
     "text": [
      "Took 192.64757251739502\n"
     ]
    }
   ],
   "source": [
    "!python multiproc_test.py"
   ]
  }
 ],
 "metadata": {
  "kernelspec": {
   "display_name": "Python 3",
   "language": "python",
   "name": "python3"
  },
  "language_info": {
   "codemirror_mode": {
    "name": "ipython",
    "version": 3
   },
   "file_extension": ".py",
   "mimetype": "text/x-python",
   "name": "python",
   "nbconvert_exporter": "python",
   "pygments_lexer": "ipython3",
   "version": "3.8.5"
  }
 },
 "nbformat": 4,
 "nbformat_minor": 4
}
