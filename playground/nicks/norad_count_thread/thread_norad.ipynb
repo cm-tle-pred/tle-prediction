{
 "cells": [
  {
   "cell_type": "code",
   "execution_count": 15,
   "metadata": {},
   "outputs": [
    {
     "data": {
      "text/plain": [
       "'D:\\\\Datasets\\\\Space-Track gp_history'"
      ]
     },
     "execution_count": 15,
     "metadata": {},
     "output_type": "execute_result"
    }
   ],
   "source": [
    "import os\n",
    "import threading\n",
    "import pandas as pd\n",
    "from collections import Counter\n",
    "\n",
    "csv_store_path = os.environ['GP_HIST_PATH']\n",
    "#csv_store_path = os.environ['my_home_path'] + '\\data\\space-track-gp-hist-sample'\n",
    "file_list = 'all_files.txt'\n",
    "csv_store_path"
   ]
  },
  {
   "cell_type": "code",
   "execution_count": 2,
   "metadata": {},
   "outputs": [],
   "source": [
    "all_counts = Counter()\n",
    "lock = threading.Lock()\n",
    "\n",
    "def task(file_path):\n",
    "    try:\n",
    "        df = pd.read_csv(file_path, compression='gzip', low_memory=False)\n",
    "        df = df[(df.MEAN_MOTION > 11.25) & (df.ECCENTRICITY < 0.25)]\n",
    "    except:\n",
    "        raise Exception(f'Failed to open {file_path}') \n",
    "    \n",
    "    with lock:\n",
    "        all_counts += Counter(df.NORAD_CAT_ID.to_list())"
   ]
  },
  {
   "cell_type": "code",
   "execution_count": 13,
   "metadata": {},
   "outputs": [
    {
     "name": "stdout",
     "output_type": "stream",
     "text": [
      "Took %s seconds 4.409718990325928\n"
     ]
    }
   ],
   "source": [
    "# https://www.toptal.com/python/beginners-guide-to-concurrency-and-parallelism-in-python\n",
    "from concurrent.futures import ProcessPoolExecutor, ThreadPoolExecutor\n",
    "from time import time\n",
    "\n",
    "def multiproc():\n",
    "    ts = time()\n",
    "    files = [file[:-1] for file in open(file_list).readlines()]\n",
    "    \n",
    "    #with ProcessPoolExecutor() as executor:\n",
    "    with ThreadPoolExecutor() as executor:\n",
    "        executor.map(task, files)\n",
    "    print('Took %s seconds', time() - ts)\n",
    "    \n",
    "multiproc()"
   ]
  },
  {
   "cell_type": "code",
   "execution_count": 14,
   "metadata": {},
   "outputs": [
    {
     "data": {
      "text/plain": [
       "Counter()"
      ]
     },
     "execution_count": 14,
     "metadata": {},
     "output_type": "execute_result"
    }
   ],
   "source": [
    "all_counts"
   ]
  },
  {
   "cell_type": "code",
   "execution_count": 7,
   "metadata": {},
   "outputs": [
    {
     "data": {
      "text/plain": [
       "['D:\\\\Datasets\\\\Space-Track gp_history\\\\000000001-000100186.csv.gz',\n",
       " 'D:\\\\Datasets\\\\Space-Track gp_history\\\\000100187-000200206.csv.gz',\n",
       " 'D:\\\\Datasets\\\\Space-Track gp_history\\\\000200207-000300225.csv.gz',\n",
       " 'D:\\\\Datasets\\\\Space-Track gp_history\\\\000300226-000400247.csv.gz',\n",
       " 'D:\\\\Datasets\\\\Space-Track gp_history\\\\000400248-000500273.csv.gz']"
      ]
     },
     "execution_count": 7,
     "metadata": {},
     "output_type": "execute_result"
    }
   ],
   "source": [
    "[file[:-1] for file in open(file_list).readlines()]"
   ]
  },
  {
   "cell_type": "code",
   "execution_count": 3,
   "metadata": {},
   "outputs": [
    {
     "name": "stdout",
     "output_type": "stream",
     "text": [
      "Wall time: 1.99 ms\n"
     ]
    },
    {
     "name": "stderr",
     "output_type": "stream",
     "text": [
      "Exception in thread Thread-10:\n",
      "Traceback (most recent call last):\n",
      "  File \"C:\\ProgramData\\Anaconda3\\envs\\cmtle\\lib\\threading.py\", line 932, in _bootstrap_inner\n",
      "Exception in thread Thread-7:\n",
      "Traceback (most recent call last):\n",
      "  File \"C:\\ProgramData\\Anaconda3\\envs\\cmtle\\lib\\threading.py\", line 932, in _bootstrap_inner\n",
      "    self.run()\n",
      "  File \"C:\\ProgramData\\Anaconda3\\envs\\cmtle\\lib\\threading.py\", line 870, in run\n",
      "    self._target(*self._args, **self._kwargs)\n",
      "  File \"<ipython-input-2-dfaeaf2d5df7>\", line 12, in threaded_task\n",
      "    self.run()\n",
      "  File \"C:\\ProgramData\\Anaconda3\\envs\\cmtle\\lib\\threading.py\", line 870, in run\n",
      "UnboundLocalError: local variable 'all_counts' referenced before assignment\n",
      "    self._target(*self._args, **self._kwargs)\n",
      "  File \"<ipython-input-2-dfaeaf2d5df7>\", line 12, in threaded_task\n",
      "UnboundLocalError: local variable 'all_counts' referenced before assignment\n",
      "Exception in thread Thread-9:\n",
      "Traceback (most recent call last):\n",
      "  File \"C:\\ProgramData\\Anaconda3\\envs\\cmtle\\lib\\threading.py\", line 932, in _bootstrap_inner\n",
      "    self.run()\n",
      "  File \"C:\\ProgramData\\Anaconda3\\envs\\cmtle\\lib\\threading.py\", line 870, in run\n",
      "    self._target(*self._args, **self._kwargs)\n",
      "  File \"<ipython-input-2-dfaeaf2d5df7>\", line 12, in threaded_task\n",
      "UnboundLocalError: local variable 'all_counts' referenced before assignment\n",
      "Exception in thread Thread-6:\n",
      "Traceback (most recent call last):\n",
      "  File \"C:\\ProgramData\\Anaconda3\\envs\\cmtle\\lib\\threading.py\", line 932, in _bootstrap_inner\n",
      "    self.run()\n",
      "  File \"C:\\ProgramData\\Anaconda3\\envs\\cmtle\\lib\\threading.py\", line 870, in run\n",
      "    self._target(*self._args, **self._kwargs)\n",
      "  File \"<ipython-input-2-dfaeaf2d5df7>\", line 12, in threaded_task\n",
      "UnboundLocalError: local variable 'all_counts' referenced before assignment\n",
      "Exception in thread Thread-8:\n",
      "Traceback (most recent call last):\n",
      "  File \"C:\\ProgramData\\Anaconda3\\envs\\cmtle\\lib\\threading.py\", line 932, in _bootstrap_inner\n",
      "    self.run()\n",
      "  File \"C:\\ProgramData\\Anaconda3\\envs\\cmtle\\lib\\threading.py\", line 870, in run\n",
      "    self._target(*self._args, **self._kwargs)\n",
      "  File \"<ipython-input-2-dfaeaf2d5df7>\", line 12, in threaded_task\n",
      "UnboundLocalError: local variable 'all_counts' referenced before assignment\n"
     ]
    }
   ],
   "source": [
    "%%time\n",
    "with open(file_list, 'r') as f:\n",
    "    for file in f.readlines():\n",
    "        file = file[:-1]\n",
    "        x = threading.Thread(target=task, args=(file,))\n",
    "        x.start()"
   ]
  },
  {
   "cell_type": "code",
   "execution_count": 7,
   "metadata": {},
   "outputs": [
    {
     "data": {
      "text/plain": [
       "dict_items([])"
      ]
     },
     "execution_count": 7,
     "metadata": {},
     "output_type": "execute_result"
    }
   ],
   "source": [
    "all_counts.items()"
   ]
  },
  {
   "cell_type": "code",
   "execution_count": null,
   "metadata": {},
   "outputs": [],
   "source": [
    "with open('threaded_output.txt', 'w+') as f:\n",
    "    for k,v in all_counts.items():\n",
    "        f.write(str(k) + ',' + str(v))"
   ]
  }
 ],
 "metadata": {
  "kernelspec": {
   "display_name": "Python 3",
   "language": "python",
   "name": "python3"
  },
  "language_info": {
   "codemirror_mode": {
    "name": "ipython",
    "version": 3
   },
   "file_extension": ".py",
   "mimetype": "text/x-python",
   "name": "python",
   "nbconvert_exporter": "python",
   "pygments_lexer": "ipython3",
   "version": "3.8.5"
  }
 },
 "nbformat": 4,
 "nbformat_minor": 4
}
