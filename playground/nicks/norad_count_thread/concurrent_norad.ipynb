{
 "cells": [
  {
   "cell_type": "code",
   "execution_count": 9,
   "metadata": {},
   "outputs": [
    {
     "data": {
      "text/plain": [
       "'D:\\\\Datasets\\\\Space-Track gp_history'"
      ]
     },
     "execution_count": 9,
     "metadata": {},
     "output_type": "execute_result"
    }
   ],
   "source": [
    "import os\n",
    "import threading\n",
    "import concurrent.futures\n",
    "import pandas as pd\n",
    "from collections import Counter\n",
    "\n",
    "csv_store_path = os.environ['GP_HIST_PATH']\n",
    "#csv_store_path = os.environ['my_home_path'] + '\\data\\space-track-gp-hist-sample'\n",
    "file_list = 'all_files.txt'\n",
    "csv_store_path"
   ]
  },
  {
   "cell_type": "code",
   "execution_count": 74,
   "metadata": {},
   "outputs": [
    {
     "data": {
      "text/plain": [
       "20"
      ]
     },
     "execution_count": 74,
     "metadata": {},
     "output_type": "execute_result"
    }
   ],
   "source": [
    "import multiprocessing\n",
    "\n",
    "multiprocessing.cpu_count()"
   ]
  },
  {
   "cell_type": "code",
   "execution_count": 21,
   "metadata": {},
   "outputs": [],
   "source": [
    "# write a file containing all the file names\n",
    "files = sorted([x for x in os.listdir(f'{csv_store_path}/') if x.endswith(\".csv.gz\")])\n",
    "with open(file_list, 'w+') as f:\n",
    "    for file in files:\n",
    "        f.write(csv_store_path + '\\\\' + file + '\\n')"
   ]
  },
  {
   "cell_type": "code",
   "execution_count": null,
   "metadata": {},
   "outputs": [],
   "source": [
    "%%time\n",
    "all_counts = Counter()\n",
    "files = [file[:-1] for file in open(file_list).readlines()]\n",
    "\n",
    "with concurrent.futures.ThreadPoolExecutor() as executor: # 12min 18s\n",
    "    results = executor.map(concurrent_task, files)\n",
    "    for result in results:\n",
    "        all_counts += result"
   ]
  },
  {
   "cell_type": "code",
   "execution_count": 71,
   "metadata": {},
   "outputs": [],
   "source": [
    "# %%time\n",
    "# all_counts = Counter()\n",
    "# files = [file[:-1] for file in open(file_list).readlines()]\n",
    "\n",
    "# with concurrent.futures.ProcessPoolExecutor() as executor: # error\n",
    "# #with concurrent.futures.ThreadPoolExecutor() as executor: #  12min 32s / 2.59s\n",
    "#     futures = [executor.submit(concurrent_task, file) for file in files]\n",
    "#     for f in concurrent.futures.as_completed(futures):\n",
    "#         norad_counts = f.result()\n",
    "#         all_counts += norad_counts"
   ]
  },
  {
   "cell_type": "code",
   "execution_count": 72,
   "metadata": {},
   "outputs": [],
   "source": [
    "# %%time\n",
    "# all_counts = Counter()\n",
    "# files = [file[:-1] for file in open(file_list).readlines()]\n",
    "\n",
    "# with concurrent.futures.ProcessPoolExecutor() as executor: # errors\n",
    "# #with concurrent.futures.ThreadPoolExecutor() as executor: #24min 54s / 4.69 s\n",
    "#     for file in files:\n",
    "#         future = executor.submit(concurrent_task, file)\n",
    "#         norad_counts = future.result()\n",
    "#         all_counts += norad_counts"
   ]
  },
  {
   "cell_type": "code",
   "execution_count": 16,
   "metadata": {},
   "outputs": [],
   "source": [
    "with open('concurrent_output.txt', 'w+') as f:\n",
    "    for k,v in all_counts.items():\n",
    "        f.write(str(k) + ',' + str(v) + '\\n')"
   ]
  }
 ],
 "metadata": {
  "kernelspec": {
   "display_name": "Python 3",
   "language": "python",
   "name": "python3"
  },
  "language_info": {
   "codemirror_mode": {
    "name": "ipython",
    "version": 3
   },
   "file_extension": ".py",
   "mimetype": "text/x-python",
   "name": "python",
   "nbconvert_exporter": "python",
   "pygments_lexer": "ipython3",
   "version": "3.8.5"
  }
 },
 "nbformat": 4,
 "nbformat_minor": 4
}
