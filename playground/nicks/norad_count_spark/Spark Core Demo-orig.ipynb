{
 "cells": [
  {
   "cell_type": "markdown",
   "metadata": {},
   "source": [
    "# Spark Core Demo"
   ]
  },
  {
   "cell_type": "code",
   "execution_count": 1,
   "metadata": {},
   "outputs": [],
   "source": [
    "from pyspark.sql import SparkSession\n",
    "spark = SparkSession \\\n",
    "    .builder \\\n",
    "    .master(\"local[*]\") \\\n",
    "    .appName('My First Spark application') \\\n",
    "    .getOrCreate() \n",
    "\n",
    "sc = spark.sparkContext"
   ]
  },
  {
   "cell_type": "markdown",
   "metadata": {},
   "source": [
    "# RDDs (Week 2)"
   ]
  },
  {
   "cell_type": "code",
   "execution_count": 2,
   "metadata": {},
   "outputs": [],
   "source": [
    "lines = sc.textFile('../non_auto_assignments/data/misc/blurb.txt')"
   ]
  },
  {
   "cell_type": "code",
   "execution_count": 3,
   "metadata": {},
   "outputs": [],
   "source": [
    "data_lines = lines.filter(lambda x: 'data' in x)"
   ]
  },
  {
   "cell_type": "code",
   "execution_count": 4,
   "metadata": {},
   "outputs": [
    {
     "data": {
      "text/plain": [
       "['The University of Michigan School of Information is pleased to offer a new, fully online, master’s program in applied data science. We teach comprehensive applied data science at the intersection of people and technology. ',\n",
       " 'We provide critical insight into data collection, computation, and analytics, and help develop hands-on skills using a multidisciplinary approach embedded in information, computer science, and statistics. ',\n",
       " 'Coursework and projects focus on applying data science to real-world problems. ']"
      ]
     },
     "execution_count": 4,
     "metadata": {},
     "output_type": "execute_result"
    }
   ],
   "source": [
    "data_lines.take(10)"
   ]
  },
  {
   "cell_type": "code",
   "execution_count": 5,
   "metadata": {},
   "outputs": [
    {
     "data": {
      "text/plain": [
       "'The University of Michigan School of Information is pleased to offer a new, fully online, master’s program in applied data science. We teach comprehensive applied data science at the intersection of people and technology. '"
      ]
     },
     "execution_count": 5,
     "metadata": {},
     "output_type": "execute_result"
    }
   ],
   "source": [
    "data_lines.first()"
   ]
  },
  {
   "cell_type": "code",
   "execution_count": 6,
   "metadata": {},
   "outputs": [
    {
     "data": {
      "text/plain": [
       "3"
      ]
     },
     "execution_count": 6,
     "metadata": {},
     "output_type": "execute_result"
    }
   ],
   "source": [
    "data_lines.count()"
   ]
  },
  {
   "cell_type": "code",
   "execution_count": 7,
   "metadata": {},
   "outputs": [
    {
     "data": {
      "text/plain": [
       "['The University of Michigan School of Information is pleased to offer a new, fully online, master’s program in applied data science. We teach comprehensive applied data science at the intersection of people and technology. ',\n",
       " 'We provide critical insight into data collection, computation, and analytics, and help develop hands-on skills using a multidisciplinary approach embedded in information, computer science, and statistics. ',\n",
       " 'Coursework and projects focus on applying data science to real-world problems. ']"
      ]
     },
     "execution_count": 7,
     "metadata": {},
     "output_type": "execute_result"
    }
   ],
   "source": [
    "data_lines.collect()"
   ]
  },
  {
   "cell_type": "code",
   "execution_count": 36,
   "metadata": {},
   "outputs": [
    {
     "name": "stdout",
     "output_type": "stream",
     "text": [
      "1 \n",
      "4 \n",
      "9 \n",
      "16 \n",
      "Wall time: 7.77 s\n"
     ]
    }
   ],
   "source": [
    "%%time\n",
    "nums = sc.parallelize([1, 2, 3, 4])\n",
    "squared = nums.map(lambda x: x * x).collect()\n",
    "for num in squared:\n",
    "    print('%i ' % (num))\n"
   ]
  },
  {
   "cell_type": "code",
   "execution_count": 9,
   "metadata": {},
   "outputs": [
    {
     "name": "stdout",
     "output_type": "stream",
     "text": [
      "processor count: 20\n"
     ]
    },
    {
     "data": {
      "text/plain": [
       "svmem(total=68463136768, available=55353417728, percent=19.1, used=13109719040, free=55353417728)"
      ]
     },
     "execution_count": 9,
     "metadata": {},
     "output_type": "execute_result"
    }
   ],
   "source": [
    "import multiprocessing\n",
    "import psutil\n",
    "print(\"processor count: \" + str(multiprocessing.cpu_count()))\n",
    "psutil.virtual_memory()"
   ]
  },
  {
   "cell_type": "code",
   "execution_count": 10,
   "metadata": {},
   "outputs": [
    {
     "name": "stdout",
     "output_type": "stream",
     "text": [
      "['hello', 'world', 'hi', 'hi', 'world', 'hello', 'everyone', 'hello']\n",
      "[['hello', 'world'], ['hi'], ['hi', 'world'], ['hello', 'everyone'], ['hello']]\n",
      "[('hello', 1), ('world', 1), ('hi', 1), ('hi', 1), ('world', 1), ('hello', 1), ('everyone', 1), ('hello', 1)]\n"
     ]
    }
   ],
   "source": [
    "#Sometimes we want to produce multiple output elements for each input element.\n",
    "#The operation to do this is called flatMap(). As with map(), the function we\n",
    "#provide to flatMap() is called individually for each element in our input RDD.\n",
    "#Instead of returning a single element, we return an iterator with our return \n",
    "#values. Rather than producing an RDD of iterators, we get back an RDD that\n",
    "#consists of the elements from all of the iterators.\n",
    "\n",
    "lines = sc.parallelize([\"hello world\", \"hi\", \"hi world\", \"hello everyone\", \"hello\"])\n",
    "words = lines.flatMap(lambda line: line.split(\" \"))\n",
    "print(words.collect()) \n",
    "\n",
    "word_map = lines.map(lambda line:line.split(' '))\n",
    "print(word_map.collect()) \n",
    "\n",
    "word_counts = words.map(lambda word: (word,1))\n",
    "print(word_counts.collect())"
   ]
  },
  {
   "cell_type": "code",
   "execution_count": 11,
   "metadata": {},
   "outputs": [],
   "source": [
    "wc = word_counts.reduceByKey(lambda accumulator,value: accumulator + value)"
   ]
  },
  {
   "cell_type": "code",
   "execution_count": 12,
   "metadata": {},
   "outputs": [
    {
     "data": {
      "text/plain": [
       "[('hello', 3), ('world', 2), ('hi', 2), ('everyone', 1)]"
      ]
     },
     "execution_count": 12,
     "metadata": {},
     "output_type": "execute_result"
    }
   ],
   "source": [
    "wc.take(10)"
   ]
  },
  {
   "cell_type": "code",
   "execution_count": 13,
   "metadata": {},
   "outputs": [
    {
     "data": {
      "text/plain": [
       "[('everyone', 1), ('hello', 3), ('hi', 2), ('world', 2)]"
      ]
     },
     "execution_count": 13,
     "metadata": {},
     "output_type": "execute_result"
    }
   ],
   "source": [
    "wc.sortByKey(lambda x,y: x+y).collect()"
   ]
  },
  {
   "cell_type": "code",
   "execution_count": 14,
   "metadata": {},
   "outputs": [
    {
     "data": {
      "text/plain": [
       "[('hello', 3), ('world', 2), ('hi', 2), ('everyone', 1)]"
      ]
     },
     "execution_count": 14,
     "metadata": {},
     "output_type": "execute_result"
    }
   ],
   "source": [
    "wc.sortBy(lambda x: x[1], ascending=False).take(10)"
   ]
  },
  {
   "cell_type": "code",
   "execution_count": 16,
   "metadata": {},
   "outputs": [],
   "source": [
    "business = spark.read.json('../non_auto_assignments/data/yelp_academic/yelp_academic_dataset_business.json.gz')\n",
    "checkin = spark.read.json('../non_auto_assignments/data/yelp_academic/yelp_academic_dataset_checkin.json.gz')\n",
    "# review = spark.read.json('../non_auto_assignments/data/yelp_academic/yelp_academic_dataset_review.json.gz')\n",
    "tip = spark.read.json('../non_auto_assignments/data/yelp_academic/yelp_academic_dataset_tip.json.gz')\n",
    "# user = spark.read.json('../non_auto_assignments/data/yelp_academic/yelp_academic_dataset_user.json.gz')"
   ]
  },
  {
   "cell_type": "code",
   "execution_count": null,
   "metadata": {},
   "outputs": [],
   "source": [
    "review.printSchema()"
   ]
  },
  {
   "cell_type": "code",
   "execution_count": null,
   "metadata": {},
   "outputs": [],
   "source": [
    "result = user.filter(user['compliment_cool'] > 5000).collect()"
   ]
  },
  {
   "cell_type": "code",
   "execution_count": 17,
   "metadata": {
    "scrolled": true
   },
   "outputs": [
    {
     "data": {
      "text/plain": [
       "Row(business_id='--1UhMGODdWsrMastO9DZw', date='2016-04-26 19:49:16, 2016-08-30 18:36:57, 2016-10-15 02:45:18, 2016-11-18 01:54:50, 2017-04-20 18:39:06, 2017-05-03 17:58:02')"
      ]
     },
     "execution_count": 17,
     "metadata": {},
     "output_type": "execute_result"
    }
   ],
   "source": [
    "checkin.first()"
   ]
  },
  {
   "cell_type": "code",
   "execution_count": 18,
   "metadata": {},
   "outputs": [
    {
     "data": {
      "text/plain": [
       "[('business_id', 'string'), ('date', 'string')]"
      ]
     },
     "execution_count": 18,
     "metadata": {},
     "output_type": "execute_result"
    }
   ],
   "source": [
    "checkin.dtypes"
   ]
  },
  {
   "cell_type": "code",
   "execution_count": 19,
   "metadata": {},
   "outputs": [
    {
     "data": {
      "text/plain": [
       "<pyspark.sql.group.GroupedData at 0x2ebf1025348>"
      ]
     },
     "execution_count": 19,
     "metadata": {},
     "output_type": "execute_result"
    }
   ],
   "source": [
    "checkin.groupby(['weekday','hour'])"
   ]
  },
  {
   "cell_type": "code",
   "execution_count": 20,
   "metadata": {},
   "outputs": [],
   "source": [
    "from pyspark.sql.functions import udf"
   ]
  },
  {
   "cell_type": "code",
   "execution_count": 21,
   "metadata": {},
   "outputs": [],
   "source": [
    "from pyspark.sql.types import IntegerType\n",
    "square_udf_int = udf(lambda z: square(z), IntegerType())"
   ]
  },
  {
   "cell_type": "code",
   "execution_count": 22,
   "metadata": {},
   "outputs": [],
   "source": [
    "from pyspark.sql.types import ArrayType,StringType\n",
    "datesplit = udf(lambda x: x.split(','),ArrayType(StringType()))"
   ]
  },
  {
   "cell_type": "code",
   "execution_count": 23,
   "metadata": {},
   "outputs": [
    {
     "data": {
      "text/plain": [
       "Row(business_id='--1UhMGODdWsrMastO9DZw', dates=['2016-04-26 19:49:16', ' 2016-08-30 18:36:57', ' 2016-10-15 02:45:18', ' 2016-11-18 01:54:50', ' 2017-04-20 18:39:06', ' 2017-05-03 17:58:02'])"
      ]
     },
     "execution_count": 23,
     "metadata": {},
     "output_type": "execute_result"
    }
   ],
   "source": [
    "(checkin.select('business_id',datesplit('date').alias('dates'))).first()"
   ]
  },
  {
   "cell_type": "code",
   "execution_count": 24,
   "metadata": {},
   "outputs": [],
   "source": [
    "from pyspark.sql.functions import explode"
   ]
  },
  {
   "cell_type": "code",
   "execution_count": 25,
   "metadata": {},
   "outputs": [
    {
     "data": {
      "text/plain": [
       "[Row(business_id='--1UhMGODdWsrMastO9DZw', dates=['2016-04-26 19:49:16', ' 2016-08-30 18:36:57', ' 2016-10-15 02:45:18', ' 2016-11-18 01:54:50', ' 2017-04-20 18:39:06', ' 2017-05-03 17:58:02'], checkin_date='2016-04-26 19:49:16'),\n",
       " Row(business_id='--1UhMGODdWsrMastO9DZw', dates=['2016-04-26 19:49:16', ' 2016-08-30 18:36:57', ' 2016-10-15 02:45:18', ' 2016-11-18 01:54:50', ' 2017-04-20 18:39:06', ' 2017-05-03 17:58:02'], checkin_date=' 2016-08-30 18:36:57'),\n",
       " Row(business_id='--1UhMGODdWsrMastO9DZw', dates=['2016-04-26 19:49:16', ' 2016-08-30 18:36:57', ' 2016-10-15 02:45:18', ' 2016-11-18 01:54:50', ' 2017-04-20 18:39:06', ' 2017-05-03 17:58:02'], checkin_date=' 2016-10-15 02:45:18'),\n",
       " Row(business_id='--1UhMGODdWsrMastO9DZw', dates=['2016-04-26 19:49:16', ' 2016-08-30 18:36:57', ' 2016-10-15 02:45:18', ' 2016-11-18 01:54:50', ' 2017-04-20 18:39:06', ' 2017-05-03 17:58:02'], checkin_date=' 2016-11-18 01:54:50'),\n",
       " Row(business_id='--1UhMGODdWsrMastO9DZw', dates=['2016-04-26 19:49:16', ' 2016-08-30 18:36:57', ' 2016-10-15 02:45:18', ' 2016-11-18 01:54:50', ' 2017-04-20 18:39:06', ' 2017-05-03 17:58:02'], checkin_date=' 2017-04-20 18:39:06'),\n",
       " Row(business_id='--1UhMGODdWsrMastO9DZw', dates=['2016-04-26 19:49:16', ' 2016-08-30 18:36:57', ' 2016-10-15 02:45:18', ' 2016-11-18 01:54:50', ' 2017-04-20 18:39:06', ' 2017-05-03 17:58:02'], checkin_date=' 2017-05-03 17:58:02'),\n",
       " Row(business_id='--6MefnULPED_I942VcFNA', dates=['2011-06-04 18:22:23', ' 2011-07-23 23:51:33', ' 2012-04-15 01:07:50', ' 2012-05-06 23:08:42', ' 2012-06-08 22:43:12', ' 2012-08-06 23:20:52', ' 2012-08-19 18:30:44', ' 2013-01-27 23:49:51', ' 2013-03-01 01:22:29', ' 2013-03-23 21:53:47', ' 2013-03-24 01:11:51', ' 2013-05-20 00:12:25', ' 2013-06-29 22:50:57', ' 2013-07-01 15:58:04', ' 2013-07-01 22:35:42', ' 2013-07-28 21:46:49', ' 2013-08-02 22:06:03', ' 2013-08-11 18:42:03', ' 2013-08-23 01:29:56', ' 2013-09-17 17:40:36', ' 2013-09-20 23:36:30', ' 2013-09-24 23:50:18', ' 2013-10-12 23:11:13', ' 2013-11-24 18:40:15', ' 2013-12-12 02:52:54', ' 2013-12-26 17:33:17', ' 2013-12-30 00:27:37', ' 2014-03-28 23:38:23', ' 2014-04-25 22:48:11', ' 2014-04-28 22:56:07', ' 2014-05-03 01:02:47', ' 2014-05-19 17:08:37', ' 2014-06-16 00:04:51', ' 2014-06-22 17:21:27', ' 2014-07-04 19:13:34', ' 2014-07-11 15:46:29', ' 2014-07-25 20:55:48', ' 2014-08-23 22:27:42', ' 2014-08-31 01:43:10', ' 2014-09-06 16:29:55', ' 2014-09-13 23:34:42', ' 2014-10-11 23:20:09', ' 2014-11-19 19:05:56', ' 2014-11-30 23:27:15', ' 2015-01-04 01:06:47', ' 2015-01-04 01:08:08', ' 2015-01-11 00:16:13', ' 2015-01-17 23:42:09', ' 2015-01-17 23:46:42', ' 2015-01-26 00:05:15', ' 2015-02-18 17:21:01', ' 2015-03-22 22:26:09', ' 2015-03-28 22:47:50', ' 2015-04-03 21:49:35', ' 2015-04-05 18:52:21', ' 2015-04-11 22:59:11', ' 2015-04-12 22:52:29', ' 2015-04-24 00:02:22', ' 2015-05-09 21:45:34', ' 2015-05-16 22:53:44', ' 2015-06-07 17:54:51', ' 2015-07-01 16:24:54', ' 2015-07-10 22:13:09', ' 2015-07-11 22:16:37', ' 2015-07-18 00:27:00', ' 2015-08-29 23:51:50', ' 2015-09-07 22:57:51', ' 2015-09-27 23:54:33', ' 2015-10-11 22:03:40', ' 2015-10-12 15:08:23', ' 2015-10-23 01:34:21', ' 2015-10-25 00:36:12', ' 2015-11-09 18:55:17', ' 2015-11-15 00:01:47', ' 2015-12-16 19:59:00', ' 2015-12-27 01:00:59', ' 2016-01-23 19:05:37', ' 2016-01-30 23:54:10', ' 2016-02-07 03:19:01', ' 2016-02-13 17:49:41', ' 2016-02-16 00:16:10', ' 2016-03-27 21:14:50', ' 2016-04-02 16:29:16', ' 2016-04-02 17:17:50', ' 2016-04-16 22:27:48', ' 2016-04-27 23:54:21', ' 2016-05-07 21:52:13', ' 2016-05-21 22:14:00', ' 2016-06-04 23:06:32', ' 2016-06-11 22:23:48', ' 2016-07-01 02:59:31', ' 2016-07-02 23:01:47', ' 2016-07-06 22:27:12', ' 2016-07-08 00:49:30', ' 2016-07-16 23:53:17', ' 2016-07-26 17:15:19', ' 2016-08-01 22:46:32', ' 2016-08-02 00:14:10', ' 2016-08-18 03:19:16', ' 2016-08-20 12:47:15', ' 2016-08-21 12:24:31', ' 2016-09-15 20:31:53', ' 2016-10-03 01:04:15', ' 2016-10-03 01:04:25', ' 2016-11-26 00:48:51', ' 2016-12-24 17:56:29', ' 2016-12-31 18:29:26', ' 2017-01-09 01:07:12', ' 2017-01-15 03:53:00', ' 2017-01-15 17:30:16', ' 2017-01-28 00:44:48', ' 2017-02-10 20:18:01', ' 2017-02-18 23:13:18', ' 2017-02-19 00:30:24', ' 2017-02-20 02:04:48', ' 2017-04-16 22:46:55', ' 2017-04-27 04:38:34', ' 2017-05-13 22:51:49', ' 2017-05-19 23:03:19', ' 2017-05-31 22:46:11', ' 2017-05-31 22:46:33', ' 2017-07-28 23:38:19', ' 2017-08-13 23:42:59', ' 2017-08-17 23:27:33', ' 2017-09-03 17:30:25', ' 2017-09-03 22:59:25', ' 2017-09-16 21:12:41', ' 2017-09-18 00:36:34', ' 2017-09-28 23:28:02', ' 2017-10-01 13:02:01', ' 2017-10-08 00:00:05', ' 2017-10-08 15:07:36', ' 2017-10-09 00:44:22', ' 2017-10-15 22:31:47', ' 2017-10-17 23:31:26', ' 2017-10-17 23:32:10', ' 2017-11-04 22:48:12', ' 2017-11-10 20:50:25', ' 2017-12-17 23:02:32', ' 2017-12-21 00:55:13', ' 2017-12-29 01:53:12', ' 2017-12-29 01:53:52', ' 2018-01-26 00:47:30', ' 2018-03-30 16:49:10', ' 2018-04-07 16:27:21', ' 2018-04-24 23:45:19', ' 2018-05-05 18:27:12', ' 2018-05-05 22:27:18', ' 2018-05-14 23:47:27', ' 2018-05-20 23:49:45', ' 2018-05-25 16:39:21', ' 2018-06-04 21:40:47', ' 2018-06-04 21:40:58', ' 2018-06-12 22:27:30', ' 2018-06-20 22:53:27', ' 2018-07-05 16:15:18', ' 2018-07-08 18:40:13', ' 2018-07-08 20:41:46', ' 2018-07-18 20:58:49', ' 2018-07-24 23:35:44', ' 2018-08-09 00:08:56', ' 2018-08-20 22:29:00', ' 2018-08-31 17:47:54', ' 2018-09-13 23:08:09', ' 2018-09-15 22:16:51', ' 2018-10-21 18:09:02', ' 2018-10-21 22:58:14'], checkin_date='2011-06-04 18:22:23'),\n",
       " Row(business_id='--6MefnULPED_I942VcFNA', dates=['2011-06-04 18:22:23', ' 2011-07-23 23:51:33', ' 2012-04-15 01:07:50', ' 2012-05-06 23:08:42', ' 2012-06-08 22:43:12', ' 2012-08-06 23:20:52', ' 2012-08-19 18:30:44', ' 2013-01-27 23:49:51', ' 2013-03-01 01:22:29', ' 2013-03-23 21:53:47', ' 2013-03-24 01:11:51', ' 2013-05-20 00:12:25', ' 2013-06-29 22:50:57', ' 2013-07-01 15:58:04', ' 2013-07-01 22:35:42', ' 2013-07-28 21:46:49', ' 2013-08-02 22:06:03', ' 2013-08-11 18:42:03', ' 2013-08-23 01:29:56', ' 2013-09-17 17:40:36', ' 2013-09-20 23:36:30', ' 2013-09-24 23:50:18', ' 2013-10-12 23:11:13', ' 2013-11-24 18:40:15', ' 2013-12-12 02:52:54', ' 2013-12-26 17:33:17', ' 2013-12-30 00:27:37', ' 2014-03-28 23:38:23', ' 2014-04-25 22:48:11', ' 2014-04-28 22:56:07', ' 2014-05-03 01:02:47', ' 2014-05-19 17:08:37', ' 2014-06-16 00:04:51', ' 2014-06-22 17:21:27', ' 2014-07-04 19:13:34', ' 2014-07-11 15:46:29', ' 2014-07-25 20:55:48', ' 2014-08-23 22:27:42', ' 2014-08-31 01:43:10', ' 2014-09-06 16:29:55', ' 2014-09-13 23:34:42', ' 2014-10-11 23:20:09', ' 2014-11-19 19:05:56', ' 2014-11-30 23:27:15', ' 2015-01-04 01:06:47', ' 2015-01-04 01:08:08', ' 2015-01-11 00:16:13', ' 2015-01-17 23:42:09', ' 2015-01-17 23:46:42', ' 2015-01-26 00:05:15', ' 2015-02-18 17:21:01', ' 2015-03-22 22:26:09', ' 2015-03-28 22:47:50', ' 2015-04-03 21:49:35', ' 2015-04-05 18:52:21', ' 2015-04-11 22:59:11', ' 2015-04-12 22:52:29', ' 2015-04-24 00:02:22', ' 2015-05-09 21:45:34', ' 2015-05-16 22:53:44', ' 2015-06-07 17:54:51', ' 2015-07-01 16:24:54', ' 2015-07-10 22:13:09', ' 2015-07-11 22:16:37', ' 2015-07-18 00:27:00', ' 2015-08-29 23:51:50', ' 2015-09-07 22:57:51', ' 2015-09-27 23:54:33', ' 2015-10-11 22:03:40', ' 2015-10-12 15:08:23', ' 2015-10-23 01:34:21', ' 2015-10-25 00:36:12', ' 2015-11-09 18:55:17', ' 2015-11-15 00:01:47', ' 2015-12-16 19:59:00', ' 2015-12-27 01:00:59', ' 2016-01-23 19:05:37', ' 2016-01-30 23:54:10', ' 2016-02-07 03:19:01', ' 2016-02-13 17:49:41', ' 2016-02-16 00:16:10', ' 2016-03-27 21:14:50', ' 2016-04-02 16:29:16', ' 2016-04-02 17:17:50', ' 2016-04-16 22:27:48', ' 2016-04-27 23:54:21', ' 2016-05-07 21:52:13', ' 2016-05-21 22:14:00', ' 2016-06-04 23:06:32', ' 2016-06-11 22:23:48', ' 2016-07-01 02:59:31', ' 2016-07-02 23:01:47', ' 2016-07-06 22:27:12', ' 2016-07-08 00:49:30', ' 2016-07-16 23:53:17', ' 2016-07-26 17:15:19', ' 2016-08-01 22:46:32', ' 2016-08-02 00:14:10', ' 2016-08-18 03:19:16', ' 2016-08-20 12:47:15', ' 2016-08-21 12:24:31', ' 2016-09-15 20:31:53', ' 2016-10-03 01:04:15', ' 2016-10-03 01:04:25', ' 2016-11-26 00:48:51', ' 2016-12-24 17:56:29', ' 2016-12-31 18:29:26', ' 2017-01-09 01:07:12', ' 2017-01-15 03:53:00', ' 2017-01-15 17:30:16', ' 2017-01-28 00:44:48', ' 2017-02-10 20:18:01', ' 2017-02-18 23:13:18', ' 2017-02-19 00:30:24', ' 2017-02-20 02:04:48', ' 2017-04-16 22:46:55', ' 2017-04-27 04:38:34', ' 2017-05-13 22:51:49', ' 2017-05-19 23:03:19', ' 2017-05-31 22:46:11', ' 2017-05-31 22:46:33', ' 2017-07-28 23:38:19', ' 2017-08-13 23:42:59', ' 2017-08-17 23:27:33', ' 2017-09-03 17:30:25', ' 2017-09-03 22:59:25', ' 2017-09-16 21:12:41', ' 2017-09-18 00:36:34', ' 2017-09-28 23:28:02', ' 2017-10-01 13:02:01', ' 2017-10-08 00:00:05', ' 2017-10-08 15:07:36', ' 2017-10-09 00:44:22', ' 2017-10-15 22:31:47', ' 2017-10-17 23:31:26', ' 2017-10-17 23:32:10', ' 2017-11-04 22:48:12', ' 2017-11-10 20:50:25', ' 2017-12-17 23:02:32', ' 2017-12-21 00:55:13', ' 2017-12-29 01:53:12', ' 2017-12-29 01:53:52', ' 2018-01-26 00:47:30', ' 2018-03-30 16:49:10', ' 2018-04-07 16:27:21', ' 2018-04-24 23:45:19', ' 2018-05-05 18:27:12', ' 2018-05-05 22:27:18', ' 2018-05-14 23:47:27', ' 2018-05-20 23:49:45', ' 2018-05-25 16:39:21', ' 2018-06-04 21:40:47', ' 2018-06-04 21:40:58', ' 2018-06-12 22:27:30', ' 2018-06-20 22:53:27', ' 2018-07-05 16:15:18', ' 2018-07-08 18:40:13', ' 2018-07-08 20:41:46', ' 2018-07-18 20:58:49', ' 2018-07-24 23:35:44', ' 2018-08-09 00:08:56', ' 2018-08-20 22:29:00', ' 2018-08-31 17:47:54', ' 2018-09-13 23:08:09', ' 2018-09-15 22:16:51', ' 2018-10-21 18:09:02', ' 2018-10-21 22:58:14'], checkin_date=' 2011-07-23 23:51:33'),\n",
       " Row(business_id='--6MefnULPED_I942VcFNA', dates=['2011-06-04 18:22:23', ' 2011-07-23 23:51:33', ' 2012-04-15 01:07:50', ' 2012-05-06 23:08:42', ' 2012-06-08 22:43:12', ' 2012-08-06 23:20:52', ' 2012-08-19 18:30:44', ' 2013-01-27 23:49:51', ' 2013-03-01 01:22:29', ' 2013-03-23 21:53:47', ' 2013-03-24 01:11:51', ' 2013-05-20 00:12:25', ' 2013-06-29 22:50:57', ' 2013-07-01 15:58:04', ' 2013-07-01 22:35:42', ' 2013-07-28 21:46:49', ' 2013-08-02 22:06:03', ' 2013-08-11 18:42:03', ' 2013-08-23 01:29:56', ' 2013-09-17 17:40:36', ' 2013-09-20 23:36:30', ' 2013-09-24 23:50:18', ' 2013-10-12 23:11:13', ' 2013-11-24 18:40:15', ' 2013-12-12 02:52:54', ' 2013-12-26 17:33:17', ' 2013-12-30 00:27:37', ' 2014-03-28 23:38:23', ' 2014-04-25 22:48:11', ' 2014-04-28 22:56:07', ' 2014-05-03 01:02:47', ' 2014-05-19 17:08:37', ' 2014-06-16 00:04:51', ' 2014-06-22 17:21:27', ' 2014-07-04 19:13:34', ' 2014-07-11 15:46:29', ' 2014-07-25 20:55:48', ' 2014-08-23 22:27:42', ' 2014-08-31 01:43:10', ' 2014-09-06 16:29:55', ' 2014-09-13 23:34:42', ' 2014-10-11 23:20:09', ' 2014-11-19 19:05:56', ' 2014-11-30 23:27:15', ' 2015-01-04 01:06:47', ' 2015-01-04 01:08:08', ' 2015-01-11 00:16:13', ' 2015-01-17 23:42:09', ' 2015-01-17 23:46:42', ' 2015-01-26 00:05:15', ' 2015-02-18 17:21:01', ' 2015-03-22 22:26:09', ' 2015-03-28 22:47:50', ' 2015-04-03 21:49:35', ' 2015-04-05 18:52:21', ' 2015-04-11 22:59:11', ' 2015-04-12 22:52:29', ' 2015-04-24 00:02:22', ' 2015-05-09 21:45:34', ' 2015-05-16 22:53:44', ' 2015-06-07 17:54:51', ' 2015-07-01 16:24:54', ' 2015-07-10 22:13:09', ' 2015-07-11 22:16:37', ' 2015-07-18 00:27:00', ' 2015-08-29 23:51:50', ' 2015-09-07 22:57:51', ' 2015-09-27 23:54:33', ' 2015-10-11 22:03:40', ' 2015-10-12 15:08:23', ' 2015-10-23 01:34:21', ' 2015-10-25 00:36:12', ' 2015-11-09 18:55:17', ' 2015-11-15 00:01:47', ' 2015-12-16 19:59:00', ' 2015-12-27 01:00:59', ' 2016-01-23 19:05:37', ' 2016-01-30 23:54:10', ' 2016-02-07 03:19:01', ' 2016-02-13 17:49:41', ' 2016-02-16 00:16:10', ' 2016-03-27 21:14:50', ' 2016-04-02 16:29:16', ' 2016-04-02 17:17:50', ' 2016-04-16 22:27:48', ' 2016-04-27 23:54:21', ' 2016-05-07 21:52:13', ' 2016-05-21 22:14:00', ' 2016-06-04 23:06:32', ' 2016-06-11 22:23:48', ' 2016-07-01 02:59:31', ' 2016-07-02 23:01:47', ' 2016-07-06 22:27:12', ' 2016-07-08 00:49:30', ' 2016-07-16 23:53:17', ' 2016-07-26 17:15:19', ' 2016-08-01 22:46:32', ' 2016-08-02 00:14:10', ' 2016-08-18 03:19:16', ' 2016-08-20 12:47:15', ' 2016-08-21 12:24:31', ' 2016-09-15 20:31:53', ' 2016-10-03 01:04:15', ' 2016-10-03 01:04:25', ' 2016-11-26 00:48:51', ' 2016-12-24 17:56:29', ' 2016-12-31 18:29:26', ' 2017-01-09 01:07:12', ' 2017-01-15 03:53:00', ' 2017-01-15 17:30:16', ' 2017-01-28 00:44:48', ' 2017-02-10 20:18:01', ' 2017-02-18 23:13:18', ' 2017-02-19 00:30:24', ' 2017-02-20 02:04:48', ' 2017-04-16 22:46:55', ' 2017-04-27 04:38:34', ' 2017-05-13 22:51:49', ' 2017-05-19 23:03:19', ' 2017-05-31 22:46:11', ' 2017-05-31 22:46:33', ' 2017-07-28 23:38:19', ' 2017-08-13 23:42:59', ' 2017-08-17 23:27:33', ' 2017-09-03 17:30:25', ' 2017-09-03 22:59:25', ' 2017-09-16 21:12:41', ' 2017-09-18 00:36:34', ' 2017-09-28 23:28:02', ' 2017-10-01 13:02:01', ' 2017-10-08 00:00:05', ' 2017-10-08 15:07:36', ' 2017-10-09 00:44:22', ' 2017-10-15 22:31:47', ' 2017-10-17 23:31:26', ' 2017-10-17 23:32:10', ' 2017-11-04 22:48:12', ' 2017-11-10 20:50:25', ' 2017-12-17 23:02:32', ' 2017-12-21 00:55:13', ' 2017-12-29 01:53:12', ' 2017-12-29 01:53:52', ' 2018-01-26 00:47:30', ' 2018-03-30 16:49:10', ' 2018-04-07 16:27:21', ' 2018-04-24 23:45:19', ' 2018-05-05 18:27:12', ' 2018-05-05 22:27:18', ' 2018-05-14 23:47:27', ' 2018-05-20 23:49:45', ' 2018-05-25 16:39:21', ' 2018-06-04 21:40:47', ' 2018-06-04 21:40:58', ' 2018-06-12 22:27:30', ' 2018-06-20 22:53:27', ' 2018-07-05 16:15:18', ' 2018-07-08 18:40:13', ' 2018-07-08 20:41:46', ' 2018-07-18 20:58:49', ' 2018-07-24 23:35:44', ' 2018-08-09 00:08:56', ' 2018-08-20 22:29:00', ' 2018-08-31 17:47:54', ' 2018-09-13 23:08:09', ' 2018-09-15 22:16:51', ' 2018-10-21 18:09:02', ' 2018-10-21 22:58:14'], checkin_date=' 2012-04-15 01:07:50'),\n",
       " Row(business_id='--6MefnULPED_I942VcFNA', dates=['2011-06-04 18:22:23', ' 2011-07-23 23:51:33', ' 2012-04-15 01:07:50', ' 2012-05-06 23:08:42', ' 2012-06-08 22:43:12', ' 2012-08-06 23:20:52', ' 2012-08-19 18:30:44', ' 2013-01-27 23:49:51', ' 2013-03-01 01:22:29', ' 2013-03-23 21:53:47', ' 2013-03-24 01:11:51', ' 2013-05-20 00:12:25', ' 2013-06-29 22:50:57', ' 2013-07-01 15:58:04', ' 2013-07-01 22:35:42', ' 2013-07-28 21:46:49', ' 2013-08-02 22:06:03', ' 2013-08-11 18:42:03', ' 2013-08-23 01:29:56', ' 2013-09-17 17:40:36', ' 2013-09-20 23:36:30', ' 2013-09-24 23:50:18', ' 2013-10-12 23:11:13', ' 2013-11-24 18:40:15', ' 2013-12-12 02:52:54', ' 2013-12-26 17:33:17', ' 2013-12-30 00:27:37', ' 2014-03-28 23:38:23', ' 2014-04-25 22:48:11', ' 2014-04-28 22:56:07', ' 2014-05-03 01:02:47', ' 2014-05-19 17:08:37', ' 2014-06-16 00:04:51', ' 2014-06-22 17:21:27', ' 2014-07-04 19:13:34', ' 2014-07-11 15:46:29', ' 2014-07-25 20:55:48', ' 2014-08-23 22:27:42', ' 2014-08-31 01:43:10', ' 2014-09-06 16:29:55', ' 2014-09-13 23:34:42', ' 2014-10-11 23:20:09', ' 2014-11-19 19:05:56', ' 2014-11-30 23:27:15', ' 2015-01-04 01:06:47', ' 2015-01-04 01:08:08', ' 2015-01-11 00:16:13', ' 2015-01-17 23:42:09', ' 2015-01-17 23:46:42', ' 2015-01-26 00:05:15', ' 2015-02-18 17:21:01', ' 2015-03-22 22:26:09', ' 2015-03-28 22:47:50', ' 2015-04-03 21:49:35', ' 2015-04-05 18:52:21', ' 2015-04-11 22:59:11', ' 2015-04-12 22:52:29', ' 2015-04-24 00:02:22', ' 2015-05-09 21:45:34', ' 2015-05-16 22:53:44', ' 2015-06-07 17:54:51', ' 2015-07-01 16:24:54', ' 2015-07-10 22:13:09', ' 2015-07-11 22:16:37', ' 2015-07-18 00:27:00', ' 2015-08-29 23:51:50', ' 2015-09-07 22:57:51', ' 2015-09-27 23:54:33', ' 2015-10-11 22:03:40', ' 2015-10-12 15:08:23', ' 2015-10-23 01:34:21', ' 2015-10-25 00:36:12', ' 2015-11-09 18:55:17', ' 2015-11-15 00:01:47', ' 2015-12-16 19:59:00', ' 2015-12-27 01:00:59', ' 2016-01-23 19:05:37', ' 2016-01-30 23:54:10', ' 2016-02-07 03:19:01', ' 2016-02-13 17:49:41', ' 2016-02-16 00:16:10', ' 2016-03-27 21:14:50', ' 2016-04-02 16:29:16', ' 2016-04-02 17:17:50', ' 2016-04-16 22:27:48', ' 2016-04-27 23:54:21', ' 2016-05-07 21:52:13', ' 2016-05-21 22:14:00', ' 2016-06-04 23:06:32', ' 2016-06-11 22:23:48', ' 2016-07-01 02:59:31', ' 2016-07-02 23:01:47', ' 2016-07-06 22:27:12', ' 2016-07-08 00:49:30', ' 2016-07-16 23:53:17', ' 2016-07-26 17:15:19', ' 2016-08-01 22:46:32', ' 2016-08-02 00:14:10', ' 2016-08-18 03:19:16', ' 2016-08-20 12:47:15', ' 2016-08-21 12:24:31', ' 2016-09-15 20:31:53', ' 2016-10-03 01:04:15', ' 2016-10-03 01:04:25', ' 2016-11-26 00:48:51', ' 2016-12-24 17:56:29', ' 2016-12-31 18:29:26', ' 2017-01-09 01:07:12', ' 2017-01-15 03:53:00', ' 2017-01-15 17:30:16', ' 2017-01-28 00:44:48', ' 2017-02-10 20:18:01', ' 2017-02-18 23:13:18', ' 2017-02-19 00:30:24', ' 2017-02-20 02:04:48', ' 2017-04-16 22:46:55', ' 2017-04-27 04:38:34', ' 2017-05-13 22:51:49', ' 2017-05-19 23:03:19', ' 2017-05-31 22:46:11', ' 2017-05-31 22:46:33', ' 2017-07-28 23:38:19', ' 2017-08-13 23:42:59', ' 2017-08-17 23:27:33', ' 2017-09-03 17:30:25', ' 2017-09-03 22:59:25', ' 2017-09-16 21:12:41', ' 2017-09-18 00:36:34', ' 2017-09-28 23:28:02', ' 2017-10-01 13:02:01', ' 2017-10-08 00:00:05', ' 2017-10-08 15:07:36', ' 2017-10-09 00:44:22', ' 2017-10-15 22:31:47', ' 2017-10-17 23:31:26', ' 2017-10-17 23:32:10', ' 2017-11-04 22:48:12', ' 2017-11-10 20:50:25', ' 2017-12-17 23:02:32', ' 2017-12-21 00:55:13', ' 2017-12-29 01:53:12', ' 2017-12-29 01:53:52', ' 2018-01-26 00:47:30', ' 2018-03-30 16:49:10', ' 2018-04-07 16:27:21', ' 2018-04-24 23:45:19', ' 2018-05-05 18:27:12', ' 2018-05-05 22:27:18', ' 2018-05-14 23:47:27', ' 2018-05-20 23:49:45', ' 2018-05-25 16:39:21', ' 2018-06-04 21:40:47', ' 2018-06-04 21:40:58', ' 2018-06-12 22:27:30', ' 2018-06-20 22:53:27', ' 2018-07-05 16:15:18', ' 2018-07-08 18:40:13', ' 2018-07-08 20:41:46', ' 2018-07-18 20:58:49', ' 2018-07-24 23:35:44', ' 2018-08-09 00:08:56', ' 2018-08-20 22:29:00', ' 2018-08-31 17:47:54', ' 2018-09-13 23:08:09', ' 2018-09-15 22:16:51', ' 2018-10-21 18:09:02', ' 2018-10-21 22:58:14'], checkin_date=' 2012-05-06 23:08:42')]"
      ]
     },
     "execution_count": 25,
     "metadata": {},
     "output_type": "execute_result"
    }
   ],
   "source": [
    "checkin.select('business_id',datesplit('date').alias('dates')).withColumn('checkin_date',explode('dates')).take(10)"
   ]
  },
  {
   "cell_type": "code",
   "execution_count": 26,
   "metadata": {},
   "outputs": [
    {
     "ename": "NameError",
     "evalue": "name 'd1' is not defined",
     "output_type": "error",
     "traceback": [
      "\u001b[1;31m---------------------------------------------------------------------------\u001b[0m",
      "\u001b[1;31mNameError\u001b[0m                                 Traceback (most recent call last)",
      "\u001b[1;32m<ipython-input-26-c82648ba36e9>\u001b[0m in \u001b[0;36m<module>\u001b[1;34m\u001b[0m\n\u001b[1;32m----> 1\u001b[1;33m \u001b[0md1\u001b[0m\u001b[1;33m.\u001b[0m\u001b[0mdtypes\u001b[0m\u001b[1;33m\u001b[0m\u001b[1;33m\u001b[0m\u001b[0m\n\u001b[0m",
      "\u001b[1;31mNameError\u001b[0m: name 'd1' is not defined"
     ]
    }
   ],
   "source": [
    "d1.dtypes"
   ]
  },
  {
   "cell_type": "code",
   "execution_count": 27,
   "metadata": {},
   "outputs": [
    {
     "ename": "NameError",
     "evalue": "name 'result' is not defined",
     "output_type": "error",
     "traceback": [
      "\u001b[1;31m---------------------------------------------------------------------------\u001b[0m",
      "\u001b[1;31mNameError\u001b[0m                                 Traceback (most recent call last)",
      "\u001b[1;32m<ipython-input-27-0850bf829210>\u001b[0m in \u001b[0;36m<module>\u001b[1;34m\u001b[0m\n\u001b[1;32m----> 1\u001b[1;33m \u001b[0mresult\u001b[0m\u001b[1;33m[\u001b[0m\u001b[1;36m0\u001b[0m\u001b[1;33m]\u001b[0m\u001b[1;33m.\u001b[0m\u001b[0masDict\u001b[0m\u001b[1;33m(\u001b[0m\u001b[1;33m)\u001b[0m\u001b[1;33m\u001b[0m\u001b[1;33m\u001b[0m\u001b[0m\n\u001b[0m",
      "\u001b[1;31mNameError\u001b[0m: name 'result' is not defined"
     ]
    }
   ],
   "source": [
    "result[0].asDict()"
   ]
  },
  {
   "cell_type": "code",
   "execution_count": null,
   "metadata": {
    "scrolled": false
   },
   "outputs": [],
   "source": [
    "review.printSchema()"
   ]
  },
  {
   "cell_type": "code",
   "execution_count": 28,
   "metadata": {
    "scrolled": true
   },
   "outputs": [
    {
     "name": "stdout",
     "output_type": "stream",
     "text": [
      "root\n",
      " |-- business_id: string (nullable = true)\n",
      " |-- compliment_count: long (nullable = true)\n",
      " |-- date: string (nullable = true)\n",
      " |-- text: string (nullable = true)\n",
      " |-- user_id: string (nullable = true)\n",
      "\n"
     ]
    }
   ],
   "source": [
    "tip.printSchema()"
   ]
  },
  {
   "cell_type": "code",
   "execution_count": 29,
   "metadata": {},
   "outputs": [
    {
     "name": "stdout",
     "output_type": "stream",
     "text": [
      "root\n",
      " |-- business_id: string (nullable = true)\n",
      " |-- date: string (nullable = true)\n",
      "\n"
     ]
    }
   ],
   "source": [
    "checkin.printSchema()"
   ]
  },
  {
   "cell_type": "code",
   "execution_count": 30,
   "metadata": {
    "scrolled": true
   },
   "outputs": [
    {
     "data": {
      "text/plain": [
       "['address',\n",
       " 'attributes',\n",
       " 'business_id',\n",
       " 'categories',\n",
       " 'city',\n",
       " 'hours',\n",
       " 'is_open',\n",
       " 'latitude',\n",
       " 'longitude',\n",
       " 'name',\n",
       " 'postal_code',\n",
       " 'review_count',\n",
       " 'stars',\n",
       " 'state']"
      ]
     },
     "execution_count": 30,
     "metadata": {},
     "output_type": "execute_result"
    }
   ],
   "source": [
    "business.columns"
   ]
  },
  {
   "cell_type": "code",
   "execution_count": 31,
   "metadata": {
    "scrolled": true
   },
   "outputs": [
    {
     "data": {
      "text/plain": [
       "[('address', 'string'),\n",
       " ('attributes',\n",
       "  'struct<AcceptsInsurance:string,AgesAllowed:string,Alcohol:string,Ambience:string,BYOB:string,BYOBCorkage:string,BestNights:string,BikeParking:string,BusinessAcceptsBitcoin:string,BusinessAcceptsCreditCards:string,BusinessParking:string,ByAppointmentOnly:string,Caters:string,CoatCheck:string,Corkage:string,DietaryRestrictions:string,DogsAllowed:string,DriveThru:string,GoodForDancing:string,GoodForKids:string,GoodForMeal:string,HairSpecializesIn:string,HappyHour:string,HasTV:string,Music:string,NoiseLevel:string,Open24Hours:string,OutdoorSeating:string,RestaurantsAttire:string,RestaurantsCounterService:string,RestaurantsDelivery:string,RestaurantsGoodForGroups:string,RestaurantsPriceRange2:string,RestaurantsReservations:string,RestaurantsTableService:string,RestaurantsTakeOut:string,Smoking:string,WheelchairAccessible:string,WiFi:string>'),\n",
       " ('business_id', 'string'),\n",
       " ('categories', 'string'),\n",
       " ('city', 'string'),\n",
       " ('hours',\n",
       "  'struct<Friday:string,Monday:string,Saturday:string,Sunday:string,Thursday:string,Tuesday:string,Wednesday:string>'),\n",
       " ('is_open', 'bigint'),\n",
       " ('latitude', 'double'),\n",
       " ('longitude', 'double'),\n",
       " ('name', 'string'),\n",
       " ('postal_code', 'string'),\n",
       " ('review_count', 'bigint'),\n",
       " ('stars', 'double'),\n",
       " ('state', 'string')]"
      ]
     },
     "execution_count": 31,
     "metadata": {},
     "output_type": "execute_result"
    }
   ],
   "source": [
    "business.dtypes"
   ]
  },
  {
   "cell_type": "code",
   "execution_count": 34,
   "metadata": {
    "scrolled": true
   },
   "outputs": [
    {
     "name": "stdout",
     "output_type": "stream",
     "text": [
      "+-------+-------------------+--------------------+--------------------+---------+-------------------+-----------------+------------------+--------------------+------------------+------------------+------------------+------+\n",
      "|summary|            address|         business_id|          categories|     city|            is_open|         latitude|         longitude|                name|       postal_code|      review_count|             stars| state|\n",
      "+-------+-------------------+--------------------+--------------------+---------+-------------------+-----------------+------------------+--------------------+------------------+------------------+------------------+------+\n",
      "|  count|             192609|              192609|              192127|   192609|             192609|           192609|            192609|              192609|            192609|            192609|            192609|192609|\n",
      "|   mean|               null|                null|                null|     null| 0.8230404602069478|38.54180263002481|-97.59478531563506|              1698.0|   68559.721920789| 33.53896235378409| 3.585626839867296|  null|\n",
      "| stddev|               null|                null|                null|     null|0.38163545071406046|4.941963502645914| 16.69772481655523|  2500.1279633917406|26486.666224785797|110.13522443830212|1.0184582836938019|  null|\n",
      "|    min|                   |--1UhMGODdWsrMast...|3D Printing, Grap...|         |                  0|     33.204642003|   -115.4934712422| L & A Insurance ...|                  |                 3|               1.0|    AB|\n",
      "|    max|​380 Midpark Way SE|zzzaIBwimxVej4tY6...|Zoos, Local Flavo...|​Chandler|                  1|    51.2999426916|       -72.9119819|    ​Lounge Eighteen|           t2g 3m5|              8348|               5.0|   XWY|\n",
      "+-------+-------------------+--------------------+--------------------+---------+-------------------+-----------------+------------------+--------------------+------------------+------------------+------------------+------+\n",
      "\n"
     ]
    }
   ],
   "source": [
    "business.describe().show()"
   ]
  },
  {
   "cell_type": "code",
   "execution_count": 35,
   "metadata": {},
   "outputs": [
    {
     "name": "stdout",
     "output_type": "stream",
     "text": [
      "root\n",
      " |-- address: string (nullable = true)\n",
      " |-- attributes: struct (nullable = true)\n",
      " |    |-- AcceptsInsurance: string (nullable = true)\n",
      " |    |-- AgesAllowed: string (nullable = true)\n",
      " |    |-- Alcohol: string (nullable = true)\n",
      " |    |-- Ambience: string (nullable = true)\n",
      " |    |-- BYOB: string (nullable = true)\n",
      " |    |-- BYOBCorkage: string (nullable = true)\n",
      " |    |-- BestNights: string (nullable = true)\n",
      " |    |-- BikeParking: string (nullable = true)\n",
      " |    |-- BusinessAcceptsBitcoin: string (nullable = true)\n",
      " |    |-- BusinessAcceptsCreditCards: string (nullable = true)\n",
      " |    |-- BusinessParking: string (nullable = true)\n",
      " |    |-- ByAppointmentOnly: string (nullable = true)\n",
      " |    |-- Caters: string (nullable = true)\n",
      " |    |-- CoatCheck: string (nullable = true)\n",
      " |    |-- Corkage: string (nullable = true)\n",
      " |    |-- DietaryRestrictions: string (nullable = true)\n",
      " |    |-- DogsAllowed: string (nullable = true)\n",
      " |    |-- DriveThru: string (nullable = true)\n",
      " |    |-- GoodForDancing: string (nullable = true)\n",
      " |    |-- GoodForKids: string (nullable = true)\n",
      " |    |-- GoodForMeal: string (nullable = true)\n",
      " |    |-- HairSpecializesIn: string (nullable = true)\n",
      " |    |-- HappyHour: string (nullable = true)\n",
      " |    |-- HasTV: string (nullable = true)\n",
      " |    |-- Music: string (nullable = true)\n",
      " |    |-- NoiseLevel: string (nullable = true)\n",
      " |    |-- Open24Hours: string (nullable = true)\n",
      " |    |-- OutdoorSeating: string (nullable = true)\n",
      " |    |-- RestaurantsAttire: string (nullable = true)\n",
      " |    |-- RestaurantsCounterService: string (nullable = true)\n",
      " |    |-- RestaurantsDelivery: string (nullable = true)\n",
      " |    |-- RestaurantsGoodForGroups: string (nullable = true)\n",
      " |    |-- RestaurantsPriceRange2: string (nullable = true)\n",
      " |    |-- RestaurantsReservations: string (nullable = true)\n",
      " |    |-- RestaurantsTableService: string (nullable = true)\n",
      " |    |-- RestaurantsTakeOut: string (nullable = true)\n",
      " |    |-- Smoking: string (nullable = true)\n",
      " |    |-- WheelchairAccessible: string (nullable = true)\n",
      " |    |-- WiFi: string (nullable = true)\n",
      " |-- business_id: string (nullable = true)\n",
      " |-- categories: string (nullable = true)\n",
      " |-- city: string (nullable = true)\n",
      " |-- hours: struct (nullable = true)\n",
      " |    |-- Friday: string (nullable = true)\n",
      " |    |-- Monday: string (nullable = true)\n",
      " |    |-- Saturday: string (nullable = true)\n",
      " |    |-- Sunday: string (nullable = true)\n",
      " |    |-- Thursday: string (nullable = true)\n",
      " |    |-- Tuesday: string (nullable = true)\n",
      " |    |-- Wednesday: string (nullable = true)\n",
      " |-- is_open: long (nullable = true)\n",
      " |-- latitude: double (nullable = true)\n",
      " |-- longitude: double (nullable = true)\n",
      " |-- name: string (nullable = true)\n",
      " |-- postal_code: string (nullable = true)\n",
      " |-- review_count: long (nullable = true)\n",
      " |-- stars: double (nullable = true)\n",
      " |-- state: string (nullable = true)\n",
      "\n"
     ]
    }
   ],
   "source": [
    "business.printSchema()"
   ]
  },
  {
   "cell_type": "code",
   "execution_count": null,
   "metadata": {},
   "outputs": [],
   "source": []
  }
 ],
 "metadata": {
  "kernelspec": {
   "display_name": "Python 3",
   "language": "python",
   "name": "python3"
  },
  "language_info": {
   "codemirror_mode": {
    "name": "ipython",
    "version": 3
   },
   "file_extension": ".py",
   "mimetype": "text/x-python",
   "name": "python",
   "nbconvert_exporter": "python",
   "pygments_lexer": "ipython3",
   "version": "3.7.4"
  }
 },
 "nbformat": 4,
 "nbformat_minor": 2
}
