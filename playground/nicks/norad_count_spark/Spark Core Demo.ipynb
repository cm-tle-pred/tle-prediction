{
 "cells": [
  {
   "cell_type": "markdown",
   "metadata": {},
   "source": [
    "# Spark Core Demo"
   ]
  },
  {
   "cell_type": "code",
   "execution_count": 1,
   "metadata": {},
   "outputs": [],
   "source": [
    "from pyspark.sql import SparkSession\n",
    "spark = SparkSession \\\n",
    "    .builder \\\n",
    "    .master(\"local[*]\") \\\n",
    "    .appName('My First Spark application') \\\n",
    "    .getOrCreate() \n",
    "\n",
    "sc = spark.sparkContext"
   ]
  },
  {
   "cell_type": "markdown",
   "metadata": {},
   "source": [
    "# RDDs (Week 2)"
   ]
  },
  {
   "cell_type": "code",
   "execution_count": 2,
   "metadata": {},
   "outputs": [],
   "source": [
    "lines = sc.textFile('../non_auto_assignments/data/misc/blurb.txt')"
   ]
  },
  {
   "cell_type": "code",
   "execution_count": 3,
   "metadata": {},
   "outputs": [],
   "source": [
    "data_lines = lines.filter(lambda x: 'data' in x)"
   ]
  },
  {
   "cell_type": "code",
   "execution_count": 4,
   "metadata": {},
   "outputs": [
    {
     "data": {
      "text/plain": [
       "['The University of Michigan School of Information is pleased to offer a new, fully online, master’s program in applied data science. We teach comprehensive applied data science at the intersection of people and technology. ',\n",
       " 'We provide critical insight into data collection, computation, and analytics, and help develop hands-on skills using a multidisciplinary approach embedded in information, computer science, and statistics. ',\n",
       " 'Coursework and projects focus on applying data science to real-world problems. ']"
      ]
     },
     "execution_count": 4,
     "metadata": {},
     "output_type": "execute_result"
    }
   ],
   "source": [
    "data_lines.take(10)"
   ]
  },
  {
   "cell_type": "code",
   "execution_count": 5,
   "metadata": {},
   "outputs": [
    {
     "data": {
      "text/plain": [
       "'The University of Michigan School of Information is pleased to offer a new, fully online, master’s program in applied data science. We teach comprehensive applied data science at the intersection of people and technology. '"
      ]
     },
     "execution_count": 5,
     "metadata": {},
     "output_type": "execute_result"
    }
   ],
   "source": [
    "data_lines.first()"
   ]
  },
  {
   "cell_type": "code",
   "execution_count": 6,
   "metadata": {},
   "outputs": [
    {
     "name": "stdout",
     "output_type": "stream",
     "text": [
      "1 \n",
      "4 \n",
      "9 \n",
      "16 \n",
      "1 \n",
      "4 \n",
      "9 \n",
      "16 \n",
      "1 \n",
      "4 \n",
      "9 \n",
      "16 \n",
      "1 \n",
      "4 \n",
      "9 \n",
      "16 \n",
      "1 \n",
      "4 \n",
      "9 \n",
      "16 \n",
      "1 \n",
      "4 \n",
      "9 \n",
      "16 \n",
      "1 \n",
      "4 \n",
      "9 \n",
      "16 \n",
      "1 \n",
      "4 \n",
      "9 \n",
      "16 \n",
      "1 \n",
      "4 \n",
      "9 \n",
      "16 \n",
      "1 \n",
      "4 \n",
      "9 \n",
      "16 \n",
      "1 \n",
      "4 \n",
      "9 \n",
      "16 \n",
      "1 \n",
      "4 \n",
      "9 \n",
      "16 \n",
      "1 \n",
      "4 \n",
      "9 \n",
      "16 \n",
      "1 \n",
      "4 \n",
      "9 \n",
      "16 \n",
      "1 \n",
      "4 \n",
      "9 \n",
      "16 \n",
      "1 \n",
      "4 \n",
      "9 \n",
      "16 \n",
      "1 \n",
      "4 \n",
      "9 \n",
      "16 \n",
      "1 \n",
      "4 \n",
      "9 \n",
      "16 \n",
      "1 \n",
      "4 \n",
      "9 \n",
      "16 \n",
      "1 \n",
      "4 \n",
      "9 \n",
      "16 \n",
      "1 \n",
      "4 \n",
      "9 \n",
      "16 \n",
      "1 \n",
      "4 \n",
      "9 \n",
      "16 \n",
      "1 \n",
      "4 \n",
      "9 \n",
      "16 \n",
      "1 \n",
      "4 \n",
      "9 \n",
      "16 \n",
      "1 \n",
      "4 \n",
      "9 \n",
      "16 \n",
      "1 \n",
      "4 \n",
      "9 \n",
      "16 \n",
      "1 \n",
      "4 \n",
      "9 \n",
      "16 \n",
      "1 \n",
      "4 \n",
      "9 \n",
      "16 \n",
      "1 \n",
      "4 \n",
      "9 \n",
      "16 \n",
      "1 \n",
      "4 \n",
      "9 \n",
      "16 \n",
      "1 \n",
      "4 \n",
      "9 \n",
      "16 \n",
      "1 \n",
      "4 \n",
      "9 \n",
      "16 \n",
      "1 \n",
      "4 \n",
      "9 \n",
      "16 \n",
      "1 \n",
      "4 \n",
      "9 \n",
      "16 \n",
      "1 \n",
      "4 \n",
      "9 \n",
      "16 \n",
      "1 \n",
      "4 \n",
      "9 \n",
      "16 \n",
      "1 \n",
      "4 \n",
      "9 \n",
      "16 \n",
      "1 \n",
      "4 \n",
      "9 \n",
      "16 \n",
      "1 \n",
      "4 \n",
      "9 \n",
      "16 \n",
      "1 \n",
      "4 \n",
      "9 \n",
      "16 \n",
      "1 \n",
      "4 \n",
      "9 \n",
      "16 \n",
      "1 \n",
      "4 \n",
      "9 \n",
      "16 \n",
      "1 \n",
      "4 \n",
      "9 \n",
      "16 \n",
      "1 \n",
      "4 \n",
      "9 \n",
      "16 \n",
      "1 \n",
      "4 \n",
      "9 \n",
      "16 \n",
      "1 \n",
      "4 \n",
      "9 \n",
      "16 \n",
      "1 \n",
      "4 \n",
      "9 \n",
      "16 \n",
      "1 \n",
      "4 \n",
      "9 \n",
      "16 \n",
      "1 \n",
      "4 \n",
      "9 \n",
      "16 \n",
      "1 \n",
      "4 \n",
      "9 \n",
      "16 \n",
      "1 \n",
      "4 \n",
      "9 \n",
      "16 \n",
      "1 \n",
      "4 \n",
      "9 \n",
      "16 \n",
      "1 \n",
      "4 \n",
      "9 \n",
      "16 \n",
      "1 \n",
      "4 \n",
      "9 \n",
      "16 \n",
      "1 \n",
      "4 \n",
      "9 \n",
      "16 \n",
      "1 \n",
      "4 \n",
      "9 \n",
      "16 \n",
      "1 \n",
      "4 \n",
      "9 \n",
      "16 \n",
      "1 \n",
      "4 \n",
      "9 \n",
      "16 \n",
      "1 \n",
      "4 \n",
      "9 \n",
      "16 \n",
      "1 \n",
      "4 \n",
      "9 \n",
      "16 \n",
      "1 \n",
      "4 \n",
      "9 \n",
      "16 \n",
      "1 \n",
      "4 \n",
      "9 \n",
      "16 \n",
      "1 \n",
      "4 \n",
      "9 \n",
      "16 \n",
      "1 \n",
      "4 \n",
      "9 \n",
      "16 \n",
      "1 \n",
      "4 \n",
      "9 \n",
      "16 \n",
      "1 \n",
      "4 \n",
      "9 \n",
      "16 \n",
      "1 \n",
      "4 \n",
      "9 \n",
      "16 \n",
      "1 \n",
      "4 \n",
      "9 \n",
      "16 \n",
      "1 \n",
      "4 \n",
      "9 \n",
      "16 \n",
      "1 \n",
      "4 \n",
      "9 \n",
      "16 \n",
      "1 \n",
      "4 \n",
      "9 \n",
      "16 \n",
      "1 \n",
      "4 \n",
      "9 \n",
      "16 \n",
      "1 \n",
      "4 \n",
      "9 \n",
      "16 \n",
      "1 \n",
      "4 \n",
      "9 \n",
      "16 \n",
      "1 \n",
      "4 \n",
      "9 \n",
      "16 \n",
      "1 \n",
      "4 \n",
      "9 \n",
      "16 \n",
      "1 \n",
      "4 \n",
      "9 \n",
      "16 \n",
      "1 \n",
      "4 \n",
      "9 \n",
      "16 \n",
      "1 \n",
      "4 \n",
      "9 \n",
      "16 \n",
      "1 \n",
      "4 \n",
      "9 \n",
      "16 \n",
      "1 \n",
      "4 \n",
      "9 \n",
      "16 \n",
      "61.2 ms ± 3.32 ms per loop (mean ± std. dev. of 7 runs, 10 loops each)\n"
     ]
    }
   ],
   "source": [
    "%%timeit\n",
    "nums = sc.parallelize([1, 2, 3, 4])\n",
    "squared = nums.map(lambda x: x * x).collect()\n",
    "for num in squared:\n",
    "    print('%i ' % (num))\n"
   ]
  },
  {
   "cell_type": "code",
   "execution_count": 7,
   "metadata": {},
   "outputs": [
    {
     "name": "stdout",
     "output_type": "stream",
     "text": [
      "processor count: 32\n"
     ]
    },
    {
     "data": {
      "text/plain": [
       "svmem(total=267535601664, available=250691035136, percent=6.3, used=14644326400, free=15406735360, active=53809348608, inactive=191485493248, buffers=1043898368, cached=236440641536, shared=12288, slab=5554008064)"
      ]
     },
     "execution_count": 7,
     "metadata": {},
     "output_type": "execute_result"
    }
   ],
   "source": [
    "import multiprocessing\n",
    "import psutil\n",
    "print(\"processor count: \" + str(multiprocessing.cpu_count()))\n",
    "psutil.virtual_memory()"
   ]
  },
  {
   "cell_type": "code",
   "execution_count": 8,
   "metadata": {},
   "outputs": [
    {
     "name": "stdout",
     "output_type": "stream",
     "text": [
      "['hello', 'world', 'hi', 'hi', 'world', 'hello', 'everyone', 'hello']\n",
      "[['hello', 'world'], ['hi'], ['hi', 'world'], ['hello', 'everyone'], ['hello']]\n",
      "[('hello', 1), ('world', 1), ('hi', 1), ('hi', 1), ('world', 1), ('hello', 1), ('everyone', 1), ('hello', 1)]\n"
     ]
    }
   ],
   "source": [
    "#Sometimes we want to produce multiple output elements for each input element. The operation to do this is called flatMap(). As with map(), the function we provide to flatMap() is called individually for each element in our input RDD. Instead of returning a single element, we return an iterator with our return values. Rather than producing an RDD of iterators, we get back an RDD that consists of the elements from all of the iterators.\n",
    "\n",
    "lines = sc.parallelize([\"hello world\", \"hi\", \"hi world\", \"hello everyone\", \"hello\"])\n",
    "words = lines.flatMap(lambda line: line.split(\" \"))\n",
    "print(words.collect()) \n",
    "\n",
    "word_map = lines.map(lambda line:line.split(' '))\n",
    "print(word_map.collect()) \n",
    "\n",
    "word_counts = words.map(lambda word: (word,1))\n",
    "print(word_counts.collect())"
   ]
  },
  {
   "cell_type": "code",
   "execution_count": 9,
   "metadata": {},
   "outputs": [],
   "source": [
    "wc = word_counts.reduceByKey(lambda accumulator,value: accumulator + value)"
   ]
  },
  {
   "cell_type": "code",
   "execution_count": 10,
   "metadata": {},
   "outputs": [
    {
     "data": {
      "text/plain": [
       "[('hello', 3), ('hi', 2), ('world', 2), ('everyone', 1)]"
      ]
     },
     "execution_count": 10,
     "metadata": {},
     "output_type": "execute_result"
    }
   ],
   "source": [
    "wc.take(10)"
   ]
  },
  {
   "cell_type": "code",
   "execution_count": 11,
   "metadata": {},
   "outputs": [
    {
     "data": {
      "text/plain": [
       "[('everyone', 1), ('hello', 3), ('hi', 2), ('world', 2)]"
      ]
     },
     "execution_count": 11,
     "metadata": {},
     "output_type": "execute_result"
    }
   ],
   "source": [
    "wc.sortByKey(lambda x,y: x+y).collect()"
   ]
  },
  {
   "cell_type": "code",
   "execution_count": 12,
   "metadata": {},
   "outputs": [
    {
     "data": {
      "text/plain": [
       "[('hello', 3), ('hi', 2), ('world', 2), ('everyone', 1)]"
      ]
     },
     "execution_count": 12,
     "metadata": {},
     "output_type": "execute_result"
    }
   ],
   "source": [
    "wc.sortBy(lambda x: x[1], ascending=False).take(10)"
   ]
  },
  {
   "cell_type": "code",
   "execution_count": 13,
   "metadata": {},
   "outputs": [],
   "source": [
    "business = spark.read.json('../non_auto_assignments/data/yelp_academic/yelp_academic_dataset_business.json.gz')\n",
    "checkin = spark.read.json('../non_auto_assignments/data/yelp_academic/yelp_academic_dataset_checkin.json.gz')\n",
    "review = spark.read.json('../non_auto_assignments/data/yelp_academic/yelp_academic_dataset_review.json.gz')\n",
    "tip = spark.read.json('../non_auto_assignments/data/yelp_academic/yelp_academic_dataset_tip.json.gz')\n",
    "user = spark.read.json('../non_auto_assignments/data/yelp_academic/yelp_academic_dataset_user.json.gz')"
   ]
  },
  {
   "cell_type": "code",
   "execution_count": 14,
   "metadata": {},
   "outputs": [
    {
     "name": "stdout",
     "output_type": "stream",
     "text": [
      "root\n",
      " |-- business_id: string (nullable = true)\n",
      " |-- cool: long (nullable = true)\n",
      " |-- date: string (nullable = true)\n",
      " |-- funny: long (nullable = true)\n",
      " |-- review_id: string (nullable = true)\n",
      " |-- stars: double (nullable = true)\n",
      " |-- text: string (nullable = true)\n",
      " |-- useful: long (nullable = true)\n",
      " |-- user_id: string (nullable = true)\n",
      "\n"
     ]
    }
   ],
   "source": [
    "review.printSchema()"
   ]
  },
  {
   "cell_type": "code",
   "execution_count": 15,
   "metadata": {},
   "outputs": [],
   "source": [
    "result = user.filter(user['compliment_cool'] > 5000).collect()"
   ]
  },
  {
   "cell_type": "code",
   "execution_count": 16,
   "metadata": {
    "scrolled": true
   },
   "outputs": [
    {
     "data": {
      "text/plain": [
       "Row(business_id='--1UhMGODdWsrMastO9DZw', date='2016-04-26 19:49:16, 2016-08-30 18:36:57, 2016-10-15 02:45:18, 2016-11-18 01:54:50, 2017-04-20 18:39:06, 2017-05-03 17:58:02')"
      ]
     },
     "execution_count": 16,
     "metadata": {},
     "output_type": "execute_result"
    }
   ],
   "source": [
    "checkin.first()"
   ]
  },
  {
   "cell_type": "code",
   "execution_count": 17,
   "metadata": {},
   "outputs": [
    {
     "data": {
      "text/plain": [
       "[('business_id', 'string'), ('date', 'string')]"
      ]
     },
     "execution_count": 17,
     "metadata": {},
     "output_type": "execute_result"
    }
   ],
   "source": [
    "checkin.dtypes"
   ]
  },
  {
   "cell_type": "code",
   "execution_count": 18,
   "metadata": {},
   "outputs": [
    {
     "data": {
      "text/plain": [
       "<pyspark.sql.group.GroupedData at 0x7f57b6363b00>"
      ]
     },
     "execution_count": 18,
     "metadata": {},
     "output_type": "execute_result"
    }
   ],
   "source": [
    "checkin.groupby(['weekday','hour'])"
   ]
  },
  {
   "cell_type": "code",
   "execution_count": 19,
   "metadata": {},
   "outputs": [],
   "source": [
    "from pyspark.sql.functions import udf"
   ]
  },
  {
   "cell_type": "code",
   "execution_count": 20,
   "metadata": {},
   "outputs": [],
   "source": [
    "from pyspark.sql.types import IntegerType\n",
    "square_udf_int = udf(lambda z: square(z), IntegerType())"
   ]
  },
  {
   "cell_type": "code",
   "execution_count": 21,
   "metadata": {},
   "outputs": [],
   "source": [
    "from pyspark.sql.types import ArrayType,StringType\n",
    "datesplit = udf(lambda x: x.split(','),ArrayType(StringType()))"
   ]
  },
  {
   "cell_type": "code",
   "execution_count": 22,
   "metadata": {},
   "outputs": [
    {
     "data": {
      "text/plain": [
       "Row(business_id='--1UhMGODdWsrMastO9DZw', dates=['2016-04-26 19:49:16', ' 2016-08-30 18:36:57', ' 2016-10-15 02:45:18', ' 2016-11-18 01:54:50', ' 2017-04-20 18:39:06', ' 2017-05-03 17:58:02'])"
      ]
     },
     "execution_count": 22,
     "metadata": {},
     "output_type": "execute_result"
    }
   ],
   "source": [
    "(checkin.select('business_id',datesplit('date').alias('dates'))).first()"
   ]
  },
  {
   "cell_type": "code",
   "execution_count": 23,
   "metadata": {},
   "outputs": [],
   "source": [
    "from pyspark.sql.functions import explode"
   ]
  },
  {
   "cell_type": "code",
   "execution_count": 24,
   "metadata": {},
   "outputs": [
    {
     "data": {
      "text/plain": [
       "[Row(business_id='--1UhMGODdWsrMastO9DZw', dates=['2016-04-26 19:49:16', ' 2016-08-30 18:36:57', ' 2016-10-15 02:45:18', ' 2016-11-18 01:54:50', ' 2017-04-20 18:39:06', ' 2017-05-03 17:58:02'], checkin_date='2016-04-26 19:49:16'),\n",
       " Row(business_id='--1UhMGODdWsrMastO9DZw', dates=['2016-04-26 19:49:16', ' 2016-08-30 18:36:57', ' 2016-10-15 02:45:18', ' 2016-11-18 01:54:50', ' 2017-04-20 18:39:06', ' 2017-05-03 17:58:02'], checkin_date=' 2016-08-30 18:36:57'),\n",
       " Row(business_id='--1UhMGODdWsrMastO9DZw', dates=['2016-04-26 19:49:16', ' 2016-08-30 18:36:57', ' 2016-10-15 02:45:18', ' 2016-11-18 01:54:50', ' 2017-04-20 18:39:06', ' 2017-05-03 17:58:02'], checkin_date=' 2016-10-15 02:45:18'),\n",
       " Row(business_id='--1UhMGODdWsrMastO9DZw', dates=['2016-04-26 19:49:16', ' 2016-08-30 18:36:57', ' 2016-10-15 02:45:18', ' 2016-11-18 01:54:50', ' 2017-04-20 18:39:06', ' 2017-05-03 17:58:02'], checkin_date=' 2016-11-18 01:54:50'),\n",
       " Row(business_id='--1UhMGODdWsrMastO9DZw', dates=['2016-04-26 19:49:16', ' 2016-08-30 18:36:57', ' 2016-10-15 02:45:18', ' 2016-11-18 01:54:50', ' 2017-04-20 18:39:06', ' 2017-05-03 17:58:02'], checkin_date=' 2017-04-20 18:39:06'),\n",
       " Row(business_id='--1UhMGODdWsrMastO9DZw', dates=['2016-04-26 19:49:16', ' 2016-08-30 18:36:57', ' 2016-10-15 02:45:18', ' 2016-11-18 01:54:50', ' 2017-04-20 18:39:06', ' 2017-05-03 17:58:02'], checkin_date=' 2017-05-03 17:58:02'),\n",
       " Row(business_id='--6MefnULPED_I942VcFNA', dates=['2011-06-04 18:22:23', ' 2011-07-23 23:51:33', ' 2012-04-15 01:07:50', ' 2012-05-06 23:08:42', ' 2012-06-08 22:43:12', ' 2012-08-06 23:20:52', ' 2012-08-19 18:30:44', ' 2013-01-27 23:49:51', ' 2013-03-01 01:22:29', ' 2013-03-23 21:53:47', ' 2013-03-24 01:11:51', ' 2013-05-20 00:12:25', ' 2013-06-29 22:50:57', ' 2013-07-01 15:58:04', ' 2013-07-01 22:35:42', ' 2013-07-28 21:46:49', ' 2013-08-02 22:06:03', ' 2013-08-11 18:42:03', ' 2013-08-23 01:29:56', ' 2013-09-17 17:40:36', ' 2013-09-20 23:36:30', ' 2013-09-24 23:50:18', ' 2013-10-12 23:11:13', ' 2013-11-24 18:40:15', ' 2013-12-12 02:52:54', ' 2013-12-26 17:33:17', ' 2013-12-30 00:27:37', ' 2014-03-28 23:38:23', ' 2014-04-25 22:48:11', ' 2014-04-28 22:56:07', ' 2014-05-03 01:02:47', ' 2014-05-19 17:08:37', ' 2014-06-16 00:04:51', ' 2014-06-22 17:21:27', ' 2014-07-04 19:13:34', ' 2014-07-11 15:46:29', ' 2014-07-25 20:55:48', ' 2014-08-23 22:27:42', ' 2014-08-31 01:43:10', ' 2014-09-06 16:29:55', ' 2014-09-13 23:34:42', ' 2014-10-11 23:20:09', ' 2014-11-19 19:05:56', ' 2014-11-30 23:27:15', ' 2015-01-04 01:06:47', ' 2015-01-04 01:08:08', ' 2015-01-11 00:16:13', ' 2015-01-17 23:42:09', ' 2015-01-17 23:46:42', ' 2015-01-26 00:05:15', ' 2015-02-18 17:21:01', ' 2015-03-22 22:26:09', ' 2015-03-28 22:47:50', ' 2015-04-03 21:49:35', ' 2015-04-05 18:52:21', ' 2015-04-11 22:59:11', ' 2015-04-12 22:52:29', ' 2015-04-24 00:02:22', ' 2015-05-09 21:45:34', ' 2015-05-16 22:53:44', ' 2015-06-07 17:54:51', ' 2015-07-01 16:24:54', ' 2015-07-10 22:13:09', ' 2015-07-11 22:16:37', ' 2015-07-18 00:27:00', ' 2015-08-29 23:51:50', ' 2015-09-07 22:57:51', ' 2015-09-27 23:54:33', ' 2015-10-11 22:03:40', ' 2015-10-12 15:08:23', ' 2015-10-23 01:34:21', ' 2015-10-25 00:36:12', ' 2015-11-09 18:55:17', ' 2015-11-15 00:01:47', ' 2015-12-16 19:59:00', ' 2015-12-27 01:00:59', ' 2016-01-23 19:05:37', ' 2016-01-30 23:54:10', ' 2016-02-07 03:19:01', ' 2016-02-13 17:49:41', ' 2016-02-16 00:16:10', ' 2016-03-27 21:14:50', ' 2016-04-02 16:29:16', ' 2016-04-02 17:17:50', ' 2016-04-16 22:27:48', ' 2016-04-27 23:54:21', ' 2016-05-07 21:52:13', ' 2016-05-21 22:14:00', ' 2016-06-04 23:06:32', ' 2016-06-11 22:23:48', ' 2016-07-01 02:59:31', ' 2016-07-02 23:01:47', ' 2016-07-06 22:27:12', ' 2016-07-08 00:49:30', ' 2016-07-16 23:53:17', ' 2016-07-26 17:15:19', ' 2016-08-01 22:46:32', ' 2016-08-02 00:14:10', ' 2016-08-18 03:19:16', ' 2016-08-20 12:47:15', ' 2016-08-21 12:24:31', ' 2016-09-15 20:31:53', ' 2016-10-03 01:04:15', ' 2016-10-03 01:04:25', ' 2016-11-26 00:48:51', ' 2016-12-24 17:56:29', ' 2016-12-31 18:29:26', ' 2017-01-09 01:07:12', ' 2017-01-15 03:53:00', ' 2017-01-15 17:30:16', ' 2017-01-28 00:44:48', ' 2017-02-10 20:18:01', ' 2017-02-18 23:13:18', ' 2017-02-19 00:30:24', ' 2017-02-20 02:04:48', ' 2017-04-16 22:46:55', ' 2017-04-27 04:38:34', ' 2017-05-13 22:51:49', ' 2017-05-19 23:03:19', ' 2017-05-31 22:46:11', ' 2017-05-31 22:46:33', ' 2017-07-28 23:38:19', ' 2017-08-13 23:42:59', ' 2017-08-17 23:27:33', ' 2017-09-03 17:30:25', ' 2017-09-03 22:59:25', ' 2017-09-16 21:12:41', ' 2017-09-18 00:36:34', ' 2017-09-28 23:28:02', ' 2017-10-01 13:02:01', ' 2017-10-08 00:00:05', ' 2017-10-08 15:07:36', ' 2017-10-09 00:44:22', ' 2017-10-15 22:31:47', ' 2017-10-17 23:31:26', ' 2017-10-17 23:32:10', ' 2017-11-04 22:48:12', ' 2017-11-10 20:50:25', ' 2017-12-17 23:02:32', ' 2017-12-21 00:55:13', ' 2017-12-29 01:53:12', ' 2017-12-29 01:53:52', ' 2018-01-26 00:47:30', ' 2018-03-30 16:49:10', ' 2018-04-07 16:27:21', ' 2018-04-24 23:45:19', ' 2018-05-05 18:27:12', ' 2018-05-05 22:27:18', ' 2018-05-14 23:47:27', ' 2018-05-20 23:49:45', ' 2018-05-25 16:39:21', ' 2018-06-04 21:40:47', ' 2018-06-04 21:40:58', ' 2018-06-12 22:27:30', ' 2018-06-20 22:53:27', ' 2018-07-05 16:15:18', ' 2018-07-08 18:40:13', ' 2018-07-08 20:41:46', ' 2018-07-18 20:58:49', ' 2018-07-24 23:35:44', ' 2018-08-09 00:08:56', ' 2018-08-20 22:29:00', ' 2018-08-31 17:47:54', ' 2018-09-13 23:08:09', ' 2018-09-15 22:16:51', ' 2018-10-21 18:09:02', ' 2018-10-21 22:58:14'], checkin_date='2011-06-04 18:22:23'),\n",
       " Row(business_id='--6MefnULPED_I942VcFNA', dates=['2011-06-04 18:22:23', ' 2011-07-23 23:51:33', ' 2012-04-15 01:07:50', ' 2012-05-06 23:08:42', ' 2012-06-08 22:43:12', ' 2012-08-06 23:20:52', ' 2012-08-19 18:30:44', ' 2013-01-27 23:49:51', ' 2013-03-01 01:22:29', ' 2013-03-23 21:53:47', ' 2013-03-24 01:11:51', ' 2013-05-20 00:12:25', ' 2013-06-29 22:50:57', ' 2013-07-01 15:58:04', ' 2013-07-01 22:35:42', ' 2013-07-28 21:46:49', ' 2013-08-02 22:06:03', ' 2013-08-11 18:42:03', ' 2013-08-23 01:29:56', ' 2013-09-17 17:40:36', ' 2013-09-20 23:36:30', ' 2013-09-24 23:50:18', ' 2013-10-12 23:11:13', ' 2013-11-24 18:40:15', ' 2013-12-12 02:52:54', ' 2013-12-26 17:33:17', ' 2013-12-30 00:27:37', ' 2014-03-28 23:38:23', ' 2014-04-25 22:48:11', ' 2014-04-28 22:56:07', ' 2014-05-03 01:02:47', ' 2014-05-19 17:08:37', ' 2014-06-16 00:04:51', ' 2014-06-22 17:21:27', ' 2014-07-04 19:13:34', ' 2014-07-11 15:46:29', ' 2014-07-25 20:55:48', ' 2014-08-23 22:27:42', ' 2014-08-31 01:43:10', ' 2014-09-06 16:29:55', ' 2014-09-13 23:34:42', ' 2014-10-11 23:20:09', ' 2014-11-19 19:05:56', ' 2014-11-30 23:27:15', ' 2015-01-04 01:06:47', ' 2015-01-04 01:08:08', ' 2015-01-11 00:16:13', ' 2015-01-17 23:42:09', ' 2015-01-17 23:46:42', ' 2015-01-26 00:05:15', ' 2015-02-18 17:21:01', ' 2015-03-22 22:26:09', ' 2015-03-28 22:47:50', ' 2015-04-03 21:49:35', ' 2015-04-05 18:52:21', ' 2015-04-11 22:59:11', ' 2015-04-12 22:52:29', ' 2015-04-24 00:02:22', ' 2015-05-09 21:45:34', ' 2015-05-16 22:53:44', ' 2015-06-07 17:54:51', ' 2015-07-01 16:24:54', ' 2015-07-10 22:13:09', ' 2015-07-11 22:16:37', ' 2015-07-18 00:27:00', ' 2015-08-29 23:51:50', ' 2015-09-07 22:57:51', ' 2015-09-27 23:54:33', ' 2015-10-11 22:03:40', ' 2015-10-12 15:08:23', ' 2015-10-23 01:34:21', ' 2015-10-25 00:36:12', ' 2015-11-09 18:55:17', ' 2015-11-15 00:01:47', ' 2015-12-16 19:59:00', ' 2015-12-27 01:00:59', ' 2016-01-23 19:05:37', ' 2016-01-30 23:54:10', ' 2016-02-07 03:19:01', ' 2016-02-13 17:49:41', ' 2016-02-16 00:16:10', ' 2016-03-27 21:14:50', ' 2016-04-02 16:29:16', ' 2016-04-02 17:17:50', ' 2016-04-16 22:27:48', ' 2016-04-27 23:54:21', ' 2016-05-07 21:52:13', ' 2016-05-21 22:14:00', ' 2016-06-04 23:06:32', ' 2016-06-11 22:23:48', ' 2016-07-01 02:59:31', ' 2016-07-02 23:01:47', ' 2016-07-06 22:27:12', ' 2016-07-08 00:49:30', ' 2016-07-16 23:53:17', ' 2016-07-26 17:15:19', ' 2016-08-01 22:46:32', ' 2016-08-02 00:14:10', ' 2016-08-18 03:19:16', ' 2016-08-20 12:47:15', ' 2016-08-21 12:24:31', ' 2016-09-15 20:31:53', ' 2016-10-03 01:04:15', ' 2016-10-03 01:04:25', ' 2016-11-26 00:48:51', ' 2016-12-24 17:56:29', ' 2016-12-31 18:29:26', ' 2017-01-09 01:07:12', ' 2017-01-15 03:53:00', ' 2017-01-15 17:30:16', ' 2017-01-28 00:44:48', ' 2017-02-10 20:18:01', ' 2017-02-18 23:13:18', ' 2017-02-19 00:30:24', ' 2017-02-20 02:04:48', ' 2017-04-16 22:46:55', ' 2017-04-27 04:38:34', ' 2017-05-13 22:51:49', ' 2017-05-19 23:03:19', ' 2017-05-31 22:46:11', ' 2017-05-31 22:46:33', ' 2017-07-28 23:38:19', ' 2017-08-13 23:42:59', ' 2017-08-17 23:27:33', ' 2017-09-03 17:30:25', ' 2017-09-03 22:59:25', ' 2017-09-16 21:12:41', ' 2017-09-18 00:36:34', ' 2017-09-28 23:28:02', ' 2017-10-01 13:02:01', ' 2017-10-08 00:00:05', ' 2017-10-08 15:07:36', ' 2017-10-09 00:44:22', ' 2017-10-15 22:31:47', ' 2017-10-17 23:31:26', ' 2017-10-17 23:32:10', ' 2017-11-04 22:48:12', ' 2017-11-10 20:50:25', ' 2017-12-17 23:02:32', ' 2017-12-21 00:55:13', ' 2017-12-29 01:53:12', ' 2017-12-29 01:53:52', ' 2018-01-26 00:47:30', ' 2018-03-30 16:49:10', ' 2018-04-07 16:27:21', ' 2018-04-24 23:45:19', ' 2018-05-05 18:27:12', ' 2018-05-05 22:27:18', ' 2018-05-14 23:47:27', ' 2018-05-20 23:49:45', ' 2018-05-25 16:39:21', ' 2018-06-04 21:40:47', ' 2018-06-04 21:40:58', ' 2018-06-12 22:27:30', ' 2018-06-20 22:53:27', ' 2018-07-05 16:15:18', ' 2018-07-08 18:40:13', ' 2018-07-08 20:41:46', ' 2018-07-18 20:58:49', ' 2018-07-24 23:35:44', ' 2018-08-09 00:08:56', ' 2018-08-20 22:29:00', ' 2018-08-31 17:47:54', ' 2018-09-13 23:08:09', ' 2018-09-15 22:16:51', ' 2018-10-21 18:09:02', ' 2018-10-21 22:58:14'], checkin_date=' 2011-07-23 23:51:33'),\n",
       " Row(business_id='--6MefnULPED_I942VcFNA', dates=['2011-06-04 18:22:23', ' 2011-07-23 23:51:33', ' 2012-04-15 01:07:50', ' 2012-05-06 23:08:42', ' 2012-06-08 22:43:12', ' 2012-08-06 23:20:52', ' 2012-08-19 18:30:44', ' 2013-01-27 23:49:51', ' 2013-03-01 01:22:29', ' 2013-03-23 21:53:47', ' 2013-03-24 01:11:51', ' 2013-05-20 00:12:25', ' 2013-06-29 22:50:57', ' 2013-07-01 15:58:04', ' 2013-07-01 22:35:42', ' 2013-07-28 21:46:49', ' 2013-08-02 22:06:03', ' 2013-08-11 18:42:03', ' 2013-08-23 01:29:56', ' 2013-09-17 17:40:36', ' 2013-09-20 23:36:30', ' 2013-09-24 23:50:18', ' 2013-10-12 23:11:13', ' 2013-11-24 18:40:15', ' 2013-12-12 02:52:54', ' 2013-12-26 17:33:17', ' 2013-12-30 00:27:37', ' 2014-03-28 23:38:23', ' 2014-04-25 22:48:11', ' 2014-04-28 22:56:07', ' 2014-05-03 01:02:47', ' 2014-05-19 17:08:37', ' 2014-06-16 00:04:51', ' 2014-06-22 17:21:27', ' 2014-07-04 19:13:34', ' 2014-07-11 15:46:29', ' 2014-07-25 20:55:48', ' 2014-08-23 22:27:42', ' 2014-08-31 01:43:10', ' 2014-09-06 16:29:55', ' 2014-09-13 23:34:42', ' 2014-10-11 23:20:09', ' 2014-11-19 19:05:56', ' 2014-11-30 23:27:15', ' 2015-01-04 01:06:47', ' 2015-01-04 01:08:08', ' 2015-01-11 00:16:13', ' 2015-01-17 23:42:09', ' 2015-01-17 23:46:42', ' 2015-01-26 00:05:15', ' 2015-02-18 17:21:01', ' 2015-03-22 22:26:09', ' 2015-03-28 22:47:50', ' 2015-04-03 21:49:35', ' 2015-04-05 18:52:21', ' 2015-04-11 22:59:11', ' 2015-04-12 22:52:29', ' 2015-04-24 00:02:22', ' 2015-05-09 21:45:34', ' 2015-05-16 22:53:44', ' 2015-06-07 17:54:51', ' 2015-07-01 16:24:54', ' 2015-07-10 22:13:09', ' 2015-07-11 22:16:37', ' 2015-07-18 00:27:00', ' 2015-08-29 23:51:50', ' 2015-09-07 22:57:51', ' 2015-09-27 23:54:33', ' 2015-10-11 22:03:40', ' 2015-10-12 15:08:23', ' 2015-10-23 01:34:21', ' 2015-10-25 00:36:12', ' 2015-11-09 18:55:17', ' 2015-11-15 00:01:47', ' 2015-12-16 19:59:00', ' 2015-12-27 01:00:59', ' 2016-01-23 19:05:37', ' 2016-01-30 23:54:10', ' 2016-02-07 03:19:01', ' 2016-02-13 17:49:41', ' 2016-02-16 00:16:10', ' 2016-03-27 21:14:50', ' 2016-04-02 16:29:16', ' 2016-04-02 17:17:50', ' 2016-04-16 22:27:48', ' 2016-04-27 23:54:21', ' 2016-05-07 21:52:13', ' 2016-05-21 22:14:00', ' 2016-06-04 23:06:32', ' 2016-06-11 22:23:48', ' 2016-07-01 02:59:31', ' 2016-07-02 23:01:47', ' 2016-07-06 22:27:12', ' 2016-07-08 00:49:30', ' 2016-07-16 23:53:17', ' 2016-07-26 17:15:19', ' 2016-08-01 22:46:32', ' 2016-08-02 00:14:10', ' 2016-08-18 03:19:16', ' 2016-08-20 12:47:15', ' 2016-08-21 12:24:31', ' 2016-09-15 20:31:53', ' 2016-10-03 01:04:15', ' 2016-10-03 01:04:25', ' 2016-11-26 00:48:51', ' 2016-12-24 17:56:29', ' 2016-12-31 18:29:26', ' 2017-01-09 01:07:12', ' 2017-01-15 03:53:00', ' 2017-01-15 17:30:16', ' 2017-01-28 00:44:48', ' 2017-02-10 20:18:01', ' 2017-02-18 23:13:18', ' 2017-02-19 00:30:24', ' 2017-02-20 02:04:48', ' 2017-04-16 22:46:55', ' 2017-04-27 04:38:34', ' 2017-05-13 22:51:49', ' 2017-05-19 23:03:19', ' 2017-05-31 22:46:11', ' 2017-05-31 22:46:33', ' 2017-07-28 23:38:19', ' 2017-08-13 23:42:59', ' 2017-08-17 23:27:33', ' 2017-09-03 17:30:25', ' 2017-09-03 22:59:25', ' 2017-09-16 21:12:41', ' 2017-09-18 00:36:34', ' 2017-09-28 23:28:02', ' 2017-10-01 13:02:01', ' 2017-10-08 00:00:05', ' 2017-10-08 15:07:36', ' 2017-10-09 00:44:22', ' 2017-10-15 22:31:47', ' 2017-10-17 23:31:26', ' 2017-10-17 23:32:10', ' 2017-11-04 22:48:12', ' 2017-11-10 20:50:25', ' 2017-12-17 23:02:32', ' 2017-12-21 00:55:13', ' 2017-12-29 01:53:12', ' 2017-12-29 01:53:52', ' 2018-01-26 00:47:30', ' 2018-03-30 16:49:10', ' 2018-04-07 16:27:21', ' 2018-04-24 23:45:19', ' 2018-05-05 18:27:12', ' 2018-05-05 22:27:18', ' 2018-05-14 23:47:27', ' 2018-05-20 23:49:45', ' 2018-05-25 16:39:21', ' 2018-06-04 21:40:47', ' 2018-06-04 21:40:58', ' 2018-06-12 22:27:30', ' 2018-06-20 22:53:27', ' 2018-07-05 16:15:18', ' 2018-07-08 18:40:13', ' 2018-07-08 20:41:46', ' 2018-07-18 20:58:49', ' 2018-07-24 23:35:44', ' 2018-08-09 00:08:56', ' 2018-08-20 22:29:00', ' 2018-08-31 17:47:54', ' 2018-09-13 23:08:09', ' 2018-09-15 22:16:51', ' 2018-10-21 18:09:02', ' 2018-10-21 22:58:14'], checkin_date=' 2012-04-15 01:07:50'),\n",
       " Row(business_id='--6MefnULPED_I942VcFNA', dates=['2011-06-04 18:22:23', ' 2011-07-23 23:51:33', ' 2012-04-15 01:07:50', ' 2012-05-06 23:08:42', ' 2012-06-08 22:43:12', ' 2012-08-06 23:20:52', ' 2012-08-19 18:30:44', ' 2013-01-27 23:49:51', ' 2013-03-01 01:22:29', ' 2013-03-23 21:53:47', ' 2013-03-24 01:11:51', ' 2013-05-20 00:12:25', ' 2013-06-29 22:50:57', ' 2013-07-01 15:58:04', ' 2013-07-01 22:35:42', ' 2013-07-28 21:46:49', ' 2013-08-02 22:06:03', ' 2013-08-11 18:42:03', ' 2013-08-23 01:29:56', ' 2013-09-17 17:40:36', ' 2013-09-20 23:36:30', ' 2013-09-24 23:50:18', ' 2013-10-12 23:11:13', ' 2013-11-24 18:40:15', ' 2013-12-12 02:52:54', ' 2013-12-26 17:33:17', ' 2013-12-30 00:27:37', ' 2014-03-28 23:38:23', ' 2014-04-25 22:48:11', ' 2014-04-28 22:56:07', ' 2014-05-03 01:02:47', ' 2014-05-19 17:08:37', ' 2014-06-16 00:04:51', ' 2014-06-22 17:21:27', ' 2014-07-04 19:13:34', ' 2014-07-11 15:46:29', ' 2014-07-25 20:55:48', ' 2014-08-23 22:27:42', ' 2014-08-31 01:43:10', ' 2014-09-06 16:29:55', ' 2014-09-13 23:34:42', ' 2014-10-11 23:20:09', ' 2014-11-19 19:05:56', ' 2014-11-30 23:27:15', ' 2015-01-04 01:06:47', ' 2015-01-04 01:08:08', ' 2015-01-11 00:16:13', ' 2015-01-17 23:42:09', ' 2015-01-17 23:46:42', ' 2015-01-26 00:05:15', ' 2015-02-18 17:21:01', ' 2015-03-22 22:26:09', ' 2015-03-28 22:47:50', ' 2015-04-03 21:49:35', ' 2015-04-05 18:52:21', ' 2015-04-11 22:59:11', ' 2015-04-12 22:52:29', ' 2015-04-24 00:02:22', ' 2015-05-09 21:45:34', ' 2015-05-16 22:53:44', ' 2015-06-07 17:54:51', ' 2015-07-01 16:24:54', ' 2015-07-10 22:13:09', ' 2015-07-11 22:16:37', ' 2015-07-18 00:27:00', ' 2015-08-29 23:51:50', ' 2015-09-07 22:57:51', ' 2015-09-27 23:54:33', ' 2015-10-11 22:03:40', ' 2015-10-12 15:08:23', ' 2015-10-23 01:34:21', ' 2015-10-25 00:36:12', ' 2015-11-09 18:55:17', ' 2015-11-15 00:01:47', ' 2015-12-16 19:59:00', ' 2015-12-27 01:00:59', ' 2016-01-23 19:05:37', ' 2016-01-30 23:54:10', ' 2016-02-07 03:19:01', ' 2016-02-13 17:49:41', ' 2016-02-16 00:16:10', ' 2016-03-27 21:14:50', ' 2016-04-02 16:29:16', ' 2016-04-02 17:17:50', ' 2016-04-16 22:27:48', ' 2016-04-27 23:54:21', ' 2016-05-07 21:52:13', ' 2016-05-21 22:14:00', ' 2016-06-04 23:06:32', ' 2016-06-11 22:23:48', ' 2016-07-01 02:59:31', ' 2016-07-02 23:01:47', ' 2016-07-06 22:27:12', ' 2016-07-08 00:49:30', ' 2016-07-16 23:53:17', ' 2016-07-26 17:15:19', ' 2016-08-01 22:46:32', ' 2016-08-02 00:14:10', ' 2016-08-18 03:19:16', ' 2016-08-20 12:47:15', ' 2016-08-21 12:24:31', ' 2016-09-15 20:31:53', ' 2016-10-03 01:04:15', ' 2016-10-03 01:04:25', ' 2016-11-26 00:48:51', ' 2016-12-24 17:56:29', ' 2016-12-31 18:29:26', ' 2017-01-09 01:07:12', ' 2017-01-15 03:53:00', ' 2017-01-15 17:30:16', ' 2017-01-28 00:44:48', ' 2017-02-10 20:18:01', ' 2017-02-18 23:13:18', ' 2017-02-19 00:30:24', ' 2017-02-20 02:04:48', ' 2017-04-16 22:46:55', ' 2017-04-27 04:38:34', ' 2017-05-13 22:51:49', ' 2017-05-19 23:03:19', ' 2017-05-31 22:46:11', ' 2017-05-31 22:46:33', ' 2017-07-28 23:38:19', ' 2017-08-13 23:42:59', ' 2017-08-17 23:27:33', ' 2017-09-03 17:30:25', ' 2017-09-03 22:59:25', ' 2017-09-16 21:12:41', ' 2017-09-18 00:36:34', ' 2017-09-28 23:28:02', ' 2017-10-01 13:02:01', ' 2017-10-08 00:00:05', ' 2017-10-08 15:07:36', ' 2017-10-09 00:44:22', ' 2017-10-15 22:31:47', ' 2017-10-17 23:31:26', ' 2017-10-17 23:32:10', ' 2017-11-04 22:48:12', ' 2017-11-10 20:50:25', ' 2017-12-17 23:02:32', ' 2017-12-21 00:55:13', ' 2017-12-29 01:53:12', ' 2017-12-29 01:53:52', ' 2018-01-26 00:47:30', ' 2018-03-30 16:49:10', ' 2018-04-07 16:27:21', ' 2018-04-24 23:45:19', ' 2018-05-05 18:27:12', ' 2018-05-05 22:27:18', ' 2018-05-14 23:47:27', ' 2018-05-20 23:49:45', ' 2018-05-25 16:39:21', ' 2018-06-04 21:40:47', ' 2018-06-04 21:40:58', ' 2018-06-12 22:27:30', ' 2018-06-20 22:53:27', ' 2018-07-05 16:15:18', ' 2018-07-08 18:40:13', ' 2018-07-08 20:41:46', ' 2018-07-18 20:58:49', ' 2018-07-24 23:35:44', ' 2018-08-09 00:08:56', ' 2018-08-20 22:29:00', ' 2018-08-31 17:47:54', ' 2018-09-13 23:08:09', ' 2018-09-15 22:16:51', ' 2018-10-21 18:09:02', ' 2018-10-21 22:58:14'], checkin_date=' 2012-05-06 23:08:42')]"
      ]
     },
     "execution_count": 24,
     "metadata": {},
     "output_type": "execute_result"
    }
   ],
   "source": [
    "checkin.select('business_id',datesplit('date').alias('dates')).withColumn('checkin_date',explode('dates')).take(10)"
   ]
  },
  {
   "cell_type": "code",
   "execution_count": 25,
   "metadata": {},
   "outputs": [
    {
     "ename": "NameError",
     "evalue": "name 'd1' is not defined",
     "output_type": "error",
     "traceback": [
      "\u001b[0;31m---------------------------------------------------------------------------\u001b[0m",
      "\u001b[0;31mNameError\u001b[0m                                 Traceback (most recent call last)",
      "\u001b[0;32m<ipython-input-25-c82648ba36e9>\u001b[0m in \u001b[0;36m<module>\u001b[0;34m\u001b[0m\n\u001b[0;32m----> 1\u001b[0;31m \u001b[0md1\u001b[0m\u001b[0;34m.\u001b[0m\u001b[0mdtypes\u001b[0m\u001b[0;34m\u001b[0m\u001b[0;34m\u001b[0m\u001b[0m\n\u001b[0m",
      "\u001b[0;31mNameError\u001b[0m: name 'd1' is not defined"
     ]
    }
   ],
   "source": [
    "d1.dtypes"
   ]
  },
  {
   "cell_type": "code",
   "execution_count": 26,
   "metadata": {},
   "outputs": [
    {
     "data": {
      "text/plain": [
       "{'average_stars': 4.22,\n",
       " 'compliment_cool': 12706,\n",
       " 'compliment_cute': 512,\n",
       " 'compliment_funny': 12706,\n",
       " 'compliment_hot': 34167,\n",
       " 'compliment_list': 90,\n",
       " 'compliment_more': 626,\n",
       " 'compliment_note': 3247,\n",
       " 'compliment_photos': 13065,\n",
       " 'compliment_plain': 6788,\n",
       " 'compliment_profile': 418,\n",
       " 'compliment_writer': 1166,\n",
       " 'cool': 21624,\n",
       " 'elite': '2011,2012,2013,2014,2015,2016,2017',\n",
       " 'fans': 1055,\n",
       " 'friends': 'Rjd9Td7yYOqu0A1e2KDAyA, 4UCqhtKZgLQqp7Ns9VcPdQ, ODSH1it5oAUPu2clIgOvyg, xxneUsUNNYdbr2Ukh_yQlw, BSVThVjjFaF5orzkW7Of7Q, K6v0XrtRVVfkTndN3Dn6UA, EPK4_bIsyVlrlsLH3RClEQ, kRcYmBUumNiDH6iHg3GgOg, 9x3Jo-__QEK_8jwRTZ1zig, vVYZmlco7x4KK_wY-wO1cg, lU9HJlDot9CPsVdnyrANWQ, MiTp_htT7xH7kdAixL_Hzw, Qz3qWko-7VEaWS2tKuc9Aw, MFI4twbiz8UJxU-XHSlH-g, 07JaiREcp2197QiRCR-YHA, Dqb34bnL4dzwZvySx--qqQ, VNRW7STLvplnmo1Akpy2xA, IxKVvGmFIEz77YYL-5_YxA, 0XXIv9a0LWiaCjAkurjMMQ, yi9eAPNgnqBGaRQ_Eyz2Aw, Fw4UjJ6yBeyPB27Y4wwEUQ, C85i4kcR8Ckt-n9zy3H0Tg, BfoIyb0JdWYQPWNKbqWT5w, QzPoBEYZ_nJFwiXOCBcXVw, NZtFNfHJB_hGwbdE2m9eLA, aP5DxP9j5rgdMBcx2JHLsQ, NDWDFvMtDnIlK-xptXFbWA, R6KKAmic4TzJnF9kIpB96A, sZv2BNSMx-H5Q-LvHg5Nzg, pzat1jh1BHj8dkWL9c9wdA, THU0eXkboAWId-ZlWCMl2g, wYPDNUDTbPz1eTbaBkERlA, P_zJ0bvns-RgGdCC2sNi2Q, rVRH_RWTgzfyiWXlbCxTRw, EIFRS-LjvO-8cAlUXpuUnA, BI9Guj-T0DkF0DMY6A8kmg, 5dSTzpSmRSUXMshVJLeAgQ, swN__VyeFg6O_BFR0x5ZeA, DuEHJugNqM_g6O5qLuvvUA, qfin9U9wDs9vkYrjd-uQRg, JihbuIHZMtw1pUSqHrRSTQ, 4MJ7go3WJwIcak_17vWw9w, FOvWgXp5L23vcx3RNl823A, Cgu0BNzKEFWMVN7oFslYmA, TyepNPbEnMCy1_IhsT0YAg, vL3tIltZWmahKl77sKwkoA, yKjSyMKBIDtovONtNs7QpQ, Z3MAR7LBRhV4rc8JXr7hgg, -jlVLuhumwHaGUCOmrvp1Q, NGcH1lvIvrzgzCTPca3DEQ, E0hnzH2Kx50pYjIOhMxfuA, HBHYpoOyYX4cG_VPbqxOtQ, NZOTHK7fVn_4L966mk25EQ, qD51vvp5Zf5DgPEGy7yfDQ, opg5Cl7qTQhB-GDKvrmzyg, LVxLpctpaYAvhVmPyuNnww, rj8n3rXKqYvDQATiprVgjA, tDr7zXbcRXWOK8Lhf34jQw, a8bY_eiXQPMECj0JgpiJqg, rg2w_FPMzJVzzpZJAZ8PEQ, rKDLq635fyrmVzg4Gxkafg, zFYs8gSUYDvXkb6O7YkRkw, 4A12Ab1fCW70xkcp4Q1DPQ, JoQfAVNtWn_nAWQpx3btEQ, XhCcpurIdvEQvS58OasiEg, FbzRqmzn7SpWhKLq0x7oyQ, pjh3lKm1zgxx5f905B5aEA, XOk0Wx1X2qzK5GQq05Aaww, m9lvZzJBlfFMQz97CyWfuw, GGWjA8v479feCo6OPTLQOg, _qbRmUcmH99M5MrrpCE8zA, 9bvlW5Gos1kxzvcM3c-12w, N4phmXRD7OjHpjncB59D6g, 2dLSgtc4bmg_vUdRdiohfw, NIDQylbw6mPkSoVMXqXshw, lNDRQXkwHD-EspEp3Qu9FQ, 90U9Qgse46LfGRP3dGNOgw, w3iWJP7Ct1NJYCPYF2UViQ, EEslA8XEw0IMDoRGZlu7lQ, a68fTwBqLwYDp80ZPQo4NQ, RyuN56h9-OMNMAiF4cv_kg, qvqqmcXjrEZeCya30jlYCw, pKvSyDC9loCZ49EW-_Lk-Q, 3ssbqWatjqUZAbP04zbG_g, Z8Q6AZm63tM3eLz8vmdk9w, IhMeNfkHnL86Hb3DWnfWtg, pufGgg3EuY_As7cu__pM1w, L8fuHJ30GARwKc6Vf4nU3w, Wj0tIFlWz_1Uam1VDWYG5g, Nci8Nx0_9G0MSLYvQifacQ, JKIkdVqAJLEXTq92gF98bA, xy1242NtWSuTQMZXmW7ciw, AUyf6Alz8M0vbhAP7qcghw, w1tI3Oh7GB-fUYzECYrnlQ, Rkhm3bht88rhk5pR3kF3FA, 0Kz8_kEnQcnztdGrovnWFw, xBMIbeR67WMglP_W4WQPHA, VGMaokJ-eodHBTu6RR6N1A, nx10o8SCYiTn8KWhmM6l-w, DMwp6ZDmshHRPeQVrYGoqQ, 7IP8KOkPNncenRib2QVsLA, -M4ZqHZDsA9vOt7UscVRpQ, Q_8qAEFkzrzTVAJhLsxmBg, awChKmZOx_iR4FCgze9Zww, eRV6uavzjtvLj7Aej59QVg, gR7is-YzJRnRdQ0AhbiWHA, Nsk9eHBCFN-0lIKYy12QPg, QDxlTKRvvUdxOZkCE55XvQ, pTh2BCMV0zuvDkVGznADSQ, i0s_O08jY8l7yVh85KDD_w, cetOjQ25SGauSEkLMIta0Q, -cYTEG5SRUuMgv2AluYVMw, po_X-3bjcGPpnQk8SO_kew, ASsznAAjSCiQMhDR2OJOfQ, dhPd9Oiw75-jrUPCSFD3CA, Ox6MqegrcAZ-HayZUzTIYw, 10IUU20u96o-EIG-g7cRZw, HCP1pR_44Pw5_BiWAp47-Q, YUz0AnHPia2cPXSbhWdSXA, 9sxvJvvTtw8y2YRDcaL9nw, YcGHib9G9mEzQBWZH90m4Q, bgmVgGxKqhWei48Iq71O9A, JRAy4P4op3PCISZaMRA9_w, YOChRzTztTL_KooP9wEtSQ, yOumYKd_54Eoe98e4OUPyQ, AbMjnKOwg736fcIu8apuyQ, pl5IeWLa9jPcwaABaUk4rA, zlyzn27ly4YhivDVyJaxxA, i3MDO5H4huxEs1jI2Gzs-w, SHqSTxYYSDhdYj7PEEkDRg, uSCYNal_CJDPGBYUAenyoA, Gl9B1YoqJme5fvgmDRwW7w, XEMIP3q5MbFv6hw3UZnW6A, _m0ShLR5zXnMxTWFvU_vPw, sIxLoeTM4t9Ck10mCZh5eg, BIyo1Hf23H6EIujLSYzw2g, oKrct4Hc8hZNMYXecitLCw, vjwLL41-EOQQkLSonUMdGw, CazMh1-W0D4_stJ4kL_u8A, 8kskB3QBzO3eQQ1egeasXQ, M9rRM6Eo5YbKLKMG5QiIPA, E9i80LuCXKMr6HrVfuObdQ, gUhL_vkTY_zwrzT71a73Bw, NRrNQ5xHn_7Fu4ctlpKLbQ, CdQhdJeP4IUWQlMasapkCQ, AACF348wJKAB3_Lt4A9IZg, oW2bCSJ5bIHyRnoZvkHwDg, m6OZG66JPXVIZRkqm6reDg, C7INYd1zqvS2LQLpYYv67Q, 9x1eDg8Wuc6rJw1HtIVTmA, 7W-p-PJlmrzg0mk3pWKoyQ, Eaxw-hkE9NiMtrG5DQHpSw, GM4g282AXED0JyHHmTrqug, 1vwG7xBg4yALu6PWOZHIfg, 3AmHsqEXCz7V3RkJxXI_oQ, TTmcqlbHy2NYq3AjoOO6Dg, UkalyjVTwn2STEMBDxmVyQ, 2-nhZF4AxdM6wmIN3cHjmA, KLX6I1nObmgkex8pbVMhEQ, 1dWLN4Mr4hKhu8MQUCKqXQ, Kw-5I9azSEEUe7RTq1MG-Q, SbBJ6XL6CeE8p7_x6v7lyQ, fEhDyM1UWzzplDr6azyVvA, VBzf2SzL4PmSsLjtU5N7hQ, kZxjGWW0HyITS3AMYDz70Q, 7EYpuM5YNVxxGg37W0Yu0Q, 6IMtgr16Mg4cKj1adBSwWw, d6wDZX7kTu17tF0KOxJfXQ, Ms00QwLnMXHp9Swz2V1QHQ, bY292PbHSfI7N3UTHAJDww, ZMMOMP5kLoXWcm3keolHCA, w2HPwdX1tHIbML4Q04jZhQ, LnZUtFx6qTWs8NV6lAARxQ, ujgXQiiGBJRVHqTOTJZCnQ, Ml_u3dL82-zLY7GlK_EOMw, vyz5nGEA3eFfxjH2TZfhTQ, Cqw4fJYJwkufdQSmLXEnug, W0zLORZm8vYe8nvwophPXw, dy6eVjMQrJGbPHoKiKiYrw, 4btGonvFMNadlDGqQuxv4g, aIISk4lrzKp6rQJpgwj_fg, Qpmco1Cpe0NLyqhjm_PlzA, MxND_PwBeMV5pcnmiXDdsg, A5tBp8_PHfh3w1DYBC0Sxg, 0BypTx7HWe0beJHHXMr9Bw, ZrQBq71rn_ORyWqoivH82A, RsNJ573zSlcR8SlIPmyMOQ, _E3yaczgef7enusOIf7Jug, qUGMYSGV24KD8QFCdGGIlQ, 88FXt1zgU507AA0p7H1rkA, z7PlGXFitX0nSghQqLi8wQ, 8nYyUUZhe8hXE-oyoCfWjA, KzTTS0A0QvSflNtqihA3CA, d2DMmhujNqZz8JNCIBS9Iw, U_w8ZMD26vnkeeS1sD7s4Q, -5taYR7RP4a-moPqkzWJUg, 19fZIt1bo9nyu9AI1lCuxw, NlNlyQynkyEU3l7TR3LXdg, HC5zLdut4caN1VPqxqRsMw, mvqvnprmVixglO8-R1dc4A, -elut7bTkn0xDjQP6B3z4Q, Z0C_AdA4vJwzrg1Fe4yddg, isQxsxlCjj6P8GQ_uuFwew, X2KhygAF6fgT79-1J1ED1g, uG33DkSvqoH1HmVddm2Nzg, QPngNQRTciVkVXx_O3SGvQ, 6Uup5yoodhI5upHNaPUKVQ, LbU136tNSSwtkVN4pU7y2g, zlsZjH76jWTXiG7fyyUzEw, TQXEFaoqo66USjGzCk3BDg, 302jnQA1vup2oNMabmcSbQ, z2BJFG-JBhNEvl7Le9oqMQ, 4OgPAPL0zCXmdmV5_oe3vQ, FNu1frS8lfTaavlgMCnojQ, ikg2LJ5z7pyJtlgPQN7bcw, 55UFq4i1nTFtB3qlSbTxyw, gjhzKWsqCIrpEd9pevbKZw, RAdP9qdLwOKQdEZ9Gevzjg, vR8H4nREeWoaA601GLQV_Q, BIdFgt_4owlS1VUcTuZ4fA, 3Rn993btYslL-3D902Bxlw, hHbgEMR2Tg-5dLiVQBQO1A, g3HFkZgloxLQCvoJ5Zs5gg, LZwRtRSIR7Jv6LdBfqQyfA, hcmewCutQRhW_IYq41CEfg, Tk2DscrRA0sXPXKb0ZzBCg, GlCnAV_sNGvXylrytgMpTw, usIoa-bT9sFtUTlzXCPqAA, GPvbp82Wk-Idh7SVfIok3g, CY9iLsE2z_yLhLqJdD1WGw, LNPyE5X1K5B_flcTCH9StQ, o3XBMn3b0KUg97qJ5-Q8aA, Egxm2aSl_e9PoO-I-0XaLA, M_7cjIKGD3HfQ1G6SyjhkA, 6oA_1jGyTs4i4qSdoAdWBQ, WhL1Zk7eUntjT9v6ZJfb2w, OqH85SAF0oLijVY_SeAk8A, 8XlZ4F-ZhtAa_YHbhBPibg, f-Hgr_Dq-A0o42Wbm5Xobw, IUq3prLH-LJsowz0WukhyA, _jLXrx6aCT9A0ZSHCj7nxg, 0tC5OOTuwvPGnnqhPCoRSw, QzAmLGM7sD7rHBJg8ALkmg, hu7UAMONehtlpfnnBfbogg, UCL6XMHYiIRSQtm3rWHlnA, 2-qhf9Z1ZD7sEunb3a7KEw, Wa82CbyQ18SdKJ-8RBXHJQ, GDVDWlJAneHlpr5zbwshCQ, 6RmQrbINxXfLztb9x4IZBw, ZYA4v0aLv8N-vkHfXPVCcA, ERl-A1qpngwEh27E2D5HKQ, crXWo-KBMZkcNp5aKkH7fA, mZA1xa8PbiFlC4Pf9jPmzg, zmDD82UO06JN4YVhGnYJLQ, KIUeZpqA5DpQZIhcBwQVvQ, fsRF1PCJ16mn3T0eXg-IOg, 4tCR-W-Vc3v7iuB_aySYKg, y5EnOJCxIMBeC2vwKEbFyg, 8Zocr6jVED5JQEBvqwEBZw, f7QJaUVz-BvdAddFhJ2Fkw, FaIZxpU1XwEwV4hm7yBulg, 393M4uM_4GBLPbhQIQtF9g, FyhuRPp00Q6S4atJDMaU8w, 1GOtJ3dMhM9Oh2schwwjFQ, QsKSknuuotGUAYBCo9FDfg, RvCYB1acQnVBtWoeUIK07Q, o-M5pNzY-rFofOscR8avmQ, a-dnz-Mu1IbxkF_uVNQGVA, Uurxz2utWrvCSkK3XEuDpw, 9kWKWnKdrVEXk7fGa-jIHw, eyx42e79U0UEIqWabS1GEA, 9MBSKZjFhtsMhlNJKrBqkw, RKfETgoe0wuZds8EMDBw0Q, ln-8dqz9uu5TwjVg1vYESg, yFLNHDlCriteboCVKjtpbA, VCoBNwAUSvo0Sz2ORszOOw, cFhrT_zH8Wr875ivgjphmQ, 2PBIa5CTimGNPWfAjJYM2w, IOig25tvh2APSh34iFZU3A, fK3grD8qWcHjV7Ilxhu46w, I1zQEwWDcXQfl6e_ET7Xng, JzDPb9rFVNHsMWqaCGWjHQ, eT6mHUQ9rmBjj73PgdgUfw, ZpUI9ze0YlA6nMSHwx3ZYQ, Ddjnr5eyLjFbcpeLEUE3Fw, daFmmMy1Jy1d6sVqMWSZgA, _fysG2M3W_6UZNkAuqiZ9g, J7ka23aCUNK-v_yLB4AL1Q, CwnJ3WtR8dh2jcbT9YPrMw, rWxJKFRojGJ6GgU9WnXWHA, 6VJ59-CVWWKhOvCk8clrSw, R_wlZO-jKFGEVJnSfWISqQ, qurv1eJZswxUZaZqN53Meg, 8wKZ9gJYJtTdSVWgW7Or6Q, fHsMZwsc8vvOCHfI5z40hA, lMY8NBPyzlPbbu-KBYfD9A, xa2QB6ln4bxHaQDnJQe3Bw, qFxytBrCr8jDpvKidZ2Vrw, BRwdO0WuvAWstFF_I0wWiA, yuhu7mu_VZeCOvKLRT-G0g, 2NWKoTSkkF-s80oxPjHZSw, sCDlx3blD8x49o7l4aNqNg, LH6RguqCMADJ5YaDfoPJCg, xnpw6YZJ96_LNrRmhKCiZQ, pe8uBaOaNVc4GhHkf11r8Q, F8vy35NDRrfUG_kqT1KRQw, 4GL-FaRC0lS5e2hA5D_mxg, mK-muLy9-EFuLapKZJZoDg, AT6NwNkLKxgW2fsQGNs-gA, mHjbNKpJaAcyElR12sP6lQ, _HlDglcrb5Sz-8ePLuYiUA, OXEb4icixKsbLjEGPSrIAA, 2bXfR9n9RemUibD2dbfPdQ, QeRkcGNiMjrS18FNqrKGmQ, LMVHliZL2H76Jm5C3SNedQ, 7VrD6atyAIOPJAEdAvsA1g, hAMWxSj22KVpXjRCeC45BQ, D9R3Fc79RxMVwICT7q3cSA, HvOPHE3Aje-rrOP9kzIS6w, kHgq88ML5-ijRlQe8qocKQ, 1OocYCAZixwbAXueW75FMw, ZPDj0KynzjbdC8KHR7TmPw, Hx-UX3sqQ-14BK2iN5QFpQ, H5ij2aIF3Ja3nys5mz8aMQ, jChwEu0CoI54qyuVnmIxmQ, ad8cXN5pYhs8EtSUat5WpA, Blh5dkdcPRvPT9D8fMpl1A, nhLKCc33CVR2RATMfbBXEg, xpNOFZRu9Cdag1ZnJwe_-A, soQgHrkd_P7S1YkGoOk9Bw, GuMkSUhINdQlOvZy0MmSTw, uEKuEB0lsvd-Ht8z4ekEiw, Qza0EVW1J_k0u8BIqMRbHQ, qMC2yh1KqnzfkQMX2apQUQ, MNLPwQUL2ua0XjXtD6AuEw, iB029G-QpK_VeH70KpwBvg, oiIbFMwdViEXH6KQJknuqg, DRVLcDZzvmmAMjbYNMYzmg, 5mG2ENw2PylIWElqHSMGqg, c9EYHHrNlvuHgtJGbpVvIQ, 92SL3GtFtPv5mYmV0p99Aw, qQ5NOCTQhVVfKHLTtC5kJg, 7wPJG4z9e8QJtjwDddK3Pw, YTu0c-1I9ECeksIgoHXFPA, EXKDLuYoZUKUNNNYA7TlGQ, VM-pBrNPfZm-5YWcMCVbqw, 1xJwMqmvVXPwY7yEVQIc-A, dG9CvmD2asx8-L6KtukeBA, Bwn0zV6qiwujqmCGOduJXA, D2_DLHKvYK-lyIki4X-bow, V7VAbouEnCt39fsA1MM6RA, cZTwv-ipWAPqQeKVeRex7g, zNATrtR5oNLShyvdJ4e_bw, h9YBKKrNJZHFZB_wiyIjRQ, YkMCNI3nVukPL_PIztHZJw, r1QuLDBiJl7eWHPJBpoa1Q, x2SEBkCLi4X-98tVUxHG2Q, epvztd74o-Hcif8Ev8D09w, VEwewo3j4Qqjwa0T2VAObw, sZjvx2DiZqTckDVLAfpAQg, PXCMOkJIWIP_seF55l3FPg, u_tsaDmAgGnmOUGdbA2tNg, 849Y0FQ7nA5qLWOcCxJnrQ, CcH7knoRvWWUnPSb45XW9g, hUC20Pp-3Cj9jbBRYjn4wQ, 30Pch18LE63MyRYOC34-8g, -K2Tcgh2EKX6e6HqqIrBIQ, SaYj2QQemPtUiIHY2r199Q, wkWQD9rsY2uc-kBYjiZdSQ, JeNqqXh9wqhUi08siZ2zxQ, Y7XqTa5dIMhx-0_VvGzchw, VdGROLLl2il5-gXmdKkUMQ, kwPt9_o8okpvd_po8n0VsA, n6GBeJVd1C2dszlSOBAfJw, b4icxY2z4TrtFJnROBM05Q, hRIeyrM1zhL5nhk_cr7yyA, _3HmfCg6FGWwL1bXFUO7zg, MuKK7Kiv_zUZ0EdHjH9ypQ, 7J6sOvhSksLtzO9hFPEnGQ, gk5BjGoT--YRci9ZJ_WElQ, AhntYDYezxv6k_YFPdBRTg, CGUcvMU8csZfMclXJfU5OA, 9akppeqi5dnaIqPyJ75aCw, KZZn7j2jWRfYVROUIEg77Q, G9pojgP5weA58ZOLwh4Mqw, af6ayEH9BzsOPQRoxKNE0Q, j3kNH60B2GDAyZTkqK6O2g, UUqGHQFu2tQDGv5r3yJWPA, M271Ac7UKVaQ9U5AOvc_9A, gLtjfQKhdWQ5wvw8rvVOxg, dVHL4K-c50SgSDkawlZeVw, CZQUtmO5NIY-bZWkCqHeJg, 8QkYr9ftTna9oZTcjHH0tA, 6APJlluOroa7JVxZtmt_6A, IDuqAW3ZOBm860T_gtQFXA, HbLdaNIJJQAvmBH0917BWQ, cm7ozmKG3REWXdmpeGmKww, LPTq2-fZ9_TsG5o8lAWCGg, QJxBXTCWCzq3SWkiVhyTUw, 3cMtmDlgp6Z0riaE9J_L8Q, b0lXNnfnZpKPv7xNwpG3Ig, clwq2vSqBxlKDwjp3ilUfw, L92msw1zpLngbcLthkPIXw, pxQ1G0MqEvRTYkRGK7wWPw, lktvZdRSa1zqxYcaL0-Dsw, ntJ0mR5D4JqJOzsYZV-cxw, LOAo5pHUxrOaZUQN359hoA, -HXhiUSPRUXUqcYIw9-Q0A, dGz5PsGxJCcIFAlZwlw7pg, coEX0WGa92jJZ0Wgn1WRMg, 7MnARDva11VuOVV02EQ54Q, Q14GluKIJ0Ivciw8XAp0CA, DvWM62NWf2MV1EpN7T8S1A, updLInB5Ds73c9dIkwe9_g, iYxyCLO_3YTPVYWbe8KrLg, 48dl8ont1ZoSbYEGikimqg, WDpvs6U_TCx4799oxXcnag, Kz_g-Yl3LPipDE2wopgZ_w, 47L1cPtV-jeUt0BAOZlTuQ, oeSP4tyY8VKMW-ndSMVv1g, GFNBphYT2BhAZsAhFaZyzQ, -YZqJT1-b_UW8B40HmnP1A, LUJAjESpFmXtA1BpXb9TKg, 2v0rgfungyzC09G8i2Ch_w, bJ1XTLVgUrITrkuxqAQDXA, iMoENBpTIn8zMFxMl6tDVw, q2vt96WEQ7_pnCmMYbSzjg, NFeNXGbZWRCe6qMEppNdRw, Kx4RtLVvwFuH2F4hWKB0ig, Lz1MWhSYhpH6M4G-3MZ66A, SgecMxART3SMVf-aSIbLXA, 3DqeuxNWduWVSSD44d2zPQ, aw0qqD91R458oqnjjV299Q, GYLIjGosx4F-ZUu7MEl8aw, t3cu9DxXtGyaPIWNvPOXxA, ak6-BxpT5rUhz6RoChgi-w, M9JDlUWudvrGkLX7AkJ3Fw, ZYZmB_AlV39nBOVM75IqDg, sjXC5pTebfGMZzP-9fpxTw, 4hVHTZhy70Sw4gmQfk1pJg, Fh9NV7echtUcN84hawkBbA, 2esyx8s04Vrde3Pn8GMNsQ, YziRZOh5MrqN5b84dQ9AIQ, qaxrsNb3BcwGIw0kKlq1Dg, 80bhTVC9Ks1KlkmhrowJhQ, wND4kxLEFxcDidkmBEKtqA, dxFPZQOOuMs9xKrX6F4n_A, fxaY2NpWsq8DV7THii98PQ, WKHsyopwzYKNCZQH7S5SJA, BoFWvsVPn5_4d8ElVAy_1Q, 8oFZEpX00zZS1Dku2aKfcQ, HfjpPNjU9nViIaIeWLQ_0A, jc3jhh2iQ1dPnT7rPI5xvg, kOUzW4porPxN0n54Z0eHMQ, HKC-j6ShF_wUfB0q1BH5cw, 0FXjE65G7oOpisWKQyzl_Q, zcWunpvRVtKntD5ouICl-Q, rl1N13co8rnHLu2283Aa7A, hu53X0AgSKMt8UuHjp5ZLw, TLzwLBhPoO33w85VOXz97g, UIn1TskIxqWCVOkiZoJfzQ, 1tZgRG0A6ejbrZ1TDcDczg, hXiTkPxCtjR-jC04LVDxzw, beW2I8sRZr1CDC5szfjW8A, fPniIkE-AHQv5AcJzaBHtA, rg8gO0JL2h9O4FKEYjfrPQ, TNoEYxovQoLQ88Y-DEatUg, X_Cx2TX8pJVl8J6BzOrJLQ, lXG7Mbhi6_nXaTZojpneUg, 4l3m6Yslc5JiiMF-9E95CQ, MG4rRcQ1xUaAJ9iE5tnBCA, K8cVrkmyM2lTwR9froinpQ, QocP49nZ7Fo-4Rp_QxPuDQ, -5kpXQfzwd4SlskHdHQv9A, hEcsCaZd2ygrE61Qyv0-ZA, m-4OstLc0Y0JooMLOiD-Hg, lCkqOtZZ_Sz_WKThOjakMQ, HRRLdLHio8XNrFjozrToNA, lzBpJQtrJwzNiRak9p4Vgw, XMmAJfiKPkXTZGs5QIwycA, ujunQFF8OdkOAB5HF8kVMA, wfdktRlL6Kdka9N6Qe1NDQ, J2j0PBxPAXU5i7M0rrgfGg, ZGmwGfbDDgnTFnZyOlRxVA, gWeDN34DADPbbPzkU1Mi-g, PztmsU43PCZOVbqmJD22cA, H84tbTziLKTaLsWQMmn8lw, QC7kIW2Um5sBXo6AfY7pAw, x5qmxeiloDKtSwYwljmb8A, EMhvXSBsaUke2lgIn6A6hw, AgTkBCxuinzStHNRKyVRiw, vit0vu-LvxsrSi4yq0gOXw, bbaUZeWCV6W2WISEhOEBvw, WDcjunb-M1gMoNZ5-GgU6g, uryVjC94CE1DZK2gZkrKJw, zDfGiR43eBZjh3jtu9faVA, iUDTIqBLtBCUZckiI4bn4Q, iPL8V_dOtrcMUH6tQZq-Dw, AWKsOrRkerqJ4W9q0Dzywg, JZF94TYQ9Yxiu7RN_eHXNQ, XxWtJOezu72NrUeYe8x3MA, DBvQvSt0cCxst4NkzEUtyA, 5vPhuJUhrEL_9jzNx4JnOg, I8coxSMgn3OpifesJmjKmQ, w9Wi4lE3brb0lyrKXRb2QQ, ocVGNHZQKOGmaTEBZ1ITpw, vyjrqu9R91y80yr_CdM_8w, mDTrcaA-0SvxG4AYmgMCMA, AgvjzJ7iNd3XysmRxe3u3Q, UiRx8jyS6H957ItwFsP2nQ, rzcuN6-bBV2CSNalODR0oA, iNl1_3v0QRYgyTg3FPts7g, sE90RrPjfLQn8dkqeVwybQ, Vx-l5rI0xAiN4SeBonrgkw, XVbzdCAYBcOVcPDLPbyAtQ, wEE-YMx5pmSuagLtNxMPKA, r-8eQ28RhnQPJdZXHcTXrw, BBel1uYoIcRXhxgzPeg2BA, _sOTXFqyqC6svD1xbUIEvA, vXrUBAIN4aoCt7F5p0kU_g, 9lU5zOPluc6Y8JZUL9nzsQ, 7c8DTH2-Ax8UbBAoIe-Gjg, tlY0QMQDyfjQAEwHnzvFnw, fSvOdnryI9FPJ2ylcsE2ig, 0onvQytyABTvYrc6Av9hGw, St-BJl91Y8k1MUborKBRhA, ISJ860z59OPGcuBbo-kjXg, A-HI7Mcr_-SL60T3WvSjiQ, _5fx5gexi9OeZIuukV2gHQ, DrAFYwcn7lvUN5n5A-zJ5A, anTwBga5mwuYRt5uSs9tow, rKoNlAX-ARVNLH8FXTxBnA, uhhQmN8hULNRZobBtXZVpw, y6-ONuzNIxAfsgfeT53_sA, V-fPVHTfZGBl9UxhDXHm7w, F78tJHr0qW6FsYBtWMmLpA, IlUvLGPxR59aU3eK5UgQrg, vkfOYXo9yJ5WSq4hgOeU4A, 4COswap8Sp7OcVyn4C6mjA, chG58EhXagCSvub2-a73RA, FfNofPhHgDcUg_J84BkzrA, WDuo2LySh23HdWbYFnxXyg, GsXEiAQqEFKGJpAmECKI-Q, sEYD5YG0fGgvLXAZ5RDuZg, JtjnGTZejClempqv1OaLqQ, Uyua4cAx4aw22iuz5Dr6nQ, ixcXaxrG8J6NnDT1qDBA7w, gZWuvQKYXuOKwk344vNrVQ, V0eD9m-9OCv44tFDzWCwkw, 6rOFMh8Pj7-4yaEh1q2snQ, -kRQLEDxrEBVNXImyAt_ug, ErOqapICmHPTN8YobZIcfQ, ITa3vh5ERI90G_WP4SmGUQ, Djk49JjpKl9HQNpmiX669Q, U7HvQlvV8b_-VjuqkJ4WqA, z1QL9pkPgw08FwLiuqLX-w, FWwazUVgyVrFzSFeFn6hQQ, 37muZxUZDqPKUmCYg5931w, jP7DCqXvmhKa5q8CCZ-0Zg, gP20yP4taj8EKLdV-P-fzw, 4Po_4vgdBFk2GPeKfJqVww, DAU63VKPCPwjlxqUJi0mEg, zTj1O9lWGAnd_Urkwcy_zA, x1paA3aUHJTurbtFkBSOGg, YRAGRcbxNug0J-L9HtKc0A, 0XdpFEe84E5IofyhOaBUIA, tQ58X89wYGC74ea4xfYXCg, iDx1NCLBORSjnyXAwq3B2A, fxr-jszt2bHtFzRK9CWoug, 5Ujdrr6RwPMjoZskZGj2cw, MWuPitr2L7gDUhqRB4i4IA, la0wZVpOTfhlc-BPfRFguw, VfamLyaV1hTJSxx1ztzJEQ, amhU7XcW4RWSFX4Pm20XUQ, yMrUuZg_RbOL_hpwVTN1BQ, PyyrIynHqf8TgLb2FOneXg, DAf3UOAONCpgETWlNTERKg, rVMKITPv29tCe0CrinA0Zg, ip_Xbb1cQhVtrMSembFqpg, h_xBW4Id439hurcH7uIUZw, GmYe7X1js7ArVjFWP6-sQA, jQYIE9bjrh9EP-B5FXpqPw, oWWaIhgRsGiVvH3iT8F6xw, Cwhly6PJGXu_5mvwVxzWkg, _1I5_e9uOQkVceHoAIUFBA, D4IHMxZwxZRZMvkMEeSb1A, s_Cu43a60R42MUhU_7wtkQ, UbP5DN-E-ea8_2UOSETHjw, Y_uFxct0mHdUewOsi03Nlw, Zme22tWF1A8dUb2taAiT4Q, bXwZ86LHDjW2iEAQcPPDtQ, r_yqznDjBQfjPMpoOGS72w, Dj77pkw_EZJvR-F4RIf_BQ, 1zcBlRlLxI8tSqKAh3NvFQ, NE0Mx9NLNUi9eVUpM5v1Gw, RL2fV7JSCkRJyFUUz1qqsw, 8ivwtj0PzmDugO4hewLclg, --2vR0DIsmQ6WfcSzKWigw, UcRCyv27ZvEfSoUC4B2Ytw, GKf-pqSasx_gVv_hjfQaiQ, 4sgzw0EPj2ewIRhpFqICDg, 0NZe-dGGvEDiquDawAd1wg, zfXki1KNtU0T1I_zUyd36w, fSzJO3tSVQ6DNx6jNf_fzA, G-YCXt8qaIEUQEakmXBJ9A, 3roJp-RoqKVoMgdtuJFM9Q, uvqhDdqRyl1aqTlxu_UZtg, A21q3ZenowJP27kOgnUsGQ, AkIZlaQe7GUXttx_epYcfg, GmLpBIfp2_lug_UPkCAFNA, gTRHAHV7JjjHDuqqiWdVdQ, hktKtcE3eZ42rM2_42IhFw, crVKTU-rCjaVUVllv0Dqtw, 5UDpc2CMOgbf3GePS6SGVA, K_yjrrDZBSic30Gr-dopqA, P1l5ax91K2SYqys46nat7Q, p4-tNsuQB6O11lp77KZKJg, SddKvwI1Hw50dtLRWtZSvg, HmAKSsnL6-u0BukxABIQ7w, AoSGGPQDuICxP8LUOyIa9g, MqDgSw9wZFsaFFPRKh-k8A, TUdFxefEXQZDN8XzRKM51g, q6qK_AWI92TobQPyO2kVXQ, peG3q2c2sMhSvKoXij4fTQ, yr0geT6Lk9XUpzGxLJNg1g, C6LV0p8L6IfBfh1YFRkWzQ, XiVlH054UZ3A964ZIrBkPg, 9ebBIBcYZKXyir7rxYL_5A, DfmtZlDE8JJv-boorp1PAg, 1f33vJNISFbw0GaMYpEncw, OV2QAFVRbm123awDPQsFkQ, EeqjGQlkP0jrgki01crnMg, jZR83eAD3eMYvQ1lMooMdA, RqkZW5nVd5ESE-szZajz8w, XlmizGkEGfnpmjE8UXSd_w, Pf-5Zp75FtJpcpr3FWa-lQ, 3H3aX2Oqn39oKiUbkFROJA, premtm6v-dvkZ14tTJ6yJw, 66faELHGdA29W3E4Nc54EQ, rm92EiaA7h5lLbAK5dJKcw, jugw4sfDc30FXblq0fJmXQ, 8HSqfkfOT-eT9U8xDWxsZw, 6hDWCnwz-MaZVpOEnM1XHw, zvQ7B3KZuFOX7pYLsOxhpA, eHtvxIiga_BgddCqLgyV0g, ZaQssq23pP59HRrRdoW8bA, rof9DyrMxiWY1NyQHtjeDA, R5WcogaoAwjdHxrB2v5NsQ, -4BEUkLvHQntN6qPfKJP2w, e9jnzJ7ta06LOHEQQ9kh7w, c2QDMrUK9B9-vLRqeJ3Eww, jLOq_pbS1zRjJZLzdJRG3g, pi1z1fB2kutuXcRFEwPIjQ, 9uoPfxPKCdV5Jl3HseVOHQ, YSb8JRyI75M8FkbYWLH4UA, q3RK8zKIgjOIt6wVMCIK-g, m6UOXvO08ieCzPfNVtsOsQ, K2hRhu2g-LR4qpxDsaAtzQ, mtTc5ked1MqSvqHsuy5mWQ, 2sJhb4ZChITiv0Jo9mKGrA, iJQtNnEcrxdpaD132v26nQ, XbphkKOAUmc_cS_HBhQEUQ, DovM-_SrV4ciij3UFAQ5uw, rau3RtTey6ALyeVX2esTuA, IpvmWEbdFvoeq0PnO60fIQ, sdpIz4-s15T239CZ4Bd6Ag, VMakUjCziVNgLdsmoTj9-Q, SYaAl8ra3rZnQ3lrDzIcYg, 3eaDa9DVlu-rI1jD4Z6_8w, 0MVAQfH5bq-y7zfLHViFpg, rqv9mIc9pj9R_b0MIm_fzg, xtnxQ-61hHrkYZ3fa8OCAg, bEbLwLpJauEG-HW0w_0IKw, j03flvPOFa48InmV23-ABg, 41HLwXnR0Lm3NUp01cIOQg, MyJHxMgMhu8nHoiLOBLqeg, svbWpiDlAVFQa6dwfMtgQg, -G9NOqqH_2V9dVPG0BiLyg, qethMNVnmuHd1I4on52Hhw, 7YI8M_18t-mmPzsw5kt9qw, h6XeWG_z5l082qKga1wuMw, wJmGZx4Rs7zd5aD7NoavEg, e1FuiYSV1v29q2OTR9ojBA, ZQzkXzM3rbnNMSRX3l0oNA, TJGOaKNxnPBFAqT1PcmVPQ, DnEGgz1aFZX6gHQS3g7l-w, 5A0IUPoy71BL0V2otNwltQ, GkTW7UIpG6ms5xxhvWDy5w, aHl-3UItyhhS9P40Nr9EaA, NCbwXIoRueqxX9PersaglQ, LC_o9MypZZOWJncEN9Eyfw, mD8T6tegVU9v06osh8W2sA, zxRmr6Ve1oXcEwVuMGBc3w, ZBLZIOrO3DZJzDFlFO-bJw, nOv0AvP4doCU6Kg9ge-xFg, 3vM_Z0WbmQJWee7IeaPIQA, oCDQERW1WBjeOEO65odZqw, zsneZqcM5YSxzQh9xEiTGg, bZ7fdutLu5LFQi8kfD7Gjg, VnDKLD-bfCTB4HYnLaLzng, kKAlDVEAHf3UPm57cza62A, m_VBCsmFOgmDGi-A62Gavg, m07sy7eLtOjVdZ8oN9JKag, d7EOm7WAQfVGnmBSY5pYQg, oFHYU8jmRoTVVO_PheP13A, dObGpcV_hnJq4QgSUOYvbQ, hcYoeBtJmkIupV7EmZmu2A, kl_yCsj4ESbUphmpCfVvRA, zE1yVFofeHQnxpGFonM6BA, IF_G8EqbNODvD8RjTsvo8A, vxzfa06f-7s0ZHYP6muytg, O82e3LJA-VErkVIXZ_nT1w, gZ4OG0C_e01OSAcIXjf0RA, 2oiPE2rww3Ofw09aishi2A, rU4Vl5PMV_nUkrOBCShuvA, sRl_l2ouRLyH0E1lgjkAaQ, D35Xvfnd2IMRskgDu03r8Q, FCvStUiy2ZpAUL8VePpUpw, 3s9IMZe6cyM_itQ-YtumNA, zDoX89yalqvNuCHZvclpHg, Cnn-0yo4zVAEwMxEwhuF9Q, sICr3-csqXQhFmMY6bki6g, xSJr86JwAZk_iwFSifc0zQ, kMB--Dl13I-etkyZLwJpkQ, WxjAvHx3pR9Y9YCbtqbsNg, 4Xi2i_i1RzKkoJ41_1JHig, U2QADM7hiUtLVSxMtUSqQA, mlxbtOp4CsI1WukWWcldvA, bVthsfeUU3Bd5AeJLqKT-w, 3HSmHE-FQZ7b2kyfa1e64A, XcZ3mp6bfCM73Sj_zu4LRA, lzdyQzxbmNxtKRZ3seip8g, Wom5ss-owNYkxSy_j4s39A, Q3oJxd9qn0V2P6psenMGUg, TbsiIcdUlpkGXu8NeK6kqg, QKkrC1bc0_VXML6AfjscjA, 9L1y5Y7LSxOHURxlsMhP5g, Ni37YcpXU8R1dM4_qLz1Nw, l-fe24FmqxPW1i0Jaii3ZA, l8G-Cnsegogppsri3Jh2aA, 9suBkCbsDlnGAVF5TDyjSQ, 9ABH6aJxOCeLsmjoQKVWqw, quDu_Z0-i9TCYvdHRnULEw, 3mNz5nQFTIBQm0oU5mBR0w, 15lpaZIh72pwP6lixe6jhQ, nzsv-p1O8gCfP3XijfQrIw, VLXH7Yugl2o366_s_MkrHQ, X_BT4CI2gEB6FSMiLvcxqw, JPIQ_yyxoama52vtMAwIRg, p99BGa4KWXL0rZ8SQqfpkQ, Q27As-XAApe0cPxPtJwZgg, eVR_w02XKhv0Y2mCfOk5sg, oUNm5rDUDxu0LMximnNHWQ, BbmmqH4nvHuYmRB-GN8Sqw, ZOx0CxL22g5TRvo5wieDBw, ZdmI7y9vMb2_8EIZk5i75w, _xM_RQwiTh2lobSSdL6eMA, GFkOkEpTGcXxHd0-mnNVdw, M800QJaUGvjZ_onC-M4fyg, G-mWHSm6XVp1oe9PN7NUPg, S5WQcThM04eH7Eu0YJ1a1Q, SY6rnefs4-k1mORy3PVxOA, djWl0HKJwEwWlY-0vo7oRA, HMpmiapmnLKpaipmLjgQEQ, yZ4a4YFJfQstfkXAsRbjRw, JVTcskIsqBgyw7jTQC9GYQ, IZyx6NnmZeuwf2Bz2bPJPA, URTnq_KYnZtKZOhPvAIlwQ, hYejSGnGkVvT6KA4AVdYWQ, dmNhiDUaoBZzF3Zx3CMsSw, -uv1wDiaplY6eXXS0VwQiA, IlO_qIXrsn7LuWj0whIzBg, Rqyopl4UX2Yuksn97yR2PQ, aD263WOD4RShoqgvVhcKqQ, RoGuDu1egfAvVgb4WmZwUw, JhkvUt_mlex23RtbwjwTSg, LNHtt3ydkZ14D2ZXXs6Gxg, Rrmb6UQUR-U3an6wy2h9wA, TNWQuWa3kLH2Llx10LW1Yw, 7Pw2eIAvZLlO0BzCFCI-Mg, suuIf6JWTZFjSu55k7zTBA, BYm7P2KjILf7L9pwdwx9wA, JCXX0PsGak6HlF8w1P3uiw, jipgimnSNp3qdK2dKUQvBg, UVxY0iyPaqY7s4BSFtt-xA, oAKrvdtdHsDzV2a0FRut4A, qPw76gLAGkqMD7VNed8tcQ, ZPXAvRUG-rQNEMLVQnZ5lA, xWIMr86Yo65spUjGjqioOQ, yulXOMg9DEgPdnZVbb2zHg, PY8ej6vrEK19prtBCdFTAg, xlv8kfKEy5ljkEzhuYRNSw, gADRy5HxeHkXTVcfJJig_Q, pn_flI3EBNugBEYFp9okxQ, c2cPbYj-9lpy-aou4OkhdA, bHPa5wSpR79jKG8V3yFasw, jA1XJqh5UHdDXQstCOFfRA, uZdFsE_aHbFBChgN6Xa8tw, xb95EKs_kZ5Uwsi2M3uslQ, c0S3W2ziJGHxtdxjTUz5iA, 4ICiL7l658Mfz3dm5YPu2Q, s4NgvdIfBH3UQdccWCyARg, BNuPibT74jf8Kp47bZb7DQ, 87Awbp7ZZdw-CnYpjFAtbg, NNN9qmqS-obqC1ozF-GNvQ, 2EHRvAkAkJ1WR1TCzqB4tg, 7Ie3f_4upzsMNAY07d19kA, 3mRBBziuhLOfZ7saU7UAQQ, xTXznvBbSCfBzFaUUV96iQ, WtBfZpY5xW1Gji6x04Fdwg, Hz0BxGqKCYvUEbMZoO0h0w, NZ5CvFZhNK1VivFi5tPt2g, w2ptlD8gg7ZhzSNZIe_ceQ, JggphOM7FIbvUyPcsfcNTw, aHdFMHuHPNxpmG6MOM9zNw, zn70PhXYTU56znyMbJvfeg, kd8yayo8d_3xlVCLpYsLAg, 2rjQF0c94lb_39vZLRdtJw, v_UCkbR7-huy_oZNOmEs2g, LOi1qbpl2hTP0cwSDDuyBQ, EYxLFVpjybgMPyj6Q4KXAA, oeeY6dfa61XPv7oPxuI2-w, oHpAJUmLa2UBlJdWFp70fA, A8SUYD9goHqo4iIYefTbow, zSLVUcFSpMYFWT7FxT1J6g, RWfhiaz6B6zzhaQcPOzRtg, VtnCudEFLBjnxblLUAPYhA, TNjKs5lTq4um2ElB6RonIg, m-P9aaSngfBNuMTQZLekoQ, I-02Mz45H7siHsjjgVxPgQ, yHM39USuQf_j_w4yDCqhfQ, 8lpj4jioFulm5_tbcSvcxw, mqzisCyZ_tlpQt6HkNnhOw, Lt1V0ymD-P1t1om2cThQPA, IYVRLuyrCuUQpsUmHFwrsQ, t_7ngdXz_NgOxbPC0e0xoA, 58VeQ6Lfyl7MEQTYE8CkkQ, 0JOY3EZh_BfD_n3MvqWAEA, KVehpTNCERwMGAx-h9MR-A, lSKKtZBmD0GIYbirCMUKtw, 3bhund2YNeUuN-sVrlavVw, bBRPy8zUvNc0NGbGmkjrZg, X9LT66H7NosO9MOSm_qt8A, sbw01AmkKJERxG_jN1DnTQ, rLg84Iy536A8zd-kjUrpeQ, QZ3grLRAy7do7inT4OcltQ, KFg-RfCnK-abEeyrcs49jw, 4oo3lq8V2qgZYyLwcoIJWQ, l36ud3agBxzBJ88zIeNVfA, X1FsS4WBEylCeXw7wW5u-g, 7ZhK2OhogFYVanKJRvmFTw, ZNwmZJg4nSXaFfoH25zl2Q, mW3oruNHoLyv_8n5epnzmQ, 1dQiuUvvK8427TBmqj_4Vg, kqlN-k5PtDm4MEdwbrPVuA, BcGCwtyzMlebSi3NinpcDg, 0r5ziLTmKo7YbGxDAL6XcQ, b8EnjL9DwA6rNDQ9yoIwWg, dC5kYsLGGoLLVlMjeMqfLw, iZtzDTYcj0vInnCpKtn9WA, iLjMdZi0Tm7DQxX1C1_2dg, Ww5xDTsEpXnugRMVDqp5Bg, G4gUmz00molvK0tH3dguaw, gGlACxJ06r-F2nqCU97_Uw, iCPyIf7M07-fOS-rXUCKzA, uU7GIgzs4-5Dtp9Vuymb3A, XPfL5U5rMHKbuczQ9cZFYA, XBA2OF7Euo-wm5FkCyOqKA, AK_jwiwOcW4YU-dlh-uciQ, gZiVha158A2tRf2ZVHlTjw, wX6UbItmRmbBPaNRjy1tSQ, CyPyyY-yt9BF3EjTXUwlJg, 3b8UoD9BoRd2eD69MNGVDw, W81-CPVrM9c6F8XiNuEUvA, HsTEfv2QiJBI1VclnVsxnQ, EaJE7JRFhpOGeOfH5-XidQ, uB_o-JpEe3EYCGqdZCnVkw, t8PN1mFxF-FHQc9cNfmWBQ, 2ShK7OdJBJw_kzIagAUC0g, scb7Z1E2TqphdocSak6www, E0jSWDIKgSLzInfPRvT4uQ, 1xqwVCfdpmjNjm4tDsEslg, w-w-k-QXosIKQ8HQVwU6IQ, pJHg-bdR2SLO_-r8FCLzEQ, x0u4Hen3-YIEEZ6O3wZpRQ, eSU_HjKOA3Ppt8oS07oYkw, BOAMBz-svKl-ZGeSVowWOA, qztIhkkSOxMFI1XLGeRC6Q, fIfKT5J7OWnr_sNP7VKkAw, qCyk4dMu5vQ7YpzvWB4yNQ, R1WTbEL5nS5UBz0IHVnJFg, EtBea-v-2JAvZdfg7XH7iA, h9Bu6HuCWktHPBLb6_kduA, Q64PXeLU7HangXHyj0ODuA, tOniwJPtC1kmrgYfzOrojw, joyw52G3uAF0eqhq6LfL_A, Mfzz1HFtQSIBBQKDWMW7Ig, ip33O1S-GUIDXHwcahhT5g, cwbjd4cT9jlQybaQ_orxoA, MByYNutOWC938H_-MjyjoA, zHBEiSEk7GWiXrTFtq3LzA, nCCOt7i1HWXo4q8pWgeEUA, hesGaU1cfQinyauBQpuZrg, Wnqw_T1eA_x7YlVFl6D-1w, d5R3v2mQ_0n7OODB54dBpQ, QgqYTatCHt5KlGJIgw6gAA, azblSzf-LB8bK7fH6uuulA, 2qvUwbPE1dIEdSq3C_CDgg, lpKxWDfrMXXhoZANpwPYaw, 9m0GXweSQJSsxuK93421lw, UzG5IHFUu6H1UyCRbqHHZw, YCZinrPHk4Hm6WgighoS3w, HYQoxBC1y1DGPq6pGP09Tw, aVaa64zb_-d6VTY3XcXyIQ, X1SqqgqUMO7pPflTBHqKmQ, fForz9sBwM4ZqbyB0XaIQw, SVtNctg9k2QOGj0znfHVwQ, nvHLV4qbwvbKHSCP37xT-w, ipleTHGh9KR8hO5U1yxzXw, Kwz6LPHSIlHxN1SaNjiEIw, n8YKNoz1xJHJDe-_jxfbcQ, 7qY2KOV-9OsvlT2qB6NgDA, n2LM24lHn0f6aeUI_JJYJA, dobwUcYUESqWWTzgobfINw, Hnb3qs75fMvKHceFYxjuzA, kT-WWv60VZ9NFFkPTc9_1w, X2f65FJ2EZ5pb16jzcVAoQ, ZXJ80SFdNBIIoKyTYHZ-Xg, Wm2VNSNKXilGrwApVpO0NQ, 3UW_-mt_Ed0v4y3bMMQcoA, gnHGRpU_d3pszxH_poN0Aw, xsIrsH98Vpf5v0ydv7gHkg, Gg_ecA4J6VQzHKNcLVJxYQ, Qlg0BX4UKuE-bcIm6odjMw, REGjppkq2IkDLRQVmRj_Bg, BBTFyjdgWSEdzhQFEQx65g, L1Cf9w9jwtiYVMFjIQyHkg, rO_gHj1TYF3NwLlGW5db5w, P14bqC_Ynbp8O3tLePRKSw, O3i4PB1xrWw1VY8iqseHHg, vC_pb4B-D2wb0rkNk4LbnQ, DECwE-Th7VEa5PWWoru5iw, 0JGU7X3w7wdnfYxRCF-V6w, ucBInFb91cQZ0i2Lyyq2Sg, rEFkpmgrgwjaQ6XDeYaVTw, cqf8dqO5_QUxjfo6WiM7yg, 4VbB9qS2Xvk-bjAI1bNlGw, 6uFQm_Rg9nzJz9T8k0MoZw, iqHbDGyKhZdjvbNx4s0hPg, Xmfi1Ewy0c1vbu4oslOgbA, kiNuLT0QBYXRaH1DSXykFA, HpOE7rs6oExv_W8QvBFQXg, -P6fwogYd_HGkKKeVjBXhA, VK-ds3dGSSBoavkFde3e2Q, 5X_YRjLAajd489QXLHYb_A, _pBzBgtCTN9PNUPfgPDI8A, C33jQ2Ne8KC4W3i-S7zjDQ, 0nOIH8qIMnmZdLCTemnRsw, H6o_yPcR97FHMTuKFmvprQ, GuNBz3pAXMxfB2SBd5qeuQ, o6vl8qOKbNBJZ_rL1G8n5g, bWvELivVIa81tFEqiLxS4A, G6staEwK0QydCGD8XntY5A, 7dnh9OrD8LekBwvachGH5Q, qUwNXKhcPw7QI9cnm_Vajg, eH27AhhhEFV-TkTGoSsf6Q, bzxMXvJWxDmEjrCHDImmwA, Pc9TIdnI_dgds-4xGyQwsg, j2Eu9pE22Rp_DRoSp3KgQg, 2Cc6OGNPS3VP8w2anS0nTQ, RsomFs3zd69VjXG9cNjzjQ, SWssGoA70wb9qq07DEgvAA, iDzPWdXnJexOyFtAquy1Ww, BTXj55FN4DBAMes1ef1RfQ, WWP06D5BncW30kSOkOC6WA, NsFfswfKLCRb05F0rV3kvw, bW6VMyB5r05Yze44Ora0pA, ZDGu6EMRXqDjhxAmcNU5yw, nNsDgAaEbxXw-fPOlIaP-Q, qGi0xjK3HM3Lfr6kSwKZdw, BPmKo7dytPda3sO-PGyZbg, ei6Z52YF1UyTVaMQOYubPw, 97YdD8tkMkUSvGUw6_u4GQ, vERniq3q3MvqI2WiyVCmBg, HSiz-rO_OsdKx7NWXqTihw, XunlLR3Q_Vt_V18VzFx1Zw, xzWwfb0iVk4w8u1laXmuSg, TEtzbpgA2BFBrC0y0sCbfw, gGBdPktBFU5ODahPuARZuw, vCyvUmbQkCYct6JXlmXRaQ, MhVvtOGpFbJ1w-fIWB7z7w, hOzPAkK92GtpGM7JOSrDYw, NWuFF7-HjYE9dvt_xGbEhw, zqu6Q6g1qzp-LBcv7DhFtA, cUnvmWGohwnZgZtltVmblA, ufb1C8Oqczl4vzoxMwYnIA, 0zVNLGyQ1PS_AQQUEJTN4A, bTFZ-cepM91pdS2PFpvJiA, 8hwxlt8nVJE1y2-gDMTzhQ, MGPQVLsODMm9ZtYQW-g_OA, 4VXZfT4yZEw1e3Le5Akkvg, VblsbB7ikbXTi60Trnvcxw, jZbVe9Imk2WZrhLtkrWdaQ, qwBq50vfZX9xc8oqi-nIhg, XbuwjMgAJ7LZWx-wIxljJA, 0niNpv8X_2I7wIWVWl3ZyA, q1tg4-cLJWcy3HTEn9NlGQ, kkkt2NvWRcCqbkhlgtAKpg, _1gue2OKOxLqWH-FbS_82g, LiQAOWk6BlnTQCLIxvx1mw, cHpXABKFJ9oWZwE4IK-Z8Q, uyEatuFhLs4hN2ECny2P9A, blDEPiHngPNj-qYUYrZVww, Ylbq5jVlIRuzRa66E1kOZA, lgg9CDUOfl5G5vFUHskVXg, 0usfxLLxlipsxGKt0QwIOw, 0Zc4BxOYsFGPsgmt701gig, BOU25_BWQnLdFJBKUe2XdQ, yLrCWhs-NotimHLBF08ltQ, 2oNfIz8SOcUIclduAKXlwA, INxvh4Rixsdfzh6PcWc_pw, dcFF9akYubn_UIwsXX_JTw, GaK9oql0-zyIOYP_v1NuEw, gk3629ICHWZfekXsWn_vwA, JlxQfrR3qEBHezl8f_ca4Q, Ydh2zA5wUlD-UbApp8toGA, bHrqDfgIhApNQmTXK6JKwQ, RF67V-CB5uQ8Qey5it4dYg, mrO2R1Uc_DmKKEtH2VTNDg, qSh-q8M-rL4PRVukXsDwWg, cV4y8L-qBbl1eIwH1qI0fw, LU43O0dJV6vbyp2cll2JPg, 8c2n50ngClm2o_YhQjkbPw, ZKWMPbP8qfW24C5Vgzatsg, gPMD9UksErx9u45Ejq1k8g, h4V9maImHWJfFVN7pktuFw, HK416Ol79ihdV6TphSOKtg, sMKb2SqGKleX9fXQPt_7tQ, ZcFB7xOpJufgX9hHPFh9mQ, xbDuLijIrSV9Tw_x2al09g, 0vHNevPd35qO6NCvoDkuMA, Gx9m-uVNSAua8KdVyiQfGA, exygIMUwWiMg8HU4L_lNIw, LyaHy43q7NnJZR7IF5au9Q, h1iHv3pLD7TzMJ-cfEAyNA, BjtJ3VkMOxV2Lan037AFuw, kgKl_TSwiCJ3iX-g2VP0MQ, 0EQb725siLauTie9ubH8fg, 4Y81J2Tdq5XAnkeYmCZ2ow, ZDdFx-SB83Vd0psiXidpUg, WdRdVg3-yGJ1uPY1mBDYeQ, sgO-W7YX6ZHeNHQFOl3nGA, -p-bowcfBW0I5qeMS3Umxg, O6HjMGAiWX2zIr2McjfQ4A, JjXuiru1_ONzDkYVrHN0aw, 574x3ezQTKDSsq37bi3HPw, w71HyCRBfBbWknVGzVlALQ, J18ol0RI1TuyqGKFZJfh3w, hGng2Oyq8YhS7l8AzUG10Q, ZGYNF-otqm5DJvu5_sNPhw, _yHTJ-clywWgDvkP-IenDw, HDb4fBWIAQ-foS8qLJty9w, 9YZV8W7IZe5ZXZp17xnjJQ, c_kSlhF82DDLOriQCwmZXg, uimsjcHoBnXz1MAKGvB26w, N82O-pWWp8xBJJH_UNJ0HA, 0PkCxX5PeubHdkOLnvSVaA, p6cYY_gOY4ZY0A5s_LOUyQ, AdmLRFpilAktru8JEWUjvw, M3w1rv78j3nzQcJVzC-bNw, JGdKYphlPcJTBhHBjCfdig, ikt9qlgVp5CgR7FhX4F2RQ, J-kYkJJYCgzAoI8BFvT0Cw, Ur_wRwADcTp4FFDKqPYxoA, qWGWaYz4WISQeU_A6kCPkQ, WALNtcSZlONK4Yj-o3pzKA, sSH6M_joZUy8EyHPAfI7iw, UyIY70WUem0Ka3o0Hjqtqw, Roj31A38ejWdXHet-6O2ng, YIyGnPWNA7rb3hiIgFwb_A, ePB3pBx7eE6ozJ3QHRTxtw, tbI8YO0O51Mrm_yIiD9Ptw, DnS9AwiaRb23nV88znjeLg, 0vWjj3ckqH-W43k5BMgvhw, axRg9Gsbq5-JznPkSGYlUQ, rUV1FUhji5xMjNBpcq5SXg, IPeLVWmWpapIGZnlzq80Qg, V_EihgvX2JotGSgWPKeBDg, O8mIXVx7o69zWUk5mtOi2Q, 7L8O8wNZ5bnbZrbDiZ8w9g, 1IOXBWs_igVGHmkIgpe1Aw, t_RZY__XZZgbfEmF5SrHGw, T6iHpSSqu631Qu-87mQqSg, 7an-zIbFKvGxjpeNN9H9ow, vUYdV1uos4xAMG5eNF9znQ, Sp8aOQ5sHta5LDSRjQ0uWw, 9oAk1mL3fzC_2ixGcSkp3g, AV4zFJb2weSfY82g7hfibA, x9DRvDktxccwvZemaOMgZA, 4IZxXA8XxeUXEjNf6yZamw, 73DZUFYAXuycbJ_eEAox1Q, KkM1F0Cf6HiZs5aNx8FQxA, vyTEy29AjYpxklWUsevPsQ, Re_t7o_f67Jio-FKroOUlA, I979ktSBYN2OfxIT4ohZTA, l45F18CzetANcICCyo_OYw, qwRurZ3DonAiDdoWdCIEHQ, Y44be5BvwokcT5PGgFOcvA, eHcPz4X0_2UCzBnRSfuUlA, LpKGFM79E9lLwSiegsGVjw, ZFICOFsXYo5I9_0UPOCc4Q, VPSiaHzb_hOFi61aBz_WLA, Valva2MGzBW8ux3641YINA, pH8aCP3qTaTuJNhHyVsZTg, i_s_B01CFoZ3bw19vgsBgw, hxJAUnkIP550vrCMFIDrPg, E8z40nIghchINTwbBpPRiw, UpJOwLrIH2vWsjMfvUgCyQ, ez24d08Qyqb7mCKEuTaifQ, sRVGewx--HgwwlKwAfCO9Q, sFFdPjsKWMfZA0FbAK9pEw, trUFnQXasV8l2iJSzZKXrg, B_2qev6exPELs7ZnO4iljg, iIEWzikBabu5XXrNFX8RVQ, w8yoASmlp6RSaZkFD38M1Q, YwbzhZXbXjiBnE8aISusFw, wTcAXp4eV7OowBmc2uxzcg, 6p1NDChnIpGl29Ce3cMKWg, Kc8uXis0BVPLxGQQph_nUQ, MAYg7YwA-bFhZqphq33UDg, ykjSgQKC60S0QCIuig1Czw, 5Tc0YXgYDvTTlps0e8xTNg, 3pPrrJf4UX1oXAWOQKscOg, czw_wLjynxbr1A6f6f-pIw, 5iOId572Hr76oucpP1TNCg, LE8n41XjoPWPu4kSt85W7g, RltxaRS89a5jtGW2KniNKQ, qpFCY_wj8_G-HOV8MxIaHw, 3HWoDkA1AA0dnn4wMMjJQQ, 65qLn7t_qDoT0lB7oe8zpg, jbGIMoecQm9zG8Ppmx-Y-Q, ohoyf88TrW9DwcLW0U1K9Q, 2kp4e139Uzv2EhlwBidfTw, N1dgv7We9hfguPxGsMEZ1A, -V8pi1JMGp2FKhuf_kUt_A, 3OM3qfY5cTaYweklizxjIQ, QnoN3SNip50oBtgjXmfGYQ, pYXjk01AkHFaUWrCGvkz1w, AxfLs-3fwGyBM0KJd7ttdA, RAmoqa3-hn80Bu8fK0T6TQ, IDhcaHM7KG4EDmWf9b3c0A, S7VG3vBUtJDLKX_ewbc15A, vyVbpG4vbhTHR_eAImCp3Q, VZT_ygxLe9b8ApK0fx6teQ, uFdRc5ePCc0ug2nhEXuO_Q, x3fh27IO_bcjpGndzaAAiA, 6LmdYq-mhsaOXHjGh0lvQg, EJPBXvEdaodsPQuYBT6low, oMem-_dyqT4LxlmRilaBug, mJgjSsNnnZpf_WZ3H_WsHw, ZgQNnH5DlQc9JaNS-2VWAg, Rqg9Rf5ybblqBZ0p5iPn7g, uYy52H-UGQvZ8pXriv2yYw, dHLL7SVGJw5uM6IEp_wb4Q, gOM94WGVzDolFKiquGEgwg, WGy98ftApSKJqgcPQR8gKA, Tzdu8NMT7Sv87HLkpHl1LA, qWS8oZpKQJ-dQ-YyDLRRqQ, ObSXluQeEYiOP9l9muFlGQ, mX84lBw8jwS2uQqdgKu_aA, jHrrlhsJD9XL1Nj6SOcdlg, lWJXYN7J7jMpF12izhGJmQ, yfjmv0G-IypVhPT-ffBunw, oWl1LUOF8fdIHls7Y-sUVg, guwRwwQLPJ2ie_7YNfHMmA, TGl6Qqk1NUWo__YMqLAlgw, 190KwlSWfxzxKvWl5aoKAA, 33OzyvMjDhGTUJubr4CWIA, dusl6MaLSfYbE83_iVO2KQ, LIS-q95y_xTlEubZAfBgIQ, duihVwxxVm8iD1NVPwiWCA, wjYtZFVzs2sIfwbUYb9EIA, irkLTpGy-NJjJDgkqZXC4A, zxF7vwh32ccSN3CbCMlalw, W1kPmfTMTKz7iFb6PPMH7g, _RQvSXkUlQDVK_d3VUAPxg, ncvgNeEsAIAuMWYFN2blhg, EUIh9orBPYPgjysppbti6Q, -WYbVngIGDQ81MY12UtwnA, xfivslcKdbemmzt1s0VX7w, 1jypp3rVuSTDnquZlRahXg, ZFxU8-XX9R2Oe1UgtV4Fdw, 135DbbQnr3BEkQbBzZ9T1A, 9tav_Og2maRV0ZRZs_fSKQ, waErUqU8UicsjxG7WR2bbA, huDh-iJC4uyAA0kINDv1Sg, VHdY6oG2JPVNjihWhOooAQ, vlj9tyBXTcrNkvNvhEHBuw, BSsxJrVAwsHYdO2Z9SPFrQ, AHz3sGxkZjAzv8uu0Q9hqg, O8RYLkWNmZYr2HgKWsmwiQ, Z2PeqEKL87UUG3vfMBRd4w, YDYfSX1tDs3pz8sYzcCd_Q, Lu8y2ayxVlAzuJEVfVcH4w, KElqqtWSo016cP6Xy1wAng, 44v1WfFM2tIWebT4VX-PUg, zWutVOI1RCXM_GiJWG6H0g, uOP5d3lhIQP1S4uG5UFXAg, BoNbRffFMN4YDtDGVJIvuw, OnagJ2dnPjfRRT4a_CgKCw, z4Kb7zyBTP6yrr-6HDzWKw, vRH8iEtPRW8kXsADIn5y_Q, BTzogObU2RFLCU56i8qdlQ, QbHTEJ0TgIWVFSp5Shkxdg, spDS7HPrOUc3wCNRyfSUnA, JghdR6pinzGh6r5EyWuUaQ, 3TJcP0stfxjWGsLuGQgQdg, jcx5WBxfVALqIMDa4HAkyQ, dSj_Q7vt6h9V4Oc7r4SS0g, dRaLq9sF45RYHhKfUd8NMg, sGYrxVCEJGGBArWI1LUgxQ, rKF-vr42FCp5vIN6Qv4X5w, 9SUE4_5i0gOAqU7ChwO2JQ, KIKqwPMxgjx26_Vh9XZCQQ, IDVX4Is4CanREchBmpFXoA, mb2ZCVoglkfitoBGR1lk2w, OnMSdElNtboMIx1fXo82fg, 3g_vgaCNlvR5uKmUkSz8Rw, _-oTR-yaPtsgm5OGFFzr_g, R3_MD9oi8AH6M5IB_9zqnw, aISCSMvsLXamoguZy89h4A, GgpUb0DEOdbmkFJEfT1vgw, qIDy9zJfCuqxy6A3exPe_w, shTVQJhu-NftZfRTUxYxrg, eSlOI3GhroEtcbaD_nFXJQ, 3jKoR7kgSImPlaZAL8tjvw, L90SWOHt1yF3vw2OW0NxAg, uG8vseh7LCSQrXnjyT0c9g, LB77QRy-WHYg5eH4jLmV2Q, FaPrtK-SB9sygQuxndPm3Q, eHuTAF90cbLi3JBKDOkiLQ, 93N4D4zw4-qltGpLQn447Q, RgDVC3ZUBqpEe6Y1kPhIpw, zvzVQrwFpI8x89L6FRYIrA, Rg2J4V438Tmpl5W317D3oQ, 8DFUPFtJLNt8e0sv93xgCQ, 97kNLwiDqDOO_hO-V0sptA, 7JpPvfDAE_14vA1xgFOFjw, mFtQq0nZI6WRn8H57XJpiA, YUx_I99dRSO4z4PE_-z10w, hE9FCBh0BPd2hEhTMNFp3A, 1m4Hmm7IbgGjVupM7CQSMw, b_qzqJ2_UT_CygtWNqnadQ, DG8UO6Yzi3Xw2DY6ZZq_5g, 5IX9FOesKrLRyz618xc6tw, lM19Y0-Zj3E_4Q2ygZz9FQ, P6OBUNnwvMqRr3dFwjDHTQ, 6ZFw_QPW18W6p_Wq71NwRA, yKHXK8ywqSO5_kUUc4yBQQ, gm87tv2u2TXFFlm-NR_Asg, --17Db1K-KujRuN7hY9Z0Q, cq2BfFEeDmAC9055rvVr_g, Gcjr__StoE_lpZjDGc31Ew, v_6TQBvYm4--A6eSMcRaag, ZDTBu2ZSPh8UGrWH6VaSOg, iT1li5FhUudWmviBMMdS7w, l-zgWG-brcQ4iRev-pfrsg, iuYY4EiJ-zMtUot4gQg_Tg, CbwS4MCR9e2zNgZAtzncDg, rmWxq_vQl7exHV6VobaxgQ, _xpHtv6HaCAnlyarHpBLMw, WYLkyYXOXtQoblF941gTng, W5uO2M0iFMpDQgTQKY9ISQ, ok1pRLiwg2YIhj1vgRliVg, VtiE3eXNYtH-tb0aFCF1Pw, ODsM6-_BvHt6-cqNylJn7g, Bw18f_vUTzL_GhI5YkkeSQ, H0Dq_zK4Ceepkd1KdDK7BQ, drzHAHTHFnThHW0R0rOdDQ, NOUfyJW-BAo_-Cbfo8edww, wcqIAl1uaox-rJ1OAcF3gg, 0iuWgNb-KbM8zY_xUKqObw, x2VyzKW3G9Ko3r_oFCRLeg, TIrOT3y33xydiOnNSqDvOA, mlyWbiBf2l0fX_5pYL3rCA, S5sRpKBshe-Mrs1UL2KurQ, YeEUeu7W3TM9PjBsGlyktg, Kx1mmOYcIrg6QkpBal-1Kw, gf4tyQgQOtVMkOdvveRHVA, HYj4FLnYKlIk9EvBBWlKyQ, o_8sVoYIFnoVun5YY_lAEg, AhNhFTp3DW3kNVTCwW-e2Q, 7yixohE_TYtxu1mS8W2amg, TBvNuId_MUM34OSEPYBJWg, zLXN88v_bTL16zZwCllx9g, wr1Y8-yLVCoaDKR4ihiTGg, N7Hk7CH-HUcQ-IUdJoO6Ww, mB7EVheSu6btfZF1oeYfyQ, KXmQhXI89cJUtlEPtTv4qA, OtbooagsCGPM00ZbDOyPgw, ouQiOwRJ4nebasCL2vo8vg, PABIXXEx_6ykhF7I6_Fu-A, cSvwgRq74ElhrE6AQEm3DQ, m1IYrFif8u7Tn1VYRDmZvA, 9aJKI0p1gtUpBAmdYbL6aQ, 6veSoRwdfGBjxigxV91BsQ, yD1aRxezQ8XjrKogEfuShw, 1KMt6fdKcEAdStjeJqk6iA, 2ReIK14NZX-_VWIgjnLRAQ, HRDpNT45XvG5rEAwI3Jnhg, _mLcPKAl114VBlLRd1g7oQ, CioDTqsG3pggmoL7y2IsLQ, F4gE_C9tfI4MKJaui5KbxA, pjxgZ_tjfP4xibXL3jofPg, 3v7hHcdcBHLB8knfHfBNzA, jUZW1alRK8QvdZ-pH1OquQ, -qEyJ6oCKGeX5cdb-BuRgg, LCP7_a8lXYIKdziF6vxH1g, yzRzk8E-cXPHj4P7Ve3I3w, 8VJnUeQh8RRhNtbbPECaLw, HDkeb2idHphldqW7VWdrdA, sOhv5LHFsyf8t1JpgnocMQ, vTugBdYg34rX4KvGpzBrNA, erywWqnqC4dVQ3b9gf52Dw, M0mONsg1ZJIKA30ad1qE1w, Cg9Y1f_oXsWPP_4A9VT1Lg, L4qdMvFLu2s6iy9QCRzJKA, wZIw_htWM-5EY13xuippxw, dB11NQfvGM-cv-05YV_SGQ, 47f_WPZdFYwbwmE_4YunaA, E-ws0CUwkAYlv5JEfRr9mA, gSYxTvS3wDauhL4DZWIBEw, sMPNFm9hBVT-dhOdUcod5Q, U1cgU-ncfs07P4Qxwv3Hsg, VB2FbK8dq9Poz-ZPGXgmeg, QIxGeKcAx7_nvRGV9fRmrQ, SlSjs4CzECMc68-0EvFtYw, SxY4qXVBMgaTQwEUzkSdFQ, 6vZiVk2vyOVqkeNpcGHxfA, 2Np5R1tcNteKa32hin5_Sw, 0E7L58EyWJV5mOC4qxvjXg, JyB4ehZ8bLXJG5dEGCMX4w, THfbJpZOn3nH2IwCizVXrQ, Jmq2U2ATDyN_aGazRiJTKA, jrpY-aiBoUJcmGCEOGXX0A, bOzsdIkTveA6glHOOMPpkg, yhOqsJV-I0-MicwR_xB9Fg, qnQlFCEUX5Q026RW9Nftag, KRoCu_g3tiXhJANzo1J57A, loVRUVrVymHfCMfjHHXxCw, T-lQxIoudx4Rm_fuBxfXyw, Hm-EoksgAvABuE_FS89SWA, NUh5fHTTDl7Dmr69QBU8rA, 3GXXeevx7uEdFMrVYekFyQ, WzKbVgrtcBLlFFnwzFI9Dg, 9SeNp8POLZxo_w3Tgy_XpQ, qr-cRFMuPQwd7pNeFiCYgw, slEQF9aMoOgHczFlk-Gi-g, iEnMHkfiQjgj-HIvRka1EQ, GPJlsMdwIv_RG64fmne3Qg, 5L4QEmVmeiriQQmMw6gDKQ, zUafJmPmZRZ0j2nKxqOjdg, fH2kwUyJpGWbyi-rYJ-ePg, FDVKvKsgkD_JduTY5RjSBA, I9m56qSmf-3ibj8oSTzxIQ, oPoGQw_M_7NPhD_VFuRO6w, YCojkf140pN7s3R2kVM9VQ, WNZfkL4DBspueoGSUOMAqA, I9rRZrxnKjlQvuzzoNUh-g, Cvvu2V_FO3FjxIHpartSMg, ud5OlT1PAAde_ckaY-C4xw, Y6qFidtRP-QRK6Tr2WG-LQ, nokro3dgDYQJxkELvrqDGg, V-t7jfGjn2CD2sVBIHCiOw, uDYNXKTd_cixNNfsyWg57Q, s1kbaGxgMFUOeOy7_Jq4zg, WjnCLLubS0pbTkxs-sl4Pw, zRH0dtz9PdEVLZzaq-8mNg, plZt-88namEpQt_G5mSe4w, Ku7l1UkMmXaRj-vdb7GadA, A2h-A8htZOfhJlGQNSx8LQ, op54wZonO_s8ftSXpWPdmQ, r3ov7FgibBx41_W74I1KiA, V4unpKMFq8kSHDMw2UW9rQ, nfBG9NvWFKfNySh6NVB4DA, io7NI06ByR7JthVlS29YPA, 87L_amkNITmdmLhuCgUZmA, argaX4ADH_Wczq2ZUPYLNw, 5XjxCoR_y6fTpaGZi6JaOQ, 8eexFIJNOCbVv8JK3gVXqw, kzOMyt8dsjRl7PM_44QHBA, EKOYo8L9uLJy0j0jZYzd3w, XFzmzV-Lka8MIukqyEHNdQ, 1IME_aoWNNhyu1DZsCMDZA, DS0Idr2XDhz5e7ZfSy0dYA, 0CW9kcYLLdGf9NGG2qR75g, sN6XqrVCINH-_fBbLiPleg, WSaXBx-Zei0Nq-9_8U6juQ, Tl38LR3s2YCCB6r5nwvkhA, 3reI_6iiU2od9BOzBrqxkg, BEAPV589lA07QFQ-s_JSJQ, MiX1bChRLoU54frODShkYA, pfEOdpiA9dkHeGlFUOPYtA, 2ervbjRcLFjvI3UfXeLFBA, fP5i4Y1BMH4tBCZQL8LO_A, kJ9Wd9nq5BV0bSA9V98mVA, jbMgeJqzzdN4TEorWFPXNA, LdeYSL_KsoilCqj7HJsWDQ, _PsUjrAF1bRHif3TWtzUFA, NI2alEmIVdpOjpjawMirmQ, XqK4uNkfhE2KbMBRghrZOQ, U6PRY7UvSVoDcdkXHPHkWg, olLL4rSOwJcYn--fGisiFA, iLcA75s3SC3L2SAPcI7MQA, _dYh1PTodhcZNo5cGvYq7Q, DgrIg1OR7arL8tVRiZ-psA, 6tbXpUIU6upoeqWNDo9k_A, TnRBeUxI5zi5sIXIg-F1ug, 0rK89TS8xqy1wI4nYI1wfw, CoS9VbTzh74Hh7FSlAKKVA, Bxr6L8ye9wPYWY8Ke7j9jg, 25-qCHqEJWOzawwSDxyoNw, VU0u2p9dE4-GhnjpQqZyig, XpisHXRTX5bWEgUDI2b2Cw, fzV-0gh2m5anmq7onUnUtQ, ADdBQh0FxmaMy78WoSbkuA, pvmvgoVjlQf28Ywz3NuD_A, vXl2-tVcqIqIvlCZETJ89A, yr0L5WlIKrf1v2tc7IgrOg, RVJNX4FnHL39W0N3sikr0A, tGYfNqwSECNhQXWSLDnupA, SjX_4tpusPeZd_5a7txkXQ, -BwIQW6ae6DWm-ic9UOTJg, tWl59itj7EDgNWKz2sx-rg, T2fKVLiztWZbEYEBuwK0xA, FdQZxULvI4GT0-1meVap7w, 5jUlCtMCI9Z7poi1vHq6cQ, IP-Z57PakODTvX-4muDsGA, JHtefXT2PavbSdUGTW9kUQ, yk5b-3XsIlFGhNpIdpIhbw, hy4uEHgITEfzxrXzyDhCRg, cz76cbJvk-ZLVTofNff0XA, tFrwFVaOhht9bLYuxO_law, 4BXqlLKW8oP0RBCW1FvaIg, YlicL5XgNFDSn3T5TABizA, H-ROZEeDUP5j4DjLXn8iOA, _6hsb1TzZotSrvh-43YC0Q, HE0iIAn3JWvn2J60jHPdbA, E7dNhALfxoE5OcH0ybH0Sw, MSCVDZf_2AygHxLg-bz8kQ, 3oC57Z24H8GfR6jXiJJyUw, okNTdZixJh10W8v_Njeu6g, GdawZ1FdT-fvZ0BP1PZV9A, odpvLnJgH-nNiQnW-tOKeg, Bz8yiCnCO5auG-g0-HMFlg, rzOLDx9qZCyg-TbHlOGZNg, mcjAVPyV0U37Uyaur9fD1Q, -NbeVN5tnwdyYAvdNkKMjw, rUQ0uTP4lbqbEl7PGhCugA, p8RS_rLHaNwA5vF6C98nBw, VZqQtn-Q1fH8-mZ6SbcfQg, vIAfE2dSKBrPfNx48Hp75A, qNVAPkw1aNyNKGiJzmgWZA, T-8ektjTYyaomhb8NDHqCg, vGiTMUKWKGZ6_2Wh55quDA, fDg4oVpzuRSfXOi8DevF3Q, wwsTBKSWhtE2rc1alEkyJA, qz-rTW1IoE5ZuuuKwFpPHA, 3dT_Er8j5bwsVz_IjDsWwQ, _fjDoDYRtg_iwfTEVTAz9w, B9fQWv5ZwyfPKMXDQl_9ZA, 9Jsr2pdJ-0M8xlshioan5w, 8Z3kcbaTUvAWJw4o5_Sk4A, 2PxaSJ0tWY3h6oa7p9Opuw, 7SuWEgp0Lbz5ob8ckEX75A, RkhSgjr0aAkBdJa42eaH5g, OGTDgyYzjiGHqxXbFV8MqA, K3n0ZH1Jit7SS59LKksETQ, VG8_OM2Q9-mpgb9D8uA9Fw, n2sigCos5GF6F6lUvjw7WQ, DK3ULkpR3GNQf2tJmVVApw, Qq7j8H3-VuaBzF8qxBZysQ, kY-UJ6lLAGCHATRm_4VAwQ, Iq2TKrAVEm1qpeyaDgrd3Q, cP4hCjA5ABC2jvh-N1_K2A, yc2MNdCQpFM-5ywmBaTGnQ, xvAs7s6P0NFOj0x5wiW0kA, HQxErdwSFGx0M0jJzJ76kA, GT21VEsUayBwSjzACt3CzA, PpI8WgwVwMHwnRKt8sTZXg, Bkyj7Du5OgF4ah6KkKfjQg, edo7IT_xo6TprcrfOUNfdw, cW3qj16hUBeRuySj3ScoMg, 5T_2RWFzvf-nMZYD0RsvWg, LnW98mcTpa-h6pXm_pjnQw, BHDBfx4mWOdtT-ug0CPc3w, wrAa7ea1pkHwN4iVvvQnwQ, taCfESFM_yPD9rUzvQMeeA, YeaxlMRdmiV0dBMEzvfctg, nh5cEggUlEeqMr9CBMwhHw, -XZOz3ViFET3IZFRGFoOpQ, 87zGRXPiUQA7OYjwdBMwlA, TKIZGPTPhlpOHPsKCodcUQ, LZlqQ_94mqVJCPAmq225VQ, aREzu8wiB_1NYMzi_TgN0A, e-sQ7oGQElAaaE5OH6b55g, 6K0I_6EY5x3IOH9JN827rQ, 8CSd-C5PgFTVv2SZtrujPw, 9xi0QUx4e-HCMO1FifqDgg, 4cpfXRJPze4OTDMmE_XQhw, xLSTszQHVefHmgVKD0hStg, g7a1ThDGHEZvk-t9HKUUPQ, 0pnIIgi4sm96CllW0DhXug, XBkGQOSDZrNKsv5KGiec1A, M5RIEl3Kv3abyaUGYn8YXg, dV2JKFQ1ezq8EuYLSJXFnw, 6a8QOiHk_jdRzZB4VPcp-A, 4hd_zKbHXIQmNX8pD11tkA, 6iQF02aNgeOk8s8dougtKA, 6ynNIFgL1Yj7R7xZEPr3OQ, x0_FCGRVjBrrkxYWTa__Zw, bAWVwJIkk6mimeC8TwB1LA, FW3ABzc-8l8Am-3qfdzsbA, P5bUL3Engv-2z6kKohB6qQ, 59GSwMflQFllOAWvw0F5mw, cYxQM_ZkOAFgivpR6P-Npg, 8drMKNHWavs2g6uf0pLtvg, NJOspTE_Ms-b8ACPKY73Ww, Qyfofmv9TJTuAWQDKO4jvg, P1IQm0Rr5eA9VvmV5HYGVA, NzIBKVnHptr5BBxXa0B3_g, 3wB-JjsUjkvdNUDRnChsVg, L4iT9ZCNxS2YxTzc2G5ucg, GHoG4X4FY8D8L563zzPX5w, I-FmdvI28N7OIIt4JZOgIg, rMsB82tk9uOB6JumPMgczg, scu1qTGz6xsVKgW_-0Gmjw, dfq4fEUzlDJztA99Yqx6Xg, iPP9VC7HZvJd88u0iRmGwQ, 7K1-h4DlMuLZvUv33aT7_Q, KMhMGXil4NoI5U1zjJupDg, eKUGKQRE-Ywi5dY55_zChg, tBI1rbIioJ7o1_00OMXaCw, riS5TJ4iyQK0L9g4QlhO8w, BI_PXSF5M61S8O9bqR7VVA, M19NwFwAXKRZzt8koF11hQ, O64QDU2gZdLTRc4QR9v1Pw, hBwlXWhDnMtSDmqskbR90g, V7uS5US4oTf-S9u36HJQCQ, _Pzo965DJyLSiFINoBPbvw, na4Dxar9tM4HNnGKiyAWhA, eu19K9KfnvvubzWuv4l6Wg, hHoigAK81AtqSUtBmkqWjg, j8mIPH18DpTF-CdJFHV87A, I-0Be1dHEacp293TeRUDpw, Yii1ZCDZjJbmGi7KytfgHw, 2vFUeQGnG8zdLSQkwfChog, 8qpFUPR1wd3uz8N1QaWj_A, oGUrhMb_e2bPBKhdvqHIRQ, XSCcCjfTTg7JWAE7xKU-_A, FrHxS0ShrunvfYrWX8p7Tg, ZIOCmdFaMIF56FR-nWr_2A, yml4l0V0jgpwuskn3CPLqQ, N0jj7QwjkypYrNiE5Ed5cQ, HEPfqAH6ObF36Fp1B9Fi1Q, NHKJowBM-8mY2Iegfc87pQ, 0dVrwVNTr-3KiC_-32O02g, Npr0E4kVRBx_Q9wdaf8xEQ, sm6AzP6HSQhI9j9V_oiPWA, Z9PfLcQRpzTg3jD3ccLmQA, XYChhPu_Q890eAApdmgZZQ, Yfd33F6wAas_X7X57yCNKQ, ZrpKazCSYUOTv5Sc0w79ng, MVBYkosC6n3SgbgxyJEkpw, 1cX-YceSQlzmJzIAkkz69w, GiC_S3Hhfh02Yy6c9prDvg, 4uscIP7YDERJG9oxEFed3w, LNkxJgykMMMMnSlSb8bqlQ, 3WQABqoadQJoE_jADNNYHA, nCgqz5JUOeLP9u6f0qIZSw, NY76olh8cO_9fhYhGo-CuA, 9Dd1fLx93JRGypYC_3i9Zw, gji64YGBbHzTNuuoqvvNqg, ottOuy7FZtUV2HnBfhVk0w, nKfADOFvPfB59JQ9x-RgOw, lAHHKoXU0UoAcH8Y-lH_xw, L_TKxUaQxBkyh5_JvJ8FHw, wyLm8AaiqiNflGed8GsbNA, M0UeZRnJEhmnq3PfiUjv6A, wa2IvwSuPgzIifdbaKYk5g, NEOSYsubf7SVeVm8RytxYA, midzehmKGeT6iKJvWjm-mw, 0mNc6wrs3DeuoOsV2d5IHA, Lr-B-r-KF80yFy-2u336bw, WPBrjBbk76ZtZQ8QpG09cQ, rP1JhMcc7sZTzW3KzLpL9w, CAQv3QQHUasQNtN-HEldAw, 0gEDwhSUIWIBz23MbLYMig, kaHmTcEoVS3oQvfJfDe8kg, VdOTg5a-NbQyXcrvKjwxLw, -_dYkUt0EZS4AVmwx1Dk4g, Pb4vnT1S2OUD6yEyuJQYBQ, HwCWwx4PXIYJIksZN4MJZQ, NYH5GRSK8X5IbXFaDuEhIg, CXXF0bV9sN9ViU6qpsiV-w, 1UV4bu_Zq9wLHkhdW-r7XQ, biey89DPbXAQCVdc4iR3pA, 4XwTMHcrmHMEx4lZxLz-DQ, 5CWOvZ68TCHd0taJ99SFDQ, gmaWUt02_ixItBN2gQsMGQ, JYxt5_1tAoIVHYRZ2PkKcw, 9jZAXnAaulEC40wtEZK6Fw, hZRDW7lFIO3ZRMIxLtvtoA, ptc-D4gkF8pFoalZ2j7RPA, o9BYfOvm1iodLEIdHoa6ww, jL1TI1E0Yc0y-yQKCh307A, kroQYWSj-BhIEXT4VwLRHA, 0WcUP0kdhdx4A-L9d7mHgw, z-oO1tVXUwLt8G1NDZwWDQ, l0uRV3nGEroXqsPypD4qdQ, XnZ91ClfCl2Vg03HK9FDLg, SZiiBWN8n8wWg0fYp8M_qQ, H_CA-_DxwE87idWeaAgAWg, WvM3uPtTV1o4pwD_zacDZA, gtCbuu9zKMY8NfzZfXySIA, iZmpVIO_RyyALF1Bj-m9sQ, NYZuyusIfiM_CMN2C4NxHA, 3AA3UMBnWLpOtSPQif6lyQ, 0dqQ7IEmZRwAJf0ucLiUZA, sy0MNBrbdFQXyyVWRoGcTQ, uJTEn40MZuwQSwziAJxOSg, rD2cVcP4YPCSjMR5-eqMjA, 7hz2smT0xKPoCJLia7TPzA, cufhYFdyrUAt4SWe-m0grQ, sWmiNVwkuw3g4N7TK9WRKg, 9RTI7hIaNM4Qkz_9WqCDOA, sxU9suI-QhTVhgyxQyBwvQ, O_d0kwOIwhS7O9b-9ukv5w, weI3gUj0DiKXkp8seBYKfw, Gppf1W0Bk9olxs1vplhmUg, PjYaEnWRFB7uogiAeaXQQA, saDYN_zBEoNheolWPh5RcA, DkErWCJfD6kF1-jGiB4izg, 96us9i9zB7QIxBtyRlhvDQ, WvAD5hiruERu6pkyzXRwbA, LkdQzmGlgR_7pr0gKWKZjQ, T8Hg9GIF0mQa5tvNKmZL7Q, y0eOAexLUXVvKBL6fh84rA, dkRcmyuiaLy4QhDRKpzi4Q, OTA-qLc1v4M9hA7rJXiCTQ, KVJjO6QLYSw2ngOmDGAJtw, o3Zv4AolGeRr-xX7QhESUg, 8R7OL8nrdV6xzECgdCGS7g, WG6CdGp97KZoSboPOLp9xg, 1APrRPLdDDO5s2Dg96aUAw, Hj9gGdI2Iz5gmsorFVYyow, wBr5SZbX_yUwgt4Z19jU2Q, BvfLMRoP_-I1q3sjdDCQZg, R95jUAYcnhesh9L5kCSeSA, _bF7I69OrJtLQPTsWZMNqQ, Br7NfAxcRprDceabsyxZNg, Z4Fkz0ET2vqvjr-Cijo9Tg, 50V3UxV1yeHnnXKQWKD0pA, s6cjubRiLEq98f3HLxCwTw, IiFmocHocG3GFXyyzq9KXA, fU0FHoGIdFRwb8oZXaVeSw, ChM7ZL6LOPFmEy-zxrmIkg, ePtpFxGIJY2HmuTayN1g6A, Vu0YLCiGmm8kjKwA8GD9JQ, 5sT9iwX6DazpfeDdT5p4Mg, xFlB4AlIq7hehJJkjj6Myw, 4oL4hvlxy0tkixo4EqjBpA, eAYt9b03B3tpz3USTU91yA, McCwskrjgCaJ2priVcNE_A, oVLcVeZFLeqFeoJ0DpbIEQ, yrWJ4YZWvFj_NDOvTRaAqA, GWc9xqw7afyp6AqcKesKhQ, HJtjE6wvg0zrJCz_bWPV4g, uZdrwP8-9fl21uO5MD4gCw, ma3r4D8KZ0Ksjpv-sU0QJw, Y3FotwKOGwvsu71rISTlDg, c8FOqDRhtL7q_YsQio6bog, 3vWGyuIF-VdEGhUYb61Dhg, geendN4sco6L49v4473jSw, FsXf6ucWlaVZCTzEaBw0NA, SxSeTYznS0YKSISgs5hj_Q, eZzlizYkMcadZwMCXJgsPw, 332oY-08S30AOtf14UptKQ, JV0IPjRyMhZEDlEfS3M-wg, T54If2jyi1Syha7UWzPmUA, Ezj4B5x1wJp6LxiFJptbfw, XA4pMGh0NUF82kuOT_q_mg, z1C5geuLVsS40lIAknrXxw, vbWcfGJcs_Hq8bdJuBCTVw, sNpUNRUiIrCyElK_nwmb8w, RLKY7TB0ZRNZPWZAUkISXA, G4MjUY-PRI8-u7PHShUCYA, A8g4HsdlvmO1q6l_lqzUXg, 4DSNmHlbVtcmfySQ8qA9_g, 0JJrchH24gp_6Mobc-pFgQ, _Ta-v8yd4jDXPigbqkAXaw, XGGaFdRRQHuLjkJgg8_0Aw, 5XAXkk6WENi0OW_HSSXRWA, IVyQ9FDHed41xgMj9C6yGQ, lcOH8IahibCeK0k_BPqLAA, oiB8fJMd96MNUugca5cvig, baSDvZweZk6qLY_kHPvYzQ, Nu2kOyS4ircX7rajM9msgQ, IzB19wboHOkibX5-SZb_Xg, 6_CPsRl_9StbbOAAT7-D6A, zhhkklUJNgOpNw-SS6EQOQ, bKOqQ3wXuZFbHSL-ches4Q, 5Mk4gwVCh1lBJQThhF4erg, UsAUtt9CggMWDNlpa91TeA, FGBTSAcFcUBLztp5GMZVIw, w7RP1MZad3YO7Vjgp3s3Dg, SIuKD77VvhYtlbreHSpJ5Q, 5vXqog3DHrRXADKUg78B2w, Hm0diOkWwpo9zotlJlqMUQ, 3Z0qWxM8ZCoDLzErwZyaWA, gVb5r7afOhPWn1dOo184kQ, 7R2AvmgLtE06ZyX0iGh1Ew, cA-LdVjL_jwLNyAHrjGSlw, XkLK2iBsgqF6mWwDfRgqqQ, VIgcs2GlMXt31wQyMhY7dA, DdHaNLHD6_de8yXT9qsVmA, X7NruZXmLRCXnYpa6ylwRg, PUx5KWODerm6IzdfemCbag, YF9apppbMt4RJV12G_1qvQ, GCuDiPUKYxhgFHP5LqJa2Q, zYlTuY9teqQOrrZq1pXcxw, qQOCfYSK69g5WHAXHWSOoQ, 5gbkhlWANGVzQYi_0m3vOQ, jCaVMVew4YKc_j0XP_r_GA, OCjM5Aaw5BE963Hm5Fo4HA, EnkBKffesYaOxiZ1yLG3DA, 1oesrOIBYtaJUr2Ug5aioQ, GFnxTkTzhmO7XdbnkORt6A, ACwBMSJzgW6vOvV7vOrk8Q, vhWv4sa7nCVow15gggzcrA, g5iyDMcYiIMkcGgC6NNVtw, 7PtUMFXJKOqGxblr_jCgxw, Db80SCez0BdYaHdC0xmzoQ, VHsJCJW9Oyw4eH7NNMV0CQ, lSvoYcwL4yI-oQKrtZAxXQ, 75z9W54jqv3ngahQkcozGQ, LWKp8wvWuGNT17no7vkO7w, bj1f2-_N-9T-9jHmlHMWFw, qsrOPEAq1YHySKvJ-WlGYw, OrELs30Et6KG-KgKfhkzYw, RaSq7WPbxH7Dm5yfVBAgYw, BAXXJrlGW6o8zWfw47q1Tg, QVPL-psgMFS7UkGxhL3c4A, aiJw77w6XH6VBgmETQm5ZQ, CcioG0EHGphZLnNYj-6PyA, 8K-GdEg3NZ8LS-OiDh3L4Q, gz7fB5ifHctYK1GGjW--ng, 1RE_CMyiShKAk8Xc0tRpmg, GEHtpI1-GsXn7VQvbLL6FA, cU-Z8K3TNM019C-62GtwIw, RmESoJSvdbUUxs79KG61_g, UE-rXhA8njNnADFkDA3EuA, wPfO0bhqtn-20K79nUICTA, RT8Y7PxPzC7DuAjAquNjng, -fEtAVY7wVJ-66HaBw2ahg, U26GKktiWr6aTsciWhTLXA, FuuSXzxpahlsIQtJ_6hyfA, 0VYzR15p6G18-2_KCsvuEw, YFvw-soPFT_sVlGmSEo_SA, iVm0UjuFeelUAxJtun-k2w, IPxs537k3GiBkc8_1D4log, uYFz9ITmzqome2xfq-kkhQ, MTYfocbURqg_ZsK_bDyr_A, yr6YQGLTnZO6FpymFdIhDw, GqzoKYXv6F1O85bhywyoSA, lPNsKsD-HvdgkzfGq-Gjig, 8WxNOgWaeUvRvMpq_EFeRA, Ritx0fV0kg8Y86keCU3Glw, R3gI8mhFQcT4vBB9iP7t5Q, RX0GPUmx4wJ8zxP1Mq0tPA, 9SS6aiTox2ZVYsMRocUXlw, 9F58QbrcZNZRbR8aRrMx_w, Md0gRbUaPPDTfsjyUOSqIA, gBMDFYYQoRONWwDLYIWN1g, 6QN6BdpcDKXNS9Xq_7pECQ, QnWTfBXVSfP8C5LYcjPdcQ, t3RHt1j91D8GP5XD5Mvxow, eigZw_Tn4TWJPSZ9UO9Auw, ySnJRrXNpbHuGYsm5mEAVA, Rhvt5HoMG7mayNd437Vm2w, YI0XCwS-OSbrSADNaSvOqQ, 4YIgqJiqqZKPIdoPz2Zv6w, y3HFVx8nbNmomSc-PWOy-g, RQ1XemAxPJg0KRF-CwSQXA, hY81DfAZZpsRsav1edkpag, 285ac4ebFwBxQP1_Tpb4vg, A4bsa7ykYRVCnb4h2vZALw, pnTiEaqM4slogpY97n9Kvg, XvcQPAX1BkJfj3a4kG0lXQ, Bbar1EB4JEviStEAqUEFOg, yxwKridisH_KEENYCpVjXw, hJmKuvDPt6zaqVsEw6EzGw, vRjVhl3ONG2GfWY4NXJZbQ, bzU8Cl6B9nqV1i5NReobvw, KGF2St98DN-DB6hMXtYV9A, tl8eYxepwIGpmJeZgDz2SQ, sSveQQvgkDrPbpopNvbPSw, ln8BBDJw-YElgfXrbfz-vA, R_xjmz2nZgyOkqFKPmkjnA, wKx-ItQTN-lCq2aChPf9bQ, lHUOAGy5zdQBSa9tZ0Gh2g, Pw-Eidm9GO6682X-2IvqnQ, oQwgxgV7FzuMPv6T5dVWsA, S3GSqQrrYDKnWJtbyR5FBg, wOowwYjl7ZpxrS1e4hdhUg, HPqD_nATHVuVjTyt0Rxatg, 04phLe82L4L8QE3yW7uY5Q, NOKodUWSTYVUEpqBRCOfKw, zc7wQeHkJS5tliTg78hjJw, udjIUpEIygQXgypWmnIeHg, ra3OzaxpILytSjHRRKoT8g, 9hDZBcL9nkz8bZe1uyNpAw, 5RCcFwMRghhw1wMhnZY5RA, 3nDUQBjKyVor5wV0reJChg, PGeiszoVusiv0wTHVdWklA, Z88N6qly3Dp5C06XbZ9IMQ, 1kdfj_PaRk8i870ghdIvXg, 31d4d1tVHxT_8LfPvGlzYQ, uNBCQ12gGQoJi8MKyrtMhg, uMoe9byg5OF9O-6JdnlO1A, IL4O2SIcumu1un5UkgB3FQ, tSQ2787xx_cPtH9Ke1N8EQ, KOWl_ZhqhYqY33-CbaJubw, NBNIUJj60tVBKvWHhy3egg, qoaOuj1wG9RHSXJ-ZU2FUw, RFIkhJBSfQRnY97vDnHnSQ, 85uM-cor3VXCUyVFEe0YNg, cbKySTidqr4VfY7TAMYaVQ, HGTdyEDygTqANThO64WDWQ, gQVH0CSYRWjuwr8UTKMuog, UnJlPZO3iImOSViixe81mw, vTbQZNz8FH4jcrni7Vkl1Q, 0L8iPp_axFbbsATGDMo9JA, DeNozkS0rQSRj6kSqf6XMQ, TJoILHOxI_K5kJUye0BtbA, dad6v9R0G3NpJaD2oGpMyQ, Wd_liTeuinMtVSk_32tEyg, pDW59eBTeawgV16s4731xQ, eNL530AfBwrcHZbZ-A2MFw, ugk0g6vyv2XavpoTaJSy6A, 65xrhtHnyuB_aNdkT4eusQ, oazuTtSyKV6zrhbsgbdbUQ, IxB8uybfnHxuALjnArSCtg, 7oWU5ObJjMJ4AloSe_qE5w, cPN8VF8ItzZocK_rmYTPbg, 09T1oyi6c-9lvyt7gQCD2w, kSnlZhr5AcLmlIyDccv4OQ, m5cBT7OYfn0HM0d-RCsdZQ, 1ZRX140XN1onRUKYuftvfQ, uG9AymfFfyYWTW9DKHNS2g, lwcYMAEdPDdmHabUSTH7NQ, bxPYREtZeH98clXftApGhg, oGB4zCfLi7-SO3s-e-jMFQ, mZokz37TaR5jFgMrx4WyFw, uXybf-Hg0cpCHj8i7C2lIQ, 8Bumn1f1hpt16I-B_IgiFA, Of25CUjYXKpXpTOhEXsjpw, c8YOUQ1Lz645fopLMNEAnw, -VqJFMkFlx4tzF4x3hMCYQ, 3OxW-xQZCOMs1Se9Jes2VA, _v4jN5tumpDyXPrMaXekDQ, rplzMW65JoaMhETvkAKacQ, 5sqyQz4lCyASLBVnY_wp_A, 96hshSuowB8Zqe5aklFJRw, a70hS5MGUJgAw97NYWVh1Q, Jt3uhfm-uxR76HwUgBhNeQ, dE9YaRaUtkDm-xJrW3BSPg, 8pIZlJdSLxxuh6cBKN7RvA, 47jYU6CunkW--4S9vYqyYg, cDqIdTyhK4vtmyR41Sd4GQ, lcp6nUbQLlq4bj986ifrxw, kLh6DJKLi9c46NqIokmPaA, D5WStw981YGDDoqYXlIvRA, QDlW-vc4YW0gw5MWRN_5dg, OZKra5iR5G_yE6YP6XvOoA, sQKTMk0lDnQ1buIQjQ_9nA, CSfjaTVpxugpRNEd0RtsxQ, 9YXx_m-WYuUltfOJc6kmBQ, Zwj8T7RPoOpSJ5JcqPh4bg, aA-kQeG86xMsxjKgF14pcQ, yU9VHS_AuXUKbdrzcoDTNg, DRvEKbaHoSN7WSuSFnaoQg, J7wIDTzB-RqnC9JyHOSkMA, CujsS1G2os9H1CN5-YDYlw, zDltf7SGyDANcA6ndZkF7A, t2LoCqGXkr5mPtu2a336SA, EKy25b9Qj2GTntG-15dQkA, DgyHhvCyHvrFWxVQoQUWGg, TqrlAaJlVikFHLCUfa2JDw, wf4Vyv8gEbSWsKta_8g6cg, qyOLFZFRThStAuw-qV5SOQ, 9byjm9uleGoRc1UWDaw36w, BwFEjsr9yLqdszAmAxFYQg, OdzdE3H3_fR-x2BiMgqoCw, cr8DlB2ErR898Nhen_0oSA, 9ccbnkRVtTciiqI6BSqkvQ, fJlCRA7zVRW2zcuKGUhCMA, 4W1Bko1RCuDH-yDlMyqz_w, UsaX1ANSvwZM8_F5q8wKzA, Ny4NJ-xg8TDjAK2GE3F7Qw, P0wENWX4LNg84G-nsqcGFg, 55Vs9UMg1XeUHcDqL_lNlg, KO7CuK8p5u4AFGQ7voXe9g, hOwNzTU0g0UzNLNQhhuHEQ, R27HXRGtQSxpqH2_cE3KlA, C5UknTBB07VBmp4Z3fU7Pw, cnN6RMKuQiUte7ekcYnK5g, Yi5JKaD1VY4Edeww92PZWA, 345CDNa37XCvyFMLD2wwGg, 6bfcLLL35DpsxAxxk5ZNAQ, J0G7SAItOT4opuLSK2-tmw, VgqV_Yn3V9IYNxyt-gbqUg, Gnhbs1ET4j2Z61SPcE7Hpg, Y1q1tQV-MRmNmXg59PPVuA, 1uxv4__WQi1Ei0tAcbKTew, LkD09fHaZQ64pHynsWnMpA, klp7YnaIlxyLRkUXwexssw, wjRFWRNIyw-dWDK6C9OPxg, ens7LiIE4Cs4RjW5Mz65Mw, fZY97UjlP-iv35beOl_OfQ, bD_LYBPoSrmmEK5RCrKRDw, 40MywB-9aaAPmqRkThlaWw, dK4m2dTVJM-XqWSPL91Q5Q, hZLl2A68yMcLEKrADHmE3Q, vSzkOeEvATax2ODfJz3EdQ, J22BurX5GK60guSvqpV8ZQ, W5ET28ToqNaVoBycFuUSpw, sAshPtV4OStq1YDxXZkBFw, PnYAJ-kqG1-1bF2Q2JXhcg, erdvrYG2b-YkTfZljgrXIg, aY2LQyzspzj6-3YwosaeNA, HRxzegF0x3UHPhw-NxFADg, VEgqZBON8d0kI6aWtJHFtA, 6R6eyG86EGNKElltN3d7Zg, Hi10sGSZNxQH3NLyWSZ1oA, KFKrsDRkeo7KqQCm3IN5-g, RfjWiiBRO5uorrxzfwdBYQ, HB3ORmEkcHebOQrR1eV6bA, -V36yTp77J35ha8PBxRVLQ, gvjYD0XIeTbYpWiA4rzSKA, oy-K-bNNFy2O9rwKC3dteQ, xWX2QWnKf6ROckpy2gcHaQ, rsW5CeBtf7pSkZFfrlFUgg, rQpeGsQxKeImuUS3QP7OcA, TQaORZNivV5NG21CBFMeRw, PpJJSdgrtE1r2J0E8CpyoQ, fEoBk3QxwDp38drtjndYhA, XwLRruvRajtLPpsah13AKw, efoyeP8akhgtwJm-hI_hsA, ARQjLwHDFIEA-oUgK502DQ, 37cpUoM8hlkSQfReIEBd-Q, eslpb1DqlZOZbcGKwUroUg, CwkDmbyWGEfAtqwj2vwv9Q, bBlFiB-jsb8GWcQ2fmcOSA, MBeJrLzDYLZrixIOVdLHTA, Qd9XC9wBsxqIsu4A1qA7NA, 7gdTdrvV_Q8m2sj6_vWKhA, RqR1bGDgdOPyHDnI73LeFw, 4FUcAG4Ak_BMDStKiBW2Qw, ZgD7o8W-NJtmJ3IEnUMJcw, fWJok1wljTdXP7VyIDBYoA, lYmPbq4gZm7O_a30R5hFPg, 3QNBCBtCwVsteWed9YyIUg, NgX6wFfGP8i8QZZwIZhZbw, nlqGZfvkM7ITtWgojpXzxg, FhhP289FSze-QjKhJVkqqw, 3QnoTcrxuafMCoTzW_AH7A, 3hH36uPm632s5_ziXq0Jvg, jxEqAhpWM3zFMoOwOhE77Q, vsfG95vDU20d7upU1Zs6uA, nyFqLcDf5d8AHk3uvoZHnQ, yjy_AZAWsCKDACP8okd-fg, 8Ces6YdT6j7BYycnZLrSng, MzXPOK2_T5O8GF-4qUVmGA, h4oOQdnfjpEHbygEJDsFbg, bGPaNsTLxN6n4kbQwCPkew, 9GhiQOLaM6ZGrrFG-SppwQ, JjU2sn5amlInEbBGMDIC7A, vZljzeao1gleetOhC9BvaA, -eRtp78m9XDD0eoCGj6xNw, JADdo9NEeO5Az9aOYbyvZA, Dfv5SgDJQZ_LB_oqVW9OzQ, 9y_170AiV-Oo4Uf1_Fc_9g, DKxwOHa5hMWEcditk4L8wQ, 661mj8WRqLg2ibKhvceJ9Q, I_4cXopXxFr5B7adXZ1ruQ, v10dHdqf42tUkxbYVnFW6w, qWYEuBZP7av55tewg3PXKg, IDl8QswIXwI6Fr6KW3TbRw, sTVz0VPCUOZyd_uqLzy8bA, 6bI4EzZSJDHBoNhpkOA-sA, b5VeOugRp_SnaNUuwvrzfA, h8pthOnqCxV94D8-JkZXCQ, rE31Vgyrep1pZgz611xJDg, xrtHHJThF8UCA1HVlbKrSw, MU_bppwgP03jfpTo6vtZ5w, GI5OangLbrQ_sYNjyUfZ7Q, 1UKab-nmvbBoyp6y6f052A, AqwTAjoyG5HfhQi2-ab4cw, PxUPSG8tJYtpg5yWZUFbCA, li0zMmmX_B3j1bQo-ipG-w, Pgky9Lbru5FJ_SbzED22rQ, HjpkiZ_GR9WhWiexLtbaqg, yiil_yUI80L7LyfgTZoRmw, QnZs7dt3fEBbUyb6tRXqqQ, NzEacAjFU5wXrFK1tq08bw, vASaF47nWvCHEEDA8nfCVw, kSsEZeOOC5bgt6o0jfYZvw, e8liGo2BoadH7PDCnkUyMw, Gh7a3aAOlB2zMRocFzGEZg, PJwyYfwsI0CJto1eYxuKtA, wyx0ZdFkhog1q0jYgDjFUQ, 4x3x0oGs9gcHCoQpqoI9hw, MeDuKsZcnI3IU2g7OlV-hQ, z1aE5EXdEIY2MyO25NoIPQ, Y_iTTjKvV5hLy-880SZzlA, jv8cyOBx-2Ay_vaj5rOygA, HCn_c4OhIREcNNBi-5MD2w, gJk-_oodhLO6qyH7h_fZHQ, TRJ0xJ4WkM0LAPyiWSrxCQ, WzFikK1Es6Qc_xKljYcBAQ, Fv0e9RIV9jw5TX3ctA1WbA, -8Nu9nEluehNCYvgTAga4A, xM3zmR0Rb_8G2fIT7KQGUA, r9Wii37p0kEDIUt2e2_LqQ, 4eqLl6-l6ju4gBfVnMSzlw, 1kbJit2p6CtD5OEL5ELHCw, JiUmz7l4rNz4-YmOj13i9g, kzRq4H_nSf4b3F_sdymWSw, Ggx8iUdJ7lsQSqXRuclXtg, bWvWVWDh59_CouuBuhtZ1g, J1aurUGR360LS7GRnuW5PA, TL-oukGe-zfS9vh6BvxPAA, jX9OqIXzcUtl-99zlhvLNQ, fccMIyBd6ZhFUVAhvSqsrw, M3-G-j5yZ3xaq4-zJkFnqQ, FbeUD6UiAwQrpv07vtOh2g, W7o-AY6Hpyb5WkgxwGH_Yw, zL1TOe5-gojY9U35hE_ZEA, g0Ti8LCLkR9Bt6wYIafHXg, n-zqjPyoh5e4f1wSYy5-7Q, wZPizeBxMAyOSl0M0zuCjg, wsp-yKfBJNQfX2YnsNF1-g, KN3Ziu2TBUEBl6rHxHtf_Q, bH3Uc0YNlnKubj8cT4nQ0w, rDHJqUnpNywwSnElFnBWHg, Kf5PVQUdDvQYf-MXoeWqZA, PadmV2GEoA6mWpQUpPh7Ig, 0E1ZKpJBoyRSB7LKA6p5vg, b7FQOZcsEm-Yx7WG7TTPQA, 8iD_XvSgEJ9fOsv1s9FGVw, WllcNAfT5W4cS1nf572EYg, fMBA_z1hwURKp9uArgSmKA, Hsi6oUKSG7H2xi47x0IHbA, Lmlf14n0Mzb7sjVb-hIFlQ, -RaOweHiHYJlVap01m8Rzw, Pc4LV-N3MHSzv3UO_9hY3Q, nXW7ZyEV77sCrkLwkvZ0zw, kSm_ZqGRb0dl_ay7Nvr0uw, C2Wiva1707vTU1pA3ZyjJA, D6NsLsG5WxswkObyuCVvfA, jtkXg-OITT1Wvq0jCpLudA, ksBkzFRMOwtDiW7KMyEkYw, W2BFyhVvcjOTnkfUV7KpmA, p6dvd1_hV3GUwDjxNquEFA, 6BZMGaiBMQSZ639VfjbVaA, PgG-49pH4EUoNtS8vQ_Ggw, QjsRGUEAsJqzvji9ro5EWQ, rZVMsAGkYjahpa9clQD4xQ, fQq-PBKARvUGfBnmch9Dqg, nkSKPsgGEWiEj6pQ3K7n9A, MiZ_ojckXyWbD1jcG09pog, 72Xe5TbjHflsBVRbOTLwzw, e6QRXwwzhebaLVX0JEztpg, wzuxPP-d18Mu_IooKVZy-w, 46alazqvx8pfyKgHkzcQmA, FFDi-vtZvxTuiItZDrdXrg, 3XtMlMcY4k1Rop3aCUrn6Q, -8Mzx_4mQ13YWE0d_oB6Cg, u5DOdq-q9D3CTadvqqXRKw, 5eLI-Lbjjy0lC2hABS32Sg, ci7Q6NvXQ8UZrBHusVX18g, CFl248k0j7SpVKm74UabTg, UKsBKla6IjgOeKe_UC5Dbg, YOw1yg8THktCCioY2q55_A, _8-gZqtpO6YxCpWWoteiFw, 973gM_xQHxS-XPtyvc3OsQ, vkxKfc-S4X7AvlMSL64ngw, 9wdfZc6fBqeEjp9xur9MEg, rg30WnelnsaDka88wGobCg, ynMgRHXEeskwa6nRdKWzDQ, UlVKV1qggptLS-dGNbgZxA, LeUQnmx7UP7fnjnujCGSlw, IdpLX57wCQ4eTMZZpb0F3w, Y7_PMFzxjM1L8iFpy8GyNg, IIPOu-wmtmDK45Xqu3lQuw, pzprdk8f8wfsRpfTSFUmbw, MiDcQ-bgIg4B91reFV4Qaw, GWs9J6lIUqrySTxl6uXO0A, CLpKO2wb2SG5tKow7KLwDg, 5-GjKjU_rYn_SMgMVSmsIw, LvL7XDgnMYkv9WTo7XMbUw, ulRN85lvP4Jq3lTvuu1mqw, Dw6yia0s2PgLOzaFTBNGwA, TLMD9ENh_QVLTOVgzN5UPg, -9Ftfb1_2UNpoFXoGm7Abw, j1981ubRRPjeRTx9UkMJ5g, XZAxvvHFOxDVVvtsjHK1BA, oRM4hOvYfd3rT3ALANdcug, Q_rLU91XQYgI6FZPf4JfZg, d-5gWThyELEJZdFKUx5Pzg, -PlhcICNDlXYRE6FhIrNZQ, OQXqlScbx43C0F4SsVXIWg, MSHLx8DN5TyBGnGskmasKA, 4SdPhcblG7wuDLQlvOWrdw, 94cWyKAl0Q60GF_6-Ekmkg, ubF4TKaWSNyJdkfQ0ArT6A, Ciqk6VFl3Qn0t_r1mOcGHQ, g5QZhnU7nUy89ox0lZWQSQ, GlQLplhtzxsKa80aJVJeTg, 8WKFwTWG9Qa-MMj_vPw0Qg, aqs1fjYP4xzRy6QPynDSDQ, XH6ifLBrioEnsBZSbyvAIw, 5judVpHFKltkFjZ-wC8ihg, Dussqojz-FcaO6QkkQ2g6Q, AFSpLArexc1h0QLOjvUdeA, SXf-lVQ0Dl5NhO9ZiYz18w, BAm09ZyCIygB5iih92pnVw, W46UkrAvPokkWfXno1cD6g, FcyD-aXuLxoW5DqZ6TIPnQ, 4DVjcB5OjnxLyT6sQqX1_w, wrZ0Y1cFIkEQwut093rN2Q, 8RJo0zQDURKH9HcIxjexPQ, TGdnpYdQgPnKAd7JoC37pQ, Bk7HHh7SxYKO3dPfYQPZvQ, G6iPJLyRP-t2sjncGppnQQ, uWIghMxuYe4U99pgjLkc5A, M8zv7uhVv4mUoIhgM7hmLA, Jeq6e3dtkxg9mt3vCcIW1A, WDyILww9HxfTwq5zKOGymw, eHL1Z77h8e_hBBiNX8luqw, Nza9TrumxVALFOc3zpPxDg, TwPlaNvnziaN2wB3lk_9Mw, hPuQIudnLHBJaJL7swpB8A, vrVVOULBfy0ELRlNiiI24w, UYcmGbelzRa0Q6JqzLoguw, dB_OoKISAVhSI6FmefomXg, -exvXUUTiQeHhtvpzhKq7A, fojptcVycoRhrLUU7XSSNg, 8_y3NsQNE_zQJSAocJSPxw, Q2RsDOhzsCBI-F1oOPe6Lg, 7eHOl9OjI1Y_ymJQKmQK6Q, eD0MZHRK5FlE73s_CCaITw, i08JAic75yXlq4r2iiN4Iw, a-Ug_MFryz3utca-NaMkNQ, kxRqfy-uHUDBUnAaNRl4fA, nUr1wloFE11OKy9gGZFXgw, c1yDP2fxg1dCiD5kdpKYPQ, VBB5DgwC3nbmnJ46XG6B2Q, xSBciUsha0kdILjvwpXcqg, 7pJNJSPVu_ef-8YGkrgW5g, 4u7G6btVMjsBOZJ_yXgDsQ, 6Z0YVIvuImYFZi9FKstD4A, 8DGFWco9VeBAxjqsuh1aSw, jy_RGAeAvNeCv5BxZsUWFA, B0yCM4Dgw5LFQYkSlBGmSg, QdfFtp430K_-BP1GTPNnDg, i5o9heILJtx3Yrwm-BdviQ, NZP5ZN3u_HuG19sDsx_pXw, 78lSMnppchL8-yN06z4Q8A, mpJe11cNdsT0Cm1sWsQWCA, V8koMoNliGncnXD5H_QEJA, PbmtoKdQ_Td9Ez_WwlEZig, wh3H2u0u8SHH3To4mbdpAg, WznKewel_4HYcZMEPqR6jQ, CiRfYs5U6L4rCssgngo1jA, e3MYjvI77NvbOxtrY6qyFw, Pui1HPGa-LZC0s8e2M6CCw, KYoxOXp39LNbIBj0rKLZ6A, Ixd5fdjQreCYpsIkaP_cgQ, 52oH4DrRvzzl8wh5UXyU0A, ahsdPidbG5NoWGoTbQftfw, bOPFDhX5R5CUBgr2wh7Jfw, NpU44ANnUUNQWY4U0eUGvA, px64tOpoO9IRhQkWQoOksw, cXomwWXx-Z5OiYXp3Ekn1g, PcvbBOCOcs6_suRDH7TSTg, T_TvlfXcSUbXm2-ZFoe73A, L2ZkQWZrfFXDDeQabuLanw, ajCBUlkRk7sdNqwIgvPh3Q, B855Q1HFe8HKZ9zytQONYw, mV4lknblF-zOKSF8nlGqDA, Kv73JirTUccTtzlZreyzhQ, NTpHNSfSpTfsFxEa8m23VQ, ZCT2xq3bPaEBpcWGqxDx-Q, V8DFe4dTILtAewmJVrEyJg, kXZjG6pZ65sL0BMcfY1OFQ, lykN9MY0Iyhll-zscppXLg, x_fqHgAuWM4c83OKnPl0mQ, IQ1c1pePjdru5pc8hdsdVQ, POkxasEhHHvHpmgzPBVIVA, caICV2psm7OABEkikMx2vw, OfhM9EHkv4nGIuF3i6Pl6Q, d8UGjpNnntxyIv2zYSsEeA, xPkrhqkBerFVlTqobsh1GA, XGDK7hPCoVWUotQCkU6dVQ, UVs_7nPjqK_W_ap96IClpA, vojI-RFIcVlgh0ADz9mD9g, h_2NGTYvjOc38cjx90rM5Q, mRz772a5aMQqq8M2lXLmmw, WJKocp9RE0KatUwh3_DkGg, uDrjJrXbT5z-azmrmqWsYA, A5A34ixb-yy6nwL42iZsnw, FcjioveW2WDKx8QwTXg9KA, iLsfSX_JeNp7HgSYW2nZbw, tP23n9LMs-IeGqlnvmo27g, jnmczPEkhRsUFos_nBPjTA, L3GWuD2vJbsMGlzrtZtDJw, DfaA6DL9wrom7BhcKmKljg, DTOErzkuQn7tN5o55B9ZNg, zpwWpno3U-oZaG3AJuKqSQ, lsSiIjAKVl-QRxKjRErBeg, qB3iODCvMRprpWY6H_jnHg, u_wqt9RshdZsoj8ikLqoEQ, 7-5896VCYwmjRizKndkHtA, NplEVcB7S4qElE7eMresfQ, ief1idaFfBlmxErZhcPK-w, Tw7oL8tJT6MSul0TAo8gnw, Z_8clYC-IkqrfHcTCjzAiA, QynN93ho1B_1ggZpO6A6hA, Z_FInaDO7cuxrUcjU7x0ZA, gEx19xm2RZQo4XdobKGkWQ, lX9ekRw5ti1CT_HZg4-T2g, QuiJAHsjnOpBmQaJk6FqUA, dIQnYbjf-rTxn5dQoRr0bg, 2X4rccuF7BmrR23D8jO2cw, j8N93M49ihLLy80Qjv9nfQ, imwNtxeAhdFZsz5g5QUM6w, TKDigwnuVL5fLh3npVMIOg, HjY1lFHqYV91ZRuiMolCJg, tOshMmlq6OUrUR78brStOw, 5dSUUfxh4ins9b3EZY9mwA, iaORCVMUwHrILGWF2kMsnA, Gsd8iShe0T_hi7sAm6uq5g, qt3xFPEQ3kI9J7gRErQqHw, 3MpzuK6s93p3pIX2GfZCWg, 0LzxzSM6oqOilJ_Tx8AXzg, Thc2zV-K-KLcvJn3fMPdqQ, BzLUyHSJrl-lUVWw9rqlvQ, I0p74B-gOmltMPObXz90mA, kZOiwf44brbn-2CtOktBEg, wFbd-khHxvyjzLOsBNAiww, UO8mDYLNOa3g9i2zmHnyuA, jRdF96zvNQTezW6qKQFxaA, rGwpCdwJU7YJSsgFj3gk5w, 864nL0po2ldN8TPgbSiwOQ, 9yPITTB_nUpXkau8IqfPqQ, JQnXiuIRwHjB-sEXbu_W3g, cqjRzEUUGfFVvNodtHNKRw, zZPvkMp9_egrmqYNkOhxXg, 6wkK7jZPaYcNiy48MsyYrg, hTUv5oh2do6Z3OppPuuiJA, YS7If3izfAVY67YMKambfg, 0RdmSy4u3OVwCsPN0HC5FQ, dkPitw1Vt4vJ3_zbaU9AYw, gD9a4wXND51R3c9lpbf_Lg, WPCJbMPmJVZZQa_44JLlkw, q10s3mM6fI4AP9pbf7PXGw, xrtG2x4c3l-JgRBAOIx-TQ, lYjEapT8fWfqHVwN2N47QA, 77BZVO7VuBm2WHe0iCQ32A, BBv8OzOwgIMOpnVoFN6u3w, gYMKpAgg-TAa3fUoh63_jA, ZIXaxKy4SSVisS7Zy252tg, fRJBPn_EiZ-VDzwu6MhdEQ, 69AYX2GC_LNtlKG9RPmmtg, O67_GwXOecWY5Qoor6VFdQ, PvuiiLCaFyknQTioj1OzjA, t3E3nhh3bL7H_QOku5o9fg, JUeGFCsprKVUYok4oLsdEA, nOPhkKDM-0-UfIinPS758g, bjWWjhy5_dWLckCPy5BcuQ, XGHeVx1RF0iRHv_8fz9p9w, dJpLmHFxgOYqhFS5JiJyTw, ovR3JwcQFzY2syeDennbuw, 3C8qIpUX48siYEdzTs1mrQ, mAdW-3kA3R8tTxpjsJ7xbw, kG2muG7eit_AzZMcBCMArQ, TdYKJgSgY2GF_YJnwsi5yQ, VcHJcFor7FBs7PQ5B3vLvg, N8ITUUDRBpo1hTNDvk1byA, xsT4KZTu_KnOVavtuXn4RA, 0S6EI51ej5J7dgYz3-O0lA, YSsyRJb9HJWMIldDf72yqA, VE9iWkvq6Wmt4omEit7BZw, b0pGpdBx44T-6FgalyYGHQ, wcIWkEWa-AMpgEGOKxPxTQ, kZZt88M9Hrr_57mXlmYq4w, 6i8mlTKf2sPmJ0sc-Y_U2g, p6RurvWCPEqR8PP4siwiVA, 3h38QgaoxooCojoN6pZNUA, 4zrekHJvA2ixf1ivPiPigA, WdvDmA_oASXS4B0Ge7YSIA, KtUS6HMhgIPHXuwwkwReEw, 4uJXindoZlYPawRRJp4LZQ, BP_aPIpOgSSzZ0g-_eK7yA, S-_ESUI9jYbDJYZK727AOw, gUOevFTr0qeVSEWOac6Rqw, U0vzuP_b7vwX8OnLkXaQFQ, h_jiZVmOzQ_JfLF2HCExEw, UqkrP5O2ToeXRcYbp7okIA, tJNADammQ_Ia6xqKAbQgtw, sFTrQxh5ldd2PmXt-9_OLQ, yACIfutJx2d_M4fzPS_U4A, giqRUc_tUDpaNTF7E64oDA, dU1rhDcqbfqy6qyQKiba2A, s_FAHFKUl4YqNofYZC1NYg, U3sCAJc4_E3MGC1jGi19gQ, LfmIHXP9BLuEPrclar77ug, fs5bpfk-2pvq2v8S1De5pQ, GABWrw5Et9jubriKwMUDbw, G5LXEaxhQMF_BVjNHkVr7g, EG2l1aIF0TYdyqqv3BleTQ, pOsSRzm0ZOXE9FcJ5pWxYg, TlGPiX7YqU5yTWmBcwJiAA, Or-5choooobXikcd02etTA, rdiIw6PV4AVm-zSfUEFI7A, vfEga4ru6sTHilftOq0n2A, sAELZf1ExiqAfAfcs4pGfw, TibBhm-fbksozIDFD8wjPQ, yLW8OrR8Ns4X1oXJmkKYgg, 9tcmF1c4XJuS4zlXXd1zKg, JnGtgOPpkjyWOvWM0SYEXg, QsSDhb2ncefSS7EsVzXHuQ, 9P8-9EUP-aEnuisqUYt5jQ, a5hyrWp6GuGteNxOW7yGsQ, BRypouem_-0mvtpArGU0YA, XCW5pJCDhvlW76XTSUEkIg, mWW2mBsqWA7u1u4dseaPQA, Eypq5gLLjCapBVVnMw_MyA, yjwU5evf2WtUNiG2nMmjSA, U-7EVbeRf1wlSZfHW_gujQ, 82kpngXO1VUi6AgOSYTSaQ, OvNCuwc0pCG3nc0eLQjdoQ, EWw4o4rd8Wtrh0DGrn8bWg, mLJI_HZeTJzv6fq49pgBcQ, aRN0AZA68GFDaumiLL8nUQ, O__yRr2wEV8nNNB6MWyGIA, BWyCehFfTOKMTgpnjcLP4Q, irnXbT_38np0IfkJZiUaNA, j7dcryWb3T_ATrhIuYl7Jw, 6WVkB08zmiWirBgHxd4zyA, jlu4CztcSxrKx56ba1a5AQ, a08_RlilLHnNJAbNXioTow, P2epFHigkHzKhggZqb4hOg, 8YQ6MOLpyIX1jVeChpldhQ, 5O0-kJvZtjfBb-3smJ0sYQ, m8hegd6KOTstouqvXNFYOw, YZUNuWWIjt1yxN3FnjkH6g, Khh_zoydh8gcPT-rQtXFBg, OapLWhQI4_Gm32-nYbHmUA, YZqzFWkbYmzwO0Imc3QFxg, uKtpvZIBvthTFFntso1eAQ, Pphfx7sv6_RUKfhonaRdlQ, KvR7GyPKJb7FaiTg5ZT9kQ, vMBbRZzpmJEKzRDDGwIReA, QBA1hBjjZE975PwukWCskw, oPmMbyow9CWs8f6An4kAxA, HvYc0jpkjloM15zUD0obow, CiJat5Up2jAO3B0qTbiN5Q, FTDSgrB19TEwnqqH1mc3-A, f33XQ-2Pv6LRRPs5MUVpfg, j-1qkha4h87wMfNfwPvfqQ, SKrkE9HZDSiwOKdI5eKu5g, FBelk4JGoO0ZCFlfJzW3aQ, RUMzmM64bNGfKw8Oe_Q8nA, qdOFsVTHlzCIZOp9oSrFhg, Hm5PtShXQbFUMdsL9yJVGQ, moEt-g0nnW7IgQ3QOY4cig, IucvvxdQXXhjQ4z6Or6Nrw, MfDGBpOHbWdy0KFRe9Y8yQ, wJmrFNaQP547qvMlgCzTZQ, JIiO4JJqNK1cZTG2IsxX9A, _yS8hvlOf9B48h_qgyd0CQ, GfrfRbyX2iYO3M0rvKOQeg, kfAs5S1XGtZZyO0QCuXD_g, sHAEP2FDnnvPIq8XYxLxMQ, ofeLGyYo5yACoVzahgExZg, Dqr8khF2axF7ge-43_zuqQ, vFRh6i6qhIg8T_XjCv9ngg, QIFw7TSotB1g7gFGDGMDUA, p7Cz3cQyk8BStRsAFPxCKA, MhwMthd3skxGLjx4iJP2gA, zAFS5GwqdQH9ZlwgL5ywAQ, RddiLJRr7ZOEMFCpGGSiLQ, 4dXgo23OFcemEoWShO8hoA, W67qcTCAN5a6JxUJqo-zZw, Rar-IjwLMtBthNC_Ote9Eg, qp7pS1DwbOdd_aMa5XynKQ, So9tAKkk2PRT2EiaqHklRQ, oxl--iAcvMX2RWSqGZXcfQ, 4YZrmidSiPEpp4pJawYxGQ, X_14Pe-kpmR_QiU-SRJvgg, 3_DkYdorBEo23mneNGahoA, DpzKyv41_qFWYOJsQ6T0Cg, VOTL_-LFW-Ki3SBLqiR5LQ, iN0A6QIrEFYoSGHFaknh8Q, rLjFbA_E3GLrBIKN-in-Qw, yVtAUqcUaLV3PLRcCHaw5w, kOI54u2O86mliHo1UTkVAg, X6FILzWJ83X39hiydbVV5Q, c-Dja5bexzEWBufNsHfRrQ, MSUMnwnKxJr7o4NZ27sTJg, 0z7CYyBIh4emkv6_-DtC6g, KwVm3enNyGHlEkRceuf7yg, IsJzVtn-BXsaAE-asqdzCA, _OHaoJFgB9-Nf05Y_IeabQ, 9cjIQqdgTBZ6q-MW2hzyAg, euauAX1RAwea1-U6uh4AGw, PvBmRN4suldo06Kcz2-vcw, AYQGK2AZkIPkrqgAb72Qkg, 3haNGPmAWJwDSQGzZAzvsg, a2S0jQecIOUYurcBdgUddg, 1PKylWjSxTwZoBcqX33taw, 7xQDO8KbLE1vZ_yKr7mBgg, HVHXfEtYcfY4vZ558mMpQA, HucGp4JkSaKC5pCHLimLvQ, 9QrE24JaemD3TLFihmTKxg, KDewJBJknfWvQyHHFNbfdg, W7sQ50m0VADz-RD2To4YNQ, Z4o3yIkrLutOxLFr_1Xynw, K-hG6GT2axQDAcQrqBxDLQ, STlQCXSduo4Ei14oDk7-7w, FNu6Cd8kagEeiKn1b4nQyQ, 2z2A6ayPZmlVwZFK-uz60w, ZEF_RLr_FOiU9wzhWr1znQ, 7HSJozktgIBPoDXC6LSpwQ, Pi5ijXVAN2e2KhipvEu5TA, BGKNRm3Ung4BSRddIukfAA, 6rKtdosDQUptMW3dxHHviQ, giJqvuH8EC62Hi5WboZ08w, 8esbQFK-w5xRMnQZvnaADg, Zl1fJNTzNULZiqBRShxUYA, FLmBD5K-cq8i-XHch18iRg, wcQ_c6NvMmvplHUDor28zg, LEIjyIyvhaoShSVb-E6MgQ, mEbbDKGEtz5yRiE_S0Fpfg, d7Ntwi9lckdKSowJQ1MT5w, 1qBrkepGm4PJTfYQFHHcRA, TqYBwViM05fJFRoblqUiMA, BUeueHeX3mzlyEBEEK9quQ, txa029nzy7tadE0MrJd7Yw, 0H2ggT37lK8hsbH8aGR1Ug, T7UOTXOsi6ZdJkzy8czTMw, DH0U5bti1DSIFFEE_Rni3g, jZva3shzpd7s8XCml_8AyA, I3axJuMSw8OLdvYypHGQ5g, bwBTC-rt3NsXCRhaqb1fWA, eEVKSNlQ2HuXyRQ6BOVjAA, -x7J22U4j5Eds3Hz8g6Pjg, iW0isayUHBa6QXVpK0ByAQ, wDbNahd4N2bmgmtgXeDbSA, _fqk_BFLGQd0VeT9hvU9Gg, 0juzbrgcLHqobdK-OZAyiw, EdrZZEfl6CHkgw-BjDcHsA, -G4BoickD36tIDdZtl6isA, Kq8ffh-Lp1n9Bul28pOK6w, jYowMfO4Gzh_kuwgFS_oyA, 7b5SiKAhS2yhtBSZocltxQ, CyVrLqdkQmFW0MsWDSrMgw, -TBFZ48Er0nXjSZpG4BmBA, Zz8T7zXgAT4RsyZLvzQbSQ, lZbotco47bHU7oE5b3d1DA, h6aZg8OfwRnMVKloX7tBDA, Qs_MYKfkw4dASKgG7rWeLg, uPSMuzOf3pNnYFqsdamSlQ, MmE4W5dFQr-SzDvmQy8H7A, d_jFqEuSL5PIH7QPsJrdyA, aGCpn2bRjnqkXSe9UwZrJg, PbXWKMJS_HqqKCcy2lj0RA, 2LEycRa94ph1f6SeKFz0tQ, Y6A32qMjnzpumxsuvAogGQ, LMoK9BUP6Tgfc0AeDVbZHQ, I5F_XyBFf8g2bt-g6q0lLA, 0AmC3hMV9Pe6mcoXQ8vDSg, jLRRFIW7LyqMBJC8uowUIQ, --56mD0sm1eOogphi2FFLw, cczCUack5vpprurWhc0ckg, 8X1yYVqGXuhHW65oEVwBsw, _vzLhXH1tVmwseiXOaU5nw, _W7GXF-Kf_prAOCSz08Caw, tUAh8DnKt6AwUFIx-sVygg, Rl2nrVIy3vskUjXt7ZrlDQ, Nuk54dt8Osk8ghUhpuNxqQ, WbuWgFFsNJpfr43UlbnsRw, uih53bykBGPNn3Lv09ofkA, 3FMK2LpNHcUyuY09_4bGFw, huSC92vCJHLUIUQGKR8aIw, m8BMTb9ddo-83-KVoIK1zg, 6IRT92XUVNTse1radnnxeg, 6fNyD6l5KQ9pg_l0-M7ARA, 62TPDA37iXppqA0xXJrSPQ, TJ57yRrjTlEC8wcyvvCoeQ, 5BdmIWdYjg_Soatujn2c-w, EWcksswCbHB7-9qvLql-Pw, maPY2AAfY1_dIjl4FPyCmw, bBm3lRNgIJoCKnpufNtMTA, GOlfNNEheCzw6UZGqpg_sg, vtT90Q6QitvWAsipzH5P3A, tjm2lrgGi5dCwkr1NOGu8w, 013M7vLFu7d4h30hGIam2g, N61hkQVfKF0GXP3UIVnbWw, KeDonnan9lMaLphcxfPgNQ, vPXEMwrW38jDK8M_bBGlaQ, dIl3tET43JAFkDE0FgH56Q, rrfHL-1xvGM3kDaXsNDkQA, 6CFIzRJwB_xOF2ng5tD6Ig, 7IV3JXTXufasWNSkDEdrcQ, Y8adrWFzckrjuC11aAs9Og, erU4EJJgsuqdtehmIFxAQQ, djxnI8Ux8ZYQJhiOQkrRhA, OwKgErB62F7947UEZ5lqVw, xCdBM9yKyKyqW9qC2RqAkQ, F_5_UNX-wrAFCXuAkBZRDw, tyki5EYiIa0C1TJG6__pww, TaVuQWmXAhxy_LvIXBs9sg, 7iWvFQB0wAzxRr3hXC_lEg, yxB2t8PijiCdr6wi0SKAtw, -TWmOCrqnTwfO5k04S3QrA, w62s4HjFp_JW94c9dIfb4Q, KJsG9EzN88bgSrNrsdPiYA, RJn-TVWHbIs6HVoVwC3Y6A, ZepnBtd6yFJ9gueF1j11-Q, BlXJPQUD9iHp4q44pB8TsA, utjGh0V0XweisHuHM6Wn3Q, JZicKqXG2uMUKGk-FlczRA, ZT6SExiHk-kgoVID1eSmgA, QrgNwyMbkdSmO4VvUv7MJQ, Nw7lc7IQJVeXUrO5d6ceoA, LNEXz0drBNtLHwrb1G-VPA, PqWGRIAjE0WvNVJ17Mq62A, Ts_2TEt2W0y8XzUsVe0JHA, vy9hlrnsIvIeuqI_qcYD3A, iH5YQPtx1qrNG4t2-DjI3Q, 6IIrIdHfwPk6680r2ZABYQ, yDgBhl1QH-z7UMb6i98SOA, aMq-VNK0nBRGn29oJ5NO3A, hLDUnx-nJsQwPEEImgkDOg, ZzcrNT_JhsRH7W-Ug4M8Rw, Sm-4JBZAys8bzoFYAZoITw, VO3uEPrSG5mlHMLswnSuGw, o23id28geN_hksaYW8AEJg, qVKPE3u1AKFsAg40I9HXZw, jbiI4WJrvhE0ia0mEKvz-g, DyB0bvGhaPX27mPyWZFO_Q, fRJpK_b0rrjpBgRZjvfvgA, 469clQ5HKTtp8iu7ugsc2g, fK0K0DfpakKiZqfqC7LE_Q, _aSs5dSAabuwnXUGBPzASw, 5CSAtdgFiJYCuu3C9kWTWw, woZhhAj9QrzMYBJ8M7uJFA, W0I0kYa9-qAvWJW92CjObg, TyUa-VJm0BHvQoY8Kq3CLA, cp7GNIawJxDgQ83tXNA4kQ, PZG7tNEp18aRuBnYPwgYzg, T1hO-sJGywwCn30S2pezDQ, SBt7N189FEOA5CsupNHiUQ, YmwkqE6p58egXAG8xwoJXQ, XTDvxqY6U6jMFvy_lq5o9g, 4FE8md9fMr_jZFNbcOmHsQ, 3MH98JxTJ4DaSy6bPkj-ng, URKy1vVgTflZyy-mIUFJVQ, DKXxKRgDYffEW0tdU-hzdw, 74ncmLzQXusSUYRQ0IrWrQ, o1QAhT9-HOVzyso46he00w, ByNfFYaW544SRchjvAHscw, u-b1ekU-sTpUqD-ub7Jppg, jXqB4QsveqYs-swmYIQWkQ, lBpt9t83kxdDrRfQWqfsvw, gfR80SvOyWL45S8vPMZxNw, aXpiHi7FW_wOIe7nGFRSDQ, UsXqCXRZwSCSw0AT7y1uBg, 4rYwdfELqwdUSLSIqTm-jw, mRIMMbqALambba2brJ25Kw, fafQY-OvIFOO0ail09Mvgg, ag0Ko4cAXf1fdKXD52gGeA, 20feP72XEMJ91ADQZsNRyg, bkJXmpgY2aHc05TYmSn4sg, nkN_do3fJ9xekchVC-v68A, ydIdyGQyO8eZe0yqgs0DfA, Vny6sMsPm4B51R6_UNm3fA, 1lad9hCBGpHAS2uMSrKCPw, cgDZVtYICeiK5t1rkesamg, XMsh0_d5nYjdPcNv-6Qu-Q, nr35WjC-YI0dFcsnW33Szw, rRbm8dpVDkMhwE7OjnzGig, q8C_7rkAHpWvzdLjchYy9w, 0QNRU_A6aruI-SrZdG0OrQ, N3pcY4n7netDP4N6U-iDyQ, Bc5eXT8xzhSWLFUnx2v5_Q, hH4IASJJlWquf2I_nLmshA, WFZIMqctBkMzzBV6IV7Pjg, mBI6sY3uj9LHoIXjM-x_8w, pmvf-Zl1WFRjf3yNXejYCw, tr13Jb83h2itjyXVwaO5eA, I-4KVZ9lqHhk8469X9FvhA, 7RlyCglsIzhBn081inwvcg, Oz1MOkxzvyVg_x5lzAHD0w, a9L10AvzmMvx67Rvao9__g, VV51MZo80ZlhCIGZIGyN8A, g16kmCYG9LOXsB2Ufzl0yA, MTt4B3QWKxP98lccjvp07w, xJxtHt9Rvdy75EMvVtcN9g, pBLB4_PCMA5DrISmkHZoUA, yI7z8tn26VBcKfBXQRWwYQ, KQi1oDBfLfLBMtmVl_u7Kw, 64Zdqndjh815LSu2FZeoVA, cnQXH0wqMce-s8P5gnUO3Q, 8l-QJHUtbQQKC_YfwxG2cA, p6rITOkHylhAbmJTPoZBTg, DIckqqZNAQwL5ySdqWIJyw, ZMocFA2lNMJeiKjguUKu7g, q46P4WXcdOeIx0yE5keY9Q, trR5InDoegAjlEzhlRBY7g, 5cBfwjuOT9HV2539Rucz5Q, sraTrYU-7q_bQ0TxQrLJvQ, b91PKESBpz7aefX06lzrcg, krYe-oFORFFwiCK8IljiXw, IDUp2xfEwYspBZXaA7OAFA, HTou8zMQplLbrMi567HiHw, bh4XteXl-uQkGDjUngMOPQ, duAatEAMZzqUkPrVtJqU5A, WFa_RTaO-POWjPDhGAASEQ, 93xP2AH8stTJf6YALb9usw, wkAl7GleLMb-UQbNK3GNQQ, vwZhdBaf_7oKTX126BfEZw, w-7pJLtNGmfn5J1jSShaNA, sOzeK0dE0BYx4Mc8dmoenQ, SPpoV-Ck1cFgviwOM_sUuQ, Zy3KuvFENmz2ZT2XtU7ZVg, KgbTukJRGvtoNmPICKlO1w, AIRqSvuv7Ke2-OFs9rq8lA, V7B4KTBitlBs9YH_B00-9Q, 0RUZKZA2wHJ-rh1NLVY15A, lP8_lPjrzeYMu2wwOXy3IA, WxzvAgrK0PxtBcXKCxyvgA, nC4x02Sv0YYT9CV0UcMSxw, u79JLmKzua7wxGxs1Q3Qkg, -lGwMGHMC_XihFJNKCJNRg, N7_Aa-cq2y7wgnqxnvD_Ew, gBo-Z2GiuFhcwjWCCb_GWw, ruLn-0NmYXpYUjOWtntj7g, AdyqjO_IUhBSNCOeur_o5A, xHPYL9XRx71hN43i02dJ6A, BFvqBO8ZHIsYhDg--B28GQ, W5rEQRXmahBmeCcgCih6mA, JzyhTurcfA8u1hqM7J0CgA, IlJrRf-Qo-ylBzlxne8Prg, KMZDZqP__XpDKM_pqq6eYQ, Kr38ub29S1nU6Uk7IoVlOg, TsSkdNbXVrh43ptAVjG3WQ, a85qPvr6L63PF0v9Zs8ZAg, LNzUe8fwKeS5HRaxtb55gw, gyLMEegUjtTEM1o-afyd0g, yuW95jpipnokAZ97cESZUg, JuqGbMI3jdBo7WDcGf8WgQ, 7tHoFLp3vMYgVkubvjt_2A, bbuw35wetKklUeXWo7FpaQ, wYlael7ejt4I3vjaXmpGnA, wnLIHOjiV-nWqaHl6CmVkw, YXmIgTntz1u-XPN-BrbAPQ, BfUPunTFDYnIVvB3b-_YeQ, WJ402rZZYPF8ctX7nLYXGQ, zKjnzaHojLBSXndsW-_W5Q, bEs1d3_QBUoQB_AjTP-28w, ozUsNrw9QlEtz_JqN5PlMw, N__vP0SludJNCJxuDXNZ8A, EQimcytMaz3lZUdIO9KRsQ, YwNLEnHC43zD6wSY2d-_rg, D3fOi-5w4intrUTWXzIQew, Fgst8YdeameCY6B9U1C1bQ, pEYx-pGQZlDlI2CixivcOw, taU-uxYwYs3nywMkVm3ELQ, ZnVPP4sofdkrgsoBGNCcqQ, nlufIjMa__k4V-f-Qs5vig, xxvgWiRMzaG5EpgLyCSnaA, bI5b9gC4HJ_qAefoG850bw, QHfNQDx5oRi4ONjvdmbcBQ, vSOp7-fzW8pNskHXUZzijA, 0tiAUDZab6FOa_6dvJ-7oA, MEYWD3nf64p3INCsJ5KOaA, USZx-55MA2-lG2hBu6PWJA, _pmh4gMPBtAHv1EdA2tOog, g8j2ci2FcvmocszcO6ypNw, 3CzuOl-nZQsk_brwy-LStw, ryvB2dv0pZyUQxlrx8Pnkw, MoeuSTbxJBqQefgW0smlRA, GdkupEXprSBV3_5jNpE69A, 12_KX_GG2iEm19pvVu8RAg, kWFd_18oJVyJ0aNOAwwRew, 6gZT6Mfb3xeKxN5yicW2OQ, cUTAO7xfjpRuOcXefbF2Bw, vP85Nf2ts5iuCAfsgKSdiw, W61yc9KnnWgKfoFv5wPZ0g, RpUZoRJ2FCGQtHb86Vt-xg, 9Hey8X8PzdEuimmn--Eo7g, O91sRO4-zLBpXZT5VrklOg, AJZNeiu4cBq-P4xSjZ40Lw, 1A2UeY1X41NF_GS9F8aziA, Jfrj-vkBF-DrZRpduBcL-A, 3gRfkaVcEWri-Ju7OQX7uQ, m7nN94PGrgwDXMJwbYUaVQ, X3c0t13AQj_UAppOPzCb9A, JVk-bDzwjfvMMeMtwsByGA, Ges6iO6Tq2SxY8Miuz9RRg, y9l_9K3jN3G2s7GQupvcJw, h0TX3pcrn-0gyBWEkBj9rg, WLaNU9Sal4SZvQquXA1gVw, vcwXkjGaQc9FJOm8mFfFow, yHbrIShhhHkkl20_KGP4OA, yXIFCpTAJkKzyoWXm4opqg, 81mx45AN8Q7KlUF1bhJp_g, FeMjZkNPntc9AteMSjmAzg, DOyK5el1fRFAzPiE9oHFpw, XwcNgKLd_p1ug5wiK5H9LA, iA6O1iCg8nva02s1ARWvvQ, 9E097uOiJYGgbnHpp-eP3w, 0_etPVpebZpYbJP2B8QUbQ, UKf66_MPz0zHCP70mF6p1g, InInjzaZxzQ8_suxZEAP5g, QGM4ZOfmwxMj4hpe8cTSUw, zwLq4aVDSH7HyMbVjKfkRg, Zcrb0m3pPETtjT9lz7Z7Ng, IrQkQgoR9-C-ph4QQohI6Q, PAsKHno6v-a8pQOjdSPEMQ, Ki_eSQaVXde0W9hdCdqhkQ, T0J3CeiLirOO2u5mZSEyCQ, MfknWfoPx2oilsyUK3kekA, qHOnp03fWsmXcu1L7aXKUA, r-TMc1kxkgYN9xb7cuiEgw, zRxgdQHeGUEZBnRWVOBINQ, 7jKzWfXRj_O2UVRMy4a3Lw, ax7SnXOTIpatbsmqHLqVow, QbHmGJVS_Ztw5YtpCl3p6A, RX9XHlF0P7_NnTqjqU5RTA, xbsBqRNTCGs2Xw1RfJu0iA, _T6f-15h98uPxkDiVGUD4w, 6KUA3-IfHoAhQ3FL2djQoQ, K1GN5xwB8cyXNkXunkHnkA, eodLg-yycbuXUGMGy4P9Ug, ZNPI9K-JufHOs0wXkDv0HQ, IPy3uJllYJmFcZwYJ0kujA, 31yS5H5eYwl1_RFCKFuLEg, zu-MGysJHXLAOgNg6YPokw, 2-xKD2HFb1BhybUlBwjFTg, VTR-U9JZ4PdLqqJm2gJ5mw, D-C3nmOhBH_IOCWQfXLfbg, JyCdr4RjcOlCLKRYZk-bog, 0ZIQLQ8dRW_lgJSH8XJFFg, WwmWdDCJREohcxQqfnOL-A, JFyPntElmlERP5KToiiMTQ, wpNe40aRMjMAepGsuTQRrg, Q2CeD6rmJhXFik0NSannhA, 9FyBOjMNADDIWtGbWZPMQg, 21NPPD7A0y2-iyQJJcOB8A, _2W1wIvxCbRu1LrcgWaTHA, qEhW9HlBZH9duY6GqDBO7g, 2VOq1i2KHpVV5GLUAYfqSg',\n",
       " 'funny': 16398,\n",
       " 'name': 'Ann',\n",
       " 'review_count': 630,\n",
       " 'useful': 21671,\n",
       " 'user_id': 'HbyHhB6WOSQjU-JYwED9Ww',\n",
       " 'yelping_since': '2009-12-13 18:31:49'}"
      ]
     },
     "execution_count": 26,
     "metadata": {},
     "output_type": "execute_result"
    }
   ],
   "source": [
    "result[0].asDict()"
   ]
  },
  {
   "cell_type": "code",
   "execution_count": 27,
   "metadata": {
    "scrolled": false
   },
   "outputs": [
    {
     "name": "stdout",
     "output_type": "stream",
     "text": [
      "root\n",
      " |-- business_id: string (nullable = true)\n",
      " |-- cool: long (nullable = true)\n",
      " |-- date: string (nullable = true)\n",
      " |-- funny: long (nullable = true)\n",
      " |-- review_id: string (nullable = true)\n",
      " |-- stars: double (nullable = true)\n",
      " |-- text: string (nullable = true)\n",
      " |-- useful: long (nullable = true)\n",
      " |-- user_id: string (nullable = true)\n",
      "\n"
     ]
    }
   ],
   "source": [
    "review.printSchema()"
   ]
  },
  {
   "cell_type": "code",
   "execution_count": 28,
   "metadata": {
    "scrolled": true
   },
   "outputs": [
    {
     "name": "stdout",
     "output_type": "stream",
     "text": [
      "root\n",
      " |-- business_id: string (nullable = true)\n",
      " |-- compliment_count: long (nullable = true)\n",
      " |-- date: string (nullable = true)\n",
      " |-- text: string (nullable = true)\n",
      " |-- user_id: string (nullable = true)\n",
      "\n"
     ]
    }
   ],
   "source": [
    "tip.printSchema()"
   ]
  },
  {
   "cell_type": "code",
   "execution_count": 29,
   "metadata": {},
   "outputs": [
    {
     "name": "stdout",
     "output_type": "stream",
     "text": [
      "root\n",
      " |-- business_id: string (nullable = true)\n",
      " |-- date: string (nullable = true)\n",
      "\n"
     ]
    }
   ],
   "source": [
    "checkin.printSchema()"
   ]
  },
  {
   "cell_type": "code",
   "execution_count": 30,
   "metadata": {
    "scrolled": true
   },
   "outputs": [
    {
     "data": {
      "text/plain": [
       "['address',\n",
       " 'attributes',\n",
       " 'business_id',\n",
       " 'categories',\n",
       " 'city',\n",
       " 'hours',\n",
       " 'is_open',\n",
       " 'latitude',\n",
       " 'longitude',\n",
       " 'name',\n",
       " 'postal_code',\n",
       " 'review_count',\n",
       " 'stars',\n",
       " 'state']"
      ]
     },
     "execution_count": 30,
     "metadata": {},
     "output_type": "execute_result"
    }
   ],
   "source": [
    "business.columns"
   ]
  },
  {
   "cell_type": "code",
   "execution_count": 31,
   "metadata": {
    "scrolled": true
   },
   "outputs": [
    {
     "data": {
      "text/plain": [
       "[('address', 'string'),\n",
       " ('attributes',\n",
       "  'struct<AcceptsInsurance:string,AgesAllowed:string,Alcohol:string,Ambience:string,BYOB:string,BYOBCorkage:string,BestNights:string,BikeParking:string,BusinessAcceptsBitcoin:string,BusinessAcceptsCreditCards:string,BusinessParking:string,ByAppointmentOnly:string,Caters:string,CoatCheck:string,Corkage:string,DietaryRestrictions:string,DogsAllowed:string,DriveThru:string,GoodForDancing:string,GoodForKids:string,GoodForMeal:string,HairSpecializesIn:string,HappyHour:string,HasTV:string,Music:string,NoiseLevel:string,Open24Hours:string,OutdoorSeating:string,RestaurantsAttire:string,RestaurantsCounterService:string,RestaurantsDelivery:string,RestaurantsGoodForGroups:string,RestaurantsPriceRange2:string,RestaurantsReservations:string,RestaurantsTableService:string,RestaurantsTakeOut:string,Smoking:string,WheelchairAccessible:string,WiFi:string>'),\n",
       " ('business_id', 'string'),\n",
       " ('categories', 'string'),\n",
       " ('city', 'string'),\n",
       " ('hours',\n",
       "  'struct<Friday:string,Monday:string,Saturday:string,Sunday:string,Thursday:string,Tuesday:string,Wednesday:string>'),\n",
       " ('is_open', 'bigint'),\n",
       " ('latitude', 'double'),\n",
       " ('longitude', 'double'),\n",
       " ('name', 'string'),\n",
       " ('postal_code', 'string'),\n",
       " ('review_count', 'bigint'),\n",
       " ('stars', 'double'),\n",
       " ('state', 'string')]"
      ]
     },
     "execution_count": 31,
     "metadata": {},
     "output_type": "execute_result"
    }
   ],
   "source": [
    "business.dtypes"
   ]
  },
  {
   "cell_type": "code",
   "execution_count": 34,
   "metadata": {
    "scrolled": true
   },
   "outputs": [
    {
     "name": "stdout",
     "output_type": "stream",
     "text": [
      "+-------+-------------------+--------------------+--------------------+---------+-------------------+-----------------+------------------+--------------------+------------------+------------------+------------------+------+\n",
      "|summary|            address|         business_id|          categories|     city|            is_open|         latitude|         longitude|                name|       postal_code|      review_count|             stars| state|\n",
      "+-------+-------------------+--------------------+--------------------+---------+-------------------+-----------------+------------------+--------------------+------------------+------------------+------------------+------+\n",
      "|  count|             192609|              192609|              192127|   192609|             192609|           192609|            192609|              192609|            192609|            192609|            192609|192609|\n",
      "|   mean|               null|                null|                null|     null| 0.8230404602069478|38.54180263002481|-97.59478531563506|              1698.0|   68559.721920789| 33.53896235378409| 3.585626839867296|  null|\n",
      "| stddev|               null|                null|                null|     null|0.38163545071406046|4.941963502645914| 16.69772481655523|  2500.1279633917406|26486.666224785797|110.13522443830212|1.0184582836938019|  null|\n",
      "|    min|                   |--1UhMGODdWsrMast...|3D Printing, Grap...|         |                  0|     33.204642003|   -115.4934712422| L & A Insurance ...|                  |                 3|               1.0|    AB|\n",
      "|    max|​380 Midpark Way SE|zzzaIBwimxVej4tY6...|Zoos, Local Flavo...|​Chandler|                  1|    51.2999426916|       -72.9119819|    ​Lounge Eighteen|           t2g 3m5|              8348|               5.0|   XWY|\n",
      "+-------+-------------------+--------------------+--------------------+---------+-------------------+-----------------+------------------+--------------------+------------------+------------------+------------------+------+\n",
      "\n"
     ]
    }
   ],
   "source": [
    "business.describe().show()"
   ]
  },
  {
   "cell_type": "code",
   "execution_count": 35,
   "metadata": {},
   "outputs": [
    {
     "name": "stdout",
     "output_type": "stream",
     "text": [
      "root\n",
      " |-- address: string (nullable = true)\n",
      " |-- attributes: struct (nullable = true)\n",
      " |    |-- AcceptsInsurance: string (nullable = true)\n",
      " |    |-- AgesAllowed: string (nullable = true)\n",
      " |    |-- Alcohol: string (nullable = true)\n",
      " |    |-- Ambience: string (nullable = true)\n",
      " |    |-- BYOB: string (nullable = true)\n",
      " |    |-- BYOBCorkage: string (nullable = true)\n",
      " |    |-- BestNights: string (nullable = true)\n",
      " |    |-- BikeParking: string (nullable = true)\n",
      " |    |-- BusinessAcceptsBitcoin: string (nullable = true)\n",
      " |    |-- BusinessAcceptsCreditCards: string (nullable = true)\n",
      " |    |-- BusinessParking: string (nullable = true)\n",
      " |    |-- ByAppointmentOnly: string (nullable = true)\n",
      " |    |-- Caters: string (nullable = true)\n",
      " |    |-- CoatCheck: string (nullable = true)\n",
      " |    |-- Corkage: string (nullable = true)\n",
      " |    |-- DietaryRestrictions: string (nullable = true)\n",
      " |    |-- DogsAllowed: string (nullable = true)\n",
      " |    |-- DriveThru: string (nullable = true)\n",
      " |    |-- GoodForDancing: string (nullable = true)\n",
      " |    |-- GoodForKids: string (nullable = true)\n",
      " |    |-- GoodForMeal: string (nullable = true)\n",
      " |    |-- HairSpecializesIn: string (nullable = true)\n",
      " |    |-- HappyHour: string (nullable = true)\n",
      " |    |-- HasTV: string (nullable = true)\n",
      " |    |-- Music: string (nullable = true)\n",
      " |    |-- NoiseLevel: string (nullable = true)\n",
      " |    |-- Open24Hours: string (nullable = true)\n",
      " |    |-- OutdoorSeating: string (nullable = true)\n",
      " |    |-- RestaurantsAttire: string (nullable = true)\n",
      " |    |-- RestaurantsCounterService: string (nullable = true)\n",
      " |    |-- RestaurantsDelivery: string (nullable = true)\n",
      " |    |-- RestaurantsGoodForGroups: string (nullable = true)\n",
      " |    |-- RestaurantsPriceRange2: string (nullable = true)\n",
      " |    |-- RestaurantsReservations: string (nullable = true)\n",
      " |    |-- RestaurantsTableService: string (nullable = true)\n",
      " |    |-- RestaurantsTakeOut: string (nullable = true)\n",
      " |    |-- Smoking: string (nullable = true)\n",
      " |    |-- WheelchairAccessible: string (nullable = true)\n",
      " |    |-- WiFi: string (nullable = true)\n",
      " |-- business_id: string (nullable = true)\n",
      " |-- categories: string (nullable = true)\n",
      " |-- city: string (nullable = true)\n",
      " |-- hours: struct (nullable = true)\n",
      " |    |-- Friday: string (nullable = true)\n",
      " |    |-- Monday: string (nullable = true)\n",
      " |    |-- Saturday: string (nullable = true)\n",
      " |    |-- Sunday: string (nullable = true)\n",
      " |    |-- Thursday: string (nullable = true)\n",
      " |    |-- Tuesday: string (nullable = true)\n",
      " |    |-- Wednesday: string (nullable = true)\n",
      " |-- is_open: long (nullable = true)\n",
      " |-- latitude: double (nullable = true)\n",
      " |-- longitude: double (nullable = true)\n",
      " |-- name: string (nullable = true)\n",
      " |-- postal_code: string (nullable = true)\n",
      " |-- review_count: long (nullable = true)\n",
      " |-- stars: double (nullable = true)\n",
      " |-- state: string (nullable = true)\n",
      "\n"
     ]
    }
   ],
   "source": [
    "business.printSchema()"
   ]
  },
  {
   "cell_type": "markdown",
   "metadata": {},
   "source": [
    "I'm checking to see if this is the same server..."
   ]
  }
 ],
 "metadata": {
  "kernelspec": {
   "display_name": "Python 3",
   "language": "python",
   "name": "python3"
  },
  "language_info": {
   "codemirror_mode": {
    "name": "ipython",
    "version": 3
   },
   "file_extension": ".py",
   "mimetype": "text/x-python",
   "name": "python",
   "nbconvert_exporter": "python",
   "pygments_lexer": "ipython3",
   "version": "3.8.5"
  }
 },
 "nbformat": 4,
 "nbformat_minor": 2
}
