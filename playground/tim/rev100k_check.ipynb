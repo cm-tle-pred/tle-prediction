{
 "cells": [
  {
   "cell_type": "code",
   "execution_count": 1,
   "metadata": {},
   "outputs": [],
   "source": [
    "import pickle\n",
    "import pandas as pd\n",
    "import numpy as np\n",
    "import matplotlib.pyplot as plt\n"
   ]
  },
  {
   "cell_type": "code",
   "execution_count": 13,
   "metadata": {},
   "outputs": [],
   "source": [
    "df = pd.read_pickle(\"./ignore/rev100k_2.pkl\")"
   ]
  },
  {
   "cell_type": "code",
   "execution_count": 28,
   "metadata": {},
   "outputs": [],
   "source": [
    "rdf = df[['NORAD_CAT_ID','EPOCH','REV_AT_EPOCH', 'GP_ID']]"
   ]
  },
  {
   "cell_type": "code",
   "execution_count": 38,
   "metadata": {},
   "outputs": [],
   "source": [
    "def do_thing(gdf):\n",
    "    gdf = gdf.sort_values(\"EPOCH\")\n",
    "    gdf['REV_AT_EPOCH_DIFF'] = gdf.REV_AT_EPOCH.diff()\n",
    "    mask = (gdf.REV_AT_EPOCH==10000) & (gdf.REV_AT_EPOCH_DIFF < -80000)\n",
    "    mask = pd.concat([mask.shift(n) for n in range(-5,6)], axis=1).any(axis=1)\n",
    "#     df[pd.concat([df.category.shift(-i)=='A' for i in range(n)], axis=1).any(axis=1)]\n",
    "    return gdf[mask].set_index(\"GP_ID\")\n",
    "rrdf = rdf.groupby(by=\"NORAD_CAT_ID\").apply(do_thing)\n",
    "\n",
    "\n",
    "# for x,xdf in rdf[rdf.NORAD_CAT_ID==116].groupby(by=\"NORAD_CAT_ID\"):\n",
    "#     display(do_thing(xdf))\n",
    "#     break"
   ]
  },
  {
   "cell_type": "code",
   "execution_count": 44,
   "metadata": {},
   "outputs": [
    {
     "data": {
      "text/html": [
       "<div>\n",
       "<style scoped>\n",
       "    .dataframe tbody tr th:only-of-type {\n",
       "        vertical-align: middle;\n",
       "    }\n",
       "\n",
       "    .dataframe tbody tr th {\n",
       "        vertical-align: top;\n",
       "    }\n",
       "\n",
       "    .dataframe thead th {\n",
       "        text-align: right;\n",
       "    }\n",
       "</style>\n",
       "<table border=\"1\" class=\"dataframe\">\n",
       "  <thead>\n",
       "    <tr style=\"text-align: right;\">\n",
       "      <th></th>\n",
       "      <th></th>\n",
       "      <th>NORAD_CAT_ID</th>\n",
       "      <th>EPOCH</th>\n",
       "      <th>REV_AT_EPOCH</th>\n",
       "      <th>REV_AT_EPOCH_DIFF</th>\n",
       "    </tr>\n",
       "    <tr>\n",
       "      <th>NORAD_CAT_ID</th>\n",
       "      <th>GP_ID</th>\n",
       "      <th></th>\n",
       "      <th></th>\n",
       "      <th></th>\n",
       "      <th></th>\n",
       "    </tr>\n",
       "  </thead>\n",
       "  <tbody>\n",
       "    <tr>\n",
       "      <th>11693</th>\n",
       "      <th>1781143</th>\n",
       "      <td>11693</td>\n",
       "      <td>2001-12-26T22:30:47.481120</td>\n",
       "      <td>10000</td>\n",
       "      <td>-89999.0</td>\n",
       "    </tr>\n",
       "    <tr>\n",
       "      <th>3911</th>\n",
       "      <th>90309578</th>\n",
       "      <td>3911</td>\n",
       "      <td>2012-08-27T16:58:00.632927</td>\n",
       "      <td>10000</td>\n",
       "      <td>-89999.0</td>\n",
       "    </tr>\n",
       "    <tr>\n",
       "      <th>17144</th>\n",
       "      <th>67808450</th>\n",
       "      <td>17144</td>\n",
       "      <td>2008-09-04T22:50:49.260192</td>\n",
       "      <td>10000</td>\n",
       "      <td>-89999.0</td>\n",
       "    </tr>\n",
       "    <tr>\n",
       "      <th>3558</th>\n",
       "      <th>69205402</th>\n",
       "      <td>3558</td>\n",
       "      <td>2008-12-09T13:15:31.802688</td>\n",
       "      <td>10000</td>\n",
       "      <td>-89999.0</td>\n",
       "    </tr>\n",
       "    <tr>\n",
       "      <th>13367</th>\n",
       "      <th>101001</th>\n",
       "      <td>13367</td>\n",
       "      <td>2001-05-03T22:59:29.095296</td>\n",
       "      <td>10000</td>\n",
       "      <td>-89998.0</td>\n",
       "    </tr>\n",
       "    <tr>\n",
       "      <th>...</th>\n",
       "      <th>...</th>\n",
       "      <td>...</td>\n",
       "      <td>...</td>\n",
       "      <td>...</td>\n",
       "      <td>...</td>\n",
       "    </tr>\n",
       "    <tr>\n",
       "      <th>4932</th>\n",
       "      <th>78897154</th>\n",
       "      <td>4932</td>\n",
       "      <td>2010-08-01T23:33:53.691552</td>\n",
       "      <td>10000</td>\n",
       "      <td>-89981.0</td>\n",
       "    </tr>\n",
       "    <tr>\n",
       "      <th>23261</th>\n",
       "      <th>78341170</th>\n",
       "      <td>23261</td>\n",
       "      <td>2010-06-21T23:43:26.771519</td>\n",
       "      <td>10000</td>\n",
       "      <td>-89957.0</td>\n",
       "    </tr>\n",
       "    <tr>\n",
       "      <th rowspan=\"3\" valign=\"top\">20349</th>\n",
       "      <th>99469960</th>\n",
       "      <td>20349</td>\n",
       "      <td>2015-06-11T10:05:50.690976</td>\n",
       "      <td>10000</td>\n",
       "      <td>-84206.0</td>\n",
       "    </tr>\n",
       "    <tr>\n",
       "      <th>99489229</th>\n",
       "      <td>20349</td>\n",
       "      <td>2015-06-08T19:55:34.752576</td>\n",
       "      <td>9971</td>\n",
       "      <td>-84204.0</td>\n",
       "    </tr>\n",
       "    <tr>\n",
       "      <th>99536424</th>\n",
       "      <td>20349</td>\n",
       "      <td>2015-06-17T20:07:05.403072</td>\n",
       "      <td>10073</td>\n",
       "      <td>-84201.0</td>\n",
       "    </tr>\n",
       "  </tbody>\n",
       "</table>\n",
       "<p>74 rows × 4 columns</p>\n",
       "</div>"
      ],
      "text/plain": [
       "                       NORAD_CAT_ID                       EPOCH  REV_AT_EPOCH  \\\n",
       "NORAD_CAT_ID GP_ID                                                              \n",
       "11693        1781143          11693  2001-12-26T22:30:47.481120         10000   \n",
       "3911         90309578          3911  2012-08-27T16:58:00.632927         10000   \n",
       "17144        67808450         17144  2008-09-04T22:50:49.260192         10000   \n",
       "3558         69205402          3558  2008-12-09T13:15:31.802688         10000   \n",
       "13367        101001           13367  2001-05-03T22:59:29.095296         10000   \n",
       "...                             ...                         ...           ...   \n",
       "4932         78897154          4932  2010-08-01T23:33:53.691552         10000   \n",
       "23261        78341170         23261  2010-06-21T23:43:26.771519         10000   \n",
       "20349        99469960         20349  2015-06-11T10:05:50.690976         10000   \n",
       "             99489229         20349  2015-06-08T19:55:34.752576          9971   \n",
       "             99536424         20349  2015-06-17T20:07:05.403072         10073   \n",
       "\n",
       "                       REV_AT_EPOCH_DIFF  \n",
       "NORAD_CAT_ID GP_ID                        \n",
       "11693        1781143            -89999.0  \n",
       "3911         90309578           -89999.0  \n",
       "17144        67808450           -89999.0  \n",
       "3558         69205402           -89999.0  \n",
       "13367        101001             -89998.0  \n",
       "...                                  ...  \n",
       "4932         78897154           -89981.0  \n",
       "23261        78341170           -89957.0  \n",
       "20349        99469960           -84206.0  \n",
       "             99489229           -84204.0  \n",
       "             99536424           -84201.0  \n",
       "\n",
       "[74 rows x 4 columns]"
      ]
     },
     "execution_count": 44,
     "metadata": {},
     "output_type": "execute_result"
    }
   ],
   "source": [
    "rrdf[rrdf.REV_AT_EPOCH_DIFF < -80000].sort_values(\"REV_AT_EPOCH_DIFF\")"
   ]
  },
  {
   "cell_type": "code",
   "execution_count": 41,
   "metadata": {},
   "outputs": [],
   "source": [
    "rrdf.to_csv(\"./ignore/rev_rollover.csv\")"
   ]
  },
  {
   "cell_type": "code",
   "execution_count": 27,
   "metadata": {},
   "outputs": [
    {
     "data": {
      "image/png": "[encoded data removed]",
      "text/plain": [
       "<Figure size 1440x360 with 1 Axes>"
      ]
     },
     "metadata": {
      "needs_background": "light"
     },
     "output_type": "display_data"
    }
   ],
   "source": [
    "norad_cat_id = 36304\n",
    "tdf = df[df.NORAD_CAT_ID==norad_cat_id]\n",
    "\n",
    "fig,ax = plt.subplots(figsize=(20,5))\n",
    "ax.plot(tdf.EPOCH, tdf.REV_AT_EPOCH)\n",
    "plt.show()"
   ]
  }
 ],
 "metadata": {
  "kernelspec": {
   "display_name": "Python 3",
   "language": "python",
   "name": "python3"
  },
  "language_info": {
   "codemirror_mode": {
    "name": "ipython",
    "version": 3
   },
   "file_extension": ".py",
   "mimetype": "text/x-python",
   "name": "python",
   "nbconvert_exporter": "python",
   "pygments_lexer": "ipython3",
   "version": "3.8.8"
  }
 },
 "nbformat": 4,
 "nbformat_minor": 2
}
