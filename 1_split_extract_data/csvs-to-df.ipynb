{
 "cells": [
  {
   "cell_type": "markdown",
   "metadata": {},
   "source": [
    "## Load Raw Data into Train/Val/Test sets and Save\n",
    "\n",
    "Takes list from `0_preproc` step and saves train/val/holdout dataframes as pkl files.\n",
    "\n",
    "Loads up the data from CSV raw and saved in the shared data directory at `/mistorage/mads/data`\n",
    "\n",
    "2 versions saved\n",
    "\n",
    "* `0_full` includes the 2 TLE Lines and OBJECT_NAME\n",
    "* `0_min` excludes those 3 fields"
   ]
  },
  {
   "cell_type": "code",
   "execution_count": 1,
   "metadata": {},
   "outputs": [],
   "source": [
    "import os\n",
    "import sys\n",
    "\n",
    "sys.path.append('../models/model_0')\n",
    "\n",
    "from load_data import *"
   ]
  },
  {
   "cell_type": "code",
   "execution_count": 2,
   "metadata": {},
   "outputs": [],
   "source": [
    "if ('my_home_path' not in os.environ) and ('MY_HOME_PATH' in os.environ):\n",
    "    os.environ['my_home_path'] = os.environ['MY_HOME_PATH'] # because stupid :("
   ]
  },
  {
   "cell_type": "code",
   "execution_count": 3,
   "metadata": {},
   "outputs": [],
   "source": [
    "norad_lists = load_norads(['train','validate','secret_test'])"
   ]
  },
  {
   "cell_type": "code",
   "execution_count": 4,
   "metadata": {},
   "outputs": [
    {
     "name": "stdout",
     "output_type": "stream",
     "text": [
      "Loading files from path: /mistorage/mads/data/gp_history\n"
     ]
    },
    {
     "name": "stderr",
     "output_type": "stream",
     "text": [
      "100%|██████████| 1484/1484 [01:33<00:00, 15.82it/s]\n",
      "  0%|          | 0/3 [00:00<?, ?it/s]"
     ]
    },
    {
     "name": "stdout",
     "output_type": "stream",
     "text": [
      "Finished loading.\n"
     ]
    },
    {
     "name": "stderr",
     "output_type": "stream",
     "text": [
      "100%|██████████| 3/3 [00:31<00:00, 10.64s/it]"
     ]
    },
    {
     "name": "stdout",
     "output_type": "stream",
     "text": [
      "Finished assembling.\n",
      "CPU times: user 56.7 s, sys: 40.2 s, total: 1min 36s\n",
      "Wall time: 2min 6s\n"
     ]
    },
    {
     "name": "stderr",
     "output_type": "stream",
     "text": [
      "\n"
     ]
    }
   ],
   "source": [
    "%time df_dict = load_data(norad_lists, use_all_data=True, debug=True, multiproc=True)  # Takes about 4min"
   ]
  },
  {
   "cell_type": "code",
   "execution_count": 5,
   "metadata": {},
   "outputs": [
    {
     "name": "stdout",
     "output_type": "stream",
     "text": [
      "Saving files to path: /mistorage/mads/data/0_full\n",
      "Writing raw data for to: /mistorage/mads/data/0_full/train.pkl\n",
      "Writing raw data for to: /mistorage/mads/data/0_full/test.pkl\n",
      "Writing raw data for to: /mistorage/mads/data/0_full/secret_test.pkl\n",
      "Finished saving /mistorage/mads/data/0_full/secret_test.pkl\n",
      "Finished saving /mistorage/mads/data/0_full/test.pkl\n",
      "Finished saving /mistorage/mads/data/0_full/train.pkl\n",
      "CPU times: user 1min 2s, sys: 24.7 s, total: 1min 27s\n",
      "Wall time: 2min 23s\n"
     ]
    }
   ],
   "source": [
    "%time write_data(df_dict, use_all_data=True, debug=True, threaded=True, path='/mistorage/mads/data/0_full')"
   ]
  },
  {
   "cell_type": "code",
   "execution_count": 6,
   "metadata": {},
   "outputs": [],
   "source": [
    "min_columns = ['NORAD_CAT_ID', 'MEAN_MOTION_DOT', 'MEAN_MOTION_DDOT',\n",
    "               'BSTAR', 'INCLINATION', 'RA_OF_ASC_NODE',\n",
    "               'ECCENTRICITY', 'ARG_OF_PERICENTER', 'MEAN_ANOMALY',\n",
    "               'MEAN_MOTION', 'REV_AT_EPOCH', 'EPOCH', 'GP_ID']"
   ]
  },
  {
   "cell_type": "code",
   "execution_count": 7,
   "metadata": {},
   "outputs": [],
   "source": [
    "df_dict_min = {k:df[min_columns] for k,df in df_dict.items()}"
   ]
  },
  {
   "cell_type": "code",
   "execution_count": 8,
   "metadata": {},
   "outputs": [
    {
     "name": "stdout",
     "output_type": "stream",
     "text": [
      "Saving files to path: /mistorage/mads/data/0_min\n",
      "Writing raw data for to: /mistorage/mads/data/0_min/train.pkl\n",
      "Writing raw data for to: /mistorage/mads/data/0_min/test.pkl\n",
      "Writing raw data for to: /mistorage/mads/data/0_min/secret_test.pkl\n",
      "Finished saving /mistorage/mads/data/0_min/test.pkl\n",
      "Finished saving /mistorage/mads/data/0_min/secret_test.pkl\n",
      "Finished saving /mistorage/mads/data/0_min/train.pkl\n",
      "CPU times: user 380 ms, sys: 6.38 s, total: 6.76 s\n",
      "Wall time: 32.7 s\n"
     ]
    }
   ],
   "source": [
    "%time write_data(df_dict_min, use_all_data=True, debug=True, threaded=True, path='/mistorage/mads/data/0_min')"
   ]
  },
  {
   "cell_type": "code",
   "execution_count": 9,
   "metadata": {
    "scrolled": false
   },
   "outputs": [
    {
     "name": "stdout",
     "output_type": "stream",
     "text": [
      "train\n"
     ]
    },
    {
     "data": {
      "text/html": [
       "<div>\n",
       "<style scoped>\n",
       "    .dataframe tbody tr th:only-of-type {\n",
       "        vertical-align: middle;\n",
       "    }\n",
       "\n",
       "    .dataframe tbody tr th {\n",
       "        vertical-align: top;\n",
       "    }\n",
       "\n",
       "    .dataframe thead th {\n",
       "        text-align: right;\n",
       "    }\n",
       "</style>\n",
       "<table border=\"1\" class=\"dataframe\">\n",
       "  <thead>\n",
       "    <tr style=\"text-align: right;\">\n",
       "      <th></th>\n",
       "      <th>NORAD_CAT_ID</th>\n",
       "      <th>MEAN_MOTION_DOT</th>\n",
       "      <th>MEAN_MOTION_DDOT</th>\n",
       "      <th>BSTAR</th>\n",
       "      <th>INCLINATION</th>\n",
       "      <th>RA_OF_ASC_NODE</th>\n",
       "      <th>ECCENTRICITY</th>\n",
       "      <th>ARG_OF_PERICENTER</th>\n",
       "      <th>MEAN_ANOMALY</th>\n",
       "      <th>MEAN_MOTION</th>\n",
       "      <th>REV_AT_EPOCH</th>\n",
       "      <th>EPOCH</th>\n",
       "      <th>GP_ID</th>\n",
       "    </tr>\n",
       "  </thead>\n",
       "  <tbody>\n",
       "    <tr>\n",
       "      <th>0</th>\n",
       "      <td>18549</td>\n",
       "      <td>1.801000e-05</td>\n",
       "      <td>0.0</td>\n",
       "      <td>0.002592</td>\n",
       "      <td>62.2415</td>\n",
       "      <td>180.1561</td>\n",
       "      <td>0.070489</td>\n",
       "      <td>265.6761</td>\n",
       "      <td>86.2771</td>\n",
       "      <td>12.852684</td>\n",
       "      <td>58561</td>\n",
       "      <td>2004-04-27 14:18:48.216960</td>\n",
       "      <td>2</td>\n",
       "    </tr>\n",
       "    <tr>\n",
       "      <th>1</th>\n",
       "      <td>18727</td>\n",
       "      <td>-2.000000e-08</td>\n",
       "      <td>0.0</td>\n",
       "      <td>0.000100</td>\n",
       "      <td>73.3600</td>\n",
       "      <td>345.6887</td>\n",
       "      <td>0.008815</td>\n",
       "      <td>270.3999</td>\n",
       "      <td>88.6911</td>\n",
       "      <td>12.642166</td>\n",
       "      <td>75486</td>\n",
       "      <td>2004-04-27 15:59:40.727904</td>\n",
       "      <td>3</td>\n",
       "    </tr>\n",
       "    <tr>\n",
       "      <th>2</th>\n",
       "      <td>19027</td>\n",
       "      <td>1.280000e-05</td>\n",
       "      <td>0.0</td>\n",
       "      <td>0.001076</td>\n",
       "      <td>83.0239</td>\n",
       "      <td>250.9465</td>\n",
       "      <td>0.008493</td>\n",
       "      <td>184.3222</td>\n",
       "      <td>175.7249</td>\n",
       "      <td>13.856401</td>\n",
       "      <td>95359</td>\n",
       "      <td>2004-04-27 19:45:13.686048</td>\n",
       "      <td>5</td>\n",
       "    </tr>\n",
       "    <tr>\n",
       "      <th>3</th>\n",
       "      <td>19128</td>\n",
       "      <td>1.320000e-06</td>\n",
       "      <td>0.0</td>\n",
       "      <td>0.000166</td>\n",
       "      <td>70.9841</td>\n",
       "      <td>207.4830</td>\n",
       "      <td>0.020756</td>\n",
       "      <td>161.3777</td>\n",
       "      <td>199.5075</td>\n",
       "      <td>13.715209</td>\n",
       "      <td>79821</td>\n",
       "      <td>2004-04-27 15:43:11.393472</td>\n",
       "      <td>6</td>\n",
       "    </tr>\n",
       "    <tr>\n",
       "      <th>4</th>\n",
       "      <td>19242</td>\n",
       "      <td>2.280000e-06</td>\n",
       "      <td>0.0</td>\n",
       "      <td>0.000739</td>\n",
       "      <td>90.1460</td>\n",
       "      <td>192.1834</td>\n",
       "      <td>0.002746</td>\n",
       "      <td>300.4617</td>\n",
       "      <td>59.3655</td>\n",
       "      <td>12.992417</td>\n",
       "      <td>47996</td>\n",
       "      <td>2004-04-27 03:43:04.015775</td>\n",
       "      <td>8</td>\n",
       "    </tr>\n",
       "  </tbody>\n",
       "</table>\n",
       "</div>"
      ],
      "text/plain": [
       "   NORAD_CAT_ID  MEAN_MOTION_DOT  MEAN_MOTION_DDOT     BSTAR  INCLINATION  \\\n",
       "0         18549     1.801000e-05               0.0  0.002592      62.2415   \n",
       "1         18727    -2.000000e-08               0.0  0.000100      73.3600   \n",
       "2         19027     1.280000e-05               0.0  0.001076      83.0239   \n",
       "3         19128     1.320000e-06               0.0  0.000166      70.9841   \n",
       "4         19242     2.280000e-06               0.0  0.000739      90.1460   \n",
       "\n",
       "   RA_OF_ASC_NODE  ECCENTRICITY  ARG_OF_PERICENTER  MEAN_ANOMALY  MEAN_MOTION  \\\n",
       "0        180.1561      0.070489           265.6761       86.2771    12.852684   \n",
       "1        345.6887      0.008815           270.3999       88.6911    12.642166   \n",
       "2        250.9465      0.008493           184.3222      175.7249    13.856401   \n",
       "3        207.4830      0.020756           161.3777      199.5075    13.715209   \n",
       "4        192.1834      0.002746           300.4617       59.3655    12.992417   \n",
       "\n",
       "   REV_AT_EPOCH                      EPOCH  GP_ID  \n",
       "0         58561 2004-04-27 14:18:48.216960      2  \n",
       "1         75486 2004-04-27 15:59:40.727904      3  \n",
       "2         95359 2004-04-27 19:45:13.686048      5  \n",
       "3         79821 2004-04-27 15:43:11.393472      6  \n",
       "4         47996 2004-04-27 03:43:04.015775      8  "
      ]
     },
     "metadata": {},
     "output_type": "display_data"
    },
    {
     "name": "stdout",
     "output_type": "stream",
     "text": [
      "<class 'pandas.core.frame.DataFrame'>\n",
      "RangeIndex: 55239839 entries, 0 to 55239838\n",
      "Data columns (total 13 columns):\n",
      " #   Column             Dtype         \n",
      "---  ------             -----         \n",
      " 0   NORAD_CAT_ID       int64         \n",
      " 1   MEAN_MOTION_DOT    float64       \n",
      " 2   MEAN_MOTION_DDOT   float64       \n",
      " 3   BSTAR              float64       \n",
      " 4   INCLINATION        float64       \n",
      " 5   RA_OF_ASC_NODE     float64       \n",
      " 6   ECCENTRICITY       float64       \n",
      " 7   ARG_OF_PERICENTER  float64       \n",
      " 8   MEAN_ANOMALY       float64       \n",
      " 9   MEAN_MOTION        float64       \n",
      " 10  REV_AT_EPOCH       int64         \n",
      " 11  EPOCH              datetime64[ns]\n",
      " 12  GP_ID              int64         \n",
      "dtypes: datetime64[ns](1), float64(9), int64(3)\n",
      "memory usage: 5.4 GB\n"
     ]
    },
    {
     "data": {
      "text/plain": [
       "None"
      ]
     },
     "metadata": {},
     "output_type": "display_data"
    },
    {
     "name": "stdout",
     "output_type": "stream",
     "text": [
      "test\n"
     ]
    },
    {
     "data": {
      "text/html": [
       "<div>\n",
       "<style scoped>\n",
       "    .dataframe tbody tr th:only-of-type {\n",
       "        vertical-align: middle;\n",
       "    }\n",
       "\n",
       "    .dataframe tbody tr th {\n",
       "        vertical-align: top;\n",
       "    }\n",
       "\n",
       "    .dataframe thead th {\n",
       "        text-align: right;\n",
       "    }\n",
       "</style>\n",
       "<table border=\"1\" class=\"dataframe\">\n",
       "  <thead>\n",
       "    <tr style=\"text-align: right;\">\n",
       "      <th></th>\n",
       "      <th>NORAD_CAT_ID</th>\n",
       "      <th>MEAN_MOTION_DOT</th>\n",
       "      <th>MEAN_MOTION_DDOT</th>\n",
       "      <th>BSTAR</th>\n",
       "      <th>INCLINATION</th>\n",
       "      <th>RA_OF_ASC_NODE</th>\n",
       "      <th>ECCENTRICITY</th>\n",
       "      <th>ARG_OF_PERICENTER</th>\n",
       "      <th>MEAN_ANOMALY</th>\n",
       "      <th>MEAN_MOTION</th>\n",
       "      <th>REV_AT_EPOCH</th>\n",
       "      <th>EPOCH</th>\n",
       "      <th>GP_ID</th>\n",
       "    </tr>\n",
       "  </thead>\n",
       "  <tbody>\n",
       "    <tr>\n",
       "      <th>0</th>\n",
       "      <td>20885</td>\n",
       "      <td>6.500000e-07</td>\n",
       "      <td>0.0</td>\n",
       "      <td>0.000089</td>\n",
       "      <td>99.3729</td>\n",
       "      <td>81.3942</td>\n",
       "      <td>0.006732</td>\n",
       "      <td>199.1482</td>\n",
       "      <td>160.7142</td>\n",
       "      <td>13.893167</td>\n",
       "      <td>68717</td>\n",
       "      <td>2004-04-27 21:07:53.026176</td>\n",
       "      <td>15</td>\n",
       "    </tr>\n",
       "    <tr>\n",
       "      <th>1</th>\n",
       "      <td>7128</td>\n",
       "      <td>2.470000e-06</td>\n",
       "      <td>0.0</td>\n",
       "      <td>0.001707</td>\n",
       "      <td>101.6272</td>\n",
       "      <td>161.0821</td>\n",
       "      <td>0.000750</td>\n",
       "      <td>68.1146</td>\n",
       "      <td>292.0727</td>\n",
       "      <td>12.588996</td>\n",
       "      <td>39367</td>\n",
       "      <td>2004-04-27 07:00:03.611808</td>\n",
       "      <td>96</td>\n",
       "    </tr>\n",
       "    <tr>\n",
       "      <th>2</th>\n",
       "      <td>4756</td>\n",
       "      <td>-2.000000e-08</td>\n",
       "      <td>0.0</td>\n",
       "      <td>0.000072</td>\n",
       "      <td>100.1459</td>\n",
       "      <td>250.4248</td>\n",
       "      <td>0.002824</td>\n",
       "      <td>61.4128</td>\n",
       "      <td>298.9856</td>\n",
       "      <td>13.478290</td>\n",
       "      <td>67283</td>\n",
       "      <td>2004-04-27 20:26:42.674784</td>\n",
       "      <td>115</td>\n",
       "    </tr>\n",
       "    <tr>\n",
       "      <th>3</th>\n",
       "      <td>22806</td>\n",
       "      <td>2.700000e-07</td>\n",
       "      <td>0.0</td>\n",
       "      <td>0.000066</td>\n",
       "      <td>71.0220</td>\n",
       "      <td>149.0700</td>\n",
       "      <td>0.020216</td>\n",
       "      <td>334.1032</td>\n",
       "      <td>25.0050</td>\n",
       "      <td>13.724460</td>\n",
       "      <td>53153</td>\n",
       "      <td>2004-04-27 13:43:02.783135</td>\n",
       "      <td>143</td>\n",
       "    </tr>\n",
       "    <tr>\n",
       "      <th>4</th>\n",
       "      <td>4990</td>\n",
       "      <td>1.347000e-05</td>\n",
       "      <td>0.0</td>\n",
       "      <td>0.001210</td>\n",
       "      <td>99.9881</td>\n",
       "      <td>221.6720</td>\n",
       "      <td>0.007042</td>\n",
       "      <td>152.2320</td>\n",
       "      <td>208.2620</td>\n",
       "      <td>13.850642</td>\n",
       "      <td>69572</td>\n",
       "      <td>2004-04-27 13:54:08.461440</td>\n",
       "      <td>159</td>\n",
       "    </tr>\n",
       "  </tbody>\n",
       "</table>\n",
       "</div>"
      ],
      "text/plain": [
       "   NORAD_CAT_ID  MEAN_MOTION_DOT  MEAN_MOTION_DDOT     BSTAR  INCLINATION  \\\n",
       "0         20885     6.500000e-07               0.0  0.000089      99.3729   \n",
       "1          7128     2.470000e-06               0.0  0.001707     101.6272   \n",
       "2          4756    -2.000000e-08               0.0  0.000072     100.1459   \n",
       "3         22806     2.700000e-07               0.0  0.000066      71.0220   \n",
       "4          4990     1.347000e-05               0.0  0.001210      99.9881   \n",
       "\n",
       "   RA_OF_ASC_NODE  ECCENTRICITY  ARG_OF_PERICENTER  MEAN_ANOMALY  MEAN_MOTION  \\\n",
       "0         81.3942      0.006732           199.1482      160.7142    13.893167   \n",
       "1        161.0821      0.000750            68.1146      292.0727    12.588996   \n",
       "2        250.4248      0.002824            61.4128      298.9856    13.478290   \n",
       "3        149.0700      0.020216           334.1032       25.0050    13.724460   \n",
       "4        221.6720      0.007042           152.2320      208.2620    13.850642   \n",
       "\n",
       "   REV_AT_EPOCH                      EPOCH  GP_ID  \n",
       "0         68717 2004-04-27 21:07:53.026176     15  \n",
       "1         39367 2004-04-27 07:00:03.611808     96  \n",
       "2         67283 2004-04-27 20:26:42.674784    115  \n",
       "3         53153 2004-04-27 13:43:02.783135    143  \n",
       "4         69572 2004-04-27 13:54:08.461440    159  "
      ]
     },
     "metadata": {},
     "output_type": "display_data"
    },
    {
     "name": "stdout",
     "output_type": "stream",
     "text": [
      "<class 'pandas.core.frame.DataFrame'>\n",
      "RangeIndex: 10734112 entries, 0 to 10734111\n",
      "Data columns (total 13 columns):\n",
      " #   Column             Dtype         \n",
      "---  ------             -----         \n",
      " 0   NORAD_CAT_ID       int64         \n",
      " 1   MEAN_MOTION_DOT    float64       \n",
      " 2   MEAN_MOTION_DDOT   float64       \n",
      " 3   BSTAR              float64       \n",
      " 4   INCLINATION        float64       \n",
      " 5   RA_OF_ASC_NODE     float64       \n",
      " 6   ECCENTRICITY       float64       \n",
      " 7   ARG_OF_PERICENTER  float64       \n",
      " 8   MEAN_ANOMALY       float64       \n",
      " 9   MEAN_MOTION        float64       \n",
      " 10  REV_AT_EPOCH       int64         \n",
      " 11  EPOCH              datetime64[ns]\n",
      " 12  GP_ID              int64         \n",
      "dtypes: datetime64[ns](1), float64(9), int64(3)\n",
      "memory usage: 1.0 GB\n"
     ]
    },
    {
     "data": {
      "text/plain": [
       "None"
      ]
     },
     "metadata": {},
     "output_type": "display_data"
    },
    {
     "name": "stdout",
     "output_type": "stream",
     "text": [
      "secret_test\n"
     ]
    },
    {
     "data": {
      "text/html": [
       "<div>\n",
       "<style scoped>\n",
       "    .dataframe tbody tr th:only-of-type {\n",
       "        vertical-align: middle;\n",
       "    }\n",
       "\n",
       "    .dataframe tbody tr th {\n",
       "        vertical-align: top;\n",
       "    }\n",
       "\n",
       "    .dataframe thead th {\n",
       "        text-align: right;\n",
       "    }\n",
       "</style>\n",
       "<table border=\"1\" class=\"dataframe\">\n",
       "  <thead>\n",
       "    <tr style=\"text-align: right;\">\n",
       "      <th></th>\n",
       "      <th>NORAD_CAT_ID</th>\n",
       "      <th>MEAN_MOTION_DOT</th>\n",
       "      <th>MEAN_MOTION_DDOT</th>\n",
       "      <th>BSTAR</th>\n",
       "      <th>INCLINATION</th>\n",
       "      <th>RA_OF_ASC_NODE</th>\n",
       "      <th>ECCENTRICITY</th>\n",
       "      <th>ARG_OF_PERICENTER</th>\n",
       "      <th>MEAN_ANOMALY</th>\n",
       "      <th>MEAN_MOTION</th>\n",
       "      <th>REV_AT_EPOCH</th>\n",
       "      <th>EPOCH</th>\n",
       "      <th>GP_ID</th>\n",
       "    </tr>\n",
       "  </thead>\n",
       "  <tbody>\n",
       "    <tr>\n",
       "      <th>0</th>\n",
       "      <td>21338</td>\n",
       "      <td>1.000000e-07</td>\n",
       "      <td>0.0</td>\n",
       "      <td>0.000100</td>\n",
       "      <td>99.5644</td>\n",
       "      <td>80.0179</td>\n",
       "      <td>0.006139</td>\n",
       "      <td>49.0571</td>\n",
       "      <td>311.5842</td>\n",
       "      <td>13.341155</td>\n",
       "      <td>63044</td>\n",
       "      <td>2004-04-27 21:24:23.006879</td>\n",
       "      <td>18</td>\n",
       "    </tr>\n",
       "    <tr>\n",
       "      <th>1</th>\n",
       "      <td>21361</td>\n",
       "      <td>-8.000000e-08</td>\n",
       "      <td>0.0</td>\n",
       "      <td>0.000100</td>\n",
       "      <td>99.6308</td>\n",
       "      <td>192.2625</td>\n",
       "      <td>0.077090</td>\n",
       "      <td>161.7899</td>\n",
       "      <td>201.2653</td>\n",
       "      <td>11.952818</td>\n",
       "      <td>56269</td>\n",
       "      <td>2004-04-27 15:20:47.475167</td>\n",
       "      <td>20</td>\n",
       "    </tr>\n",
       "    <tr>\n",
       "      <th>2</th>\n",
       "      <td>21724</td>\n",
       "      <td>-5.000000e-08</td>\n",
       "      <td>0.0</td>\n",
       "      <td>0.000100</td>\n",
       "      <td>73.9774</td>\n",
       "      <td>233.3877</td>\n",
       "      <td>0.020674</td>\n",
       "      <td>277.6905</td>\n",
       "      <td>80.0701</td>\n",
       "      <td>12.200313</td>\n",
       "      <td>56051</td>\n",
       "      <td>2004-04-27 19:07:28.175232</td>\n",
       "      <td>24</td>\n",
       "    </tr>\n",
       "    <tr>\n",
       "      <th>3</th>\n",
       "      <td>17107</td>\n",
       "      <td>7.170000e-06</td>\n",
       "      <td>0.0</td>\n",
       "      <td>0.000601</td>\n",
       "      <td>65.8236</td>\n",
       "      <td>279.7706</td>\n",
       "      <td>0.003446</td>\n",
       "      <td>220.1776</td>\n",
       "      <td>139.6759</td>\n",
       "      <td>13.941530</td>\n",
       "      <td>93639</td>\n",
       "      <td>2004-04-27 20:18:20.642400</td>\n",
       "      <td>60</td>\n",
       "    </tr>\n",
       "    <tr>\n",
       "      <th>4</th>\n",
       "      <td>26441</td>\n",
       "      <td>1.697000e-05</td>\n",
       "      <td>0.0</td>\n",
       "      <td>0.000481</td>\n",
       "      <td>98.2801</td>\n",
       "      <td>179.4539</td>\n",
       "      <td>0.008288</td>\n",
       "      <td>69.1648</td>\n",
       "      <td>291.8396</td>\n",
       "      <td>14.447370</td>\n",
       "      <td>21050</td>\n",
       "      <td>2004-04-27 15:18:01.303775</td>\n",
       "      <td>61</td>\n",
       "    </tr>\n",
       "  </tbody>\n",
       "</table>\n",
       "</div>"
      ],
      "text/plain": [
       "   NORAD_CAT_ID  MEAN_MOTION_DOT  MEAN_MOTION_DDOT     BSTAR  INCLINATION  \\\n",
       "0         21338     1.000000e-07               0.0  0.000100      99.5644   \n",
       "1         21361    -8.000000e-08               0.0  0.000100      99.6308   \n",
       "2         21724    -5.000000e-08               0.0  0.000100      73.9774   \n",
       "3         17107     7.170000e-06               0.0  0.000601      65.8236   \n",
       "4         26441     1.697000e-05               0.0  0.000481      98.2801   \n",
       "\n",
       "   RA_OF_ASC_NODE  ECCENTRICITY  ARG_OF_PERICENTER  MEAN_ANOMALY  MEAN_MOTION  \\\n",
       "0         80.0179      0.006139            49.0571      311.5842    13.341155   \n",
       "1        192.2625      0.077090           161.7899      201.2653    11.952818   \n",
       "2        233.3877      0.020674           277.6905       80.0701    12.200313   \n",
       "3        279.7706      0.003446           220.1776      139.6759    13.941530   \n",
       "4        179.4539      0.008288            69.1648      291.8396    14.447370   \n",
       "\n",
       "   REV_AT_EPOCH                      EPOCH  GP_ID  \n",
       "0         63044 2004-04-27 21:24:23.006879     18  \n",
       "1         56269 2004-04-27 15:20:47.475167     20  \n",
       "2         56051 2004-04-27 19:07:28.175232     24  \n",
       "3         93639 2004-04-27 20:18:20.642400     60  \n",
       "4         21050 2004-04-27 15:18:01.303775     61  "
      ]
     },
     "metadata": {},
     "output_type": "display_data"
    },
    {
     "name": "stdout",
     "output_type": "stream",
     "text": [
      "<class 'pandas.core.frame.DataFrame'>\n",
      "RangeIndex: 10645034 entries, 0 to 10645033\n",
      "Data columns (total 13 columns):\n",
      " #   Column             Dtype         \n",
      "---  ------             -----         \n",
      " 0   NORAD_CAT_ID       int64         \n",
      " 1   MEAN_MOTION_DOT    float64       \n",
      " 2   MEAN_MOTION_DDOT   float64       \n",
      " 3   BSTAR              float64       \n",
      " 4   INCLINATION        float64       \n",
      " 5   RA_OF_ASC_NODE     float64       \n",
      " 6   ECCENTRICITY       float64       \n",
      " 7   ARG_OF_PERICENTER  float64       \n",
      " 8   MEAN_ANOMALY       float64       \n",
      " 9   MEAN_MOTION        float64       \n",
      " 10  REV_AT_EPOCH       int64         \n",
      " 11  EPOCH              datetime64[ns]\n",
      " 12  GP_ID              int64         \n",
      "dtypes: datetime64[ns](1), float64(9), int64(3)\n",
      "memory usage: 1.0 GB\n"
     ]
    },
    {
     "data": {
      "text/plain": [
       "None"
      ]
     },
     "metadata": {},
     "output_type": "display_data"
    }
   ],
   "source": [
    "for k,df in df_dict_min.items():\n",
    "    print(k)\n",
    "    display(df.head())\n",
    "    display(df.info())"
   ]
  }
 ],
 "metadata": {
  "kernelspec": {
   "display_name": "Python 3",
   "language": "python",
   "name": "python3"
  },
  "language_info": {
   "codemirror_mode": {
    "name": "ipython",
    "version": 3
   },
   "file_extension": ".py",
   "mimetype": "text/x-python",
   "name": "python",
   "nbconvert_exporter": "python",
   "pygments_lexer": "ipython3",
   "version": "3.8.8"
  }
 },
 "nbformat": 4,
 "nbformat_minor": 4
}
