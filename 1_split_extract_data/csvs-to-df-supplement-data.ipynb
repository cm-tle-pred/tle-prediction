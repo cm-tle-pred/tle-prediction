{
 "cells": [
  {
   "cell_type": "markdown",
   "metadata": {},
   "source": [
    "## Load supplementary Data for Train/Val/Test sets and Save\n",
    "\n",
    "Takes list from `0_preproc` step and saves train/val/holdout dataframes as pkl files.\n",
    "\n",
    "Loads up the data from CSV raw and saved in the shared data directory at `/mistorage/mads/data`\n",
    "\n",
    "data derived from TLE to see if they help\n",
    "\n",
    "`'SEMIMAJOR_AXIS','PERIOD','APOAPSIS','PERIAPSIS','RCS_SIZE'`\n",
    "\n",
    "saved in `tle_sup`"
   ]
  },
  {
   "cell_type": "code",
   "execution_count": 1,
   "metadata": {},
   "outputs": [],
   "source": [
    "import os\n",
    "import sys\n",
    "\n",
    "from load_data_alt import *"
   ]
  },
  {
   "cell_type": "code",
   "execution_count": 2,
   "metadata": {},
   "outputs": [],
   "source": [
    "if ('my_home_path' not in os.environ) and ('MY_HOME_PATH' in os.environ):\n",
    "    os.environ['my_home_path'] = os.environ['MY_HOME_PATH'] # because stupid :("
   ]
  },
  {
   "cell_type": "code",
   "execution_count": 3,
   "metadata": {},
   "outputs": [],
   "source": [
    "norad_lists = load_norads(['train','validate','secret_test'])"
   ]
  },
  {
   "cell_type": "code",
   "execution_count": 4,
   "metadata": {},
   "outputs": [
    {
     "name": "stdout",
     "output_type": "stream",
     "text": [
      "Loading files from path: /mistorage/mads/data/gp_history\n"
     ]
    },
    {
     "name": "stderr",
     "output_type": "stream",
     "text": [
      "100%|██████████| 1484/1484 [01:25<00:00, 17.36it/s]\n",
      "  0%|          | 0/3 [00:00<?, ?it/s]"
     ]
    },
    {
     "name": "stdout",
     "output_type": "stream",
     "text": [
      "Finished loading.\n"
     ]
    },
    {
     "name": "stderr",
     "output_type": "stream",
     "text": [
      "100%|██████████| 3/3 [00:06<00:00,  2.06s/it]"
     ]
    },
    {
     "name": "stdout",
     "output_type": "stream",
     "text": [
      "Finished assembling.\n",
      "CPU times: user 12.3 s, sys: 8.08 s, total: 20.4 s\n",
      "Wall time: 1min 31s\n"
     ]
    },
    {
     "name": "stderr",
     "output_type": "stream",
     "text": [
      "\n"
     ]
    }
   ],
   "source": [
    "%time df_dict = load_data(norad_lists, use_all_data=True, debug=True, multiproc=True)  # Takes about 4min"
   ]
  },
  {
   "cell_type": "code",
   "execution_count": 5,
   "metadata": {},
   "outputs": [],
   "source": [
    "# %time write_data(df_dict, use_all_data=True, debug=True, threaded=True, path='/mistorage/mads/data/1_full')"
   ]
  },
  {
   "cell_type": "code",
   "execution_count": 6,
   "metadata": {},
   "outputs": [],
   "source": [
    "def blah(x):\n",
    "    if x == 'SMALL':\n",
    "        return 0\n",
    "    elif x == 'MEDIUM':\n",
    "        return 1\n",
    "    elif x == 'LARGE':\n",
    "        return 2\n",
    "    else:\n",
    "        return -1\n",
    "\n",
    "for k,df in df_dict.items():\n",
    "    df['RCS_SIZE'] = df.RCS_SIZE.apply(blah)\n",
    "    df.set_index(\"GP_ID\", inplace=True)"
   ]
  },
  {
   "cell_type": "code",
   "execution_count": 7,
   "metadata": {},
   "outputs": [
    {
     "name": "stdout",
     "output_type": "stream",
     "text": [
      "Saving files to path: /mistorage/mads/data/gp_history/../tle_sup\n",
      "Writing raw data for to: /mistorage/mads/data/gp_history/../tle_sup/train.pkl\n",
      "Writing raw data for to: /mistorage/mads/data/gp_history/../tle_sup/test.pkl\n",
      "Writing raw data for to: /mistorage/mads/data/gp_history/../tle_sup/secret_test.pkl\n",
      "Finished saving /mistorage/mads/data/gp_history/../tle_sup/test.pkl\n",
      "Finished saving /mistorage/mads/data/gp_history/../tle_sup/secret_test.pkl\n",
      "Finished saving /mistorage/mads/data/gp_history/../tle_sup/train.pkl\n",
      "CPU times: user 86 ms, sys: 3.14 s, total: 3.22 s\n",
      "Wall time: 16.4 s\n"
     ]
    }
   ],
   "source": [
    "%time write_data(df_dict, use_all_data=True, debug=True, threaded=True, path=f\"{os.environ['GP_HIST_PATH']}/../tle_sup\")"
   ]
  },
  {
   "cell_type": "code",
   "execution_count": 8,
   "metadata": {
    "scrolled": false
   },
   "outputs": [
    {
     "name": "stdout",
     "output_type": "stream",
     "text": [
      "train\n"
     ]
    },
    {
     "data": {
      "text/html": [
       "<div>\n",
       "<style scoped>\n",
       "    .dataframe tbody tr th:only-of-type {\n",
       "        vertical-align: middle;\n",
       "    }\n",
       "\n",
       "    .dataframe tbody tr th {\n",
       "        vertical-align: top;\n",
       "    }\n",
       "\n",
       "    .dataframe thead th {\n",
       "        text-align: right;\n",
       "    }\n",
       "</style>\n",
       "<table border=\"1\" class=\"dataframe\">\n",
       "  <thead>\n",
       "    <tr style=\"text-align: right;\">\n",
       "      <th></th>\n",
       "      <th>SEMIMAJOR_AXIS</th>\n",
       "      <th>PERIOD</th>\n",
       "      <th>APOAPSIS</th>\n",
       "      <th>PERIAPSIS</th>\n",
       "      <th>RCS_SIZE</th>\n",
       "    </tr>\n",
       "    <tr>\n",
       "      <th>GP_ID</th>\n",
       "      <th></th>\n",
       "      <th></th>\n",
       "      <th></th>\n",
       "      <th></th>\n",
       "      <th></th>\n",
       "    </tr>\n",
       "  </thead>\n",
       "  <tbody>\n",
       "    <tr>\n",
       "      <th>2</th>\n",
       "      <td>7698.502</td>\n",
       "      <td>112.038</td>\n",
       "      <td>1863.028</td>\n",
       "      <td>777.705</td>\n",
       "      <td>0</td>\n",
       "    </tr>\n",
       "    <tr>\n",
       "      <th>3</th>\n",
       "      <td>7783.730</td>\n",
       "      <td>113.904</td>\n",
       "      <td>1474.210</td>\n",
       "      <td>1336.980</td>\n",
       "      <td>1</td>\n",
       "    </tr>\n",
       "    <tr>\n",
       "      <th>5</th>\n",
       "      <td>7322.091</td>\n",
       "      <td>103.923</td>\n",
       "      <td>1006.146</td>\n",
       "      <td>881.767</td>\n",
       "      <td>0</td>\n",
       "    </tr>\n",
       "    <tr>\n",
       "      <th>6</th>\n",
       "      <td>7372.257</td>\n",
       "      <td>104.992</td>\n",
       "      <td>1147.143</td>\n",
       "      <td>841.101</td>\n",
       "      <td>1</td>\n",
       "    </tr>\n",
       "    <tr>\n",
       "      <th>8</th>\n",
       "      <td>7643.204</td>\n",
       "      <td>110.833</td>\n",
       "      <td>1286.057</td>\n",
       "      <td>1244.081</td>\n",
       "      <td>0</td>\n",
       "    </tr>\n",
       "  </tbody>\n",
       "</table>\n",
       "</div>"
      ],
      "text/plain": [
       "       SEMIMAJOR_AXIS   PERIOD  APOAPSIS  PERIAPSIS  RCS_SIZE\n",
       "GP_ID                                                        \n",
       "2            7698.502  112.038  1863.028    777.705         0\n",
       "3            7783.730  113.904  1474.210   1336.980         1\n",
       "5            7322.091  103.923  1006.146    881.767         0\n",
       "6            7372.257  104.992  1147.143    841.101         1\n",
       "8            7643.204  110.833  1286.057   1244.081         0"
      ]
     },
     "metadata": {},
     "output_type": "display_data"
    },
    {
     "name": "stdout",
     "output_type": "stream",
     "text": [
      "<class 'pandas.core.frame.DataFrame'>\n",
      "Int64Index: 55239839 entries, 2 to 175915071\n",
      "Data columns (total 5 columns):\n",
      " #   Column          Dtype  \n",
      "---  ------          -----  \n",
      " 0   SEMIMAJOR_AXIS  float64\n",
      " 1   PERIOD          float64\n",
      " 2   APOAPSIS        float64\n",
      " 3   PERIAPSIS       float64\n",
      " 4   RCS_SIZE        int64  \n",
      "dtypes: float64(4), int64(1)\n",
      "memory usage: 2.5 GB\n"
     ]
    },
    {
     "data": {
      "text/plain": [
       "None"
      ]
     },
     "metadata": {},
     "output_type": "display_data"
    },
    {
     "name": "stdout",
     "output_type": "stream",
     "text": [
      "test\n"
     ]
    },
    {
     "data": {
      "text/html": [
       "<div>\n",
       "<style scoped>\n",
       "    .dataframe tbody tr th:only-of-type {\n",
       "        vertical-align: middle;\n",
       "    }\n",
       "\n",
       "    .dataframe tbody tr th {\n",
       "        vertical-align: top;\n",
       "    }\n",
       "\n",
       "    .dataframe thead th {\n",
       "        text-align: right;\n",
       "    }\n",
       "</style>\n",
       "<table border=\"1\" class=\"dataframe\">\n",
       "  <thead>\n",
       "    <tr style=\"text-align: right;\">\n",
       "      <th></th>\n",
       "      <th>SEMIMAJOR_AXIS</th>\n",
       "      <th>PERIOD</th>\n",
       "      <th>APOAPSIS</th>\n",
       "      <th>PERIAPSIS</th>\n",
       "      <th>RCS_SIZE</th>\n",
       "    </tr>\n",
       "    <tr>\n",
       "      <th>GP_ID</th>\n",
       "      <th></th>\n",
       "      <th></th>\n",
       "      <th></th>\n",
       "      <th></th>\n",
       "      <th></th>\n",
       "    </tr>\n",
       "  </thead>\n",
       "  <tbody>\n",
       "    <tr>\n",
       "      <th>15</th>\n",
       "      <td>7309.168</td>\n",
       "      <td>103.648</td>\n",
       "      <td>980.242</td>\n",
       "      <td>881.824</td>\n",
       "      <td>0</td>\n",
       "    </tr>\n",
       "    <tr>\n",
       "      <th>96</th>\n",
       "      <td>7805.631</td>\n",
       "      <td>114.385</td>\n",
       "      <td>1433.352</td>\n",
       "      <td>1421.640</td>\n",
       "      <td>1</td>\n",
       "    </tr>\n",
       "    <tr>\n",
       "      <th>115</th>\n",
       "      <td>7458.398</td>\n",
       "      <td>106.838</td>\n",
       "      <td>1101.322</td>\n",
       "      <td>1059.204</td>\n",
       "      <td>0</td>\n",
       "    </tr>\n",
       "    <tr>\n",
       "      <th>143</th>\n",
       "      <td>7368.944</td>\n",
       "      <td>104.922</td>\n",
       "      <td>1139.776</td>\n",
       "      <td>841.842</td>\n",
       "      <td>0</td>\n",
       "    </tr>\n",
       "    <tr>\n",
       "      <th>159</th>\n",
       "      <td>7324.120</td>\n",
       "      <td>103.966</td>\n",
       "      <td>997.563</td>\n",
       "      <td>894.408</td>\n",
       "      <td>0</td>\n",
       "    </tr>\n",
       "  </tbody>\n",
       "</table>\n",
       "</div>"
      ],
      "text/plain": [
       "       SEMIMAJOR_AXIS   PERIOD  APOAPSIS  PERIAPSIS  RCS_SIZE\n",
       "GP_ID                                                        \n",
       "15           7309.168  103.648   980.242    881.824         0\n",
       "96           7805.631  114.385  1433.352   1421.640         1\n",
       "115          7458.398  106.838  1101.322   1059.204         0\n",
       "143          7368.944  104.922  1139.776    841.842         0\n",
       "159          7324.120  103.966   997.563    894.408         0"
      ]
     },
     "metadata": {},
     "output_type": "display_data"
    },
    {
     "name": "stdout",
     "output_type": "stream",
     "text": [
      "<class 'pandas.core.frame.DataFrame'>\n",
      "Int64Index: 10734112 entries, 15 to 175915070\n",
      "Data columns (total 5 columns):\n",
      " #   Column          Dtype  \n",
      "---  ------          -----  \n",
      " 0   SEMIMAJOR_AXIS  float64\n",
      " 1   PERIOD          float64\n",
      " 2   APOAPSIS        float64\n",
      " 3   PERIAPSIS       float64\n",
      " 4   RCS_SIZE        int64  \n",
      "dtypes: float64(4), int64(1)\n",
      "memory usage: 491.4 MB\n"
     ]
    },
    {
     "data": {
      "text/plain": [
       "None"
      ]
     },
     "metadata": {},
     "output_type": "display_data"
    },
    {
     "name": "stdout",
     "output_type": "stream",
     "text": [
      "secret_test\n"
     ]
    },
    {
     "data": {
      "text/html": [
       "<div>\n",
       "<style scoped>\n",
       "    .dataframe tbody tr th:only-of-type {\n",
       "        vertical-align: middle;\n",
       "    }\n",
       "\n",
       "    .dataframe tbody tr th {\n",
       "        vertical-align: top;\n",
       "    }\n",
       "\n",
       "    .dataframe thead th {\n",
       "        text-align: right;\n",
       "    }\n",
       "</style>\n",
       "<table border=\"1\" class=\"dataframe\">\n",
       "  <thead>\n",
       "    <tr style=\"text-align: right;\">\n",
       "      <th></th>\n",
       "      <th>SEMIMAJOR_AXIS</th>\n",
       "      <th>PERIOD</th>\n",
       "      <th>APOAPSIS</th>\n",
       "      <th>PERIAPSIS</th>\n",
       "      <th>RCS_SIZE</th>\n",
       "    </tr>\n",
       "    <tr>\n",
       "      <th>GP_ID</th>\n",
       "      <th></th>\n",
       "      <th></th>\n",
       "      <th></th>\n",
       "      <th></th>\n",
       "      <th></th>\n",
       "    </tr>\n",
       "  </thead>\n",
       "  <tbody>\n",
       "    <tr>\n",
       "      <th>18</th>\n",
       "      <td>7509.421</td>\n",
       "      <td>107.936</td>\n",
       "      <td>1177.386</td>\n",
       "      <td>1085.187</td>\n",
       "      <td>1</td>\n",
       "    </tr>\n",
       "    <tr>\n",
       "      <th>20</th>\n",
       "      <td>8080.196</td>\n",
       "      <td>120.473</td>\n",
       "      <td>2324.960</td>\n",
       "      <td>1079.162</td>\n",
       "      <td>0</td>\n",
       "    </tr>\n",
       "    <tr>\n",
       "      <th>24</th>\n",
       "      <td>7970.547</td>\n",
       "      <td>118.029</td>\n",
       "      <td>1757.198</td>\n",
       "      <td>1427.625</td>\n",
       "      <td>1</td>\n",
       "    </tr>\n",
       "    <tr>\n",
       "      <th>60</th>\n",
       "      <td>7292.254</td>\n",
       "      <td>103.288</td>\n",
       "      <td>939.252</td>\n",
       "      <td>888.986</td>\n",
       "      <td>1</td>\n",
       "    </tr>\n",
       "    <tr>\n",
       "      <th>61</th>\n",
       "      <td>7121.031</td>\n",
       "      <td>99.672</td>\n",
       "      <td>801.917</td>\n",
       "      <td>683.876</td>\n",
       "      <td>0</td>\n",
       "    </tr>\n",
       "  </tbody>\n",
       "</table>\n",
       "</div>"
      ],
      "text/plain": [
       "       SEMIMAJOR_AXIS   PERIOD  APOAPSIS  PERIAPSIS  RCS_SIZE\n",
       "GP_ID                                                        \n",
       "18           7509.421  107.936  1177.386   1085.187         1\n",
       "20           8080.196  120.473  2324.960   1079.162         0\n",
       "24           7970.547  118.029  1757.198   1427.625         1\n",
       "60           7292.254  103.288   939.252    888.986         1\n",
       "61           7121.031   99.672   801.917    683.876         0"
      ]
     },
     "metadata": {},
     "output_type": "display_data"
    },
    {
     "name": "stdout",
     "output_type": "stream",
     "text": [
      "<class 'pandas.core.frame.DataFrame'>\n",
      "Int64Index: 10645034 entries, 18 to 175914858\n",
      "Data columns (total 5 columns):\n",
      " #   Column          Dtype  \n",
      "---  ------          -----  \n",
      " 0   SEMIMAJOR_AXIS  float64\n",
      " 1   PERIOD          float64\n",
      " 2   APOAPSIS        float64\n",
      " 3   PERIAPSIS       float64\n",
      " 4   RCS_SIZE        int64  \n",
      "dtypes: float64(4), int64(1)\n",
      "memory usage: 487.3 MB\n"
     ]
    },
    {
     "data": {
      "text/plain": [
       "None"
      ]
     },
     "metadata": {},
     "output_type": "display_data"
    }
   ],
   "source": [
    "for k,df in df_dict.items():\n",
    "    print(k)\n",
    "    display(df.head())\n",
    "    display(df.info())"
   ]
  }
 ],
 "metadata": {
  "kernelspec": {
   "display_name": "Python 3",
   "language": "python",
   "name": "python3"
  },
  "language_info": {
   "codemirror_mode": {
    "name": "ipython",
    "version": 3
   },
   "file_extension": ".py",
   "mimetype": "text/x-python",
   "name": "python",
   "nbconvert_exporter": "python",
   "pygments_lexer": "ipython3",
   "version": "3.8.8"
  }
 },
 "nbformat": 4,
 "nbformat_minor": 4
}
