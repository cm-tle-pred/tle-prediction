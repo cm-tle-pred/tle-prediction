{
 "cells": [
  {
   "cell_type": "markdown",
   "metadata": {},
   "source": [
    "by all i mean those that remain after anomaly removal......"
   ]
  },
  {
   "cell_type": "code",
   "execution_count": 1,
   "metadata": {},
   "outputs": [],
   "source": [
    "import pandas as pd\n",
    "import numpy as np\n",
    "import os\n",
    "from tqdm.notebook import tqdm\n",
    "tqdm.pandas()\n",
    "\n",
    "import matplotlib.pyplot as plt\n",
    "from clean_data import __jday_convert\n",
    "\n",
    "from datetime import datetime\n",
    "from sgp4.api import Satrec, SatrecArray, WGS72"
   ]
  },
  {
   "cell_type": "code",
   "execution_count": 2,
   "metadata": {},
   "outputs": [],
   "source": [
    "def get_satrec_erv(bst, ecc, aop, inc, mea, mem, raa, mmdot=0, mmddot=0, norad=0, epoch=None):\n",
    "    '''\n",
    "    Get cartesian coordinates of a satellite based on TLE parameters\n",
    "\n",
    "     Parameters\n",
    "     ----------\n",
    "     bst : float : B-star\n",
    "     ecc : float : eccentricity (in degrees)\n",
    "     aop : float : argument of perigee (in degrees)\n",
    "     inc : float : inclination (in degrees)\n",
    "     mea : float : mean anomaly (in degrees)\n",
    "     mem : float : mean motion (in degrees per minute)\n",
    "     raa : float : right ascension of ascending node (in degrees)\n",
    "     mmdot : float : NOT USED - ballistic coefficient\n",
    "     mmddot : float : NOT USED - mean motion 2nd derivative\n",
    "     norad : int : NOT USED - NORAD ID\n",
    "     epoch : Timestamp : moment in time to get position\n",
    "\n",
    "     Returns\n",
    "     -------\n",
    "     list\n",
    "         [e, rx, ry, rz, vx, vy, yz] error, position xyz, velocity xyz.  error = 0 is good\n",
    "    '''\n",
    "    try:\n",
    "        r = datetime.strptime('12/31/1949 00:00:00', '%m/%d/%Y %H:%M:%S')\n",
    "        epoch_days = (epoch-r)/np.timedelta64(1, 'D')\n",
    "        s = Satrec()\n",
    "        s.sgp4init(\n",
    "             WGS72,           # gravity model\n",
    "             'i',             # 'a' = old AFSPC mode, 'i' = improved mode\n",
    "             norad,               # satnum: Satellite number\n",
    "             epoch_days,       # epoch: days since 1949 December 31 00:00 UT\n",
    "             bst,      # bstar: drag coefficient (/earth radii)\n",
    "             mmdot,   # ndot (NOT USED): ballistic coefficient (revs/day)\n",
    "             mmddot,             # nddot (NOT USED): mean motion 2nd derivative (revs/day^3)\n",
    "             ecc,       # ecco: eccentricity\n",
    "             aop*np.pi/180, # argpo: argument of perigee (radians)\n",
    "             inc*np.pi/180, # inclo: inclination (radians)\n",
    "             mea*np.pi/180, # mo: mean anomaly (radians)\n",
    "             mem*np.pi/(4*180), # no_kozai: mean motion (radians/minute)\n",
    "             raa*np.pi/180, # nodeo: right ascension of ascending node (radians)\n",
    "        )\n",
    "        e,r,v = s.sgp4(*__jday_convert(epoch))\n",
    "        return pd.Series([e, *r, *v, s])\n",
    "    except:\n",
    "        # e is SGP4 propagation errors, i've also added error 999 for when something goes wrong\n",
    "        return pd.Series([999, 0,0,0,0,0,0, s])"
   ]
  },
  {
   "cell_type": "code",
   "execution_count": null,
   "metadata": {},
   "outputs": [],
   "source": [
    "%%time\n",
    "\n",
    "# Generate actual data\n",
    "\n",
    "input_files = [\n",
    "    (1, \"test\"),\n",
    "    (1, \"secret_test\"),\n",
    "    (2, \"train\"),\n",
    "]\n",
    "\n",
    "for n,f in input_files:\n",
    "    print(f\"Preparing data for: {f}\")\n",
    "    df = pd.read_pickle(f\"{os.environ['GP_HIST_PATH']}/../{n}_min/{f}.pkl\").set_index(\"GP_ID\")\n",
    "    saterv = df.progress_apply(lambda x:get_satrec_erv(bst=x.BSTAR,\n",
    "                                                           ecc=x.ECCENTRICITY,\n",
    "                                                           aop=x.ARG_OF_PERICENTER,\n",
    "                                                           inc=x.INCLINATION,\n",
    "                                                           mea=x.MEAN_ANOMALY,\n",
    "                                                           mem=x.MEAN_MOTION,\n",
    "                                                           raa=x.RA_OF_ASC_NODE,\n",
    "                                                           epoch=x.EPOCH,), axis=1)\n",
    "    saterv.columns = [\"SAT_E\",\"SAT_RX\",\"SAT_RY\",\"SAT_RZ\",\"SAT_VX\",\"SAT_VY\",\"SAT_VZ\",\"SATREC_OBJ\"]\n",
    "    display(saterv.head())\n",
    "\n",
    "    saterv[[\"SAT_E\",\"SAT_RX\",\"SAT_RY\",\"SAT_RZ\",\"SAT_VX\",\"SAT_VY\",\"SAT_VZ\"]].to_pickle(f\"{os.environ['GP_HIST_PATH']}/../3_min/{f}_sgp4rv.pkl\")\n",
    "    saterv[[\"SATREC_OBJ\"]].to_pickle(f\"{os.environ['GP_HIST_PATH']}/../3_min/{f}_satrec.pkl\")"
   ]
  }
 ],
 "metadata": {
  "kernelspec": {
   "display_name": "Python 3",
   "language": "python",
   "name": "python3"
  },
  "language_info": {
   "codemirror_mode": {
    "name": "ipython",
    "version": 3
   },
   "file_extension": ".py",
   "mimetype": "text/x-python",
   "name": "python",
   "nbconvert_exporter": "python",
   "pygments_lexer": "ipython3",
   "version": "3.8.8"
  }
 },
 "nbformat": 4,
 "nbformat_minor": 5
}
