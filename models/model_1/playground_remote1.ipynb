{
 "cells": [
  {
   "cell_type": "code",
   "execution_count": 1,
   "id": "9fec7e11",
   "metadata": {},
   "outputs": [
    {
     "name": "stdout",
     "output_type": "stream",
     "text": [
      ">>> Loading raw data\n",
      ">>> Truncating train data...\n",
      ">>> Normalizing train data...\n",
      ">>> Building train index map...\n",
      ">>> Building train inputs and labels\n",
      ">>> Saving train data\n",
      ">>> Truncating test data...\n",
      ">>> Normalizing test data...\n",
      ">>> Building test index map...\n",
      ">>> Building test inputs and labels\n",
      ">>> Saving test data\n",
      ">>> Complete\n"
     ]
    }
   ],
   "source": [
    "import pandas as pd\n",
    "import numpy as np\n",
    "import os\n",
    "from sklearn.metrics import mean_squared_error, mean_absolute_error\n",
    "import matplotlib.pyplot as plt\n",
    "import pickle\n",
    "import clean_data\n",
    "import random\n",
    "\n",
    "init_cols = ['BSTAR', 'INCLINATION', 'RA_OF_ASC_NODE', 'ECCENTRICITY', 'ARG_OF_PERICENTER', 'MEAN_ANOMALY',\n",
    "             'MEAN_MOTION', 'NORAD_CAT_ID', 'EPOCH', 'SUNSPOTS_1D', 'SUNSPOTS_3D', 'SUNSPOTS_7D',\n",
    "             'AIR_MONTH_AVG_TEMP', 'WATER_MONTH_AVG_TEMP',\n",
    "            ]\n",
    "\n",
    "\n",
    "def load_raw(name=None):\n",
    "    if not name:\n",
    "        train_df = pd.read_pickle(os.environ['GP_HIST_PATH'] + '/../3_min/train.pkl' ) # Time: 25.7s\n",
    "        test_df = pd.read_pickle(os.environ['GP_HIST_PATH'] + '/../3_min/test.pkl' ) # Time: 5\n",
    "        return {'train': train_df, 'test': test_df}\n",
    "    elif name == 'train':\n",
    "        return {name: pd.read_pickle(os.environ['GP_HIST_PATH'] + '/../3_min/train.pkl' )}\n",
    "    elif name == 'test':\n",
    "        return {name: pd.read_pickle(os.environ['GP_HIST_PATH'] + '/../3_min/test.pkl' )}\n",
    "\n",
    "def create_save(perc, name=None):\n",
    "    print('>>> Loading raw data')\n",
    "    df_in = load_raw(name)\n",
    "\n",
    "    df_out = []\n",
    "    for name, df in df_in.items():\n",
    "        print(f'>>> Truncating {name} data...')\n",
    "        df = df[init_cols].reset_index(drop=True)  # 4s\n",
    "\n",
    "        print(f'>>> Normalizing {name} data...')\n",
    "        df = clean_data.normalize_all_columns(df) # 53.4s\n",
    "\n",
    "        print(f'>>> Building {name} index map...')\n",
    "        try:\n",
    "            idx_map = clean_data.load_index_map(name=name, path='data')\n",
    "        except:\n",
    "            idx_map = clean_data.create_index_map(df, write=True, name=name, path='data') # 3min 29s\n",
    "\n",
    "        print(f'>>> Building {name} inputs and labels')\n",
    "        X,y = clean_data.build_xy(df, idx_map) # 59min 41s\n",
    "        X = clean_data.normalize_epoch_diff(X, drop_epoch=False) # 19s\n",
    "\n",
    "        print(f'>>> Saving {name} data')\n",
    "        X.to_pickle(f'data/x_{name}1.pkl')\n",
    "        y.to_pickle(f'data/y_{name}1.pkl')\n",
    "        df_out.extend([X,y])\n",
    "    \n",
    "    return df_out\n",
    "\n",
    "def load(perc, force_update=False):\n",
    "    if not force_update:\n",
    "        print('>>> Loading data')\n",
    "        \n",
    "        X_train = pd.read_pickle('data/x_train1.pkl')\n",
    "        y_train = pd.read_pickle('data/y_train1.pkl')\n",
    "        X_test = pd.read_pickle('data/x_test1.pkl')\n",
    "        y_test = pd.read_pickle('data/y_test1.pkl')\n",
    "        return X_train, y_train, X_test, y_test\n",
    "    else:\n",
    "        return create_save(perc)\n",
    "        \n",
    "\n",
    "perc = 0.05\n",
    "force_update = False\n",
    "\n",
    "X_train, y_train, X_test, y_test = load(perc, force_update)\n",
    "print(f'>>> Complete')"
   ]
  },
  {
   "cell_type": "code",
   "execution_count": 2,
   "id": "75e86562",
   "metadata": {},
   "outputs": [],
   "source": [
    "import train\n",
    "\n",
    "configurations = {\n",
    "    'model_identifier' : \"full_1\",\n",
    "    'model_path' : './data',\n",
    "    'device' : 'cpu',\n",
    "    'random_seed' : 0,\n",
    "    'lr' : 0.01,\n",
    "    'momentum' : 0.9,\n",
    "    'weight_decay' : 1e-6,\n",
    "    'max_epochs' : 100,\n",
    "    'do_validate' : True,\n",
    "    'model_definition' : {\n",
    "        'layer1' : 50, 'relu1' : True, #'drop1' : 0.2,\n",
    "        'layer2' : 30, 'relu2' : True, #'drop2' : 0.2,\n",
    "        'layer3' : 30, 'relu3' : True, #'drop3' : 0.2,\n",
    "        'layer4' : 30, 'relu4' : True, #'drop4' : 0.5,\n",
    "        'layer5' : 20, 'relu5' : True, #'drop5' : 0.5,\n",
    "        'layer6' : 20, 'relu6' : True, #'drop6' : 0.5,\n",
    "        'layer7' : 20, 'relu7' : True, #'drop7' : 0.5,\n",
    "        'layer8' : 10, 'relu8' : True, #'drop8' : 0.5,\n",
    "        'layer9' : 10, 'relu9' : True, #'drop9' : 0.5,\n",
    "    },\n",
    "    'train_params' : {\n",
    "        'batch_size': 2000,\n",
    "        'shuffle': True,\n",
    "        'num_workers': 2,\n",
    "        'pin_memory': True,\n",
    "    },\n",
    "    'test_params' : {\n",
    "        'batch_size': 20000,\n",
    "        'num_workers': 2,\n",
    "        'pin_memory': True,\n",
    "    },\n",
    "}"
   ]
  },
  {
   "cell_type": "code",
   "execution_count": null,
   "id": "93a6811e",
   "metadata": {},
   "outputs": [
    {
     "name": "stdout",
     "output_type": "stream",
     "text": [
      "Loading existing model\n",
      "NNModelEx(\n",
      "  (net): Sequential(\n",
      "    (0): Linear(in_features=37, out_features=50, bias=True)\n",
      "    (1): ReLU()\n",
      "    (2): Linear(in_features=50, out_features=30, bias=True)\n",
      "    (3): ReLU()\n",
      "    (4): Linear(in_features=30, out_features=30, bias=True)\n",
      "    (5): ReLU()\n",
      "    (6): Linear(in_features=30, out_features=30, bias=True)\n",
      "    (7): ReLU()\n",
      "    (8): Linear(in_features=30, out_features=20, bias=True)\n",
      "    (9): ReLU()\n",
      "    (10): Linear(in_features=20, out_features=20, bias=True)\n",
      "    (11): ReLU()\n",
      "    (12): Linear(in_features=20, out_features=20, bias=True)\n",
      "    (13): ReLU()\n",
      "    (14): Linear(in_features=20, out_features=10, bias=True)\n",
      "    (15): ReLU()\n",
      "    (16): Linear(in_features=10, out_features=10, bias=True)\n",
      "    (17): ReLU()\n",
      "    (18): Linear(in_features=10, out_features=6, bias=True)\n",
      "  )\n",
      ")\n"
     ]
    },
    {
     "data": {
      "application/vnd.jupyter.widget-view+json": {
       "model_id": "1073129e4d784b6e988ddd8879c050f1",
       "version_major": 2,
       "version_minor": 0
      },
      "text/plain": [
       "  0%|          | 0/83 [00:00<?, ?it/s]"
      ]
     },
     "metadata": {},
     "output_type": "display_data"
    },
    {
     "data": {
      "application/vnd.jupyter.widget-view+json": {
       "model_id": "",
       "version_major": 2,
       "version_minor": 0
      },
      "text/plain": [
       "  0%|          | 0/24385 [00:00<?, ?it/s]"
      ]
     },
     "metadata": {},
     "output_type": "display_data"
    },
    {
     "data": {
      "application/vnd.jupyter.widget-view+json": {
       "model_id": "",
       "version_major": 2,
       "version_minor": 0
      },
      "text/plain": [
       "  0%|          | 0/482 [00:00<?, ?it/s]"
      ]
     },
     "metadata": {},
     "output_type": "display_data"
    },
    {
     "data": {
      "application/vnd.jupyter.widget-view+json": {
       "model_id": "",
       "version_major": 2,
       "version_minor": 0
      },
      "text/plain": [
       "  0%|          | 0/24385 [00:00<?, ?it/s]"
      ]
     },
     "metadata": {},
     "output_type": "display_data"
    },
    {
     "data": {
      "application/vnd.jupyter.widget-view+json": {
       "model_id": "",
       "version_major": 2,
       "version_minor": 0
      },
      "text/plain": [
       "  0%|          | 0/482 [00:00<?, ?it/s]"
      ]
     },
     "metadata": {},
     "output_type": "display_data"
    },
    {
     "data": {
      "application/vnd.jupyter.widget-view+json": {
       "model_id": "e14d36a6df664bd999e5e351e8b8bfba",
       "version_major": 2,
       "version_minor": 0
      },
      "text/plain": [
       "  0%|          | 0/24385 [00:00<?, ?it/s]"
      ]
     },
     "metadata": {},
     "output_type": "display_data"
    }
   ],
   "source": [
    "# After changes -- 27s (cpu)\n",
    "cols = ['BSTAR', 'INCLINATION', 'RA_OF_ASC_NODE', 'ECCENTRICITY',\n",
    "       'ARG_OF_PERICENTER', 'MEAN_ANOMALY', 'MEAN_MOTION', 'SUNSPOTS_1D',\n",
    "       'SUNSPOTS_3D', 'SUNSPOTS_7D', 'AIR_MONTH_AVG_TEMP',\n",
    "       'WATER_MONTH_AVG_TEMP', 'year', 'month_sin', 'month_cos', 'hour_sin',\n",
    "       'hour_cos', 'minute_sin', 'minute_cos', 'second_sin', 'second_cos',\n",
    "       'ms_sin', 'ms_cos', 'year_y', 'month_sin_y', 'month_cos_y',\n",
    "       'hour_sin_y', 'hour_cos_y', 'minute_sin_y', 'minute_cos_y',\n",
    "       'second_sin_y', 'second_cos_y', 'ms_sin_y', 'ms_cos_y',\n",
    "       'epoch_day_diff', 'epoch_sec_diff', 'epoch_ms_diff']\n",
    "\n",
    "model, mean_losses = train.train_model(X_train[cols], y_train, X_test[cols], y_test, configurations, force_train=False)"
   ]
  },
  {
   "cell_type": "code",
   "execution_count": 20,
   "id": "5d349594",
   "metadata": {},
   "outputs": [
    {
     "name": "stdout",
     "output_type": "stream",
     "text": [
      "Loading existing model\n"
     ]
    },
    {
     "data": {
      "image/png": "[encoded data removed]",
      "text/plain": [
       "<Figure size 432x288 with 1 Axes>"
      ]
     },
     "metadata": {
      "needs_background": "light"
     },
     "output_type": "display_data"
    }
   ],
   "source": [
    "model, _, _, mean_losses, _ = train.load_model_with_config(configurations)\n",
    "    \n",
    "tl, vl = zip(*mean_losses)\n",
    "\n",
    "fig,ax = plt.subplots()\n",
    "ax.plot(tl, label=\"Training Loss\")\n",
    "ax.plot(vl, label=\"Validation Loss\")\n",
    "\n",
    "fig.legend()\n",
    "plt.show()"
   ]
  }
 ],
 "metadata": {
  "kernelspec": {
   "display_name": "Python 3",
   "language": "python",
   "name": "python3"
  },
  "language_info": {
   "codemirror_mode": {
    "name": "ipython",
    "version": 3
   },
   "file_extension": ".py",
   "mimetype": "text/x-python",
   "name": "python",
   "nbconvert_exporter": "python",
   "pygments_lexer": "ipython3",
   "version": "3.8.5"
  }
 },
 "nbformat": 4,
 "nbformat_minor": 5
}
