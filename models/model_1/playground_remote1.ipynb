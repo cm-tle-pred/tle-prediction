{
 "cells": [
  {
   "cell_type": "code",
   "execution_count": 44,
   "id": "9fec7e11",
   "metadata": {},
   "outputs": [
    {
     "name": "stdout",
     "output_type": "stream",
     "text": [
      ">>> Loading raw data\n",
      ">>> Truncating train data...\n",
      ">>> Normalizing train data...\n",
      ">>> Building train index map...\n"
     ]
    },
    {
     "data": {
      "application/vnd.jupyter.widget-view+json": {
       "model_id": "c72b8feaadb14198a47953a95612beb0",
       "version_major": 2,
       "version_minor": 0
      },
      "text/plain": [
       "  0%|          | 0/614 [00:00<?, ?it/s]"
      ]
     },
     "metadata": {},
     "output_type": "display_data"
    },
    {
     "name": "stdout",
     "output_type": "stream",
     "text": [
      ">>> Building train inputs and labels\n",
      ">>> Saving train data\n",
      ">>> Truncating test data...\n",
      ">>> Normalizing test data...\n",
      ">>> Building test index map...\n"
     ]
    },
    {
     "data": {
      "application/vnd.jupyter.widget-view+json": {
       "model_id": "e118d5d391c94f78902faea87081b4c6",
       "version_major": 2,
       "version_minor": 0
      },
      "text/plain": [
       "  0%|          | 0/135 [00:00<?, ?it/s]"
      ]
     },
     "metadata": {},
     "output_type": "display_data"
    },
    {
     "name": "stdout",
     "output_type": "stream",
     "text": [
      ">>> Building test inputs and labels\n",
      ">>> Saving test data\n",
      ">>> Complete\n"
     ]
    }
   ],
   "source": [
    "import pandas as pd\n",
    "import numpy as np\n",
    "import os\n",
    "from sklearn.metrics import mean_squared_error, mean_absolute_error\n",
    "import matplotlib.pyplot as plt\n",
    "import pickle\n",
    "import clean_data\n",
    "import random\n",
    "\n",
    "# init_cols = ['BSTAR', 'INCLINATION', 'RA_OF_ASC_NODE', 'ECCENTRICITY', 'ARG_OF_PERICENTER', 'MEAN_ANOMALY',\n",
    "#               'MEAN_MOTION', 'NORAD_CAT_ID', 'EPOCH',\n",
    "#              ]\n",
    "\n",
    "init_cols = ['BSTAR', 'INCLINATION', 'RA_OF_ASC_NODE', 'ECCENTRICITY', 'ARG_OF_PERICENTER', 'MEAN_ANOMALY',\n",
    "             'MEAN_MOTION', 'NORAD_CAT_ID', 'EPOCH', 'SUNSPOTS_1D', 'SUNSPOTS_3D', 'SUNSPOTS_7D',\n",
    "             'AIR_MONTH_AVG_TEMP', 'WATER_MONTH_AVG_TEMP',\n",
    "            ]\n",
    "\n",
    "\n",
    "def load_raw(name=None):\n",
    "    if not name:\n",
    "        train_df = pd.read_pickle(os.environ['GP_HIST_PATH'] + '/../3_min/train.pkl' ) # Time: 25.7s\n",
    "        test_df = pd.read_pickle(os.environ['GP_HIST_PATH'] + '/../3_min/test.pkl' ) # Time: 5\n",
    "        return {'train': train_df, 'test': test_df}\n",
    "    elif name == 'train':\n",
    "        return {name: pd.read_pickle(os.environ['GP_HIST_PATH'] + '/../3_min/train.pkl' )}\n",
    "    elif name == 'test':\n",
    "        return {name: pd.read_pickle(os.environ['GP_HIST_PATH'] + '/../3_min/test.pkl' )}\n",
    "\n",
    "def truncate_data(df, perc):\n",
    "    norad_count = int(len(df.NORAD_CAT_ID.unique()) * perc)\n",
    "    df=df[df['INCLINATION'].between(0,180) &\n",
    "          df['RA_OF_ASC_NODE'].between(0,360) &\n",
    "          df['ECCENTRICITY'].between(0,0.25) &\n",
    "          df['ARG_OF_PERICENTER'].between(0,360) &\n",
    "          df['MEAN_ANOMALY'].between(0,360) &\n",
    "          df['MEAN_MOTION'].between(11.25,17) &\n",
    "          (df.EPOCH >= '1990-01-01') &\n",
    "          (df.NORAD_CAT_ID.isin(df.NORAD_CAT_ID.unique()[:norad_count]))].reset_index(drop=True)\n",
    "    return df\n",
    "\n",
    "def create_save(perc, name=None):\n",
    "    print('>>> Loading raw data')\n",
    "    df_in = load_raw(name)\n",
    "\n",
    "    df_out = []\n",
    "    for name, df in df_in.items():\n",
    "        print(f'>>> Truncating {name} data...')\n",
    "        df = truncate_data(df, perc) # 14.5s\n",
    "        df = df[init_cols].reset_index(drop=True)  # 4s\n",
    "\n",
    "        print(f'>>> Normalizing {name} data...')\n",
    "        df = clean_data.normalize_all_columns(df) # 53.4s\n",
    "\n",
    "        print(f'>>> Building {name} index map...')\n",
    "        idx_map = clean_data.create_index_map(df, threaded=True, batch_size=50) # 3min 29s\n",
    "\n",
    "        print(f'>>> Building {name} inputs and labels')\n",
    "        X,y = clean_data.build_xy(df, idx_map) # 59min 41s\n",
    "        X = clean_data.normalize_epoch_diff(X, drop_epoch=False) # 19s\n",
    "\n",
    "        print(f'>>> Saving {name} data')\n",
    "        X.to_pickle(f'data/x_{name}1.pkl')\n",
    "        y.to_pickle(f'data/y_{name}1.pkl')\n",
    "        df_out.extend([X,y])\n",
    "    \n",
    "    return df_out\n",
    "\n",
    "def load(perc, force_update=False):\n",
    "    if not force_update:\n",
    "        print('>>> Loading data')\n",
    "        \n",
    "        X_train = pd.read_pickle('data/x_train1.pkl')\n",
    "        y_train = pd.read_pickle('data/y_train1.pkl')\n",
    "        X_test = pd.read_pickle('data/x_test1.pkl')\n",
    "        y_test = pd.read_pickle('data/y_test1.pkl')\n",
    "        return X_train, y_train, X_test, y_test\n",
    "    else:\n",
    "        return create_save(perc)\n",
    "        \n",
    "\n",
    "perc = 0.05\n",
    "force_update = False\n",
    "\n",
    "X_train, y_train, X_test, y_test = load(perc, force_update)\n",
    "print(f'>>> Complete')"
   ]
  },
  {
   "cell_type": "code",
   "execution_count": 3,
   "id": "f00aa20a",
   "metadata": {},
   "outputs": [],
   "source": [
    "df_in = load_raw()"
   ]
  },
  {
   "cell_type": "code",
   "execution_count": 39,
   "id": "03f4f0f3",
   "metadata": {},
   "outputs": [
    {
     "data": {
      "text/html": [
       "<div>\n",
       "<style scoped>\n",
       "    .dataframe tbody tr th:only-of-type {\n",
       "        vertical-align: middle;\n",
       "    }\n",
       "\n",
       "    .dataframe tbody tr th {\n",
       "        vertical-align: top;\n",
       "    }\n",
       "\n",
       "    .dataframe thead th {\n",
       "        text-align: right;\n",
       "    }\n",
       "</style>\n",
       "<table border=\"1\" class=\"dataframe\">\n",
       "  <thead>\n",
       "    <tr style=\"text-align: right;\">\n",
       "      <th></th>\n",
       "      <th>BSTAR</th>\n",
       "      <th>INCLINATION</th>\n",
       "      <th>RA_OF_ASC_NODE</th>\n",
       "      <th>ECCENTRICITY</th>\n",
       "      <th>ARG_OF_PERICENTER</th>\n",
       "      <th>MEAN_ANOMALY</th>\n",
       "      <th>MEAN_MOTION</th>\n",
       "      <th>NORAD_CAT_ID</th>\n",
       "      <th>EPOCH</th>\n",
       "      <th>SUNSPOTS_1D</th>\n",
       "      <th>...</th>\n",
       "      <th>month_sin</th>\n",
       "      <th>month_cos</th>\n",
       "      <th>hour_sin</th>\n",
       "      <th>hour_cos</th>\n",
       "      <th>minute_sin</th>\n",
       "      <th>minute_cos</th>\n",
       "      <th>second_sin</th>\n",
       "      <th>second_cos</th>\n",
       "      <th>ms_sin</th>\n",
       "      <th>ms_cos</th>\n",
       "    </tr>\n",
       "  </thead>\n",
       "  <tbody>\n",
       "    <tr>\n",
       "      <th>0</th>\n",
       "      <td>0.002592</td>\n",
       "      <td>0.345786</td>\n",
       "      <td>0.500434</td>\n",
       "      <td>0.281957</td>\n",
       "      <td>0.737989</td>\n",
       "      <td>0.239659</td>\n",
       "      <td>0.278728</td>\n",
       "      <td>18549</td>\n",
       "      <td>2004-04-27 14:18:48.216960</td>\n",
       "      <td>39</td>\n",
       "      <td>...</td>\n",
       "      <td>1.0</td>\n",
       "      <td>6.123234e-17</td>\n",
       "      <td>-0.500000</td>\n",
       "      <td>-0.866025</td>\n",
       "      <td>0.951057</td>\n",
       "      <td>-3.090170e-01</td>\n",
       "      <td>-0.951057</td>\n",
       "      <td>0.309017</td>\n",
       "      <td>0.978529</td>\n",
       "      <td>0.206109</td>\n",
       "    </tr>\n",
       "    <tr>\n",
       "      <th>1</th>\n",
       "      <td>0.000100</td>\n",
       "      <td>0.407556</td>\n",
       "      <td>0.960246</td>\n",
       "      <td>0.035261</td>\n",
       "      <td>0.751111</td>\n",
       "      <td>0.246364</td>\n",
       "      <td>0.242116</td>\n",
       "      <td>18727</td>\n",
       "      <td>2004-04-27 15:59:40.727904</td>\n",
       "      <td>39</td>\n",
       "      <td>...</td>\n",
       "      <td>1.0</td>\n",
       "      <td>6.123234e-17</td>\n",
       "      <td>-0.707107</td>\n",
       "      <td>-0.707107</td>\n",
       "      <td>-0.104528</td>\n",
       "      <td>9.945219e-01</td>\n",
       "      <td>-0.866025</td>\n",
       "      <td>-0.500000</td>\n",
       "      <td>-0.990378</td>\n",
       "      <td>-0.138388</td>\n",
       "    </tr>\n",
       "    <tr>\n",
       "      <th>2</th>\n",
       "      <td>0.001076</td>\n",
       "      <td>0.461244</td>\n",
       "      <td>0.697074</td>\n",
       "      <td>0.033974</td>\n",
       "      <td>0.512006</td>\n",
       "      <td>0.488125</td>\n",
       "      <td>0.453287</td>\n",
       "      <td>19027</td>\n",
       "      <td>2004-04-27 19:45:13.686048</td>\n",
       "      <td>39</td>\n",
       "      <td>...</td>\n",
       "      <td>1.0</td>\n",
       "      <td>6.123234e-17</td>\n",
       "      <td>-0.965926</td>\n",
       "      <td>0.258819</td>\n",
       "      <td>-1.000000</td>\n",
       "      <td>-1.836970e-16</td>\n",
       "      <td>0.978148</td>\n",
       "      <td>0.207912</td>\n",
       "      <td>-0.920350</td>\n",
       "      <td>-0.391096</td>\n",
       "    </tr>\n",
       "    <tr>\n",
       "      <th>3</th>\n",
       "      <td>0.000166</td>\n",
       "      <td>0.394356</td>\n",
       "      <td>0.576342</td>\n",
       "      <td>0.083025</td>\n",
       "      <td>0.448271</td>\n",
       "      <td>0.554187</td>\n",
       "      <td>0.428732</td>\n",
       "      <td>19128</td>\n",
       "      <td>2004-04-27 15:43:11.393472</td>\n",
       "      <td>39</td>\n",
       "      <td>...</td>\n",
       "      <td>1.0</td>\n",
       "      <td>6.123234e-17</td>\n",
       "      <td>-0.707107</td>\n",
       "      <td>-0.707107</td>\n",
       "      <td>-0.978148</td>\n",
       "      <td>-2.079117e-01</td>\n",
       "      <td>0.913545</td>\n",
       "      <td>0.406737</td>\n",
       "      <td>0.620465</td>\n",
       "      <td>-0.784234</td>\n",
       "    </tr>\n",
       "    <tr>\n",
       "      <th>4</th>\n",
       "      <td>0.000739</td>\n",
       "      <td>0.500811</td>\n",
       "      <td>0.533843</td>\n",
       "      <td>0.010984</td>\n",
       "      <td>0.834616</td>\n",
       "      <td>0.164904</td>\n",
       "      <td>0.303029</td>\n",
       "      <td>19242</td>\n",
       "      <td>2004-04-27 03:43:04.015775</td>\n",
       "      <td>39</td>\n",
       "      <td>...</td>\n",
       "      <td>1.0</td>\n",
       "      <td>6.123234e-17</td>\n",
       "      <td>0.707107</td>\n",
       "      <td>0.707107</td>\n",
       "      <td>-0.978148</td>\n",
       "      <td>-2.079117e-01</td>\n",
       "      <td>0.406737</td>\n",
       "      <td>0.913545</td>\n",
       "      <td>0.098955</td>\n",
       "      <td>0.995092</td>\n",
       "    </tr>\n",
       "  </tbody>\n",
       "</table>\n",
       "<p>5 rows × 25 columns</p>\n",
       "</div>"
      ],
      "text/plain": [
       "      BSTAR  INCLINATION  RA_OF_ASC_NODE  ECCENTRICITY  ARG_OF_PERICENTER  \\\n",
       "0  0.002592     0.345786        0.500434      0.281957           0.737989   \n",
       "1  0.000100     0.407556        0.960246      0.035261           0.751111   \n",
       "2  0.001076     0.461244        0.697074      0.033974           0.512006   \n",
       "3  0.000166     0.394356        0.576342      0.083025           0.448271   \n",
       "4  0.000739     0.500811        0.533843      0.010984           0.834616   \n",
       "\n",
       "   MEAN_ANOMALY  MEAN_MOTION  NORAD_CAT_ID                      EPOCH  \\\n",
       "0      0.239659     0.278728         18549 2004-04-27 14:18:48.216960   \n",
       "1      0.246364     0.242116         18727 2004-04-27 15:59:40.727904   \n",
       "2      0.488125     0.453287         19027 2004-04-27 19:45:13.686048   \n",
       "3      0.554187     0.428732         19128 2004-04-27 15:43:11.393472   \n",
       "4      0.164904     0.303029         19242 2004-04-27 03:43:04.015775   \n",
       "\n",
       "   SUNSPOTS_1D  ...  month_sin     month_cos  hour_sin  hour_cos  minute_sin  \\\n",
       "0           39  ...        1.0  6.123234e-17 -0.500000 -0.866025    0.951057   \n",
       "1           39  ...        1.0  6.123234e-17 -0.707107 -0.707107   -0.104528   \n",
       "2           39  ...        1.0  6.123234e-17 -0.965926  0.258819   -1.000000   \n",
       "3           39  ...        1.0  6.123234e-17 -0.707107 -0.707107   -0.978148   \n",
       "4           39  ...        1.0  6.123234e-17  0.707107  0.707107   -0.978148   \n",
       "\n",
       "     minute_cos  second_sin  second_cos    ms_sin    ms_cos  \n",
       "0 -3.090170e-01   -0.951057    0.309017  0.978529  0.206109  \n",
       "1  9.945219e-01   -0.866025   -0.500000 -0.990378 -0.138388  \n",
       "2 -1.836970e-16    0.978148    0.207912 -0.920350 -0.391096  \n",
       "3 -2.079117e-01    0.913545    0.406737  0.620465 -0.784234  \n",
       "4 -2.079117e-01    0.406737    0.913545  0.098955  0.995092  \n",
       "\n",
       "[5 rows x 25 columns]"
      ]
     },
     "execution_count": 39,
     "metadata": {},
     "output_type": "execute_result"
    }
   ],
   "source": [
    "train_df = df_in['train'].iloc[:1000]\n",
    "train_df = truncate_data(train_df, perc)\n",
    "train_df = train_df[init_cols].reset_index(drop=True)\n",
    "train_df = clean_data.normalize_all_columns(train_df)\n",
    "train_df.head()"
   ]
  },
  {
   "cell_type": "code",
   "execution_count": 41,
   "id": "78cb31ea",
   "metadata": {},
   "outputs": [
    {
     "data": {
      "application/vnd.jupyter.widget-view+json": {
       "model_id": "b1ff0877d6d34f5d8c8a773c336afc95",
       "version_major": 2,
       "version_minor": 0
      },
      "text/plain": [
       "  0%|          | 0/48 [00:00<?, ?it/s]"
      ]
     },
     "metadata": {},
     "output_type": "display_data"
    }
   ],
   "source": [
    "idx_map = clean_data.create_index_map(train_df, threaded=True, batch_size=50)"
   ]
  },
  {
   "cell_type": "code",
   "execution_count": 43,
   "id": "ed0ff77d",
   "metadata": {},
   "outputs": [
    {
     "data": {
      "text/plain": [
       "{0: 'BSTAR',\n",
       " 1: 'INCLINATION',\n",
       " 2: 'RA_OF_ASC_NODE',\n",
       " 3: 'ECCENTRICITY',\n",
       " 4: 'ARG_OF_PERICENTER',\n",
       " 5: 'MEAN_ANOMALY',\n",
       " 6: 'MEAN_MOTION',\n",
       " 7: 'NORAD_CAT_ID',\n",
       " 8: 'EPOCH',\n",
       " 9: 'SUNSPOTS_1D',\n",
       " 10: 'SUNSPOTS_3D',\n",
       " 11: 'SUNSPOTS_7D',\n",
       " 12: 'AIR_MONTH_AVG_TEMP',\n",
       " 13: 'WATER_MONTH_AVG_TEMP',\n",
       " 14: 'year',\n",
       " 15: 'month_sin',\n",
       " 16: 'month_cos',\n",
       " 17: 'hour_sin',\n",
       " 18: 'hour_cos',\n",
       " 19: 'minute_sin',\n",
       " 20: 'minute_cos',\n",
       " 21: 'second_sin',\n",
       " 22: 'second_cos',\n",
       " 23: 'ms_sin',\n",
       " 24: 'ms_cos'}"
      ]
     },
     "metadata": {},
     "output_type": "display_data"
    },
    {
     "data": {
      "text/plain": [
       "{25: 'BSTAR',\n",
       " 26: 'INCLINATION',\n",
       " 27: 'RA_OF_ASC_NODE',\n",
       " 28: 'ECCENTRICITY',\n",
       " 29: 'ARG_OF_PERICENTER',\n",
       " 30: 'MEAN_ANOMALY',\n",
       " 31: 'MEAN_MOTION',\n",
       " 32: 'NORAD_CAT_ID',\n",
       " 33: 'EPOCH',\n",
       " 34: 'SUNSPOTS_1D',\n",
       " 35: 'SUNSPOTS_3D',\n",
       " 36: 'SUNSPOTS_7D',\n",
       " 37: 'AIR_MONTH_AVG_TEMP',\n",
       " 38: 'WATER_MONTH_AVG_TEMP',\n",
       " 39: 'year',\n",
       " 40: 'month_sin',\n",
       " 41: 'month_cos',\n",
       " 42: 'hour_sin',\n",
       " 43: 'hour_cos',\n",
       " 44: 'minute_sin',\n",
       " 45: 'minute_cos',\n",
       " 46: 'second_sin',\n",
       " 47: 'second_cos',\n",
       " 48: 'ms_sin',\n",
       " 49: 'ms_cos'}"
      ]
     },
     "metadata": {},
     "output_type": "display_data"
    }
   ],
   "source": [
    "clean_data.build_xy(train_df, idx_map, debug=True)\n",
    "x_idx=[0,1,2,3,4,5,6,9,10,11,12,13,14,15,16,17,18,19,20,21,22,23,24,39,40,41,42,43,44,45,46,47,48,49,8,33],\n",
    "y_idx=[26,27,28,29,30,31],"
   ]
  },
  {
   "cell_type": "code",
   "execution_count": 7,
   "id": "115b9b74",
   "metadata": {},
   "outputs": [],
   "source": [
    "df1 = pd.read_pickle(os.environ['GP_HIST_PATH'] + '/../1_min/train.pkl' )\n",
    "df2 = pd.read_pickle(os.environ['GP_HIST_PATH'] + '/../3_min/train.pkl' )"
   ]
  },
  {
   "cell_type": "code",
   "execution_count": 8,
   "id": "bf9ecd31",
   "metadata": {},
   "outputs": [
    {
     "data": {
      "text/plain": [
       "55239839"
      ]
     },
     "metadata": {},
     "output_type": "display_data"
    },
    {
     "data": {
      "text/plain": [
       "48769810"
      ]
     },
     "metadata": {},
     "output_type": "display_data"
    }
   ],
   "source": [
    "display(len(df1))\n",
    "display(len(df2))"
   ]
  },
  {
   "cell_type": "code",
   "execution_count": 1,
   "id": "87199454",
   "metadata": {},
   "outputs": [],
   "source": [
    "import pandas as pd\n",
    "import numpy as np\n",
    "import os\n",
    "from sklearn.metrics import mean_squared_error, mean_absolute_error\n",
    "import matplotlib.pyplot as plt\n",
    "import pickle\n",
    "import clean_data\n",
    "\n",
    "init_cols = ['BSTAR', 'INCLINATION', 'RA_OF_ASC_NODE', 'ECCENTRICITY', 'ARG_OF_PERICENTER', 'MEAN_ANOMALY',\n",
    "              'MEAN_MOTION', 'NORAD_CAT_ID', 'EPOCH',\n",
    "             ]\n",
    "\n",
    "def load_all():\n",
    "    train_df = pd.read_pickle('../model_0/data/train.pkl' )\n",
    "    #test_df = pd.read_pickle('../model_0/data/test.pkl' )\n",
    "    return train_df #, test_df\n",
    "\n",
    "train_df = load_all()\n",
    "#train_df,test_df = clean_all(train_df, test_df)"
   ]
  },
  {
   "cell_type": "code",
   "execution_count": 2,
   "id": "81107f3a",
   "metadata": {},
   "outputs": [],
   "source": [
    "def truncate_data(df):\n",
    "    df=df[df['INCLINATION'].between(0,180) & df['RA_OF_ASC_NODE'].between(0,360) & df['ECCENTRICITY'].between(0,0.25) &\n",
    "          df['ARG_OF_PERICENTER'].between(0,360) & df['MEAN_ANOMALY'].between(0,360) & df['MEAN_MOTION'].between(11.25,17) &\n",
    "          (df.EPOCH >= '1990-01-01')]\n",
    "    df=df.reset_index(drop=True)\n",
    "    return df"
   ]
  },
  {
   "cell_type": "code",
   "execution_count": 3,
   "id": "689ba250",
   "metadata": {},
   "outputs": [
    {
     "name": "stdout",
     "output_type": "stream",
     "text": [
      ">>> Truncating data...\n",
      "CPU times: user 10.3 s, sys: 4.19 s, total: 14.5 s\n",
      "Wall time: 14.5 s\n",
      "CPU times: user 2.84 s, sys: 1.3 s, total: 4.14 s\n",
      "Wall time: 4.13 s\n",
      ">>> Normalizing data...\n",
      "CPU times: user 47.8 s, sys: 5.54 s, total: 53.3 s\n",
      "Wall time: 53.3 s\n",
      ">>> Building index map...\n"
     ]
    },
    {
     "name": "stderr",
     "output_type": "stream",
     "text": [
      "12800it [02:44, 77.67it/s]                            \n"
     ]
    },
    {
     "name": "stdout",
     "output_type": "stream",
     "text": [
      "CPU times: user 27min 42s, sys: 16min 5s, total: 43min 47s\n",
      "Wall time: 3min 29s\n",
      ">>> Building inputs and labels\n",
      "CPU times: user 48min 26s, sys: 11min 21s, total: 59min 47s\n",
      "Wall time: 59min 41s\n",
      "CPU times: user 10.7 s, sys: 8.31 s, total: 19 s\n",
      "Wall time: 19 s\n"
     ]
    }
   ],
   "source": [
    "#train_df = train_df[train_df['NORAD_CAT_ID'] == 14631].reset_index(drop=True)\n",
    "\n",
    "print('>>> Truncating data...')\n",
    "%time train_df = truncate_data(train_df) # 14.5s\n",
    "%time train_df = train_df[init_cols]  # 4s\n",
    "\n",
    "print('>>> Normalizing data...')\n",
    "%time train_df = clean_data.normalize_all_columns(train_df) # 53.4s\n",
    "\n",
    "print('>>> Building index map...')\n",
    "%time idx_map = clean_data.create_index_map(train_df, threaded=True, batch_size=50) # 3min 29s\n",
    "\n",
    "print('>>> Building inputs and labels')\n",
    "%time X_train,y_train = clean_data.build_xy(train_df, idx_map) # 59min 41s\n",
    "%time X_train = clean_data.normalize_epoch_diff(X_train, drop_epoch=True) # 19s\n",
    "\n",
    "print('>>> Saving data')\n",
    "X_train.to_pickle('data/x_train1.pkl')\n",
    "y_train.to_pickle('data/y_train1.pkl')"
   ]
  }
 ],
 "metadata": {
  "kernelspec": {
   "display_name": "Python 3",
   "language": "python",
   "name": "python3"
  },
  "language_info": {
   "codemirror_mode": {
    "name": "ipython",
    "version": 3
   },
   "file_extension": ".py",
   "mimetype": "text/x-python",
   "name": "python",
   "nbconvert_exporter": "python",
   "pygments_lexer": "ipython3",
   "version": "3.8.5"
  }
 },
 "nbformat": 4,
 "nbformat_minor": 5
}
