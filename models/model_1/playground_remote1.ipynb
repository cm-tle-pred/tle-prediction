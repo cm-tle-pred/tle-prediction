{
 "cells": [
  {
   "cell_type": "code",
   "execution_count": 1,
   "id": "87199454",
   "metadata": {},
   "outputs": [],
   "source": [
    "import pandas as pd\n",
    "import numpy as np\n",
    "import os\n",
    "from sklearn.metrics import mean_squared_error, mean_absolute_error\n",
    "import matplotlib.pyplot as plt\n",
    "import pickle\n",
    "import clean_data\n",
    "\n",
    "model_cols = ['BSTAR', 'INCLINATION', 'RA_OF_ASC_NODE', 'ECCENTRICITY', 'ARG_OF_PERICENTER', 'MEAN_ANOMALY',\n",
    "              'MEAN_MOTION', 'EPOCH'\n",
    "              # 'epoch_jd', 'epoch_fr',\n",
    "              #'MEAN_MOTION_DOT', 'MEAN_MOTION_DDOT', \n",
    "             ]\n",
    "\n",
    "def clean_df(df):\n",
    "    df = clean_data.add_epoch_data(df)\n",
    "    df = clean_data.normalize_all_columns(df)\n",
    "    return df\n",
    "\n",
    "def clean_all(train_df, test_df):\n",
    "    train_df = clean_df(train_df)\n",
    "    test_df = clean_df(test_df)\n",
    "    return train_df,test_df\n",
    "\n",
    "def load_all():\n",
    "    train_df = pd.read_pickle('../model_0/data/train.pkl' )\n",
    "    test_df = pd.read_pickle('../model_0/data/test.pkl' )\n",
    "    return train_df, test_df\n",
    "\n",
    "train_df, test_df = load_all()\n",
    "#train_df,test_df = clean_all(train_df, test_df)"
   ]
  },
  {
   "cell_type": "code",
   "execution_count": 2,
   "id": "81107f3a",
   "metadata": {},
   "outputs": [],
   "source": [
    "def basic_cleaning(df):\n",
    "    df=df[df['INCLINATION'].between(0,180) & df['RA_OF_ASC_NODE'].between(0,360) & df['ECCENTRICITY'].between(0,0.25) &\n",
    "          df['ARG_OF_PERICENTER'].between(0,360) & df['MEAN_ANOMALY'].between(0,360) & df['MEAN_MOTION'].between(11.25,17)]\n",
    "    df=df.reset_index(drop=True)\n",
    "    return df"
   ]
  },
  {
   "cell_type": "code",
   "execution_count": 3,
   "id": "689ba250",
   "metadata": {},
   "outputs": [],
   "source": [
    "#train_df = train_df[train_df['NORAD_CAT_ID'] == 14631].reset_index(drop=True)\n",
    "\n",
    "train_df = basic_cleaning(train_df)\n",
    "train_model_df = train_df[model_cols]\n",
    "train_model_df.describe()"
   ]
  },
  {
   "cell_type": "code",
   "execution_count": 17,
   "id": "73b3c95b",
   "metadata": {},
   "outputs": [
    {
     "name": "stderr",
     "output_type": "stream",
     "text": [
      "14650it [04:08, 58.98it/s]                            \n"
     ]
    }
   ],
   "source": [
    "idx_map = clean_data.create_index_map(train_df, threaded=True, batch_size=50)"
   ]
  },
  {
   "cell_type": "code",
   "execution_count": 18,
   "id": "8854816c",
   "metadata": {},
   "outputs": [
    {
     "data": {
      "text/plain": [
       "55046626"
      ]
     },
     "execution_count": 18,
     "metadata": {},
     "output_type": "execute_result"
    }
   ],
   "source": [
    "len(idx_map)"
   ]
  }
 ],
 "metadata": {
  "kernelspec": {
   "display_name": "Python 3",
   "language": "python",
   "name": "python3"
  },
  "language_info": {
   "codemirror_mode": {
    "name": "ipython",
    "version": 3
   },
   "file_extension": ".py",
   "mimetype": "text/x-python",
   "name": "python",
   "nbconvert_exporter": "python",
   "pygments_lexer": "ipython3",
   "version": "3.8.5"
  }
 },
 "nbformat": 4,
 "nbformat_minor": 5
}
