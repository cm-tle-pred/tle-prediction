{
 "cells": [
  {
   "cell_type": "code",
   "execution_count": 1,
   "id": "87199454",
   "metadata": {},
   "outputs": [],
   "source": [
    "import pandas as pd\n",
    "import numpy as np\n",
    "import os\n",
    "from sklearn.metrics import mean_squared_error, mean_absolute_error\n",
    "import matplotlib.pyplot as plt\n",
    "import pickle\n",
    "import clean_data\n",
    "\n",
    "init_cols = ['BSTAR', 'INCLINATION', 'RA_OF_ASC_NODE', 'ECCENTRICITY', 'ARG_OF_PERICENTER', 'MEAN_ANOMALY',\n",
    "              'MEAN_MOTION', 'NORAD_CAT_ID', 'EPOCH',\n",
    "             ]\n",
    "\n",
    "def load_all():\n",
    "    train_df = pd.read_pickle('../model_0/data/train.pkl' )\n",
    "    #test_df = pd.read_pickle('../model_0/data/test.pkl' )\n",
    "    return train_df #, test_df\n",
    "\n",
    "train_df = load_all()\n",
    "#train_df,test_df = clean_all(train_df, test_df)"
   ]
  },
  {
   "cell_type": "code",
   "execution_count": 2,
   "id": "81107f3a",
   "metadata": {},
   "outputs": [],
   "source": [
    "def truncate_data(df):\n",
    "    df=df[df['INCLINATION'].between(0,180) & df['RA_OF_ASC_NODE'].between(0,360) & df['ECCENTRICITY'].between(0,0.25) &\n",
    "          df['ARG_OF_PERICENTER'].between(0,360) & df['MEAN_ANOMALY'].between(0,360) & df['MEAN_MOTION'].between(11.25,17) &\n",
    "          (df.EPOCH >= '1990-01-01')]\n",
    "    df=df.reset_index(drop=True)\n",
    "    return df"
   ]
  },
  {
   "cell_type": "code",
   "execution_count": 3,
   "id": "689ba250",
   "metadata": {},
   "outputs": [
    {
     "name": "stdout",
     "output_type": "stream",
     "text": [
      ">>> Truncating data...\n",
      "CPU times: user 10.3 s, sys: 4.19 s, total: 14.5 s\n",
      "Wall time: 14.5 s\n",
      "CPU times: user 2.84 s, sys: 1.3 s, total: 4.14 s\n",
      "Wall time: 4.13 s\n",
      ">>> Normalizing data...\n",
      "CPU times: user 47.8 s, sys: 5.54 s, total: 53.3 s\n",
      "Wall time: 53.3 s\n",
      ">>> Building index map...\n"
     ]
    },
    {
     "name": "stderr",
     "output_type": "stream",
     "text": [
      "12800it [02:44, 77.67it/s]                            \n"
     ]
    },
    {
     "name": "stdout",
     "output_type": "stream",
     "text": [
      "CPU times: user 27min 42s, sys: 16min 5s, total: 43min 47s\n",
      "Wall time: 3min 29s\n",
      ">>> Building inputs and labels\n",
      "CPU times: user 48min 26s, sys: 11min 21s, total: 59min 47s\n",
      "Wall time: 59min 41s\n",
      "CPU times: user 10.7 s, sys: 8.31 s, total: 19 s\n",
      "Wall time: 19 s\n"
     ]
    }
   ],
   "source": [
    "#train_df = train_df[train_df['NORAD_CAT_ID'] == 14631].reset_index(drop=True)\n",
    "\n",
    "print('>>> Truncating data...')\n",
    "%time train_df = truncate_data(train_df) # 14.5s\n",
    "%time train_df = train_df[init_cols]  # 4s\n",
    "\n",
    "print('>>> Normalizing data...')\n",
    "%time train_df = clean_data.normalize_all_columns(train_df) # 53.4s\n",
    "\n",
    "print('>>> Building index map...')\n",
    "%time idx_map = clean_data.create_index_map(train_df, threaded=True, batch_size=50) # 3min 29s\n",
    "\n",
    "print('>>> Building inputs and labels')\n",
    "%time X_train,y_train = clean_data.build_xy(train_df, idx_map) # 59min 41s\n",
    "%time X_train = clean_data.normalize_epoch_diff(X_train, drop_epoch=True) # 19s\n",
    "\n",
    "print('>>> Saving data')\n",
    "X_train.to_pickle('data/x_train1.pkl')\n",
    "y_train.to_pickle('data/y_train1.pkl')"
   ]
  }
 ],
 "metadata": {
  "kernelspec": {
   "display_name": "Python 3",
   "language": "python",
   "name": "python3"
  },
  "language_info": {
   "codemirror_mode": {
    "name": "ipython",
    "version": 3
   },
   "file_extension": ".py",
   "mimetype": "text/x-python",
   "name": "python",
   "nbconvert_exporter": "python",
   "pygments_lexer": "ipython3",
   "version": "3.8.5"
  }
 },
 "nbformat": 4,
 "nbformat_minor": 5
}
