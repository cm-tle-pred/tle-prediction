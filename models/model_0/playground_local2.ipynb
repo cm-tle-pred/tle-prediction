{
 "cells": [
  {
   "cell_type": "code",
   "execution_count": 1,
   "metadata": {},
   "outputs": [
    {
     "name": "stdout",
     "output_type": "stream",
     "text": [
      "Wall time: 18.8 s\n",
      "Wall time: 3.45 s\n"
     ]
    }
   ],
   "source": [
    "import pandas as pd\n",
    "import numpy as np\n",
    "import os\n",
    "from sklearn.metrics import mean_squared_error, mean_absolute_error\n",
    "import matplotlib.pyplot as plt\n",
    "\n",
    "def print_loss(loss):\n",
    "    return plt.plot([float(l['loss']) for l in loss])\n",
    "\n",
    "model_cols = ['BSTAR', 'INCLINATION', 'RA_OF_ASC_NODE', 'ECCENTRICITY', 'ARG_OF_PERICENTER', 'MEAN_ANOMALY',\n",
    "              'MEAN_MOTION', 'epoch_jd', 'epoch_fr',\n",
    "              #'MEAN_MOTION_DOT', 'MEAN_MOTION_DDOT', \n",
    "             ]\n",
    "\n",
    "# Load all data...\n",
    "#train_df = pd.read_pickle('data/train.pkl' ) # Time: 26.9s\n",
    "#test_df = pd.read_pickle('data/test.pkl' ) # Time: 5s\n",
    "%time train_df = pd.read_pickle(os.environ['GP_HIST_PATH'] + '/raw_compiled/train.pkl' ) # Time: 25.7s\n",
    "%time test_df = pd.read_pickle(os.environ['GP_HIST_PATH'] + '/raw_compiled/test.pkl' ) # Time: 5s"
   ]
  },
  {
   "cell_type": "code",
   "execution_count": 2,
   "metadata": {},
   "outputs": [
    {
     "name": "stdout",
     "output_type": "stream",
     "text": [
      "Wall time: 13.8 s\n"
     ]
    }
   ],
   "source": [
    "%%time\n",
    "# Percent of NORADs to use during training...\n",
    "perc = 0.05\n",
    "norad_count = int(len(train_df.NORAD_CAT_ID.unique()) * perc)\n",
    "train_df = train_df[train_df.NORAD_CAT_ID.isin(train_df.NORAD_CAT_ID.unique()[:norad_count])].reset_index(drop=True)\n",
    "\n",
    "# Limit to 1990 and after...\n",
    "train_df = train_df.loc[train_df.EPOCH >= '1990-01-01'].reset_index(drop=True)\n",
    "test_df = test_df.loc[test_df.EPOCH >= '1990-01-01'].reset_index(drop=True)\n",
    "\n",
    "# Drop large mean motions\n",
    "train_df = train_df[abs(train_df.MEAN_MOTION) < 20].reset_index(drop=True)  # drops 1\n",
    "test_df = test_df[abs(test_df.MEAN_MOTION) < 20].reset_index(drop=True) # drops 2 (on ??%)\n",
    "\n",
    "# Drop large bstars\n",
    "train_df = train_df[abs(train_df.BSTAR) < 10].reset_index(drop=True)  # drops 779 / 9745803\n",
    "test_df = test_df[abs(test_df.BSTAR) < 10].reset_index(drop=True) # drops 187 / 8309251 (on 5%)"
   ]
  },
  {
   "cell_type": "markdown",
   "metadata": {},
   "source": [
    "|Data Change History | Time |\n",
    "|:-|-|\n",
    "|10% of all TLEs|8s|\n",
    "|20% of all TLEs|14s|\n",
    "|10% of all TLEs, only after 1990|11s|"
   ]
  },
  {
   "cell_type": "code",
   "execution_count": 3,
   "metadata": {},
   "outputs": [
    {
     "name": "stderr",
     "output_type": "stream",
     "text": [
      "100%|████████████████████████████████████████████████████████████████████████████████| 731/731 [00:15<00:00, 46.74it/s]\n",
      "100%|██████████████████████████████████████████████████████████████████████████████| 2705/2705 [00:39<00:00, 68.25it/s]\n"
     ]
    },
    {
     "name": "stdout",
     "output_type": "stream",
     "text": [
      "Wall time: 2min 32s\n"
     ]
    }
   ],
   "source": [
    "%%time\n",
    "import clean_data\n",
    "\n",
    "for df in [train_df, test_df]:\n",
    "    df = clean_data.add_epoch_data(df)\n",
    "    df = clean_data.normalize_all_columns(df)\n",
    "    \n",
    "train_idx_map = clean_data.create_index_map(train_df)\n",
    "test_idx_map = clean_data.create_index_map(test_df)\n",
    "\n",
    "train_model_df = train_df[model_cols]\n",
    "test_model_df = test_df[model_cols]\n",
    "\n",
    "X_test,y_test = clean_data.build_xy(test_model_df,test_idx_map)  # create input/label pair"
   ]
  },
  {
   "cell_type": "markdown",
   "metadata": {},
   "source": [
    "|Data Change History | Time |\n",
    "|:-|-|\n",
    "|10% of all TLEs|5min|\n",
    "|20% of all TLEs|10min|\n",
    "|10% of all TLEs, only after 1990|3min|"
   ]
  },
  {
   "cell_type": "code",
   "execution_count": 14,
   "metadata": {},
   "outputs": [
    {
     "data": {
      "text/plain": [
       "NNModelEx(\n",
       "  (net): Sequential(\n",
       "    (0): Linear(in_features=11, out_features=300, bias=True)\n",
       "    (1): ReLU()\n",
       "    (2): Dropout(p=0.5, inplace=False)\n",
       "    (3): Linear(in_features=300, out_features=100, bias=True)\n",
       "    (4): ReLU()\n",
       "    (5): Dropout(p=0.5, inplace=False)\n",
       "    (6): Linear(in_features=100, out_features=10, bias=True)\n",
       "    (7): ReLU()\n",
       "    (8): Dropout(p=0.5, inplace=False)\n",
       "    (9): Linear(in_features=10, out_features=10, bias=True)\n",
       "    (10): ReLU()\n",
       "    (11): Dropout(p=0.5, inplace=False)\n",
       "    (12): Linear(in_features=10, out_features=10, bias=True)\n",
       "    (13): ReLU()\n",
       "    (14): Dropout(p=0.5, inplace=False)\n",
       "    (15): Linear(in_features=10, out_features=7, bias=True)\n",
       "  )\n",
       ")"
      ]
     },
     "execution_count": 14,
     "metadata": {},
     "output_type": "execute_result"
    }
   ],
   "source": [
    "import train\n",
    "\n",
    "model = train.create_model(model_cols=model_cols,\n",
    "                           layer1=300, relu1=True, drop1=0.5,\n",
    "                           layer2=100, relu2=True, drop2=0.5,\n",
    "                           layer3=10, relu3=True, drop3=0.5,\n",
    "                           layer4=10, relu4=True, drop4=0.5,\n",
    "                           layer5=10, relu5=True, drop5=0.5,\n",
    "                          )\n",
    "model"
   ]
  },
  {
   "cell_type": "code",
   "execution_count": null,
   "metadata": {},
   "outputs": [
    {
     "name": "stdout",
     "output_type": "stream",
     "text": [
      ">>> Loading dataset\n",
      ">>> Beginning training!\n",
      "Epoch [1/10], Batch [4000/4154], Loss: 0.06135859712958336, Time: 35s\n",
      "Epoch [2/10], Batch [4000/4154], Loss: 0.05026401951909065, Time: 37s\n",
      "Epoch [3/10], Batch [4000/4154], Loss: 0.047357212752103806, Time: 36s\n",
      "Epoch [4/10], Batch [4000/4154], Loss: 0.05033541098237038, Time: 37s\n",
      "Epoch [5/10], Batch [4000/4154], Loss: 0.059244681149721146, Time: 37s\n",
      "Epoch [6/10], Batch [4000/4154], Loss: 0.04446031153202057, Time: 36s\n"
     ]
    }
   ],
   "source": [
    "%%time\n",
    "import train\n",
    "\n",
    "device='cpu'\n",
    "\n",
    "# Simple model with one hidden layer\n",
    "# trained_model, loss_output = train.train_model(train_model_df, train_idx_map, batchSize=200,\n",
    "#                           print_itr=10000, numEpochs=10, model_cols=model_cols,\n",
    "#                           learningRate=0.01, device=device, num_workers=10,\n",
    "#                           loss='L2', hiddenSize=10)\n",
    "\n",
    "trained_model, loss_output = train.train_model(train_model_df, train_idx_map, batchSize=2000,\n",
    "                                               print_itr=4000, numEpochs=10, model_cols=model_cols,\n",
    "                                               learningRate=0.001, device=device, num_workers=10,\n",
    "                                               loss='L2', model=model)\n",
    "\n",
    "y_pred = train.predict(trained_model, X_test, device=device) # get predictions for each train\n",
    "y_pred_df = pd.DataFrame(y_pred, columns=test_model_df.columns[:-2])  # put results into a dataframe"
   ]
  },
  {
   "cell_type": "code",
   "execution_count": 22,
   "metadata": {},
   "outputs": [
    {
     "name": "stdout",
     "output_type": "stream",
     "text": [
      "    Test set MAE (L1) loss: 0.1879192574015233\n",
      "    Test set MSE (L2) loss: 0.12976558906867725\n"
     ]
    },
    {
     "data": {
      "text/plain": [
       "[<matplotlib.lines.Line2D at 0x1e3cc05d8e0>]"
      ]
     },
     "execution_count": 22,
     "metadata": {},
     "output_type": "execute_result"
    },
    {
     "data": {
      "image/png": "[encoded data removed]",
      "text/plain": [
       "<Figure size 432x288 with 1 Axes>"
      ]
     },
     "metadata": {
      "needs_background": "light"
     },
     "output_type": "display_data"
    }
   ],
   "source": [
    "print(f'    Test set MAE (L1) loss: {mean_absolute_error(y_test, y_pred_df)}')\n",
    "print(f'    Test set MSE (L2) loss: {mean_squared_error(y_test, y_pred_df)}')\n",
    "\n",
    "print_loss(loss_output)"
   ]
  },
  {
   "cell_type": "markdown",
   "metadata": {},
   "source": [
    "# Loss Tracking\n",
    "\n",
    "|Test L1 Loss | Test L2 Loss | NN Change History | Time |\n",
    "|:-|:-|:-|-|\n",
    "|0.1234|21.7614|norads=10%, epochs=10, batchSize=200,<br> learn=0.0001, device=cpu, loss=l2,<br> num_workers=5, hidden=300|28min 39s|\n",
    "|0.1235|34.4868|num_workers=20|28min 54s|\n",
    "|0.1222|30.8207|norads=20%, num_workers=5|53min 47s|\n",
    "|0.1219|26.2414|norads=5%, tles-after-1990|12min 46s|\n",
    "|0.1217|0.1226|remove-high-mean-motion|13min 22s|\n",
    "|0.1211|0.1235|norads=10%|27min 35s|\n",
    "|0.1221|0.1232|hidden=10|22min 33s|\n",
    "|0.1330|0.1380|updated mean_motion standardization|24min 16s|\n",
    "|0.1329|0.1380|norads=5%|12min 36s|\n",
    "|0.1322|0.1385|run-local|6min 18s|\n",
    "|0.1302|0.1373|num-workers=10|4min 44s|\n",
    "|0.1302|0.1373|num-workers=10|4min 44s|\n",
    "|0.1304|0.0631|remove-high-bstar|4min 37s|\n",
    "|0.1289|0.0601|hidden=300|8min 31s|\n",
    "|0.1423|0.0652|hidden1=100, hidden2=100, drop=50%,<br>batchSize=2000, epoch=5|2min 51s|"
   ]
  },
  {
   "cell_type": "code",
   "execution_count": 20,
   "metadata": {},
   "outputs": [
    {
     "name": "stdout",
     "output_type": "stream",
     "text": [
      "Got 3 and dict_items([('hello', '3')])\n"
     ]
    }
   ],
   "source": [
    "def test(one, **kwargs):\n",
    "    print (f'Got {one} and {kwargs.items()}')\n",
    "\n",
    "test('3', hello='3')"
   ]
  },
  {
   "cell_type": "code",
   "execution_count": 21,
   "metadata": {},
   "outputs": [
    {
     "data": {
      "text/plain": [
       "Sequential(\n",
       "  (0): Linear(in_features=1, out_features=3, bias=True)\n",
       "  (1): ReLU()\n",
       "  (2): Linear(in_features=3, out_features=1, bias=True)\n",
       ")"
      ]
     },
     "execution_count": 21,
     "metadata": {},
     "output_type": "execute_result"
    }
   ],
   "source": [
    "import torch\n",
    "import torch.nn as nn\n",
    "\n",
    "my_nn = [nn.Linear(in_features=1, out_features=3), \n",
    "    nn.ReLU(), \n",
    "    nn.Linear(in_features=3, out_features=1)]\n",
    "\n",
    "nn.Sequential(*my_nn)"
   ]
  },
  {
   "cell_type": "code",
   "execution_count": 33,
   "metadata": {},
   "outputs": [
    {
     "data": {
      "text/html": [
       "<div>\n",
       "<style scoped>\n",
       "    .dataframe tbody tr th:only-of-type {\n",
       "        vertical-align: middle;\n",
       "    }\n",
       "\n",
       "    .dataframe tbody tr th {\n",
       "        vertical-align: top;\n",
       "    }\n",
       "\n",
       "    .dataframe thead th {\n",
       "        text-align: right;\n",
       "    }\n",
       "</style>\n",
       "<table border=\"1\" class=\"dataframe\">\n",
       "  <thead>\n",
       "    <tr style=\"text-align: right;\">\n",
       "      <th></th>\n",
       "      <th>BSTAR</th>\n",
       "      <th>INCLINATION</th>\n",
       "      <th>RA_OF_ASC_NODE</th>\n",
       "      <th>ECCENTRICITY</th>\n",
       "      <th>ARG_OF_PERICENTER</th>\n",
       "      <th>MEAN_ANOMALY</th>\n",
       "      <th>MEAN_MOTION</th>\n",
       "    </tr>\n",
       "  </thead>\n",
       "  <tbody>\n",
       "    <tr>\n",
       "      <th>0</th>\n",
       "      <td>0.000070</td>\n",
       "      <td>99.0273</td>\n",
       "      <td>91.4724</td>\n",
       "      <td>0.006882</td>\n",
       "      <td>213.8838</td>\n",
       "      <td>145.7902</td>\n",
       "      <td>13.878280</td>\n",
       "    </tr>\n",
       "    <tr>\n",
       "      <th>1</th>\n",
       "      <td>0.000176</td>\n",
       "      <td>99.3609</td>\n",
       "      <td>338.5575</td>\n",
       "      <td>0.006719</td>\n",
       "      <td>212.1980</td>\n",
       "      <td>147.5052</td>\n",
       "      <td>13.897694</td>\n",
       "    </tr>\n",
       "    <tr>\n",
       "      <th>2</th>\n",
       "      <td>0.000025</td>\n",
       "      <td>99.1325</td>\n",
       "      <td>235.7922</td>\n",
       "      <td>0.006615</td>\n",
       "      <td>284.4164</td>\n",
       "      <td>230.4278</td>\n",
       "      <td>13.901623</td>\n",
       "    </tr>\n",
       "    <tr>\n",
       "      <th>3</th>\n",
       "      <td>0.000079</td>\n",
       "      <td>98.8742</td>\n",
       "      <td>295.6128</td>\n",
       "      <td>0.006941</td>\n",
       "      <td>113.3722</td>\n",
       "      <td>247.4756</td>\n",
       "      <td>13.876448</td>\n",
       "    </tr>\n",
       "    <tr>\n",
       "      <th>4</th>\n",
       "      <td>0.000055</td>\n",
       "      <td>99.5139</td>\n",
       "      <td>341.9707</td>\n",
       "      <td>0.006715</td>\n",
       "      <td>265.5062</td>\n",
       "      <td>93.8418</td>\n",
       "      <td>13.895170</td>\n",
       "    </tr>\n",
       "  </tbody>\n",
       "</table>\n",
       "</div>"
      ],
      "text/plain": [
       "      BSTAR  INCLINATION  RA_OF_ASC_NODE  ECCENTRICITY  ARG_OF_PERICENTER  \\\n",
       "0  0.000070      99.0273         91.4724      0.006882           213.8838   \n",
       "1  0.000176      99.3609        338.5575      0.006719           212.1980   \n",
       "2  0.000025      99.1325        235.7922      0.006615           284.4164   \n",
       "3  0.000079      98.8742        295.6128      0.006941           113.3722   \n",
       "4  0.000055      99.5139        341.9707      0.006715           265.5062   \n",
       "\n",
       "   MEAN_ANOMALY  MEAN_MOTION  \n",
       "0      145.7902    13.878280  \n",
       "1      147.5052    13.897694  \n",
       "2      230.4278    13.901623  \n",
       "3      247.4756    13.876448  \n",
       "4       93.8418    13.895170  "
      ]
     },
     "execution_count": 33,
     "metadata": {},
     "output_type": "execute_result"
    }
   ],
   "source": [
    "clean_data.normalize_all_columns(y_test.head().copy(), reverse=True)"
   ]
  },
  {
   "cell_type": "code",
   "execution_count": 34,
   "metadata": {},
   "outputs": [
    {
     "data": {
      "text/html": [
       "<div>\n",
       "<style scoped>\n",
       "    .dataframe tbody tr th:only-of-type {\n",
       "        vertical-align: middle;\n",
       "    }\n",
       "\n",
       "    .dataframe tbody tr th {\n",
       "        vertical-align: top;\n",
       "    }\n",
       "\n",
       "    .dataframe thead th {\n",
       "        text-align: right;\n",
       "    }\n",
       "</style>\n",
       "<table border=\"1\" class=\"dataframe\">\n",
       "  <thead>\n",
       "    <tr style=\"text-align: right;\">\n",
       "      <th></th>\n",
       "      <th>BSTAR</th>\n",
       "      <th>INCLINATION</th>\n",
       "      <th>RA_OF_ASC_NODE</th>\n",
       "      <th>ECCENTRICITY</th>\n",
       "      <th>ARG_OF_PERICENTER</th>\n",
       "      <th>MEAN_ANOMALY</th>\n",
       "      <th>MEAN_MOTION</th>\n",
       "    </tr>\n",
       "  </thead>\n",
       "  <tbody>\n",
       "    <tr>\n",
       "      <th>0</th>\n",
       "      <td>0.000128</td>\n",
       "      <td>99.367409</td>\n",
       "      <td>177.987976</td>\n",
       "      <td>0.007505</td>\n",
       "      <td>176.273544</td>\n",
       "      <td>182.977768</td>\n",
       "      <td>13.806324</td>\n",
       "    </tr>\n",
       "    <tr>\n",
       "      <th>1</th>\n",
       "      <td>0.000277</td>\n",
       "      <td>98.968285</td>\n",
       "      <td>174.250443</td>\n",
       "      <td>0.005652</td>\n",
       "      <td>178.784195</td>\n",
       "      <td>180.315643</td>\n",
       "      <td>13.984055</td>\n",
       "    </tr>\n",
       "    <tr>\n",
       "      <th>2</th>\n",
       "      <td>-0.000128</td>\n",
       "      <td>99.206566</td>\n",
       "      <td>178.081787</td>\n",
       "      <td>0.007398</td>\n",
       "      <td>178.893494</td>\n",
       "      <td>179.152985</td>\n",
       "      <td>13.855957</td>\n",
       "    </tr>\n",
       "    <tr>\n",
       "      <th>3</th>\n",
       "      <td>0.000518</td>\n",
       "      <td>99.812462</td>\n",
       "      <td>176.744812</td>\n",
       "      <td>0.008204</td>\n",
       "      <td>177.181229</td>\n",
       "      <td>179.876694</td>\n",
       "      <td>13.731467</td>\n",
       "    </tr>\n",
       "    <tr>\n",
       "      <th>4</th>\n",
       "      <td>0.000008</td>\n",
       "      <td>98.896675</td>\n",
       "      <td>180.470947</td>\n",
       "      <td>0.005795</td>\n",
       "      <td>176.439316</td>\n",
       "      <td>181.367020</td>\n",
       "      <td>14.035645</td>\n",
       "    </tr>\n",
       "  </tbody>\n",
       "</table>\n",
       "</div>"
      ],
      "text/plain": [
       "      BSTAR  INCLINATION  RA_OF_ASC_NODE  ECCENTRICITY  ARG_OF_PERICENTER  \\\n",
       "0  0.000128    99.367409      177.987976      0.007505         176.273544   \n",
       "1  0.000277    98.968285      174.250443      0.005652         178.784195   \n",
       "2 -0.000128    99.206566      178.081787      0.007398         178.893494   \n",
       "3  0.000518    99.812462      176.744812      0.008204         177.181229   \n",
       "4  0.000008    98.896675      180.470947      0.005795         176.439316   \n",
       "\n",
       "   MEAN_ANOMALY  MEAN_MOTION  \n",
       "0    182.977768    13.806324  \n",
       "1    180.315643    13.984055  \n",
       "2    179.152985    13.855957  \n",
       "3    179.876694    13.731467  \n",
       "4    181.367020    14.035645  "
      ]
     },
     "execution_count": 34,
     "metadata": {},
     "output_type": "execute_result"
    }
   ],
   "source": [
    "clean_data.normalize_all_columns(y_pred_df.head().copy(), reverse=True)  # reverse the normalization"
   ]
  },
  {
   "cell_type": "code",
   "execution_count": 35,
   "metadata": {},
   "outputs": [],
   "source": [
    "y_diff = y_test.to_numpy() - y_pred_df.to_numpy()"
   ]
  },
  {
   "cell_type": "code",
   "execution_count": 36,
   "metadata": {},
   "outputs": [],
   "source": [
    "y_se = y_diff**2"
   ]
  },
  {
   "cell_type": "code",
   "execution_count": 37,
   "metadata": {},
   "outputs": [
    {
     "data": {
      "text/plain": [
       "0.13768172951482716"
      ]
     },
     "execution_count": 37,
     "metadata": {},
     "output_type": "execute_result"
    }
   ],
   "source": [
    "np.mean(y_se)"
   ]
  },
  {
   "cell_type": "code",
   "execution_count": 38,
   "metadata": {},
   "outputs": [
    {
     "data": {
      "text/plain": [
       "array([5.82604576e-01, 2.52606722e-05, 8.38049454e-02, 5.14893337e-04,\n",
       "       8.33889401e-02, 8.61190085e-02, 1.27314483e-01])"
      ]
     },
     "execution_count": 38,
     "metadata": {},
     "output_type": "execute_result"
    }
   ],
   "source": [
    "np.mean(y_se, axis=0)"
   ]
  },
  {
   "cell_type": "code",
   "execution_count": 39,
   "metadata": {},
   "outputs": [
    {
     "data": {
      "text/plain": [
       "571322.2075536742"
      ]
     },
     "execution_count": 39,
     "metadata": {},
     "output_type": "execute_result"
    }
   ],
   "source": [
    "np.mean(y_se, axis=1).max()"
   ]
  },
  {
   "cell_type": "code",
   "execution_count": 40,
   "metadata": {},
   "outputs": [
    {
     "data": {
      "text/plain": [
       "52.57713371478427"
      ]
     },
     "execution_count": 40,
     "metadata": {},
     "output_type": "execute_result"
    }
   ],
   "source": [
    "y_se[:,5].max()"
   ]
  },
  {
   "cell_type": "code",
   "execution_count": 41,
   "metadata": {},
   "outputs": [
    {
     "data": {
      "text/plain": [
       "6344333"
      ]
     },
     "execution_count": 41,
     "metadata": {},
     "output_type": "execute_result"
    }
   ],
   "source": [
    "np.argmax(y_se[:,5])"
   ]
  },
  {
   "cell_type": "code",
   "execution_count": 42,
   "metadata": {},
   "outputs": [
    {
     "data": {
      "text/html": [
       "<div>\n",
       "<style scoped>\n",
       "    .dataframe tbody tr th:only-of-type {\n",
       "        vertical-align: middle;\n",
       "    }\n",
       "\n",
       "    .dataframe tbody tr th {\n",
       "        vertical-align: top;\n",
       "    }\n",
       "\n",
       "    .dataframe thead th {\n",
       "        text-align: right;\n",
       "    }\n",
       "</style>\n",
       "<table border=\"1\" class=\"dataframe\">\n",
       "  <thead>\n",
       "    <tr style=\"text-align: right;\">\n",
       "      <th></th>\n",
       "      <th>BSTAR</th>\n",
       "      <th>INCLINATION</th>\n",
       "      <th>RA_OF_ASC_NODE</th>\n",
       "      <th>ECCENTRICITY</th>\n",
       "      <th>ARG_OF_PERICENTER</th>\n",
       "      <th>MEAN_ANOMALY</th>\n",
       "      <th>MEAN_MOTION</th>\n",
       "    </tr>\n",
       "  </thead>\n",
       "  <tbody>\n",
       "    <tr>\n",
       "      <th>9387407</th>\n",
       "      <td>0.694890</td>\n",
       "      <td>0.107023</td>\n",
       "      <td>0.506011</td>\n",
       "      <td>0.346137</td>\n",
       "      <td>0.297312</td>\n",
       "      <td>0.446885</td>\n",
       "      <td>2.611735</td>\n",
       "    </tr>\n",
       "    <tr>\n",
       "      <th>827215</th>\n",
       "      <td>3.230368</td>\n",
       "      <td>-0.911655</td>\n",
       "      <td>1.439745</td>\n",
       "      <td>2.279228</td>\n",
       "      <td>0.428236</td>\n",
       "      <td>0.242968</td>\n",
       "      <td>2.091965</td>\n",
       "    </tr>\n",
       "    <tr>\n",
       "      <th>5637016</th>\n",
       "      <td>-0.022609</td>\n",
       "      <td>0.456871</td>\n",
       "      <td>0.520049</td>\n",
       "      <td>0.168708</td>\n",
       "      <td>0.454958</td>\n",
       "      <td>0.549145</td>\n",
       "      <td>1.966734</td>\n",
       "    </tr>\n",
       "    <tr>\n",
       "      <th>2516423</th>\n",
       "      <td>-0.022264</td>\n",
       "      <td>0.386138</td>\n",
       "      <td>0.510685</td>\n",
       "      <td>0.170994</td>\n",
       "      <td>0.463729</td>\n",
       "      <td>0.518819</td>\n",
       "      <td>1.946972</td>\n",
       "    </tr>\n",
       "    <tr>\n",
       "      <th>1025982</th>\n",
       "      <td>-0.002358</td>\n",
       "      <td>0.538693</td>\n",
       "      <td>0.498795</td>\n",
       "      <td>0.069045</td>\n",
       "      <td>0.469660</td>\n",
       "      <td>0.534245</td>\n",
       "      <td>1.856623</td>\n",
       "    </tr>\n",
       "    <tr>\n",
       "      <th>...</th>\n",
       "      <td>...</td>\n",
       "      <td>...</td>\n",
       "      <td>...</td>\n",
       "      <td>...</td>\n",
       "      <td>...</td>\n",
       "      <td>...</td>\n",
       "      <td>...</td>\n",
       "    </tr>\n",
       "    <tr>\n",
       "      <th>9011387</th>\n",
       "      <td>3.652119</td>\n",
       "      <td>0.622109</td>\n",
       "      <td>4.245997</td>\n",
       "      <td>-0.106912</td>\n",
       "      <td>-3.331690</td>\n",
       "      <td>1.684346</td>\n",
       "      <td>-25.888645</td>\n",
       "    </tr>\n",
       "    <tr>\n",
       "      <th>6668333</th>\n",
       "      <td>4.563804</td>\n",
       "      <td>0.570290</td>\n",
       "      <td>5.306349</td>\n",
       "      <td>-0.110917</td>\n",
       "      <td>-4.532779</td>\n",
       "      <td>2.056255</td>\n",
       "      <td>-33.479591</td>\n",
       "    </tr>\n",
       "    <tr>\n",
       "      <th>6568739</th>\n",
       "      <td>5.652286</td>\n",
       "      <td>0.713150</td>\n",
       "      <td>6.281126</td>\n",
       "      <td>-0.158497</td>\n",
       "      <td>-5.720661</td>\n",
       "      <td>2.357029</td>\n",
       "      <td>-41.915901</td>\n",
       "    </tr>\n",
       "    <tr>\n",
       "      <th>9041996</th>\n",
       "      <td>5.911437</td>\n",
       "      <td>0.463917</td>\n",
       "      <td>6.648518</td>\n",
       "      <td>-0.076233</td>\n",
       "      <td>-5.954375</td>\n",
       "      <td>2.410160</td>\n",
       "      <td>-43.209641</td>\n",
       "    </tr>\n",
       "    <tr>\n",
       "      <th>6344333</th>\n",
       "      <td>21.373726</td>\n",
       "      <td>0.797852</td>\n",
       "      <td>24.813255</td>\n",
       "      <td>-2.298790</td>\n",
       "      <td>-25.364407</td>\n",
       "      <td>8.231262</td>\n",
       "      <td>-174.470627</td>\n",
       "    </tr>\n",
       "  </tbody>\n",
       "</table>\n",
       "<p>9745789 rows × 7 columns</p>\n",
       "</div>"
      ],
      "text/plain": [
       "             BSTAR  INCLINATION  RA_OF_ASC_NODE  ECCENTRICITY  \\\n",
       "9387407   0.694890     0.107023        0.506011      0.346137   \n",
       "827215    3.230368    -0.911655        1.439745      2.279228   \n",
       "5637016  -0.022609     0.456871        0.520049      0.168708   \n",
       "2516423  -0.022264     0.386138        0.510685      0.170994   \n",
       "1025982  -0.002358     0.538693        0.498795      0.069045   \n",
       "...            ...          ...             ...           ...   \n",
       "9011387   3.652119     0.622109        4.245997     -0.106912   \n",
       "6668333   4.563804     0.570290        5.306349     -0.110917   \n",
       "6568739   5.652286     0.713150        6.281126     -0.158497   \n",
       "9041996   5.911437     0.463917        6.648518     -0.076233   \n",
       "6344333  21.373726     0.797852       24.813255     -2.298790   \n",
       "\n",
       "         ARG_OF_PERICENTER  MEAN_ANOMALY  MEAN_MOTION  \n",
       "9387407           0.297312      0.446885     2.611735  \n",
       "827215            0.428236      0.242968     2.091965  \n",
       "5637016           0.454958      0.549145     1.966734  \n",
       "2516423           0.463729      0.518819     1.946972  \n",
       "1025982           0.469660      0.534245     1.856623  \n",
       "...                    ...           ...          ...  \n",
       "9011387          -3.331690      1.684346   -25.888645  \n",
       "6668333          -4.532779      2.056255   -33.479591  \n",
       "6568739          -5.720661      2.357029   -41.915901  \n",
       "9041996          -5.954375      2.410160   -43.209641  \n",
       "6344333         -25.364407      8.231262  -174.470627  \n",
       "\n",
       "[9745789 rows x 7 columns]"
      ]
     },
     "execution_count": 42,
     "metadata": {},
     "output_type": "execute_result"
    }
   ],
   "source": [
    "y_pred_df.sort_values(by='MEAN_MOTION', ascending=False)"
   ]
  },
  {
   "cell_type": "code",
   "execution_count": 45,
   "metadata": {},
   "outputs": [
    {
     "data": {
      "text/plain": [
       "BSTAR                 0.002000\n",
       "INCLINATION           0.363013\n",
       "RA_OF_ASC_NODE        0.907445\n",
       "ECCENTRICITY          0.886939\n",
       "ARG_OF_PERICENTER     0.140733\n",
       "MEAN_ANOMALY          0.980253\n",
       "MEAN_MOTION         -11.742837\n",
       "Name: 6344333, dtype: float64"
      ]
     },
     "execution_count": 45,
     "metadata": {},
     "output_type": "execute_result"
    }
   ],
   "source": [
    "y_test.iloc[6344333]"
   ]
  },
  {
   "cell_type": "code",
   "execution_count": 46,
   "metadata": {},
   "outputs": [
    {
     "data": {
      "text/plain": [
       "BSTAR                2000.000000\n",
       "INCLINATION             0.346807\n",
       "RA_OF_ASC_NODE          0.377513\n",
       "ECCENTRICITY            0.338590\n",
       "ARG_OF_PERICENTER       0.317030\n",
       "MEAN_ANOMALY            0.740220\n",
       "MEAN_MOTION            -0.598147\n",
       "epoch_jd                0.886982\n",
       "epoch_fr                0.374051\n",
       "epoch_jd_y              0.828464\n",
       "epoch_fr_y              0.442037\n",
       "Name: 6344333, dtype: float64"
      ]
     },
     "execution_count": 46,
     "metadata": {},
     "output_type": "execute_result"
    }
   ],
   "source": [
    "X_test.iloc[6344333]"
   ]
  },
  {
   "cell_type": "code",
   "execution_count": 47,
   "metadata": {},
   "outputs": [
    {
     "data": {
      "text/plain": [
       "NORAD_CAT_ID                                                      9889\n",
       "OBJECT_TYPE                                                     DEBRIS\n",
       "OBJECT_NAME                                             COSMOS 862 DEB\n",
       "TLE_LINE1            1 09889U 76105F   14149.37405109  .99999999  0...\n",
       "TLE_LINE2            2 09889 062.4253 135.9048 0388172 114.1307 266...\n",
       "MEAN_MOTION_DOT                                                    1.0\n",
       "MEAN_MOTION_DDOT                                                   0.0\n",
       "BSTAR                                                          40000.0\n",
       "INCLINATION                                                   0.001927\n",
       "RA_OF_ASC_NODE                                                0.001049\n",
       "ECCENTRICITY                                                  0.696987\n",
       "ARG_OF_PERICENTER                                             0.000881\n",
       "MEAN_ANOMALY                                                  0.002056\n",
       "MEAN_MOTION                                                 -14.348147\n",
       "EPOCH                                       2014-05-29 08:58:38.014175\n",
       "epoch_jd                                                   -110.044774\n",
       "epoch_fr                                                      0.374051\n",
       "epoch_days                                                23525.374051\n",
       "Name: 6251782, dtype: object"
      ]
     },
     "execution_count": 47,
     "metadata": {},
     "output_type": "execute_result"
    }
   ],
   "source": [
    "clean_data.normalize_all_columns(test_df.iloc[test_idx_map[6344333][0]].copy())"
   ]
  },
  {
   "cell_type": "code",
   "execution_count": 19,
   "metadata": {},
   "outputs": [
    {
     "data": {
      "text/plain": [
       "count    9.745803e+06\n",
       "mean     6.433186e-03\n",
       "std      1.208737e+00\n",
       "min     -1.276513e+01\n",
       "25%     -2.767648e-01\n",
       "50%      2.735473e-01\n",
       "75%      6.172884e-01\n",
       "max      2.828760e+00\n",
       "Name: MEAN_MOTION, dtype: float64"
      ]
     },
     "execution_count": 19,
     "metadata": {},
     "output_type": "execute_result"
    }
   ],
   "source": [
    "test_df.MEAN_MOTION.describe()"
   ]
  },
  {
   "cell_type": "code",
   "execution_count": 20,
   "metadata": {},
   "outputs": [
    {
     "data": {
      "text/plain": [
       "count    8.309251e+06\n",
       "mean    -6.641995e-02\n",
       "std      1.000701e+00\n",
       "min     -1.275089e+01\n",
       "25%     -4.354280e-01\n",
       "50%      1.358416e-01\n",
       "75%      5.215083e-01\n",
       "max      2.800927e+00\n",
       "Name: MEAN_MOTION, dtype: float64"
      ]
     },
     "execution_count": 20,
     "metadata": {},
     "output_type": "execute_result"
    }
   ],
   "source": [
    "train_df.MEAN_MOTION.describe()"
   ]
  },
  {
   "cell_type": "code",
   "execution_count": 21,
   "metadata": {},
   "outputs": [
    {
     "data": {
      "text/plain": [
       "9745803"
      ]
     },
     "execution_count": 21,
     "metadata": {},
     "output_type": "execute_result"
    }
   ],
   "source": [
    "len(test_df)"
   ]
  },
  {
   "cell_type": "code",
   "execution_count": 21,
   "metadata": {},
   "outputs": [
    {
     "data": {
      "text/plain": [
       "788213    -12.765129\n",
       "6092401   -12.747369\n",
       "6389269   -12.747307\n",
       "786326    -12.747295\n",
       "4733230   -12.747279\n",
       "             ...    \n",
       "983840      2.787466\n",
       "3448121     2.792547\n",
       "1608752     2.800919\n",
       "4898083     2.801152\n",
       "983842      2.828760\n",
       "Name: MEAN_MOTION, Length: 9745803, dtype: float64"
      ]
     },
     "execution_count": 21,
     "metadata": {},
     "output_type": "execute_result"
    }
   ],
   "source": [
    "test_df.MEAN_MOTION.sort_values()"
   ]
  },
  {
   "cell_type": "code",
   "execution_count": 22,
   "metadata": {},
   "outputs": [
    {
     "data": {
      "text/plain": [
       "880177    -12.750892\n",
       "1015425   -12.747301\n",
       "930452    -12.747238\n",
       "930453    -12.747235\n",
       "987189    -11.814547\n",
       "             ...    \n",
       "6114164     2.680907\n",
       "6313579     2.692586\n",
       "6258520     2.736366\n",
       "5326336     2.755610\n",
       "5983771     2.800927\n",
       "Name: MEAN_MOTION, Length: 8309251, dtype: float64"
      ]
     },
     "execution_count": 22,
     "metadata": {},
     "output_type": "execute_result"
    }
   ],
   "source": [
    "train_df.MEAN_MOTION.sort_values()"
   ]
  },
  {
   "cell_type": "code",
   "execution_count": 23,
   "metadata": {},
   "outputs": [
    {
     "data": {
      "text/plain": [
       "9125280"
      ]
     },
     "execution_count": 23,
     "metadata": {},
     "output_type": "execute_result"
    }
   ],
   "source": [
    "test_idx_map[9393426][0]"
   ]
  }
 ],
 "metadata": {
  "kernelspec": {
   "display_name": "Python 3",
   "language": "python",
   "name": "python3"
  },
  "language_info": {
   "codemirror_mode": {
    "name": "ipython",
    "version": 3
   },
   "file_extension": ".py",
   "mimetype": "text/x-python",
   "name": "python",
   "nbconvert_exporter": "python",
   "pygments_lexer": "ipython3",
   "version": "3.8.5"
  }
 },
 "nbformat": 4,
 "nbformat_minor": 5
}
