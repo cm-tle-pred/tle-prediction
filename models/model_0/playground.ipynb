{
 "cells": [
  {
   "cell_type": "markdown",
   "metadata": {},
   "source": [
    "## Load Raw Data into Train/Val/Test sets and Save\n",
    "This also has the ability to write the raw data files into train/validate/test files.  These files only contain the raw TLE data.  Extra pre-processing is still required as well as the assembly of input/label data."
   ]
  },
  {
   "cell_type": "code",
   "execution_count": 1,
   "metadata": {},
   "outputs": [],
   "source": [
    "from load_data import *"
   ]
  },
  {
   "cell_type": "code",
   "execution_count": 2,
   "metadata": {},
   "outputs": [
    {
     "name": "stdout",
     "output_type": "stream",
     "text": [
      "Loading files from path: C:\\Datasets\\gp_history\n"
     ]
    },
    {
     "name": "stderr",
     "output_type": "stream",
     "text": [
      "100%|██████████████████████████████████████████████████████████████████████████████| 1472/1472 [03:34<00:00,  6.85it/s]\n",
      "  0%|                                                                                            | 0/3 [00:00<?, ?it/s]"
     ]
    },
    {
     "name": "stdout",
     "output_type": "stream",
     "text": [
      "Finished loading.\n"
     ]
    },
    {
     "name": "stderr",
     "output_type": "stream",
     "text": [
      "100%|████████████████████████████████████████████████████████████████████████████████████| 3/3 [00:08<00:00,  2.99s/it]"
     ]
    },
    {
     "name": "stdout",
     "output_type": "stream",
     "text": [
      "Finished assembling.\n"
     ]
    },
    {
     "name": "stderr",
     "output_type": "stream",
     "text": [
      "\n"
     ]
    }
   ],
   "source": [
    "norad_lists = load_norads(['train','validate','secret_test'])\n",
    "df_dict = load_data(norad_lists, use_all_data=True, debug=True, multiproc=True)  # Takes about 4min"
   ]
  },
  {
   "cell_type": "code",
   "execution_count": 3,
   "metadata": {},
   "outputs": [
    {
     "name": "stdout",
     "output_type": "stream",
     "text": [
      "Saving files to path: C:\\Datasets\\gp_history/raw_compiled\n",
      "Writing raw data for to: C:\\Datasets\\gp_history/raw_compiled/train.pkl\n",
      "Writing raw data for to: C:\\Datasets\\gp_history/raw_compiled/test.pklWriting raw data for to: C:\\Datasets\\gp_history/raw_compiled/secret_test.pkl\n",
      "\n",
      "Finished saving C:\\Datasets\\gp_history/raw_compiled/secret_test.pkl\n",
      "Finished saving C:\\Datasets\\gp_history/raw_compiled/test.pkl\n",
      "Finished saving C:\\Datasets\\gp_history/raw_compiled/train.pkl\n"
     ]
    }
   ],
   "source": [
    "write_data(df_dict, use_all_data=True, debug=True, threaded=True)"
   ]
  },
  {
   "cell_type": "code",
   "execution_count": 4,
   "metadata": {},
   "outputs": [
    {
     "name": "stderr",
     "output_type": "stream",
     "text": [
      "\r",
      "  0%|                                                                                            | 0/3 [00:00<?, ?it/s]"
     ]
    },
    {
     "name": "stdout",
     "output_type": "stream",
     "text": [
      "Loading files from path: C:\\Users\\mille\\Documents\\tle-prediction/data/space-track-gp-hist-sample\n"
     ]
    },
    {
     "name": "stderr",
     "output_type": "stream",
     "text": [
      "100%|████████████████████████████████████████████████████████████████████████████████████| 3/3 [00:03<00:00,  1.19s/it]\n",
      "100%|████████████████████████████████████████████████████████████████████████████████████| 2/2 [00:00<00:00, 45.48it/s]"
     ]
    },
    {
     "name": "stdout",
     "output_type": "stream",
     "text": [
      "Finished loading.\n"
     ]
    },
    {
     "name": "stderr",
     "output_type": "stream",
     "text": [
      "\n"
     ]
    },
    {
     "name": "stdout",
     "output_type": "stream",
     "text": [
      "Finished assembling.\n",
      "Saving files to path: C:\\Users\\mille\\Documents\\tle-prediction/data/space-track-gp-hist-sample/raw_compiled\n",
      "Writing raw data for to: C:\\Users\\mille\\Documents\\tle-prediction/data/space-track-gp-hist-sample/raw_compiled/train.pkl\n",
      "Writing raw data for to: C:\\Users\\mille\\Documents\\tle-prediction/data/space-track-gp-hist-sample/raw_compiled/test.pkl\n",
      "Finished saving C:\\Users\\mille\\Documents\\tle-prediction/data/space-track-gp-hist-sample/raw_compiled/test.pkl\n",
      "Finished saving C:\\Users\\mille\\Documents\\tle-prediction/data/space-track-gp-hist-sample/raw_compiled/train.pkl\n"
     ]
    }
   ],
   "source": [
    "norad_lists = load_norads(['train','validate'])\n",
    "df_dict = load_data(norad_lists, use_all_data=False, debug=True, multiproc=True)\n",
    "write_data(df_dict, use_all_data=False, debug=True, threaded=True)"
   ]
  },
  {
   "cell_type": "markdown",
   "metadata": {},
   "source": [
    "## Load Raw Train set and train/test a model"
   ]
  },
  {
   "cell_type": "code",
   "execution_count": 1,
   "metadata": {},
   "outputs": [],
   "source": [
    "import pandas as pd\n",
    "import numpy as np\n",
    "import os\n",
    "\n",
    "files = ['train']\n",
    "\n",
    "model_cols = ['BSTAR', 'INCLINATION', 'RA_OF_ASC_NODE', 'ECCENTRICITY', 'ARG_OF_PERICENTER', 'MEAN_ANOMALY',\n",
    "              'MEAN_MOTION', 'epoch_jd', 'epoch_fr',\n",
    "              #'MEAN_MOTION_DOT', 'MEAN_MOTION_DDOT', \n",
    "             ]\n",
    "\n",
    "#%time df = pd.read_pickle(os.environ['GP_HIST_PATH'] + '/raw_compiled/train.pkl' )  # Takes about 20s\n",
    "train_df = pd.read_pickle(os.environ['my_home_path'] + '/data/space-track-gp-hist-sample/raw_compiled/train.pkl' )\n",
    "test_df = pd.read_pickle(os.environ['my_home_path'] + '/data/space-track-gp-hist-sample/raw_compiled/test.pkl' )"
   ]
  },
  {
   "cell_type": "code",
   "execution_count": 2,
   "metadata": {},
   "outputs": [
    {
     "data": {
      "text/html": [
       "<div>\n",
       "<style scoped>\n",
       "    .dataframe tbody tr th:only-of-type {\n",
       "        vertical-align: middle;\n",
       "    }\n",
       "\n",
       "    .dataframe tbody tr th {\n",
       "        vertical-align: top;\n",
       "    }\n",
       "\n",
       "    .dataframe thead th {\n",
       "        text-align: right;\n",
       "    }\n",
       "</style>\n",
       "<table border=\"1\" class=\"dataframe\">\n",
       "  <thead>\n",
       "    <tr style=\"text-align: right;\">\n",
       "      <th></th>\n",
       "      <th>BSTAR</th>\n",
       "      <th>INCLINATION</th>\n",
       "      <th>RA_OF_ASC_NODE</th>\n",
       "      <th>ECCENTRICITY</th>\n",
       "      <th>ARG_OF_PERICENTER</th>\n",
       "      <th>MEAN_ANOMALY</th>\n",
       "      <th>MEAN_MOTION</th>\n",
       "    </tr>\n",
       "  </thead>\n",
       "  <tbody>\n",
       "    <tr>\n",
       "      <th>0</th>\n",
       "      <td>0.002592</td>\n",
       "      <td>62.2415</td>\n",
       "      <td>180.1561</td>\n",
       "      <td>0.070489</td>\n",
       "      <td>265.6761</td>\n",
       "      <td>86.2771</td>\n",
       "      <td>12.852684</td>\n",
       "    </tr>\n",
       "    <tr>\n",
       "      <th>1</th>\n",
       "      <td>0.000100</td>\n",
       "      <td>73.3600</td>\n",
       "      <td>345.6887</td>\n",
       "      <td>0.008815</td>\n",
       "      <td>270.3999</td>\n",
       "      <td>88.6911</td>\n",
       "      <td>12.642166</td>\n",
       "    </tr>\n",
       "    <tr>\n",
       "      <th>2</th>\n",
       "      <td>0.001076</td>\n",
       "      <td>83.0239</td>\n",
       "      <td>250.9465</td>\n",
       "      <td>0.008493</td>\n",
       "      <td>184.3222</td>\n",
       "      <td>175.7249</td>\n",
       "      <td>13.856401</td>\n",
       "    </tr>\n",
       "    <tr>\n",
       "      <th>3</th>\n",
       "      <td>0.000166</td>\n",
       "      <td>70.9841</td>\n",
       "      <td>207.4830</td>\n",
       "      <td>0.020756</td>\n",
       "      <td>161.3777</td>\n",
       "      <td>199.5075</td>\n",
       "      <td>13.715209</td>\n",
       "    </tr>\n",
       "    <tr>\n",
       "      <th>4</th>\n",
       "      <td>0.000739</td>\n",
       "      <td>90.1460</td>\n",
       "      <td>192.1834</td>\n",
       "      <td>0.002746</td>\n",
       "      <td>300.4617</td>\n",
       "      <td>59.3655</td>\n",
       "      <td>12.992417</td>\n",
       "    </tr>\n",
       "  </tbody>\n",
       "</table>\n",
       "</div>"
      ],
      "text/plain": [
       "      BSTAR  INCLINATION  RA_OF_ASC_NODE  ECCENTRICITY  ARG_OF_PERICENTER  \\\n",
       "0  0.002592      62.2415        180.1561      0.070489           265.6761   \n",
       "1  0.000100      73.3600        345.6887      0.008815           270.3999   \n",
       "2  0.001076      83.0239        250.9465      0.008493           184.3222   \n",
       "3  0.000166      70.9841        207.4830      0.020756           161.3777   \n",
       "4  0.000739      90.1460        192.1834      0.002746           300.4617   \n",
       "\n",
       "   MEAN_ANOMALY  MEAN_MOTION  \n",
       "0       86.2771    12.852684  \n",
       "1       88.6911    12.642166  \n",
       "2      175.7249    13.856401  \n",
       "3      199.5075    13.715209  \n",
       "4       59.3655    12.992417  "
      ]
     },
     "execution_count": 2,
     "metadata": {},
     "output_type": "execute_result"
    }
   ],
   "source": [
    "train_df[model_cols[:-2]].head()"
   ]
  },
  {
   "cell_type": "code",
   "execution_count": 3,
   "metadata": {},
   "outputs": [
    {
     "name": "stderr",
     "output_type": "stream",
     "text": [
      "100%|████████████████████████████████████████████████████████████████████████████| 3038/3038 [00:02<00:00, 1153.81it/s]\n",
      "100%|██████████████████████████████████████████████████████████████████████████████| 599/599 [00:00<00:00, 1385.51it/s]"
     ]
    },
    {
     "name": "stdout",
     "output_type": "stream",
     "text": [
      "Wall time: 4.46 s\n"
     ]
    },
    {
     "name": "stderr",
     "output_type": "stream",
     "text": [
      "\n"
     ]
    }
   ],
   "source": [
    "%%time\n",
    "import clean_data\n",
    "\n",
    "for df in [train_df, test_df]:\n",
    "    df = clean_data.add_epoch_data(df)\n",
    "    df = clean_data.normalize_all_columns(df)\n",
    "    \n",
    "train_idx_map = clean_data.create_index_map(train_df)\n",
    "test_idx_map = clean_data.create_index_map(test_df)\n",
    "\n",
    "train_df = train_df[model_cols]\n",
    "test_df = test_df[model_cols]"
   ]
  },
  {
   "cell_type": "code",
   "execution_count": 4,
   "metadata": {},
   "outputs": [
    {
     "data": {
      "text/html": [
       "<div>\n",
       "<style scoped>\n",
       "    .dataframe tbody tr th:only-of-type {\n",
       "        vertical-align: middle;\n",
       "    }\n",
       "\n",
       "    .dataframe tbody tr th {\n",
       "        vertical-align: top;\n",
       "    }\n",
       "\n",
       "    .dataframe thead th {\n",
       "        text-align: right;\n",
       "    }\n",
       "</style>\n",
       "<table border=\"1\" class=\"dataframe\">\n",
       "  <thead>\n",
       "    <tr style=\"text-align: right;\">\n",
       "      <th></th>\n",
       "      <th>BSTAR</th>\n",
       "      <th>INCLINATION</th>\n",
       "      <th>RA_OF_ASC_NODE</th>\n",
       "      <th>ECCENTRICITY</th>\n",
       "      <th>ARG_OF_PERICENTER</th>\n",
       "      <th>MEAN_ANOMALY</th>\n",
       "      <th>MEAN_MOTION</th>\n",
       "      <th>epoch_jd</th>\n",
       "      <th>epoch_fr</th>\n",
       "    </tr>\n",
       "  </thead>\n",
       "  <tbody>\n",
       "    <tr>\n",
       "      <th>0</th>\n",
       "      <td>0.051838</td>\n",
       "      <td>0.345786</td>\n",
       "      <td>0.500434</td>\n",
       "      <td>0.413086</td>\n",
       "      <td>0.737989</td>\n",
       "      <td>0.239659</td>\n",
       "      <td>-0.406934</td>\n",
       "      <td>2453122.5</td>\n",
       "      <td>0.596391</td>\n",
       "    </tr>\n",
       "    <tr>\n",
       "      <th>1</th>\n",
       "      <td>0.002000</td>\n",
       "      <td>0.407556</td>\n",
       "      <td>0.960246</td>\n",
       "      <td>0.206575</td>\n",
       "      <td>0.751111</td>\n",
       "      <td>0.246364</td>\n",
       "      <td>-0.502072</td>\n",
       "      <td>2453122.5</td>\n",
       "      <td>0.666444</td>\n",
       "    </tr>\n",
       "    <tr>\n",
       "      <th>2</th>\n",
       "      <td>0.021510</td>\n",
       "      <td>0.461244</td>\n",
       "      <td>0.697074</td>\n",
       "      <td>0.204030</td>\n",
       "      <td>0.512006</td>\n",
       "      <td>0.488125</td>\n",
       "      <td>0.046666</td>\n",
       "      <td>2453122.5</td>\n",
       "      <td>0.823075</td>\n",
       "    </tr>\n",
       "    <tr>\n",
       "      <th>3</th>\n",
       "      <td>0.003313</td>\n",
       "      <td>0.394356</td>\n",
       "      <td>0.576342</td>\n",
       "      <td>0.274821</td>\n",
       "      <td>0.448271</td>\n",
       "      <td>0.554187</td>\n",
       "      <td>-0.017142</td>\n",
       "      <td>2453122.5</td>\n",
       "      <td>0.654993</td>\n",
       "    </tr>\n",
       "    <tr>\n",
       "      <th>4</th>\n",
       "      <td>0.014780</td>\n",
       "      <td>0.500811</td>\n",
       "      <td>0.533843</td>\n",
       "      <td>0.140034</td>\n",
       "      <td>0.834616</td>\n",
       "      <td>0.164904</td>\n",
       "      <td>-0.343786</td>\n",
       "      <td>2453122.5</td>\n",
       "      <td>0.154908</td>\n",
       "    </tr>\n",
       "  </tbody>\n",
       "</table>\n",
       "</div>"
      ],
      "text/plain": [
       "      BSTAR  INCLINATION  RA_OF_ASC_NODE  ECCENTRICITY  ARG_OF_PERICENTER  \\\n",
       "0  0.051838     0.345786        0.500434      0.413086           0.737989   \n",
       "1  0.002000     0.407556        0.960246      0.206575           0.751111   \n",
       "2  0.021510     0.461244        0.697074      0.204030           0.512006   \n",
       "3  0.003313     0.394356        0.576342      0.274821           0.448271   \n",
       "4  0.014780     0.500811        0.533843      0.140034           0.834616   \n",
       "\n",
       "   MEAN_ANOMALY  MEAN_MOTION   epoch_jd  epoch_fr  \n",
       "0      0.239659    -0.406934  2453122.5  0.596391  \n",
       "1      0.246364    -0.502072  2453122.5  0.666444  \n",
       "2      0.488125     0.046666  2453122.5  0.823075  \n",
       "3      0.554187    -0.017142  2453122.5  0.654993  \n",
       "4      0.164904    -0.343786  2453122.5  0.154908  "
      ]
     },
     "execution_count": 4,
     "metadata": {},
     "output_type": "execute_result"
    }
   ],
   "source": [
    "train_df.head()"
   ]
  },
  {
   "cell_type": "code",
   "execution_count": 5,
   "metadata": {},
   "outputs": [
    {
     "name": "stdout",
     "output_type": "stream",
     "text": [
      ">>> Loading model\n",
      ">>> Loading dataset\n",
      ">>> Beginning training!\n",
      "Epoch [1/5], Step [100/545], Loss: 10681.0888671875, Time: 1s\n",
      "Epoch [1/5], Step [200/545], Loss: 4001.9326171875, Time: 1s\n",
      "Epoch [1/5], Step [300/545], Loss: 829.184814453125, Time: 1s\n",
      "Epoch [1/5], Step [400/545], Loss: 284.8900146484375, Time: 1s\n",
      "Epoch [1/5], Step [500/545], Loss: 0.24430955946445465, Time: 1s\n",
      "Epoch [2/5], Step [100/545], Loss: 0.18085017800331116, Time: 1s\n",
      "Epoch [2/5], Step [200/545], Loss: 0.1888359934091568, Time: 1s\n",
      "Epoch [2/5], Step [300/545], Loss: 0.18320360779762268, Time: 1s\n",
      "Epoch [2/5], Step [400/545], Loss: 0.19605959951877594, Time: 1s\n",
      "Epoch [2/5], Step [500/545], Loss: 0.18620724976062775, Time: 1s\n",
      "Epoch [3/5], Step [100/545], Loss: 0.1825728863477707, Time: 1s\n",
      "Epoch [3/5], Step [200/545], Loss: 0.20176973938941956, Time: 1s\n",
      "Epoch [3/5], Step [300/545], Loss: 0.17267699539661407, Time: 1s\n",
      "Epoch [3/5], Step [400/545], Loss: 0.18654005229473114, Time: 1s\n",
      "Epoch [3/5], Step [500/545], Loss: 0.18197201192378998, Time: 1s\n",
      "Epoch [4/5], Step [100/545], Loss: 0.1861494481563568, Time: 2s\n",
      "Epoch [4/5], Step [200/545], Loss: 0.18856222927570343, Time: 1s\n",
      "Epoch [4/5], Step [300/545], Loss: 0.19334322214126587, Time: 1s\n",
      "Epoch [4/5], Step [400/545], Loss: 0.17810611426830292, Time: 1s\n",
      "Epoch [4/5], Step [500/545], Loss: 0.19400203227996826, Time: 1s\n",
      "Epoch [5/5], Step [100/545], Loss: 0.20015206933021545, Time: 1s\n",
      "Epoch [5/5], Step [200/545], Loss: 0.18653398752212524, Time: 1s\n",
      "Epoch [5/5], Step [300/545], Loss: 0.1916453093290329, Time: 1s\n",
      "Epoch [5/5], Step [400/545], Loss: 0.202534481883049, Time: 1s\n",
      "Epoch [5/5], Step [500/545], Loss: 0.1977633833885193, Time: 1s\n"
     ]
    }
   ],
   "source": [
    "import train\n",
    "\n",
    "model = train.train_model(train_df, train_idx_map, batchSize=200, print_itr=100, numEpochs=5, model_cols=model_cols)"
   ]
  },
  {
   "cell_type": "code",
   "execution_count": 6,
   "metadata": {},
   "outputs": [
    {
     "data": {
      "text/plain": [
       "NNModel(\n",
       "  (activate): ReLU()\n",
       "  (layer1): Linear(in_features=11, out_features=300, bias=True)\n",
       "  (layer2): Linear(in_features=300, out_features=7, bias=True)\n",
       ")"
      ]
     },
     "execution_count": 6,
     "metadata": {},
     "output_type": "execute_result"
    }
   ],
   "source": [
    "model.eval()"
   ]
  },
  {
   "cell_type": "code",
   "execution_count": 7,
   "metadata": {},
   "outputs": [],
   "source": [
    "X_train,y_train = clean_data.build_xy(train_df,train_idx_map)  # create input/label pair"
   ]
  },
  {
   "cell_type": "code",
   "execution_count": 26,
   "metadata": {},
   "outputs": [
    {
     "data": {
      "text/html": [
       "<div>\n",
       "<style scoped>\n",
       "    .dataframe tbody tr th:only-of-type {\n",
       "        vertical-align: middle;\n",
       "    }\n",
       "\n",
       "    .dataframe tbody tr th {\n",
       "        vertical-align: top;\n",
       "    }\n",
       "\n",
       "    .dataframe thead th {\n",
       "        text-align: right;\n",
       "    }\n",
       "</style>\n",
       "<table border=\"1\" class=\"dataframe\">\n",
       "  <thead>\n",
       "    <tr style=\"text-align: right;\">\n",
       "      <th></th>\n",
       "      <th>BSTAR</th>\n",
       "      <th>INCLINATION</th>\n",
       "      <th>RA_OF_ASC_NODE</th>\n",
       "      <th>ECCENTRICITY</th>\n",
       "      <th>ARG_OF_PERICENTER</th>\n",
       "      <th>MEAN_ANOMALY</th>\n",
       "      <th>MEAN_MOTION</th>\n",
       "      <th>epoch_jd</th>\n",
       "      <th>epoch_fr</th>\n",
       "      <th>epoch_jd_y</th>\n",
       "      <th>epoch_fr_y</th>\n",
       "    </tr>\n",
       "  </thead>\n",
       "  <tbody>\n",
       "    <tr>\n",
       "      <th>0</th>\n",
       "      <td>0.031248</td>\n",
       "      <td>0.345776</td>\n",
       "      <td>0.326872</td>\n",
       "      <td>0.413411</td>\n",
       "      <td>0.754269</td>\n",
       "      <td>0.223581</td>\n",
       "      <td>-0.406661</td>\n",
       "      <td>2453148.5</td>\n",
       "      <td>0.347955</td>\n",
       "      <td>2452054.5</td>\n",
       "      <td>0.343767</td>\n",
       "    </tr>\n",
       "    <tr>\n",
       "      <th>1</th>\n",
       "      <td>-0.010632</td>\n",
       "      <td>0.345719</td>\n",
       "      <td>0.680316</td>\n",
       "      <td>0.423572</td>\n",
       "      <td>0.088902</td>\n",
       "      <td>0.923566</td>\n",
       "      <td>-0.433865</td>\n",
       "      <td>2452054.5</td>\n",
       "      <td>0.343767</td>\n",
       "      <td>2452045.5</td>\n",
       "      <td>0.433089</td>\n",
       "    </tr>\n",
       "    <tr>\n",
       "      <th>2</th>\n",
       "      <td>0.009629</td>\n",
       "      <td>0.345688</td>\n",
       "      <td>0.739830</td>\n",
       "      <td>0.423548</td>\n",
       "      <td>0.083611</td>\n",
       "      <td>0.928187</td>\n",
       "      <td>-0.433860</td>\n",
       "      <td>2452045.5</td>\n",
       "      <td>0.433089</td>\n",
       "      <td>2452050.5</td>\n",
       "      <td>0.357408</td>\n",
       "    </tr>\n",
       "    <tr>\n",
       "      <th>3</th>\n",
       "      <td>0.008059</td>\n",
       "      <td>0.345690</td>\n",
       "      <td>0.706918</td>\n",
       "      <td>0.423494</td>\n",
       "      <td>0.086567</td>\n",
       "      <td>0.925581</td>\n",
       "      <td>-0.433848</td>\n",
       "      <td>2452050.5</td>\n",
       "      <td>0.357408</td>\n",
       "      <td>2452047.5</td>\n",
       "      <td>0.387186</td>\n",
       "    </tr>\n",
       "    <tr>\n",
       "      <th>4</th>\n",
       "      <td>0.006959</td>\n",
       "      <td>0.345662</td>\n",
       "      <td>0.726755</td>\n",
       "      <td>0.423515</td>\n",
       "      <td>0.084929</td>\n",
       "      <td>0.927034</td>\n",
       "      <td>-0.433859</td>\n",
       "      <td>2452047.5</td>\n",
       "      <td>0.387186</td>\n",
       "      <td>2453123.5</td>\n",
       "      <td>0.607819</td>\n",
       "    </tr>\n",
       "  </tbody>\n",
       "</table>\n",
       "</div>"
      ],
      "text/plain": [
       "      BSTAR  INCLINATION  RA_OF_ASC_NODE  ECCENTRICITY  ARG_OF_PERICENTER  \\\n",
       "0  0.031248     0.345776        0.326872      0.413411           0.754269   \n",
       "1 -0.010632     0.345719        0.680316      0.423572           0.088902   \n",
       "2  0.009629     0.345688        0.739830      0.423548           0.083611   \n",
       "3  0.008059     0.345690        0.706918      0.423494           0.086567   \n",
       "4  0.006959     0.345662        0.726755      0.423515           0.084929   \n",
       "\n",
       "   MEAN_ANOMALY  MEAN_MOTION   epoch_jd  epoch_fr  epoch_jd_y  epoch_fr_y  \n",
       "0      0.223581    -0.406661  2453148.5  0.347955   2452054.5    0.343767  \n",
       "1      0.923566    -0.433865  2452054.5  0.343767   2452045.5    0.433089  \n",
       "2      0.928187    -0.433860  2452045.5  0.433089   2452050.5    0.357408  \n",
       "3      0.925581    -0.433848  2452050.5  0.357408   2452047.5    0.387186  \n",
       "4      0.927034    -0.433859  2452047.5  0.387186   2453123.5    0.607819  "
      ]
     },
     "execution_count": 26,
     "metadata": {},
     "output_type": "execute_result"
    }
   ],
   "source": [
    "X_train.head()"
   ]
  },
  {
   "cell_type": "code",
   "execution_count": 27,
   "metadata": {},
   "outputs": [
    {
     "data": {
      "text/html": [
       "<div>\n",
       "<style scoped>\n",
       "    .dataframe tbody tr th:only-of-type {\n",
       "        vertical-align: middle;\n",
       "    }\n",
       "\n",
       "    .dataframe tbody tr th {\n",
       "        vertical-align: top;\n",
       "    }\n",
       "\n",
       "    .dataframe thead th {\n",
       "        text-align: right;\n",
       "    }\n",
       "</style>\n",
       "<table border=\"1\" class=\"dataframe\">\n",
       "  <thead>\n",
       "    <tr style=\"text-align: right;\">\n",
       "      <th></th>\n",
       "      <th>BSTAR</th>\n",
       "      <th>INCLINATION</th>\n",
       "      <th>RA_OF_ASC_NODE</th>\n",
       "      <th>ECCENTRICITY</th>\n",
       "      <th>ARG_OF_PERICENTER</th>\n",
       "      <th>MEAN_ANOMALY</th>\n",
       "      <th>MEAN_MOTION</th>\n",
       "    </tr>\n",
       "  </thead>\n",
       "  <tbody>\n",
       "    <tr>\n",
       "      <th>0</th>\n",
       "      <td>-0.010632</td>\n",
       "      <td>0.345719</td>\n",
       "      <td>0.680316</td>\n",
       "      <td>0.423572</td>\n",
       "      <td>0.088902</td>\n",
       "      <td>0.923566</td>\n",
       "      <td>-0.433865</td>\n",
       "    </tr>\n",
       "    <tr>\n",
       "      <th>1</th>\n",
       "      <td>0.009629</td>\n",
       "      <td>0.345688</td>\n",
       "      <td>0.739830</td>\n",
       "      <td>0.423548</td>\n",
       "      <td>0.083611</td>\n",
       "      <td>0.928187</td>\n",
       "      <td>-0.433860</td>\n",
       "    </tr>\n",
       "    <tr>\n",
       "      <th>2</th>\n",
       "      <td>0.008059</td>\n",
       "      <td>0.345690</td>\n",
       "      <td>0.706918</td>\n",
       "      <td>0.423494</td>\n",
       "      <td>0.086567</td>\n",
       "      <td>0.925581</td>\n",
       "      <td>-0.433848</td>\n",
       "    </tr>\n",
       "    <tr>\n",
       "      <th>3</th>\n",
       "      <td>0.006959</td>\n",
       "      <td>0.345662</td>\n",
       "      <td>0.726755</td>\n",
       "      <td>0.423515</td>\n",
       "      <td>0.084929</td>\n",
       "      <td>0.927034</td>\n",
       "      <td>-0.433859</td>\n",
       "    </tr>\n",
       "    <tr>\n",
       "      <th>4</th>\n",
       "      <td>0.051196</td>\n",
       "      <td>0.345795</td>\n",
       "      <td>0.493620</td>\n",
       "      <td>0.413110</td>\n",
       "      <td>0.738555</td>\n",
       "      <td>0.239273</td>\n",
       "      <td>-0.406919</td>\n",
       "    </tr>\n",
       "  </tbody>\n",
       "</table>\n",
       "</div>"
      ],
      "text/plain": [
       "      BSTAR  INCLINATION  RA_OF_ASC_NODE  ECCENTRICITY  ARG_OF_PERICENTER  \\\n",
       "0 -0.010632     0.345719        0.680316      0.423572           0.088902   \n",
       "1  0.009629     0.345688        0.739830      0.423548           0.083611   \n",
       "2  0.008059     0.345690        0.706918      0.423494           0.086567   \n",
       "3  0.006959     0.345662        0.726755      0.423515           0.084929   \n",
       "4  0.051196     0.345795        0.493620      0.413110           0.738555   \n",
       "\n",
       "   MEAN_ANOMALY  MEAN_MOTION  \n",
       "0      0.923566    -0.433865  \n",
       "1      0.928187    -0.433860  \n",
       "2      0.925581    -0.433848  \n",
       "3      0.927034    -0.433859  \n",
       "4      0.239273    -0.406919  "
      ]
     },
     "execution_count": 27,
     "metadata": {},
     "output_type": "execute_result"
    }
   ],
   "source": [
    "y_train.head()"
   ]
  },
  {
   "cell_type": "code",
   "execution_count": 22,
   "metadata": {},
   "outputs": [
    {
     "data": {
      "text/html": [
       "<div>\n",
       "<style scoped>\n",
       "    .dataframe tbody tr th:only-of-type {\n",
       "        vertical-align: middle;\n",
       "    }\n",
       "\n",
       "    .dataframe tbody tr th {\n",
       "        vertical-align: top;\n",
       "    }\n",
       "\n",
       "    .dataframe thead th {\n",
       "        text-align: right;\n",
       "    }\n",
       "</style>\n",
       "<table border=\"1\" class=\"dataframe\">\n",
       "  <thead>\n",
       "    <tr style=\"text-align: right;\">\n",
       "      <th></th>\n",
       "      <th>BSTAR</th>\n",
       "      <th>INCLINATION</th>\n",
       "      <th>RA_OF_ASC_NODE</th>\n",
       "      <th>ECCENTRICITY</th>\n",
       "      <th>ARG_OF_PERICENTER</th>\n",
       "      <th>MEAN_ANOMALY</th>\n",
       "      <th>MEAN_MOTION</th>\n",
       "    </tr>\n",
       "  </thead>\n",
       "  <tbody>\n",
       "    <tr>\n",
       "      <th>0</th>\n",
       "      <td>0.011917</td>\n",
       "      <td>0.4617</td>\n",
       "      <td>0.509508</td>\n",
       "      <td>0.218454</td>\n",
       "      <td>0.480358</td>\n",
       "      <td>0.520032</td>\n",
       "      <td>0.003095</td>\n",
       "    </tr>\n",
       "    <tr>\n",
       "      <th>1</th>\n",
       "      <td>0.011917</td>\n",
       "      <td>0.4617</td>\n",
       "      <td>0.509508</td>\n",
       "      <td>0.218454</td>\n",
       "      <td>0.480358</td>\n",
       "      <td>0.520032</td>\n",
       "      <td>0.003095</td>\n",
       "    </tr>\n",
       "    <tr>\n",
       "      <th>2</th>\n",
       "      <td>0.011917</td>\n",
       "      <td>0.4617</td>\n",
       "      <td>0.509508</td>\n",
       "      <td>0.218454</td>\n",
       "      <td>0.480358</td>\n",
       "      <td>0.520032</td>\n",
       "      <td>0.003095</td>\n",
       "    </tr>\n",
       "    <tr>\n",
       "      <th>3</th>\n",
       "      <td>0.011917</td>\n",
       "      <td>0.4617</td>\n",
       "      <td>0.509508</td>\n",
       "      <td>0.218454</td>\n",
       "      <td>0.480358</td>\n",
       "      <td>0.520032</td>\n",
       "      <td>0.003095</td>\n",
       "    </tr>\n",
       "    <tr>\n",
       "      <th>4</th>\n",
       "      <td>0.011917</td>\n",
       "      <td>0.4617</td>\n",
       "      <td>0.509508</td>\n",
       "      <td>0.218454</td>\n",
       "      <td>0.480358</td>\n",
       "      <td>0.520032</td>\n",
       "      <td>0.003095</td>\n",
       "    </tr>\n",
       "  </tbody>\n",
       "</table>\n",
       "</div>"
      ],
      "text/plain": [
       "      BSTAR  INCLINATION  RA_OF_ASC_NODE  ECCENTRICITY  ARG_OF_PERICENTER  \\\n",
       "0  0.011917       0.4617        0.509508      0.218454           0.480358   \n",
       "1  0.011917       0.4617        0.509508      0.218454           0.480358   \n",
       "2  0.011917       0.4617        0.509508      0.218454           0.480358   \n",
       "3  0.011917       0.4617        0.509508      0.218454           0.480358   \n",
       "4  0.011917       0.4617        0.509508      0.218454           0.480358   \n",
       "\n",
       "   MEAN_ANOMALY  MEAN_MOTION  \n",
       "0      0.520032     0.003095  \n",
       "1      0.520032     0.003095  \n",
       "2      0.520032     0.003095  \n",
       "3      0.520032     0.003095  \n",
       "4      0.520032     0.003095  "
      ]
     },
     "execution_count": 22,
     "metadata": {},
     "output_type": "execute_result"
    }
   ],
   "source": [
    "y_pred = train.predict(model, X_train) # get predictions for each train\n",
    "y_pred_df = pd.DataFrame(y_pred, columns=train_df.columns[:-2])  # put results into a dataframe\n",
    "clean_data.normalize_all_columns(y_pred_df, reverse=True)  # reverse the normalization"
   ]
  },
  {
   "cell_type": "markdown",
   "metadata": {},
   "source": [
    "## Distribution of Raw Columns"
   ]
  },
  {
   "cell_type": "code",
   "execution_count": 5,
   "metadata": {},
   "outputs": [
    {
     "data": {
      "image/png": "[encoded data removed]",
      "text/plain": [
       "<Figure size 432x288 with 1 Axes>"
      ]
     },
     "metadata": {
      "needs_background": "light"
     },
     "output_type": "display_data"
    },
    {
     "data": {
      "image/png": "[encoded data removed]",
      "text/plain": [
       "<Figure size 432x288 with 1 Axes>"
      ]
     },
     "metadata": {
      "needs_background": "light"
     },
     "output_type": "display_data"
    }
   ],
   "source": [
    "import matplotlib.pyplot as plt\n",
    "import seaborn as sns\n",
    "\n",
    "sns.histplot(df,x='MEAN_MOTION')\n",
    "plt.show()\n",
    "\n",
    "sns.histplot(df,x='ECCENTRICITY')\n",
    "plt.show()"
   ]
  },
  {
   "cell_type": "code",
   "execution_count": 6,
   "metadata": {},
   "outputs": [
    {
     "data": {
      "image/png": "[encoded data removed]",
      "text/plain": [
       "<Figure size 432x288 with 1 Axes>"
      ]
     },
     "metadata": {
      "needs_background": "light"
     },
     "output_type": "display_data"
    }
   ],
   "source": [
    "sns.histplot(df,x='BSTAR')\n",
    "plt.show()"
   ]
  },
  {
   "cell_type": "code",
   "execution_count": null,
   "metadata": {},
   "outputs": [],
   "source": []
  },
  {
   "cell_type": "markdown",
   "metadata": {},
   "source": [
    "## Load Cleaned data"
   ]
  },
  {
   "cell_type": "code",
   "execution_count": 1,
   "metadata": {},
   "outputs": [
    {
     "name": "stdout",
     "output_type": "stream",
     "text": [
      "Wall time: 26.6 s\n"
     ]
    }
   ],
   "source": [
    "import pandas as pd\n",
    "import os\n",
    "\n",
    "files = ['train']\n",
    "model_cols = ['MEAN_MOTION_DOT', 'MEAN_MOTION_DDOT', 'BSTAR', 'INCLINATION', 'RA_OF_ASC_NODE',\n",
    "              'ECCENTRICITY', 'ARG_OF_PERICENTER', 'MEAN_ANOMALY', 'MEAN_MOTION', 'epoch_jd', 'epoch_fr']\n",
    "\n",
    "%time df = pd.read_pickle(os.environ['GP_HIST_PATH'] + '/cleaned/train_clean.pkl')  # Takes about 20s"
   ]
  },
  {
   "cell_type": "code",
   "execution_count": 5,
   "metadata": {},
   "outputs": [
    {
     "data": {
      "text/html": [
       "<div>\n",
       "<style scoped>\n",
       "    .dataframe tbody tr th:only-of-type {\n",
       "        vertical-align: middle;\n",
       "    }\n",
       "\n",
       "    .dataframe tbody tr th {\n",
       "        vertical-align: top;\n",
       "    }\n",
       "\n",
       "    .dataframe thead th {\n",
       "        text-align: right;\n",
       "    }\n",
       "</style>\n",
       "<table border=\"1\" class=\"dataframe\">\n",
       "  <thead>\n",
       "    <tr style=\"text-align: right;\">\n",
       "      <th></th>\n",
       "      <th>MEAN_MOTION_DOT</th>\n",
       "      <th>MEAN_MOTION_DDOT</th>\n",
       "      <th>BSTAR</th>\n",
       "      <th>INCLINATION</th>\n",
       "      <th>RA_OF_ASC_NODE</th>\n",
       "      <th>ECCENTRICITY</th>\n",
       "      <th>ARG_OF_PERICENTER</th>\n",
       "      <th>MEAN_ANOMALY</th>\n",
       "      <th>MEAN_MOTION</th>\n",
       "      <th>epoch_jd</th>\n",
       "      <th>epoch_fr</th>\n",
       "    </tr>\n",
       "  </thead>\n",
       "  <tbody>\n",
       "    <tr>\n",
       "      <th>0</th>\n",
       "      <td>1.801000e-05</td>\n",
       "      <td>0.0</td>\n",
       "      <td>0.002592</td>\n",
       "      <td>62.2415</td>\n",
       "      <td>180.1561</td>\n",
       "      <td>0.070489</td>\n",
       "      <td>265.6761</td>\n",
       "      <td>86.2771</td>\n",
       "      <td>12.852684</td>\n",
       "      <td>2453122.5</td>\n",
       "      <td>0.596391</td>\n",
       "    </tr>\n",
       "    <tr>\n",
       "      <th>1</th>\n",
       "      <td>-2.000000e-08</td>\n",
       "      <td>0.0</td>\n",
       "      <td>0.000100</td>\n",
       "      <td>73.3600</td>\n",
       "      <td>345.6887</td>\n",
       "      <td>0.008815</td>\n",
       "      <td>270.3999</td>\n",
       "      <td>88.6911</td>\n",
       "      <td>12.642166</td>\n",
       "      <td>2453122.5</td>\n",
       "      <td>0.666444</td>\n",
       "    </tr>\n",
       "    <tr>\n",
       "      <th>2</th>\n",
       "      <td>1.280000e-05</td>\n",
       "      <td>0.0</td>\n",
       "      <td>0.001076</td>\n",
       "      <td>83.0239</td>\n",
       "      <td>250.9465</td>\n",
       "      <td>0.008493</td>\n",
       "      <td>184.3222</td>\n",
       "      <td>175.7249</td>\n",
       "      <td>13.856401</td>\n",
       "      <td>2453122.5</td>\n",
       "      <td>0.823075</td>\n",
       "    </tr>\n",
       "    <tr>\n",
       "      <th>3</th>\n",
       "      <td>1.320000e-06</td>\n",
       "      <td>0.0</td>\n",
       "      <td>0.000166</td>\n",
       "      <td>70.9841</td>\n",
       "      <td>207.4830</td>\n",
       "      <td>0.020756</td>\n",
       "      <td>161.3777</td>\n",
       "      <td>199.5075</td>\n",
       "      <td>13.715209</td>\n",
       "      <td>2453122.5</td>\n",
       "      <td>0.654993</td>\n",
       "    </tr>\n",
       "    <tr>\n",
       "      <th>4</th>\n",
       "      <td>2.280000e-06</td>\n",
       "      <td>0.0</td>\n",
       "      <td>0.000739</td>\n",
       "      <td>90.1460</td>\n",
       "      <td>192.1834</td>\n",
       "      <td>0.002746</td>\n",
       "      <td>300.4617</td>\n",
       "      <td>59.3655</td>\n",
       "      <td>12.992417</td>\n",
       "      <td>2453122.5</td>\n",
       "      <td>0.154908</td>\n",
       "    </tr>\n",
       "  </tbody>\n",
       "</table>\n",
       "</div>"
      ],
      "text/plain": [
       "   MEAN_MOTION_DOT  MEAN_MOTION_DDOT     BSTAR  INCLINATION  RA_OF_ASC_NODE  \\\n",
       "0     1.801000e-05               0.0  0.002592      62.2415        180.1561   \n",
       "1    -2.000000e-08               0.0  0.000100      73.3600        345.6887   \n",
       "2     1.280000e-05               0.0  0.001076      83.0239        250.9465   \n",
       "3     1.320000e-06               0.0  0.000166      70.9841        207.4830   \n",
       "4     2.280000e-06               0.0  0.000739      90.1460        192.1834   \n",
       "\n",
       "   ECCENTRICITY  ARG_OF_PERICENTER  MEAN_ANOMALY  MEAN_MOTION   epoch_jd  \\\n",
       "0      0.070489           265.6761       86.2771    12.852684  2453122.5   \n",
       "1      0.008815           270.3999       88.6911    12.642166  2453122.5   \n",
       "2      0.008493           184.3222      175.7249    13.856401  2453122.5   \n",
       "3      0.020756           161.3777      199.5075    13.715209  2453122.5   \n",
       "4      0.002746           300.4617       59.3655    12.992417  2453122.5   \n",
       "\n",
       "   epoch_fr  \n",
       "0  0.596391  \n",
       "1  0.666444  \n",
       "2  0.823075  \n",
       "3  0.654993  \n",
       "4  0.154908  "
      ]
     },
     "execution_count": 5,
     "metadata": {},
     "output_type": "execute_result"
    }
   ],
   "source": [
    "df[model_cols].head()"
   ]
  },
  {
   "cell_type": "code",
   "execution_count": 2,
   "metadata": {},
   "outputs": [
    {
     "data": {
      "text/html": [
       "<div>\n",
       "<style scoped>\n",
       "    .dataframe tbody tr th:only-of-type {\n",
       "        vertical-align: middle;\n",
       "    }\n",
       "\n",
       "    .dataframe tbody tr th {\n",
       "        vertical-align: top;\n",
       "    }\n",
       "\n",
       "    .dataframe thead th {\n",
       "        text-align: right;\n",
       "    }\n",
       "</style>\n",
       "<table border=\"1\" class=\"dataframe\">\n",
       "  <thead>\n",
       "    <tr style=\"text-align: right;\">\n",
       "      <th></th>\n",
       "      <th>MEAN_MOTION_DOT</th>\n",
       "      <th>MEAN_MOTION_DDOT</th>\n",
       "      <th>BSTAR</th>\n",
       "      <th>INCLINATION</th>\n",
       "      <th>RA_OF_ASC_NODE</th>\n",
       "      <th>ECCENTRICITY</th>\n",
       "      <th>ARG_OF_PERICENTER</th>\n",
       "      <th>MEAN_ANOMALY</th>\n",
       "      <th>MEAN_MOTION</th>\n",
       "      <th>epoch_jd</th>\n",
       "      <th>epoch_fr</th>\n",
       "    </tr>\n",
       "  </thead>\n",
       "  <tbody>\n",
       "    <tr>\n",
       "      <th>count</th>\n",
       "      <td>5.489969e+07</td>\n",
       "      <td>5.489969e+07</td>\n",
       "      <td>5.489969e+07</td>\n",
       "      <td>5.489969e+07</td>\n",
       "      <td>5.489969e+07</td>\n",
       "      <td>5.489969e+07</td>\n",
       "      <td>5.489969e+07</td>\n",
       "      <td>5.489969e+07</td>\n",
       "      <td>5.489969e+07</td>\n",
       "      <td>5.489969e+07</td>\n",
       "      <td>5.489969e+07</td>\n",
       "    </tr>\n",
       "    <tr>\n",
       "      <th>mean</th>\n",
       "      <td>1.560643e-04</td>\n",
       "      <td>5.485870e-01</td>\n",
       "      <td>1.459784e-03</td>\n",
       "      <td>8.419035e+01</td>\n",
       "      <td>1.801053e+02</td>\n",
       "      <td>2.158388e-02</td>\n",
       "      <td>1.784617e+02</td>\n",
       "      <td>1.812822e+02</td>\n",
       "      <td>1.375314e+01</td>\n",
       "      <td>2.454094e+06</td>\n",
       "      <td>5.318159e-01</td>\n",
       "    </tr>\n",
       "    <tr>\n",
       "      <th>std</th>\n",
       "      <td>3.745641e-03</td>\n",
       "      <td>1.782031e+03</td>\n",
       "      <td>5.064926e-02</td>\n",
       "      <td>1.819075e+01</td>\n",
       "      <td>1.038900e+02</td>\n",
       "      <td>4.841379e-02</td>\n",
       "      <td>1.038260e+02</td>\n",
       "      <td>1.055550e+02</td>\n",
       "      <td>2.212779e+00</td>\n",
       "      <td>4.091497e+03</td>\n",
       "      <td>2.969824e-01</td>\n",
       "    </tr>\n",
       "    <tr>\n",
       "      <th>min</th>\n",
       "      <td>-1.000000e+00</td>\n",
       "      <td>-3.086700e-01</td>\n",
       "      <td>-2.618100e+01</td>\n",
       "      <td>9.900000e-03</td>\n",
       "      <td>0.000000e+00</td>\n",
       "      <td>0.000000e+00</td>\n",
       "      <td>0.000000e+00</td>\n",
       "      <td>0.000000e+00</td>\n",
       "      <td>2.981056e-01</td>\n",
       "      <td>2.437162e+06</td>\n",
       "      <td>0.000000e+00</td>\n",
       "    </tr>\n",
       "    <tr>\n",
       "      <th>25%</th>\n",
       "      <td>6.400000e-07</td>\n",
       "      <td>0.000000e+00</td>\n",
       "      <td>1.000000e-04</td>\n",
       "      <td>7.099900e+01</td>\n",
       "      <td>9.012995e+01</td>\n",
       "      <td>4.108700e-03</td>\n",
       "      <td>8.862640e+01</td>\n",
       "      <td>8.851405e+01</td>\n",
       "      <td>1.340196e+01</td>\n",
       "      <td>2.451312e+06</td>\n",
       "      <td>2.636590e-01</td>\n",
       "    </tr>\n",
       "    <tr>\n",
       "      <th>50%</th>\n",
       "      <td>4.820000e-06</td>\n",
       "      <td>0.000000e+00</td>\n",
       "      <td>2.594200e-04</td>\n",
       "      <td>8.913500e+01</td>\n",
       "      <td>1.801751e+02</td>\n",
       "      <td>9.078400e-03</td>\n",
       "      <td>1.769953e+02</td>\n",
       "      <td>1.823633e+02</td>\n",
       "      <td>1.398493e+01</td>\n",
       "      <td>2.454960e+06</td>\n",
       "      <td>5.449818e-01</td>\n",
       "    </tr>\n",
       "    <tr>\n",
       "      <th>75%</th>\n",
       "      <td>2.016000e-05</td>\n",
       "      <td>0.000000e+00</td>\n",
       "      <td>8.218200e-04</td>\n",
       "      <td>9.902480e+01</td>\n",
       "      <td>2.702199e+02</td>\n",
       "      <td>1.980150e-02</td>\n",
       "      <td>2.682896e+02</td>\n",
       "      <td>2.741587e+02</td>\n",
       "      <td>1.436245e+01</td>\n",
       "      <td>2.457680e+06</td>\n",
       "      <td>8.065955e-01</td>\n",
       "    </tr>\n",
       "    <tr>\n",
       "      <th>max</th>\n",
       "      <td>1.000000e+00</td>\n",
       "      <td>8.437400e+06</td>\n",
       "      <td>3.014907e+02</td>\n",
       "      <td>1.446946e+02</td>\n",
       "      <td>3.600000e+02</td>\n",
       "      <td>9.301648e-01</td>\n",
       "      <td>3.600000e+02</td>\n",
       "      <td>9.999999e+02</td>\n",
       "      <td>1.425793e+04</td>\n",
       "      <td>2.459298e+06</td>\n",
       "      <td>1.000000e+00</td>\n",
       "    </tr>\n",
       "  </tbody>\n",
       "</table>\n",
       "</div>"
      ],
      "text/plain": [
       "       MEAN_MOTION_DOT  MEAN_MOTION_DDOT         BSTAR   INCLINATION  \\\n",
       "count     5.489969e+07      5.489969e+07  5.489969e+07  5.489969e+07   \n",
       "mean      1.560643e-04      5.485870e-01  1.459784e-03  8.419035e+01   \n",
       "std       3.745641e-03      1.782031e+03  5.064926e-02  1.819075e+01   \n",
       "min      -1.000000e+00     -3.086700e-01 -2.618100e+01  9.900000e-03   \n",
       "25%       6.400000e-07      0.000000e+00  1.000000e-04  7.099900e+01   \n",
       "50%       4.820000e-06      0.000000e+00  2.594200e-04  8.913500e+01   \n",
       "75%       2.016000e-05      0.000000e+00  8.218200e-04  9.902480e+01   \n",
       "max       1.000000e+00      8.437400e+06  3.014907e+02  1.446946e+02   \n",
       "\n",
       "       RA_OF_ASC_NODE  ECCENTRICITY  ARG_OF_PERICENTER  MEAN_ANOMALY  \\\n",
       "count    5.489969e+07  5.489969e+07       5.489969e+07  5.489969e+07   \n",
       "mean     1.801053e+02  2.158388e-02       1.784617e+02  1.812822e+02   \n",
       "std      1.038900e+02  4.841379e-02       1.038260e+02  1.055550e+02   \n",
       "min      0.000000e+00  0.000000e+00       0.000000e+00  0.000000e+00   \n",
       "25%      9.012995e+01  4.108700e-03       8.862640e+01  8.851405e+01   \n",
       "50%      1.801751e+02  9.078400e-03       1.769953e+02  1.823633e+02   \n",
       "75%      2.702199e+02  1.980150e-02       2.682896e+02  2.741587e+02   \n",
       "max      3.600000e+02  9.301648e-01       3.600000e+02  9.999999e+02   \n",
       "\n",
       "        MEAN_MOTION      epoch_jd      epoch_fr  \n",
       "count  5.489969e+07  5.489969e+07  5.489969e+07  \n",
       "mean   1.375314e+01  2.454094e+06  5.318159e-01  \n",
       "std    2.212779e+00  4.091497e+03  2.969824e-01  \n",
       "min    2.981056e-01  2.437162e+06  0.000000e+00  \n",
       "25%    1.340196e+01  2.451312e+06  2.636590e-01  \n",
       "50%    1.398493e+01  2.454960e+06  5.449818e-01  \n",
       "75%    1.436245e+01  2.457680e+06  8.065955e-01  \n",
       "max    1.425793e+04  2.459298e+06  1.000000e+00  "
      ]
     },
     "execution_count": 2,
     "metadata": {},
     "output_type": "execute_result"
    }
   ],
   "source": [
    "df[model_cols].describe()"
   ]
  },
  {
   "cell_type": "code",
   "execution_count": 3,
   "metadata": {},
   "outputs": [
    {
     "name": "stderr",
     "output_type": "stream",
     "text": [
      "C:\\ProgramData\\Anaconda3\\envs\\cmtle\\lib\\site-packages\\seaborn\\distributions.py:2551: FutureWarning: `distplot` is a deprecated function and will be removed in a future version. Please adapt your code to use either `displot` (a figure-level function with similar flexibility) or `histplot` (an axes-level function for histograms).\n",
      "  warnings.warn(msg, FutureWarning)\n"
     ]
    },
    {
     "data": {
      "image/png": "[encoded data removed]",
      "text/plain": [
       "<Figure size 432x288 with 1 Axes>"
      ]
     },
     "metadata": {
      "needs_background": "light"
     },
     "output_type": "display_data"
    }
   ],
   "source": [
    "import matplotlib.pyplot as plt\n",
    "import seaborn as sns\n",
    "\n",
    "sns.distplot(df['MEAN_MOTION_DOT']);"
   ]
  },
  {
   "cell_type": "code",
   "execution_count": 6,
   "metadata": {},
   "outputs": [
    {
     "ename": "ModuleNotFoundError",
     "evalue": "No module named 'pandas_profiling'",
     "output_type": "error",
     "traceback": [
      "\u001b[1;31m---------------------------------------------------------------------------\u001b[0m",
      "\u001b[1;31mModuleNotFoundError\u001b[0m                       Traceback (most recent call last)",
      "\u001b[1;32m<ipython-input-6-e2a33329b6f0>\u001b[0m in \u001b[0;36m<module>\u001b[1;34m\u001b[0m\n\u001b[1;32m----> 1\u001b[1;33m \u001b[1;32mfrom\u001b[0m \u001b[0mpandas_profiling\u001b[0m \u001b[1;32mimport\u001b[0m \u001b[0mProfileReport\u001b[0m\u001b[1;33m\u001b[0m\u001b[1;33m\u001b[0m\u001b[0m\n\u001b[0m",
      "\u001b[1;31mModuleNotFoundError\u001b[0m: No module named 'pandas_profiling'"
     ]
    }
   ],
   "source": [
    "from pandas_profiling import ProfileReport"
   ]
  },
  {
   "cell_type": "markdown",
   "metadata": {},
   "source": [
    "## First model"
   ]
  },
  {
   "cell_type": "code",
   "execution_count": 10,
   "metadata": {},
   "outputs": [
    {
     "name": "stdout",
     "output_type": "stream",
     "text": [
      "Wall time: 10.6 s\n"
     ]
    }
   ],
   "source": [
    "import numpy as np\n",
    "\n",
    "def create_index_map(df):\n",
    "    '''\n",
    "    This will create a map between an input record (for X_train) and\n",
    "    a label record (for y_train) that will be used by the pytorch\n",
    "    dataset class to dynamically build a dataset without taking up\n",
    "    more space than is necessary.\n",
    "    '''\n",
    "    \n",
    "    # ML Structure\n",
    "    # Input:\n",
    "    #  - Reference TLE Data (+ EPOCH)\n",
    "    #  - Target EPOCH\n",
    "    # Output:\n",
    "    #  - Target TLE Data\n",
    "    \n",
    "    def groups(lst):\n",
    "        arr = lst.copy()\n",
    "        np.random.shuffle(arr)\n",
    "        i=1\n",
    "        if len(lst)<=1:\n",
    "            return\n",
    "        while True:\n",
    "            if i==len(lst):\n",
    "                yield tuple((arr[i-1],arr[0]))\n",
    "                break\n",
    "            else:\n",
    "                yield tuple((arr[i-1],arr[i]))\n",
    "                i+=1\n",
    "    \n",
    "    # For each unique NORAD, find all TLE indexes and generate\n",
    "    # a list of combinations\n",
    "    idx_pairs = []\n",
    "    for norad in df['NORAD_CAT_ID'].unique():\n",
    "        norad_idxs = df[df['NORAD_CAT_ID']==norad].index.values\n",
    "        if len(norad_idxs > 1):\n",
    "            idx_pairs.extend(groups(norad_idxs))\n",
    "    idx_pairs = np.array(idx_pairs)\n",
    "    \n",
    "#     # Build our X/Y datasets\n",
    "#     X_all = df.loc[idx_pairs[:,0]].reset_index()\n",
    "#     Y_all = df.loc[idx_pairs[:,1]].reset_index()\n",
    "    \n",
    "#     # This will be the column that links x and y\n",
    "#     key_columns = ['epoch_jd', 'epoch_fr']\n",
    "#     target_columns = ['target_epoch_jd', 'target_epoch_fr']\n",
    "#     X_all[target_columns] = Y_all[key_columns]\n",
    "    \n",
    "    return idx_pairs\n",
    "\n",
    "%time idx_pairs = create_index_map(df)  # 16min - look at ways to improve this through parallelism/concurrency"
   ]
  },
  {
   "cell_type": "code",
   "execution_count": 11,
   "metadata": {},
   "outputs": [
    {
     "data": {
      "text/plain": [
       "tensor([ 1.8010e-05,  0.0000e+00,  2.5919e-03,  3.4579e-01,  5.0043e-01,\n",
       "         4.1309e-01,  7.3799e-01,  2.3966e-01, -4.0693e-01,  2.4531e+06,\n",
       "         5.9639e-01,  2.4531e+06,  6.6644e-01], dtype=torch.float64)"
      ]
     },
     "metadata": {},
     "output_type": "display_data"
    },
    {
     "data": {
      "text/plain": [
       "tensor([-2.0000e-08,  0.0000e+00,  1.0000e-04,  4.0756e-01,  9.6025e-01,\n",
       "         2.0657e-01,  7.5111e-01,  2.4636e-01, -5.0207e-01],\n",
       "       dtype=torch.float64)"
      ]
     },
     "metadata": {},
     "output_type": "display_data"
    }
   ],
   "source": [
    "# Test the dataset structure method\n",
    "import torch\n",
    "\n",
    "model_cols = ['MEAN_MOTION_DOT', 'MEAN_MOTION_DDOT', 'BSTAR', 'INCLINATION', 'RA_OF_ASC_NODE',\n",
    "              'ECCENTRICITY', 'ARG_OF_PERICENTER', 'MEAN_ANOMALY', 'MEAN_MOTION', 'epoch_jd', 'epoch_fr']\n",
    "\n",
    "tmp_df = df.iloc[:10][model_cols].copy()\n",
    "t1 = torch.from_numpy(tmp_df.to_numpy())  # data\n",
    "t2 = torch.tensor([(0,1),(1,2)])\n",
    "\n",
    "index = 0\n",
    "p = t2[index]\n",
    "X = torch.cat((t1[p[0]], t1[p[1]][-2:]), 0)\n",
    "y = t1[p[1]][:-2]\n",
    "display(X)\n",
    "display(y)"
   ]
  },
  {
   "cell_type": "code",
   "execution_count": 10,
   "metadata": {},
   "outputs": [],
   "source": [
    "import torch\n",
    "import torch.nn as nn\n",
    "torch.manual_seed(0)\n",
    "\n",
    "hiddenSize = 300\n",
    "batchSize = 200\n",
    "learningRate = 0.01\n",
    "numEpochs = 10\n",
    "\n",
    "model_cols = ['MEAN_MOTION_DOT', 'MEAN_MOTION_DDOT', 'BSTAR', 'INCLINATION', 'RA_OF_ASC_NODE',\n",
    "              'ECCENTRICITY', 'ARG_OF_PERICENTER', 'MEAN_ANOMALY', 'MEAN_MOTION', 'epoch_jd', 'epoch_fr']\n",
    "\n",
    "#device = torch.device('cpu')\n",
    "device = torch.device('cuda')\n",
    "\n",
    "def to_device(data, device):\n",
    "    \"\"\"Move tensor(s) to chosen device\"\"\"\n",
    "    if isinstance(data, (list,tuple)):\n",
    "        return [to_device(x, device) for x in data]\n",
    "    return data.to(device, non_blocking=True)\n",
    "\n",
    "class Dataset(torch.utils.data.Dataset):\n",
    "    'Characterizes a dataset for PyTorch'\n",
    "    def __init__(self, data, idx_pairs, device='cpu'):\n",
    "        'Initialization'\n",
    "        self.data = to_device(torch.from_numpy(data.to_numpy()).float(), device)\n",
    "        self.idx_pairs = to_device(torch.from_numpy(idx_pairs).long(), device)\n",
    "\n",
    "    def __len__(self):\n",
    "        'Denotes the total number of samples'\n",
    "        return len(self.idx_pairs)\n",
    "\n",
    "    def __getitem__(self, index):\n",
    "        'Generates one sample of data'\n",
    "        p = self.idx_pairs[index]\n",
    "        \n",
    "        # This will use the idx_pairs (x,y) to build the inputs(X) and labels (y)\n",
    "        # output.  It adds the last 2 columns of y to X and removes them from y.\n",
    "        X = torch.cat((self.data[p[0]], self.data[p[1]][-2:]), 0)\n",
    "        y = self.data[p[1]][:-2]\n",
    "\n",
    "        return X, y"
   ]
  },
  {
   "cell_type": "code",
   "execution_count": 11,
   "metadata": {},
   "outputs": [],
   "source": [
    "class NNModel(nn.Module):\n",
    "    def __init__(self, inputSize, outputSize, hiddenSize, activate=None):\n",
    "        super().__init__()\n",
    "        self.activate = nn.Sigmoid() if activate == \"Sigmoid\" else nn.Tanh() if activate == \"Tanh\" else nn.ReLU()\n",
    "        self.layer1 = nn.Linear(inputSize, hiddenSize)\n",
    "        self.layer2 = nn.Linear(hiddenSize, outputSize)\n",
    "\n",
    "    def forward(self, X):\n",
    "        hidden = self.activate(self.layer1(X))\n",
    "        return self.layer2(hidden)\n",
    "        \n",
    "        \n",
    "net = NNModel(len(model_cols) + 2, len(model_cols) - 2, hiddenSize)\n",
    "to_device(net, device)\n",
    "criterion = nn.L1Loss()\n",
    "optimizer = torch.optim.Adam(net.parameters(), lr=learningRate)\n",
    "\n",
    "trainDataset = Dataset(df[model_cols], idx_pairs, device)\n",
    "trainLoader = torch.utils.data.DataLoader(dataset=trainDataset,\n",
    "                                          batch_size=batchSize,\n",
    "                                          shuffle=True,\n",
    "                                         )"
   ]
  },
  {
   "cell_type": "code",
   "execution_count": 12,
   "metadata": {},
   "outputs": [
    {
     "name": "stdout",
     "output_type": "stream",
     "text": [
      ">>> Beginning training!\n",
      "Epoch [1/10], Step [1000/274498], Loss: 67.85113525390625\n",
      "Epoch [1/10], Step [2000/274498], Loss: 61.399200439453125\n",
      "Epoch [1/10], Step [3000/274498], Loss: 59.910133361816406\n",
      "Epoch [1/10], Step [4000/274498], Loss: 55.3093376159668\n",
      "Epoch [1/10], Step [5000/274498], Loss: 51.05797576904297\n",
      "Epoch [1/10], Step [6000/274498], Loss: 47.72842025756836\n",
      "Epoch [1/10], Step [7000/274498], Loss: 44.89704513549805\n",
      "Epoch [1/10], Step [8000/274498], Loss: 43.87120819091797\n",
      "Epoch [1/10], Step [9000/274498], Loss: 40.73126983642578\n",
      "Epoch [1/10], Step [10000/274498], Loss: 39.8402099609375\n",
      "Epoch [1/10], Step [11000/274498], Loss: 38.2437858581543\n",
      "Epoch [1/10], Step [12000/274498], Loss: 36.390560150146484\n",
      "Epoch [1/10], Step [13000/274498], Loss: 36.37118911743164\n",
      "Epoch [1/10], Step [14000/274498], Loss: 35.300994873046875\n",
      "Epoch [1/10], Step [15000/274498], Loss: 33.36863327026367\n",
      "Epoch [1/10], Step [16000/274498], Loss: 34.209449768066406\n",
      "Epoch [1/10], Step [17000/274498], Loss: 31.910959243774414\n",
      "Epoch [1/10], Step [18000/274498], Loss: 31.74004364013672\n",
      "Epoch [1/10], Step [19000/274498], Loss: 32.15423583984375\n"
     ]
    },
    {
     "ename": "KeyboardInterrupt",
     "evalue": "",
     "output_type": "error",
     "traceback": [
      "\u001b[1;31m---------------------------------------------------------------------------\u001b[0m",
      "\u001b[1;31mKeyboardInterrupt\u001b[0m                         Traceback (most recent call last)",
      "\u001b[1;32m<timed exec>\u001b[0m in \u001b[0;36m<module>\u001b[1;34m\u001b[0m\n",
      "\u001b[1;32mC:\\ProgramData\\Anaconda3\\envs\\cmtle\\lib\\site-packages\\torch\\utils\\data\\dataloader.py\u001b[0m in \u001b[0;36m__next__\u001b[1;34m(self)\u001b[0m\n\u001b[0;32m    515\u001b[0m             \u001b[1;32mif\u001b[0m \u001b[0mself\u001b[0m\u001b[1;33m.\u001b[0m\u001b[0m_sampler_iter\u001b[0m \u001b[1;32mis\u001b[0m \u001b[1;32mNone\u001b[0m\u001b[1;33m:\u001b[0m\u001b[1;33m\u001b[0m\u001b[1;33m\u001b[0m\u001b[0m\n\u001b[0;32m    516\u001b[0m                 \u001b[0mself\u001b[0m\u001b[1;33m.\u001b[0m\u001b[0m_reset\u001b[0m\u001b[1;33m(\u001b[0m\u001b[1;33m)\u001b[0m\u001b[1;33m\u001b[0m\u001b[1;33m\u001b[0m\u001b[0m\n\u001b[1;32m--> 517\u001b[1;33m             \u001b[0mdata\u001b[0m \u001b[1;33m=\u001b[0m \u001b[0mself\u001b[0m\u001b[1;33m.\u001b[0m\u001b[0m_next_data\u001b[0m\u001b[1;33m(\u001b[0m\u001b[1;33m)\u001b[0m\u001b[1;33m\u001b[0m\u001b[1;33m\u001b[0m\u001b[0m\n\u001b[0m\u001b[0;32m    518\u001b[0m             \u001b[0mself\u001b[0m\u001b[1;33m.\u001b[0m\u001b[0m_num_yielded\u001b[0m \u001b[1;33m+=\u001b[0m \u001b[1;36m1\u001b[0m\u001b[1;33m\u001b[0m\u001b[1;33m\u001b[0m\u001b[0m\n\u001b[0;32m    519\u001b[0m             \u001b[1;32mif\u001b[0m \u001b[0mself\u001b[0m\u001b[1;33m.\u001b[0m\u001b[0m_dataset_kind\u001b[0m \u001b[1;33m==\u001b[0m \u001b[0m_DatasetKind\u001b[0m\u001b[1;33m.\u001b[0m\u001b[0mIterable\u001b[0m \u001b[1;32mand\u001b[0m\u001b[0;31m \u001b[0m\u001b[0;31m\\\u001b[0m\u001b[1;33m\u001b[0m\u001b[1;33m\u001b[0m\u001b[0m\n",
      "\u001b[1;32mC:\\ProgramData\\Anaconda3\\envs\\cmtle\\lib\\site-packages\\torch\\utils\\data\\dataloader.py\u001b[0m in \u001b[0;36m_next_data\u001b[1;34m(self)\u001b[0m\n\u001b[0;32m    555\u001b[0m     \u001b[1;32mdef\u001b[0m \u001b[0m_next_data\u001b[0m\u001b[1;33m(\u001b[0m\u001b[0mself\u001b[0m\u001b[1;33m)\u001b[0m\u001b[1;33m:\u001b[0m\u001b[1;33m\u001b[0m\u001b[1;33m\u001b[0m\u001b[0m\n\u001b[0;32m    556\u001b[0m         \u001b[0mindex\u001b[0m \u001b[1;33m=\u001b[0m \u001b[0mself\u001b[0m\u001b[1;33m.\u001b[0m\u001b[0m_next_index\u001b[0m\u001b[1;33m(\u001b[0m\u001b[1;33m)\u001b[0m  \u001b[1;31m# may raise StopIteration\u001b[0m\u001b[1;33m\u001b[0m\u001b[1;33m\u001b[0m\u001b[0m\n\u001b[1;32m--> 557\u001b[1;33m         \u001b[0mdata\u001b[0m \u001b[1;33m=\u001b[0m \u001b[0mself\u001b[0m\u001b[1;33m.\u001b[0m\u001b[0m_dataset_fetcher\u001b[0m\u001b[1;33m.\u001b[0m\u001b[0mfetch\u001b[0m\u001b[1;33m(\u001b[0m\u001b[0mindex\u001b[0m\u001b[1;33m)\u001b[0m  \u001b[1;31m# may raise StopIteration\u001b[0m\u001b[1;33m\u001b[0m\u001b[1;33m\u001b[0m\u001b[0m\n\u001b[0m\u001b[0;32m    558\u001b[0m         \u001b[1;32mif\u001b[0m \u001b[0mself\u001b[0m\u001b[1;33m.\u001b[0m\u001b[0m_pin_memory\u001b[0m\u001b[1;33m:\u001b[0m\u001b[1;33m\u001b[0m\u001b[1;33m\u001b[0m\u001b[0m\n\u001b[0;32m    559\u001b[0m             \u001b[0mdata\u001b[0m \u001b[1;33m=\u001b[0m \u001b[0m_utils\u001b[0m\u001b[1;33m.\u001b[0m\u001b[0mpin_memory\u001b[0m\u001b[1;33m.\u001b[0m\u001b[0mpin_memory\u001b[0m\u001b[1;33m(\u001b[0m\u001b[0mdata\u001b[0m\u001b[1;33m)\u001b[0m\u001b[1;33m\u001b[0m\u001b[1;33m\u001b[0m\u001b[0m\n",
      "\u001b[1;32mC:\\ProgramData\\Anaconda3\\envs\\cmtle\\lib\\site-packages\\torch\\utils\\data\\_utils\\fetch.py\u001b[0m in \u001b[0;36mfetch\u001b[1;34m(self, possibly_batched_index)\u001b[0m\n\u001b[0;32m     42\u001b[0m     \u001b[1;32mdef\u001b[0m \u001b[0mfetch\u001b[0m\u001b[1;33m(\u001b[0m\u001b[0mself\u001b[0m\u001b[1;33m,\u001b[0m \u001b[0mpossibly_batched_index\u001b[0m\u001b[1;33m)\u001b[0m\u001b[1;33m:\u001b[0m\u001b[1;33m\u001b[0m\u001b[1;33m\u001b[0m\u001b[0m\n\u001b[0;32m     43\u001b[0m         \u001b[1;32mif\u001b[0m \u001b[0mself\u001b[0m\u001b[1;33m.\u001b[0m\u001b[0mauto_collation\u001b[0m\u001b[1;33m:\u001b[0m\u001b[1;33m\u001b[0m\u001b[1;33m\u001b[0m\u001b[0m\n\u001b[1;32m---> 44\u001b[1;33m             \u001b[0mdata\u001b[0m \u001b[1;33m=\u001b[0m \u001b[1;33m[\u001b[0m\u001b[0mself\u001b[0m\u001b[1;33m.\u001b[0m\u001b[0mdataset\u001b[0m\u001b[1;33m[\u001b[0m\u001b[0midx\u001b[0m\u001b[1;33m]\u001b[0m \u001b[1;32mfor\u001b[0m \u001b[0midx\u001b[0m \u001b[1;32min\u001b[0m \u001b[0mpossibly_batched_index\u001b[0m\u001b[1;33m]\u001b[0m\u001b[1;33m\u001b[0m\u001b[1;33m\u001b[0m\u001b[0m\n\u001b[0m\u001b[0;32m     45\u001b[0m         \u001b[1;32melse\u001b[0m\u001b[1;33m:\u001b[0m\u001b[1;33m\u001b[0m\u001b[1;33m\u001b[0m\u001b[0m\n\u001b[0;32m     46\u001b[0m             \u001b[0mdata\u001b[0m \u001b[1;33m=\u001b[0m \u001b[0mself\u001b[0m\u001b[1;33m.\u001b[0m\u001b[0mdataset\u001b[0m\u001b[1;33m[\u001b[0m\u001b[0mpossibly_batched_index\u001b[0m\u001b[1;33m]\u001b[0m\u001b[1;33m\u001b[0m\u001b[1;33m\u001b[0m\u001b[0m\n",
      "\u001b[1;32mC:\\ProgramData\\Anaconda3\\envs\\cmtle\\lib\\site-packages\\torch\\utils\\data\\_utils\\fetch.py\u001b[0m in \u001b[0;36m<listcomp>\u001b[1;34m(.0)\u001b[0m\n\u001b[0;32m     42\u001b[0m     \u001b[1;32mdef\u001b[0m \u001b[0mfetch\u001b[0m\u001b[1;33m(\u001b[0m\u001b[0mself\u001b[0m\u001b[1;33m,\u001b[0m \u001b[0mpossibly_batched_index\u001b[0m\u001b[1;33m)\u001b[0m\u001b[1;33m:\u001b[0m\u001b[1;33m\u001b[0m\u001b[1;33m\u001b[0m\u001b[0m\n\u001b[0;32m     43\u001b[0m         \u001b[1;32mif\u001b[0m \u001b[0mself\u001b[0m\u001b[1;33m.\u001b[0m\u001b[0mauto_collation\u001b[0m\u001b[1;33m:\u001b[0m\u001b[1;33m\u001b[0m\u001b[1;33m\u001b[0m\u001b[0m\n\u001b[1;32m---> 44\u001b[1;33m             \u001b[0mdata\u001b[0m \u001b[1;33m=\u001b[0m \u001b[1;33m[\u001b[0m\u001b[0mself\u001b[0m\u001b[1;33m.\u001b[0m\u001b[0mdataset\u001b[0m\u001b[1;33m[\u001b[0m\u001b[0midx\u001b[0m\u001b[1;33m]\u001b[0m \u001b[1;32mfor\u001b[0m \u001b[0midx\u001b[0m \u001b[1;32min\u001b[0m \u001b[0mpossibly_batched_index\u001b[0m\u001b[1;33m]\u001b[0m\u001b[1;33m\u001b[0m\u001b[1;33m\u001b[0m\u001b[0m\n\u001b[0m\u001b[0;32m     45\u001b[0m         \u001b[1;32melse\u001b[0m\u001b[1;33m:\u001b[0m\u001b[1;33m\u001b[0m\u001b[1;33m\u001b[0m\u001b[0m\n\u001b[0;32m     46\u001b[0m             \u001b[0mdata\u001b[0m \u001b[1;33m=\u001b[0m \u001b[0mself\u001b[0m\u001b[1;33m.\u001b[0m\u001b[0mdataset\u001b[0m\u001b[1;33m[\u001b[0m\u001b[0mpossibly_batched_index\u001b[0m\u001b[1;33m]\u001b[0m\u001b[1;33m\u001b[0m\u001b[1;33m\u001b[0m\u001b[0m\n",
      "\u001b[1;32m<ipython-input-10-4fbc721a5742>\u001b[0m in \u001b[0;36m__getitem__\u001b[1;34m(self, index)\u001b[0m\n\u001b[0;32m     37\u001b[0m         \u001b[1;31m# This will use the idx_pairs (x,y) to build the inputs(X) and labels (y)\u001b[0m\u001b[1;33m\u001b[0m\u001b[1;33m\u001b[0m\u001b[1;33m\u001b[0m\u001b[0m\n\u001b[0;32m     38\u001b[0m         \u001b[1;31m# output.  It adds the last 2 columns of y to X and removes them from y.\u001b[0m\u001b[1;33m\u001b[0m\u001b[1;33m\u001b[0m\u001b[1;33m\u001b[0m\u001b[0m\n\u001b[1;32m---> 39\u001b[1;33m         \u001b[0mX\u001b[0m \u001b[1;33m=\u001b[0m \u001b[0mtorch\u001b[0m\u001b[1;33m.\u001b[0m\u001b[0mcat\u001b[0m\u001b[1;33m(\u001b[0m\u001b[1;33m(\u001b[0m\u001b[0mself\u001b[0m\u001b[1;33m.\u001b[0m\u001b[0mdata\u001b[0m\u001b[1;33m[\u001b[0m\u001b[0mp\u001b[0m\u001b[1;33m[\u001b[0m\u001b[1;36m0\u001b[0m\u001b[1;33m]\u001b[0m\u001b[1;33m]\u001b[0m\u001b[1;33m,\u001b[0m \u001b[0mself\u001b[0m\u001b[1;33m.\u001b[0m\u001b[0mdata\u001b[0m\u001b[1;33m[\u001b[0m\u001b[0mp\u001b[0m\u001b[1;33m[\u001b[0m\u001b[1;36m1\u001b[0m\u001b[1;33m]\u001b[0m\u001b[1;33m]\u001b[0m\u001b[1;33m[\u001b[0m\u001b[1;33m-\u001b[0m\u001b[1;36m2\u001b[0m\u001b[1;33m:\u001b[0m\u001b[1;33m]\u001b[0m\u001b[1;33m)\u001b[0m\u001b[1;33m,\u001b[0m \u001b[1;36m0\u001b[0m\u001b[1;33m)\u001b[0m\u001b[1;33m\u001b[0m\u001b[1;33m\u001b[0m\u001b[0m\n\u001b[0m\u001b[0;32m     40\u001b[0m         \u001b[0my\u001b[0m \u001b[1;33m=\u001b[0m \u001b[0mself\u001b[0m\u001b[1;33m.\u001b[0m\u001b[0mdata\u001b[0m\u001b[1;33m[\u001b[0m\u001b[0mp\u001b[0m\u001b[1;33m[\u001b[0m\u001b[1;36m1\u001b[0m\u001b[1;33m]\u001b[0m\u001b[1;33m]\u001b[0m\u001b[1;33m[\u001b[0m\u001b[1;33m:\u001b[0m\u001b[1;33m-\u001b[0m\u001b[1;36m2\u001b[0m\u001b[1;33m]\u001b[0m\u001b[1;33m\u001b[0m\u001b[1;33m\u001b[0m\u001b[0m\n\u001b[0;32m     41\u001b[0m \u001b[1;33m\u001b[0m\u001b[0m\n",
      "\u001b[1;31mKeyboardInterrupt\u001b[0m: "
     ]
    }
   ],
   "source": [
    "%%time\n",
    "print('>>> Beginning training!')\n",
    "for epoch in range(numEpochs):\n",
    "    for i, (inputs, labels) in enumerate(trainLoader):\n",
    "        optimizer.zero_grad()\n",
    "        # Forward propagation\n",
    "        outputs = net(inputs)\n",
    "        # Backpropagation\n",
    "        loss = criterion(outputs, labels)\n",
    "        loss.backward()\n",
    "        # Gradient descent\n",
    "        optimizer.step()\n",
    "        # Logging\n",
    "        if (i+1) % 1000 == 0:\n",
    "            print('Epoch [{}/{}], Step [{}/{}], Loss: {}'.format(epoch+1, numEpochs, i+1,\n",
    "                                                                 len(trainDataset)//batchSize, loss))"
   ]
  },
  {
   "cell_type": "code",
   "execution_count": 16,
   "metadata": {},
   "outputs": [],
   "source": [
    "pd.DataFrame(idx_pairs,columns=['idx1','idx2']).to_csv(os.environ['GP_HIST_PATH'] + '/idx_pairs/train_idx_pairs.csv', index=False)"
   ]
  },
  {
   "cell_type": "code",
   "execution_count": 19,
   "metadata": {},
   "outputs": [
    {
     "name": "stdout",
     "output_type": "stream",
     "text": [
      "Wall time: 7.57 s\n"
     ]
    }
   ],
   "source": [
    "%time idx_pairs = pd.read_csv(os.environ['GP_HIST_PATH'] + '/idx_pairs/train_idx_pairs.csv').to_numpy()"
   ]
  },
  {
   "cell_type": "code",
   "execution_count": 18,
   "metadata": {},
   "outputs": [
    {
     "data": {
      "text/plain": [
       "array([[15075076, 25553468],\n",
       "       [25553468, 20818702],\n",
       "       [20818702, 32231723],\n",
       "       ...,\n",
       "       [54898363, 54885991],\n",
       "       [54885991, 54881418],\n",
       "       [54881418, 54862939]], dtype=int64)"
      ]
     },
     "execution_count": 18,
     "metadata": {},
     "output_type": "execute_result"
    }
   ],
   "source": [
    "idx_pairs"
   ]
  }
 ],
 "metadata": {
  "kernelspec": {
   "display_name": "Python 3",
   "language": "python",
   "name": "python3"
  },
  "language_info": {
   "codemirror_mode": {
    "name": "ipython",
    "version": 3
   },
   "file_extension": ".py",
   "mimetype": "text/x-python",
   "name": "python",
   "nbconvert_exporter": "python",
   "pygments_lexer": "ipython3",
   "version": "3.8.5"
  }
 },
 "nbformat": 4,
 "nbformat_minor": 4
}
