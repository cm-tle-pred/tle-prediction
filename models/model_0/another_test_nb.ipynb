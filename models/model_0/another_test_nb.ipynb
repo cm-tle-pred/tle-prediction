{
 "cells": [
  {
   "cell_type": "markdown",
   "metadata": {},
   "source": [
    "This notebook was created to test ways to vectorize some of the code"
   ]
  },
  {
   "cell_type": "code",
   "execution_count": 3,
   "metadata": {},
   "outputs": [],
   "source": [
    "import os\n",
    "import pandas as pd\n",
    "import numpy as np\n",
    "\n",
    "#from sgp4.functions import jday\n",
    "#from sgp4.conveniences import jday_datetime\n",
    "from datetime import datetime, timezone"
   ]
  },
  {
   "cell_type": "code",
   "execution_count": 4,
   "metadata": {},
   "outputs": [],
   "source": [
    "df = pd.read_pickle(os.environ['my_home_path'] + '/data/space-track-gp-hist-sample/raw_compiled/train.pkl.gz')"
   ]
  },
  {
   "cell_type": "code",
   "execution_count": 5,
   "metadata": {},
   "outputs": [
    {
     "name": "stdout",
     "output_type": "stream",
     "text": [
      "Wall time: 852 ms\n"
     ]
    }
   ],
   "source": [
    "def jday_tran(x):\n",
    "    jd = (367.0 * x.year\n",
    "         - 7 * (x.year + ((x.month + 9) // 12.0)) * 0.25 // 1.0\n",
    "           + 275 * x.month / 9.0 // 1.0\n",
    "           + x.day\n",
    "         + 1721013.5)\n",
    "    fr = (x.second + (x.microsecond * 1e-6) + x.minute * 60.0 + x.hour * 3600.0) / 86400.0;\n",
    "    return jd, fr\n",
    "\n",
    "# from sgp4.functions import jday\n",
    "# def jday_tran(x):\n",
    "#     return jday(x.year, x.month, x.day, x.hour, x.minute, x.second + x.microsecond * 1e-6)\n",
    "%time df[['epoch_jd', 'epoch_fr']] = df['EPOCH'].apply(jday_tran).to_list()"
   ]
  },
  {
   "cell_type": "code",
   "execution_count": 6,
   "metadata": {},
   "outputs": [
    {
     "name": "stdout",
     "output_type": "stream",
     "text": [
      "Wall time: 2.95 s\n"
     ]
    }
   ],
   "source": [
    "ref_date = datetime.strptime('12/31/1949 00:00:00', '%m/%d/%Y %H:%M:%S')\n",
    "%time df['epoch_days'] = df['EPOCH'].apply(lambda x: (x-ref_date)/np.timedelta64(1, 'D'))"
   ]
  },
  {
   "cell_type": "code",
   "execution_count": 8,
   "metadata": {},
   "outputs": [
    {
     "name": "stdout",
     "output_type": "stream",
     "text": [
      "Wall time: 3.04 s\n"
     ]
    }
   ],
   "source": [
    "def epoch_days(x, ref_date):\n",
    "    return (x-ref_date)/np.timedelta64(1, 'D')\n",
    "%time df['epoch_days'] = df['EPOCH'].apply(epoch_days, ref_date=datetime.strptime('12/31/1949 00:00:00', '%m/%d/%Y %H:%M:%S'))"
   ]
  },
  {
   "cell_type": "code",
   "execution_count": 17,
   "metadata": {},
   "outputs": [
    {
     "name": "stdout",
     "output_type": "stream",
     "text": [
      "Wall time: 1.99 ms\n"
     ]
    }
   ],
   "source": [
    "ref_date=datetime.strptime('12/31/1949 00:00:00', '%m/%d/%Y %H:%M:%S')\n",
    "%time df['epoch_days2'] = (df['EPOCH']-ref_date)/np.timedelta64(1, 'D')"
   ]
  },
  {
   "cell_type": "code",
   "execution_count": 18,
   "metadata": {},
   "outputs": [
    {
     "data": {
      "text/html": [
       "<div>\n",
       "<style scoped>\n",
       "    .dataframe tbody tr th:only-of-type {\n",
       "        vertical-align: middle;\n",
       "    }\n",
       "\n",
       "    .dataframe tbody tr th {\n",
       "        vertical-align: top;\n",
       "    }\n",
       "\n",
       "    .dataframe thead th {\n",
       "        text-align: right;\n",
       "    }\n",
       "</style>\n",
       "<table border=\"1\" class=\"dataframe\">\n",
       "  <thead>\n",
       "    <tr style=\"text-align: right;\">\n",
       "      <th></th>\n",
       "      <th>NORAD_CAT_ID</th>\n",
       "      <th>OBJECT_TYPE</th>\n",
       "      <th>OBJECT_NAME</th>\n",
       "      <th>TLE_LINE1</th>\n",
       "      <th>TLE_LINE2</th>\n",
       "      <th>MEAN_MOTION_DOT</th>\n",
       "      <th>MEAN_MOTION_DDOT</th>\n",
       "      <th>BSTAR</th>\n",
       "      <th>INCLINATION</th>\n",
       "      <th>RA_OF_ASC_NODE</th>\n",
       "      <th>ECCENTRICITY</th>\n",
       "      <th>ARG_OF_PERICENTER</th>\n",
       "      <th>MEAN_ANOMALY</th>\n",
       "      <th>MEAN_MOTION</th>\n",
       "      <th>EPOCH</th>\n",
       "      <th>epoch_jd</th>\n",
       "      <th>epoch_fr</th>\n",
       "      <th>epoch_days</th>\n",
       "      <th>epoch_days2</th>\n",
       "    </tr>\n",
       "  </thead>\n",
       "  <tbody>\n",
       "    <tr>\n",
       "      <th>1</th>\n",
       "      <td>16378</td>\n",
       "      <td>DEBRIS</td>\n",
       "      <td>COSMOS 1375 DEB</td>\n",
       "      <td>1 16378U 82055S   01123.48663893 +.00000215 +0...</td>\n",
       "      <td>2 16378 065.8389 295.0109 0027819 026.0546 334...</td>\n",
       "      <td>0.000002</td>\n",
       "      <td>0.0</td>\n",
       "      <td>0.000287</td>\n",
       "      <td>65.8389</td>\n",
       "      <td>295.0109</td>\n",
       "      <td>0.002782</td>\n",
       "      <td>26.0546</td>\n",
       "      <td>334.1940</td>\n",
       "      <td>13.794142</td>\n",
       "      <td>2001-05-03 11:40:45.603551</td>\n",
       "      <td>2452032.5</td>\n",
       "      <td>0.486639</td>\n",
       "      <td>18751.486639</td>\n",
       "      <td>18751.486639</td>\n",
       "    </tr>\n",
       "    <tr>\n",
       "      <th>2</th>\n",
       "      <td>16377</td>\n",
       "      <td>DEBRIS</td>\n",
       "      <td>COSMOS 1375 DEB</td>\n",
       "      <td>1 16377U 82055R   01123.53731133 +.00001096 +0...</td>\n",
       "      <td>2 16377 065.8313 164.8785 0043812 013.9589 346...</td>\n",
       "      <td>0.000011</td>\n",
       "      <td>0.0</td>\n",
       "      <td>0.000947</td>\n",
       "      <td>65.8313</td>\n",
       "      <td>164.8785</td>\n",
       "      <td>0.004381</td>\n",
       "      <td>13.9589</td>\n",
       "      <td>346.2717</td>\n",
       "      <td>13.900540</td>\n",
       "      <td>2001-05-03 12:53:43.698911</td>\n",
       "      <td>2452032.5</td>\n",
       "      <td>0.537311</td>\n",
       "      <td>18751.537311</td>\n",
       "      <td>18751.537311</td>\n",
       "    </tr>\n",
       "    <tr>\n",
       "      <th>3</th>\n",
       "      <td>16376</td>\n",
       "      <td>DEBRIS</td>\n",
       "      <td>COSMOS 1375 DEB</td>\n",
       "      <td>1 16376U 82055Q   01123.61712357 +.00001095 +0...</td>\n",
       "      <td>2 16376 065.8317 207.7286 0024633 342.3797 017...</td>\n",
       "      <td>0.000011</td>\n",
       "      <td>0.0</td>\n",
       "      <td>0.001015</td>\n",
       "      <td>65.8317</td>\n",
       "      <td>207.7286</td>\n",
       "      <td>0.002463</td>\n",
       "      <td>342.3797</td>\n",
       "      <td>17.6386</td>\n",
       "      <td>13.862830</td>\n",
       "      <td>2001-05-03 14:48:39.476448</td>\n",
       "      <td>2452032.5</td>\n",
       "      <td>0.617124</td>\n",
       "      <td>18751.617124</td>\n",
       "      <td>18751.617124</td>\n",
       "    </tr>\n",
       "    <tr>\n",
       "      <th>4</th>\n",
       "      <td>16375</td>\n",
       "      <td>DEBRIS</td>\n",
       "      <td>COSMOS 1375 DEB</td>\n",
       "      <td>1 16375U 82055P   01123.85656089 +.00000103 +0...</td>\n",
       "      <td>2 16375 065.8295 286.0123 0025131 356.6652 003...</td>\n",
       "      <td>0.000001</td>\n",
       "      <td>0.0</td>\n",
       "      <td>0.000179</td>\n",
       "      <td>65.8295</td>\n",
       "      <td>286.0123</td>\n",
       "      <td>0.002513</td>\n",
       "      <td>356.6652</td>\n",
       "      <td>3.4243</td>\n",
       "      <td>13.792761</td>\n",
       "      <td>2001-05-03 20:33:26.860895</td>\n",
       "      <td>2452032.5</td>\n",
       "      <td>0.856561</td>\n",
       "      <td>18751.856561</td>\n",
       "      <td>18751.856561</td>\n",
       "    </tr>\n",
       "    <tr>\n",
       "      <th>5</th>\n",
       "      <td>16369</td>\n",
       "      <td>ROCKET BODY</td>\n",
       "      <td>SL-8 R/B</td>\n",
       "      <td>1 16369U 85116B   01123.86016933 +.00000175 +0...</td>\n",
       "      <td>2 16369 082.9397 043.1990 0037980 065.0715 295...</td>\n",
       "      <td>0.000002</td>\n",
       "      <td>0.0</td>\n",
       "      <td>0.000163</td>\n",
       "      <td>82.9397</td>\n",
       "      <td>43.1990</td>\n",
       "      <td>0.003798</td>\n",
       "      <td>65.0715</td>\n",
       "      <td>295.4380</td>\n",
       "      <td>13.760971</td>\n",
       "      <td>2001-05-03 20:38:38.630112</td>\n",
       "      <td>2452032.5</td>\n",
       "      <td>0.860169</td>\n",
       "      <td>18751.860169</td>\n",
       "      <td>18751.860169</td>\n",
       "    </tr>\n",
       "  </tbody>\n",
       "</table>\n",
       "</div>"
      ],
      "text/plain": [
       "   NORAD_CAT_ID  OBJECT_TYPE      OBJECT_NAME  \\\n",
       "1         16378       DEBRIS  COSMOS 1375 DEB   \n",
       "2         16377       DEBRIS  COSMOS 1375 DEB   \n",
       "3         16376       DEBRIS  COSMOS 1375 DEB   \n",
       "4         16375       DEBRIS  COSMOS 1375 DEB   \n",
       "5         16369  ROCKET BODY         SL-8 R/B   \n",
       "\n",
       "                                           TLE_LINE1  \\\n",
       "1  1 16378U 82055S   01123.48663893 +.00000215 +0...   \n",
       "2  1 16377U 82055R   01123.53731133 +.00001096 +0...   \n",
       "3  1 16376U 82055Q   01123.61712357 +.00001095 +0...   \n",
       "4  1 16375U 82055P   01123.85656089 +.00000103 +0...   \n",
       "5  1 16369U 85116B   01123.86016933 +.00000175 +0...   \n",
       "\n",
       "                                           TLE_LINE2  MEAN_MOTION_DOT  \\\n",
       "1  2 16378 065.8389 295.0109 0027819 026.0546 334...         0.000002   \n",
       "2  2 16377 065.8313 164.8785 0043812 013.9589 346...         0.000011   \n",
       "3  2 16376 065.8317 207.7286 0024633 342.3797 017...         0.000011   \n",
       "4  2 16375 065.8295 286.0123 0025131 356.6652 003...         0.000001   \n",
       "5  2 16369 082.9397 043.1990 0037980 065.0715 295...         0.000002   \n",
       "\n",
       "   MEAN_MOTION_DDOT     BSTAR  INCLINATION  RA_OF_ASC_NODE  ECCENTRICITY  \\\n",
       "1               0.0  0.000287      65.8389        295.0109      0.002782   \n",
       "2               0.0  0.000947      65.8313        164.8785      0.004381   \n",
       "3               0.0  0.001015      65.8317        207.7286      0.002463   \n",
       "4               0.0  0.000179      65.8295        286.0123      0.002513   \n",
       "5               0.0  0.000163      82.9397         43.1990      0.003798   \n",
       "\n",
       "   ARG_OF_PERICENTER  MEAN_ANOMALY  MEAN_MOTION                      EPOCH  \\\n",
       "1            26.0546      334.1940    13.794142 2001-05-03 11:40:45.603551   \n",
       "2            13.9589      346.2717    13.900540 2001-05-03 12:53:43.698911   \n",
       "3           342.3797       17.6386    13.862830 2001-05-03 14:48:39.476448   \n",
       "4           356.6652        3.4243    13.792761 2001-05-03 20:33:26.860895   \n",
       "5            65.0715      295.4380    13.760971 2001-05-03 20:38:38.630112   \n",
       "\n",
       "    epoch_jd  epoch_fr    epoch_days   epoch_days2  \n",
       "1  2452032.5  0.486639  18751.486639  18751.486639  \n",
       "2  2452032.5  0.537311  18751.537311  18751.537311  \n",
       "3  2452032.5  0.617124  18751.617124  18751.617124  \n",
       "4  2452032.5  0.856561  18751.856561  18751.856561  \n",
       "5  2452032.5  0.860169  18751.860169  18751.860169  "
      ]
     },
     "execution_count": 18,
     "metadata": {},
     "output_type": "execute_result"
    }
   ],
   "source": [
    "df.head()"
   ]
  }
 ],
 "metadata": {
  "kernelspec": {
   "display_name": "Python 3",
   "language": "python",
   "name": "python3"
  },
  "language_info": {
   "codemirror_mode": {
    "name": "ipython",
    "version": 3
   },
   "file_extension": ".py",
   "mimetype": "text/x-python",
   "name": "python",
   "nbconvert_exporter": "python",
   "pygments_lexer": "ipython3",
   "version": "3.8.5"
  }
 },
 "nbformat": 4,
 "nbformat_minor": 4
}
