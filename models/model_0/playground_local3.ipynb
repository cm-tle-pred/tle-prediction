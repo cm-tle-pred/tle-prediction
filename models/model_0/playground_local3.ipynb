{
 "cells": [
  {
   "cell_type": "code",
   "execution_count": 1,
   "metadata": {},
   "outputs": [],
   "source": [
    "import pandas as pd\n",
    "import numpy as np\n",
    "import os\n",
    "from sklearn.metrics import mean_squared_error, mean_absolute_error\n",
    "import matplotlib.pyplot as plt\n",
    "import pickle\n",
    "import clean_data\n",
    "\n",
    "model_cols = ['BSTAR', 'INCLINATION', 'RA_OF_ASC_NODE', 'ECCENTRICITY', 'ARG_OF_PERICENTER', 'MEAN_ANOMALY',\n",
    "              'MEAN_MOTION', 'epoch_jd', 'epoch_fr',\n",
    "              #'MEAN_MOTION_DOT', 'MEAN_MOTION_DDOT', \n",
    "             ]\n",
    "\n",
    "def clean_df(df):\n",
    "    df = clean_data.add_epoch_data(df)\n",
    "    df = clean_data.normalize_all_columns(df)\n",
    "    return df\n",
    "\n",
    "def clean_all(train_df, test_df):\n",
    "    train_df = clean_df(train_df)\n",
    "    test_df = clean_df(test_df)\n",
    "    return train_df,test_df\n",
    "\n",
    "def load_all():\n",
    "    train_df = pd.read_pickle(os.environ['GP_HIST_PATH'] + '/raw_compiled/train.pkl' ) # Time: 25.7s\n",
    "    #test_df = pd.read_pickle(os.environ['GP_HIST_PATH'] + '/raw_compiled/test.pkl' ) # Time: 5\n",
    "    return train_df #, test_df\n",
    "\n",
    "train_df = load_all()\n",
    "#train_df,test_df = clean_all(train_df, test_df)"
   ]
  },
  {
   "cell_type": "markdown",
   "metadata": {},
   "source": [
    "|NORAD|Count of TLEs|\n",
    "|-|-|\n",
    "|3506|     19285|\n",
    "|10839|    19557|\n",
    "|3938|     19724|\n",
    "|8142|     20576|\n",
    "|14631|    21571|"
   ]
  },
  {
   "cell_type": "code",
   "execution_count": 2,
   "metadata": {},
   "outputs": [
    {
     "name": "stderr",
     "output_type": "stream",
     "text": [
      "100%|████████████████████████████████████████████████████████████████████████████████████| 1/1 [00:00<00:00, 77.12it/s]\n"
     ]
    }
   ],
   "source": [
    "train_df = train_df[train_df['NORAD_CAT_ID'] == 14631].reset_index(drop=True)\n",
    "train_df = clean_df(train_df)\n",
    "train_model_df = train_df[model_cols]\n",
    "idx_map = clean_data.create_index_map(train_df)"
   ]
  },
  {
   "cell_type": "code",
   "execution_count": 3,
   "metadata": {},
   "outputs": [],
   "source": [
    "split = 0.8\n",
    "train_idx_map = idx_map[:int(len(idx_map)*split)]\n",
    "test_idx_map = idx_map[int(len(idx_map)*split):]"
   ]
  },
  {
   "cell_type": "code",
   "execution_count": 58,
   "metadata": {},
   "outputs": [
    {
     "data": {
      "text/plain": [
       "NNModelEx(\n",
       "  (net): Sequential(\n",
       "    (0): Linear(in_features=11, out_features=100, bias=True)\n",
       "    (1): ReLU()\n",
       "    (2): Linear(in_features=100, out_features=200, bias=True)\n",
       "    (3): ReLU()\n",
       "    (4): Linear(in_features=200, out_features=100, bias=True)\n",
       "    (5): ReLU()\n",
       "    (6): Linear(in_features=100, out_features=7, bias=True)\n",
       "    (7): ReLU()\n",
       "  )\n",
       ")"
      ]
     },
     "execution_count": 58,
     "metadata": {},
     "output_type": "execute_result"
    }
   ],
   "source": [
    "import train\n",
    "\n",
    "model = train.create_model(model_cols=model_cols,\n",
    "                           layer1=100, relu1=True, #drop1=0.5,\n",
    "                           layer2=200, relu2=True, #drop2=0.5,\n",
    "                           layer3=100, relu3=True, #drop3=0.5,\n",
    "                          )\n",
    "model"
   ]
  },
  {
   "cell_type": "code",
   "execution_count": 59,
   "metadata": {},
   "outputs": [
    {
     "name": "stdout",
     "output_type": "stream",
     "text": [
      ">>> Loading dataset\n",
      ">>> Beginning training!\n",
      "Epoch [1/50], Batch [8/8], Loss: 0.46470892429351807, Time: 4s\n",
      "Epoch [2/50], Batch [8/8], Loss: 0.4497573971748352, Time: 3s\n",
      "Epoch [3/50], Batch [8/8], Loss: 0.44774380326271057, Time: 3s\n",
      "Epoch [4/50], Batch [8/8], Loss: 0.42771637439727783, Time: 3s\n",
      "Epoch [5/50], Batch [8/8], Loss: 0.41903263330459595, Time: 3s\n",
      "Epoch [6/50], Batch [8/8], Loss: 0.4175347089767456, Time: 3s\n",
      "Epoch [7/50], Batch [8/8], Loss: 0.38996002078056335, Time: 3s\n",
      "Epoch [8/50], Batch [8/8], Loss: 0.3771381974220276, Time: 4s\n",
      "Epoch [9/50], Batch [8/8], Loss: 0.3674111068248749, Time: 3s\n",
      "Epoch [10/50], Batch [8/8], Loss: 0.36324045062065125, Time: 3s\n",
      "Epoch [11/50], Batch [8/8], Loss: 0.363108366727829, Time: 3s\n",
      "Epoch [12/50], Batch [8/8], Loss: 0.3604317903518677, Time: 3s\n",
      "Epoch [13/50], Batch [8/8], Loss: 0.3615594208240509, Time: 3s\n",
      "Epoch [14/50], Batch [8/8], Loss: 0.36405301094055176, Time: 3s\n",
      "Epoch [15/50], Batch [8/8], Loss: 0.3609209358692169, Time: 3s\n",
      "Epoch [16/50], Batch [8/8], Loss: 0.3620181679725647, Time: 3s\n",
      "Epoch [17/50], Batch [8/8], Loss: 0.3596160411834717, Time: 2s\n",
      "Epoch [18/50], Batch [8/8], Loss: 0.3636150658130646, Time: 3s\n",
      "Epoch [19/50], Batch [8/8], Loss: 0.36176207661628723, Time: 3s\n",
      "Epoch [20/50], Batch [8/8], Loss: 0.3605031371116638, Time: 3s\n",
      "Epoch [21/50], Batch [8/8], Loss: 0.3618544340133667, Time: 3s\n",
      "Epoch [22/50], Batch [8/8], Loss: 0.3611358106136322, Time: 4s\n",
      "Epoch [23/50], Batch [8/8], Loss: 0.37320271134376526, Time: 3s\n",
      "Epoch [24/50], Batch [8/8], Loss: 0.3610033094882965, Time: 3s\n",
      "Epoch [25/50], Batch [8/8], Loss: 0.3632110357284546, Time: 3s\n",
      "Epoch [26/50], Batch [8/8], Loss: 0.35991546511650085, Time: 3s\n",
      "Epoch [27/50], Batch [8/8], Loss: 0.3620922267436981, Time: 3s\n",
      "Epoch [28/50], Batch [8/8], Loss: 0.3587820529937744, Time: 4s\n",
      "Epoch [29/50], Batch [8/8], Loss: 0.3594188988208771, Time: 3s\n",
      "Epoch [30/50], Batch [8/8], Loss: 0.36085930466651917, Time: 3s\n",
      "Epoch [31/50], Batch [8/8], Loss: 0.36289703845977783, Time: 3s\n",
      "Epoch [32/50], Batch [8/8], Loss: 0.36168208718299866, Time: 2s\n",
      "Epoch [33/50], Batch [8/8], Loss: 0.3744925260543823, Time: 4s\n",
      "Epoch [34/50], Batch [8/8], Loss: 0.3617945611476898, Time: 3s\n",
      "Epoch [35/50], Batch [8/8], Loss: 0.36213693022727966, Time: 3s\n",
      "Epoch [36/50], Batch [8/8], Loss: 0.3737260103225708, Time: 3s\n",
      "Epoch [37/50], Batch [8/8], Loss: 0.3617008328437805, Time: 3s\n",
      "Epoch [38/50], Batch [8/8], Loss: 0.36192917823791504, Time: 3s\n",
      "Epoch [39/50], Batch [8/8], Loss: 0.36179307103157043, Time: 4s\n",
      "Epoch [40/50], Batch [8/8], Loss: 0.3635771870613098, Time: 3s\n",
      "Epoch [41/50], Batch [8/8], Loss: 0.36654067039489746, Time: 3s\n",
      "Epoch [42/50], Batch [8/8], Loss: 0.35973283648490906, Time: 3s\n",
      "Epoch [43/50], Batch [8/8], Loss: 0.3601974844932556, Time: 3s\n",
      "Epoch [44/50], Batch [8/8], Loss: 0.34289440512657166, Time: 3s\n",
      "Epoch [45/50], Batch [8/8], Loss: 0.32703694701194763, Time: 3s\n",
      "Epoch [46/50], Batch [8/8], Loss: 0.3258405327796936, Time: 3s\n",
      "Epoch [47/50], Batch [8/8], Loss: 0.3219546675682068, Time: 3s\n",
      "Epoch [48/50], Batch [8/8], Loss: 0.322518527507782, Time: 3s\n",
      "Epoch [49/50], Batch [8/8], Loss: 0.32287657260894775, Time: 2s\n",
      "Epoch [50/50], Batch [8/8], Loss: 0.32258737087249756, Time: 2s\n",
      "Final loss: 0.3209950625896454\n",
      "Wall time: 2min 34s\n"
     ]
    }
   ],
   "source": [
    "%%time\n",
    "device='cpu'\n",
    "trained_model, loss_output = train.train_model(train_model_df, train_idx_map, batchSize=2000,\n",
    "                                               print_itr=8, numEpochs=50, model_cols=model_cols,\n",
    "                                               learningRate=0.0001, device=device, num_workers=10,\n",
    "                                               loss='L2', model=model)"
   ]
  },
  {
   "cell_type": "code",
   "execution_count": 60,
   "metadata": {},
   "outputs": [],
   "source": [
    "X_test,y_test = clean_data.build_xy(train_model_df,test_idx_map)  # create input/label pair\n",
    "y_pred = train.predict(trained_model, X_test, device=device) # get predictions for each train\n",
    "y_pred_df = pd.DataFrame(y_pred, columns=train_model_df.columns[:-2])  # put results into a dataframe"
   ]
  },
  {
   "cell_type": "code",
   "execution_count": 61,
   "metadata": {},
   "outputs": [
    {
     "name": "stdout",
     "output_type": "stream",
     "text": [
      "    Test set MAE (L1) loss: 0.3128305374897057\n",
      "    Test set MSE (L2) loss: 0.32392226236647353\n"
     ]
    },
    {
     "data": {
      "text/plain": [
       "[<matplotlib.lines.Line2D at 0x1c81b31b640>]"
      ]
     },
     "execution_count": 61,
     "metadata": {},
     "output_type": "execute_result"
    },
    {
     "data": {
      "image/png": "[encoded data removed]",
      "text/plain": [
       "<Figure size 432x288 with 1 Axes>"
      ]
     },
     "metadata": {
      "needs_background": "light"
     },
     "output_type": "display_data"
    }
   ],
   "source": [
    "print(f'    Test set MAE (L1) loss: {mean_absolute_error(y_test, y_pred_df)}')\n",
    "print(f'    Test set MSE (L2) loss: {mean_squared_error(y_test, y_pred_df)}')\n",
    "\n",
    "plt.plot([float(l['loss']) for l in loss_output])"
   ]
  },
  {
   "cell_type": "code",
   "execution_count": 62,
   "metadata": {},
   "outputs": [
    {
     "data": {
      "text/html": [
       "<div>\n",
       "<style scoped>\n",
       "    .dataframe tbody tr th:only-of-type {\n",
       "        vertical-align: middle;\n",
       "    }\n",
       "\n",
       "    .dataframe tbody tr th {\n",
       "        vertical-align: top;\n",
       "    }\n",
       "\n",
       "    .dataframe thead th {\n",
       "        text-align: right;\n",
       "    }\n",
       "</style>\n",
       "<table border=\"1\" class=\"dataframe\">\n",
       "  <thead>\n",
       "    <tr style=\"text-align: right;\">\n",
       "      <th></th>\n",
       "      <th>BSTAR</th>\n",
       "      <th>INCLINATION</th>\n",
       "      <th>RA_OF_ASC_NODE</th>\n",
       "      <th>ECCENTRICITY</th>\n",
       "      <th>ARG_OF_PERICENTER</th>\n",
       "      <th>MEAN_ANOMALY</th>\n",
       "      <th>MEAN_MOTION</th>\n",
       "    </tr>\n",
       "  </thead>\n",
       "  <tbody>\n",
       "    <tr>\n",
       "      <th>0</th>\n",
       "      <td>0.000153</td>\n",
       "      <td>97.6861</td>\n",
       "      <td>60.8571</td>\n",
       "      <td>0.001215</td>\n",
       "      <td>10.7422</td>\n",
       "      <td>349.3993</td>\n",
       "      <td>15.176369</td>\n",
       "    </tr>\n",
       "    <tr>\n",
       "      <th>1</th>\n",
       "      <td>0.000129</td>\n",
       "      <td>97.5888</td>\n",
       "      <td>128.8429</td>\n",
       "      <td>0.002763</td>\n",
       "      <td>358.0993</td>\n",
       "      <td>2.0220</td>\n",
       "      <td>14.933894</td>\n",
       "    </tr>\n",
       "    <tr>\n",
       "      <th>2</th>\n",
       "      <td>0.000020</td>\n",
       "      <td>97.7594</td>\n",
       "      <td>92.8526</td>\n",
       "      <td>0.000794</td>\n",
       "      <td>182.7289</td>\n",
       "      <td>177.3910</td>\n",
       "      <td>15.325660</td>\n",
       "    </tr>\n",
       "    <tr>\n",
       "      <th>3</th>\n",
       "      <td>0.000028</td>\n",
       "      <td>97.6890</td>\n",
       "      <td>220.3386</td>\n",
       "      <td>0.001340</td>\n",
       "      <td>14.6090</td>\n",
       "      <td>345.5537</td>\n",
       "      <td>15.129359</td>\n",
       "    </tr>\n",
       "    <tr>\n",
       "      <th>4</th>\n",
       "      <td>0.000021</td>\n",
       "      <td>97.7221</td>\n",
       "      <td>45.9007</td>\n",
       "      <td>0.000723</td>\n",
       "      <td>205.4182</td>\n",
       "      <td>154.6705</td>\n",
       "      <td>15.330698</td>\n",
       "    </tr>\n",
       "  </tbody>\n",
       "</table>\n",
       "</div>"
      ],
      "text/plain": [
       "      BSTAR  INCLINATION  RA_OF_ASC_NODE  ECCENTRICITY  ARG_OF_PERICENTER  \\\n",
       "0  0.000153      97.6861         60.8571      0.001215            10.7422   \n",
       "1  0.000129      97.5888        128.8429      0.002763           358.0993   \n",
       "2  0.000020      97.7594         92.8526      0.000794           182.7289   \n",
       "3  0.000028      97.6890        220.3386      0.001340            14.6090   \n",
       "4  0.000021      97.7221         45.9007      0.000723           205.4182   \n",
       "\n",
       "   MEAN_ANOMALY  MEAN_MOTION  \n",
       "0      349.3993    15.176369  \n",
       "1        2.0220    14.933894  \n",
       "2      177.3910    15.325660  \n",
       "3      345.5537    15.129359  \n",
       "4      154.6705    15.330698  "
      ]
     },
     "execution_count": 62,
     "metadata": {},
     "output_type": "execute_result"
    }
   ],
   "source": [
    "clean_data.normalize_all_columns(y_test.head().copy(), reverse=True)  # see ground truths"
   ]
  },
  {
   "cell_type": "code",
   "execution_count": 63,
   "metadata": {},
   "outputs": [
    {
     "data": {
      "text/html": [
       "<div>\n",
       "<style scoped>\n",
       "    .dataframe tbody tr th:only-of-type {\n",
       "        vertical-align: middle;\n",
       "    }\n",
       "\n",
       "    .dataframe tbody tr th {\n",
       "        vertical-align: top;\n",
       "    }\n",
       "\n",
       "    .dataframe thead th {\n",
       "        text-align: right;\n",
       "    }\n",
       "</style>\n",
       "<table border=\"1\" class=\"dataframe\">\n",
       "  <thead>\n",
       "    <tr style=\"text-align: right;\">\n",
       "      <th></th>\n",
       "      <th>BSTAR</th>\n",
       "      <th>INCLINATION</th>\n",
       "      <th>RA_OF_ASC_NODE</th>\n",
       "      <th>ECCENTRICITY</th>\n",
       "      <th>ARG_OF_PERICENTER</th>\n",
       "      <th>MEAN_ANOMALY</th>\n",
       "      <th>MEAN_MOTION</th>\n",
       "    </tr>\n",
       "  </thead>\n",
       "  <tbody>\n",
       "    <tr>\n",
       "      <th>0</th>\n",
       "      <td>0.0</td>\n",
       "      <td>98.751923</td>\n",
       "      <td>181.713852</td>\n",
       "      <td>0.001526</td>\n",
       "      <td>174.438965</td>\n",
       "      <td>181.769333</td>\n",
       "      <td>13.75</td>\n",
       "    </tr>\n",
       "    <tr>\n",
       "      <th>1</th>\n",
       "      <td>0.0</td>\n",
       "      <td>98.242180</td>\n",
       "      <td>181.193008</td>\n",
       "      <td>0.002119</td>\n",
       "      <td>175.407593</td>\n",
       "      <td>178.679062</td>\n",
       "      <td>13.75</td>\n",
       "    </tr>\n",
       "    <tr>\n",
       "      <th>2</th>\n",
       "      <td>0.0</td>\n",
       "      <td>94.530731</td>\n",
       "      <td>172.923492</td>\n",
       "      <td>0.001636</td>\n",
       "      <td>165.519028</td>\n",
       "      <td>170.432663</td>\n",
       "      <td>13.75</td>\n",
       "    </tr>\n",
       "    <tr>\n",
       "      <th>3</th>\n",
       "      <td>0.0</td>\n",
       "      <td>98.142593</td>\n",
       "      <td>184.278809</td>\n",
       "      <td>0.001762</td>\n",
       "      <td>175.125824</td>\n",
       "      <td>184.066742</td>\n",
       "      <td>13.75</td>\n",
       "    </tr>\n",
       "    <tr>\n",
       "      <th>4</th>\n",
       "      <td>0.0</td>\n",
       "      <td>97.019684</td>\n",
       "      <td>183.921234</td>\n",
       "      <td>0.001054</td>\n",
       "      <td>170.612717</td>\n",
       "      <td>184.613998</td>\n",
       "      <td>13.75</td>\n",
       "    </tr>\n",
       "  </tbody>\n",
       "</table>\n",
       "</div>"
      ],
      "text/plain": [
       "   BSTAR  INCLINATION  RA_OF_ASC_NODE  ECCENTRICITY  ARG_OF_PERICENTER  \\\n",
       "0    0.0    98.751923      181.713852      0.001526         174.438965   \n",
       "1    0.0    98.242180      181.193008      0.002119         175.407593   \n",
       "2    0.0    94.530731      172.923492      0.001636         165.519028   \n",
       "3    0.0    98.142593      184.278809      0.001762         175.125824   \n",
       "4    0.0    97.019684      183.921234      0.001054         170.612717   \n",
       "\n",
       "   MEAN_ANOMALY  MEAN_MOTION  \n",
       "0    181.769333        13.75  \n",
       "1    178.679062        13.75  \n",
       "2    170.432663        13.75  \n",
       "3    184.066742        13.75  \n",
       "4    184.613998        13.75  "
      ]
     },
     "execution_count": 63,
     "metadata": {},
     "output_type": "execute_result"
    }
   ],
   "source": [
    "clean_data.normalize_all_columns(y_pred_df.head().copy(), reverse=True)  # See predictions"
   ]
  },
  {
   "cell_type": "code",
   "execution_count": null,
   "metadata": {},
   "outputs": [],
   "source": []
  }
 ],
 "metadata": {
  "kernelspec": {
   "display_name": "Python 3",
   "language": "python",
   "name": "python3"
  },
  "language_info": {
   "codemirror_mode": {
    "name": "ipython",
    "version": 3
   },
   "file_extension": ".py",
   "mimetype": "text/x-python",
   "name": "python",
   "nbconvert_exporter": "python",
   "pygments_lexer": "ipython3",
   "version": "3.8.5"
  }
 },
 "nbformat": 4,
 "nbformat_minor": 4
}
