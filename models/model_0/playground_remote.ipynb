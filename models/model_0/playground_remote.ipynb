{
 "cells": [
  {
   "cell_type": "code",
   "execution_count": 21,
   "id": "be6e602f",
   "metadata": {},
   "outputs": [],
   "source": [
    "import pandas as pd\n",
    "import numpy as np\n",
    "import os\n",
    "from sklearn.metrics import mean_squared_error, mean_absolute_error\n",
    "\n",
    "model_cols = ['BSTAR', 'INCLINATION', 'RA_OF_ASC_NODE', 'ECCENTRICITY', 'ARG_OF_PERICENTER', 'MEAN_ANOMALY',\n",
    "              'MEAN_MOTION', 'epoch_jd', 'epoch_fr',\n",
    "              #'MEAN_MOTION_DOT', 'MEAN_MOTION_DDOT', \n",
    "             ]\n",
    "\n",
    "# Load all data...\n",
    "train_df = pd.read_pickle('data/train.pkl' ) # Time: 26.9s\n",
    "test_df = pd.read_pickle('data/test.pkl' ) # Time: 5s"
   ]
  },
  {
   "cell_type": "code",
   "execution_count": 22,
   "id": "7fae5ef1",
   "metadata": {},
   "outputs": [
    {
     "name": "stdout",
     "output_type": "stream",
     "text": [
      "CPU times: user 20.9 s, sys: 14.7 s, total: 35.6 s\n",
      "Wall time: 35.6 s\n"
     ]
    }
   ],
   "source": [
    "%%time\n",
    "# Percent of NORADs to use during training...\n",
    "perc = 0.05\n",
    "norad_count = int(len(train_df.NORAD_CAT_ID.unique()) * perc)\n",
    "train_df = train_df[train_df.NORAD_CAT_ID.isin(train_df.NORAD_CAT_ID.unique()[:norad_count])].reset_index(drop=True)\n",
    "\n",
    "# Limit to 1990 and after...\n",
    "train_df = train_df.loc[train_df.EPOCH >= '1990-01-01'].reset_index(drop=True)\n",
    "test_df = test_df.loc[test_df.EPOCH >= '1990-01-01'].reset_index(drop=True)\n",
    "\n",
    "# Drop large mean motions\n",
    "train_df = train_df[abs(train_df.MEAN_MOTION) < 20].reset_index(drop=True)  # drops 1\n",
    "test_df = test_df[abs(test_df.MEAN_MOTION) < 20].reset_index(drop=True) # drops 2\n",
    "\n",
    "# Drop large bstars\n",
    "train_df = train_df[abs(train_df.BSTAR) < 10].reset_index(drop=True)  # drops 779 / 9745803\n",
    "test_df = test_df[abs(test_df.BSTAR) < 10].reset_index(drop=True) # drops 187 / 8309251 (on 5%)"
   ]
  },
  {
   "cell_type": "markdown",
   "id": "02885d2b",
   "metadata": {},
   "source": [
    "|Data Change History | Time |\n",
    "|:-|-|\n",
    "|10% of all TLEs|8s|\n",
    "|20% of all TLEs|14s|\n",
    "|10% of all TLEs, only after 1990|11s|"
   ]
  },
  {
   "cell_type": "code",
   "execution_count": 23,
   "id": "6272f278",
   "metadata": {},
   "outputs": [
    {
     "name": "stderr",
     "output_type": "stream",
     "text": [
      "100%|██████████| 731/731 [00:21<00:00, 34.79it/s]\n",
      "100%|██████████| 2705/2705 [00:43<00:00, 62.08it/s]\n"
     ]
    },
    {
     "name": "stdout",
     "output_type": "stream",
     "text": [
      "CPU times: user 2min 49s, sys: 10.6 s, total: 3min\n",
      "Wall time: 3min\n"
     ]
    }
   ],
   "source": [
    "%%time\n",
    "import clean_data\n",
    "\n",
    "for df in [train_df, test_df]:\n",
    "    df = clean_data.add_epoch_data(df)\n",
    "    df = clean_data.normalize_all_columns(df)\n",
    "    \n",
    "train_idx_map = clean_data.create_index_map(train_df)\n",
    "test_idx_map = clean_data.create_index_map(test_df)\n",
    "\n",
    "train_model_df = train_df[model_cols]\n",
    "test_model_df = test_df[model_cols]\n",
    "\n",
    "X_test,y_test = clean_data.build_xy(test_model_df,test_idx_map)  # create input/label pair"
   ]
  },
  {
   "cell_type": "markdown",
   "id": "3008cd2b",
   "metadata": {},
   "source": [
    "|Data Change History | Time |\n",
    "|:-|-|\n",
    "|10% of all TLEs|5min|\n",
    "|20% of all TLEs|10min|\n",
    "|10% of all TLEs, only after 1990|3min|"
   ]
  },
  {
   "cell_type": "code",
   "execution_count": 24,
   "id": "89349dbc",
   "metadata": {},
   "outputs": [
    {
     "name": "stdout",
     "output_type": "stream",
     "text": [
      "CPU times: user 4.29 ms, sys: 110 µs, total: 4.4 ms\n",
      "Wall time: 2.74 ms\n"
     ]
    },
    {
     "data": {
      "text/plain": [
       "NNModelEx(\n",
       "  (net): Sequential(\n",
       "    (0): Linear(in_features=11, out_features=300, bias=True)\n",
       "    (1): ReLU()\n",
       "    (2): Linear(in_features=300, out_features=300, bias=True)\n",
       "    (3): ReLU()\n",
       "    (4): Linear(in_features=300, out_features=100, bias=True)\n",
       "    (5): ReLU()\n",
       "    (6): Linear(in_features=100, out_features=100, bias=True)\n",
       "    (7): ReLU()\n",
       "    (8): Linear(in_features=100, out_features=100, bias=True)\n",
       "    (9): ReLU()\n",
       "    (10): Linear(in_features=100, out_features=7, bias=True)\n",
       "  )\n",
       ")"
      ]
     },
     "execution_count": 24,
     "metadata": {},
     "output_type": "execute_result"
    }
   ],
   "source": [
    "%%time\n",
    "import train\n",
    "\n",
    "model = train.create_model(model_cols=model_cols,\n",
    "                           layer1=300, relu1=True, #drop1=0.5,\n",
    "                           layer2=300, relu2=True, #drop2=0.5,\n",
    "                           layer3=100, relu3=True, #drop3=0.5,\n",
    "                           layer4=100, relu4=True, #drop4=0.5,\n",
    "                           layer5=100, relu5=True, #drop5=0.5,\n",
    "                          )\n",
    "model"
   ]
  },
  {
   "cell_type": "code",
   "execution_count": 25,
   "id": "44e90471",
   "metadata": {},
   "outputs": [
    {
     "name": "stdout",
     "output_type": "stream",
     "text": [
      ">>> Loading dataset\n",
      ">>> Beginning training!\n",
      "Epoch [1/20], Batch [40000/41618], Loss: 0.04319700971245766, Time: 150s\n",
      "Epoch [2/20], Batch [40000/41618], Loss: 0.06502211093902588, Time: 170s\n",
      "Epoch [3/20], Batch [40000/41618], Loss: 0.04529910534620285, Time: 176s\n",
      "Epoch [4/20], Batch [40000/41618], Loss: 0.06249343976378441, Time: 176s\n",
      "Epoch [5/20], Batch [40000/41618], Loss: 0.03994322940707207, Time: 179s\n",
      "Epoch [6/20], Batch [40000/41618], Loss: 0.042532164603471756, Time: 177s\n",
      "Epoch [7/20], Batch [40000/41618], Loss: 0.040063172578811646, Time: 180s\n",
      "Epoch [8/20], Batch [40000/41618], Loss: 0.03911808878183365, Time: 174s\n",
      "Epoch [9/20], Batch [40000/41618], Loss: 0.04091723635792732, Time: 178s\n",
      "Epoch [10/20], Batch [40000/41618], Loss: 0.04168474301695824, Time: 181s\n",
      "Epoch [11/20], Batch [40000/41618], Loss: 0.041521117091178894, Time: 179s\n",
      "Epoch [12/20], Batch [40000/41618], Loss: 0.03879179805517197, Time: 182s\n",
      "Epoch [13/20], Batch [40000/41618], Loss: 0.040445879101753235, Time: 203s\n",
      "Epoch [14/20], Batch [40000/41618], Loss: 0.03992636501789093, Time: 241s\n",
      "Epoch [15/20], Batch [40000/41618], Loss: 0.05269315838813782, Time: 238s\n",
      "Epoch [16/20], Batch [40000/41618], Loss: 0.03561313450336456, Time: 233s\n",
      "Epoch [17/20], Batch [40000/41618], Loss: 0.03898787498474121, Time: 231s\n",
      "Epoch [18/20], Batch [40000/41618], Loss: 0.04252563416957855, Time: 226s\n",
      "Epoch [19/20], Batch [40000/41618], Loss: 0.04606489837169647, Time: 211s\n",
      "Epoch [20/20], Batch [40000/41618], Loss: 0.04586728289723396, Time: 182s\n",
      "Final loss: 0.038753900676965714\n",
      "CPU times: user 16h 21min 25s, sys: 21min 47s, total: 16h 43min 13s\n",
      "Wall time: 1h 4min 44s\n"
     ]
    }
   ],
   "source": [
    "%%time\n",
    "\n",
    "device='cpu'\n",
    "\n",
    "# Simple model with one hidden layer\n",
    "# trained_model, loss_output = train.train_model(train_model_df, train_idx_map, batchSize=200,\n",
    "#                           print_itr=10000, numEpochs=10, model_cols=model_cols,\n",
    "#                           learningRate=0.01, device=device, num_workers=10,\n",
    "#                           loss='L2', hiddenSize=10)\n",
    "\n",
    "trained_model, loss_output = train.train_model(train_model_df, train_idx_map, batchSize=200,\n",
    "                                               print_itr=40000, numEpochs=20, model_cols=model_cols,\n",
    "                                               learningRate=0.00001, device=device, num_workers=5,\n",
    "                                               loss='L2', model=model)\n",
    "\n",
    "y_pred = train.predict(trained_model, X_test, device=device) # get predictions for each train\n",
    "y_pred_df = pd.DataFrame(y_pred, columns=test_model_df.columns[:-2])  # put results into a dataframe"
   ]
  },
  {
   "cell_type": "code",
   "execution_count": 26,
   "id": "6a43b7a4",
   "metadata": {},
   "outputs": [
    {
     "name": "stdout",
     "output_type": "stream",
     "text": [
      "    Test set MAE (L1) loss: 0.12788525058972447\n",
      "    Test set MSE (L2) loss: 0.05891591296867437\n"
     ]
    },
    {
     "data": {
      "text/plain": [
       "[<matplotlib.lines.Line2D at 0x7fedb20e3790>]"
      ]
     },
     "execution_count": 26,
     "metadata": {},
     "output_type": "execute_result"
    },
    {
     "data": {
      "image/png": "[encoded data removed]",
      "text/plain": [
       "<Figure size 432x288 with 1 Axes>"
      ]
     },
     "metadata": {
      "needs_background": "light"
     },
     "output_type": "display_data"
    }
   ],
   "source": [
    "import matplotlib.pyplot as plt\n",
    "\n",
    "def print_loss(loss):\n",
    "    return plt.plot([float(l['loss']) for l in loss])\n",
    "\n",
    "print(f'    Test set MAE (L1) loss: {mean_absolute_error(y_test, y_pred_df)}')\n",
    "print(f'    Test set MSE (L2) loss: {mean_squared_error(y_test, y_pred_df)}')\n",
    "\n",
    "print_loss(loss_output)"
   ]
  },
  {
   "cell_type": "markdown",
   "id": "31e5056e",
   "metadata": {},
   "source": [
    "## finding hyper parameters"
   ]
  },
  {
   "cell_type": "code",
   "execution_count": 4,
   "id": "966d4887",
   "metadata": {
    "scrolled": false
   },
   "outputs": [
    {
     "name": "stdout",
     "output_type": "stream",
     "text": [
      ">>> Loading model\n",
      ">>> Loading dataset\n",
      ">>> Beginning training!\n",
      "Final loss: 0.06986154615879059\n",
      ">>> Results for batchSize = 200 / learningRate = 1e-05:\n",
      "    Test set MAE (L1) loss: 0.15202310246318226\n",
      "    Test set MSE (L2) loss: 0.14742363947638187\n",
      ">>> Loading model\n",
      ">>> Loading dataset\n",
      ">>> Beginning training!\n",
      "Final loss: 0.06339056044816971\n",
      ">>> Results for batchSize = 200 / learningRate = 0.0001:\n",
      "    Test set MAE (L1) loss: 0.1339450425649999\n",
      "    Test set MSE (L2) loss: 0.13874329771633204\n",
      ">>> Loading model\n",
      ">>> Loading dataset\n",
      ">>> Beginning training!\n",
      "Final loss: 0.06071564927697182\n",
      ">>> Results for batchSize = 200 / learningRate = 0.001:\n",
      "    Test set MAE (L1) loss: 0.13100660190346378\n",
      "    Test set MSE (L2) loss: 0.13744730606731054\n",
      ">>> Loading model\n",
      ">>> Loading dataset\n",
      ">>> Beginning training!\n",
      "Final loss: 0.3394209146499634\n",
      ">>> Results for batchSize = 2000 / learningRate = 1e-05:\n",
      "    Test set MAE (L1) loss: 0.3994797786758509\n",
      "    Test set MSE (L2) loss: 0.4587655424336244\n",
      ">>> Loading model\n",
      ">>> Loading dataset\n",
      ">>> Beginning training!\n",
      "Final loss: 0.05710160359740257\n",
      ">>> Results for batchSize = 2000 / learningRate = 0.0001:\n",
      "    Test set MAE (L1) loss: 0.1505039901947429\n",
      "    Test set MSE (L2) loss: 0.14702532868538457\n",
      ">>> Loading model\n",
      ">>> Loading dataset\n",
      ">>> Beginning training!\n",
      "Final loss: 0.04935471713542938\n",
      ">>> Results for batchSize = 2000 / learningRate = 0.001:\n",
      "    Test set MAE (L1) loss: 0.13319226036044735\n",
      "    Test set MSE (L2) loss: 0.13866904256852813\n",
      "CPU times: user 4min 4s, sys: 55.8 s, total: 5min\n",
      "Wall time: 6min 19s\n"
     ]
    }
   ],
   "source": [
    "%%time\n",
    "import train\n",
    "\n",
    "device='cpu'\n",
    "\n",
    "batchSizes=[200,2000]\n",
    "learningRates=[0.00001, 0.0001, 0.001]\n",
    "\n",
    "for batchSize in batchSizes:\n",
    "    for learningRate in learningRates:\n",
    "        model = train.train_model(train_model_df, train_idx_map, batchSize=batchSize,\n",
    "                          print_itr=0, numEpochs=1, model_cols=model_cols,\n",
    "                          learningRate=learningRate, device=device, num_workers=5,\n",
    "                          loss='L2', hiddenSize=10)\n",
    "\n",
    "        y_pred = train.predict(model, X_test, device=device) # get predictions for each train\n",
    "        y_pred_df = pd.DataFrame(y_pred, columns=test_model_df.columns[:-2])  # put results into a dataframe\n",
    "        print(f'>>> Results for batchSize = {batchSize} / learningRate = {learningRate}:')\n",
    "        print(f'    Test set MAE (L1) loss: {mean_absolute_error(y_test, y_pred_df)}')\n",
    "        print(f'    Test set MSE (L2) loss: {mean_squared_error(y_test, y_pred_df)}')\n",
    "\n",
    "# model = train.train_model(train_model_df, train_idx_map, batchSize=200,\n",
    "#                           print_itr=10000, numEpochs=10, model_cols=model_cols,\n",
    "#                           learningRate=0.0001, device=device, num_workers=5,\n",
    "#                           loss='L2', hiddenSize=10)\n",
    "\n",
    "# y_pred = train.predict(model, X_test, device=device) # get predictions for each train\n",
    "# y_pred_df = pd.DataFrame(y_pred, columns=test_model_df.columns[:-2])  # put results into a dataframe"
   ]
  },
  {
   "cell_type": "code",
   "execution_count": 5,
   "id": "ccbd319c",
   "metadata": {},
   "outputs": [
    {
     "name": "stdout",
     "output_type": "stream",
     "text": [
      "    Test set MAE (L1) loss: 0.13291584041229298\n",
      "    Test set MSE (L2) loss: 0.13800174659503023\n"
     ]
    }
   ],
   "source": [
    "print(f'    Test set MAE (L1) loss: {mean_absolute_error(y_test, y_pred_df)}')\n",
    "print(f'    Test set MSE (L2) loss: {mean_squared_error(y_test, y_pred_df)}')"
   ]
  },
  {
   "cell_type": "markdown",
   "id": "702ff8f1",
   "metadata": {},
   "source": [
    "# Loss Tracking\n",
    "\n",
    "|Test L1 Loss | Test L2 Loss | NN Change History | Time |\n",
    "|:-|:-|:-|-|\n",
    "|0.1234|21.7614|norads=10%, epochs=10, batchSize=200,<br> learn=0.0001, device=cpu, loss=l2,<br> num_workers=5, hidden=300|28min 39s|\n",
    "|0.1235|34.4868|num_workers=20|28min 54s|\n",
    "|0.1222|30.8207|norads=20%, num_workers=5|53min 47s|\n",
    "|0.1219|26.2414|norads=5%, tles-after-1990|12min 46s|\n",
    "|0.1217|0.1226|remove-high-mean-motion|13min 22s|\n",
    "|0.1211|0.1235|norads=10%|27min 35s|\n",
    "|0.1221|0.1232|hidden=10|22min 33s|\n",
    "|0.1330|0.1380|updated mean_motion standardization|24min 16s|\n",
    "|0.1329|0.1380|norads=5%|12min 36s|"
   ]
  },
  {
   "cell_type": "code",
   "execution_count": 6,
   "id": "8ef0dd3a",
   "metadata": {},
   "outputs": [
    {
     "data": {
      "text/html": [
       "<div>\n",
       "<style scoped>\n",
       "    .dataframe tbody tr th:only-of-type {\n",
       "        vertical-align: middle;\n",
       "    }\n",
       "\n",
       "    .dataframe tbody tr th {\n",
       "        vertical-align: top;\n",
       "    }\n",
       "\n",
       "    .dataframe thead th {\n",
       "        text-align: right;\n",
       "    }\n",
       "</style>\n",
       "<table border=\"1\" class=\"dataframe\">\n",
       "  <thead>\n",
       "    <tr style=\"text-align: right;\">\n",
       "      <th></th>\n",
       "      <th>BSTAR</th>\n",
       "      <th>INCLINATION</th>\n",
       "      <th>RA_OF_ASC_NODE</th>\n",
       "      <th>ECCENTRICITY</th>\n",
       "      <th>ARG_OF_PERICENTER</th>\n",
       "      <th>MEAN_ANOMALY</th>\n",
       "      <th>MEAN_MOTION</th>\n",
       "    </tr>\n",
       "  </thead>\n",
       "  <tbody>\n",
       "    <tr>\n",
       "      <th>0</th>\n",
       "      <td>0.000043</td>\n",
       "      <td>99.0841</td>\n",
       "      <td>269.4983</td>\n",
       "      <td>0.006611</td>\n",
       "      <td>275.3876</td>\n",
       "      <td>239.5037</td>\n",
       "      <td>13.902003</td>\n",
       "    </tr>\n",
       "    <tr>\n",
       "      <th>1</th>\n",
       "      <td>0.000130</td>\n",
       "      <td>99.3282</td>\n",
       "      <td>148.3144</td>\n",
       "      <td>0.006702</td>\n",
       "      <td>263.9172</td>\n",
       "      <td>95.4353</td>\n",
       "      <td>13.892284</td>\n",
       "    </tr>\n",
       "    <tr>\n",
       "      <th>2</th>\n",
       "      <td>0.000065</td>\n",
       "      <td>99.4669</td>\n",
       "      <td>275.1372</td>\n",
       "      <td>0.006796</td>\n",
       "      <td>130.6204</td>\n",
       "      <td>230.0887</td>\n",
       "      <td>13.896146</td>\n",
       "    </tr>\n",
       "    <tr>\n",
       "      <th>3</th>\n",
       "      <td>0.000717</td>\n",
       "      <td>98.8809</td>\n",
       "      <td>82.4447</td>\n",
       "      <td>0.006932</td>\n",
       "      <td>314.2741</td>\n",
       "      <td>45.2898</td>\n",
       "      <td>13.874495</td>\n",
       "    </tr>\n",
       "    <tr>\n",
       "      <th>4</th>\n",
       "      <td>0.000047</td>\n",
       "      <td>99.1070</td>\n",
       "      <td>90.7191</td>\n",
       "      <td>0.006782</td>\n",
       "      <td>51.5472</td>\n",
       "      <td>14.5132</td>\n",
       "      <td>13.901845</td>\n",
       "    </tr>\n",
       "  </tbody>\n",
       "</table>\n",
       "</div>"
      ],
      "text/plain": [
       "      BSTAR  INCLINATION  RA_OF_ASC_NODE  ECCENTRICITY  ARG_OF_PERICENTER  \\\n",
       "0  0.000043      99.0841        269.4983      0.006611           275.3876   \n",
       "1  0.000130      99.3282        148.3144      0.006702           263.9172   \n",
       "2  0.000065      99.4669        275.1372      0.006796           130.6204   \n",
       "3  0.000717      98.8809         82.4447      0.006932           314.2741   \n",
       "4  0.000047      99.1070         90.7191      0.006782            51.5472   \n",
       "\n",
       "   MEAN_ANOMALY  MEAN_MOTION  \n",
       "0      239.5037    13.902003  \n",
       "1       95.4353    13.892284  \n",
       "2      230.0887    13.896146  \n",
       "3       45.2898    13.874495  \n",
       "4       14.5132    13.901845  "
      ]
     },
     "execution_count": 6,
     "metadata": {},
     "output_type": "execute_result"
    }
   ],
   "source": [
    "clean_data.normalize_all_columns(y_test.head().copy(), reverse=True)"
   ]
  },
  {
   "cell_type": "code",
   "execution_count": 7,
   "id": "a9440a06",
   "metadata": {},
   "outputs": [
    {
     "data": {
      "text/html": [
       "<div>\n",
       "<style scoped>\n",
       "    .dataframe tbody tr th:only-of-type {\n",
       "        vertical-align: middle;\n",
       "    }\n",
       "\n",
       "    .dataframe tbody tr th {\n",
       "        vertical-align: top;\n",
       "    }\n",
       "\n",
       "    .dataframe thead th {\n",
       "        text-align: right;\n",
       "    }\n",
       "</style>\n",
       "<table border=\"1\" class=\"dataframe\">\n",
       "  <thead>\n",
       "    <tr style=\"text-align: right;\">\n",
       "      <th></th>\n",
       "      <th>BSTAR</th>\n",
       "      <th>INCLINATION</th>\n",
       "      <th>RA_OF_ASC_NODE</th>\n",
       "      <th>ECCENTRICITY</th>\n",
       "      <th>ARG_OF_PERICENTER</th>\n",
       "      <th>MEAN_ANOMALY</th>\n",
       "      <th>MEAN_MOTION</th>\n",
       "    </tr>\n",
       "  </thead>\n",
       "  <tbody>\n",
       "    <tr>\n",
       "      <th>0</th>\n",
       "      <td>0.000641</td>\n",
       "      <td>99.336617</td>\n",
       "      <td>178.869095</td>\n",
       "      <td>0.005620</td>\n",
       "      <td>176.695450</td>\n",
       "      <td>180.626968</td>\n",
       "      <td>14.041883</td>\n",
       "    </tr>\n",
       "    <tr>\n",
       "      <th>1</th>\n",
       "      <td>0.000561</td>\n",
       "      <td>98.893776</td>\n",
       "      <td>180.485718</td>\n",
       "      <td>0.007194</td>\n",
       "      <td>178.840179</td>\n",
       "      <td>181.855469</td>\n",
       "      <td>13.803382</td>\n",
       "    </tr>\n",
       "    <tr>\n",
       "      <th>2</th>\n",
       "      <td>0.000875</td>\n",
       "      <td>99.383141</td>\n",
       "      <td>179.104202</td>\n",
       "      <td>0.005948</td>\n",
       "      <td>177.136353</td>\n",
       "      <td>181.034882</td>\n",
       "      <td>13.972489</td>\n",
       "    </tr>\n",
       "    <tr>\n",
       "      <th>3</th>\n",
       "      <td>0.001005</td>\n",
       "      <td>99.515404</td>\n",
       "      <td>180.127548</td>\n",
       "      <td>0.007452</td>\n",
       "      <td>178.695847</td>\n",
       "      <td>181.737198</td>\n",
       "      <td>13.788252</td>\n",
       "    </tr>\n",
       "    <tr>\n",
       "      <th>4</th>\n",
       "      <td>0.000961</td>\n",
       "      <td>98.992477</td>\n",
       "      <td>178.821701</td>\n",
       "      <td>0.005122</td>\n",
       "      <td>176.370514</td>\n",
       "      <td>180.899994</td>\n",
       "      <td>14.097835</td>\n",
       "    </tr>\n",
       "  </tbody>\n",
       "</table>\n",
       "</div>"
      ],
      "text/plain": [
       "      BSTAR  INCLINATION  RA_OF_ASC_NODE  ECCENTRICITY  ARG_OF_PERICENTER  \\\n",
       "0  0.000641    99.336617      178.869095      0.005620         176.695450   \n",
       "1  0.000561    98.893776      180.485718      0.007194         178.840179   \n",
       "2  0.000875    99.383141      179.104202      0.005948         177.136353   \n",
       "3  0.001005    99.515404      180.127548      0.007452         178.695847   \n",
       "4  0.000961    98.992477      178.821701      0.005122         176.370514   \n",
       "\n",
       "   MEAN_ANOMALY  MEAN_MOTION  \n",
       "0    180.626968    14.041883  \n",
       "1    181.855469    13.803382  \n",
       "2    181.034882    13.972489  \n",
       "3    181.737198    13.788252  \n",
       "4    180.899994    14.097835  "
      ]
     },
     "execution_count": 7,
     "metadata": {},
     "output_type": "execute_result"
    }
   ],
   "source": [
    "clean_data.normalize_all_columns(y_pred_df.head().copy(), reverse=True)  # reverse the normalization"
   ]
  },
  {
   "cell_type": "code",
   "execution_count": 14,
   "id": "0603dbe4",
   "metadata": {},
   "outputs": [
    {
     "data": {
      "text/plain": [
       "6356746"
      ]
     },
     "execution_count": 14,
     "metadata": {},
     "output_type": "execute_result"
    }
   ],
   "source": [
    "np.argmax(y_se[:,5])"
   ]
  },
  {
   "cell_type": "code",
   "execution_count": 15,
   "id": "33a7f90f",
   "metadata": {},
   "outputs": [
    {
     "data": {
      "text/html": [
       "<div>\n",
       "<style scoped>\n",
       "    .dataframe tbody tr th:only-of-type {\n",
       "        vertical-align: middle;\n",
       "    }\n",
       "\n",
       "    .dataframe tbody tr th {\n",
       "        vertical-align: top;\n",
       "    }\n",
       "\n",
       "    .dataframe thead th {\n",
       "        text-align: right;\n",
       "    }\n",
       "</style>\n",
       "<table border=\"1\" class=\"dataframe\">\n",
       "  <thead>\n",
       "    <tr style=\"text-align: right;\">\n",
       "      <th></th>\n",
       "      <th>BSTAR</th>\n",
       "      <th>INCLINATION</th>\n",
       "      <th>RA_OF_ASC_NODE</th>\n",
       "      <th>ECCENTRICITY</th>\n",
       "      <th>ARG_OF_PERICENTER</th>\n",
       "      <th>MEAN_ANOMALY</th>\n",
       "      <th>MEAN_MOTION</th>\n",
       "    </tr>\n",
       "  </thead>\n",
       "  <tbody>\n",
       "    <tr>\n",
       "      <th>6620653</th>\n",
       "      <td>-0.133392</td>\n",
       "      <td>0.278333</td>\n",
       "      <td>0.506217</td>\n",
       "      <td>0.137734</td>\n",
       "      <td>0.520872</td>\n",
       "      <td>0.491481</td>\n",
       "      <td>1.884373</td>\n",
       "    </tr>\n",
       "    <tr>\n",
       "      <th>6686468</th>\n",
       "      <td>-0.039728</td>\n",
       "      <td>0.343702</td>\n",
       "      <td>0.494812</td>\n",
       "      <td>0.168812</td>\n",
       "      <td>0.511880</td>\n",
       "      <td>0.488782</td>\n",
       "      <td>1.821298</td>\n",
       "    </tr>\n",
       "    <tr>\n",
       "      <th>9774453</th>\n",
       "      <td>-0.054346</td>\n",
       "      <td>0.287659</td>\n",
       "      <td>0.493091</td>\n",
       "      <td>0.093249</td>\n",
       "      <td>0.522456</td>\n",
       "      <td>0.478334</td>\n",
       "      <td>1.711937</td>\n",
       "    </tr>\n",
       "    <tr>\n",
       "      <th>9768541</th>\n",
       "      <td>-0.057924</td>\n",
       "      <td>0.286515</td>\n",
       "      <td>0.495393</td>\n",
       "      <td>0.060983</td>\n",
       "      <td>0.525184</td>\n",
       "      <td>0.477524</td>\n",
       "      <td>1.709254</td>\n",
       "    </tr>\n",
       "    <tr>\n",
       "      <th>9768535</th>\n",
       "      <td>-0.057818</td>\n",
       "      <td>0.286494</td>\n",
       "      <td>0.495364</td>\n",
       "      <td>0.061076</td>\n",
       "      <td>0.525181</td>\n",
       "      <td>0.477521</td>\n",
       "      <td>1.707914</td>\n",
       "    </tr>\n",
       "    <tr>\n",
       "      <th>...</th>\n",
       "      <td>...</td>\n",
       "      <td>...</td>\n",
       "      <td>...</td>\n",
       "      <td>...</td>\n",
       "      <td>...</td>\n",
       "      <td>...</td>\n",
       "      <td>...</td>\n",
       "    </tr>\n",
       "    <tr>\n",
       "      <th>9063295</th>\n",
       "      <td>31.834158</td>\n",
       "      <td>15.055138</td>\n",
       "      <td>13.914037</td>\n",
       "      <td>19.002722</td>\n",
       "      <td>5.885316</td>\n",
       "      <td>15.241354</td>\n",
       "      <td>-14.248805</td>\n",
       "    </tr>\n",
       "    <tr>\n",
       "      <th>6580660</th>\n",
       "      <td>30.925592</td>\n",
       "      <td>14.689282</td>\n",
       "      <td>13.482357</td>\n",
       "      <td>18.587982</td>\n",
       "      <td>5.678499</td>\n",
       "      <td>14.795154</td>\n",
       "      <td>-14.342788</td>\n",
       "    </tr>\n",
       "    <tr>\n",
       "      <th>830231</th>\n",
       "      <td>-3.874067</td>\n",
       "      <td>4.025919</td>\n",
       "      <td>3.924853</td>\n",
       "      <td>4.683432</td>\n",
       "      <td>1.919658</td>\n",
       "      <td>3.885359</td>\n",
       "      <td>-22.654819</td>\n",
       "    </tr>\n",
       "    <tr>\n",
       "      <th>6710137</th>\n",
       "      <td>-5.385159</td>\n",
       "      <td>4.586196</td>\n",
       "      <td>4.871517</td>\n",
       "      <td>6.216354</td>\n",
       "      <td>2.326429</td>\n",
       "      <td>4.814487</td>\n",
       "      <td>-38.044907</td>\n",
       "    </tr>\n",
       "    <tr>\n",
       "      <th>6356746</th>\n",
       "      <td>127.190834</td>\n",
       "      <td>61.148132</td>\n",
       "      <td>55.442459</td>\n",
       "      <td>76.288536</td>\n",
       "      <td>22.777187</td>\n",
       "      <td>60.543823</td>\n",
       "      <td>-53.381912</td>\n",
       "    </tr>\n",
       "  </tbody>\n",
       "</table>\n",
       "<p>9774827 rows × 7 columns</p>\n",
       "</div>"
      ],
      "text/plain": [
       "              BSTAR  INCLINATION  RA_OF_ASC_NODE  ECCENTRICITY  \\\n",
       "6620653   -0.133392     0.278333        0.506217      0.137734   \n",
       "6686468   -0.039728     0.343702        0.494812      0.168812   \n",
       "9774453   -0.054346     0.287659        0.493091      0.093249   \n",
       "9768541   -0.057924     0.286515        0.495393      0.060983   \n",
       "9768535   -0.057818     0.286494        0.495364      0.061076   \n",
       "...             ...          ...             ...           ...   \n",
       "9063295   31.834158    15.055138       13.914037     19.002722   \n",
       "6580660   30.925592    14.689282       13.482357     18.587982   \n",
       "830231    -3.874067     4.025919        3.924853      4.683432   \n",
       "6710137   -5.385159     4.586196        4.871517      6.216354   \n",
       "6356746  127.190834    61.148132       55.442459     76.288536   \n",
       "\n",
       "         ARG_OF_PERICENTER  MEAN_ANOMALY  MEAN_MOTION  \n",
       "6620653           0.520872      0.491481     1.884373  \n",
       "6686468           0.511880      0.488782     1.821298  \n",
       "9774453           0.522456      0.478334     1.711937  \n",
       "9768541           0.525184      0.477524     1.709254  \n",
       "9768535           0.525181      0.477521     1.707914  \n",
       "...                    ...           ...          ...  \n",
       "9063295           5.885316     15.241354   -14.248805  \n",
       "6580660           5.678499     14.795154   -14.342788  \n",
       "830231            1.919658      3.885359   -22.654819  \n",
       "6710137           2.326429      4.814487   -38.044907  \n",
       "6356746          22.777187     60.543823   -53.381912  \n",
       "\n",
       "[9774827 rows x 7 columns]"
      ]
     },
     "execution_count": 15,
     "metadata": {},
     "output_type": "execute_result"
    }
   ],
   "source": [
    "y_pred_df.sort_values(by='MEAN_MOTION', ascending=False)"
   ]
  },
  {
   "cell_type": "code",
   "execution_count": 16,
   "id": "8bb1071e",
   "metadata": {},
   "outputs": [
    {
     "data": {
      "text/plain": [
       "BSTAR                 0.002000\n",
       "INCLINATION           0.351598\n",
       "RA_OF_ASC_NODE        0.716799\n",
       "ECCENTRICITY          0.894146\n",
       "ARG_OF_PERICENTER     0.127487\n",
       "MEAN_ANOMALY          0.983608\n",
       "MEAN_MOTION         -11.742342\n",
       "Name: 6356278, dtype: float64"
      ]
     },
     "execution_count": 16,
     "metadata": {},
     "output_type": "execute_result"
    }
   ],
   "source": [
    "y_test.iloc[6356278]"
   ]
  },
  {
   "cell_type": "code",
   "execution_count": 17,
   "id": "91654460",
   "metadata": {},
   "outputs": [
    {
     "data": {
      "text/plain": [
       "BSTAR                -0.008146\n",
       "INCLINATION           0.346709\n",
       "RA_OF_ASC_NODE        0.524887\n",
       "ECCENTRICITY          0.904386\n",
       "ARG_OF_PERICENTER     0.134282\n",
       "MEAN_ANOMALY          0.151539\n",
       "MEAN_MOTION         -11.740535\n",
       "epoch_jd              0.875739\n",
       "epoch_fr              0.379943\n",
       "epoch_jd_y            0.853795\n",
       "epoch_fr_y            0.728873\n",
       "Name: 6356278, dtype: float64"
      ]
     },
     "execution_count": 17,
     "metadata": {},
     "output_type": "execute_result"
    }
   ],
   "source": [
    "X_test.iloc[6356278]"
   ]
  },
  {
   "cell_type": "code",
   "execution_count": 18,
   "id": "b81ce192",
   "metadata": {},
   "outputs": [
    {
     "data": {
      "text/plain": [
       "NORAD_CAT_ID                                                      9889\n",
       "OBJECT_TYPE                                                     DEBRIS\n",
       "OBJECT_NAME                                             COSMOS 862 DEB\n",
       "TLE_LINE1            1 09889U 76105F   13265.37994281 -.00000470  0...\n",
       "TLE_LINE2            2 09889 062.4076 188.9592 7397089 048.3414 054...\n",
       "MEAN_MOTION_DOT                                              -0.000005\n",
       "MEAN_MOTION_DDOT                                                   0.0\n",
       "BSTAR                                                         -0.16292\n",
       "INCLINATION                                                   0.001926\n",
       "RA_OF_ASC_NODE                                                0.001458\n",
       "ECCENTRICITY                                                  0.967055\n",
       "ARG_OF_PERICENTER                                             0.000373\n",
       "MEAN_ANOMALY                                                  0.000421\n",
       "MEAN_MOTION                                                 -25.490535\n",
       "EPOCH                                       2013-09-22 09:07:07.058783\n",
       "epoch_jd                                                   -110.044775\n",
       "epoch_fr                                                      0.379943\n",
       "epoch_days                                                23276.379943\n",
       "Name: 6093473, dtype: object"
      ]
     },
     "execution_count": 18,
     "metadata": {},
     "output_type": "execute_result"
    }
   ],
   "source": [
    "clean_data.normalize_all_columns(test_df.iloc[test_idx_map[6356278][0]].copy())"
   ]
  },
  {
   "cell_type": "code",
   "execution_count": 5,
   "id": "1de49311",
   "metadata": {},
   "outputs": [
    {
     "data": {
      "text/plain": [
       "count    9.774841e+06\n",
       "mean     7.071389e-03\n",
       "std      1.207834e+00\n",
       "min     -1.276513e+01\n",
       "25%     -2.762912e-01\n",
       "50%      2.739096e-01\n",
       "75%      6.174967e-01\n",
       "max      2.828760e+00\n",
       "Name: MEAN_MOTION, dtype: float64"
      ]
     },
     "execution_count": 5,
     "metadata": {},
     "output_type": "execute_result"
    }
   ],
   "source": [
    "test_df.MEAN_MOTION.describe()"
   ]
  },
  {
   "cell_type": "code",
   "execution_count": 6,
   "id": "3c153389",
   "metadata": {},
   "outputs": [
    {
     "data": {
      "text/plain": [
       "count    8.323670e+06\n",
       "mean    -6.630719e-02\n",
       "std      1.000383e+00\n",
       "min     -1.275089e+01\n",
       "25%     -4.353721e-01\n",
       "50%      1.359139e-01\n",
       "75%      5.215565e-01\n",
       "max      2.800927e+00\n",
       "Name: MEAN_MOTION, dtype: float64"
      ]
     },
     "execution_count": 6,
     "metadata": {},
     "output_type": "execute_result"
    }
   ],
   "source": [
    "train_df.MEAN_MOTION.describe()"
   ]
  },
  {
   "cell_type": "code",
   "execution_count": 7,
   "id": "8021aa26",
   "metadata": {},
   "outputs": [
    {
     "data": {
      "text/plain": [
       "788213    -12.765129\n",
       "6092401   -12.747369\n",
       "6389269   -12.747307\n",
       "786326    -12.747295\n",
       "4733230   -12.747279\n",
       "             ...    \n",
       "983840      2.787466\n",
       "3448121     2.792547\n",
       "1608752     2.800919\n",
       "4898083     2.801152\n",
       "983842      2.828760\n",
       "Name: MEAN_MOTION, Length: 9774841, dtype: float64"
      ]
     },
     "execution_count": 7,
     "metadata": {},
     "output_type": "execute_result"
    }
   ],
   "source": [
    "test_df.MEAN_MOTION.sort_values()"
   ]
  },
  {
   "cell_type": "code",
   "execution_count": 8,
   "id": "e513f0ef",
   "metadata": {},
   "outputs": [
    {
     "data": {
      "text/plain": [
       "880177    -12.750892\n",
       "1015425   -12.747301\n",
       "930452    -12.747238\n",
       "930453    -12.747235\n",
       "987189    -11.814547\n",
       "             ...    \n",
       "6114164     2.680907\n",
       "6313579     2.692586\n",
       "6258520     2.736366\n",
       "5326336     2.755610\n",
       "5983771     2.800927\n",
       "Name: MEAN_MOTION, Length: 8323670, dtype: float64"
      ]
     },
     "execution_count": 8,
     "metadata": {},
     "output_type": "execute_result"
    }
   ],
   "source": [
    "train_df.MEAN_MOTION.sort_values()"
   ]
  },
  {
   "cell_type": "code",
   "execution_count": 23,
   "id": "158d2867",
   "metadata": {},
   "outputs": [
    {
     "data": {
      "text/plain": [
       "6640912"
      ]
     },
     "execution_count": 23,
     "metadata": {},
     "output_type": "execute_result"
    }
   ],
   "source": [
    "test_idx_map[9393426][0]"
   ]
  }
 ],
 "metadata": {
  "kernelspec": {
   "display_name": "Python 3",
   "language": "python",
   "name": "python3"
  },
  "language_info": {
   "codemirror_mode": {
    "name": "ipython",
    "version": 3
   },
   "file_extension": ".py",
   "mimetype": "text/x-python",
   "name": "python",
   "nbconvert_exporter": "python",
   "pygments_lexer": "ipython3",
   "version": "3.8.5"
  }
 },
 "nbformat": 4,
 "nbformat_minor": 5
}
