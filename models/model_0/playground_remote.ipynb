{
 "cells": [
  {
   "cell_type": "code",
   "execution_count": 1,
   "id": "be6e602f",
   "metadata": {},
   "outputs": [],
   "source": [
    "import pandas as pd\n",
    "import numpy as np\n",
    "import os\n",
    "from sklearn.metrics import mean_squared_error, mean_absolute_error\n",
    "\n",
    "model_cols = ['BSTAR', 'INCLINATION', 'RA_OF_ASC_NODE', 'ECCENTRICITY', 'ARG_OF_PERICENTER', 'MEAN_ANOMALY',\n",
    "              'MEAN_MOTION', 'epoch_jd', 'epoch_fr',\n",
    "              #'MEAN_MOTION_DOT', 'MEAN_MOTION_DDOT', \n",
    "             ]\n",
    "\n",
    "# Load all data...\n",
    "train_df = pd.read_pickle('data/train.pkl' ) # Time: 26.9s\n",
    "test_df = pd.read_pickle('data/test.pkl' ) # Time: 5s"
   ]
  },
  {
   "cell_type": "code",
   "execution_count": 2,
   "id": "7fae5ef1",
   "metadata": {},
   "outputs": [
    {
     "name": "stdout",
     "output_type": "stream",
     "text": [
      "CPU times: user 9.66 s, sys: 4.43 s, total: 14.1 s\n",
      "Wall time: 14.1 s\n"
     ]
    }
   ],
   "source": [
    "%%time\n",
    "# Percent of NORADs to use during training...\n",
    "perc = 0.2\n",
    "norad_count = int(len(train_df.NORAD_CAT_ID.unique()) * perc)\n",
    "train_df = train_df[train_df.NORAD_CAT_ID.isin(train_df.NORAD_CAT_ID.unique()[:norad_count])].reset_index(drop=True)\n",
    "# 8s"
   ]
  },
  {
   "cell_type": "code",
   "execution_count": 3,
   "id": "6272f278",
   "metadata": {},
   "outputs": [
    {
     "name": "stderr",
     "output_type": "stream",
     "text": [
      "100%|██████████| 2925/2925 [04:19<00:00, 11.27it/s]\n",
      "100%|██████████| 3150/3150 [00:52<00:00, 59.80it/s]\n"
     ]
    },
    {
     "name": "stdout",
     "output_type": "stream",
     "text": [
      "CPU times: user 9min 2s, sys: 1min 1s, total: 10min 4s\n",
      "Wall time: 10min 3s\n"
     ]
    }
   ],
   "source": [
    "%%time\n",
    "import clean_data\n",
    "\n",
    "for df in [train_df, test_df]:\n",
    "    df = clean_data.add_epoch_data(df)\n",
    "    df = clean_data.normalize_all_columns(df)\n",
    "    \n",
    "train_idx_map = clean_data.create_index_map(train_df)\n",
    "test_idx_map = clean_data.create_index_map(test_df)\n",
    "\n",
    "train_df = train_df[model_cols]\n",
    "test_df = test_df[model_cols]\n",
    "\n",
    "X_test,y_test = clean_data.build_xy(test_df,test_idx_map)  # create input/label pair\n",
    "#5min"
   ]
  },
  {
   "cell_type": "code",
   "execution_count": 4,
   "id": "966d4887",
   "metadata": {
    "scrolled": true
   },
   "outputs": [
    {
     "name": "stdout",
     "output_type": "stream",
     "text": [
      ">>> Loading model\n",
      ">>> Loading dataset\n",
      ">>> Beginning training!\n",
      "Epoch [1/10], Batch [10000/173433], Loss: 0.036586690694093704, Time: 23s\n",
      "Epoch [1/10], Batch [20000/173433], Loss: 0.038230035454034805, Time: 18s\n",
      "Epoch [1/10], Batch [30000/173433], Loss: 0.03909628093242645, Time: 18s\n",
      "Epoch [1/10], Batch [40000/173433], Loss: 0.038707248866558075, Time: 17s\n",
      "Epoch [1/10], Batch [50000/173433], Loss: 0.04308190941810608, Time: 18s\n",
      "Epoch [1/10], Batch [60000/173433], Loss: 0.03843908756971359, Time: 18s\n",
      "Epoch [1/10], Batch [70000/173433], Loss: 0.043522223830223083, Time: 18s\n",
      "Epoch [1/10], Batch [80000/173433], Loss: 0.03598054125905037, Time: 18s\n",
      "Epoch [1/10], Batch [90000/173433], Loss: 0.05094822868704796, Time: 17s\n",
      "Epoch [1/10], Batch [100000/173433], Loss: 0.042732518166303635, Time: 19s\n",
      "Epoch [1/10], Batch [110000/173433], Loss: 0.04045610874891281, Time: 18s\n",
      "Epoch [1/10], Batch [120000/173433], Loss: 0.03525495156645775, Time: 17s\n",
      "Epoch [1/10], Batch [130000/173433], Loss: 0.03851092606782913, Time: 18s\n",
      "Epoch [1/10], Batch [140000/173433], Loss: 0.04047198221087456, Time: 17s\n",
      "Epoch [1/10], Batch [150000/173433], Loss: 0.03747228905558586, Time: 18s\n",
      "Epoch [1/10], Batch [160000/173433], Loss: 0.03952404856681824, Time: 18s\n",
      "Epoch [1/10], Batch [170000/173433], Loss: 0.039398711174726486, Time: 18s\n",
      "Epoch [2/10], Batch [10000/173433], Loss: 0.0378241091966629, Time: 30s\n",
      "Epoch [2/10], Batch [20000/173433], Loss: 0.03806646168231964, Time: 18s\n",
      "Epoch [2/10], Batch [30000/173433], Loss: 0.03337152302265167, Time: 18s\n",
      "Epoch [2/10], Batch [40000/173433], Loss: 0.14928343892097473, Time: 18s\n",
      "Epoch [2/10], Batch [50000/173433], Loss: 0.036675240844488144, Time: 18s\n",
      "Epoch [2/10], Batch [60000/173433], Loss: 0.0403669998049736, Time: 18s\n",
      "Epoch [2/10], Batch [70000/173433], Loss: 0.04337002709507942, Time: 18s\n",
      "Epoch [2/10], Batch [80000/173433], Loss: 0.03655854985117912, Time: 18s\n",
      "Epoch [2/10], Batch [90000/173433], Loss: 0.04157206416130066, Time: 18s\n",
      "Epoch [2/10], Batch [100000/173433], Loss: 0.03776954114437103, Time: 18s\n",
      "Epoch [2/10], Batch [110000/173433], Loss: 0.036396101117134094, Time: 17s\n",
      "Epoch [2/10], Batch [120000/173433], Loss: 0.03694075345993042, Time: 18s\n",
      "Epoch [2/10], Batch [130000/173433], Loss: 0.03938848897814751, Time: 18s\n",
      "Epoch [2/10], Batch [140000/173433], Loss: 0.035055797547101974, Time: 18s\n",
      "Epoch [2/10], Batch [150000/173433], Loss: 0.03911876678466797, Time: 17s\n",
      "Epoch [2/10], Batch [160000/173433], Loss: 0.04828290641307831, Time: 18s\n",
      "Epoch [2/10], Batch [170000/173433], Loss: 0.04063781350851059, Time: 18s\n",
      "Epoch [3/10], Batch [10000/173433], Loss: 0.0455474853515625, Time: 28s\n",
      "Epoch [3/10], Batch [20000/173433], Loss: 0.03583858907222748, Time: 18s\n",
      "Epoch [3/10], Batch [30000/173433], Loss: 0.04032847657799721, Time: 18s\n",
      "Epoch [3/10], Batch [40000/173433], Loss: 0.04300525784492493, Time: 18s\n",
      "Epoch [3/10], Batch [50000/173433], Loss: 0.2369394600391388, Time: 18s\n",
      "Epoch [3/10], Batch [60000/173433], Loss: 0.05301874876022339, Time: 18s\n",
      "Epoch [3/10], Batch [70000/173433], Loss: 0.03976066783070564, Time: 18s\n",
      "Epoch [3/10], Batch [80000/173433], Loss: 0.03386286273598671, Time: 18s\n",
      "Epoch [3/10], Batch [90000/173433], Loss: 0.03630869463086128, Time: 19s\n",
      "Epoch [3/10], Batch [100000/173433], Loss: 0.04801066964864731, Time: 18s\n",
      "Epoch [3/10], Batch [110000/173433], Loss: 0.05119693651795387, Time: 18s\n",
      "Epoch [3/10], Batch [120000/173433], Loss: 0.039668768644332886, Time: 17s\n",
      "Epoch [3/10], Batch [130000/173433], Loss: 0.039882466197013855, Time: 18s\n",
      "Epoch [3/10], Batch [140000/173433], Loss: 0.23248253762722015, Time: 18s\n",
      "Epoch [3/10], Batch [150000/173433], Loss: 0.050216980278491974, Time: 18s\n",
      "Epoch [3/10], Batch [160000/173433], Loss: 0.03704547882080078, Time: 18s\n",
      "Epoch [3/10], Batch [170000/173433], Loss: 0.04210302606225014, Time: 18s\n",
      "Epoch [4/10], Batch [10000/173433], Loss: 0.037239015102386475, Time: 29s\n",
      "Epoch [4/10], Batch [20000/173433], Loss: 0.0397619903087616, Time: 18s\n",
      "Epoch [4/10], Batch [30000/173433], Loss: 0.03941734880208969, Time: 18s\n",
      "Epoch [4/10], Batch [40000/173433], Loss: 0.045622486621141434, Time: 18s\n",
      "Epoch [4/10], Batch [50000/173433], Loss: 0.037707261741161346, Time: 18s\n",
      "Epoch [4/10], Batch [60000/173433], Loss: 0.03792758658528328, Time: 18s\n",
      "Epoch [4/10], Batch [70000/173433], Loss: 0.0371176078915596, Time: 18s\n",
      "Epoch [4/10], Batch [80000/173433], Loss: 0.03501882031559944, Time: 19s\n",
      "Epoch [4/10], Batch [90000/173433], Loss: 0.07072611153125763, Time: 17s\n",
      "Epoch [4/10], Batch [100000/173433], Loss: 0.041152842342853546, Time: 18s\n",
      "Epoch [4/10], Batch [110000/173433], Loss: 0.03599802777171135, Time: 18s\n",
      "Epoch [4/10], Batch [120000/173433], Loss: 0.03876638039946556, Time: 18s\n",
      "Epoch [4/10], Batch [130000/173433], Loss: 0.03454503044486046, Time: 18s\n",
      "Epoch [4/10], Batch [140000/173433], Loss: 0.039183735847473145, Time: 18s\n",
      "Epoch [4/10], Batch [150000/173433], Loss: 0.036289870738983154, Time: 17s\n",
      "Epoch [5/10], Batch [50000/173433], Loss: 0.040794599801301956, Time: 18s\n",
      "Epoch [5/10], Batch [60000/173433], Loss: 0.03723463788628578, Time: 18s\n",
      "Epoch [5/10], Batch [70000/173433], Loss: 0.03814397379755974, Time: 19s\n",
      "Epoch [5/10], Batch [80000/173433], Loss: 0.03632926568388939, Time: 18s\n",
      "Epoch [5/10], Batch [90000/173433], Loss: 0.037662915885448456, Time: 17s\n",
      "Epoch [5/10], Batch [100000/173433], Loss: 0.04214394837617874, Time: 18s\n",
      "Epoch [5/10], Batch [110000/173433], Loss: 0.035070374608039856, Time: 18s\n",
      "Epoch [5/10], Batch [120000/173433], Loss: 0.0373394712805748, Time: 18s\n",
      "Epoch [5/10], Batch [130000/173433], Loss: 0.034236062318086624, Time: 18s\n",
      "Epoch [5/10], Batch [140000/173433], Loss: 0.03894411772489548, Time: 18s\n",
      "Epoch [5/10], Batch [150000/173433], Loss: 0.03647971525788307, Time: 18s\n",
      "Epoch [5/10], Batch [160000/173433], Loss: 0.03747730702161789, Time: 19s\n",
      "Epoch [5/10], Batch [170000/173433], Loss: 0.03786129131913185, Time: 17s\n",
      "Epoch [6/10], Batch [10000/173433], Loss: 0.033970270305871964, Time: 31s\n",
      "Epoch [6/10], Batch [20000/173433], Loss: 0.042017366737127304, Time: 19s\n",
      "Epoch [6/10], Batch [30000/173433], Loss: 0.04885705187916756, Time: 19s\n",
      "Epoch [6/10], Batch [40000/173433], Loss: 0.04002782329916954, Time: 18s\n",
      "Epoch [6/10], Batch [50000/173433], Loss: 0.039195068180561066, Time: 19s\n",
      "Epoch [6/10], Batch [60000/173433], Loss: 0.16104955971240997, Time: 19s\n",
      "Epoch [6/10], Batch [70000/173433], Loss: 0.03678692877292633, Time: 18s\n",
      "Epoch [6/10], Batch [80000/173433], Loss: 0.03293605148792267, Time: 19s\n",
      "Epoch [6/10], Batch [90000/173433], Loss: 0.035866592079401016, Time: 19s\n",
      "Epoch [6/10], Batch [100000/173433], Loss: 0.039551470428705215, Time: 19s\n",
      "Epoch [6/10], Batch [110000/173433], Loss: 0.035566315054893494, Time: 19s\n",
      "Epoch [6/10], Batch [120000/173433], Loss: 0.053781744092702866, Time: 18s\n",
      "Epoch [6/10], Batch [130000/173433], Loss: 0.03703530505299568, Time: 18s\n",
      "Epoch [6/10], Batch [140000/173433], Loss: 0.03677476942539215, Time: 18s\n",
      "Epoch [6/10], Batch [150000/173433], Loss: 0.0390072725713253, Time: 19s\n",
      "Epoch [6/10], Batch [160000/173433], Loss: 0.03690866753458977, Time: 18s\n",
      "Epoch [6/10], Batch [170000/173433], Loss: 0.04528209939599037, Time: 18s\n",
      "Epoch [7/10], Batch [10000/173433], Loss: 0.03812011331319809, Time: 32s\n",
      "Epoch [7/10], Batch [20000/173433], Loss: 0.04145977646112442, Time: 20s\n",
      "Epoch [7/10], Batch [30000/173433], Loss: 0.037651170045137405, Time: 19s\n",
      "Epoch [7/10], Batch [40000/173433], Loss: 0.036943092942237854, Time: 20s\n",
      "Epoch [7/10], Batch [50000/173433], Loss: 0.03385858237743378, Time: 19s\n",
      "Epoch [7/10], Batch [60000/173433], Loss: 0.036887407302856445, Time: 19s\n",
      "Epoch [7/10], Batch [70000/173433], Loss: 0.04140575975179672, Time: 19s\n",
      "Epoch [7/10], Batch [80000/173433], Loss: 0.036118075251579285, Time: 19s\n",
      "Epoch [7/10], Batch [90000/173433], Loss: 0.03626145049929619, Time: 18s\n",
      "Epoch [7/10], Batch [100000/173433], Loss: 0.047912515699863434, Time: 19s\n",
      "Epoch [7/10], Batch [110000/173433], Loss: 0.04289389029145241, Time: 18s\n",
      "Epoch [7/10], Batch [120000/173433], Loss: 0.035235654562711716, Time: 18s\n",
      "Epoch [7/10], Batch [130000/173433], Loss: 0.03517421707510948, Time: 18s\n",
      "Epoch [7/10], Batch [140000/173433], Loss: 0.06885133683681488, Time: 19s\n",
      "Epoch [7/10], Batch [150000/173433], Loss: 0.039045318961143494, Time: 18s\n"
     ]
    },
    {
     "name": "stdout",
     "output_type": "stream",
     "text": [
      "Epoch [7/10], Batch [160000/173433], Loss: 0.042547713965177536, Time: 18s\n",
      "Epoch [7/10], Batch [170000/173433], Loss: 0.03517116606235504, Time: 18s\n",
      "Epoch [8/10], Batch [10000/173433], Loss: 0.04109114408493042, Time: 31s\n",
      "Epoch [8/10], Batch [20000/173433], Loss: 0.04577181115746498, Time: 19s\n",
      "Epoch [8/10], Batch [30000/173433], Loss: 0.03894698992371559, Time: 20s\n",
      "Epoch [8/10], Batch [40000/173433], Loss: 0.05133158713579178, Time: 19s\n",
      "Epoch [8/10], Batch [50000/173433], Loss: 0.04001729562878609, Time: 19s\n",
      "Epoch [8/10], Batch [60000/173433], Loss: 0.03941473364830017, Time: 19s\n",
      "Epoch [8/10], Batch [70000/173433], Loss: 0.04232988879084587, Time: 18s\n",
      "Epoch [8/10], Batch [80000/173433], Loss: 0.04176436737179756, Time: 18s\n",
      "Epoch [8/10], Batch [90000/173433], Loss: 0.03941004350781441, Time: 19s\n",
      "Epoch [8/10], Batch [100000/173433], Loss: 0.040433578193187714, Time: 19s\n",
      "Epoch [8/10], Batch [110000/173433], Loss: 0.03736703097820282, Time: 19s\n",
      "Epoch [8/10], Batch [120000/173433], Loss: 0.04053301736712456, Time: 17s\n",
      "Epoch [8/10], Batch [130000/173433], Loss: 0.041567012667655945, Time: 18s\n",
      "Epoch [8/10], Batch [140000/173433], Loss: 0.0373067669570446, Time: 18s\n",
      "Epoch [8/10], Batch [150000/173433], Loss: 0.03696964681148529, Time: 18s\n",
      "Epoch [8/10], Batch [160000/173433], Loss: 0.03514128550887108, Time: 19s\n",
      "Epoch [8/10], Batch [170000/173433], Loss: 0.03423357382416725, Time: 18s\n",
      "Epoch [9/10], Batch [10000/173433], Loss: 0.03847730532288551, Time: 32s\n",
      "Epoch [9/10], Batch [20000/173433], Loss: 0.03751536086201668, Time: 19s\n",
      "Epoch [9/10], Batch [30000/173433], Loss: 0.04413548484444618, Time: 19s\n",
      "Epoch [9/10], Batch [40000/173433], Loss: 0.03753075376152992, Time: 18s\n",
      "Epoch [9/10], Batch [50000/173433], Loss: 0.04099258407950401, Time: 19s\n",
      "Epoch [9/10], Batch [60000/173433], Loss: 0.039597757160663605, Time: 18s\n",
      "Epoch [9/10], Batch [70000/173433], Loss: 0.041625045239925385, Time: 19s\n",
      "Epoch [9/10], Batch [80000/173433], Loss: 0.034579187631607056, Time: 19s\n",
      "Epoch [9/10], Batch [90000/173433], Loss: 0.04018669202923775, Time: 19s\n",
      "Epoch [9/10], Batch [100000/173433], Loss: 0.0388723686337471, Time: 18s\n",
      "Epoch [9/10], Batch [110000/173433], Loss: 0.051790010184049606, Time: 18s\n",
      "Epoch [9/10], Batch [120000/173433], Loss: 0.03468732908368111, Time: 19s\n",
      "Epoch [9/10], Batch [130000/173433], Loss: 0.051385171711444855, Time: 18s\n",
      "Epoch [9/10], Batch [140000/173433], Loss: 0.03755718842148781, Time: 18s\n",
      "Epoch [9/10], Batch [150000/173433], Loss: 0.04158191382884979, Time: 19s\n",
      "Epoch [9/10], Batch [160000/173433], Loss: 0.29138797521591187, Time: 18s\n",
      "Epoch [9/10], Batch [170000/173433], Loss: 0.03654465451836586, Time: 20s\n",
      "Epoch [10/10], Batch [10000/173433], Loss: 0.04282955825328827, Time: 31s\n",
      "Epoch [10/10], Batch [20000/173433], Loss: 0.03884723782539368, Time: 20s\n",
      "Epoch [10/10], Batch [30000/173433], Loss: 0.03936377540230751, Time: 18s\n",
      "Epoch [10/10], Batch [40000/173433], Loss: 0.037380438297986984, Time: 18s\n",
      "Epoch [10/10], Batch [50000/173433], Loss: 0.03874361887574196, Time: 19s\n",
      "Epoch [10/10], Batch [60000/173433], Loss: 0.03838871791958809, Time: 18s\n",
      "Epoch [10/10], Batch [70000/173433], Loss: 0.04082711413502693, Time: 19s\n",
      "Epoch [10/10], Batch [80000/173433], Loss: 0.04244637116789818, Time: 19s\n",
      "Epoch [10/10], Batch [90000/173433], Loss: 0.03868245705962181, Time: 18s\n",
      "Epoch [10/10], Batch [100000/173433], Loss: 0.039791569113731384, Time: 19s\n",
      "Epoch [10/10], Batch [110000/173433], Loss: 0.08606774359941483, Time: 18s\n",
      "Epoch [10/10], Batch [120000/173433], Loss: 0.03870215639472008, Time: 18s\n",
      "Epoch [10/10], Batch [130000/173433], Loss: 0.03387272730469704, Time: 19s\n",
      "Epoch [10/10], Batch [140000/173433], Loss: 0.03716354817152023, Time: 18s\n",
      "Epoch [10/10], Batch [150000/173433], Loss: 0.03548651933670044, Time: 18s\n",
      "Epoch [10/10], Batch [160000/173433], Loss: 0.04069904983043671, Time: 19s\n",
      "Epoch [10/10], Batch [170000/173433], Loss: 0.05033444985747337, Time: 19s\n",
      "Final loss: 0.03680110722780228\n",
      "CPU times: user 13h 34min 58s, sys: 23min 50s, total: 13h 58min 49s\n",
      "Wall time: 53min 47s\n"
     ]
    }
   ],
   "source": [
    "%%time\n",
    "import train\n",
    "\n",
    "device='cpu'\n",
    "\n",
    "model = train.train_model(train_df, train_idx_map, batchSize=200,\n",
    "                          print_itr=10000, numEpochs=10, model_cols=model_cols,\n",
    "                          learningRate=0.0001, device=device, num_workers=5,\n",
    "                          loss='L2', hiddenSize=300)\n",
    "\n",
    "y_pred = train.predict(model, X_test, device=device) # get predictions for each train\n",
    "y_pred_df = pd.DataFrame(y_pred, columns=test_df.columns[:-2])  # put results into a dataframe"
   ]
  },
  {
   "cell_type": "code",
   "execution_count": 5,
   "id": "ccbd319c",
   "metadata": {},
   "outputs": [
    {
     "name": "stdout",
     "output_type": "stream",
     "text": [
      "    Test set MAE (L1) loss: 0.12223098437615441\n",
      "    Test set MSE (L2) loss: 30.82074311507277\n"
     ]
    }
   ],
   "source": [
    "print(f'    Test set MAE (L1) loss: {mean_absolute_error(y_test, y_pred_df)}')\n",
    "print(f'    Test set MSE (L2) loss: {mean_squared_error(y_test, y_pred_df)}')"
   ]
  },
  {
   "cell_type": "markdown",
   "id": "702ff8f1",
   "metadata": {},
   "source": [
    "# Loss Tracking\n",
    "\n",
    "|Test L1 Loss | Test L2 Loss | NN Change History | Time |\n",
    "|:-|:-|:-|-|\n",
    "|0.1234|21.7614|norads=10%, epochs=10, batchSize=200,<br> learn=0.0001, device=cpu, loss=l2,<br> num_workers=5, hidden=300|28min 39s|\n",
    "|0.1235|34.4868|num_workers=20|28min 54s|\n",
    "|0.1222|30.8207|norads=20%, num_workers=5|53min 47s|"
   ]
  },
  {
   "cell_type": "code",
   "execution_count": 6,
   "id": "8ef0dd3a",
   "metadata": {},
   "outputs": [
    {
     "data": {
      "text/html": [
       "<div>\n",
       "<style scoped>\n",
       "    .dataframe tbody tr th:only-of-type {\n",
       "        vertical-align: middle;\n",
       "    }\n",
       "\n",
       "    .dataframe tbody tr th {\n",
       "        vertical-align: top;\n",
       "    }\n",
       "\n",
       "    .dataframe thead th {\n",
       "        text-align: right;\n",
       "    }\n",
       "</style>\n",
       "<table border=\"1\" class=\"dataframe\">\n",
       "  <thead>\n",
       "    <tr style=\"text-align: right;\">\n",
       "      <th></th>\n",
       "      <th>BSTAR</th>\n",
       "      <th>INCLINATION</th>\n",
       "      <th>RA_OF_ASC_NODE</th>\n",
       "      <th>ECCENTRICITY</th>\n",
       "      <th>ARG_OF_PERICENTER</th>\n",
       "      <th>MEAN_ANOMALY</th>\n",
       "      <th>MEAN_MOTION</th>\n",
       "    </tr>\n",
       "  </thead>\n",
       "  <tbody>\n",
       "    <tr>\n",
       "      <th>0</th>\n",
       "      <td>0.000221</td>\n",
       "      <td>99.4264</td>\n",
       "      <td>110.9001</td>\n",
       "      <td>0.006699</td>\n",
       "      <td>244.4890</td>\n",
       "      <td>114.9328</td>\n",
       "      <td>13.893971</td>\n",
       "    </tr>\n",
       "    <tr>\n",
       "      <th>1</th>\n",
       "      <td>0.000236</td>\n",
       "      <td>99.3119</td>\n",
       "      <td>27.3184</td>\n",
       "      <td>0.006715</td>\n",
       "      <td>228.1724</td>\n",
       "      <td>131.3680</td>\n",
       "      <td>13.891869</td>\n",
       "    </tr>\n",
       "    <tr>\n",
       "      <th>2</th>\n",
       "      <td>0.000147</td>\n",
       "      <td>99.3765</td>\n",
       "      <td>184.6182</td>\n",
       "      <td>0.006671</td>\n",
       "      <td>263.6400</td>\n",
       "      <td>95.7151</td>\n",
       "      <td>13.897359</td>\n",
       "    </tr>\n",
       "    <tr>\n",
       "      <th>3</th>\n",
       "      <td>-0.000004</td>\n",
       "      <td>98.9771</td>\n",
       "      <td>322.9819</td>\n",
       "      <td>0.006616</td>\n",
       "      <td>272.4335</td>\n",
       "      <td>142.4944</td>\n",
       "      <td>13.902615</td>\n",
       "    </tr>\n",
       "    <tr>\n",
       "      <th>4</th>\n",
       "      <td>0.000166</td>\n",
       "      <td>98.8683</td>\n",
       "      <td>105.1738</td>\n",
       "      <td>0.006899</td>\n",
       "      <td>299.2842</td>\n",
       "      <td>60.1430</td>\n",
       "      <td>13.876077</td>\n",
       "    </tr>\n",
       "  </tbody>\n",
       "</table>\n",
       "</div>"
      ],
      "text/plain": [
       "      BSTAR  INCLINATION  RA_OF_ASC_NODE  ECCENTRICITY  ARG_OF_PERICENTER  \\\n",
       "0  0.000221      99.4264        110.9001      0.006699           244.4890   \n",
       "1  0.000236      99.3119         27.3184      0.006715           228.1724   \n",
       "2  0.000147      99.3765        184.6182      0.006671           263.6400   \n",
       "3 -0.000004      98.9771        322.9819      0.006616           272.4335   \n",
       "4  0.000166      98.8683        105.1738      0.006899           299.2842   \n",
       "\n",
       "   MEAN_ANOMALY  MEAN_MOTION  \n",
       "0      114.9328    13.893971  \n",
       "1      131.3680    13.891869  \n",
       "2       95.7151    13.897359  \n",
       "3      142.4944    13.902615  \n",
       "4       60.1430    13.876077  "
      ]
     },
     "execution_count": 6,
     "metadata": {},
     "output_type": "execute_result"
    }
   ],
   "source": [
    "clean_data.normalize_all_columns(y_test.head().copy(), reverse=True)"
   ]
  },
  {
   "cell_type": "code",
   "execution_count": 7,
   "id": "a9440a06",
   "metadata": {},
   "outputs": [
    {
     "data": {
      "text/html": [
       "<div>\n",
       "<style scoped>\n",
       "    .dataframe tbody tr th:only-of-type {\n",
       "        vertical-align: middle;\n",
       "    }\n",
       "\n",
       "    .dataframe tbody tr th {\n",
       "        vertical-align: top;\n",
       "    }\n",
       "\n",
       "    .dataframe thead th {\n",
       "        text-align: right;\n",
       "    }\n",
       "</style>\n",
       "<table border=\"1\" class=\"dataframe\">\n",
       "  <thead>\n",
       "    <tr style=\"text-align: right;\">\n",
       "      <th></th>\n",
       "      <th>BSTAR</th>\n",
       "      <th>INCLINATION</th>\n",
       "      <th>RA_OF_ASC_NODE</th>\n",
       "      <th>ECCENTRICITY</th>\n",
       "      <th>ARG_OF_PERICENTER</th>\n",
       "      <th>MEAN_ANOMALY</th>\n",
       "      <th>MEAN_MOTION</th>\n",
       "    </tr>\n",
       "  </thead>\n",
       "  <tbody>\n",
       "    <tr>\n",
       "      <th>0</th>\n",
       "      <td>0.000582</td>\n",
       "      <td>98.921455</td>\n",
       "      <td>178.598007</td>\n",
       "      <td>0.006357</td>\n",
       "      <td>178.737259</td>\n",
       "      <td>183.953232</td>\n",
       "      <td>13.921946</td>\n",
       "    </tr>\n",
       "    <tr>\n",
       "      <th>1</th>\n",
       "      <td>0.000632</td>\n",
       "      <td>99.409027</td>\n",
       "      <td>176.339615</td>\n",
       "      <td>0.006961</td>\n",
       "      <td>178.760620</td>\n",
       "      <td>183.723083</td>\n",
       "      <td>13.825844</td>\n",
       "    </tr>\n",
       "    <tr>\n",
       "      <th>2</th>\n",
       "      <td>0.000283</td>\n",
       "      <td>99.315933</td>\n",
       "      <td>173.922211</td>\n",
       "      <td>0.006942</td>\n",
       "      <td>178.134064</td>\n",
       "      <td>183.175110</td>\n",
       "      <td>13.866077</td>\n",
       "    </tr>\n",
       "    <tr>\n",
       "      <th>3</th>\n",
       "      <td>0.000186</td>\n",
       "      <td>99.340118</td>\n",
       "      <td>176.764664</td>\n",
       "      <td>0.006574</td>\n",
       "      <td>177.717010</td>\n",
       "      <td>182.230240</td>\n",
       "      <td>13.912745</td>\n",
       "    </tr>\n",
       "    <tr>\n",
       "      <th>4</th>\n",
       "      <td>0.000086</td>\n",
       "      <td>99.169548</td>\n",
       "      <td>176.047760</td>\n",
       "      <td>0.007385</td>\n",
       "      <td>176.449661</td>\n",
       "      <td>185.455872</td>\n",
       "      <td>13.757996</td>\n",
       "    </tr>\n",
       "  </tbody>\n",
       "</table>\n",
       "</div>"
      ],
      "text/plain": [
       "      BSTAR  INCLINATION  RA_OF_ASC_NODE  ECCENTRICITY  ARG_OF_PERICENTER  \\\n",
       "0  0.000582    98.921455      178.598007      0.006357         178.737259   \n",
       "1  0.000632    99.409027      176.339615      0.006961         178.760620   \n",
       "2  0.000283    99.315933      173.922211      0.006942         178.134064   \n",
       "3  0.000186    99.340118      176.764664      0.006574         177.717010   \n",
       "4  0.000086    99.169548      176.047760      0.007385         176.449661   \n",
       "\n",
       "   MEAN_ANOMALY  MEAN_MOTION  \n",
       "0    183.953232    13.921946  \n",
       "1    183.723083    13.825844  \n",
       "2    183.175110    13.866077  \n",
       "3    182.230240    13.912745  \n",
       "4    185.455872    13.757996  "
      ]
     },
     "execution_count": 7,
     "metadata": {},
     "output_type": "execute_result"
    }
   ],
   "source": [
    "clean_data.normalize_all_columns(y_pred_df.head().copy(), reverse=True)  # reverse the normalization"
   ]
  },
  {
   "cell_type": "code",
   "execution_count": 8,
   "id": "c3898ec2",
   "metadata": {},
   "outputs": [],
   "source": [
    "y_diff = y_test.to_numpy() - y_pred_df.to_numpy()"
   ]
  },
  {
   "cell_type": "code",
   "execution_count": 9,
   "id": "2ce982b2",
   "metadata": {},
   "outputs": [],
   "source": [
    "y_se = y_diff**2"
   ]
  },
  {
   "cell_type": "code",
   "execution_count": 10,
   "id": "b77a53da",
   "metadata": {},
   "outputs": [
    {
     "data": {
      "text/plain": [
       "30.8207431150799"
      ]
     },
     "execution_count": 10,
     "metadata": {},
     "output_type": "execute_result"
    }
   ],
   "source": [
    "np.mean(y_se)"
   ]
  },
  {
   "cell_type": "code",
   "execution_count": 11,
   "id": "8d2014c5",
   "metadata": {},
   "outputs": [
    {
     "data": {
      "text/plain": [
       "array([1.01653415e+00, 2.31445814e-02, 1.86952793e-01, 1.76418569e+00,\n",
       "       1.68059100e-01, 2.72048774e-01, 2.12314277e+02])"
      ]
     },
     "execution_count": 11,
     "metadata": {},
     "output_type": "execute_result"
    }
   ],
   "source": [
    "np.mean(y_se, axis=0)"
   ]
  },
  {
   "cell_type": "code",
   "execution_count": 12,
   "id": "fad55c42",
   "metadata": {},
   "outputs": [
    {
     "data": {
      "text/plain": [
       "269411518.21497357"
      ]
     },
     "execution_count": 12,
     "metadata": {},
     "output_type": "execute_result"
    }
   ],
   "source": [
    "np.mean(y_se, axis=1).max()"
   ]
  },
  {
   "cell_type": "code",
   "execution_count": 13,
   "id": "d4d46aac",
   "metadata": {},
   "outputs": [
    {
     "data": {
      "text/plain": [
       "1991057.259245302"
      ]
     },
     "execution_count": 13,
     "metadata": {},
     "output_type": "execute_result"
    }
   ],
   "source": [
    "y_se[:,5].max()"
   ]
  },
  {
   "cell_type": "code",
   "execution_count": 14,
   "id": "0603dbe4",
   "metadata": {},
   "outputs": [
    {
     "data": {
      "text/plain": [
       "10316904"
      ]
     },
     "execution_count": 14,
     "metadata": {},
     "output_type": "execute_result"
    }
   ],
   "source": [
    "np.argmax(y_se[:,5])"
   ]
  },
  {
   "cell_type": "code",
   "execution_count": 15,
   "id": "31f55b78",
   "metadata": {},
   "outputs": [
    {
     "data": {
      "text/plain": [
       "BSTAR                0.003506\n",
       "INCLINATION          0.351029\n",
       "RA_OF_ASC_NODE       0.499284\n",
       "ECCENTRICITY         0.270057\n",
       "ARG_OF_PERICENTER    0.500381\n",
       "MEAN_ANOMALY         0.506806\n",
       "MEAN_MOTION         -0.146564\n",
       "Name: 10315138, dtype: float32"
      ]
     },
     "metadata": {},
     "output_type": "display_data"
    },
    {
     "data": {
      "text/plain": [
       "BSTAR                0.000353\n",
       "INCLINATION          0.352251\n",
       "RA_OF_ASC_NODE       0.678309\n",
       "ECCENTRICITY         0.243508\n",
       "ARG_OF_PERICENTER    0.006970\n",
       "MEAN_ANOMALY         0.993507\n",
       "MEAN_MOTION         -0.141822\n",
       "Name: 10315138, dtype: float64"
      ]
     },
     "metadata": {},
     "output_type": "display_data"
    }
   ],
   "source": [
    "display(y_pred_df.iloc[10315138])\n",
    "display(y_test.iloc[10315138])"
   ]
  },
  {
   "cell_type": "code",
   "execution_count": 16,
   "id": "33a7f90f",
   "metadata": {},
   "outputs": [
    {
     "data": {
      "text/html": [
       "<div>\n",
       "<style scoped>\n",
       "    .dataframe tbody tr th:only-of-type {\n",
       "        vertical-align: middle;\n",
       "    }\n",
       "\n",
       "    .dataframe tbody tr th {\n",
       "        vertical-align: top;\n",
       "    }\n",
       "\n",
       "    .dataframe thead th {\n",
       "        text-align: right;\n",
       "    }\n",
       "</style>\n",
       "<table border=\"1\" class=\"dataframe\">\n",
       "  <thead>\n",
       "    <tr style=\"text-align: right;\">\n",
       "      <th></th>\n",
       "      <th>BSTAR</th>\n",
       "      <th>INCLINATION</th>\n",
       "      <th>RA_OF_ASC_NODE</th>\n",
       "      <th>ECCENTRICITY</th>\n",
       "      <th>ARG_OF_PERICENTER</th>\n",
       "      <th>MEAN_ANOMALY</th>\n",
       "      <th>MEAN_MOTION</th>\n",
       "    </tr>\n",
       "  </thead>\n",
       "  <tbody>\n",
       "    <tr>\n",
       "      <th>6863186</th>\n",
       "      <td>-125.660843</td>\n",
       "      <td>-4.464447</td>\n",
       "      <td>1.291618</td>\n",
       "      <td>-9.589123</td>\n",
       "      <td>-22.176479</td>\n",
       "      <td>20.472567</td>\n",
       "      <td>115.048454</td>\n",
       "    </tr>\n",
       "    <tr>\n",
       "      <th>7502729</th>\n",
       "      <td>-28.951485</td>\n",
       "      <td>-0.654898</td>\n",
       "      <td>0.588967</td>\n",
       "      <td>-2.020561</td>\n",
       "      <td>-5.654107</td>\n",
       "      <td>5.879601</td>\n",
       "      <td>28.738697</td>\n",
       "    </tr>\n",
       "    <tr>\n",
       "      <th>9984746</th>\n",
       "      <td>-28.384354</td>\n",
       "      <td>-0.928154</td>\n",
       "      <td>0.714697</td>\n",
       "      <td>-1.929229</td>\n",
       "      <td>-5.444254</td>\n",
       "      <td>5.717077</td>\n",
       "      <td>27.248369</td>\n",
       "    </tr>\n",
       "    <tr>\n",
       "      <th>7601514</th>\n",
       "      <td>-23.055277</td>\n",
       "      <td>-0.471195</td>\n",
       "      <td>0.552392</td>\n",
       "      <td>-1.991779</td>\n",
       "      <td>-4.081438</td>\n",
       "      <td>4.533108</td>\n",
       "      <td>26.557798</td>\n",
       "    </tr>\n",
       "    <tr>\n",
       "      <th>9955894</th>\n",
       "      <td>-18.745260</td>\n",
       "      <td>-0.157442</td>\n",
       "      <td>0.388579</td>\n",
       "      <td>-1.920563</td>\n",
       "      <td>-3.241878</td>\n",
       "      <td>3.946548</td>\n",
       "      <td>24.508139</td>\n",
       "    </tr>\n",
       "    <tr>\n",
       "      <th>...</th>\n",
       "      <td>...</td>\n",
       "      <td>...</td>\n",
       "      <td>...</td>\n",
       "      <td>...</td>\n",
       "      <td>...</td>\n",
       "      <td>...</td>\n",
       "      <td>...</td>\n",
       "    </tr>\n",
       "    <tr>\n",
       "      <th>9260439</th>\n",
       "      <td>1.513265</td>\n",
       "      <td>0.339901</td>\n",
       "      <td>0.316094</td>\n",
       "      <td>1.564108</td>\n",
       "      <td>0.010864</td>\n",
       "      <td>1.122360</td>\n",
       "      <td>-7.186084</td>\n",
       "    </tr>\n",
       "    <tr>\n",
       "      <th>9867849</th>\n",
       "      <td>-0.612881</td>\n",
       "      <td>0.315095</td>\n",
       "      <td>0.432969</td>\n",
       "      <td>1.846200</td>\n",
       "      <td>0.246573</td>\n",
       "      <td>0.922218</td>\n",
       "      <td>-8.801364</td>\n",
       "    </tr>\n",
       "    <tr>\n",
       "      <th>6461391</th>\n",
       "      <td>-1.336556</td>\n",
       "      <td>0.473748</td>\n",
       "      <td>0.370254</td>\n",
       "      <td>2.355693</td>\n",
       "      <td>0.157528</td>\n",
       "      <td>1.090706</td>\n",
       "      <td>-11.682398</td>\n",
       "    </tr>\n",
       "    <tr>\n",
       "      <th>7574589</th>\n",
       "      <td>-11.931201</td>\n",
       "      <td>-2.287872</td>\n",
       "      <td>6.065210</td>\n",
       "      <td>24.081017</td>\n",
       "      <td>-4.909996</td>\n",
       "      <td>8.417613</td>\n",
       "      <td>-234.294342</td>\n",
       "    </tr>\n",
       "    <tr>\n",
       "      <th>10316904</th>\n",
       "      <td>-2138.672607</td>\n",
       "      <td>-497.028290</td>\n",
       "      <td>1052.232788</td>\n",
       "      <td>4343.541992</td>\n",
       "      <td>-954.428101</td>\n",
       "      <td>1412.039795</td>\n",
       "      <td>-43106.835938</td>\n",
       "    </tr>\n",
       "  </tbody>\n",
       "</table>\n",
       "<p>10696267 rows × 7 columns</p>\n",
       "</div>"
      ],
      "text/plain": [
       "                BSTAR  INCLINATION  RA_OF_ASC_NODE  ECCENTRICITY  \\\n",
       "6863186   -125.660843    -4.464447        1.291618     -9.589123   \n",
       "7502729    -28.951485    -0.654898        0.588967     -2.020561   \n",
       "9984746    -28.384354    -0.928154        0.714697     -1.929229   \n",
       "7601514    -23.055277    -0.471195        0.552392     -1.991779   \n",
       "9955894    -18.745260    -0.157442        0.388579     -1.920563   \n",
       "...               ...          ...             ...           ...   \n",
       "9260439      1.513265     0.339901        0.316094      1.564108   \n",
       "9867849     -0.612881     0.315095        0.432969      1.846200   \n",
       "6461391     -1.336556     0.473748        0.370254      2.355693   \n",
       "7574589    -11.931201    -2.287872        6.065210     24.081017   \n",
       "10316904 -2138.672607  -497.028290     1052.232788   4343.541992   \n",
       "\n",
       "          ARG_OF_PERICENTER  MEAN_ANOMALY   MEAN_MOTION  \n",
       "6863186          -22.176479     20.472567    115.048454  \n",
       "7502729           -5.654107      5.879601     28.738697  \n",
       "9984746           -5.444254      5.717077     27.248369  \n",
       "7601514           -4.081438      4.533108     26.557798  \n",
       "9955894           -3.241878      3.946548     24.508139  \n",
       "...                     ...           ...           ...  \n",
       "9260439            0.010864      1.122360     -7.186084  \n",
       "9867849            0.246573      0.922218     -8.801364  \n",
       "6461391            0.157528      1.090706    -11.682398  \n",
       "7574589           -4.909996      8.417613   -234.294342  \n",
       "10316904        -954.428101   1412.039795 -43106.835938  \n",
       "\n",
       "[10696267 rows x 7 columns]"
      ]
     },
     "execution_count": 16,
     "metadata": {},
     "output_type": "execute_result"
    }
   ],
   "source": [
    "y_pred_df.sort_values(by='MEAN_MOTION', ascending=False)"
   ]
  },
  {
   "cell_type": "code",
   "execution_count": 21,
   "id": "8bb1071e",
   "metadata": {},
   "outputs": [
    {
     "data": {
      "text/plain": [
       "BSTAR                0.000194\n",
       "INCLINATION          0.352234\n",
       "RA_OF_ASC_NODE       0.491539\n",
       "ECCENTRICITY         0.264074\n",
       "ARG_OF_PERICENTER    0.009096\n",
       "MEAN_ANOMALY         0.991511\n",
       "MEAN_MOTION         -0.141696\n",
       "Name: 10316904, dtype: float64"
      ]
     },
     "execution_count": 21,
     "metadata": {},
     "output_type": "execute_result"
    }
   ],
   "source": [
    "y_test.iloc[10316904]"
   ]
  },
  {
   "cell_type": "code",
   "execution_count": 22,
   "id": "91654460",
   "metadata": {},
   "outputs": [
    {
     "data": {
      "text/plain": [
       "BSTAR                    0.000899\n",
       "INCLINATION              5.555555\n",
       "RA_OF_ASC_NODE           2.777778\n",
       "ECCENTRICITY             0.886922\n",
       "ARG_OF_PERICENTER        0.000000\n",
       "MEAN_ANOMALY             0.000000\n",
       "MEAN_MOTION          20309.414930\n",
       "epoch_jd                 0.943785\n",
       "epoch_fr                 0.856977\n",
       "epoch_jd_y               0.987177\n",
       "epoch_fr_y               0.398860\n",
       "Name: 10316904, dtype: float64"
      ]
     },
     "execution_count": 22,
     "metadata": {},
     "output_type": "execute_result"
    }
   ],
   "source": [
    "X_test.iloc[10316904]"
   ]
  },
  {
   "cell_type": "code",
   "execution_count": 19,
   "id": "c5f7d606",
   "metadata": {},
   "outputs": [
    {
     "data": {
      "text/plain": [
       "array([[ 0.01164756,  0.54956365,  0.49610558, ...,  0.4964924 ,\n",
       "         0.5109812 ,  0.07628661],\n",
       "       [ 0.0126374 ,  0.5522724 ,  0.48983225, ...,  0.4965573 ,\n",
       "         0.5103419 ,  0.03285605],\n",
       "       [ 0.00565292,  0.5517552 ,  0.48311725, ...,  0.49481684,\n",
       "         0.50881976,  0.05103861],\n",
       "       ...,\n",
       "       [-0.02729335,  0.29908   ,  0.49535504, ...,  0.49486732,\n",
       "         0.5235591 ,  0.652351  ],\n",
       "       [-0.02441044,  0.29933   ,  0.49657908, ...,  0.49561357,\n",
       "         0.5215944 ,  0.66232955],\n",
       "       [-0.02610679,  0.3004011 ,  0.4964425 , ...,  0.4968096 ,\n",
       "         0.5220763 ,  0.66305244]], dtype=float32)"
      ]
     },
     "execution_count": 19,
     "metadata": {},
     "output_type": "execute_result"
    }
   ],
   "source": [
    "train.predict(model, X_test, device=device)"
   ]
  },
  {
   "cell_type": "code",
   "execution_count": 32,
   "id": "b81ce192",
   "metadata": {},
   "outputs": [
    {
     "data": {
      "text/plain": [
       "NORAD_CAT_ID                                                     40342\n",
       "OBJECT_TYPE                                                     DEBRIS\n",
       "OBJECT_NAME                                                  CZ-4C DEB\n",
       "TLE_LINE1            1 40342U 14080E   18339.81488163 -.00000045 +0...\n",
       "TLE_LINE2            2 40342 063.4051 191.5333 0133403 002.2971 357...\n",
       "MEAN_MOTION_DOT                                                   -0.0\n",
       "MEAN_MOTION_DDOT                                                   0.0\n",
       "BSTAR                                                         0.029474\n",
       "INCLINATION                                                   0.001957\n",
       "RA_OF_ASC_NODE                                                0.001478\n",
       "ECCENTRICITY                                                  0.618992\n",
       "ARG_OF_PERICENTER                                             0.000018\n",
       "MEAN_ANOMALY                                                  0.002761\n",
       "MEAN_MOTION                                                  -6.279436\n",
       "EPOCH                                       2018-12-05 19:33:25.772832\n",
       "Name: 9183998, dtype: object"
      ]
     },
     "execution_count": 32,
     "metadata": {},
     "output_type": "execute_result"
    }
   ],
   "source": [
    "clean_data.normalize_all_columns(test_df.iloc[test_idx_map[10316904][0]].copy())"
   ]
  }
 ],
 "metadata": {
  "kernelspec": {
   "display_name": "Python 3",
   "language": "python",
   "name": "python3"
  },
  "language_info": {
   "codemirror_mode": {
    "name": "ipython",
    "version": 3
   },
   "file_extension": ".py",
   "mimetype": "text/x-python",
   "name": "python",
   "nbconvert_exporter": "python",
   "pygments_lexer": "ipython3",
   "version": "3.8.5"
  }
 },
 "nbformat": 4,
 "nbformat_minor": 5
}
