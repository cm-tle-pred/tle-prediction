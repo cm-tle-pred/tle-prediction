{
 "cells": [
  {
   "cell_type": "code",
   "execution_count": 1,
   "metadata": {},
   "outputs": [],
   "source": [
    "import pandas as pd\n",
    "import numpy as np\n",
    "import os\n",
    "from sklearn.metrics import mean_squared_error, mean_absolute_error\n",
    "import matplotlib.pyplot as plt\n",
    "import pickle\n",
    "import normalize_data\n",
    "from tqdm.notebook import tqdm\n",
    "tqdm.pandas()\n",
    "pd.set_option('display.max_columns', 999)\n",
    "pd.set_option('display.precision', 12)"
   ]
  },
  {
   "cell_type": "code",
   "execution_count": 14,
   "metadata": {},
   "outputs": [],
   "source": [
    "with open(f'{os.environ[\"GP_HIST_PATH\"]}/../t5_data/compare_output.pkl', 'rb') as handle:\n",
    "    data_dict = pickle.load(handle)"
   ]
  },
  {
   "cell_type": "code",
   "execution_count": 17,
   "metadata": {},
   "outputs": [
    {
     "name": "stdout",
     "output_type": "stream",
     "text": [
      "baseline\n"
     ]
    },
    {
     "data": {
      "text/plain": [
       "count    335642.000000000000\n",
       "mean       1818.578221578016\n",
       "std        2526.055670469018\n",
       "min           6.880090765448\n",
       "25%         673.845969121010\n",
       "50%        1038.873083021541\n",
       "75%        1482.423243671297\n",
       "max       14699.356170223000\n",
       "dtype: float64"
      ]
     },
     "metadata": {},
     "output_type": "display_data"
    },
    {
     "name": "stdout",
     "output_type": "stream",
     "text": [
      "model\n"
     ]
    },
    {
     "data": {
      "text/plain": [
       "count    335642.000000000000\n",
       "mean        310.921920537541\n",
       "std         469.650374719185\n",
       "min           0.274539482014\n",
       "25%         149.851955928252\n",
       "50%         269.808492034523\n",
       "75%         376.141169147910\n",
       "max       13843.600282380325\n",
       "dtype: float64"
      ]
     },
     "metadata": {},
     "output_type": "display_data"
    }
   ],
   "source": [
    "def compare(s1,s2):\n",
    "    return (data_dict[s2][['SAT_RX','SAT_RY','SAT_RZ']] - data_dict[s1][['SAT_RX','SAT_RY','SAT_RZ']])\n",
    "\n",
    "base_error = np.sqrt((compare('tle_ground_truth','sgp4_baseline')**2).sum(axis=1))\n",
    "pred_error = np.sqrt((compare('tle_ground_truth','model_t5_predictions')**2).sum(axis=1))\n",
    "\n",
    "print(\"baseline\")\n",
    "display(base_error.describe())\n",
    "print(\"model\")\n",
    "display(pred_error.describe())\n",
    "\n",
    "# data_dict['ref']"
   ]
  },
  {
   "cell_type": "code",
   "execution_count": 18,
   "metadata": {},
   "outputs": [
    {
     "name": "stdout",
     "output_type": "stream",
     "text": [
      "baseline\n"
     ]
    },
    {
     "data": {
      "text/plain": [
       "0           41.308636510901\n",
       "1          151.531254625061\n",
       "2           89.446018956505\n",
       "3           41.323163815464\n",
       "4           55.123538569680\n",
       "                ...        \n",
       "335637    2428.244166311949\n",
       "335638    2423.435124764238\n",
       "335639    2846.190886136705\n",
       "335640    1646.051209593540\n",
       "335641    1025.826144763628\n",
       "Length: 335642, dtype: float64"
      ]
     },
     "metadata": {},
     "output_type": "display_data"
    },
    {
     "name": "stdout",
     "output_type": "stream",
     "text": [
      "model\n"
     ]
    },
    {
     "data": {
      "text/plain": [
       "0         1958.735795435096\n",
       "1          265.297015182948\n",
       "2          331.201476614479\n",
       "3         1776.668963273534\n",
       "4          334.576214249053\n",
       "                ...        \n",
       "335637     205.861746196039\n",
       "335638     235.500069622859\n",
       "335639     137.375733442005\n",
       "335640     328.892057403392\n",
       "335641     394.307276518629\n",
       "Length: 335642, dtype: float64"
      ]
     },
     "metadata": {},
     "output_type": "display_data"
    }
   ],
   "source": [
    "\n",
    "print(\"baseline\")\n",
    "display(base_error)\n",
    "print(\"model\")\n",
    "display(pred_error)\n"
   ]
  }
 ],
 "metadata": {
  "kernelspec": {
   "display_name": "Python 3",
   "language": "python",
   "name": "python3"
  },
  "language_info": {
   "codemirror_mode": {
    "name": "ipython",
    "version": 3
   },
   "file_extension": ".py",
   "mimetype": "text/x-python",
   "name": "python",
   "nbconvert_exporter": "python",
   "pygments_lexer": "ipython3",
   "version": "3.8.8"
  }
 },
 "nbformat": 4,
 "nbformat_minor": 2
}
