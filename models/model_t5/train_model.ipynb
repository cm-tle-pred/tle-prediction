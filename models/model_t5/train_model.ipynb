{
 "cells": [
  {
   "cell_type": "code",
   "execution_count": 1,
   "metadata": {},
   "outputs": [],
   "source": [
    "import pandas as pd\n",
    "import numpy as np\n",
    "import os\n",
    "import torch\n",
    "import torch.nn as nn\n",
    "from dataset import Dataset, to_device\n",
    "from model import NNSingleFeatureModel, NNMeanAnomalyModel, NNBiEpochBiasModel\n",
    "from sklearn.metrics import mean_squared_error, mean_absolute_error\n",
    "import matplotlib.pyplot as plt\n",
    "import pickle\n",
    "import normalize_data\n",
    "import random\n",
    "from time import time\n",
    "from tqdm.notebook import tqdm\n",
    "\n",
    "pd.set_option('display.max_columns', 999)\n",
    "pd.set_option('display.precision', 10)"
   ]
  },
  {
   "cell_type": "code",
   "execution_count": 2,
   "metadata": {},
   "outputs": [],
   "source": [
    "raw_data = {} # loads raw data and stores as a dict cache\n",
    "\n",
    "def dataset_key(dataset='', validation=False):\n",
    "    return dataset+('test' if validation else 'train')\n",
    "\n",
    "\n",
    "def load_data(raw, dataset='', validation=False):\n",
    "    '''\n",
    "    Return dataframe matching data set and validation. Dictionary input will be updated.\n",
    "\n",
    "    Parameters\n",
    "    ----------\n",
    "    raw : dict\n",
    "        dictionary which caches the dataframes and will be updated accordingly\n",
    "\n",
    "    dataset : str\n",
    "        which dataset to use? valid input includes: empty str for full set, sample_, and secret_\n",
    "\n",
    "    validation : bool\n",
    "        load validation set? if true then use _test, otherwise use _train.  Note secret_ doesn't have _train\n",
    "    '''\n",
    "    key = dataset+('test' if validation else 'train')\n",
    "    if key not in raw:\n",
    "        print(f\"Loading data to cache for: {key}\")\n",
    "        raw[key] = pd.read_pickle(f'{os.environ[\"GP_HIST_PATH\"]}/../t5_data/{key}.pkl')\n",
    "    return raw[key]"
   ]
  },
  {
   "cell_type": "code",
   "execution_count": 3,
   "metadata": {},
   "outputs": [],
   "source": [
    "def load_sub_model_with_config(train_config, model_configs, sub_model_key, X_count=0, force_recreate=False):\n",
    "    # a bit hacky, but in the training phase, we never load and use the minmax scalers\n",
    "    # just putting it here for when we want to load the model elsewhere THEN revert scaling\n",
    "    # probably better to have the scalers saved separately....\n",
    "\n",
    "    path = train_config['model_path']\n",
    "    prefix = train_config['model_prefix']\n",
    "    model_config = model_configs[sub_model_key]\n",
    "    f = f\"{path}/{prefix}{sub_model_key}.pth\"\n",
    "    if os.path.exists(f) and not force_recreate:\n",
    "        print(\"Loading existing model\")\n",
    "        checkpoint = torch.load(f)\n",
    "        net = checkpoint['net']\n",
    "        loss_func = checkpoint['loss_func']\n",
    "        optimizer = checkpoint['optimizer']\n",
    "        mean_losses = checkpoint['mean_losses']\n",
    "        next_epoch = checkpoint['next_epoch']\n",
    "    else:\n",
    "        if X_count == 0:\n",
    "            raise Exception('Cannot create model without training_set')\n",
    "        print(\"New model created\")\n",
    "        net = NNSingleFeatureModel(X_count,\n",
    "                                   model_config['head_out_size'],\n",
    "                                   model_config['feature_index'],\n",
    "                                   model_config['epoch_diff_index'],\n",
    "                                   model_config['mag_index'],\n",
    "                                   model_config['alternate_model'],\n",
    "                                   model_config['model_definition'])\n",
    "        loss_func = torch.nn.MSELoss()  # this is for regression mean squared loss\n",
    "#         loss_func = torch.nn.L1Loss()\n",
    "        # just setup a dummy optimizer and override it later\n",
    "        optimizer = torch.optim.Adam(net.parameters())\n",
    "#         optimizer = torch.optim.SGD(net.parameters(), lr=config['lr'], momentum=config['momentum'], weight_decay=config['weight_decay'])\n",
    "        mean_losses = []\n",
    "        next_epoch = 0\n",
    "        save_model_with_config(train_config, sub_model_key, net=net, loss_func=loss_func,\n",
    "                               optimizer=optimizer, mean_losses=mean_losses, next_epoch=next_epoch )\n",
    "    return net, loss_func, optimizer, mean_losses, next_epoch\n",
    "\n",
    "def save_model_with_config(train_config, sub_model_key, **kwargs):\n",
    "    path = train_config['model_path']\n",
    "    prefix = train_config['model_prefix']\n",
    "    f = f\"{path}/{prefix}{sub_model_key}.pth\"\n",
    "    torch.save(kwargs, f)"
   ]
  },
  {
   "cell_type": "code",
   "execution_count": 4,
   "metadata": {},
   "outputs": [],
   "source": [
    "def train_model(X_train, y_train, X_test, y_test, train_config, model_configs, sub_model_key, force_optimizer=None):\n",
    "    torch.manual_seed(train_config.get('random_seed',0))\n",
    "    device = train_config.get('device','cpu')\n",
    "    pyt_device = torch.device(device)\n",
    "    training_set = Dataset(X_train, y_train)\n",
    "    training_generator = torch.utils.data.DataLoader(training_set, **train_config['train_params'])\n",
    "    testing_set = Dataset(X_test, y_test)\n",
    "    testing_generator = torch.utils.data.DataLoader(testing_set, **train_config['test_params'])\n",
    "    net, loss_func, optimizer, mean_losses, next_epoch = load_sub_model_with_config(train_config, model_configs, sub_model_key, training_set)\n",
    "    \n",
    "    if force_optimizer != None:\n",
    "        optimizer = force_optimizer\n",
    "    to_device(net, pyt_device)\n",
    "    net.train()\n",
    "#     print(net)\n",
    "    if next_epoch == train_config['max_epochs']:\n",
    "        print(\"Model finished training. To retrain set force_train = True \")\n",
    "        net.eval()\n",
    "        return net, mean_losses\n",
    "    \n",
    "    epbar = tqdm(range(next_epoch, train_config['max_epochs']))\n",
    "    for epoch in epbar:\n",
    "        epbar.set_description(f\"Epoch {epoch}\")\n",
    "\n",
    "        running_eloss = 0\n",
    "        running_vloss = 0\n",
    "\n",
    "        ipbar = tqdm(training_generator, leave=False)\n",
    "        ipbar.set_description(f\"Training\")\n",
    "\n",
    "        for i, (x, y) in enumerate(ipbar):\n",
    "            x = to_device(x, pyt_device)\n",
    "            y = to_device(y, pyt_device)\n",
    "\n",
    "            optimizer.zero_grad()\n",
    "            prediction = net(x)     # input x and predict based on x\n",
    "            loss = loss_func(prediction, y)     # must be (1. nn output, 2. target)\n",
    "            loss.backward()         # backpropagation, compute gradients\n",
    "            optimizer.step()        # apply gradients\n",
    "            running_eloss += loss.item()\n",
    "\n",
    "        net.eval()\n",
    "        mean_vlosses = 0\n",
    "        if train_config['do_validate']:\n",
    "            with torch.set_grad_enabled(False):\n",
    "                vpbar = tqdm(testing_generator, leave=False)\n",
    "                vpbar.set_description(\"Validating\")\n",
    "                for i, (x, y) in enumerate(vpbar):\n",
    "                    x = to_device(x, pyt_device)\n",
    "                    y = to_device(y, pyt_device)\n",
    "                    prediction = net(x)\n",
    "                    loss = loss_func(prediction, y)\n",
    "                    running_vloss += loss.item()\n",
    "            mean_vlosses = running_vloss / len(testing_generator)\n",
    "\n",
    "        path = train_config['model_path']\n",
    "        prefix = train_config['model_prefix']\n",
    "        f = f\"{path}/model_history/{prefix}{sub_model_key}_{next_epoch:04}.pth\"\n",
    "        torch.save(net, f)\n",
    "\n",
    "        mean_elosses = running_eloss / len(training_generator)\n",
    "        mean_losses.append((mean_elosses, mean_vlosses))\n",
    "        next_epoch = len(mean_losses)\n",
    "        \n",
    "        save_model_with_config(train_config, sub_model_key, net=net, loss_func=loss_func,\n",
    "                               optimizer=optimizer, mean_losses=mean_losses, next_epoch=next_epoch )\n",
    "        net.train()\n",
    "\n",
    "        epbar.set_postfix({'train_loss':f\"{mean_elosses:.12f}\", 'val_loss':f\"{mean_vlosses:.12f}\"})\n",
    "    net.eval()\n",
    "    return net, mean_losses"
   ]
  },
  {
   "cell_type": "code",
   "execution_count": 5,
   "metadata": {},
   "outputs": [],
   "source": [
    "def get_ref_X_y(df):\n",
    "    ref_cols = [c for c in df.columns if c.startswith('__')]\n",
    "    X_cols = [c for c in df.columns if c.startswith('X_')]\n",
    "    y_cols = [c for c in df.columns if c.startswith('y_')]\n",
    "    return (df[ref_cols], df[X_cols], df[y_cols])"
   ]
  },
  {
   "cell_type": "code",
   "execution_count": 6,
   "metadata": {},
   "outputs": [],
   "source": [
    "train_config = {\n",
    "    'dataset' : 'sample2_', # eg: '', 'sample_', 'sample2_', 'secret_'\n",
    "    'model_path' : f\"{os.environ['GP_HIST_PATH']}/../t5_models\",\n",
    "    'model_prefix' : \"TRY_2_\", \n",
    "    'device' : 'cpu',\n",
    "    'random_seed' : 0,\n",
    "    'max_epochs' : 500,\n",
    "    'do_validate' : True,\n",
    "    'train_params' : {\n",
    "        'batch_size': 100000,\n",
    "        'shuffle': True,\n",
    "        'num_workers': 4,\n",
    "        'pin_memory': True,\n",
    "    },\n",
    "    'test_params' : {\n",
    "        'batch_size': 200000,\n",
    "        'num_workers': 4,\n",
    "        'pin_memory': True,\n",
    "    },\n",
    "}"
   ]
  },
  {
   "cell_type": "code",
   "execution_count": 7,
   "metadata": {},
   "outputs": [
    {
     "name": "stdout",
     "output_type": "stream",
     "text": [
      "Loading data to cache for: sample_train\n",
      "Loading data to cache for: sample_test\n",
      "CPU times: user 9.94 s, sys: 10.8 s, total: 20.8 s\n",
      "Wall time: 17.2 s\n"
     ]
    }
   ],
   "source": [
    "%%time\n",
    "\n",
    "train_df = normalize_data.normalize_all_columns(load_data(raw_data,dataset=train_config['dataset'],validation=False)).dropna()\n",
    "test_df = normalize_data.normalize_all_columns(load_data(raw_data,dataset=train_config['dataset'],validation=True)).dropna()\n",
    "ref_train, X_train, y_train = get_ref_X_y(train_df)\n",
    "ref_test, X_test, y_test = get_ref_X_y(test_df)\n",
    "y_cols = ['y_INCLINATION', 'y_ECCENTRICITY', 'y_MEAN_MOTION', 'y_RA_OF_ASC_NODE_REG', 'y_ARG_OF_PERICENTER_REG', 'y_REV_MA_REG']\n",
    "y_train = y_train[y_cols]\n",
    "y_test = y_test[y_cols]"
   ]
  },
  {
   "cell_type": "code",
   "execution_count": 8,
   "metadata": {},
   "outputs": [],
   "source": [
    "model_configs = {\n",
    "    'y_INCLINATION': { \n",
    "        'feature_index': X_train.columns.get_loc('X_INCLINATION_1'),\n",
    "        'epoch_diff_index': X_train.columns.get_loc('X_delta_EPOCH'),\n",
    "        'mag_index': None,\n",
    "        'alternate_model': NNBiEpochBiasModel,\n",
    "        'model_definition' : [\n",
    "            ('layer', 100), ('relu', None), ('drop', 0.5),\n",
    "            ('layer', 100), ('relu', None), ('drop', 0.5),\n",
    "            ('layer', 100), ('relu', None), ('drop', 0.5),\n",
    "            ('layer', 100), ('relu', None), ('drop', 0.5),\n",
    "            ('layer', 100), ('relu', None), ('drop', 0.5),\n",
    "            ('layer', 100), ('relu', None), ('drop', 0.5),\n",
    "            ('layer', 100), ('relu', None), ('drop', 0.5),\n",
    "            ('layer', 100), ('relu', None), ('drop', 0.5),\n",
    "            ('layer', 100), ('relu', None), ('drop', 0.5),\n",
    "            ('layer', 100), ('relu', None), ('drop', 0.5),\n",
    "            ('layer', 100), ('relu', None), ('drop', 0.5),\n",
    "            ('layer', 100), ('relu', None), ('drop', 0.5),\n",
    "            ('layer', 100), ('relu', None), ('drop', 0.5),\n",
    "            ('layer', 100), ('relu', None), ('drop', 0.5),\n",
    "        ], 'head_out_size': 100 },\n",
    "    'y_ECCENTRICITY': {\n",
    "        'feature_index': X_train.columns.get_loc('X_ECCENTRICITY_1'),\n",
    "        'epoch_diff_index': X_train.columns.get_loc('X_delta_EPOCH'),\n",
    "        'mag_index': None,\n",
    "        'alternate_model': NNBiEpochBiasModel,\n",
    "        'model_definition' : [\n",
    "            ('layer', 150), ('relu', None), ('drop', 0.5),\n",
    "            ('layer', 150), ('relu', None), ('drop', 0.5),\n",
    "            ('layer', 150), ('relu', None), ('drop', 0.5),\n",
    "            ('layer', 150), ('relu', None), ('drop', 0.5),\n",
    "            ('layer', 150), ('relu', None), ('drop', 0.5),\n",
    "            ('layer', 150), ('relu', None), ('drop', 0.5),\n",
    "            ('layer', 150), ('relu', None), ('drop', 0.5),\n",
    "            ('layer', 150), ('relu', None), ('drop', 0.5),\n",
    "            ('layer', 150), ('relu', None), ('drop', 0.5),\n",
    "            ('layer', 150), ('relu', None), ('drop', 0.5),\n",
    "            ('layer', 150), ('relu', None), ('drop', 0.5),\n",
    "            ('layer', 150), ('relu', None), ('drop', 0.5),\n",
    "            ('layer', 150), ('relu', None), ('drop', 0.5),\n",
    "            ('layer', 150), ('relu', None), ('drop', 0.5),\n",
    "        ], 'head_out_size': 150 },\n",
    "    'y_MEAN_MOTION': {\n",
    "        'feature_index': X_train.columns.get_loc('X_MEAN_MOTION_1'),\n",
    "        'epoch_diff_index': X_train.columns.get_loc('X_delta_EPOCH'),\n",
    "        'mag_index': None,\n",
    "        'alternate_model': NNBiEpochBiasModel,\n",
    "        'model_definition' : [\n",
    "            ('layer', 1000), ('relu', None),\n",
    "            ('layer', 500), ('relu', None),\n",
    "        ], 'head_out_size': 100 },\n",
    "    'y_RA_OF_ASC_NODE_REG': {\n",
    "        'feature_index': X_train.columns.get_loc('X_RA_OF_ASC_NODE_1'),\n",
    "        'epoch_diff_index': X_train.columns.get_loc('X_delta_EPOCH'),\n",
    "        'mag_index': None,\n",
    "        'alternate_model': NNBiEpochBiasModel,\n",
    "        'model_definition' : [\n",
    "            ('layer', 1000), ('relu', None),\n",
    "            ('layer', 500), ('relu', None),\n",
    "        ], 'head_out_size': 100 },\n",
    "    'y_ARG_OF_PERICENTER_REG': {\n",
    "        'feature_index': X_train.columns.get_loc('X_ARG_OF_PERICENTER_1'),\n",
    "        'epoch_diff_index': X_train.columns.get_loc('X_delta_EPOCH'),\n",
    "        'mag_index': None,\n",
    "        'alternate_model': NNBiEpochBiasModel,\n",
    "        'model_definition' : [\n",
    "            ('layer', 1000), ('relu', None),\n",
    "            ('layer', 500), ('relu', None),\n",
    "        ], 'head_out_size': 100 },\n",
    "    'y_REV_MA_REG': {\n",
    "        'feature_index': X_train.columns.get_loc('X_MEAN_ANOMALY_1'),\n",
    "        'epoch_diff_index': X_train.columns.get_loc('X_delta_EPOCH'),\n",
    "        'mag_index': X_train.columns.get_loc('X_MEAN_MOTION_1'),\n",
    "        'alternate_model': NNMeanAnomalyModel,\n",
    "        'model_definition' : [\n",
    "            ('layer', 80), ('relu', None), ('drop', 0.5),\n",
    "            ('layer', 80), ('relu', None), ('drop', 0.5),\n",
    "            ('layer', 80), ('relu', None), ('drop', 0.5),\n",
    "        ], 'head_out_size': 40 },\n",
    "}"
   ]
  },
  {
   "cell_type": "code",
   "execution_count": 9,
   "metadata": {},
   "outputs": [
    {
     "name": "stdout",
     "output_type": "stream",
     "text": [
      "Loading existing model\n",
      "Model for \"y_INCLINATION\" __ Last loss: [(3.455963329329612e-08, 7.591381967486655e-10)] __ Epoch: 44\n",
      "Loading existing model\n",
      "Model for \"y_ECCENTRICITY\" __ Last loss: [(9.142103758652778e-07, 3.299049993188419e-07)] __ Epoch: 43\n",
      "Loading existing model\n",
      "Model for \"y_MEAN_MOTION\" __ Last loss: [] __ Epoch: 0\n",
      "Loading existing model\n",
      "Model for \"y_RA_OF_ASC_NODE_REG\" __ Last loss: [] __ Epoch: 0\n",
      "Loading existing model\n",
      "Model for \"y_ARG_OF_PERICENTER_REG\" __ Last loss: [] __ Epoch: 0\n",
      "Loading existing model\n",
      "Model for \"y_REV_MA_REG\" __ Last loss: [(8.267218959818463e-06, 3.879294938867263e-06)] __ Epoch: 4\n"
     ]
    }
   ],
   "source": [
    "# Create or load all new sub models here if needed.\n",
    "all_models = {}\n",
    "for sub_key in model_configs.keys():\n",
    "    # When new models are created, a dummy optimizer is used\n",
    "    model, loss_func, optimizer, mean_losses, next_epoch = load_sub_model_with_config(train_config, model_configs, sub_key, len(X_train.columns), force_recreate=False)\n",
    "    print(f'Model for \"{sub_key}\" __ Last loss: {mean_losses[-1:]} __ Epoch: {next_epoch}')\n",
    "    all_models[sub_key] = (model, loss_func, optimizer, mean_losses, next_epoch)"
   ]
  },
  {
   "cell_type": "code",
   "execution_count": 10,
   "metadata": {},
   "outputs": [
    {
     "name": "stdout",
     "output_type": "stream",
     "text": [
      "New model created\n"
     ]
    }
   ],
   "source": [
    "# ['y_INCLINATION', 'y_ECCENTRICITY', 'y_MEAN_MOTION', 'y_RA_OF_ASC_NODE_REG', 'y_ARG_OF_PERICENTER_REG', 'y_REV_MA_REG']\n",
    "submodel_to_train = \"y_REV_MA_REG\"\n",
    "\n",
    "net, loss_func, optimizer, mean_losses, next_epoch = load_sub_model_with_config(\n",
    "    train_config, model_configs, submodel_to_train, len(X_train.columns), force_recreate=False)"
   ]
  },
  {
   "cell_type": "code",
   "execution_count": 11,
   "metadata": {},
   "outputs": [],
   "source": [
    "# # revert to the best validation loss epoch\n",
    "# min_val_loss_idx = np.argmin(np.array(mean_losses)[:,1])\n",
    "# print(f'Reverting to epoch: {min_val_loss_idx}')\n",
    "# f = f\"{train_config['model_path']}/model_history/{train_config['model_prefix']}{submodel_to_train}_{min_val_loss_idx:04}.pth\"\n",
    "# net = torch.load(f)\n",
    "# mean_losses = mean_losses[:min_val_loss_idx+1]\n",
    "# next_epoch = len(mean_losses)"
   ]
  },
  {
   "cell_type": "code",
   "execution_count": 12,
   "metadata": {},
   "outputs": [],
   "source": [
    "# Override optimizer or loss_func here\n",
    "optimizer = torch.optim.AdamW(net.parameters(), lr=1e-3, weight_decay=0.1, amsgrad=True)"
   ]
  },
  {
   "cell_type": "code",
   "execution_count": 13,
   "metadata": {},
   "outputs": [],
   "source": [
    "save_model_with_config(train_config, submodel_to_train, net=net, loss_func=loss_func,\n",
    "                       optimizer=optimizer, mean_losses=mean_losses, next_epoch=next_epoch)"
   ]
  },
  {
   "cell_type": "code",
   "execution_count": null,
   "metadata": {
    "scrolled": true
   },
   "outputs": [
    {
     "name": "stdout",
     "output_type": "stream",
     "text": [
      "Loading existing model\n"
     ]
    },
    {
     "data": {
      "application/vnd.jupyter.widget-view+json": {
       "model_id": "bdc4a6ea8c3b4e3184506a989ad6b0a8",
       "version_major": 2,
       "version_minor": 0
      },
      "text/plain": [
       "  0%|          | 0/500 [00:00<?, ?it/s]"
      ]
     },
     "metadata": {},
     "output_type": "display_data"
    },
    {
     "data": {
      "application/vnd.jupyter.widget-view+json": {
       "model_id": "",
       "version_major": 2,
       "version_minor": 0
      },
      "text/plain": [
       "  0%|          | 0/85 [00:00<?, ?it/s]"
      ]
     },
     "metadata": {},
     "output_type": "display_data"
    },
    {
     "data": {
      "application/vnd.jupyter.widget-view+json": {
       "model_id": "",
       "version_major": 2,
       "version_minor": 0
      },
      "text/plain": [
       "  0%|          | 0/2 [00:00<?, ?it/s]"
      ]
     },
     "metadata": {},
     "output_type": "display_data"
    },
    {
     "data": {
      "application/vnd.jupyter.widget-view+json": {
       "model_id": "",
       "version_major": 2,
       "version_minor": 0
      },
      "text/plain": [
       "  0%|          | 0/85 [00:00<?, ?it/s]"
      ]
     },
     "metadata": {},
     "output_type": "display_data"
    },
    {
     "data": {
      "application/vnd.jupyter.widget-view+json": {
       "model_id": "",
       "version_major": 2,
       "version_minor": 0
      },
      "text/plain": [
       "  0%|          | 0/2 [00:00<?, ?it/s]"
      ]
     },
     "metadata": {},
     "output_type": "display_data"
    },
    {
     "data": {
      "application/vnd.jupyter.widget-view+json": {
       "model_id": "",
       "version_major": 2,
       "version_minor": 0
      },
      "text/plain": [
       "  0%|          | 0/85 [00:00<?, ?it/s]"
      ]
     },
     "metadata": {},
     "output_type": "display_data"
    },
    {
     "data": {
      "application/vnd.jupyter.widget-view+json": {
       "model_id": "",
       "version_major": 2,
       "version_minor": 0
      },
      "text/plain": [
       "  0%|          | 0/2 [00:00<?, ?it/s]"
      ]
     },
     "metadata": {},
     "output_type": "display_data"
    },
    {
     "data": {
      "application/vnd.jupyter.widget-view+json": {
       "model_id": "bc3dce402f50437b98a502b93447482c",
       "version_major": 2,
       "version_minor": 0
      },
      "text/plain": [
       "  0%|          | 0/85 [00:00<?, ?it/s]"
      ]
     },
     "metadata": {},
     "output_type": "display_data"
    }
   ],
   "source": [
    "model, mean_losses = train_model(X_train, y_train[[submodel_to_train]], X_test, y_test[[submodel_to_train]], train_config, model_configs, submodel_to_train)"
   ]
  },
  {
   "cell_type": "code",
   "execution_count": null,
   "metadata": {},
   "outputs": [],
   "source": []
  },
  {
   "cell_type": "code",
   "execution_count": null,
   "metadata": {},
   "outputs": [],
   "source": []
  },
  {
   "cell_type": "code",
   "execution_count": null,
   "metadata": {},
   "outputs": [],
   "source": []
  }
 ],
 "metadata": {
  "kernelspec": {
   "display_name": "Python 3",
   "language": "python",
   "name": "python3"
  },
  "language_info": {
   "codemirror_mode": {
    "name": "ipython",
    "version": 3
   },
   "file_extension": ".py",
   "mimetype": "text/x-python",
   "name": "python",
   "nbconvert_exporter": "python",
   "pygments_lexer": "ipython3",
   "version": "3.8.8"
  }
 },
 "nbformat": 4,
 "nbformat_minor": 4
}
