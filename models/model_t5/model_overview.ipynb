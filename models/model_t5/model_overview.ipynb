{
 "cells": [
  {
   "cell_type": "code",
   "execution_count": 1,
   "metadata": {},
   "outputs": [],
   "source": [
    "import pandas as pd\n",
    "import numpy as np\n",
    "import os\n",
    "import torch\n",
    "import torch.nn as nn\n",
    "from dataset import Dataset, to_device\n",
    "from model import NNSingleFeatureModel, tims_mse_loss\n",
    "from sklearn.metrics import mean_squared_error, mean_absolute_error\n",
    "import matplotlib.pyplot as plt\n",
    "import pickle\n",
    "import normalize_data\n",
    "import random\n",
    "from time import time\n",
    "from tqdm.notebook import tqdm\n",
    "\n",
    "pd.set_option('display.max_columns', 999)\n",
    "pd.set_option('display.precision', 12)"
   ]
  },
  {
   "cell_type": "code",
   "execution_count": 2,
   "metadata": {},
   "outputs": [],
   "source": [
    "raw_data = {} # loads raw data and stores as a dict cache\n",
    "\n",
    "def dataset_key(dataset='', validation=False):\n",
    "    return dataset+('test' if validation else 'train')\n",
    "\n",
    "def load_data(raw, dataset='', validation=False):\n",
    "    key = dataset+('test' if validation else 'train')\n",
    "    if key not in raw:\n",
    "        print(f\"Loading data to cache for: {key}\")\n",
    "        raw[key] = pd.read_pickle(f'{os.environ[\"GP_HIST_PATH\"]}/../t5_data/{key}.pkl')\n",
    "    return raw[key]"
   ]
  },
  {
   "cell_type": "code",
   "execution_count": 3,
   "metadata": {},
   "outputs": [],
   "source": [
    "def load_sub_model_with_config(train_config, model_configs, sub_model_key, X_count=0, force_recreate=False):\n",
    "    path = train_config['model_path']\n",
    "    prefix = train_config['model_prefix']\n",
    "    model_config = model_configs[sub_model_key]\n",
    "    f = f\"{path}/{prefix}{sub_model_key}.pth\"\n",
    "    if os.path.exists(f) and not force_recreate:\n",
    "        print(\"Loading existing model\")\n",
    "        checkpoint = torch.load(f)\n",
    "        net = checkpoint['net']\n",
    "        loss_func = checkpoint['loss_func']\n",
    "        optimizer = checkpoint['optimizer']\n",
    "        mean_losses = checkpoint['mean_losses']\n",
    "        next_epoch = checkpoint['next_epoch']\n",
    "    else:\n",
    "        raise Exception('Model does not exist')\n",
    "    return net, loss_func, optimizer, mean_losses, next_epoch"
   ]
  },
  {
   "cell_type": "code",
   "execution_count": 4,
   "metadata": {},
   "outputs": [],
   "source": [
    "# # incase i need to save the current model in memory\n",
    "# def save_model_with_config(train_config, sub_model_key, **kwargs):\n",
    "#     path = train_config['model_path']\n",
    "#     prefix = train_config['model_prefix']\n",
    "#     f = f\"{path}/{prefix}{sub_model_key}.pth\"\n",
    "#     torch.save(kwargs, f)"
   ]
  },
  {
   "cell_type": "code",
   "execution_count": 5,
   "metadata": {},
   "outputs": [],
   "source": [
    "def predict(model, X, y, device='cpu'):\n",
    "    pyt_device = torch.device(device)\n",
    "    model.eval()\n",
    "    X_tensor = torch.from_numpy(X.to_numpy()).float()\n",
    "    nn_results = model(X_tensor).detach().numpy()\n",
    "    return nn_results"
   ]
  },
  {
   "cell_type": "code",
   "execution_count": 6,
   "metadata": {},
   "outputs": [],
   "source": [
    "def get_ref_X_y(df):\n",
    "    ref_cols = [c for c in df.columns if c.startswith('__')]\n",
    "    X_cols = [c for c in df.columns if c.startswith('X_')]\n",
    "    y_cols = [c for c in df.columns if c.startswith('y_')]\n",
    "    return (df[ref_cols], df[X_cols], df[y_cols])"
   ]
  },
  {
   "cell_type": "code",
   "execution_count": 7,
   "metadata": {},
   "outputs": [],
   "source": [
    "train_config = {\n",
    "    'dataset' : '', # '', 'sample_', 'secret_'\n",
    "    'model_prefix' : \"TRY_2_\", \n",
    "    'model_path' : f\"{os.environ['GP_HIST_PATH']}/../t5_models\",\n",
    "    'device' : 'cpu',\n",
    "}"
   ]
  },
  {
   "cell_type": "code",
   "execution_count": 16,
   "metadata": {},
   "outputs": [
    {
     "name": "stdout",
     "output_type": "stream",
     "text": [
      "CPU times: user 1.04 s, sys: 360 ms, total: 1.4 s\n",
      "Wall time: 937 ms\n"
     ]
    }
   ],
   "source": [
    "%%time\n",
    "test_df = normalize_data.normalize_all_columns(load_data(raw_data,dataset=train_config['dataset'],validation=True)).dropna()\n",
    "ref_test, X_test, y_test = get_ref_X_y(test_df)\n",
    "y_cols = ['y_INCLINATION', 'y_ECCENTRICITY', 'y_MEAN_MOTION', 'y_RA_OF_ASC_NODE_REG', 'y_ARG_OF_PERICENTER_REG', 'y_REV_MA_REG', 'y_BSTAR']\n",
    "y_test = y_test[y_cols]"
   ]
  },
  {
   "cell_type": "code",
   "execution_count": 17,
   "metadata": {},
   "outputs": [],
   "source": [
    "model_configs = {\n",
    "    'y_INCLINATION': { 'feature_index': X_test.columns.get_loc('X_INCLINATION_1') },\n",
    "    'y_ECCENTRICITY': { 'feature_index': X_test.columns.get_loc('X_ECCENTRICITY_1') },\n",
    "    'y_MEAN_MOTION': { 'feature_index': X_test.columns.get_loc('X_MEAN_MOTION_1') },\n",
    "    'y_RA_OF_ASC_NODE_REG': { 'feature_index': X_test.columns.get_loc('X_RA_OF_ASC_NODE_1') },\n",
    "    'y_ARG_OF_PERICENTER_REG': { 'feature_index': X_test.columns.get_loc('X_ARG_OF_PERICENTER_1') },\n",
    "    'y_REV_MA_REG': { 'feature_index': X_test.columns.get_loc('X_MEAN_ANOMALY_1') },\n",
    "    'y_BSTAR': { 'feature_index': X_test.columns.get_loc('X_BSTAR_1') },\n",
    "}"
   ]
  },
  {
   "cell_type": "code",
   "execution_count": 46,
   "metadata": {
    "scrolled": false
   },
   "outputs": [
    {
     "name": "stdout",
     "output_type": "stream",
     "text": [
      "Loading existing model\n",
      "y_BSTAR\n",
      "MSELoss()\n"
     ]
    },
    {
     "data": {
      "image/png": "[encoded data removed]",
      "text/plain": [
       "<Figure size 936x288 with 1 Axes>"
      ]
     },
     "metadata": {
      "needs_background": "light"
     },
     "output_type": "display_data"
    },
    {
     "name": "stdout",
     "output_type": "stream",
     "text": [
      "Epoch 19\n",
      "    Test set MAE (L1) loss: 0.0078403000945632\n",
      "    Test set MSE (L2) loss: 6.668189328201754e-05\n"
     ]
    },
    {
     "data": {
      "text/html": [
       "<div>\n",
       "<style scoped>\n",
       "    .dataframe tbody tr th:only-of-type {\n",
       "        vertical-align: middle;\n",
       "    }\n",
       "\n",
       "    .dataframe tbody tr th {\n",
       "        vertical-align: top;\n",
       "    }\n",
       "\n",
       "    .dataframe thead th {\n",
       "        text-align: right;\n",
       "    }\n",
       "</style>\n",
       "<table border=\"1\" class=\"dataframe\">\n",
       "  <thead>\n",
       "    <tr style=\"text-align: right;\">\n",
       "      <th></th>\n",
       "      <th>train loss</th>\n",
       "      <th>validation loss</th>\n",
       "    </tr>\n",
       "  </thead>\n",
       "  <tbody>\n",
       "    <tr>\n",
       "      <th>14</th>\n",
       "      <td>0.000090276277</td>\n",
       "      <td>0.000017977158</td>\n",
       "    </tr>\n",
       "    <tr>\n",
       "      <th>15</th>\n",
       "      <td>0.000088654878</td>\n",
       "      <td>0.000017646053</td>\n",
       "    </tr>\n",
       "    <tr>\n",
       "      <th>16</th>\n",
       "      <td>0.000088009670</td>\n",
       "      <td>0.000017597189</td>\n",
       "    </tr>\n",
       "    <tr>\n",
       "      <th>17</th>\n",
       "      <td>0.000087646517</td>\n",
       "      <td>0.000017536784</td>\n",
       "    </tr>\n",
       "    <tr>\n",
       "      <th>18</th>\n",
       "      <td>0.000087395123</td>\n",
       "      <td>0.000017467444</td>\n",
       "    </tr>\n",
       "  </tbody>\n",
       "</table>\n",
       "</div>"
      ],
      "text/plain": [
       "        train loss  validation loss\n",
       "14  0.000090276277   0.000017977158\n",
       "15  0.000088654878   0.000017646053\n",
       "16  0.000088009670   0.000017597189\n",
       "17  0.000087646517   0.000017536784\n",
       "18  0.000087395123   0.000017467444"
      ]
     },
     "metadata": {},
     "output_type": "display_data"
    },
    {
     "name": "stdout",
     "output_type": "stream",
     "text": [
      "==============================\n"
     ]
    },
    {
     "data": {
      "text/html": [
       "<div>\n",
       "<style scoped>\n",
       "    .dataframe tbody tr th:only-of-type {\n",
       "        vertical-align: middle;\n",
       "    }\n",
       "\n",
       "    .dataframe tbody tr th {\n",
       "        vertical-align: top;\n",
       "    }\n",
       "\n",
       "    .dataframe thead th {\n",
       "        text-align: right;\n",
       "    }\n",
       "</style>\n",
       "<table border=\"1\" class=\"dataframe\">\n",
       "  <thead>\n",
       "    <tr style=\"text-align: right;\">\n",
       "      <th></th>\n",
       "      <th>y_BSTAR</th>\n",
       "      <th>y_BSTAR_pred</th>\n",
       "      <th>X_BSTAR_1</th>\n",
       "    </tr>\n",
       "  </thead>\n",
       "  <tbody>\n",
       "    <tr>\n",
       "      <th>0</th>\n",
       "      <td>0.00659020</td>\n",
       "      <td>-0.001062626485</td>\n",
       "      <td>0.00692640</td>\n",
       "    </tr>\n",
       "    <tr>\n",
       "      <th>1</th>\n",
       "      <td>0.00452420</td>\n",
       "      <td>-0.003099127207</td>\n",
       "      <td>0.00487400</td>\n",
       "    </tr>\n",
       "    <tr>\n",
       "      <th>2</th>\n",
       "      <td>0.00257010</td>\n",
       "      <td>-0.005327551160</td>\n",
       "      <td>0.00263790</td>\n",
       "    </tr>\n",
       "    <tr>\n",
       "      <th>3</th>\n",
       "      <td>0.00250030</td>\n",
       "      <td>-0.005431911442</td>\n",
       "      <td>0.00251870</td>\n",
       "    </tr>\n",
       "    <tr>\n",
       "      <th>4</th>\n",
       "      <td>0.00244580</td>\n",
       "      <td>-0.005422205664</td>\n",
       "      <td>0.00250030</td>\n",
       "    </tr>\n",
       "    <tr>\n",
       "      <th>...</th>\n",
       "      <td>...</td>\n",
       "      <td>...</td>\n",
       "      <td>...</td>\n",
       "    </tr>\n",
       "    <tr>\n",
       "      <th>1263166</th>\n",
       "      <td>0.00044483</td>\n",
       "      <td>-0.007245772053</td>\n",
       "      <td>0.00030590</td>\n",
       "    </tr>\n",
       "    <tr>\n",
       "      <th>1263167</th>\n",
       "      <td>0.00042034</td>\n",
       "      <td>-0.007177029736</td>\n",
       "      <td>0.00031888</td>\n",
       "    </tr>\n",
       "    <tr>\n",
       "      <th>1263168</th>\n",
       "      <td>0.00044343</td>\n",
       "      <td>-0.007201077417</td>\n",
       "      <td>0.00031369</td>\n",
       "    </tr>\n",
       "    <tr>\n",
       "      <th>1263169</th>\n",
       "      <td>0.00044469</td>\n",
       "      <td>-0.007173295133</td>\n",
       "      <td>0.00033193</td>\n",
       "    </tr>\n",
       "    <tr>\n",
       "      <th>1263170</th>\n",
       "      <td>0.00048093</td>\n",
       "      <td>-0.007200032007</td>\n",
       "      <td>0.00031608</td>\n",
       "    </tr>\n",
       "  </tbody>\n",
       "</table>\n",
       "<p>1263171 rows × 3 columns</p>\n",
       "</div>"
      ],
      "text/plain": [
       "            y_BSTAR    y_BSTAR_pred   X_BSTAR_1\n",
       "0        0.00659020 -0.001062626485  0.00692640\n",
       "1        0.00452420 -0.003099127207  0.00487400\n",
       "2        0.00257010 -0.005327551160  0.00263790\n",
       "3        0.00250030 -0.005431911442  0.00251870\n",
       "4        0.00244580 -0.005422205664  0.00250030\n",
       "...             ...             ...         ...\n",
       "1263166  0.00044483 -0.007245772053  0.00030590\n",
       "1263167  0.00042034 -0.007177029736  0.00031888\n",
       "1263168  0.00044343 -0.007201077417  0.00031369\n",
       "1263169  0.00044469 -0.007173295133  0.00033193\n",
       "1263170  0.00048093 -0.007200032007  0.00031608\n",
       "\n",
       "[1263171 rows x 3 columns]"
      ]
     },
     "metadata": {},
     "output_type": "display_data"
    }
   ],
   "source": [
    "# Create or load all new sub models here if needed.\n",
    "# sample_idx = random.sample(list(X_test.index), 10000)\n",
    "sample_idx = X_test.index\n",
    "all_models = {}\n",
    "display_data = []\n",
    "# for sub_key in y_cols:\n",
    "for sub_key in ['y_BSTAR']:\n",
    "    # When new models are created, a dummy optimizer is used\n",
    "    model, loss_func, optimizer, mean_losses, next_epoch = load_sub_model_with_config(train_config, model_configs, sub_key)\n",
    "    all_models[sub_key] = (model, loss_func, optimizer, mean_losses, next_epoch)\n",
    "    try:\n",
    "        tl, vl = zip(*mean_losses)\n",
    "        print(f'{sub_key}')\n",
    "    except:\n",
    "        print(f\"No data for {sub_key}\")\n",
    "        continue\n",
    "\n",
    "    fig,ax = plt.subplots(figsize=(13,4))\n",
    "    print(loss_func)\n",
    "    ax.plot(tl, label=\"Training Loss\")\n",
    "    ax.plot(vl, label=\"Validation Loss\")\n",
    "    ax.set_title(sub_key)\n",
    "    ax.set_yscale('log')\n",
    "    ax.set_ylim((ax.get_ylim()[0], min(1,ax.get_ylim()[1])))\n",
    "    fig.legend()\n",
    "    plt.show()\n",
    "    \n",
    "    trained_model = model\n",
    "    X_sample = X_test.loc[sample_idx]\n",
    "    y_sample = y_test.loc[sample_idx][[sub_key]]\n",
    "    y_sample_pred = predict(trained_model, X_sample, y_sample, device=\"cpu\") # get predictions for each train\n",
    "    y_sample_pred_df = pd.DataFrame(y_sample_pred, columns=y_sample.columns, index=y_sample.index)  # put results into a dataframe\n",
    "    print(f'Epoch {next_epoch}')\n",
    "    print(f'    Test set MAE (L1) loss: {mean_absolute_error(y_sample, y_sample_pred_df)}')\n",
    "    print(f'    Test set MSE (L2) loss: {mean_squared_error(y_sample, y_sample_pred_df)}')\n",
    "    display_data.append(y_sample)\n",
    "    display_data.append(y_sample_pred_df.add_suffix('_pred'))\n",
    "    display_data.append(X_sample.iloc[:,model_configs[sub_key]['feature_index']:model_configs[sub_key]['feature_index']+1])\n",
    "#     display(X_sample.iloc[:,model_configs[sub_key]['feature_index']:model_configs[sub_key]['feature_index']+1].values - y_sample_pred_df.values)\n",
    "    display(pd.DataFrame(mean_losses, columns=['train loss','validation loss']).tail())\n",
    "    print('==============================')\n",
    "    \n",
    "df = pd.concat(display_data, axis=1)\n",
    "display(df)"
   ]
  },
  {
   "cell_type": "code",
   "execution_count": 11,
   "metadata": {},
   "outputs": [
    {
     "data": {
      "text/plain": [
       "count    1.263171000000e+06\n",
       "mean     1.468713916386e-03\n",
       "std      1.697796415271e-03\n",
       "min      1.911586000602e-09\n",
       "25%      3.632523918145e-04\n",
       "50%      7.947274653116e-04\n",
       "75%      1.923829307556e-03\n",
       "max      1.373089355959e-02\n",
       "dtype: float64"
      ]
     },
     "execution_count": 11,
     "metadata": {},
     "output_type": "execute_result"
    }
   ],
   "source": [
    "np.abs((df.y_RA_OF_ASC_NODE_REG - df.y_RA_OF_ASC_NODE_REG_pred)).describe()"
   ]
  },
  {
   "cell_type": "markdown",
   "metadata": {},
   "source": [
    "AdamW optimizer\n",
    "Decrease learning rate slowly over time\n",
    "Decrease weight decay if both training and validation are decreasing similarly"
   ]
  },
  {
   "cell_type": "code",
   "execution_count": 34,
   "metadata": {},
   "outputs": [
    {
     "ename": "AttributeError",
     "evalue": "'DataFrame' object has no attribute 'y_REV_MA_REG'",
     "output_type": "error",
     "traceback": [
      "\u001b[0;31m---------------------------------------------------------------------------\u001b[0m",
      "\u001b[0;31mAttributeError\u001b[0m                            Traceback (most recent call last)",
      "\u001b[0;32m<ipython-input-34-941a70a41cac>\u001b[0m in \u001b[0;36m<module>\u001b[0;34m\u001b[0m\n\u001b[0;32m----> 1\u001b[0;31m \u001b[0mnums\u001b[0m \u001b[0;34m=\u001b[0m \u001b[0;34m(\u001b[0m\u001b[0;34m(\u001b[0m\u001b[0;36m90\u001b[0m \u001b[0;34m*\u001b[0m \u001b[0;36m360\u001b[0m \u001b[0;34m*\u001b[0m \u001b[0mnp\u001b[0m\u001b[0;34m.\u001b[0m\u001b[0mabs\u001b[0m\u001b[0;34m(\u001b[0m\u001b[0;34m(\u001b[0m\u001b[0mdf\u001b[0m\u001b[0;34m.\u001b[0m\u001b[0my_REV_MA_REG\u001b[0m \u001b[0;34m-\u001b[0m \u001b[0mdf\u001b[0m\u001b[0;34m.\u001b[0m\u001b[0my_REV_MA_REG_pred\u001b[0m\u001b[0;34m)\u001b[0m\u001b[0;34m)\u001b[0m\u001b[0;34m)\u001b[0m\u001b[0;34m%\u001b[0m\u001b[0;36m360\u001b[0m\u001b[0;34m)\u001b[0m\u001b[0;34m\u001b[0m\u001b[0;34m\u001b[0m\u001b[0m\n\u001b[0m\u001b[1;32m      2\u001b[0m \u001b[0mnums\u001b[0m \u001b[0;34m=\u001b[0m \u001b[0mnp\u001b[0m\u001b[0;34m.\u001b[0m\u001b[0mminimum\u001b[0m\u001b[0;34m(\u001b[0m\u001b[0mnums\u001b[0m\u001b[0;34m,\u001b[0m \u001b[0mnp\u001b[0m\u001b[0;34m.\u001b[0m\u001b[0mabs\u001b[0m\u001b[0;34m(\u001b[0m\u001b[0;36m360\u001b[0m\u001b[0;34m-\u001b[0m\u001b[0mnums\u001b[0m\u001b[0;34m)\u001b[0m\u001b[0;34m)\u001b[0m\u001b[0;34m\u001b[0m\u001b[0;34m\u001b[0m\u001b[0m\n\u001b[1;32m      3\u001b[0m \u001b[0mnums\u001b[0m\u001b[0;34m.\u001b[0m\u001b[0mname\u001b[0m \u001b[0;34m=\u001b[0m \u001b[0;34m\"MEAN_ANOMALY_ERROR\"\u001b[0m\u001b[0;34m\u001b[0m\u001b[0;34m\u001b[0m\u001b[0m\n\u001b[1;32m      4\u001b[0m \u001b[0mnums\u001b[0m\u001b[0;34m.\u001b[0m\u001b[0mquantile\u001b[0m\u001b[0;34m(\u001b[0m\u001b[0;34m[\u001b[0m\u001b[0;36m0.1\u001b[0m\u001b[0;34m,\u001b[0m \u001b[0;36m0.2\u001b[0m\u001b[0;34m,\u001b[0m \u001b[0;36m0.3\u001b[0m\u001b[0;34m,\u001b[0m \u001b[0;36m0.4\u001b[0m\u001b[0;34m,\u001b[0m \u001b[0;36m0.5\u001b[0m\u001b[0;34m,\u001b[0m \u001b[0;36m0.6\u001b[0m\u001b[0;34m,\u001b[0m \u001b[0;36m0.7\u001b[0m\u001b[0;34m,\u001b[0m \u001b[0;36m0.8\u001b[0m\u001b[0;34m,\u001b[0m \u001b[0;36m0.9\u001b[0m\u001b[0;34m,\u001b[0m \u001b[0;36m0.95\u001b[0m\u001b[0;34m,\u001b[0m \u001b[0;36m0.975\u001b[0m\u001b[0;34m,\u001b[0m \u001b[0;36m0.99\u001b[0m\u001b[0;34m,\u001b[0m \u001b[0;36m0.999\u001b[0m\u001b[0;34m]\u001b[0m\u001b[0;34m)\u001b[0m\u001b[0;34m\u001b[0m\u001b[0;34m\u001b[0m\u001b[0m\n",
      "\u001b[0;32m~/anaconda3/envs/siads-orbital/lib/python3.8/site-packages/pandas/core/generic.py\u001b[0m in \u001b[0;36m__getattr__\u001b[0;34m(self, name)\u001b[0m\n\u001b[1;32m   5463\u001b[0m             \u001b[0;32mif\u001b[0m \u001b[0mself\u001b[0m\u001b[0;34m.\u001b[0m\u001b[0m_info_axis\u001b[0m\u001b[0;34m.\u001b[0m\u001b[0m_can_hold_identifiers_and_holds_name\u001b[0m\u001b[0;34m(\u001b[0m\u001b[0mname\u001b[0m\u001b[0;34m)\u001b[0m\u001b[0;34m:\u001b[0m\u001b[0;34m\u001b[0m\u001b[0;34m\u001b[0m\u001b[0m\n\u001b[1;32m   5464\u001b[0m                 \u001b[0;32mreturn\u001b[0m \u001b[0mself\u001b[0m\u001b[0;34m[\u001b[0m\u001b[0mname\u001b[0m\u001b[0;34m]\u001b[0m\u001b[0;34m\u001b[0m\u001b[0;34m\u001b[0m\u001b[0m\n\u001b[0;32m-> 5465\u001b[0;31m             \u001b[0;32mreturn\u001b[0m \u001b[0mobject\u001b[0m\u001b[0;34m.\u001b[0m\u001b[0m__getattribute__\u001b[0m\u001b[0;34m(\u001b[0m\u001b[0mself\u001b[0m\u001b[0;34m,\u001b[0m \u001b[0mname\u001b[0m\u001b[0;34m)\u001b[0m\u001b[0;34m\u001b[0m\u001b[0;34m\u001b[0m\u001b[0m\n\u001b[0m\u001b[1;32m   5466\u001b[0m \u001b[0;34m\u001b[0m\u001b[0m\n\u001b[1;32m   5467\u001b[0m     \u001b[0;32mdef\u001b[0m \u001b[0m__setattr__\u001b[0m\u001b[0;34m(\u001b[0m\u001b[0mself\u001b[0m\u001b[0;34m,\u001b[0m \u001b[0mname\u001b[0m\u001b[0;34m:\u001b[0m \u001b[0mstr\u001b[0m\u001b[0;34m,\u001b[0m \u001b[0mvalue\u001b[0m\u001b[0;34m)\u001b[0m \u001b[0;34m->\u001b[0m \u001b[0;32mNone\u001b[0m\u001b[0;34m:\u001b[0m\u001b[0;34m\u001b[0m\u001b[0;34m\u001b[0m\u001b[0m\n",
      "\u001b[0;31mAttributeError\u001b[0m: 'DataFrame' object has no attribute 'y_REV_MA_REG'"
     ]
    }
   ],
   "source": [
    "nums = ((90 * 360 * np.abs((df.y_REV_MA_REG - df.y_REV_MA_REG_pred)))%360)\n",
    "nums = np.minimum(nums, np.abs(360-nums))\n",
    "nums.name = \"MEAN_ANOMALY_ERROR\"\n",
    "nums.quantile([0.1, 0.2, 0.3, 0.4, 0.5, 0.6, 0.7, 0.8, 0.9, 0.95, 0.975, 0.99, 0.999])"
   ]
  },
  {
   "cell_type": "code",
   "execution_count": 43,
   "metadata": {},
   "outputs": [
    {
     "name": "stdout",
     "output_type": "stream",
     "text": [
      "Loading existing model\n",
      "y_INCLINATION\n",
      "Epoch:      44\n",
      "Last TLoss: 3.455963329329612e-08\n",
      "Last VLoss: 7.591381967486655e-10\n",
      "Loss func:  MSELoss()\n",
      "Optimizer:  AdamW (\n",
      "Parameter Group 0\n",
      "    amsgrad: True\n",
      "    betas: (0.9, 0.999)\n",
      "    eps: 1e-08\n",
      "    lr: 1e-09\n",
      "    weight_decay: 0.057\n",
      ")\n",
      "---------\n",
      "Loading existing model\n",
      "y_ECCENTRICITY\n",
      "Epoch:      43\n",
      "Last TLoss: 9.142103758652778e-07\n",
      "Last VLoss: 3.299049993188419e-07\n",
      "Loss func:  MSELoss()\n",
      "Optimizer:  AdamW (\n",
      "Parameter Group 0\n",
      "    amsgrad: True\n",
      "    betas: (0.9, 0.999)\n",
      "    eps: 1e-08\n",
      "    lr: 1e-08\n",
      "    weight_decay: 0.05\n",
      ")\n",
      "---------\n",
      "Loading existing model\n",
      "y_MEAN_MOTION\n",
      "Epoch:      35\n",
      "Last TLoss: 6.317781523864659e-07\n",
      "Last VLoss: 8.657459881687503e-07\n",
      "Loss func:  MSELoss()\n",
      "Optimizer:  AdamW (\n",
      "Parameter Group 0\n",
      "    amsgrad: True\n",
      "    betas: (0.9, 0.999)\n",
      "    eps: 1e-08\n",
      "    lr: 1e-05\n",
      "    weight_decay: 0.01\n",
      ")\n",
      "---------\n",
      "Loading existing model\n",
      "y_RA_OF_ASC_NODE_REG\n",
      "Epoch:      51\n",
      "Last TLoss: 5.287783184151155e-05\n",
      "Last VLoss: 4.647805082770771e-06\n",
      "Loss func:  MSELoss()\n",
      "Optimizer:  AdamW (\n",
      "Parameter Group 0\n",
      "    amsgrad: True\n",
      "    betas: (0.9, 0.999)\n",
      "    eps: 1e-08\n",
      "    lr: 1e-05\n",
      "    weight_decay: 0.005\n",
      ")\n",
      "---------\n",
      "Loading existing model\n",
      "y_ARG_OF_PERICENTER_REG\n",
      "Epoch:      103\n",
      "Last TLoss: 0.00013916188714645022\n",
      "Last VLoss: 0.0001239393584130864\n",
      "Loss func:  MSELoss()\n",
      "Optimizer:  AdamW (\n",
      "Parameter Group 0\n",
      "    amsgrad: True\n",
      "    betas: (0.9, 0.999)\n",
      "    eps: 1e-08\n",
      "    lr: 1e-08\n",
      "    weight_decay: 0.001\n",
      ")\n",
      "---------\n",
      "Loading existing model\n",
      "y_REV_MA_REG\n",
      "Epoch:      20\n",
      "Last TLoss: 9.931928345083597e-06\n",
      "Last VLoss: 1.4516340343107004e-05\n",
      "Loss func:  <function tims_mae_loss at 0x7fe65e90a160>\n",
      "Optimizer:  AdamW (\n",
      "Parameter Group 0\n",
      "    amsgrad: True\n",
      "    betas: (0.9, 0.999)\n",
      "    eps: 1e-08\n",
      "    lr: 1e-07\n",
      "    weight_decay: 0.05\n",
      ")\n",
      "---------\n",
      "Loading existing model\n",
      "y_BSTAR\n",
      "Epoch:      18\n",
      "Last TLoss: 0.00013150156814719483\n",
      "Last VLoss: 1.3408493811896602e-05\n",
      "Loss func:  MSELoss()\n",
      "Optimizer:  SGD (\n",
      "Parameter Group 0\n",
      "    dampening: 0\n",
      "    lr: 0.001\n",
      "    momentum: 0\n",
      "    nesterov: False\n",
      "    weight_decay: 0\n",
      ")\n",
      "---------\n"
     ]
    }
   ],
   "source": [
    "# another model overview\n",
    "# Load all new sub models here if needed.\n",
    "all_models = {}\n",
    "for sub_key in model_configs.keys():\n",
    "    # When new models are created, a dummy optimizer is used\n",
    "    model, loss_func, optimizer, mean_losses, next_epoch = load_sub_model_with_config(train_config, model_configs, sub_key, len(X_test.columns), force_recreate=False)\n",
    "    try:\n",
    "        tl, vl = zip(*mean_losses)\n",
    "    except:\n",
    "        print(f\"No data for {sub_key}\")\n",
    "        continue\n",
    "    print(f'{sub_key}\\nEpoch:      {next_epoch}\\nLast TLoss: {tl[-1]}\\nLast VLoss: {vl[-1]}')\n",
    "    print(f'Loss func:  {loss_func}\\nOptimizer:  {optimizer}')\n",
    "    print('---------')\n",
    "    all_models[sub_key] = (model, loss_func, optimizer, mean_losses, next_epoch)"
   ]
  },
  {
   "cell_type": "code",
   "execution_count": null,
   "metadata": {},
   "outputs": [],
   "source": []
  }
 ],
 "metadata": {
  "kernelspec": {
   "display_name": "Python 3",
   "language": "python",
   "name": "python3"
  },
  "language_info": {
   "codemirror_mode": {
    "name": "ipython",
    "version": 3
   },
   "file_extension": ".py",
   "mimetype": "text/x-python",
   "name": "python",
   "nbconvert_exporter": "python",
   "pygments_lexer": "ipython3",
   "version": "3.8.8"
  }
 },
 "nbformat": 4,
 "nbformat_minor": 4
}
