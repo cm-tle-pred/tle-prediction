{
 "cells": [
  {
   "cell_type": "code",
   "execution_count": 1,
   "metadata": {},
   "outputs": [],
   "source": [
    "import pandas as pd\n",
    "import numpy as np\n",
    "import os\n",
    "import torch\n",
    "import torch.nn as nn\n",
    "from dataset import Dataset, to_device\n",
    "from model import NNSingleFeatureModel, tims_mse_loss\n",
    "from sklearn.metrics import mean_squared_error, mean_absolute_error\n",
    "import matplotlib.pyplot as plt\n",
    "import pickle\n",
    "import normalize_data\n",
    "import random\n",
    "from time import time\n",
    "from tqdm.notebook import tqdm\n",
    "\n",
    "pd.set_option('display.max_columns', 999)\n",
    "pd.set_option('display.precision', 12)"
   ]
  },
  {
   "cell_type": "code",
   "execution_count": 2,
   "metadata": {},
   "outputs": [],
   "source": [
    "raw_data = {} # loads raw data and stores as a dict cache\n",
    "\n",
    "def dataset_key(dataset='', validation=False):\n",
    "    return dataset+('test' if validation else 'train')\n",
    "\n",
    "def load_data(raw, dataset='', validation=False):\n",
    "    key = dataset+('test' if validation else 'train')\n",
    "    if key not in raw:\n",
    "        print(f\"Loading data to cache for: {key}\")\n",
    "        raw[key] = pd.read_pickle(f'{os.environ[\"GP_HIST_PATH\"]}/../t5_data/{key}.pkl')\n",
    "    return raw[key]"
   ]
  },
  {
   "cell_type": "code",
   "execution_count": 3,
   "metadata": {},
   "outputs": [],
   "source": [
    "def load_sub_model_with_config(train_config, model_configs, sub_model_key, X_count=0, force_recreate=False):\n",
    "    path = train_config['model_path']\n",
    "    prefix = train_config['model_prefix']\n",
    "    model_config = model_configs[sub_model_key]\n",
    "    f = f\"{path}/{prefix}{sub_model_key}.pth\"\n",
    "    if os.path.exists(f) and not force_recreate:\n",
    "        print(\"Loading existing model\")\n",
    "        checkpoint = torch.load(f)\n",
    "        net = checkpoint['net']\n",
    "        loss_func = checkpoint['loss_func']\n",
    "        optimizer = checkpoint['optimizer']\n",
    "        mean_losses = checkpoint['mean_losses']\n",
    "        next_epoch = checkpoint['next_epoch']\n",
    "    else:\n",
    "        raise Exception('Model does not exist')\n",
    "    return net, loss_func, optimizer, mean_losses, next_epoch"
   ]
  },
  {
   "cell_type": "code",
   "execution_count": 4,
   "metadata": {},
   "outputs": [],
   "source": [
    "# # incase i need to save the current model in memory\n",
    "# def save_model_with_config(train_config, sub_model_key, **kwargs):\n",
    "#     path = train_config['model_path']\n",
    "#     prefix = train_config['model_prefix']\n",
    "#     f = f\"{path}/{prefix}{sub_model_key}.pth\"\n",
    "#     torch.save(kwargs, f)"
   ]
  },
  {
   "cell_type": "code",
   "execution_count": 5,
   "metadata": {},
   "outputs": [],
   "source": [
    "def predict(model, X, y, device='cpu'):\n",
    "    pyt_device = torch.device(device)\n",
    "    model.eval()\n",
    "    X_tensor = torch.from_numpy(X.to_numpy()).float()\n",
    "    nn_results = model(X_tensor).detach().numpy()\n",
    "    return nn_results"
   ]
  },
  {
   "cell_type": "code",
   "execution_count": 6,
   "metadata": {},
   "outputs": [],
   "source": [
    "def get_ref_X_y(df):\n",
    "    ref_cols = [c for c in df.columns if c.startswith('__')]\n",
    "    X_cols = [c for c in df.columns if c.startswith('X_')]\n",
    "    y_cols = [c for c in df.columns if c.startswith('y_')]\n",
    "    return (df[ref_cols], df[X_cols], df[y_cols])"
   ]
  },
  {
   "cell_type": "code",
   "execution_count": 7,
   "metadata": {},
   "outputs": [],
   "source": [
    "train_config = {\n",
    "    'dataset' : 'sample_', # '', 'sample_', 'secret_'\n",
    "    'model_prefix' : \"TRY_2_\", \n",
    "    'model_path' : f\"{os.environ['GP_HIST_PATH']}/../t5_models\",\n",
    "    'device' : 'cpu',\n",
    "}"
   ]
  },
  {
   "cell_type": "code",
   "execution_count": 8,
   "metadata": {},
   "outputs": [
    {
     "name": "stdout",
     "output_type": "stream",
     "text": [
      "Loading data to cache for: sample_test\n",
      "CPU times: user 388 ms, sys: 564 ms, total: 952 ms\n",
      "Wall time: 3.45 s\n"
     ]
    }
   ],
   "source": [
    "%%time\n",
    "test_df = normalize_data.normalize_all_columns(load_data(raw_data,dataset=train_config['dataset'],validation=True)).dropna()\n",
    "ref_test, X_test, y_test = get_ref_X_y(test_df)\n",
    "y_cols = ['y_INCLINATION', 'y_ECCENTRICITY', 'y_MEAN_MOTION', 'y_RA_OF_ASC_NODE_REG', 'y_ARG_OF_PERICENTER_REG', 'y_REV_MA_REG', 'y_BSTAR']\n",
    "y_test = y_test[y_cols]"
   ]
  },
  {
   "cell_type": "code",
   "execution_count": 9,
   "metadata": {},
   "outputs": [],
   "source": [
    "model_configs = {\n",
    "    'y_INCLINATION': { 'feature_index': X_test.columns.get_loc('X_INCLINATION_1') },\n",
    "    'y_ECCENTRICITY': { 'feature_index': X_test.columns.get_loc('X_ECCENTRICITY_1') },\n",
    "    'y_MEAN_MOTION': { 'feature_index': X_test.columns.get_loc('X_MEAN_MOTION_1') },\n",
    "    'y_RA_OF_ASC_NODE_REG': { 'feature_index': X_test.columns.get_loc('X_RA_OF_ASC_NODE_1') },\n",
    "    'y_ARG_OF_PERICENTER_REG': { 'feature_index': X_test.columns.get_loc('X_ARG_OF_PERICENTER_1') },\n",
    "    'y_REV_MA_REG': { 'feature_index': X_test.columns.get_loc('X_MEAN_ANOMALY_1') },\n",
    "    'y_BSTAR': { 'feature_index': X_test.columns.get_loc('X_BSTAR_1') },\n",
    "}"
   ]
  },
  {
   "cell_type": "code",
   "execution_count": 24,
   "metadata": {
    "scrolled": false
   },
   "outputs": [
    {
     "name": "stdout",
     "output_type": "stream",
     "text": [
      "Loading existing model\n",
      "y_ARG_OF_PERICENTER_REG\n",
      "<function tims_mse_loss at 0x7f00b1a13ee0>\n"
     ]
    },
    {
     "data": {
      "image/png": "[encoded data removed]",
      "text/plain": [
       "<Figure size 936x288 with 1 Axes>"
      ]
     },
     "metadata": {
      "needs_background": "light"
     },
     "output_type": "display_data"
    },
    {
     "name": "stdout",
     "output_type": "stream",
     "text": [
      "Epoch 14\n",
      "    Test set MAE (L1) loss: 0.020588909553067313\n",
      "    Test set MSE (L2) loss: 0.0007374913540628801\n"
     ]
    },
    {
     "data": {
      "text/html": [
       "<div>\n",
       "<style scoped>\n",
       "    .dataframe tbody tr th:only-of-type {\n",
       "        vertical-align: middle;\n",
       "    }\n",
       "\n",
       "    .dataframe tbody tr th {\n",
       "        vertical-align: top;\n",
       "    }\n",
       "\n",
       "    .dataframe thead th {\n",
       "        text-align: right;\n",
       "    }\n",
       "</style>\n",
       "<table border=\"1\" class=\"dataframe\">\n",
       "  <thead>\n",
       "    <tr style=\"text-align: right;\">\n",
       "      <th></th>\n",
       "      <th>train loss</th>\n",
       "      <th>validation loss</th>\n",
       "    </tr>\n",
       "  </thead>\n",
       "  <tbody>\n",
       "    <tr>\n",
       "      <th>9</th>\n",
       "      <td>0.000762570847</td>\n",
       "      <td>0.000309609213</td>\n",
       "    </tr>\n",
       "    <tr>\n",
       "      <th>10</th>\n",
       "      <td>0.000731156717</td>\n",
       "      <td>0.000290761222</td>\n",
       "    </tr>\n",
       "    <tr>\n",
       "      <th>11</th>\n",
       "      <td>0.000723558136</td>\n",
       "      <td>0.000278027389</td>\n",
       "    </tr>\n",
       "    <tr>\n",
       "      <th>12</th>\n",
       "      <td>0.000715915785</td>\n",
       "      <td>0.000268318561</td>\n",
       "    </tr>\n",
       "    <tr>\n",
       "      <th>13</th>\n",
       "      <td>0.000709429694</td>\n",
       "      <td>0.000260103188</td>\n",
       "    </tr>\n",
       "  </tbody>\n",
       "</table>\n",
       "</div>"
      ],
      "text/plain": [
       "        train loss  validation loss\n",
       "9   0.000762570847   0.000309609213\n",
       "10  0.000731156717   0.000290761222\n",
       "11  0.000723558136   0.000278027389\n",
       "12  0.000715915785   0.000268318561\n",
       "13  0.000709429694   0.000260103188"
      ]
     },
     "metadata": {},
     "output_type": "display_data"
    },
    {
     "name": "stdout",
     "output_type": "stream",
     "text": [
      "==============================\n"
     ]
    },
    {
     "data": {
      "text/html": [
       "<div>\n",
       "<style scoped>\n",
       "    .dataframe tbody tr th:only-of-type {\n",
       "        vertical-align: middle;\n",
       "    }\n",
       "\n",
       "    .dataframe tbody tr th {\n",
       "        vertical-align: top;\n",
       "    }\n",
       "\n",
       "    .dataframe thead th {\n",
       "        text-align: right;\n",
       "    }\n",
       "</style>\n",
       "<table border=\"1\" class=\"dataframe\">\n",
       "  <thead>\n",
       "    <tr style=\"text-align: right;\">\n",
       "      <th></th>\n",
       "      <th>y_ARG_OF_PERICENTER_REG</th>\n",
       "      <th>y_ARG_OF_PERICENTER_REG_pred</th>\n",
       "      <th>X_ARG_OF_PERICENTER_1</th>\n",
       "    </tr>\n",
       "  </thead>\n",
       "  <tbody>\n",
       "    <tr>\n",
       "      <th>0</th>\n",
       "      <td>-0.000193333333</td>\n",
       "      <td>-0.024023735896</td>\n",
       "      <td>0.003265833333</td>\n",
       "    </tr>\n",
       "    <tr>\n",
       "      <th>1</th>\n",
       "      <td>0.987631111111</td>\n",
       "      <td>0.969691455364</td>\n",
       "      <td>0.999806666667</td>\n",
       "    </tr>\n",
       "    <tr>\n",
       "      <th>2</th>\n",
       "      <td>0.980530833333</td>\n",
       "      <td>0.959084928036</td>\n",
       "      <td>0.987631111111</td>\n",
       "    </tr>\n",
       "    <tr>\n",
       "      <th>3</th>\n",
       "      <td>0.976759166667</td>\n",
       "      <td>0.953180730343</td>\n",
       "      <td>0.980530833333</td>\n",
       "    </tr>\n",
       "    <tr>\n",
       "      <th>4</th>\n",
       "      <td>0.972732777778</td>\n",
       "      <td>0.949072837830</td>\n",
       "      <td>0.976759166667</td>\n",
       "    </tr>\n",
       "    <tr>\n",
       "      <th>...</th>\n",
       "      <td>...</td>\n",
       "      <td>...</td>\n",
       "      <td>...</td>\n",
       "    </tr>\n",
       "    <tr>\n",
       "      <th>335637</th>\n",
       "      <td>0.292393888889</td>\n",
       "      <td>0.297200977802</td>\n",
       "      <td>0.350423333333</td>\n",
       "    </tr>\n",
       "    <tr>\n",
       "      <th>335638</th>\n",
       "      <td>0.282199444444</td>\n",
       "      <td>0.286962866783</td>\n",
       "      <td>0.340186666667</td>\n",
       "    </tr>\n",
       "    <tr>\n",
       "      <th>335639</th>\n",
       "      <td>0.282199444444</td>\n",
       "      <td>0.292467772961</td>\n",
       "      <td>0.350423333333</td>\n",
       "    </tr>\n",
       "    <tr>\n",
       "      <th>335640</th>\n",
       "      <td>0.037817777778</td>\n",
       "      <td>0.034113839269</td>\n",
       "      <td>0.079460277778</td>\n",
       "    </tr>\n",
       "    <tr>\n",
       "      <th>335641</th>\n",
       "      <td>0.971365555556</td>\n",
       "      <td>0.958537101746</td>\n",
       "      <td>0.996782777778</td>\n",
       "    </tr>\n",
       "  </tbody>\n",
       "</table>\n",
       "<p>335642 rows × 3 columns</p>\n",
       "</div>"
      ],
      "text/plain": [
       "        y_ARG_OF_PERICENTER_REG  y_ARG_OF_PERICENTER_REG_pred  \\\n",
       "0               -0.000193333333               -0.024023735896   \n",
       "1                0.987631111111                0.969691455364   \n",
       "2                0.980530833333                0.959084928036   \n",
       "3                0.976759166667                0.953180730343   \n",
       "4                0.972732777778                0.949072837830   \n",
       "...                         ...                           ...   \n",
       "335637           0.292393888889                0.297200977802   \n",
       "335638           0.282199444444                0.286962866783   \n",
       "335639           0.282199444444                0.292467772961   \n",
       "335640           0.037817777778                0.034113839269   \n",
       "335641           0.971365555556                0.958537101746   \n",
       "\n",
       "        X_ARG_OF_PERICENTER_1  \n",
       "0              0.003265833333  \n",
       "1              0.999806666667  \n",
       "2              0.987631111111  \n",
       "3              0.980530833333  \n",
       "4              0.976759166667  \n",
       "...                       ...  \n",
       "335637         0.350423333333  \n",
       "335638         0.340186666667  \n",
       "335639         0.350423333333  \n",
       "335640         0.079460277778  \n",
       "335641         0.996782777778  \n",
       "\n",
       "[335642 rows x 3 columns]"
      ]
     },
     "metadata": {},
     "output_type": "display_data"
    }
   ],
   "source": [
    "# Create or load all new sub models here if needed.\n",
    "# sample_idx = random.sample(list(X_test.index), 10000)\n",
    "sample_idx = X_test.index\n",
    "all_models = {}\n",
    "display_data = []\n",
    "# for sub_key in y_cols:\n",
    "for sub_key in ['y_ARG_OF_PERICENTER_REG']:\n",
    "    # When new models are created, a dummy optimizer is used\n",
    "    model, loss_func, optimizer, mean_losses, next_epoch = load_sub_model_with_config(train_config, model_configs, sub_key)\n",
    "    all_models[sub_key] = (model, loss_func, optimizer, mean_losses, next_epoch)\n",
    "    try:\n",
    "        tl, vl = zip(*mean_losses)\n",
    "        print(f'{sub_key}')\n",
    "    except:\n",
    "        print(f\"No data for {sub_key}\")\n",
    "        continue\n",
    "\n",
    "    fig,ax = plt.subplots(figsize=(13,4))\n",
    "    print(loss_func)\n",
    "    ax.plot(tl, label=\"Training Loss\")\n",
    "    ax.plot(vl, label=\"Validation Loss\")\n",
    "    ax.set_title(sub_key)\n",
    "    ax.set_yscale('log')\n",
    "    ax.set_ylim((ax.get_ylim()[0], min(1,ax.get_ylim()[1])))\n",
    "    fig.legend()\n",
    "    plt.show()\n",
    "    \n",
    "    trained_model = model\n",
    "    X_sample = X_test.loc[sample_idx]\n",
    "    y_sample = y_test.loc[sample_idx][[sub_key]]\n",
    "    y_sample_pred = predict(trained_model, X_sample, y_sample, device=\"cpu\") # get predictions for each train\n",
    "    y_sample_pred_df = pd.DataFrame(y_sample_pred, columns=y_sample.columns, index=y_sample.index)  # put results into a dataframe\n",
    "    print(f'Epoch {next_epoch}')\n",
    "    print(f'    Test set MAE (L1) loss: {mean_absolute_error(y_sample, y_sample_pred_df)}')\n",
    "    print(f'    Test set MSE (L2) loss: {mean_squared_error(y_sample, y_sample_pred_df)}')\n",
    "    display_data.append(y_sample)\n",
    "    display_data.append(y_sample_pred_df.add_suffix('_pred'))\n",
    "    display_data.append(X_sample.iloc[:,model_configs[sub_key]['feature_index']:model_configs[sub_key]['feature_index']+1])\n",
    "#     display(X_sample.iloc[:,model_configs[sub_key]['feature_index']:model_configs[sub_key]['feature_index']+1].values - y_sample_pred_df.values)\n",
    "    display(pd.DataFrame(mean_losses, columns=['train loss','validation loss']).tail())\n",
    "    print('==============================')\n",
    "    \n",
    "df = pd.concat(display_data, axis=1)\n",
    "display(df)"
   ]
  },
  {
   "cell_type": "code",
   "execution_count": 11,
   "metadata": {},
   "outputs": [
    {
     "ename": "AttributeError",
     "evalue": "'DataFrame' object has no attribute 'y_RA_OF_ASC_NODE_REG'",
     "output_type": "error",
     "traceback": [
      "\u001b[0;31m---------------------------------------------------------------------------\u001b[0m",
      "\u001b[0;31mAttributeError\u001b[0m                            Traceback (most recent call last)",
      "\u001b[0;32m<ipython-input-11-6287330cc886>\u001b[0m in \u001b[0;36m<module>\u001b[0;34m\u001b[0m\n\u001b[0;32m----> 1\u001b[0;31m \u001b[0mnp\u001b[0m\u001b[0;34m.\u001b[0m\u001b[0mabs\u001b[0m\u001b[0;34m(\u001b[0m\u001b[0;34m(\u001b[0m\u001b[0mdf\u001b[0m\u001b[0;34m.\u001b[0m\u001b[0my_RA_OF_ASC_NODE_REG\u001b[0m \u001b[0;34m-\u001b[0m \u001b[0mdf\u001b[0m\u001b[0;34m.\u001b[0m\u001b[0my_RA_OF_ASC_NODE_REG_pred\u001b[0m\u001b[0;34m)\u001b[0m\u001b[0;34m)\u001b[0m\u001b[0;34m.\u001b[0m\u001b[0mdescribe\u001b[0m\u001b[0;34m(\u001b[0m\u001b[0;34m)\u001b[0m\u001b[0;34m\u001b[0m\u001b[0;34m\u001b[0m\u001b[0m\n\u001b[0m",
      "\u001b[0;32m~/anaconda3/envs/siads-orbital/lib/python3.8/site-packages/pandas/core/generic.py\u001b[0m in \u001b[0;36m__getattr__\u001b[0;34m(self, name)\u001b[0m\n\u001b[1;32m   5463\u001b[0m             \u001b[0;32mif\u001b[0m \u001b[0mself\u001b[0m\u001b[0;34m.\u001b[0m\u001b[0m_info_axis\u001b[0m\u001b[0;34m.\u001b[0m\u001b[0m_can_hold_identifiers_and_holds_name\u001b[0m\u001b[0;34m(\u001b[0m\u001b[0mname\u001b[0m\u001b[0;34m)\u001b[0m\u001b[0;34m:\u001b[0m\u001b[0;34m\u001b[0m\u001b[0;34m\u001b[0m\u001b[0m\n\u001b[1;32m   5464\u001b[0m                 \u001b[0;32mreturn\u001b[0m \u001b[0mself\u001b[0m\u001b[0;34m[\u001b[0m\u001b[0mname\u001b[0m\u001b[0;34m]\u001b[0m\u001b[0;34m\u001b[0m\u001b[0;34m\u001b[0m\u001b[0m\n\u001b[0;32m-> 5465\u001b[0;31m             \u001b[0;32mreturn\u001b[0m \u001b[0mobject\u001b[0m\u001b[0;34m.\u001b[0m\u001b[0m__getattribute__\u001b[0m\u001b[0;34m(\u001b[0m\u001b[0mself\u001b[0m\u001b[0;34m,\u001b[0m \u001b[0mname\u001b[0m\u001b[0;34m)\u001b[0m\u001b[0;34m\u001b[0m\u001b[0;34m\u001b[0m\u001b[0m\n\u001b[0m\u001b[1;32m   5466\u001b[0m \u001b[0;34m\u001b[0m\u001b[0m\n\u001b[1;32m   5467\u001b[0m     \u001b[0;32mdef\u001b[0m \u001b[0m__setattr__\u001b[0m\u001b[0;34m(\u001b[0m\u001b[0mself\u001b[0m\u001b[0;34m,\u001b[0m \u001b[0mname\u001b[0m\u001b[0;34m:\u001b[0m \u001b[0mstr\u001b[0m\u001b[0;34m,\u001b[0m \u001b[0mvalue\u001b[0m\u001b[0;34m)\u001b[0m \u001b[0;34m->\u001b[0m \u001b[0;32mNone\u001b[0m\u001b[0;34m:\u001b[0m\u001b[0;34m\u001b[0m\u001b[0;34m\u001b[0m\u001b[0m\n",
      "\u001b[0;31mAttributeError\u001b[0m: 'DataFrame' object has no attribute 'y_RA_OF_ASC_NODE_REG'"
     ]
    }
   ],
   "source": [
    "np.abs((df.y_RA_OF_ASC_NODE_REG - df.y_RA_OF_ASC_NODE_REG_pred)).describe()"
   ]
  },
  {
   "cell_type": "markdown",
   "metadata": {},
   "source": [
    "AdamW optimizer\n",
    "Decrease learning rate slowly over time\n",
    "Decrease weight decay if both training and validation are decreasing similarly"
   ]
  },
  {
   "cell_type": "code",
   "execution_count": null,
   "metadata": {},
   "outputs": [],
   "source": [
    "nums = ((90 * 360 * np.abs((df.y_REV_MA_REG - df.y_REV_MA_REG_pred)))%360)\n",
    "nums = np.minimum(nums, np.abs(360-nums))\n",
    "nums.name = \"MEAN_ANOMALY_ERROR\"\n",
    "nums.quantile([0.1, 0.2, 0.3, 0.4, 0.5, 0.6, 0.7, 0.8, 0.9, 0.95, 0.975, 0.99, 0.999])"
   ]
  },
  {
   "cell_type": "code",
   "execution_count": null,
   "metadata": {},
   "outputs": [],
   "source": [
    "# another model overview\n",
    "# Load all new sub models here if needed.\n",
    "all_models = {}\n",
    "for sub_key in model_configs.keys():\n",
    "    # When new models are created, a dummy optimizer is used\n",
    "    model, loss_func, optimizer, mean_losses, next_epoch = load_sub_model_with_config(train_config, model_configs, sub_key, len(X_test.columns), force_recreate=False)\n",
    "    try:\n",
    "        tl, vl = zip(*mean_losses)\n",
    "    except:\n",
    "        print(f\"No data for {sub_key}\")\n",
    "        continue\n",
    "    print(f'{sub_key}\\nEpoch:      {next_epoch}\\nLast TLoss: {tl[-1]}\\nLast VLoss: {vl[-1]}')\n",
    "    print(f'Loss func:  {loss_func}\\nOptimizer:  {optimizer}')\n",
    "    print('---------')\n",
    "    all_models[sub_key] = (model, loss_func, optimizer, mean_losses, next_epoch)"
   ]
  },
  {
   "cell_type": "code",
   "execution_count": null,
   "metadata": {},
   "outputs": [],
   "source": []
  }
 ],
 "metadata": {
  "kernelspec": {
   "display_name": "Python 3",
   "language": "python",
   "name": "python3"
  },
  "language_info": {
   "codemirror_mode": {
    "name": "ipython",
    "version": 3
   },
   "file_extension": ".py",
   "mimetype": "text/x-python",
   "name": "python",
   "nbconvert_exporter": "python",
   "pygments_lexer": "ipython3",
   "version": "3.8.8"
  }
 },
 "nbformat": 4,
 "nbformat_minor": 4
}
