{
 "cells": [
  {
   "cell_type": "code",
   "execution_count": 1,
   "metadata": {},
   "outputs": [
    {
     "name": "stdout",
     "output_type": "stream",
     "text": [
      ">>> Loading data....\n",
      ">>> Complete. 0 sec\n"
     ]
    }
   ],
   "source": [
    "import pandas as pd\n",
    "import numpy as np\n",
    "import os\n",
    "from sklearn.metrics import mean_squared_error, mean_absolute_error\n",
    "import matplotlib.pyplot as plt\n",
    "import pickle\n",
    "import clean_data\n",
    "import random\n",
    "import train\n",
    "import json\n",
    "from tqdm.notebook import tqdm\n",
    "import time\n",
    "\n",
    "ts = time.time()\n",
    "init_cols = ['BSTAR', 'INCLINATION', 'RA_OF_ASC_NODE', 'ECCENTRICITY', 'ARG_OF_PERICENTER', 'MEAN_ANOMALY',\n",
    "             'MEAN_MOTION', 'NORAD_CAT_ID', 'EPOCH', 'SUNSPOTS_1D', 'SUNSPOTS_3D', 'SUNSPOTS_7D',\n",
    "             'AIR_MONTH_AVG_TEMP', 'WATER_MONTH_AVG_TEMP',\n",
    "            ]\n",
    "\n",
    "\n",
    "def load_raw(name=None):\n",
    "    if not name:\n",
    "        train_df = pd.read_pickle(os.environ['GP_HIST_PATH'] + '/../3_min/train.pkl' ) # Time: 25.7s\n",
    "        test_df = pd.read_pickle(os.environ['GP_HIST_PATH'] + '/../3_min/test.pkl' ) # Time: 5\n",
    "        return {'train': train_df, 'test': test_df}\n",
    "    elif name == 'train':\n",
    "        return {name: pd.read_pickle(os.environ['GP_HIST_PATH'] + '/../3_min/train.pkl' )}\n",
    "    elif name == 'test':\n",
    "        return {name: pd.read_pickle(os.environ['GP_HIST_PATH'] + '/../3_min/test.pkl' )}\n",
    "\n",
    "def create_save(perc, name=None):\n",
    "    #df_in = load_raw(name)\n",
    "    \n",
    "    if not name:\n",
    "        names = ['train','test']\n",
    "    else:\n",
    "        names = [name]\n",
    "\n",
    "    df_out = []\n",
    "    #for name, df in df_in.items():\n",
    "    for name in names:\n",
    "        print(f'>>> Loading {name} raw data')\n",
    "        df = pd.read_pickle(os.environ['GP_HIST_PATH'] + f'/../3_min/{name}.pkl' )[init_cols].reset_index(drop=True)\n",
    "        \n",
    "        print(f'>>> Normalizing {name} data...')\n",
    "        df = clean_data.normalize_all_columns(df) # 53.4s\n",
    "\n",
    "        print(f'>>> Building {name} index map...')\n",
    "        try:\n",
    "            idx_map = clean_data.load_index_map(name=name, path='data')\n",
    "        except:\n",
    "            idx_map = clean_data.create_index_map(df, write=True, name=name, path='data') # 3min 29s\n",
    "\n",
    "        print(f'>>> Building {name} inputs and labels')\n",
    "        X,y = clean_data.build_xy(df, idx_map) # 59min 41s\n",
    "        X = clean_data.normalize_epoch_diff(X, drop_epoch=False) # 19s\n",
    "        #all_X = []\n",
    "        #all_y = []\n",
    "        #batch_size = 1000000\n",
    "        #batches = [idx_map[i:i+batch_size] for i in range(0, len(idx_map), batch_size)]\n",
    "        #for batch in tqdm(batches):\n",
    "        #    X,y = clean_data.build_xy(df, batch) # 59min 41s\n",
    "        #    X = clean_data.normalize_epoch_diff(X, drop_epoch=False) # 19s\n",
    "        #    all_X.append(X)\n",
    "        #    all_y.append(y)\n",
    "            \n",
    "        #print(f'>>> Concate {name} all')\n",
    "        #X = pd.concate(all_X)\n",
    "        #y = pd.concate(all_y)\n",
    "\n",
    "        print(f'>>> Saving {name} data')\n",
    "        X.to_pickle(os.environ['GP_HIST_PATH'] + f'/cleaned/x_{name}1.pkl')\n",
    "        y.to_pickle(os.environ['GP_HIST_PATH'] + f'/cleaned/y_{name}1.pkl')\n",
    "        \n",
    "        df_out.extend([X,y])\n",
    "    \n",
    "    return df_out\n",
    "\n",
    "def load(perc, force_update=False):\n",
    "    if not force_update:\n",
    "        print('>>> Loading data', end='')\n",
    "        \n",
    "        X_train = pd.read_pickle(os.environ['GP_HIST_PATH'] + '/cleaned/x_train_sample.pkl')\n",
    "        print('.', end='')\n",
    "        y_train = pd.read_pickle(os.environ['GP_HIST_PATH'] + '/cleaned/y_train_sample.pkl')\n",
    "        print('.', end='')\n",
    "        #X_test = pd.read_pickle(os.environ['GP_HIST_PATH'] + '/cleaned/x_test1.pkl')\n",
    "        X_test = pd.read_pickle(os.environ['GP_HIST_PATH'] + '/cleaned/x_test_sample.pkl')\n",
    "        print('.', end='')\n",
    "        #y_test = pd.read_pickle(os.environ['GP_HIST_PATH'] + '/cleaned/y_test1.pkl')\n",
    "        y_test = pd.read_pickle(os.environ['GP_HIST_PATH'] + '/cleaned/y_test_sample.pkl')\n",
    "        print('.')\n",
    "        return X_train, y_train, X_test, y_test\n",
    "    else:\n",
    "        return create_save(perc)\n",
    "        \n",
    "\n",
    "perc = 0.05\n",
    "force_update = False\n",
    "\n",
    "X_train, y_train, X_test, y_test = load(perc, force_update)\n",
    "print(f'>>> Complete. {round(time.time()-ts)} sec')"
   ]
  },
  {
   "cell_type": "code",
   "execution_count": 2,
   "metadata": {},
   "outputs": [],
   "source": [
    "configurations = {\n",
    "    'model_identifier' : \"sample_1000_n4_3\",\n",
    "    'model_path' : './data',\n",
    "    'device' : 'cuda',\n",
    "    'random_seed' : 0,\n",
    "    'lr' : 0.001, 'weight_decay' : 0.00025, 'amsgrad' : False,\n",
    "    'momentum' : 0.9,\n",
    "    'max_epochs' : 100,\n",
    "    'do_validate' : True,\n",
    "    'model_width' : 256,\n",
    "    'train_params' : {\n",
    "        'batch_size': 2000,\n",
    "        'shuffle': True,\n",
    "        'num_workers': 5,\n",
    "        'pin_memory': True,\n",
    "    },\n",
    "    'test_params' : {\n",
    "        'batch_size': 20000,\n",
    "        'num_workers': 5,\n",
    "        'pin_memory': True,\n",
    "    },\n",
    "}\n",
    "\n",
    "\n",
    "model_id=configurations['model_identifier']\n",
    "with open(f'data/{model_id}.cfg', 'w') as f:\n",
    "    json.dump(configurations, f)"
   ]
  },
  {
   "cell_type": "code",
   "execution_count": 3,
   "metadata": {},
   "outputs": [],
   "source": [
    "# model_id='full_local_10c'\n",
    "\n",
    "# with open(f'data/{model_id}.cfg') as f:\n",
    "#     configurations = json.load(f)\n",
    "# configurations"
   ]
  },
  {
   "cell_type": "code",
   "execution_count": 4,
   "metadata": {
    "scrolled": true
   },
   "outputs": [
    {
     "name": "stdout",
     "output_type": "stream",
     "text": [
      "New model created\n",
      "ResMultiNet28(\n",
      "  (model1): ResNet28(\n",
      "    (stack1): ResNetStack(\n",
      "      (stack): Sequential(\n",
      "        (dense_1): ResnetDenseBlock(\n",
      "          (dense1): Linear(in_features=37, out_features=256, bias=True)\n",
      "          (bn1): BatchNorm1d(256, eps=1e-05, momentum=0.1, affine=True, track_running_stats=True)\n",
      "          (relu): ReLU(inplace=True)\n",
      "          (dense2): Linear(in_features=256, out_features=256, bias=True)\n",
      "          (bn2): BatchNorm1d(256, eps=1e-05, momentum=0.1, affine=True, track_running_stats=True)\n",
      "          (dense3): Linear(in_features=256, out_features=256, bias=True)\n",
      "          (bn3): BatchNorm1d(256, eps=1e-05, momentum=0.1, affine=True, track_running_stats=True)\n",
      "          (shortcut): Sequential(\n",
      "            (dense_sc): Linear(in_features=37, out_features=256, bias=True)\n",
      "            (bn_sc): BatchNorm1d(256, eps=1e-05, momentum=0.1, affine=True, track_running_stats=True)\n",
      "          )\n",
      "        )\n",
      "        (identity_1a): ResnetIdentityBlock(\n",
      "          (dense1): Linear(in_features=256, out_features=256, bias=True)\n",
      "          (bn1): BatchNorm1d(256, eps=1e-05, momentum=0.1, affine=True, track_running_stats=True)\n",
      "          (relu): ReLU(inplace=True)\n",
      "          (dense2): Linear(in_features=256, out_features=256, bias=True)\n",
      "          (bn2): BatchNorm1d(256, eps=1e-05, momentum=0.1, affine=True, track_running_stats=True)\n",
      "          (dense3): Linear(in_features=256, out_features=256, bias=True)\n",
      "          (bn3): BatchNorm1d(256, eps=1e-05, momentum=0.1, affine=True, track_running_stats=True)\n",
      "          (shortcut): Identity()\n",
      "        )\n",
      "        (identity_1b): ResnetIdentityBlock(\n",
      "          (dense1): Linear(in_features=256, out_features=256, bias=True)\n",
      "          (bn1): BatchNorm1d(256, eps=1e-05, momentum=0.1, affine=True, track_running_stats=True)\n",
      "          (relu): ReLU(inplace=True)\n",
      "          (dense2): Linear(in_features=256, out_features=256, bias=True)\n",
      "          (bn2): BatchNorm1d(256, eps=1e-05, momentum=0.1, affine=True, track_running_stats=True)\n",
      "          (dense3): Linear(in_features=256, out_features=256, bias=True)\n",
      "          (bn3): BatchNorm1d(256, eps=1e-05, momentum=0.1, affine=True, track_running_stats=True)\n",
      "          (shortcut): Identity()\n",
      "        )\n",
      "      )\n",
      "    )\n",
      "    (stack2): ResNetStack(\n",
      "      (stack): Sequential(\n",
      "        (dense_2): ResnetDenseBlock(\n",
      "          (dense1): Linear(in_features=256, out_features=256, bias=True)\n",
      "          (bn1): BatchNorm1d(256, eps=1e-05, momentum=0.1, affine=True, track_running_stats=True)\n",
      "          (relu): ReLU(inplace=True)\n",
      "          (dense2): Linear(in_features=256, out_features=256, bias=True)\n",
      "          (bn2): BatchNorm1d(256, eps=1e-05, momentum=0.1, affine=True, track_running_stats=True)\n",
      "          (dense3): Linear(in_features=256, out_features=256, bias=True)\n",
      "          (bn3): BatchNorm1d(256, eps=1e-05, momentum=0.1, affine=True, track_running_stats=True)\n",
      "          (shortcut): Sequential(\n",
      "            (dense_sc): Linear(in_features=256, out_features=256, bias=True)\n",
      "            (bn_sc): BatchNorm1d(256, eps=1e-05, momentum=0.1, affine=True, track_running_stats=True)\n",
      "          )\n",
      "        )\n",
      "        (identity_2a): ResnetIdentityBlock(\n",
      "          (dense1): Linear(in_features=256, out_features=256, bias=True)\n",
      "          (bn1): BatchNorm1d(256, eps=1e-05, momentum=0.1, affine=True, track_running_stats=True)\n",
      "          (relu): ReLU(inplace=True)\n",
      "          (dense2): Linear(in_features=256, out_features=256, bias=True)\n",
      "          (bn2): BatchNorm1d(256, eps=1e-05, momentum=0.1, affine=True, track_running_stats=True)\n",
      "          (dense3): Linear(in_features=256, out_features=256, bias=True)\n",
      "          (bn3): BatchNorm1d(256, eps=1e-05, momentum=0.1, affine=True, track_running_stats=True)\n",
      "          (shortcut): Identity()\n",
      "        )\n",
      "        (identity_2b): ResnetIdentityBlock(\n",
      "          (dense1): Linear(in_features=256, out_features=256, bias=True)\n",
      "          (bn1): BatchNorm1d(256, eps=1e-05, momentum=0.1, affine=True, track_running_stats=True)\n",
      "          (relu): ReLU(inplace=True)\n",
      "          (dense2): Linear(in_features=256, out_features=256, bias=True)\n",
      "          (bn2): BatchNorm1d(256, eps=1e-05, momentum=0.1, affine=True, track_running_stats=True)\n",
      "          (dense3): Linear(in_features=256, out_features=256, bias=True)\n",
      "          (bn3): BatchNorm1d(256, eps=1e-05, momentum=0.1, affine=True, track_running_stats=True)\n",
      "          (shortcut): Identity()\n",
      "        )\n",
      "      )\n",
      "    )\n",
      "    (stack3): ResNetStack(\n",
      "      (stack): Sequential(\n",
      "        (dense_3): ResnetDenseBlock(\n",
      "          (dense1): Linear(in_features=256, out_features=256, bias=True)\n",
      "          (bn1): BatchNorm1d(256, eps=1e-05, momentum=0.1, affine=True, track_running_stats=True)\n",
      "          (relu): ReLU(inplace=True)\n",
      "          (dense2): Linear(in_features=256, out_features=256, bias=True)\n",
      "          (bn2): BatchNorm1d(256, eps=1e-05, momentum=0.1, affine=True, track_running_stats=True)\n",
      "          (dense3): Linear(in_features=256, out_features=256, bias=True)\n",
      "          (bn3): BatchNorm1d(256, eps=1e-05, momentum=0.1, affine=True, track_running_stats=True)\n",
      "          (shortcut): Sequential(\n",
      "            (dense_sc): Linear(in_features=256, out_features=256, bias=True)\n",
      "            (bn_sc): BatchNorm1d(256, eps=1e-05, momentum=0.1, affine=True, track_running_stats=True)\n",
      "          )\n",
      "        )\n",
      "        (identity_3a): ResnetIdentityBlock(\n",
      "          (dense1): Linear(in_features=256, out_features=256, bias=True)\n",
      "          (bn1): BatchNorm1d(256, eps=1e-05, momentum=0.1, affine=True, track_running_stats=True)\n",
      "          (relu): ReLU(inplace=True)\n",
      "          (dense2): Linear(in_features=256, out_features=256, bias=True)\n",
      "          (bn2): BatchNorm1d(256, eps=1e-05, momentum=0.1, affine=True, track_running_stats=True)\n",
      "          (dense3): Linear(in_features=256, out_features=256, bias=True)\n",
      "          (bn3): BatchNorm1d(256, eps=1e-05, momentum=0.1, affine=True, track_running_stats=True)\n",
      "          (shortcut): Identity()\n",
      "        )\n",
      "        (identity_3b): ResnetIdentityBlock(\n",
      "          (dense1): Linear(in_features=256, out_features=256, bias=True)\n",
      "          (bn1): BatchNorm1d(256, eps=1e-05, momentum=0.1, affine=True, track_running_stats=True)\n",
      "          (relu): ReLU(inplace=True)\n",
      "          (dense2): Linear(in_features=256, out_features=256, bias=True)\n",
      "          (bn2): BatchNorm1d(256, eps=1e-05, momentum=0.1, affine=True, track_running_stats=True)\n",
      "          (dense3): Linear(in_features=256, out_features=256, bias=True)\n",
      "          (bn3): BatchNorm1d(256, eps=1e-05, momentum=0.1, affine=True, track_running_stats=True)\n",
      "          (shortcut): Identity()\n",
      "        )\n",
      "      )\n",
      "    )\n",
      "    (final_bn): BatchNorm1d(256, eps=1e-05, momentum=0.1, affine=True, track_running_stats=True)\n",
      "    (final): Linear(in_features=256, out_features=1, bias=True)\n",
      "  )\n",
      "  (model2): ResNet28(\n",
      "    (stack1): ResNetStack(\n",
      "      (stack): Sequential(\n",
      "        (dense_1): ResnetDenseBlock(\n",
      "          (dense1): Linear(in_features=37, out_features=256, bias=True)\n",
      "          (bn1): BatchNorm1d(256, eps=1e-05, momentum=0.1, affine=True, track_running_stats=True)\n",
      "          (relu): ReLU(inplace=True)\n",
      "          (dense2): Linear(in_features=256, out_features=256, bias=True)\n",
      "          (bn2): BatchNorm1d(256, eps=1e-05, momentum=0.1, affine=True, track_running_stats=True)\n",
      "          (dense3): Linear(in_features=256, out_features=256, bias=True)\n",
      "          (bn3): BatchNorm1d(256, eps=1e-05, momentum=0.1, affine=True, track_running_stats=True)\n",
      "          (shortcut): Sequential(\n",
      "            (dense_sc): Linear(in_features=37, out_features=256, bias=True)\n",
      "            (bn_sc): BatchNorm1d(256, eps=1e-05, momentum=0.1, affine=True, track_running_stats=True)\n",
      "          )\n",
      "        )\n",
      "        (identity_1a): ResnetIdentityBlock(\n",
      "          (dense1): Linear(in_features=256, out_features=256, bias=True)\n",
      "          (bn1): BatchNorm1d(256, eps=1e-05, momentum=0.1, affine=True, track_running_stats=True)\n",
      "          (relu): ReLU(inplace=True)\n",
      "          (dense2): Linear(in_features=256, out_features=256, bias=True)\n",
      "          (bn2): BatchNorm1d(256, eps=1e-05, momentum=0.1, affine=True, track_running_stats=True)\n",
      "          (dense3): Linear(in_features=256, out_features=256, bias=True)\n",
      "          (bn3): BatchNorm1d(256, eps=1e-05, momentum=0.1, affine=True, track_running_stats=True)\n",
      "          (shortcut): Identity()\n",
      "        )\n",
      "        (identity_1b): ResnetIdentityBlock(\n",
      "          (dense1): Linear(in_features=256, out_features=256, bias=True)\n",
      "          (bn1): BatchNorm1d(256, eps=1e-05, momentum=0.1, affine=True, track_running_stats=True)\n",
      "          (relu): ReLU(inplace=True)\n",
      "          (dense2): Linear(in_features=256, out_features=256, bias=True)\n",
      "          (bn2): BatchNorm1d(256, eps=1e-05, momentum=0.1, affine=True, track_running_stats=True)\n",
      "          (dense3): Linear(in_features=256, out_features=256, bias=True)\n",
      "          (bn3): BatchNorm1d(256, eps=1e-05, momentum=0.1, affine=True, track_running_stats=True)\n",
      "          (shortcut): Identity()\n",
      "        )\n",
      "      )\n",
      "    )\n",
      "    (stack2): ResNetStack(\n",
      "      (stack): Sequential(\n",
      "        (dense_2): ResnetDenseBlock(\n",
      "          (dense1): Linear(in_features=256, out_features=256, bias=True)\n",
      "          (bn1): BatchNorm1d(256, eps=1e-05, momentum=0.1, affine=True, track_running_stats=True)\n",
      "          (relu): ReLU(inplace=True)\n",
      "          (dense2): Linear(in_features=256, out_features=256, bias=True)\n",
      "          (bn2): BatchNorm1d(256, eps=1e-05, momentum=0.1, affine=True, track_running_stats=True)\n",
      "          (dense3): Linear(in_features=256, out_features=256, bias=True)\n",
      "          (bn3): BatchNorm1d(256, eps=1e-05, momentum=0.1, affine=True, track_running_stats=True)\n",
      "          (shortcut): Sequential(\n",
      "            (dense_sc): Linear(in_features=256, out_features=256, bias=True)\n",
      "            (bn_sc): BatchNorm1d(256, eps=1e-05, momentum=0.1, affine=True, track_running_stats=True)\n",
      "          )\n",
      "        )\n",
      "        (identity_2a): ResnetIdentityBlock(\n",
      "          (dense1): Linear(in_features=256, out_features=256, bias=True)\n",
      "          (bn1): BatchNorm1d(256, eps=1e-05, momentum=0.1, affine=True, track_running_stats=True)\n",
      "          (relu): ReLU(inplace=True)\n",
      "          (dense2): Linear(in_features=256, out_features=256, bias=True)\n",
      "          (bn2): BatchNorm1d(256, eps=1e-05, momentum=0.1, affine=True, track_running_stats=True)\n",
      "          (dense3): Linear(in_features=256, out_features=256, bias=True)\n",
      "          (bn3): BatchNorm1d(256, eps=1e-05, momentum=0.1, affine=True, track_running_stats=True)\n",
      "          (shortcut): Identity()\n",
      "        )\n",
      "        (identity_2b): ResnetIdentityBlock(\n",
      "          (dense1): Linear(in_features=256, out_features=256, bias=True)\n",
      "          (bn1): BatchNorm1d(256, eps=1e-05, momentum=0.1, affine=True, track_running_stats=True)\n",
      "          (relu): ReLU(inplace=True)\n",
      "          (dense2): Linear(in_features=256, out_features=256, bias=True)\n",
      "          (bn2): BatchNorm1d(256, eps=1e-05, momentum=0.1, affine=True, track_running_stats=True)\n",
      "          (dense3): Linear(in_features=256, out_features=256, bias=True)\n",
      "          (bn3): BatchNorm1d(256, eps=1e-05, momentum=0.1, affine=True, track_running_stats=True)\n",
      "          (shortcut): Identity()\n",
      "        )\n",
      "      )\n",
      "    )\n",
      "    (stack3): ResNetStack(\n",
      "      (stack): Sequential(\n",
      "        (dense_3): ResnetDenseBlock(\n",
      "          (dense1): Linear(in_features=256, out_features=256, bias=True)\n",
      "          (bn1): BatchNorm1d(256, eps=1e-05, momentum=0.1, affine=True, track_running_stats=True)\n",
      "          (relu): ReLU(inplace=True)\n",
      "          (dense2): Linear(in_features=256, out_features=256, bias=True)\n",
      "          (bn2): BatchNorm1d(256, eps=1e-05, momentum=0.1, affine=True, track_running_stats=True)\n",
      "          (dense3): Linear(in_features=256, out_features=256, bias=True)\n",
      "          (bn3): BatchNorm1d(256, eps=1e-05, momentum=0.1, affine=True, track_running_stats=True)\n",
      "          (shortcut): Sequential(\n",
      "            (dense_sc): Linear(in_features=256, out_features=256, bias=True)\n",
      "            (bn_sc): BatchNorm1d(256, eps=1e-05, momentum=0.1, affine=True, track_running_stats=True)\n",
      "          )\n",
      "        )\n",
      "        (identity_3a): ResnetIdentityBlock(\n",
      "          (dense1): Linear(in_features=256, out_features=256, bias=True)\n",
      "          (bn1): BatchNorm1d(256, eps=1e-05, momentum=0.1, affine=True, track_running_stats=True)\n",
      "          (relu): ReLU(inplace=True)\n",
      "          (dense2): Linear(in_features=256, out_features=256, bias=True)\n",
      "          (bn2): BatchNorm1d(256, eps=1e-05, momentum=0.1, affine=True, track_running_stats=True)\n",
      "          (dense3): Linear(in_features=256, out_features=256, bias=True)\n",
      "          (bn3): BatchNorm1d(256, eps=1e-05, momentum=0.1, affine=True, track_running_stats=True)\n",
      "          (shortcut): Identity()\n",
      "        )\n",
      "        (identity_3b): ResnetIdentityBlock(\n",
      "          (dense1): Linear(in_features=256, out_features=256, bias=True)\n",
      "          (bn1): BatchNorm1d(256, eps=1e-05, momentum=0.1, affine=True, track_running_stats=True)\n",
      "          (relu): ReLU(inplace=True)\n",
      "          (dense2): Linear(in_features=256, out_features=256, bias=True)\n",
      "          (bn2): BatchNorm1d(256, eps=1e-05, momentum=0.1, affine=True, track_running_stats=True)\n",
      "          (dense3): Linear(in_features=256, out_features=256, bias=True)\n",
      "          (bn3): BatchNorm1d(256, eps=1e-05, momentum=0.1, affine=True, track_running_stats=True)\n",
      "          (shortcut): Identity()\n",
      "        )\n",
      "      )\n",
      "    )\n",
      "    (final_bn): BatchNorm1d(256, eps=1e-05, momentum=0.1, affine=True, track_running_stats=True)\n",
      "    (final): Linear(in_features=256, out_features=1, bias=True)\n",
      "  )\n",
      "  (model3): ResNet28(\n",
      "    (stack1): ResNetStack(\n",
      "      (stack): Sequential(\n",
      "        (dense_1): ResnetDenseBlock(\n",
      "          (dense1): Linear(in_features=37, out_features=256, bias=True)\n",
      "          (bn1): BatchNorm1d(256, eps=1e-05, momentum=0.1, affine=True, track_running_stats=True)\n",
      "          (relu): ReLU(inplace=True)\n",
      "          (dense2): Linear(in_features=256, out_features=256, bias=True)\n",
      "          (bn2): BatchNorm1d(256, eps=1e-05, momentum=0.1, affine=True, track_running_stats=True)\n",
      "          (dense3): Linear(in_features=256, out_features=256, bias=True)\n",
      "          (bn3): BatchNorm1d(256, eps=1e-05, momentum=0.1, affine=True, track_running_stats=True)\n",
      "          (shortcut): Sequential(\n",
      "            (dense_sc): Linear(in_features=37, out_features=256, bias=True)\n",
      "            (bn_sc): BatchNorm1d(256, eps=1e-05, momentum=0.1, affine=True, track_running_stats=True)\n",
      "          )\n",
      "        )\n",
      "        (identity_1a): ResnetIdentityBlock(\n",
      "          (dense1): Linear(in_features=256, out_features=256, bias=True)\n",
      "          (bn1): BatchNorm1d(256, eps=1e-05, momentum=0.1, affine=True, track_running_stats=True)\n",
      "          (relu): ReLU(inplace=True)\n",
      "          (dense2): Linear(in_features=256, out_features=256, bias=True)\n",
      "          (bn2): BatchNorm1d(256, eps=1e-05, momentum=0.1, affine=True, track_running_stats=True)\n",
      "          (dense3): Linear(in_features=256, out_features=256, bias=True)\n",
      "          (bn3): BatchNorm1d(256, eps=1e-05, momentum=0.1, affine=True, track_running_stats=True)\n",
      "          (shortcut): Identity()\n",
      "        )\n",
      "        (identity_1b): ResnetIdentityBlock(\n",
      "          (dense1): Linear(in_features=256, out_features=256, bias=True)\n",
      "          (bn1): BatchNorm1d(256, eps=1e-05, momentum=0.1, affine=True, track_running_stats=True)\n",
      "          (relu): ReLU(inplace=True)\n",
      "          (dense2): Linear(in_features=256, out_features=256, bias=True)\n",
      "          (bn2): BatchNorm1d(256, eps=1e-05, momentum=0.1, affine=True, track_running_stats=True)\n",
      "          (dense3): Linear(in_features=256, out_features=256, bias=True)\n",
      "          (bn3): BatchNorm1d(256, eps=1e-05, momentum=0.1, affine=True, track_running_stats=True)\n",
      "          (shortcut): Identity()\n",
      "        )\n",
      "      )\n",
      "    )\n",
      "    (stack2): ResNetStack(\n",
      "      (stack): Sequential(\n",
      "        (dense_2): ResnetDenseBlock(\n",
      "          (dense1): Linear(in_features=256, out_features=256, bias=True)\n",
      "          (bn1): BatchNorm1d(256, eps=1e-05, momentum=0.1, affine=True, track_running_stats=True)\n",
      "          (relu): ReLU(inplace=True)\n",
      "          (dense2): Linear(in_features=256, out_features=256, bias=True)\n",
      "          (bn2): BatchNorm1d(256, eps=1e-05, momentum=0.1, affine=True, track_running_stats=True)\n",
      "          (dense3): Linear(in_features=256, out_features=256, bias=True)\n",
      "          (bn3): BatchNorm1d(256, eps=1e-05, momentum=0.1, affine=True, track_running_stats=True)\n",
      "          (shortcut): Sequential(\n",
      "            (dense_sc): Linear(in_features=256, out_features=256, bias=True)\n",
      "            (bn_sc): BatchNorm1d(256, eps=1e-05, momentum=0.1, affine=True, track_running_stats=True)\n",
      "          )\n",
      "        )\n",
      "        (identity_2a): ResnetIdentityBlock(\n",
      "          (dense1): Linear(in_features=256, out_features=256, bias=True)\n",
      "          (bn1): BatchNorm1d(256, eps=1e-05, momentum=0.1, affine=True, track_running_stats=True)\n",
      "          (relu): ReLU(inplace=True)\n",
      "          (dense2): Linear(in_features=256, out_features=256, bias=True)\n",
      "          (bn2): BatchNorm1d(256, eps=1e-05, momentum=0.1, affine=True, track_running_stats=True)\n",
      "          (dense3): Linear(in_features=256, out_features=256, bias=True)\n",
      "          (bn3): BatchNorm1d(256, eps=1e-05, momentum=0.1, affine=True, track_running_stats=True)\n",
      "          (shortcut): Identity()\n",
      "        )\n",
      "        (identity_2b): ResnetIdentityBlock(\n",
      "          (dense1): Linear(in_features=256, out_features=256, bias=True)\n",
      "          (bn1): BatchNorm1d(256, eps=1e-05, momentum=0.1, affine=True, track_running_stats=True)\n",
      "          (relu): ReLU(inplace=True)\n",
      "          (dense2): Linear(in_features=256, out_features=256, bias=True)\n",
      "          (bn2): BatchNorm1d(256, eps=1e-05, momentum=0.1, affine=True, track_running_stats=True)\n",
      "          (dense3): Linear(in_features=256, out_features=256, bias=True)\n",
      "          (bn3): BatchNorm1d(256, eps=1e-05, momentum=0.1, affine=True, track_running_stats=True)\n",
      "          (shortcut): Identity()\n",
      "        )\n",
      "      )\n",
      "    )\n",
      "    (stack3): ResNetStack(\n",
      "      (stack): Sequential(\n",
      "        (dense_3): ResnetDenseBlock(\n",
      "          (dense1): Linear(in_features=256, out_features=256, bias=True)\n",
      "          (bn1): BatchNorm1d(256, eps=1e-05, momentum=0.1, affine=True, track_running_stats=True)\n",
      "          (relu): ReLU(inplace=True)\n",
      "          (dense2): Linear(in_features=256, out_features=256, bias=True)\n",
      "          (bn2): BatchNorm1d(256, eps=1e-05, momentum=0.1, affine=True, track_running_stats=True)\n",
      "          (dense3): Linear(in_features=256, out_features=256, bias=True)\n",
      "          (bn3): BatchNorm1d(256, eps=1e-05, momentum=0.1, affine=True, track_running_stats=True)\n",
      "          (shortcut): Sequential(\n",
      "            (dense_sc): Linear(in_features=256, out_features=256, bias=True)\n",
      "            (bn_sc): BatchNorm1d(256, eps=1e-05, momentum=0.1, affine=True, track_running_stats=True)\n",
      "          )\n",
      "        )\n",
      "        (identity_3a): ResnetIdentityBlock(\n",
      "          (dense1): Linear(in_features=256, out_features=256, bias=True)\n",
      "          (bn1): BatchNorm1d(256, eps=1e-05, momentum=0.1, affine=True, track_running_stats=True)\n",
      "          (relu): ReLU(inplace=True)\n",
      "          (dense2): Linear(in_features=256, out_features=256, bias=True)\n",
      "          (bn2): BatchNorm1d(256, eps=1e-05, momentum=0.1, affine=True, track_running_stats=True)\n",
      "          (dense3): Linear(in_features=256, out_features=256, bias=True)\n",
      "          (bn3): BatchNorm1d(256, eps=1e-05, momentum=0.1, affine=True, track_running_stats=True)\n",
      "          (shortcut): Identity()\n",
      "        )\n",
      "        (identity_3b): ResnetIdentityBlock(\n",
      "          (dense1): Linear(in_features=256, out_features=256, bias=True)\n",
      "          (bn1): BatchNorm1d(256, eps=1e-05, momentum=0.1, affine=True, track_running_stats=True)\n",
      "          (relu): ReLU(inplace=True)\n",
      "          (dense2): Linear(in_features=256, out_features=256, bias=True)\n",
      "          (bn2): BatchNorm1d(256, eps=1e-05, momentum=0.1, affine=True, track_running_stats=True)\n",
      "          (dense3): Linear(in_features=256, out_features=256, bias=True)\n",
      "          (bn3): BatchNorm1d(256, eps=1e-05, momentum=0.1, affine=True, track_running_stats=True)\n",
      "          (shortcut): Identity()\n",
      "        )\n",
      "      )\n",
      "    )\n",
      "    (final_bn): BatchNorm1d(256, eps=1e-05, momentum=0.1, affine=True, track_running_stats=True)\n",
      "    (final): Linear(in_features=256, out_features=1, bias=True)\n",
      "  )\n",
      "  (model4): ResNet28(\n",
      "    (stack1): ResNetStack(\n",
      "      (stack): Sequential(\n",
      "        (dense_1): ResnetDenseBlock(\n",
      "          (dense1): Linear(in_features=37, out_features=256, bias=True)\n",
      "          (bn1): BatchNorm1d(256, eps=1e-05, momentum=0.1, affine=True, track_running_stats=True)\n",
      "          (relu): ReLU(inplace=True)\n",
      "          (dense2): Linear(in_features=256, out_features=256, bias=True)\n",
      "          (bn2): BatchNorm1d(256, eps=1e-05, momentum=0.1, affine=True, track_running_stats=True)\n",
      "          (dense3): Linear(in_features=256, out_features=256, bias=True)\n",
      "          (bn3): BatchNorm1d(256, eps=1e-05, momentum=0.1, affine=True, track_running_stats=True)\n",
      "          (shortcut): Sequential(\n",
      "            (dense_sc): Linear(in_features=37, out_features=256, bias=True)\n",
      "            (bn_sc): BatchNorm1d(256, eps=1e-05, momentum=0.1, affine=True, track_running_stats=True)\n",
      "          )\n",
      "        )\n",
      "        (identity_1a): ResnetIdentityBlock(\n",
      "          (dense1): Linear(in_features=256, out_features=256, bias=True)\n",
      "          (bn1): BatchNorm1d(256, eps=1e-05, momentum=0.1, affine=True, track_running_stats=True)\n",
      "          (relu): ReLU(inplace=True)\n",
      "          (dense2): Linear(in_features=256, out_features=256, bias=True)\n",
      "          (bn2): BatchNorm1d(256, eps=1e-05, momentum=0.1, affine=True, track_running_stats=True)\n",
      "          (dense3): Linear(in_features=256, out_features=256, bias=True)\n",
      "          (bn3): BatchNorm1d(256, eps=1e-05, momentum=0.1, affine=True, track_running_stats=True)\n",
      "          (shortcut): Identity()\n",
      "        )\n",
      "        (identity_1b): ResnetIdentityBlock(\n",
      "          (dense1): Linear(in_features=256, out_features=256, bias=True)\n",
      "          (bn1): BatchNorm1d(256, eps=1e-05, momentum=0.1, affine=True, track_running_stats=True)\n",
      "          (relu): ReLU(inplace=True)\n",
      "          (dense2): Linear(in_features=256, out_features=256, bias=True)\n",
      "          (bn2): BatchNorm1d(256, eps=1e-05, momentum=0.1, affine=True, track_running_stats=True)\n",
      "          (dense3): Linear(in_features=256, out_features=256, bias=True)\n",
      "          (bn3): BatchNorm1d(256, eps=1e-05, momentum=0.1, affine=True, track_running_stats=True)\n",
      "          (shortcut): Identity()\n",
      "        )\n",
      "      )\n",
      "    )\n",
      "    (stack2): ResNetStack(\n",
      "      (stack): Sequential(\n",
      "        (dense_2): ResnetDenseBlock(\n",
      "          (dense1): Linear(in_features=256, out_features=256, bias=True)\n",
      "          (bn1): BatchNorm1d(256, eps=1e-05, momentum=0.1, affine=True, track_running_stats=True)\n",
      "          (relu): ReLU(inplace=True)\n",
      "          (dense2): Linear(in_features=256, out_features=256, bias=True)\n",
      "          (bn2): BatchNorm1d(256, eps=1e-05, momentum=0.1, affine=True, track_running_stats=True)\n",
      "          (dense3): Linear(in_features=256, out_features=256, bias=True)\n",
      "          (bn3): BatchNorm1d(256, eps=1e-05, momentum=0.1, affine=True, track_running_stats=True)\n",
      "          (shortcut): Sequential(\n",
      "            (dense_sc): Linear(in_features=256, out_features=256, bias=True)\n",
      "            (bn_sc): BatchNorm1d(256, eps=1e-05, momentum=0.1, affine=True, track_running_stats=True)\n",
      "          )\n",
      "        )\n",
      "        (identity_2a): ResnetIdentityBlock(\n",
      "          (dense1): Linear(in_features=256, out_features=256, bias=True)\n",
      "          (bn1): BatchNorm1d(256, eps=1e-05, momentum=0.1, affine=True, track_running_stats=True)\n",
      "          (relu): ReLU(inplace=True)\n",
      "          (dense2): Linear(in_features=256, out_features=256, bias=True)\n",
      "          (bn2): BatchNorm1d(256, eps=1e-05, momentum=0.1, affine=True, track_running_stats=True)\n",
      "          (dense3): Linear(in_features=256, out_features=256, bias=True)\n",
      "          (bn3): BatchNorm1d(256, eps=1e-05, momentum=0.1, affine=True, track_running_stats=True)\n",
      "          (shortcut): Identity()\n",
      "        )\n",
      "        (identity_2b): ResnetIdentityBlock(\n",
      "          (dense1): Linear(in_features=256, out_features=256, bias=True)\n",
      "          (bn1): BatchNorm1d(256, eps=1e-05, momentum=0.1, affine=True, track_running_stats=True)\n",
      "          (relu): ReLU(inplace=True)\n",
      "          (dense2): Linear(in_features=256, out_features=256, bias=True)\n",
      "          (bn2): BatchNorm1d(256, eps=1e-05, momentum=0.1, affine=True, track_running_stats=True)\n",
      "          (dense3): Linear(in_features=256, out_features=256, bias=True)\n",
      "          (bn3): BatchNorm1d(256, eps=1e-05, momentum=0.1, affine=True, track_running_stats=True)\n",
      "          (shortcut): Identity()\n",
      "        )\n",
      "      )\n",
      "    )\n",
      "    (stack3): ResNetStack(\n",
      "      (stack): Sequential(\n",
      "        (dense_3): ResnetDenseBlock(\n",
      "          (dense1): Linear(in_features=256, out_features=256, bias=True)\n",
      "          (bn1): BatchNorm1d(256, eps=1e-05, momentum=0.1, affine=True, track_running_stats=True)\n",
      "          (relu): ReLU(inplace=True)\n",
      "          (dense2): Linear(in_features=256, out_features=256, bias=True)\n",
      "          (bn2): BatchNorm1d(256, eps=1e-05, momentum=0.1, affine=True, track_running_stats=True)\n",
      "          (dense3): Linear(in_features=256, out_features=256, bias=True)\n",
      "          (bn3): BatchNorm1d(256, eps=1e-05, momentum=0.1, affine=True, track_running_stats=True)\n",
      "          (shortcut): Sequential(\n",
      "            (dense_sc): Linear(in_features=256, out_features=256, bias=True)\n",
      "            (bn_sc): BatchNorm1d(256, eps=1e-05, momentum=0.1, affine=True, track_running_stats=True)\n",
      "          )\n",
      "        )\n",
      "        (identity_3a): ResnetIdentityBlock(\n",
      "          (dense1): Linear(in_features=256, out_features=256, bias=True)\n",
      "          (bn1): BatchNorm1d(256, eps=1e-05, momentum=0.1, affine=True, track_running_stats=True)\n",
      "          (relu): ReLU(inplace=True)\n",
      "          (dense2): Linear(in_features=256, out_features=256, bias=True)\n",
      "          (bn2): BatchNorm1d(256, eps=1e-05, momentum=0.1, affine=True, track_running_stats=True)\n",
      "          (dense3): Linear(in_features=256, out_features=256, bias=True)\n",
      "          (bn3): BatchNorm1d(256, eps=1e-05, momentum=0.1, affine=True, track_running_stats=True)\n",
      "          (shortcut): Identity()\n",
      "        )\n",
      "        (identity_3b): ResnetIdentityBlock(\n",
      "          (dense1): Linear(in_features=256, out_features=256, bias=True)\n",
      "          (bn1): BatchNorm1d(256, eps=1e-05, momentum=0.1, affine=True, track_running_stats=True)\n",
      "          (relu): ReLU(inplace=True)\n",
      "          (dense2): Linear(in_features=256, out_features=256, bias=True)\n",
      "          (bn2): BatchNorm1d(256, eps=1e-05, momentum=0.1, affine=True, track_running_stats=True)\n",
      "          (dense3): Linear(in_features=256, out_features=256, bias=True)\n",
      "          (bn3): BatchNorm1d(256, eps=1e-05, momentum=0.1, affine=True, track_running_stats=True)\n",
      "          (shortcut): Identity()\n",
      "        )\n",
      "      )\n",
      "    )\n",
      "    (final_bn): BatchNorm1d(256, eps=1e-05, momentum=0.1, affine=True, track_running_stats=True)\n",
      "    (final): Linear(in_features=256, out_features=1, bias=True)\n",
      "  )\n",
      "  (model5): ResNet28(\n",
      "    (stack1): ResNetStack(\n",
      "      (stack): Sequential(\n",
      "        (dense_1): ResnetDenseBlock(\n",
      "          (dense1): Linear(in_features=37, out_features=256, bias=True)\n",
      "          (bn1): BatchNorm1d(256, eps=1e-05, momentum=0.1, affine=True, track_running_stats=True)\n",
      "          (relu): ReLU(inplace=True)\n",
      "          (dense2): Linear(in_features=256, out_features=256, bias=True)\n",
      "          (bn2): BatchNorm1d(256, eps=1e-05, momentum=0.1, affine=True, track_running_stats=True)\n",
      "          (dense3): Linear(in_features=256, out_features=256, bias=True)\n",
      "          (bn3): BatchNorm1d(256, eps=1e-05, momentum=0.1, affine=True, track_running_stats=True)\n",
      "          (shortcut): Sequential(\n",
      "            (dense_sc): Linear(in_features=37, out_features=256, bias=True)\n",
      "            (bn_sc): BatchNorm1d(256, eps=1e-05, momentum=0.1, affine=True, track_running_stats=True)\n",
      "          )\n",
      "        )\n",
      "        (identity_1a): ResnetIdentityBlock(\n",
      "          (dense1): Linear(in_features=256, out_features=256, bias=True)\n",
      "          (bn1): BatchNorm1d(256, eps=1e-05, momentum=0.1, affine=True, track_running_stats=True)\n",
      "          (relu): ReLU(inplace=True)\n",
      "          (dense2): Linear(in_features=256, out_features=256, bias=True)\n",
      "          (bn2): BatchNorm1d(256, eps=1e-05, momentum=0.1, affine=True, track_running_stats=True)\n",
      "          (dense3): Linear(in_features=256, out_features=256, bias=True)\n",
      "          (bn3): BatchNorm1d(256, eps=1e-05, momentum=0.1, affine=True, track_running_stats=True)\n",
      "          (shortcut): Identity()\n",
      "        )\n",
      "        (identity_1b): ResnetIdentityBlock(\n",
      "          (dense1): Linear(in_features=256, out_features=256, bias=True)\n",
      "          (bn1): BatchNorm1d(256, eps=1e-05, momentum=0.1, affine=True, track_running_stats=True)\n",
      "          (relu): ReLU(inplace=True)\n",
      "          (dense2): Linear(in_features=256, out_features=256, bias=True)\n",
      "          (bn2): BatchNorm1d(256, eps=1e-05, momentum=0.1, affine=True, track_running_stats=True)\n",
      "          (dense3): Linear(in_features=256, out_features=256, bias=True)\n",
      "          (bn3): BatchNorm1d(256, eps=1e-05, momentum=0.1, affine=True, track_running_stats=True)\n",
      "          (shortcut): Identity()\n",
      "        )\n",
      "      )\n",
      "    )\n",
      "    (stack2): ResNetStack(\n",
      "      (stack): Sequential(\n",
      "        (dense_2): ResnetDenseBlock(\n",
      "          (dense1): Linear(in_features=256, out_features=256, bias=True)\n",
      "          (bn1): BatchNorm1d(256, eps=1e-05, momentum=0.1, affine=True, track_running_stats=True)\n",
      "          (relu): ReLU(inplace=True)\n",
      "          (dense2): Linear(in_features=256, out_features=256, bias=True)\n",
      "          (bn2): BatchNorm1d(256, eps=1e-05, momentum=0.1, affine=True, track_running_stats=True)\n",
      "          (dense3): Linear(in_features=256, out_features=256, bias=True)\n",
      "          (bn3): BatchNorm1d(256, eps=1e-05, momentum=0.1, affine=True, track_running_stats=True)\n",
      "          (shortcut): Sequential(\n",
      "            (dense_sc): Linear(in_features=256, out_features=256, bias=True)\n",
      "            (bn_sc): BatchNorm1d(256, eps=1e-05, momentum=0.1, affine=True, track_running_stats=True)\n",
      "          )\n",
      "        )\n",
      "        (identity_2a): ResnetIdentityBlock(\n",
      "          (dense1): Linear(in_features=256, out_features=256, bias=True)\n",
      "          (bn1): BatchNorm1d(256, eps=1e-05, momentum=0.1, affine=True, track_running_stats=True)\n",
      "          (relu): ReLU(inplace=True)\n",
      "          (dense2): Linear(in_features=256, out_features=256, bias=True)\n",
      "          (bn2): BatchNorm1d(256, eps=1e-05, momentum=0.1, affine=True, track_running_stats=True)\n",
      "          (dense3): Linear(in_features=256, out_features=256, bias=True)\n",
      "          (bn3): BatchNorm1d(256, eps=1e-05, momentum=0.1, affine=True, track_running_stats=True)\n",
      "          (shortcut): Identity()\n",
      "        )\n",
      "        (identity_2b): ResnetIdentityBlock(\n",
      "          (dense1): Linear(in_features=256, out_features=256, bias=True)\n",
      "          (bn1): BatchNorm1d(256, eps=1e-05, momentum=0.1, affine=True, track_running_stats=True)\n",
      "          (relu): ReLU(inplace=True)\n",
      "          (dense2): Linear(in_features=256, out_features=256, bias=True)\n",
      "          (bn2): BatchNorm1d(256, eps=1e-05, momentum=0.1, affine=True, track_running_stats=True)\n",
      "          (dense3): Linear(in_features=256, out_features=256, bias=True)\n",
      "          (bn3): BatchNorm1d(256, eps=1e-05, momentum=0.1, affine=True, track_running_stats=True)\n",
      "          (shortcut): Identity()\n",
      "        )\n",
      "      )\n",
      "    )\n",
      "    (stack3): ResNetStack(\n",
      "      (stack): Sequential(\n",
      "        (dense_3): ResnetDenseBlock(\n",
      "          (dense1): Linear(in_features=256, out_features=256, bias=True)\n",
      "          (bn1): BatchNorm1d(256, eps=1e-05, momentum=0.1, affine=True, track_running_stats=True)\n",
      "          (relu): ReLU(inplace=True)\n",
      "          (dense2): Linear(in_features=256, out_features=256, bias=True)\n",
      "          (bn2): BatchNorm1d(256, eps=1e-05, momentum=0.1, affine=True, track_running_stats=True)\n",
      "          (dense3): Linear(in_features=256, out_features=256, bias=True)\n",
      "          (bn3): BatchNorm1d(256, eps=1e-05, momentum=0.1, affine=True, track_running_stats=True)\n",
      "          (shortcut): Sequential(\n",
      "            (dense_sc): Linear(in_features=256, out_features=256, bias=True)\n",
      "            (bn_sc): BatchNorm1d(256, eps=1e-05, momentum=0.1, affine=True, track_running_stats=True)\n",
      "          )\n",
      "        )\n",
      "        (identity_3a): ResnetIdentityBlock(\n",
      "          (dense1): Linear(in_features=256, out_features=256, bias=True)\n",
      "          (bn1): BatchNorm1d(256, eps=1e-05, momentum=0.1, affine=True, track_running_stats=True)\n",
      "          (relu): ReLU(inplace=True)\n",
      "          (dense2): Linear(in_features=256, out_features=256, bias=True)\n",
      "          (bn2): BatchNorm1d(256, eps=1e-05, momentum=0.1, affine=True, track_running_stats=True)\n",
      "          (dense3): Linear(in_features=256, out_features=256, bias=True)\n",
      "          (bn3): BatchNorm1d(256, eps=1e-05, momentum=0.1, affine=True, track_running_stats=True)\n",
      "          (shortcut): Identity()\n",
      "        )\n",
      "        (identity_3b): ResnetIdentityBlock(\n",
      "          (dense1): Linear(in_features=256, out_features=256, bias=True)\n",
      "          (bn1): BatchNorm1d(256, eps=1e-05, momentum=0.1, affine=True, track_running_stats=True)\n",
      "          (relu): ReLU(inplace=True)\n",
      "          (dense2): Linear(in_features=256, out_features=256, bias=True)\n",
      "          (bn2): BatchNorm1d(256, eps=1e-05, momentum=0.1, affine=True, track_running_stats=True)\n",
      "          (dense3): Linear(in_features=256, out_features=256, bias=True)\n",
      "          (bn3): BatchNorm1d(256, eps=1e-05, momentum=0.1, affine=True, track_running_stats=True)\n",
      "          (shortcut): Identity()\n",
      "        )\n",
      "      )\n",
      "    )\n",
      "    (final_bn): BatchNorm1d(256, eps=1e-05, momentum=0.1, affine=True, track_running_stats=True)\n",
      "    (final): Linear(in_features=256, out_features=1, bias=True)\n",
      "  )\n",
      "  (model6): ResNet28(\n",
      "    (stack1): ResNetStack(\n",
      "      (stack): Sequential(\n",
      "        (dense_1): ResnetDenseBlock(\n",
      "          (dense1): Linear(in_features=37, out_features=256, bias=True)\n",
      "          (bn1): BatchNorm1d(256, eps=1e-05, momentum=0.1, affine=True, track_running_stats=True)\n",
      "          (relu): ReLU(inplace=True)\n",
      "          (dense2): Linear(in_features=256, out_features=256, bias=True)\n",
      "          (bn2): BatchNorm1d(256, eps=1e-05, momentum=0.1, affine=True, track_running_stats=True)\n",
      "          (dense3): Linear(in_features=256, out_features=256, bias=True)\n",
      "          (bn3): BatchNorm1d(256, eps=1e-05, momentum=0.1, affine=True, track_running_stats=True)\n",
      "          (shortcut): Sequential(\n",
      "            (dense_sc): Linear(in_features=37, out_features=256, bias=True)\n",
      "            (bn_sc): BatchNorm1d(256, eps=1e-05, momentum=0.1, affine=True, track_running_stats=True)\n",
      "          )\n",
      "        )\n",
      "        (identity_1a): ResnetIdentityBlock(\n",
      "          (dense1): Linear(in_features=256, out_features=256, bias=True)\n",
      "          (bn1): BatchNorm1d(256, eps=1e-05, momentum=0.1, affine=True, track_running_stats=True)\n",
      "          (relu): ReLU(inplace=True)\n",
      "          (dense2): Linear(in_features=256, out_features=256, bias=True)\n",
      "          (bn2): BatchNorm1d(256, eps=1e-05, momentum=0.1, affine=True, track_running_stats=True)\n",
      "          (dense3): Linear(in_features=256, out_features=256, bias=True)\n",
      "          (bn3): BatchNorm1d(256, eps=1e-05, momentum=0.1, affine=True, track_running_stats=True)\n",
      "          (shortcut): Identity()\n",
      "        )\n",
      "        (identity_1b): ResnetIdentityBlock(\n",
      "          (dense1): Linear(in_features=256, out_features=256, bias=True)\n",
      "          (bn1): BatchNorm1d(256, eps=1e-05, momentum=0.1, affine=True, track_running_stats=True)\n",
      "          (relu): ReLU(inplace=True)\n",
      "          (dense2): Linear(in_features=256, out_features=256, bias=True)\n",
      "          (bn2): BatchNorm1d(256, eps=1e-05, momentum=0.1, affine=True, track_running_stats=True)\n",
      "          (dense3): Linear(in_features=256, out_features=256, bias=True)\n",
      "          (bn3): BatchNorm1d(256, eps=1e-05, momentum=0.1, affine=True, track_running_stats=True)\n",
      "          (shortcut): Identity()\n",
      "        )\n",
      "      )\n",
      "    )\n",
      "    (stack2): ResNetStack(\n",
      "      (stack): Sequential(\n",
      "        (dense_2): ResnetDenseBlock(\n",
      "          (dense1): Linear(in_features=256, out_features=256, bias=True)\n",
      "          (bn1): BatchNorm1d(256, eps=1e-05, momentum=0.1, affine=True, track_running_stats=True)\n",
      "          (relu): ReLU(inplace=True)\n",
      "          (dense2): Linear(in_features=256, out_features=256, bias=True)\n",
      "          (bn2): BatchNorm1d(256, eps=1e-05, momentum=0.1, affine=True, track_running_stats=True)\n",
      "          (dense3): Linear(in_features=256, out_features=256, bias=True)\n",
      "          (bn3): BatchNorm1d(256, eps=1e-05, momentum=0.1, affine=True, track_running_stats=True)\n",
      "          (shortcut): Sequential(\n",
      "            (dense_sc): Linear(in_features=256, out_features=256, bias=True)\n",
      "            (bn_sc): BatchNorm1d(256, eps=1e-05, momentum=0.1, affine=True, track_running_stats=True)\n",
      "          )\n",
      "        )\n",
      "        (identity_2a): ResnetIdentityBlock(\n",
      "          (dense1): Linear(in_features=256, out_features=256, bias=True)\n",
      "          (bn1): BatchNorm1d(256, eps=1e-05, momentum=0.1, affine=True, track_running_stats=True)\n",
      "          (relu): ReLU(inplace=True)\n",
      "          (dense2): Linear(in_features=256, out_features=256, bias=True)\n",
      "          (bn2): BatchNorm1d(256, eps=1e-05, momentum=0.1, affine=True, track_running_stats=True)\n",
      "          (dense3): Linear(in_features=256, out_features=256, bias=True)\n",
      "          (bn3): BatchNorm1d(256, eps=1e-05, momentum=0.1, affine=True, track_running_stats=True)\n",
      "          (shortcut): Identity()\n",
      "        )\n",
      "        (identity_2b): ResnetIdentityBlock(\n",
      "          (dense1): Linear(in_features=256, out_features=256, bias=True)\n",
      "          (bn1): BatchNorm1d(256, eps=1e-05, momentum=0.1, affine=True, track_running_stats=True)\n",
      "          (relu): ReLU(inplace=True)\n",
      "          (dense2): Linear(in_features=256, out_features=256, bias=True)\n",
      "          (bn2): BatchNorm1d(256, eps=1e-05, momentum=0.1, affine=True, track_running_stats=True)\n",
      "          (dense3): Linear(in_features=256, out_features=256, bias=True)\n",
      "          (bn3): BatchNorm1d(256, eps=1e-05, momentum=0.1, affine=True, track_running_stats=True)\n",
      "          (shortcut): Identity()\n",
      "        )\n",
      "      )\n",
      "    )\n",
      "    (stack3): ResNetStack(\n",
      "      (stack): Sequential(\n",
      "        (dense_3): ResnetDenseBlock(\n",
      "          (dense1): Linear(in_features=256, out_features=256, bias=True)\n",
      "          (bn1): BatchNorm1d(256, eps=1e-05, momentum=0.1, affine=True, track_running_stats=True)\n",
      "          (relu): ReLU(inplace=True)\n",
      "          (dense2): Linear(in_features=256, out_features=256, bias=True)\n",
      "          (bn2): BatchNorm1d(256, eps=1e-05, momentum=0.1, affine=True, track_running_stats=True)\n",
      "          (dense3): Linear(in_features=256, out_features=256, bias=True)\n",
      "          (bn3): BatchNorm1d(256, eps=1e-05, momentum=0.1, affine=True, track_running_stats=True)\n",
      "          (shortcut): Sequential(\n",
      "            (dense_sc): Linear(in_features=256, out_features=256, bias=True)\n",
      "            (bn_sc): BatchNorm1d(256, eps=1e-05, momentum=0.1, affine=True, track_running_stats=True)\n",
      "          )\n",
      "        )\n",
      "        (identity_3a): ResnetIdentityBlock(\n",
      "          (dense1): Linear(in_features=256, out_features=256, bias=True)\n",
      "          (bn1): BatchNorm1d(256, eps=1e-05, momentum=0.1, affine=True, track_running_stats=True)\n",
      "          (relu): ReLU(inplace=True)\n",
      "          (dense2): Linear(in_features=256, out_features=256, bias=True)\n",
      "          (bn2): BatchNorm1d(256, eps=1e-05, momentum=0.1, affine=True, track_running_stats=True)\n",
      "          (dense3): Linear(in_features=256, out_features=256, bias=True)\n",
      "          (bn3): BatchNorm1d(256, eps=1e-05, momentum=0.1, affine=True, track_running_stats=True)\n",
      "          (shortcut): Identity()\n",
      "        )\n",
      "        (identity_3b): ResnetIdentityBlock(\n",
      "          (dense1): Linear(in_features=256, out_features=256, bias=True)\n",
      "          (bn1): BatchNorm1d(256, eps=1e-05, momentum=0.1, affine=True, track_running_stats=True)\n",
      "          (relu): ReLU(inplace=True)\n",
      "          (dense2): Linear(in_features=256, out_features=256, bias=True)\n",
      "          (bn2): BatchNorm1d(256, eps=1e-05, momentum=0.1, affine=True, track_running_stats=True)\n",
      "          (dense3): Linear(in_features=256, out_features=256, bias=True)\n",
      "          (bn3): BatchNorm1d(256, eps=1e-05, momentum=0.1, affine=True, track_running_stats=True)\n",
      "          (shortcut): Identity()\n",
      "        )\n",
      "      )\n",
      "    )\n",
      "    (final_bn): BatchNorm1d(256, eps=1e-05, momentum=0.1, affine=True, track_running_stats=True)\n",
      "    (final): Linear(in_features=256, out_features=1, bias=True)\n",
      "  )\n",
      ")\n"
     ]
    },
    {
     "data": {
      "application/vnd.jupyter.widget-view+json": {
       "model_id": "2863b4722ec743c8a00f07da3cb33f28",
       "version_major": 2,
       "version_minor": 0
      },
      "text/plain": [
       "  0%|          | 0/100 [00:00<?, ?it/s]"
      ]
     },
     "metadata": {},
     "output_type": "display_data"
    },
    {
     "data": {
      "application/vnd.jupyter.widget-view+json": {
       "model_id": "",
       "version_major": 2,
       "version_minor": 0
      },
      "text/plain": [
       "  0%|          | 0/1808 [00:00<?, ?it/s]"
      ]
     },
     "metadata": {},
     "output_type": "display_data"
    },
    {
     "data": {
      "application/vnd.jupyter.widget-view+json": {
       "model_id": "",
       "version_major": 2,
       "version_minor": 0
      },
      "text/plain": [
       "  0%|          | 0/18 [00:00<?, ?it/s]"
      ]
     },
     "metadata": {},
     "output_type": "display_data"
    },
    {
     "data": {
      "application/vnd.jupyter.widget-view+json": {
       "model_id": "",
       "version_major": 2,
       "version_minor": 0
      },
      "text/plain": [
       "  0%|          | 0/1808 [00:00<?, ?it/s]"
      ]
     },
     "metadata": {},
     "output_type": "display_data"
    },
    {
     "data": {
      "application/vnd.jupyter.widget-view+json": {
       "model_id": "",
       "version_major": 2,
       "version_minor": 0
      },
      "text/plain": [
       "  0%|          | 0/18 [00:00<?, ?it/s]"
      ]
     },
     "metadata": {},
     "output_type": "display_data"
    },
    {
     "data": {
      "application/vnd.jupyter.widget-view+json": {
       "model_id": "",
       "version_major": 2,
       "version_minor": 0
      },
      "text/plain": [
       "  0%|          | 0/1808 [00:00<?, ?it/s]"
      ]
     },
     "metadata": {},
     "output_type": "display_data"
    },
    {
     "data": {
      "application/vnd.jupyter.widget-view+json": {
       "model_id": "",
       "version_major": 2,
       "version_minor": 0
      },
      "text/plain": [
       "  0%|          | 0/18 [00:00<?, ?it/s]"
      ]
     },
     "metadata": {},
     "output_type": "display_data"
    },
    {
     "data": {
      "application/vnd.jupyter.widget-view+json": {
       "model_id": "",
       "version_major": 2,
       "version_minor": 0
      },
      "text/plain": [
       "  0%|          | 0/1808 [00:00<?, ?it/s]"
      ]
     },
     "metadata": {},
     "output_type": "display_data"
    },
    {
     "data": {
      "application/vnd.jupyter.widget-view+json": {
       "model_id": "",
       "version_major": 2,
       "version_minor": 0
      },
      "text/plain": [
       "  0%|          | 0/18 [00:00<?, ?it/s]"
      ]
     },
     "metadata": {},
     "output_type": "display_data"
    },
    {
     "data": {
      "application/vnd.jupyter.widget-view+json": {
       "model_id": "",
       "version_major": 2,
       "version_minor": 0
      },
      "text/plain": [
       "  0%|          | 0/1808 [00:00<?, ?it/s]"
      ]
     },
     "metadata": {},
     "output_type": "display_data"
    },
    {
     "data": {
      "application/vnd.jupyter.widget-view+json": {
       "model_id": "",
       "version_major": 2,
       "version_minor": 0
      },
      "text/plain": [
       "  0%|          | 0/18 [00:00<?, ?it/s]"
      ]
     },
     "metadata": {},
     "output_type": "display_data"
    },
    {
     "data": {
      "application/vnd.jupyter.widget-view+json": {
       "model_id": "",
       "version_major": 2,
       "version_minor": 0
      },
      "text/plain": [
       "  0%|          | 0/1808 [00:00<?, ?it/s]"
      ]
     },
     "metadata": {},
     "output_type": "display_data"
    },
    {
     "data": {
      "application/vnd.jupyter.widget-view+json": {
       "model_id": "",
       "version_major": 2,
       "version_minor": 0
      },
      "text/plain": [
       "  0%|          | 0/18 [00:00<?, ?it/s]"
      ]
     },
     "metadata": {},
     "output_type": "display_data"
    },
    {
     "data": {
      "application/vnd.jupyter.widget-view+json": {
       "model_id": "",
       "version_major": 2,
       "version_minor": 0
      },
      "text/plain": [
       "  0%|          | 0/1808 [00:00<?, ?it/s]"
      ]
     },
     "metadata": {},
     "output_type": "display_data"
    },
    {
     "data": {
      "application/vnd.jupyter.widget-view+json": {
       "model_id": "",
       "version_major": 2,
       "version_minor": 0
      },
      "text/plain": [
       "  0%|          | 0/18 [00:00<?, ?it/s]"
      ]
     },
     "metadata": {},
     "output_type": "display_data"
    },
    {
     "data": {
      "application/vnd.jupyter.widget-view+json": {
       "model_id": "",
       "version_major": 2,
       "version_minor": 0
      },
      "text/plain": [
       "  0%|          | 0/1808 [00:00<?, ?it/s]"
      ]
     },
     "metadata": {},
     "output_type": "display_data"
    },
    {
     "data": {
      "application/vnd.jupyter.widget-view+json": {
       "model_id": "",
       "version_major": 2,
       "version_minor": 0
      },
      "text/plain": [
       "  0%|          | 0/18 [00:00<?, ?it/s]"
      ]
     },
     "metadata": {},
     "output_type": "display_data"
    },
    {
     "data": {
      "application/vnd.jupyter.widget-view+json": {
       "model_id": "",
       "version_major": 2,
       "version_minor": 0
      },
      "text/plain": [
       "  0%|          | 0/1808 [00:00<?, ?it/s]"
      ]
     },
     "metadata": {},
     "output_type": "display_data"
    },
    {
     "data": {
      "application/vnd.jupyter.widget-view+json": {
       "model_id": "",
       "version_major": 2,
       "version_minor": 0
      },
      "text/plain": [
       "  0%|          | 0/18 [00:00<?, ?it/s]"
      ]
     },
     "metadata": {},
     "output_type": "display_data"
    },
    {
     "data": {
      "application/vnd.jupyter.widget-view+json": {
       "model_id": "",
       "version_major": 2,
       "version_minor": 0
      },
      "text/plain": [
       "  0%|          | 0/1808 [00:00<?, ?it/s]"
      ]
     },
     "metadata": {},
     "output_type": "display_data"
    },
    {
     "data": {
      "application/vnd.jupyter.widget-view+json": {
       "model_id": "",
       "version_major": 2,
       "version_minor": 0
      },
      "text/plain": [
       "  0%|          | 0/18 [00:00<?, ?it/s]"
      ]
     },
     "metadata": {},
     "output_type": "display_data"
    },
    {
     "data": {
      "application/vnd.jupyter.widget-view+json": {
       "model_id": "",
       "version_major": 2,
       "version_minor": 0
      },
      "text/plain": [
       "  0%|          | 0/1808 [00:00<?, ?it/s]"
      ]
     },
     "metadata": {},
     "output_type": "display_data"
    },
    {
     "data": {
      "application/vnd.jupyter.widget-view+json": {
       "model_id": "",
       "version_major": 2,
       "version_minor": 0
      },
      "text/plain": [
       "  0%|          | 0/18 [00:00<?, ?it/s]"
      ]
     },
     "metadata": {},
     "output_type": "display_data"
    },
    {
     "data": {
      "application/vnd.jupyter.widget-view+json": {
       "model_id": "",
       "version_major": 2,
       "version_minor": 0
      },
      "text/plain": [
       "  0%|          | 0/1808 [00:00<?, ?it/s]"
      ]
     },
     "metadata": {},
     "output_type": "display_data"
    },
    {
     "data": {
      "application/vnd.jupyter.widget-view+json": {
       "model_id": "",
       "version_major": 2,
       "version_minor": 0
      },
      "text/plain": [
       "  0%|          | 0/18 [00:00<?, ?it/s]"
      ]
     },
     "metadata": {},
     "output_type": "display_data"
    },
    {
     "data": {
      "application/vnd.jupyter.widget-view+json": {
       "model_id": "",
       "version_major": 2,
       "version_minor": 0
      },
      "text/plain": [
       "  0%|          | 0/1808 [00:00<?, ?it/s]"
      ]
     },
     "metadata": {},
     "output_type": "display_data"
    },
    {
     "data": {
      "application/vnd.jupyter.widget-view+json": {
       "model_id": "",
       "version_major": 2,
       "version_minor": 0
      },
      "text/plain": [
       "  0%|          | 0/18 [00:00<?, ?it/s]"
      ]
     },
     "metadata": {},
     "output_type": "display_data"
    },
    {
     "data": {
      "application/vnd.jupyter.widget-view+json": {
       "model_id": "",
       "version_major": 2,
       "version_minor": 0
      },
      "text/plain": [
       "  0%|          | 0/1808 [00:00<?, ?it/s]"
      ]
     },
     "metadata": {},
     "output_type": "display_data"
    },
    {
     "data": {
      "application/vnd.jupyter.widget-view+json": {
       "model_id": "",
       "version_major": 2,
       "version_minor": 0
      },
      "text/plain": [
       "  0%|          | 0/18 [00:00<?, ?it/s]"
      ]
     },
     "metadata": {},
     "output_type": "display_data"
    },
    {
     "data": {
      "application/vnd.jupyter.widget-view+json": {
       "model_id": "",
       "version_major": 2,
       "version_minor": 0
      },
      "text/plain": [
       "  0%|          | 0/1808 [00:00<?, ?it/s]"
      ]
     },
     "metadata": {},
     "output_type": "display_data"
    },
    {
     "data": {
      "application/vnd.jupyter.widget-view+json": {
       "model_id": "",
       "version_major": 2,
       "version_minor": 0
      },
      "text/plain": [
       "  0%|          | 0/18 [00:00<?, ?it/s]"
      ]
     },
     "metadata": {},
     "output_type": "display_data"
    },
    {
     "data": {
      "application/vnd.jupyter.widget-view+json": {
       "model_id": "",
       "version_major": 2,
       "version_minor": 0
      },
      "text/plain": [
       "  0%|          | 0/1808 [00:00<?, ?it/s]"
      ]
     },
     "metadata": {},
     "output_type": "display_data"
    },
    {
     "data": {
      "application/vnd.jupyter.widget-view+json": {
       "model_id": "",
       "version_major": 2,
       "version_minor": 0
      },
      "text/plain": [
       "  0%|          | 0/18 [00:00<?, ?it/s]"
      ]
     },
     "metadata": {},
     "output_type": "display_data"
    },
    {
     "data": {
      "application/vnd.jupyter.widget-view+json": {
       "model_id": "",
       "version_major": 2,
       "version_minor": 0
      },
      "text/plain": [
       "  0%|          | 0/1808 [00:00<?, ?it/s]"
      ]
     },
     "metadata": {},
     "output_type": "display_data"
    },
    {
     "data": {
      "application/vnd.jupyter.widget-view+json": {
       "model_id": "",
       "version_major": 2,
       "version_minor": 0
      },
      "text/plain": [
       "  0%|          | 0/18 [00:00<?, ?it/s]"
      ]
     },
     "metadata": {},
     "output_type": "display_data"
    },
    {
     "data": {
      "application/vnd.jupyter.widget-view+json": {
       "model_id": "",
       "version_major": 2,
       "version_minor": 0
      },
      "text/plain": [
       "  0%|          | 0/1808 [00:00<?, ?it/s]"
      ]
     },
     "metadata": {},
     "output_type": "display_data"
    },
    {
     "data": {
      "application/vnd.jupyter.widget-view+json": {
       "model_id": "",
       "version_major": 2,
       "version_minor": 0
      },
      "text/plain": [
       "  0%|          | 0/18 [00:00<?, ?it/s]"
      ]
     },
     "metadata": {},
     "output_type": "display_data"
    },
    {
     "data": {
      "application/vnd.jupyter.widget-view+json": {
       "model_id": "",
       "version_major": 2,
       "version_minor": 0
      },
      "text/plain": [
       "  0%|          | 0/1808 [00:00<?, ?it/s]"
      ]
     },
     "metadata": {},
     "output_type": "display_data"
    },
    {
     "data": {
      "application/vnd.jupyter.widget-view+json": {
       "model_id": "",
       "version_major": 2,
       "version_minor": 0
      },
      "text/plain": [
       "  0%|          | 0/18 [00:00<?, ?it/s]"
      ]
     },
     "metadata": {},
     "output_type": "display_data"
    },
    {
     "data": {
      "application/vnd.jupyter.widget-view+json": {
       "model_id": "",
       "version_major": 2,
       "version_minor": 0
      },
      "text/plain": [
       "  0%|          | 0/1808 [00:00<?, ?it/s]"
      ]
     },
     "metadata": {},
     "output_type": "display_data"
    },
    {
     "data": {
      "application/vnd.jupyter.widget-view+json": {
       "model_id": "",
       "version_major": 2,
       "version_minor": 0
      },
      "text/plain": [
       "  0%|          | 0/18 [00:00<?, ?it/s]"
      ]
     },
     "metadata": {},
     "output_type": "display_data"
    },
    {
     "data": {
      "application/vnd.jupyter.widget-view+json": {
       "model_id": "",
       "version_major": 2,
       "version_minor": 0
      },
      "text/plain": [
       "  0%|          | 0/1808 [00:00<?, ?it/s]"
      ]
     },
     "metadata": {},
     "output_type": "display_data"
    },
    {
     "data": {
      "application/vnd.jupyter.widget-view+json": {
       "model_id": "",
       "version_major": 2,
       "version_minor": 0
      },
      "text/plain": [
       "  0%|          | 0/18 [00:00<?, ?it/s]"
      ]
     },
     "metadata": {},
     "output_type": "display_data"
    },
    {
     "data": {
      "application/vnd.jupyter.widget-view+json": {
       "model_id": "",
       "version_major": 2,
       "version_minor": 0
      },
      "text/plain": [
       "  0%|          | 0/1808 [00:00<?, ?it/s]"
      ]
     },
     "metadata": {},
     "output_type": "display_data"
    },
    {
     "data": {
      "application/vnd.jupyter.widget-view+json": {
       "model_id": "",
       "version_major": 2,
       "version_minor": 0
      },
      "text/plain": [
       "  0%|          | 0/18 [00:00<?, ?it/s]"
      ]
     },
     "metadata": {},
     "output_type": "display_data"
    },
    {
     "data": {
      "application/vnd.jupyter.widget-view+json": {
       "model_id": "",
       "version_major": 2,
       "version_minor": 0
      },
      "text/plain": [
       "  0%|          | 0/1808 [00:00<?, ?it/s]"
      ]
     },
     "metadata": {},
     "output_type": "display_data"
    },
    {
     "data": {
      "application/vnd.jupyter.widget-view+json": {
       "model_id": "",
       "version_major": 2,
       "version_minor": 0
      },
      "text/plain": [
       "  0%|          | 0/18 [00:00<?, ?it/s]"
      ]
     },
     "metadata": {},
     "output_type": "display_data"
    },
    {
     "data": {
      "application/vnd.jupyter.widget-view+json": {
       "model_id": "",
       "version_major": 2,
       "version_minor": 0
      },
      "text/plain": [
       "  0%|          | 0/1808 [00:00<?, ?it/s]"
      ]
     },
     "metadata": {},
     "output_type": "display_data"
    },
    {
     "data": {
      "application/vnd.jupyter.widget-view+json": {
       "model_id": "",
       "version_major": 2,
       "version_minor": 0
      },
      "text/plain": [
       "  0%|          | 0/18 [00:00<?, ?it/s]"
      ]
     },
     "metadata": {},
     "output_type": "display_data"
    },
    {
     "data": {
      "application/vnd.jupyter.widget-view+json": {
       "model_id": "",
       "version_major": 2,
       "version_minor": 0
      },
      "text/plain": [
       "  0%|          | 0/1808 [00:00<?, ?it/s]"
      ]
     },
     "metadata": {},
     "output_type": "display_data"
    },
    {
     "data": {
      "application/vnd.jupyter.widget-view+json": {
       "model_id": "",
       "version_major": 2,
       "version_minor": 0
      },
      "text/plain": [
       "  0%|          | 0/18 [00:00<?, ?it/s]"
      ]
     },
     "metadata": {},
     "output_type": "display_data"
    },
    {
     "data": {
      "application/vnd.jupyter.widget-view+json": {
       "model_id": "",
       "version_major": 2,
       "version_minor": 0
      },
      "text/plain": [
       "  0%|          | 0/1808 [00:00<?, ?it/s]"
      ]
     },
     "metadata": {},
     "output_type": "display_data"
    },
    {
     "data": {
      "application/vnd.jupyter.widget-view+json": {
       "model_id": "",
       "version_major": 2,
       "version_minor": 0
      },
      "text/plain": [
       "  0%|          | 0/18 [00:00<?, ?it/s]"
      ]
     },
     "metadata": {},
     "output_type": "display_data"
    },
    {
     "data": {
      "application/vnd.jupyter.widget-view+json": {
       "model_id": "1a648d02f8c54d50a37b92a18cf92af9",
       "version_major": 2,
       "version_minor": 0
      },
      "text/plain": [
       "  0%|          | 0/1808 [00:00<?, ?it/s]"
      ]
     },
     "metadata": {},
     "output_type": "display_data"
    },
    {
     "ename": "RuntimeError",
     "evalue": "CUDA error: unknown error",
     "output_type": "error",
     "traceback": [
      "\u001b[1;31m---------------------------------------------------------------------------\u001b[0m",
      "\u001b[1;31mRuntimeError\u001b[0m                              Traceback (most recent call last)",
      "\u001b[1;32m<ipython-input-4-cb7f56eae3c6>\u001b[0m in \u001b[0;36m<module>\u001b[1;34m\u001b[0m\n\u001b[0;32m     18\u001b[0m \u001b[1;33m\u001b[0m\u001b[0m\n\u001b[0;32m     19\u001b[0m \u001b[1;33m\u001b[0m\u001b[0m\n\u001b[1;32m---> 20\u001b[1;33m \u001b[0mmodel\u001b[0m\u001b[1;33m,\u001b[0m \u001b[0mmean_losses\u001b[0m \u001b[1;33m=\u001b[0m \u001b[0mtrain\u001b[0m\u001b[1;33m.\u001b[0m\u001b[0mtrain_model\u001b[0m\u001b[1;33m(\u001b[0m\u001b[0mX_train\u001b[0m\u001b[1;33m[\u001b[0m\u001b[0mcols\u001b[0m\u001b[1;33m]\u001b[0m\u001b[1;33m,\u001b[0m \u001b[0my_train\u001b[0m\u001b[1;33m,\u001b[0m \u001b[0mX_test\u001b[0m\u001b[1;33m[\u001b[0m\u001b[0mcols\u001b[0m\u001b[1;33m]\u001b[0m\u001b[1;33m,\u001b[0m \u001b[0my_test\u001b[0m\u001b[1;33m,\u001b[0m \u001b[0mconfigurations\u001b[0m\u001b[1;33m,\u001b[0m \u001b[0mforce_train\u001b[0m\u001b[1;33m=\u001b[0m\u001b[1;32mFalse\u001b[0m\u001b[1;33m)\u001b[0m\u001b[1;33m\u001b[0m\u001b[1;33m\u001b[0m\u001b[0m\n\u001b[0m",
      "\u001b[1;32mD:\\GitHub\\tle-prediction\\models\\model_n4\\train.py\u001b[0m in \u001b[0;36mtrain_model\u001b[1;34m(X_train, y_train, X_test, y_test, configurations, force_train)\u001b[0m\n\u001b[0;32m    132\u001b[0m             \u001b[0mprediction\u001b[0m \u001b[1;33m=\u001b[0m \u001b[0mnet\u001b[0m\u001b[1;33m(\u001b[0m\u001b[0mx\u001b[0m\u001b[1;33m)\u001b[0m     \u001b[1;31m# input x and predict based on x\u001b[0m\u001b[1;33m\u001b[0m\u001b[1;33m\u001b[0m\u001b[0m\n\u001b[0;32m    133\u001b[0m             \u001b[0mloss\u001b[0m \u001b[1;33m=\u001b[0m \u001b[0mloss_func\u001b[0m\u001b[1;33m(\u001b[0m\u001b[0mprediction\u001b[0m\u001b[1;33m,\u001b[0m \u001b[0my\u001b[0m\u001b[1;33m)\u001b[0m     \u001b[1;31m# must be (1. nn output, 2. target)\u001b[0m\u001b[1;33m\u001b[0m\u001b[1;33m\u001b[0m\u001b[0m\n\u001b[1;32m--> 134\u001b[1;33m             \u001b[0mloss\u001b[0m\u001b[1;33m.\u001b[0m\u001b[0mbackward\u001b[0m\u001b[1;33m(\u001b[0m\u001b[1;33m)\u001b[0m         \u001b[1;31m# backpropagation, compute gradients\u001b[0m\u001b[1;33m\u001b[0m\u001b[1;33m\u001b[0m\u001b[0m\n\u001b[0m\u001b[0;32m    135\u001b[0m             \u001b[0moptimizer\u001b[0m\u001b[1;33m.\u001b[0m\u001b[0mstep\u001b[0m\u001b[1;33m(\u001b[0m\u001b[1;33m)\u001b[0m        \u001b[1;31m# apply gradients\u001b[0m\u001b[1;33m\u001b[0m\u001b[1;33m\u001b[0m\u001b[0m\n\u001b[0;32m    136\u001b[0m             \u001b[0mrunning_eloss\u001b[0m \u001b[1;33m+=\u001b[0m \u001b[0mloss\u001b[0m\u001b[1;33m.\u001b[0m\u001b[0mitem\u001b[0m\u001b[1;33m(\u001b[0m\u001b[1;33m)\u001b[0m\u001b[1;33m\u001b[0m\u001b[1;33m\u001b[0m\u001b[0m\n",
      "\u001b[1;31mRuntimeError\u001b[0m: CUDA error: unknown error"
     ]
    }
   ],
   "source": [
    "# model_id='full_local_10c'\n",
    "# c = {'lr' : 0.0001, 'model_identifier': model_id}\n",
    "# configurations.update(c)\n",
    "\n",
    "# model_id=configurations['model_identifier']\n",
    "# with open(f'data/{model_id}.cfg', 'w') as f:\n",
    "#     json.dump(configurations, f)\n",
    "    \n",
    "cols = ['BSTAR', 'INCLINATION', 'RA_OF_ASC_NODE', 'ECCENTRICITY',\n",
    "       'ARG_OF_PERICENTER', 'MEAN_ANOMALY', 'MEAN_MOTION', 'SUNSPOTS_1D',\n",
    "       'SUNSPOTS_3D', 'SUNSPOTS_7D', 'AIR_MONTH_AVG_TEMP',\n",
    "       'WATER_MONTH_AVG_TEMP', 'year', 'month_sin', 'month_cos', 'hour_sin',\n",
    "       'hour_cos', 'minute_sin', 'minute_cos', 'second_sin', 'second_cos',\n",
    "       'ms_sin', 'ms_cos', 'year_y', 'month_sin_y', 'month_cos_y',\n",
    "       'hour_sin_y', 'hour_cos_y', 'minute_sin_y', 'minute_cos_y',\n",
    "       'second_sin_y', 'second_cos_y', 'ms_sin_y', 'ms_cos_y',\n",
    "       'epoch_day_diff', 'epoch_sec_diff', 'epoch_ms_diff']\n",
    "\n",
    "\n",
    "model, mean_losses = train.train_model(X_train[cols], y_train, X_test[cols], y_test, configurations, force_train=False)"
   ]
  },
  {
   "cell_type": "code",
   "execution_count": null,
   "metadata": {
    "scrolled": false
   },
   "outputs": [],
   "source": [
    "# cols = ['BSTAR', 'INCLINATION', 'RA_OF_ASC_NODE', 'ECCENTRICITY',\n",
    "#        'ARG_OF_PERICENTER', 'MEAN_ANOMALY', 'MEAN_MOTION', 'SUNSPOTS_1D',\n",
    "#        'SUNSPOTS_3D', 'SUNSPOTS_7D', 'AIR_MONTH_AVG_TEMP',\n",
    "#        'WATER_MONTH_AVG_TEMP', 'year', 'month_sin', 'month_cos', 'hour_sin',\n",
    "#        'hour_cos', 'minute_sin', 'minute_cos', 'second_sin', 'second_cos',\n",
    "#        'ms_sin', 'ms_cos', 'year_y', 'month_sin_y', 'month_cos_y',\n",
    "#        'hour_sin_y', 'hour_cos_y', 'minute_sin_y', 'minute_cos_y',\n",
    "#        'second_sin_y', 'second_cos_y', 'ms_sin_y', 'ms_cos_y',\n",
    "#        'epoch_day_diff', 'epoch_sec_diff', 'epoch_ms_diff']\n",
    "\n",
    "\n",
    "# cfg_upds = [\n",
    "#  #{'model_identifier' : \"full_local_2\", 'lr' : 0.001, 'weight_decay' : 1e-3, 'amsgrad' : True, 'max_epochs' : 10},\n",
    "#  #{'model_identifier' : \"full_local_4\", 'lr' : 0.001, 'weight_decay' : 0.1, 'amsgrad' : True, 'max_epochs' : 10},\n",
    "# #  {'model_identifier' : \"full_local_5\", 'lr' : 0.001, 'weight_decay' : 0.1, 'amsgrad' : False, 'max_epochs' : 10},\n",
    "# #  {'model_identifier' : \"full_local_6\", 'lr' : 0.003, 'weight_decay' : 1e-3, 'amsgrad' : True, 'max_epochs' : 10},\n",
    "# #  {'model_identifier' : \"full_local_8\", 'lr' : 0.001, 'weight_decay' : 0.01, 'amsgrad' : False, 'max_epochs' : 10},\n",
    "# #  {'model_identifier' : \"full_local_9\", 'lr' : 0.001, 'weight_decay' : 0.1, 'amsgrad' : False, 'max_epochs' : 10},\n",
    "# #  {'model_identifier' : \"full_local_11\", 'lr' : 0.006, 'weight_decay' : 1e-3, 'amsgrad' : False, 'max_epochs' : 10},\n",
    "# #  {'model_identifier' : \"full_local_12\", 'lr' : 0.003, 'weight_decay' : 0.001, 'amsgrad' : False, 'max_epochs' : 10}, #duplicate 7\n",
    "# #  {'model_identifier' : \"full_local_13\", 'lr' : 0.003, 'weight_decay' : 0.01, 'amsgrad' : False, 'max_epochs' : 10},\n",
    "# #  {'model_identifier' : \"full_local_14\", 'lr' : 0.0001, 'weight_decay' : 0.0003, 'amsgrad' : False, 'max_epochs' : 20},\n",
    "# #  {'model_identifier' : \"full_local_3\", 'lr' : 0.001, 'weight_decay' : 1e-3, 'amsgrad' : False, 'max_epochs' : 20},\n",
    "# #  {'model_identifier' : \"full_local_7\", 'lr' : 0.003, 'weight_decay' : 1e-3, 'amsgrad' : False, 'max_epochs' : 20},\n",
    "# #  {'model_identifier' : \"full_local_10\", 'lr' : 0.001, 'weight_decay' : 0.00025, 'amsgrad' : False, 'max_epochs' : 20}, #decoupled weight decay regularization\n",
    "# ]\n",
    "\n",
    "# for c in cfg_upds:\n",
    "#     configurations.update(c)\n",
    "#     model_id=configurations['model_identifier']\n",
    "#     print(f\"Training {model_id}...\")\n",
    "    \n",
    "#     with open(f'data/{model_id}.cfg', 'w') as f:\n",
    "#         json.dump(configurations, f)\n",
    "    \n",
    "#     try:\n",
    "#         model, mean_losses = train.train_model(X_train[cols], y_train, X_test[cols], y_test, configurations, force_train=False)\n",
    "#     except:\n",
    "#         pass"
   ]
  }
 ],
 "metadata": {
  "kernelspec": {
   "display_name": "Python 3",
   "language": "python",
   "name": "python3"
  },
  "language_info": {
   "codemirror_mode": {
    "name": "ipython",
    "version": 3
   },
   "file_extension": ".py",
   "mimetype": "text/x-python",
   "name": "python",
   "nbconvert_exporter": "python",
   "pygments_lexer": "ipython3",
   "version": "3.8.5"
  }
 },
 "nbformat": 4,
 "nbformat_minor": 4
}
