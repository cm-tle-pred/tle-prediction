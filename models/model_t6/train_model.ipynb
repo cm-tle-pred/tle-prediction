{
 "cells": [
  {
   "cell_type": "code",
   "execution_count": 1,
   "metadata": {},
   "outputs": [],
   "source": [
    "import pandas as pd\n",
    "import numpy as np\n",
    "import os\n",
    "import torch\n",
    "import torch.nn as nn\n",
    "from dataset import Dataset, to_device\n",
    "from model import NNModelXYZ\n",
    "from model import tims_mse_loss, tims_mae_loss, tim95_mse_loss\n",
    "from sklearn.metrics import mean_squared_error, mean_absolute_error\n",
    "import matplotlib.pyplot as plt\n",
    "import pickle\n",
    "import normalize_data\n",
    "import random\n",
    "from time import time\n",
    "from tqdm.notebook import tqdm\n",
    "\n",
    "pd.set_option('display.max_columns', 999)\n",
    "pd.set_option('display.precision', 10)"
   ]
  },
  {
   "cell_type": "code",
   "execution_count": 2,
   "metadata": {},
   "outputs": [],
   "source": [
    "raw_data = {} # loads raw data and stores as a dict cache\n",
    "\n",
    "def dataset_key(dataset='', validation=False):\n",
    "    return dataset+('test' if validation else 'train')\n",
    "\n",
    "\n",
    "def load_data(raw, dataset='', validation=False):\n",
    "    '''\n",
    "    Return dataframe matching data set and validation. Dictionary input will be updated.\n",
    "\n",
    "    Parameters\n",
    "    ----------\n",
    "    raw : dict\n",
    "        dictionary which caches the dataframes and will be updated accordingly\n",
    "\n",
    "    dataset : str\n",
    "        which dataset to use? valid input includes: empty str for full set, sample_, and secret_\n",
    "\n",
    "    validation : bool\n",
    "        load validation set? if true then use _test, otherwise use _train.  Note secret_ doesn't have _train\n",
    "    '''\n",
    "    key = dataset+('test' if validation else 'train')\n",
    "    if key not in raw:\n",
    "        print(f\"Loading data to cache for: {key}\")\n",
    "        raw[key] = pd.read_pickle(f'{os.environ[\"GP_HIST_PATH\"]}/../t6_data/{key}.pkl')\n",
    "    return raw[key]"
   ]
  },
  {
   "cell_type": "code",
   "execution_count": 3,
   "metadata": {},
   "outputs": [],
   "source": [
    "def load_model_with_config(train_config, model_config, X_count=0, force_recreate=False):\n",
    "    # a bit hacky, but in the training phase, we never load and use the minmax scalers\n",
    "    # just putting it here for when we want to load the model elsewhere THEN revert scaling\n",
    "    # probably better to have the scalers saved separately....\n",
    "\n",
    "    path = train_config['model_path']\n",
    "    prefix = train_config['model_prefix']\n",
    "    f = f\"{path}/{prefix}model.pth\"\n",
    "    if os.path.exists(f) and not force_recreate:\n",
    "        print(\"Loading existing model\")\n",
    "        checkpoint = torch.load(f)\n",
    "        net = checkpoint['net']\n",
    "        loss_func = checkpoint['loss_func']\n",
    "        optimizer = checkpoint['optimizer']\n",
    "        mean_losses = checkpoint['mean_losses']\n",
    "        next_epoch = checkpoint['next_epoch']\n",
    "    else:\n",
    "        if X_count == 0:\n",
    "            raise Exception('Cannot create model without training_set')\n",
    "        print(\"New model created\")\n",
    "        net = NNModelXYZ(X_count,8)\n",
    "        loss_func = torch.nn.MSELoss()  # this is for regression mean squared loss\n",
    "#         loss_func = torch.nn.L1Loss()\n",
    "        # just setup a dummy optimizer and override it later\n",
    "        optimizer = torch.optim.Adam(net.parameters())\n",
    "#         optimizer = torch.optim.SGD(net.parameters(), lr=config['lr'], momentum=config['momentum'], weight_decay=config['weight_decay'])\n",
    "        mean_losses = []\n",
    "        next_epoch = 0\n",
    "        save_model_with_config(train_config, net=net, loss_func=loss_func,\n",
    "                               optimizer=optimizer, mean_losses=mean_losses, next_epoch=next_epoch )\n",
    "    return net, loss_func, optimizer, mean_losses, next_epoch\n",
    "\n",
    "def save_model_with_config(train_config, **kwargs):\n",
    "    path = train_config['model_path']\n",
    "    prefix = train_config['model_prefix']\n",
    "    f = f\"{path}/{prefix}model.pth\"\n",
    "    torch.save(kwargs, f)"
   ]
  },
  {
   "cell_type": "code",
   "execution_count": 4,
   "metadata": {},
   "outputs": [],
   "source": [
    "def train_model(X_train, y_train, X_test, y_test, train_config, model_config, force_optimizer=None):\n",
    "    torch.manual_seed(train_config.get('random_seed',0))\n",
    "    device = train_config.get('device','cpu')\n",
    "    pyt_device = torch.device(device)\n",
    "    training_set = Dataset(X_train, y_train)\n",
    "    training_generator = torch.utils.data.DataLoader(training_set, **train_config['train_params'])\n",
    "    testing_set = Dataset(X_test, y_test)\n",
    "    testing_generator = torch.utils.data.DataLoader(testing_set, **train_config['test_params'])\n",
    "    net, loss_func, optimizer, mean_losses, next_epoch = load_model_with_config(train_config, model_config, training_set)\n",
    "    \n",
    "    if force_optimizer != None:\n",
    "        optimizer = force_optimizer\n",
    "    to_device(net, pyt_device)\n",
    "    net.train()\n",
    "#     print(net)\n",
    "    if next_epoch == train_config['max_epochs']:\n",
    "        print(\"Model finished training. To retrain set force_train = True \")\n",
    "        net.eval()\n",
    "        return net, mean_losses\n",
    "    \n",
    "    epbar = tqdm(range(next_epoch, train_config['max_epochs']))\n",
    "    for epoch in epbar:\n",
    "        epbar.set_description(f\"Epoch {epoch}\")\n",
    "\n",
    "        running_eloss = 0\n",
    "        running_vloss = 0\n",
    "\n",
    "        ipbar = tqdm(training_generator, leave=False)\n",
    "        ipbar.set_description(f\"Training\")\n",
    "\n",
    "        for i, (x, y) in enumerate(ipbar):\n",
    "            x = to_device(x, pyt_device)\n",
    "            y = to_device(y, pyt_device)\n",
    "\n",
    "            optimizer.zero_grad()\n",
    "            prediction = net(x)     # input x and predict based on x\n",
    "            loss = loss_func(prediction, y)     # must be (1. nn output, 2. target)\n",
    "            loss.backward()         # backpropagation, compute gradients\n",
    "            optimizer.step()        # apply gradients\n",
    "            running_eloss += loss.item()\n",
    "\n",
    "        net.eval()\n",
    "        mean_vlosses = 0\n",
    "        if train_config['do_validate']:\n",
    "            with torch.set_grad_enabled(False):\n",
    "                vpbar = tqdm(testing_generator, leave=False)\n",
    "                vpbar.set_description(\"Validating\")\n",
    "                for i, (x, y) in enumerate(vpbar):\n",
    "                    x = to_device(x, pyt_device)\n",
    "                    y = to_device(y, pyt_device)\n",
    "                    prediction = net(x)\n",
    "                    loss = loss_func(prediction, y)\n",
    "                    running_vloss += loss.item()\n",
    "            mean_vlosses = running_vloss / len(testing_generator)\n",
    "\n",
    "        path = train_config['model_path']\n",
    "        prefix = train_config['model_prefix']\n",
    "        f = f\"{path}/model_history/{prefix}model_{next_epoch:04}.pth\"\n",
    "        torch.save(net, f)\n",
    "\n",
    "        mean_elosses = running_eloss / len(training_generator)\n",
    "        mean_losses.append((mean_elosses, mean_vlosses))\n",
    "        next_epoch = len(mean_losses)\n",
    "        \n",
    "        save_model_with_config(train_config, net=net, loss_func=loss_func,\n",
    "                               optimizer=optimizer, mean_losses=mean_losses, next_epoch=next_epoch )\n",
    "        net.train()\n",
    "\n",
    "        epbar.set_postfix({'train_loss':f\"{mean_elosses:.12f}\", 'val_loss':f\"{mean_vlosses:.12f}\"})\n",
    "    net.eval()\n",
    "    return net, mean_losses"
   ]
  },
  {
   "cell_type": "code",
   "execution_count": 5,
   "metadata": {},
   "outputs": [],
   "source": [
    "def get_ref_X_y(df):\n",
    "    ref_cols = [c for c in df.columns if c.startswith('__')]\n",
    "    X_cols = [c for c in df.columns if c.startswith('X_')]\n",
    "    y_cols = [c for c in df.columns if c.startswith('y_')]\n",
    "    return (df[ref_cols], df[X_cols], df[y_cols])"
   ]
  },
  {
   "cell_type": "code",
   "execution_count": 6,
   "metadata": {},
   "outputs": [],
   "source": [
    "train_config = {\n",
    "    'dataset' : 'sample2_', # eg: '', 'sample_', 'sample2_', 'secret_', 'sample_big_'\n",
    "    'model_path' : f\"{os.environ['GP_HIST_PATH']}/../t6_models\",\n",
    "    'model_prefix' : \"TRY_2_\", \n",
    "    'device' : 'cpu',\n",
    "    'random_seed' : 0,\n",
    "    'max_epochs' : 500,\n",
    "    'do_validate' : True,\n",
    "    'train_params' : {\n",
    "        'batch_size': 50000,\n",
    "        'shuffle': True,\n",
    "        'num_workers': 4,\n",
    "        'pin_memory': True,\n",
    "    },\n",
    "    'test_params' : {\n",
    "        'batch_size': 100000,\n",
    "        'num_workers': 4,\n",
    "        'pin_memory': True,\n",
    "    },\n",
    "}"
   ]
  },
  {
   "cell_type": "code",
   "execution_count": 7,
   "metadata": {},
   "outputs": [
    {
     "name": "stdout",
     "output_type": "stream",
     "text": [
      "Loading data to cache for: sample2_train\n",
      "Loading data to cache for: sample2_test\n",
      "CPU times: user 1min 8s, sys: 1min 8s, total: 2min 16s\n",
      "Wall time: 1min 55s\n"
     ]
    }
   ],
   "source": [
    "%%time\n",
    "\n",
    "train_df = normalize_data.normalize_all_columns(load_data(raw_data,dataset=train_config['dataset'],validation=False)).dropna()\n",
    "test_df = normalize_data.normalize_all_columns(load_data(raw_data,dataset=train_config['dataset'],validation=True)).dropna()\n",
    "ref_train, X_train, y_train = get_ref_X_y(train_df)\n",
    "ref_test, X_test, y_test = get_ref_X_y(test_df)"
   ]
  },
  {
   "cell_type": "code",
   "execution_count": 8,
   "metadata": {},
   "outputs": [],
   "source": [
    "model_config = {\n",
    "    'model_definition' : [\n",
    "        ('layer', 300), ('relu', None), ('drop', 0.5),\n",
    "        ('layer', 300), ('relu', None), ('drop', 0.5),\n",
    "        ('layer', 300), ('relu', None), ('drop', 0.5),\n",
    "        ('layer', 300), ('relu', None), ('drop', 0.5),\n",
    "        ('layer', 300), ('relu', None), ('drop', 0.5),\n",
    "        ('layer', 300), ('relu', None), ('drop', 0.5),\n",
    "        ('layer', 300), ('relu', None), ('drop', 0.5),\n",
    "        ('layer', 300), ('relu', None), ('drop', 0.5),\n",
    "        ('layer', 300), ('relu', None), ('drop', 0.5),\n",
    "        ('layer', 300), ('relu', None), ('drop', 0.5),\n",
    "        ('layer', 300), ('relu', None), ('drop', 0.5),\n",
    "        ('layer', 300), ('relu', None), ('drop', 0.5),\n",
    "        ('layer', 300), ('relu', None), ('drop', 0.5),\n",
    "        ('layer', 300), ('relu', None), ('drop', 0.5),\n",
    "        ('layer', 300), ('relu', None), ('drop', 0.5),\n",
    "        ('layer', 300), ('relu', None), ('drop', 0.5),\n",
    "        ('layer', 300), ('relu', None), ('drop', 0.5),\n",
    "        ('layer', 300), ('relu', None), ('drop', 0.5),\n",
    "        ('layer', 300), ('relu', None), ('drop', 0.5),\n",
    "        ('layer', 300), ('relu', None), ('drop', 0.5),\n",
    "    ]\n",
    "}"
   ]
  },
  {
   "cell_type": "code",
   "execution_count": 9,
   "metadata": {},
   "outputs": [
    {
     "name": "stdout",
     "output_type": "stream",
     "text": [
      "Loading existing model\n"
     ]
    }
   ],
   "source": [
    "# set force_recreate to True if you want to reset the model from scratch\n",
    "force_recreate = False\n",
    "\n",
    "# load / recreate the model\n",
    "net, loss_func, optimizer, mean_losses, next_epoch = load_model_with_config(\n",
    "    train_config, model_config, len(X_train.columns), force_recreate=force_recreate)\n",
    "\n",
    "\n",
    "# # revert to the best validation loss epoch\n",
    "# min_val_loss_idx = np.argmin(np.array(mean_losses)[:,1])\n",
    "# min_val_loss_idx = 130 # set a specific epoch by hand\n",
    "# print(f'Reverting to epoch: {min_val_loss_idx}')\n",
    "# f = f\"{train_config['model_path']}/model_history/{train_config['model_prefix']}{submodel_to_train}_{min_val_loss_idx:04}.pth\"\n",
    "# net = torch.load(f)\n",
    "# mean_losses = mean_losses[:min_val_loss_idx+1]\n",
    "# next_epoch = len(mean_losses)\n",
    "\n",
    "\n",
    "# # Only allow loss function to change during new model creation\n",
    "if force_recreate == True:\n",
    "#     loss_func = torch.nn.SmoothL1Loss()\n",
    "    loss_func = torch.nn.MSELoss()\n",
    "#     loss_func = torch.nn.L1Loss()\n",
    "#     loss_func = tims_mse_loss\n",
    "#     loss_func = tims_mae_loss\n",
    "#     loss_func = tim95_mse_loss\n",
    "    pass\n",
    "\n",
    "# # Override optimizer here\n",
    "optimizer = torch.optim.AdamW(net.parameters(), lr=1e-4, weight_decay=0.1, eps=1e-8, amsgrad=True)\n",
    "# optimizer = torch.optim.SGD(net.parameters(), lr=1e-7, momentum=0.97)"
   ]
  },
  {
   "cell_type": "code",
   "execution_count": 10,
   "metadata": {},
   "outputs": [],
   "source": [
    "# save is a separate cell incase something messed up above\n",
    "save_model_with_config(train_config, net=net, loss_func=loss_func,\n",
    "                       optimizer=optimizer, mean_losses=mean_losses, next_epoch=next_epoch)"
   ]
  },
  {
   "cell_type": "code",
   "execution_count": null,
   "metadata": {
    "scrolled": false
   },
   "outputs": [
    {
     "name": "stdout",
     "output_type": "stream",
     "text": [
      "Loading existing model\n"
     ]
    },
    {
     "data": {
      "application/vnd.jupyter.widget-view+json": {
       "model_id": "46bff2fab928420785d976658ef55a04",
       "version_major": 2,
       "version_minor": 0
      },
      "text/plain": [
       "  0%|          | 0/490 [00:00<?, ?it/s]"
      ]
     },
     "metadata": {},
     "output_type": "display_data"
    },
    {
     "data": {
      "application/vnd.jupyter.widget-view+json": {
       "model_id": "",
       "version_major": 2,
       "version_minor": 0
      },
      "text/plain": [
       "  0%|          | 0/1124 [00:00<?, ?it/s]"
      ]
     },
     "metadata": {},
     "output_type": "display_data"
    },
    {
     "data": {
      "application/vnd.jupyter.widget-view+json": {
       "model_id": "",
       "version_major": 2,
       "version_minor": 0
      },
      "text/plain": [
       "  0%|          | 0/56 [00:00<?, ?it/s]"
      ]
     },
     "metadata": {},
     "output_type": "display_data"
    },
    {
     "data": {
      "application/vnd.jupyter.widget-view+json": {
       "model_id": "",
       "version_major": 2,
       "version_minor": 0
      },
      "text/plain": [
       "  0%|          | 0/1124 [00:00<?, ?it/s]"
      ]
     },
     "metadata": {},
     "output_type": "display_data"
    },
    {
     "data": {
      "application/vnd.jupyter.widget-view+json": {
       "model_id": "",
       "version_major": 2,
       "version_minor": 0
      },
      "text/plain": [
       "  0%|          | 0/56 [00:00<?, ?it/s]"
      ]
     },
     "metadata": {},
     "output_type": "display_data"
    },
    {
     "data": {
      "application/vnd.jupyter.widget-view+json": {
       "model_id": "b24f28946c9546bdbe4ec1a40c75809b",
       "version_major": 2,
       "version_minor": 0
      },
      "text/plain": [
       "  0%|          | 0/1124 [00:00<?, ?it/s]"
      ]
     },
     "metadata": {},
     "output_type": "display_data"
    }
   ],
   "source": [
    "train_model(X_train, y_train, X_test, y_test, train_config, model_config)"
   ]
  },
  {
   "cell_type": "code",
   "execution_count": null,
   "metadata": {},
   "outputs": [],
   "source": []
  }
 ],
 "metadata": {
  "kernelspec": {
   "display_name": "Python 3",
   "language": "python",
   "name": "python3"
  },
  "language_info": {
   "codemirror_mode": {
    "name": "ipython",
    "version": 3
   },
   "file_extension": ".py",
   "mimetype": "text/x-python",
   "name": "python",
   "nbconvert_exporter": "python",
   "pygments_lexer": "ipython3",
   "version": "3.8.8"
  }
 },
 "nbformat": 4,
 "nbformat_minor": 4
}
