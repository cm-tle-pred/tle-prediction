{
 "cells": [
  {
   "cell_type": "code",
   "execution_count": 1,
   "metadata": {},
   "outputs": [],
   "source": [
    "import pandas as pd\n",
    "import numpy as np\n",
    "import os\n",
    "from sklearn.metrics import mean_squared_error, mean_absolute_error\n",
    "import matplotlib.pyplot as plt\n",
    "import pickle\n",
    "import normalize_data\n",
    "import random\n",
    "import train\n",
    "\n",
    "pd.set_option('display.max_columns', 999)\n",
    "pd.set_option('display.precision', 10)"
   ]
  },
  {
   "cell_type": "code",
   "execution_count": 2,
   "metadata": {},
   "outputs": [],
   "source": [
    "def get_ref_X_y(df):\n",
    "    ref_cols = [c for c in df.columns if c.startswith('__')]\n",
    "    X_cols = [c for c in df.columns if c.startswith('X_')]\n",
    "    y_cols = [c for c in df.columns if c.startswith('y_')]\n",
    "    return (df[ref_cols], df[X_cols], df[y_cols])"
   ]
  },
  {
   "cell_type": "code",
   "execution_count": 3,
   "metadata": {},
   "outputs": [],
   "source": [
    "raw_data = {} # loads raw data and stores as a dict cache\n",
    "\n",
    "def dataset_key(dataset='', validation=False):\n",
    "    return dataset+('test' if validation else 'train')\n",
    "\n",
    "\n",
    "def load_data(raw, dataset='', validation=False):\n",
    "    '''\n",
    "    Return dataframe matching data set and validation. Dictionary input will be updated.\n",
    "\n",
    "    Parameters\n",
    "    ----------\n",
    "    raw : dict\n",
    "        dictionary which caches the dataframes and will be updated accordingly\n",
    "\n",
    "    dataset : str\n",
    "        which dataset to use? valid input includes: empty str for full set, sample_, and secret_\n",
    "\n",
    "    validation : bool\n",
    "        load validation set? if true then use _test, otherwise use _train.  Note secret_ doesn't have _train\n",
    "    '''\n",
    "    key = dataset+('test' if validation else 'train')\n",
    "    if key not in raw:\n",
    "        print(f\"Loading data to cache for: {key}\")\n",
    "        raw[key] = pd.read_pickle(f'{os.environ[\"GP_HIST_PATH\"]}/../t4_data/{key}.pkl')\n",
    "    return raw[key]"
   ]
  },
  {
   "cell_type": "code",
   "execution_count": 4,
   "metadata": {},
   "outputs": [],
   "source": [
    "configurations = {\n",
    "    'dataset' : 'sample_', # '', 'sample_', 'secret_'\n",
    "    'model_identifier' : \"mean_ano_only_small_2\",\n",
    "    'model_path' : f\"{os.environ['GP_HIST_PATH']}/../t4_models\",\n",
    "    'train_params' : {\n",
    "        'batch_size': 50000,\n",
    "        'shuffle': True,\n",
    "        'num_workers': 3,\n",
    "        'pin_memory': True,\n",
    "    },\n",
    "    'test_params' : {\n",
    "        'batch_size': 200000,\n",
    "        'num_workers': 2,\n",
    "        'pin_memory': True,\n",
    "    },\n",
    "}"
   ]
  },
  {
   "cell_type": "code",
   "execution_count": 5,
   "metadata": {},
   "outputs": [
    {
     "name": "stdout",
     "output_type": "stream",
     "text": [
      "Loading data to cache for: sample_train\n",
      "Loading data to cache for: sample_test\n",
      "CPU times: user 744 ms, sys: 667 ms, total: 1.41 s\n",
      "Wall time: 1.07 s\n"
     ]
    }
   ],
   "source": [
    "%%time\n",
    "\n",
    "train_df = normalize_data.normalize_all_columns(load_data(raw_data,dataset=configurations['dataset'],validation=False))\n",
    "test_df = normalize_data.normalize_all_columns(load_data(raw_data,dataset=configurations['dataset'],validation=True))\n",
    "\n",
    "train_df = train_df.dropna()\n",
    "test_df = test_df.dropna()\n",
    "# train_df = train_df.sample(100000, random_state=42)\n",
    "# test_df = test_df.sample(10000, random_state=42)"
   ]
  },
  {
   "cell_type": "code",
   "execution_count": 6,
   "metadata": {},
   "outputs": [],
   "source": [
    "ref_train, X_train, y_train = get_ref_X_y(train_df)\n",
    "ref_test, X_test, y_test = get_ref_X_y(test_df)"
   ]
  },
  {
   "cell_type": "code",
   "execution_count": 7,
   "metadata": {},
   "outputs": [],
   "source": [
    "y_cols = ['y_INCLINATION', 'y_ECCENTRICITY', 'y_MEAN_MOTION', 'y_RA_OF_ASC_NODE_REG', 'y_RA_OF_ASC_NODE', 'y_ARG_OF_PERICENTER_REG', 'y_ARG_OF_PERICENTER', 'y_BSTAR', 'y_REV_MA_REG', 'y_MEAN_ANOMALY']\n",
    "y_cols = ['y_INCLINATION', 'y_ECCENTRICITY', 'y_MEAN_MOTION', 'y_RA_OF_ASC_NODE_REG', 'y_ARG_OF_PERICENTER_REG', 'y_REV_MA_REG']\n",
    "y_cols = ['y_REV_MA_REG']\n",
    "y_train = y_train[y_cols]\n",
    "y_test = y_test[y_cols]\n",
    "\n",
    "# y_train = np.sign(y_train) * np.log(1+np.abs(y_train))\n",
    "# y_test = np.sign(y_test) * np.log(1+np.abs(y_test))"
   ]
  },
  {
   "cell_type": "code",
   "execution_count": 8,
   "metadata": {
    "scrolled": false
   },
   "outputs": [],
   "source": [
    "# model, mean_losses = train.train_model(X_train, y_train, X_test, y_test, configurations, force_train=False)"
   ]
  },
  {
   "cell_type": "code",
   "execution_count": 15,
   "metadata": {},
   "outputs": [
    {
     "name": "stdout",
     "output_type": "stream",
     "text": [
      "Loading existing model\n"
     ]
    },
    {
     "data": {
      "image/png": "[encoded data removed]",
      "text/plain": [
       "<Figure size 432x288 with 1 Axes>"
      ]
     },
     "metadata": {
      "needs_background": "light"
     },
     "output_type": "display_data"
    }
   ],
   "source": [
    "model, _, _, mean_losses, _ = train.load_model_with_config(configurations)\n",
    "\n",
    "tl, vl = zip(*mean_losses)\n",
    "\n",
    "fig,ax = plt.subplots()\n",
    "ax.plot(tl, label=\"Training Loss\")\n",
    "ax.plot(vl, label=\"Validation Loss\")\n",
    "\n",
    "fig.legend()\n",
    "plt.show()"
   ]
  },
  {
   "cell_type": "code",
   "execution_count": 16,
   "metadata": {},
   "outputs": [],
   "source": [
    "trained_model = model\n",
    "sample_idx = random.sample(list(X_test.index), 10000)\n",
    "\n",
    "X_sample = X_test.loc[sample_idx]\n",
    "y_sample = y_test.loc[sample_idx]\n",
    "# y_train_pred = train.predict(trained_model, X_train, y_train, device=\"cpu\") # get predictions for each train\n",
    "# y_train_pred_df = pd.DataFrame(y_train_pred, columns=y_train.columns)  # put results into a dataframe\n",
    "y_sample_pred = train.predict(trained_model, X_sample, y_sample, device=\"cpu\") # get predictions for each train\n",
    "y_sample_pred_df = pd.DataFrame(y_sample_pred, columns=y_sample.columns, index=y_sample.index)  # put results into a dataframe"
   ]
  },
  {
   "cell_type": "code",
   "execution_count": 17,
   "metadata": {},
   "outputs": [
    {
     "name": "stdout",
     "output_type": "stream",
     "text": [
      "    Test set MAE (L1) loss: 0.22030304394111735\n",
      "    Test set MSE (L2) loss: 0.07948767909462293\n",
      "Test - Ground Truth (normalized):\n"
     ]
    },
    {
     "data": {
      "text/html": [
       "<div>\n",
       "<style scoped>\n",
       "    .dataframe tbody tr th:only-of-type {\n",
       "        vertical-align: middle;\n",
       "    }\n",
       "\n",
       "    .dataframe tbody tr th {\n",
       "        vertical-align: top;\n",
       "    }\n",
       "\n",
       "    .dataframe thead th {\n",
       "        text-align: right;\n",
       "    }\n",
       "</style>\n",
       "<table border=\"1\" class=\"dataframe\">\n",
       "  <thead>\n",
       "    <tr style=\"text-align: right;\">\n",
       "      <th></th>\n",
       "      <th>y_REV_MA_REG</th>\n",
       "    </tr>\n",
       "  </thead>\n",
       "  <tbody>\n",
       "    <tr>\n",
       "      <th>36625</th>\n",
       "      <td>0.1556966852</td>\n",
       "    </tr>\n",
       "    <tr>\n",
       "      <th>74516</th>\n",
       "      <td>0.5580047747</td>\n",
       "    </tr>\n",
       "    <tr>\n",
       "      <th>68984</th>\n",
       "      <td>1.0575113364</td>\n",
       "    </tr>\n",
       "    <tr>\n",
       "      <th>1712</th>\n",
       "      <td>0.4791653735</td>\n",
       "    </tr>\n",
       "    <tr>\n",
       "      <th>48808</th>\n",
       "      <td>0.6507100154</td>\n",
       "    </tr>\n",
       "    <tr>\n",
       "      <th>...</th>\n",
       "      <td>...</td>\n",
       "    </tr>\n",
       "    <tr>\n",
       "      <th>52427</th>\n",
       "      <td>0.2445119815</td>\n",
       "    </tr>\n",
       "    <tr>\n",
       "      <th>44431</th>\n",
       "      <td>0.2117903426</td>\n",
       "    </tr>\n",
       "    <tr>\n",
       "      <th>21450</th>\n",
       "      <td>0.6230343333</td>\n",
       "    </tr>\n",
       "    <tr>\n",
       "      <th>18260</th>\n",
       "      <td>0.9074421358</td>\n",
       "    </tr>\n",
       "    <tr>\n",
       "      <th>47482</th>\n",
       "      <td>0.3235430741</td>\n",
       "    </tr>\n",
       "  </tbody>\n",
       "</table>\n",
       "<p>10000 rows × 1 columns</p>\n",
       "</div>"
      ],
      "text/plain": [
       "       y_REV_MA_REG\n",
       "36625  0.1556966852\n",
       "74516  0.5580047747\n",
       "68984  1.0575113364\n",
       "1712   0.4791653735\n",
       "48808  0.6507100154\n",
       "...             ...\n",
       "52427  0.2445119815\n",
       "44431  0.2117903426\n",
       "21450  0.6230343333\n",
       "18260  0.9074421358\n",
       "47482  0.3235430741\n",
       "\n",
       "[10000 rows x 1 columns]"
      ]
     },
     "metadata": {},
     "output_type": "display_data"
    },
    {
     "name": "stdout",
     "output_type": "stream",
     "text": [
      "Test - Prediction (normalized):\n"
     ]
    },
    {
     "data": {
      "text/html": [
       "<div>\n",
       "<style scoped>\n",
       "    .dataframe tbody tr th:only-of-type {\n",
       "        vertical-align: middle;\n",
       "    }\n",
       "\n",
       "    .dataframe tbody tr th {\n",
       "        vertical-align: top;\n",
       "    }\n",
       "\n",
       "    .dataframe thead th {\n",
       "        text-align: right;\n",
       "    }\n",
       "</style>\n",
       "<table border=\"1\" class=\"dataframe\">\n",
       "  <thead>\n",
       "    <tr style=\"text-align: right;\">\n",
       "      <th></th>\n",
       "      <th>y_REV_MA_REG</th>\n",
       "    </tr>\n",
       "  </thead>\n",
       "  <tbody>\n",
       "    <tr>\n",
       "      <th>36625</th>\n",
       "      <td>0.4094222486</td>\n",
       "    </tr>\n",
       "    <tr>\n",
       "      <th>74516</th>\n",
       "      <td>0.5606412888</td>\n",
       "    </tr>\n",
       "    <tr>\n",
       "      <th>68984</th>\n",
       "      <td>0.4918064773</td>\n",
       "    </tr>\n",
       "    <tr>\n",
       "      <th>1712</th>\n",
       "      <td>0.4897595048</td>\n",
       "    </tr>\n",
       "    <tr>\n",
       "      <th>48808</th>\n",
       "      <td>0.8996498585</td>\n",
       "    </tr>\n",
       "    <tr>\n",
       "      <th>...</th>\n",
       "      <td>...</td>\n",
       "    </tr>\n",
       "    <tr>\n",
       "      <th>52427</th>\n",
       "      <td>1.3639485836</td>\n",
       "    </tr>\n",
       "    <tr>\n",
       "      <th>44431</th>\n",
       "      <td>0.4405925572</td>\n",
       "    </tr>\n",
       "    <tr>\n",
       "      <th>21450</th>\n",
       "      <td>0.4363280237</td>\n",
       "    </tr>\n",
       "    <tr>\n",
       "      <th>18260</th>\n",
       "      <td>1.0282055140</td>\n",
       "    </tr>\n",
       "    <tr>\n",
       "      <th>47482</th>\n",
       "      <td>0.4725680053</td>\n",
       "    </tr>\n",
       "  </tbody>\n",
       "</table>\n",
       "<p>10000 rows × 1 columns</p>\n",
       "</div>"
      ],
      "text/plain": [
       "       y_REV_MA_REG\n",
       "36625  0.4094222486\n",
       "74516  0.5606412888\n",
       "68984  0.4918064773\n",
       "1712   0.4897595048\n",
       "48808  0.8996498585\n",
       "...             ...\n",
       "52427  1.3639485836\n",
       "44431  0.4405925572\n",
       "21450  0.4363280237\n",
       "18260  1.0282055140\n",
       "47482  0.4725680053\n",
       "\n",
       "[10000 rows x 1 columns]"
      ]
     },
     "metadata": {},
     "output_type": "display_data"
    }
   ],
   "source": [
    "print(f'    Test set MAE (L1) loss: {mean_absolute_error(y_sample, y_sample_pred_df)}')\n",
    "print(f'    Test set MSE (L2) loss: {mean_squared_error(y_sample, y_sample_pred_df)}')\n",
    "\n",
    "# random.seed(342798)\n",
    "sample = random.sample(list(y_sample_pred_df.index), 10)\n",
    "# sample = [0,1]\n",
    "\n",
    "print(\"Test - Ground Truth (normalized):\")\n",
    "display(y_sample)\n",
    "print(\"Test - Prediction (normalized):\")\n",
    "display(y_sample_pred_df)\n",
    "# print(\"Ground Truth Diffs from X_:\")\n",
    "# display(y_sample - X_sample[['X_INCLINATION_1','X_ECCENTRICITY_1','X_MEAN_MOTION_1']].values)\n",
    "# print(\"Pred Diffs from X_:\")\n",
    "# display(y_sample_pred_df - X_sample[['X_INCLINATION_1','X_ECCENTRICITY_1','X_MEAN_MOTION_1']].values)\n"
   ]
  },
  {
   "cell_type": "code",
   "execution_count": 18,
   "metadata": {},
   "outputs": [],
   "source": [
    "# print(f'    Train set MAE (L1) loss: {mean_absolute_error(y_train, y_train_pred_df)}')\n",
    "# print(f'    Train set MSE (L2) loss: {mean_squared_error(y_train, y_train_pred_df)}')\n",
    "\n",
    "# random.seed(0)\n",
    "# sample = random.sample(list(y_train_pred_df.index), 10)\n",
    "\n",
    "# print(\"Train - Ground Truth (normalized):\")\n",
    "# display(y_train.loc[sample])\n",
    "# # print(\"Train - Ground Truth (non-normalized):\")\n",
    "# # display(normalize_data.normalize_all_columns(y_train.iloc[:,3:].loc[sample].copy(), reverse=True))  # see ground truths\n",
    "# print(\"Train - Prediction (normalized):\")\n",
    "# display(y_train_pred_df.loc[sample])\n",
    "# # print(\"Train - Prediction (non-normalized):\")\n",
    "# # display(normalize_data.normalize_all_columns(y_train_pred_df.loc[sample].copy(), reverse=True))  # See predictions"
   ]
  },
  {
   "cell_type": "code",
   "execution_count": 13,
   "metadata": {},
   "outputs": [],
   "source": [
    "# errors = y_train.loc[sample].iloc[:,3:] - y_train_pred_df.loc[sample]\n",
    "\n",
    "# display(errors)\n",
    "\n",
    "# display(errors.std())\n",
    "\n",
    "# display(y_train.loc[sample].iloc[:,3:])\n",
    "# display(y_train_pred_df.loc[sample])"
   ]
  },
  {
   "cell_type": "code",
   "execution_count": 14,
   "metadata": {},
   "outputs": [],
   "source": [
    "# def row_to_compare(X, y, y_pred, row):\n",
    "#     epoch = X.iloc[row].EPOCH_y\n",
    "#     X0 = clean_data.normalize_all_columns(X_train.iloc[row].copy(), reverse=True)\n",
    "#     y0 = clean_data.normalize_all_columns(y_train.iloc[row].copy(), reverse=True)\n",
    "#     y1 = clean_data.normalize_all_columns(y_train_pred_df.iloc[row].copy(), reverse=True)\n",
    "\n",
    "#     # Ground truth\n",
    "#     y0_xyz = clean_data.get_satellite_xyz(bst=0.0001,\n",
    "#                                           ecc=y0.ECCENTRICITY,\n",
    "#                                           aop=y0.ARG_OF_PERICENTER,\n",
    "#                                           inc=y0.INCLINATION,\n",
    "#                                           mea=y0.MEAN_ANOMALY,\n",
    "#                                           mem=y0.MEAN_MOTION,\n",
    "#                                           raa=y0.RA_OF_ASC_NODE,\n",
    "#                                           epoch=epoch,)\n",
    "#     # Prediction\n",
    "#     y1_xyz = clean_data.get_satellite_xyz(bst=0.0001,\n",
    "#                                           ecc=y1.ECCENTRICITY,\n",
    "#                                           aop=y1.ARG_OF_PERICENTER,\n",
    "#                                           inc=y1.INCLINATION,\n",
    "#                                           mea=y1.MEAN_ANOMALY,\n",
    "#                                           mem=y1.MEAN_MOTION,\n",
    "#                                           raa=y1.RA_OF_ASC_NODE,\n",
    "#                                           epoch=epoch,)\n",
    "#     # Propigation\n",
    "#     y2_xyz = clean_data.get_satellite_xyz(bst=X0.BSTAR,\n",
    "#                                           ecc=X0.ECCENTRICITY,\n",
    "#                                           aop=X0.ARG_OF_PERICENTER,\n",
    "#                                           inc=X0.INCLINATION,\n",
    "#                                           mea=X0.MEAN_ANOMALY,\n",
    "#                                           mem=X0.MEAN_MOTION,\n",
    "#                                           raa=X0.RA_OF_ASC_NODE,\n",
    "#                                           epoch=epoch,)\n",
    "#     print(f'Ground Truth: {y0_xyz}')\n",
    "#     print(f'Predicted: {y1_xyz}')\n",
    "#     print(f'Propigation: {y2_xyz}')\n",
    "    \n",
    "#     print (f'Prediction Error: {sum((y1_xyz-y0_xyz)**2)**0.5} km')\n",
    "#     print (f'Propigation Error: {sum((y2_xyz-y0_xyz)**2)**0.5} km')\n",
    "    \n",
    "\n",
    "# for row in range(2):\n",
    "#     print (f'Row {row}:')\n",
    "#     row_to_compare(X_train, y_train, y_train_pred_df, row)\n",
    "#     print('')"
   ]
  },
  {
   "cell_type": "code",
   "execution_count": null,
   "metadata": {},
   "outputs": [],
   "source": []
  }
 ],
 "metadata": {
  "kernelspec": {
   "display_name": "Python 3",
   "language": "python",
   "name": "python3"
  },
  "language_info": {
   "codemirror_mode": {
    "name": "ipython",
    "version": 3
   },
   "file_extension": ".py",
   "mimetype": "text/x-python",
   "name": "python",
   "nbconvert_exporter": "python",
   "pygments_lexer": "ipython3",
   "version": "3.8.8"
  }
 },
 "nbformat": 4,
 "nbformat_minor": 4
}
