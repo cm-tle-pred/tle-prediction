{
 "cells": [
  {
   "cell_type": "code",
   "execution_count": 1,
   "metadata": {},
   "outputs": [],
   "source": [
    "import pandas as pd\n",
    "import numpy as np\n",
    "import os\n",
    "import torch\n",
    "import torch.nn as nn\n",
    "from dataset import Dataset, to_device\n",
    "from model import NN3FeaturesModel\n",
    "from model import tims_add_combine_xyz_loss\n",
    "from sklearn.metrics import mean_squared_error, mean_absolute_error\n",
    "import matplotlib.pyplot as plt\n",
    "import pickle\n",
    "import normalize_data\n",
    "import random\n",
    "from time import time\n",
    "from tqdm.notebook import tqdm\n",
    "\n",
    "pd.set_option('display.max_columns', 999)\n",
    "pd.set_option('display.precision', 10)"
   ]
  },
  {
   "cell_type": "code",
   "execution_count": 2,
   "metadata": {},
   "outputs": [],
   "source": [
    "raw_data = {} # loads raw data and stores as a dict cache\n",
    "\n",
    "def dataset_key(dataset='', validation=False):\n",
    "    return dataset+('test' if validation else 'train')\n",
    "\n",
    "\n",
    "def load_data(raw, dataset='', validation=False):\n",
    "    '''\n",
    "    Return dataframe matching data set and validation. Dictionary input will be updated.\n",
    "\n",
    "    Parameters\n",
    "    ----------\n",
    "    raw : dict\n",
    "        dictionary which caches the dataframes and will be updated accordingly\n",
    "\n",
    "    dataset : str\n",
    "        which dataset to use? valid input includes: empty str for full set, sample_, and secret_\n",
    "\n",
    "    validation : bool\n",
    "        load validation set? if true then use _test, otherwise use _train.  Note secret_ doesn't have _train\n",
    "    '''\n",
    "    key = dataset+('test' if validation else 'train')\n",
    "    if key not in raw:\n",
    "        print(f\"Loading data to cache for: {key}\")\n",
    "        raw[key] = pd.read_pickle(f'{os.environ[\"GP_HIST_PATH\"]}/../t7_data/{key}.pkl')\n",
    "    return raw[key]"
   ]
  },
  {
   "cell_type": "code",
   "execution_count": 3,
   "metadata": {},
   "outputs": [],
   "source": [
    "def load_sub_model_with_config(train_config, model_configs, sub_model_key, X_count=0, force_recreate=False):\n",
    "    # a bit hacky, but in the training phase, we never load and use the minmax scalers\n",
    "    # just putting it here for when we want to load the model elsewhere THEN revert scaling\n",
    "    # probably better to have the scalers saved separately....\n",
    "\n",
    "    path = train_config['model_path']\n",
    "    prefix = train_config['model_prefix']\n",
    "    model_config = model_configs[sub_model_key]\n",
    "    f = f\"{path}/{prefix}{sub_model_key}.pth\"\n",
    "    if os.path.exists(f) and not force_recreate:\n",
    "        print(\"Loading existing model\")\n",
    "        checkpoint = torch.load(f)\n",
    "        net = checkpoint['net']\n",
    "        loss_func = checkpoint['loss_func']\n",
    "        optimizer = checkpoint['optimizer']\n",
    "        mean_losses = checkpoint['mean_losses']\n",
    "        next_epoch = checkpoint['next_epoch']\n",
    "    else:\n",
    "        if X_count == 0:\n",
    "            raise Exception('Cannot create model without training_set')\n",
    "        print(\"New model created\")\n",
    "        net = NN3FeaturesModel(X_count, model_config['feature_idxs'], model_config['shared_model_definition'], model_config['model_definition'])\n",
    "        # just setup a dummy loss / optimizer and override it later\n",
    "        loss_func = torch.nn.MSELoss()  # this is for regression mean squared loss\n",
    "        optimizer = torch.optim.Adam(net.parameters())\n",
    "        mean_losses = []\n",
    "        next_epoch = 0\n",
    "        save_model_with_config(train_config, sub_model_key, net=net, loss_func=loss_func,\n",
    "                               optimizer=optimizer, mean_losses=mean_losses, next_epoch=next_epoch )\n",
    "    return net, loss_func, optimizer, mean_losses, next_epoch\n",
    "\n",
    "def save_model_with_config(train_config, sub_model_key, **kwargs):\n",
    "    path = train_config['model_path']\n",
    "    prefix = train_config['model_prefix']\n",
    "    f = f\"{path}/{prefix}{sub_model_key}.pth\"\n",
    "    torch.save(kwargs, f)"
   ]
  },
  {
   "cell_type": "code",
   "execution_count": 4,
   "metadata": {},
   "outputs": [],
   "source": [
    "def train_model(X_train, y_train, X_test, y_test, train_config, model_configs, sub_model_key, force_optimizer=None):\n",
    "    torch.manual_seed(train_config.get('random_seed',0))\n",
    "    device = train_config.get('device','cpu')\n",
    "    pyt_device = torch.device(device)\n",
    "    training_set = Dataset(X_train, y_train)\n",
    "    training_generator = torch.utils.data.DataLoader(training_set, **train_config['train_params'])\n",
    "    testing_set = Dataset(X_test, y_test)\n",
    "    testing_generator = torch.utils.data.DataLoader(testing_set, **train_config['test_params'])\n",
    "    net, loss_func, optimizer, mean_losses, next_epoch = load_sub_model_with_config(train_config, model_configs, sub_model_key, training_set)\n",
    "    \n",
    "    if force_optimizer != None:\n",
    "        optimizer = force_optimizer\n",
    "    to_device(net, pyt_device)\n",
    "    net.train()\n",
    "#     print(net)\n",
    "    if next_epoch == train_config['max_epochs']:\n",
    "        print(\"Model finished training. To retrain set force_train = True \")\n",
    "        net.eval()\n",
    "        return net, mean_losses\n",
    "    \n",
    "    epbar = tqdm(range(next_epoch, train_config['max_epochs']))\n",
    "    for epoch in epbar:\n",
    "        epbar.set_description(f\"Epoch {epoch}\")\n",
    "\n",
    "        running_eloss = 0\n",
    "        running_vloss = 0\n",
    "\n",
    "        ipbar = tqdm(training_generator, leave=False)\n",
    "        ipbar.set_description(f\"Training\")\n",
    "\n",
    "        for i, (x, y) in enumerate(ipbar):\n",
    "            x = to_device(x, pyt_device)\n",
    "            y = to_device(y, pyt_device)\n",
    "\n",
    "            optimizer.zero_grad()\n",
    "            prediction = net(x)     # input x and predict based on x\n",
    "            loss = loss_func(prediction, y)     # must be (1. nn output, 2. target)\n",
    "            loss.backward()         # backpropagation, compute gradients\n",
    "            optimizer.step()        # apply gradients\n",
    "            running_eloss += loss.item()\n",
    "\n",
    "        net.eval()\n",
    "        mean_vlosses = 0\n",
    "        if train_config['do_validate']:\n",
    "            with torch.set_grad_enabled(False):\n",
    "                vpbar = tqdm(testing_generator, leave=False)\n",
    "                vpbar.set_description(\"Validating\")\n",
    "                for i, (x, y) in enumerate(vpbar):\n",
    "                    x = to_device(x, pyt_device)\n",
    "                    y = to_device(y, pyt_device)\n",
    "                    prediction = net(x)\n",
    "                    loss = loss_func(prediction, y)\n",
    "                    running_vloss += loss.item()\n",
    "            mean_vlosses = running_vloss / len(testing_generator)\n",
    "\n",
    "        path = train_config['model_path']\n",
    "        prefix = train_config['model_prefix']\n",
    "        f = f\"{path}/model_history/{prefix}{sub_model_key}_{next_epoch:04}.pth\"\n",
    "        torch.save(net, f)\n",
    "\n",
    "        mean_elosses = running_eloss / len(training_generator)\n",
    "        mean_losses.append((mean_elosses, mean_vlosses))\n",
    "        next_epoch = len(mean_losses)\n",
    "        \n",
    "        save_model_with_config(train_config, sub_model_key, net=net, loss_func=loss_func,\n",
    "                               optimizer=optimizer, mean_losses=mean_losses, next_epoch=next_epoch )\n",
    "        net.train()\n",
    "\n",
    "        epbar.set_postfix({'train_loss':f\"{mean_elosses:.12f}\", 'val_loss':f\"{mean_vlosses:.12f}\"})\n",
    "    net.eval()\n",
    "    return net, mean_losses"
   ]
  },
  {
   "cell_type": "code",
   "execution_count": 5,
   "metadata": {},
   "outputs": [],
   "source": [
    "def get_ref_X_y(df):\n",
    "    ref_cols = [c for c in df.columns if c.startswith('__')]\n",
    "    X_cols = [c for c in df.columns if c.startswith('X_')]\n",
    "    y_cols = [c for c in df.columns if c.startswith('y_')]\n",
    "    return (df[ref_cols], df[X_cols], df[y_cols])"
   ]
  },
  {
   "cell_type": "code",
   "execution_count": 6,
   "metadata": {},
   "outputs": [],
   "source": [
    "train_config = {\n",
    "    'dataset' : 'sample_500_', # eg: '', 'sample_', 'sample2_', 'secret_', 'sample_big_'\n",
    "    'model_path' : f\"{os.environ['GP_HIST_PATH']}/../t7_models\",\n",
    "    'model_prefix' : \"T7_2_\", \n",
    "    'device' : 'cpu',\n",
    "    'random_seed' : 0,\n",
    "    'max_epochs' : 500,\n",
    "    'do_validate' : True,\n",
    "    'train_params' : {\n",
    "        'batch_size': 100000,\n",
    "        'shuffle': True,\n",
    "        'num_workers': 5,\n",
    "        'pin_memory': True,\n",
    "    },\n",
    "    'test_params' : {\n",
    "        'batch_size': 200000,\n",
    "        'num_workers': 4,\n",
    "        'pin_memory': True,\n",
    "    },\n",
    "}"
   ]
  },
  {
   "cell_type": "code",
   "execution_count": 7,
   "metadata": {},
   "outputs": [
    {
     "name": "stdout",
     "output_type": "stream",
     "text": [
      "Loading data to cache for: sample_500_train\n",
      "Loading data to cache for: sample_500_test\n",
      "CPU times: user 36.6 s, sys: 36.4 s, total: 1min 12s\n",
      "Wall time: 1min 1s\n"
     ]
    }
   ],
   "source": [
    "%%time\n",
    "\n",
    "train_df = normalize_data.normalize_all_columns(load_data(raw_data,dataset=train_config['dataset'],validation=False).copy()).dropna()\n",
    "test_df = normalize_data.normalize_all_columns(load_data(raw_data,dataset=train_config['dataset'],validation=True).copy()).dropna()\n",
    "ref_train, X_train, y_train = get_ref_X_y(train_df)\n",
    "ref_test, X_test, y_test = get_ref_X_y(test_df)\n",
    "y_cols = ['y_SAT_RX', 'y_SAT_RY', 'y_SAT_RZ']\n",
    "y_train = y_train[y_cols]\n",
    "y_test = y_test[y_cols]"
   ]
  },
  {
   "cell_type": "code",
   "execution_count": 8,
   "metadata": {},
   "outputs": [],
   "source": [
    "model_configs = {\n",
    "    'position': {\n",
    "        'feature_idxs': [X_train.columns.get_loc('X_SGP4_SAT_RX'),\n",
    "                         X_train.columns.get_loc('X_SGP4_SAT_RY'),\n",
    "                         X_train.columns.get_loc('X_SGP4_SAT_RZ')],\n",
    "        'shared_model_definition' : [\n",
    "            ('layer', 1000), ('relu', None), ('drop', 0.5),\n",
    "        ],\n",
    "        'model_definition' : [\n",
    "            ('layer', 100), ('relu', None), ('drop', 0.5),\n",
    "            ('layer', 100), ('relu', None), ('drop', 0.5),\n",
    "            ('layer', 100), ('relu', None), ('drop', 0.5),\n",
    "            ('layer', 100), ('relu', None), ('drop', 0.5),\n",
    "            ('layer', 100), ('relu', None), ('drop', 0.5),\n",
    "            ('layer', 100), ('relu', None), ('drop', 0.5),\n",
    "            ('layer', 100), ('relu', None), ('drop', 0.5),\n",
    "            ('layer', 100), ('relu', None), ('drop', 0.5),\n",
    "            ('layer', 60), ('relu', None), ('drop', 0.5),\n",
    "            ('layer', 60), ('relu', None), ('drop', 0.5),\n",
    "            ('layer', 60), ('relu', None), ('drop', 0.5),\n",
    "            ('layer', 60), ('relu', None), ('drop', 0.5),\n",
    "            ('layer', 60), ('relu', None), ('drop', 0.5),\n",
    "        ]\n",
    "    },\n",
    "    'velocity': {\n",
    "        'feature_idxs': [X_train.columns.get_loc('X_SGP4_SAT_VX'),\n",
    "                          X_train.columns.get_loc('X_SGP4_SAT_VY'),\n",
    "                          X_train.columns.get_loc('X_SGP4_SAT_VZ')],\n",
    "        'shared_model_definition' : [\n",
    "            ('layer', 400), ('relu', None), ('drop', 0.5),\n",
    "            ('layer', 200), ('relu', None), ('drop', 0.5),\n",
    "            ('layer', 100), ('relu', None), ('drop', 0.5),\n",
    "        ],\n",
    "        'model_definition' : [\n",
    "            ('layer', 50), ('relu', None), ('drop', 0.5),\n",
    "            ('layer', 50), ('relu', None), ('drop', 0.5),\n",
    "            ('layer', 50), ('relu', None), ('drop', 0.5),\n",
    "        ]\n",
    "    },\n",
    "}"
   ]
  },
  {
   "cell_type": "code",
   "execution_count": 9,
   "metadata": {},
   "outputs": [
    {
     "name": "stdout",
     "output_type": "stream",
     "text": [
      "Loading existing model\n",
      "Model for \"position\" __ Last loss: [(0.0006314650924879887, 0.0013020476384813914)] __ Epoch: 54\n",
      "SGD (\n",
      "Parameter Group 0\n",
      "    dampening: 0\n",
      "    lr: 1e-06\n",
      "    momentum: 0.95\n",
      "    nesterov: False\n",
      "    weight_decay: 0\n",
      ") MSELoss()\n",
      "Loading existing model\n",
      "Model for \"velocity\" __ Last loss: [] __ Epoch: 0\n",
      "Adam (\n",
      "Parameter Group 0\n",
      "    amsgrad: False\n",
      "    betas: (0.9, 0.999)\n",
      "    eps: 1e-08\n",
      "    lr: 0.001\n",
      "    weight_decay: 0\n",
      ") MSELoss()\n"
     ]
    }
   ],
   "source": [
    "# Create or load all new sub models here if needed.\n",
    "all_models = {}\n",
    "for sub_key in model_configs.keys():\n",
    "    # When new models are created, a dummy optimizer is used\n",
    "    model, loss_func, optimizer, mean_losses, next_epoch = load_sub_model_with_config(train_config, model_configs, sub_key, len(X_train.columns), force_recreate=False)\n",
    "    print(f'Model for \"{sub_key}\" __ Last loss: {mean_losses[-1:]} __ Epoch: {next_epoch}')\n",
    "    print(optimizer, loss_func)\n",
    "    all_models[sub_key] = (model, loss_func, optimizer, mean_losses, next_epoch)"
   ]
  },
  {
   "cell_type": "code",
   "execution_count": 28,
   "metadata": {},
   "outputs": [
    {
     "name": "stdout",
     "output_type": "stream",
     "text": [
      "Loading existing model\n"
     ]
    }
   ],
   "source": [
    "# possible submodel keys\n",
    "# 'position' or 'velocity'\n",
    "\n",
    "# set a specific target to train\n",
    "submodel_to_train = \"position\"\n",
    "\n",
    "# set force_recreate to True if you want to reset the model from scratch\n",
    "force_recreate = False\n",
    "\n",
    "# load / recreate the model\n",
    "net, loss_func, optimizer, mean_losses, next_epoch = load_sub_model_with_config(\n",
    "    train_config, model_configs, submodel_to_train, len(X_train.columns), force_recreate=force_recreate)\n",
    "\n",
    "\n",
    "# # revert to the best validation loss epoch\n",
    "# min_val_loss_idx = np.argmin(np.array(mean_losses)[:,1])\n",
    "# min_val_loss_idx = 42 # set a specific epoch by hand\n",
    "# print(f'Reverting to epoch: {min_val_loss_idx}')\n",
    "# f = f\"{train_config['model_path']}/model_history/{train_config['model_prefix']}{submodel_to_train}_{min_val_loss_idx:04}.pth\"\n",
    "# net = torch.load(f)\n",
    "# mean_losses = mean_losses[:min_val_loss_idx+1]\n",
    "# next_epoch = len(mean_losses)\n",
    "\n",
    "\n",
    "# # Only allow loss function to change during new model creation\n",
    "if force_recreate == True:\n",
    "    loss_func = torch.nn.MSELoss()\n",
    "#     loss_func = torch.nn.SmoothL1Loss()\n",
    "#     loss_func = torch.nn.L1Loss()\n",
    "#     loss_func = tims_add_combine_xyz_loss\n",
    "    pass\n",
    "\n",
    "# # Override optimizer here\n",
    "# optimizer = torch.optim.AdamW(net.parameters(), lr=1e-6, weight_decay=0.1, eps=1e-8, amsgrad=True)\n",
    "optimizer = torch.optim.SGD(net.parameters(), lr=1e-5, momentum=0.99)"
   ]
  },
  {
   "cell_type": "code",
   "execution_count": 29,
   "metadata": {},
   "outputs": [],
   "source": [
    "# save is a separate cell incase something messed up above\n",
    "save_model_with_config(train_config, submodel_to_train, net=net, loss_func=loss_func,\n",
    "                       optimizer=optimizer, mean_losses=mean_losses, next_epoch=next_epoch)"
   ]
  },
  {
   "cell_type": "code",
   "execution_count": 30,
   "metadata": {
    "scrolled": false
   },
   "outputs": [
    {
     "name": "stdout",
     "output_type": "stream",
     "text": [
      "Loading existing model\n"
     ]
    },
    {
     "data": {
      "application/vnd.jupyter.widget-view+json": {
       "model_id": "8413f8da56734d91b771c3d95ee15b3b",
       "version_major": 2,
       "version_minor": 0
      },
      "text/plain": [
       "  0%|          | 0/447 [00:00<?, ?it/s]"
      ]
     },
     "metadata": {},
     "output_type": "display_data"
    },
    {
     "data": {
      "application/vnd.jupyter.widget-view+json": {
       "model_id": "",
       "version_major": 2,
       "version_minor": 0
      },
      "text/plain": [
       "  0%|          | 0/262 [00:00<?, ?it/s]"
      ]
     },
     "metadata": {},
     "output_type": "display_data"
    },
    {
     "data": {
      "application/vnd.jupyter.widget-view+json": {
       "model_id": "",
       "version_major": 2,
       "version_minor": 0
      },
      "text/plain": [
       "  0%|          | 0/14 [00:00<?, ?it/s]"
      ]
     },
     "metadata": {},
     "output_type": "display_data"
    },
    {
     "data": {
      "application/vnd.jupyter.widget-view+json": {
       "model_id": "",
       "version_major": 2,
       "version_minor": 0
      },
      "text/plain": [
       "  0%|          | 0/262 [00:00<?, ?it/s]"
      ]
     },
     "metadata": {},
     "output_type": "display_data"
    },
    {
     "data": {
      "application/vnd.jupyter.widget-view+json": {
       "model_id": "",
       "version_major": 2,
       "version_minor": 0
      },
      "text/plain": [
       "  0%|          | 0/14 [00:00<?, ?it/s]"
      ]
     },
     "metadata": {},
     "output_type": "display_data"
    },
    {
     "data": {
      "application/vnd.jupyter.widget-view+json": {
       "model_id": "",
       "version_major": 2,
       "version_minor": 0
      },
      "text/plain": [
       "  0%|          | 0/262 [00:00<?, ?it/s]"
      ]
     },
     "metadata": {},
     "output_type": "display_data"
    },
    {
     "data": {
      "application/vnd.jupyter.widget-view+json": {
       "model_id": "",
       "version_major": 2,
       "version_minor": 0
      },
      "text/plain": [
       "  0%|          | 0/14 [00:00<?, ?it/s]"
      ]
     },
     "metadata": {},
     "output_type": "display_data"
    },
    {
     "data": {
      "application/vnd.jupyter.widget-view+json": {
       "model_id": "",
       "version_major": 2,
       "version_minor": 0
      },
      "text/plain": [
       "  0%|          | 0/262 [00:00<?, ?it/s]"
      ]
     },
     "metadata": {},
     "output_type": "display_data"
    },
    {
     "data": {
      "application/vnd.jupyter.widget-view+json": {
       "model_id": "",
       "version_major": 2,
       "version_minor": 0
      },
      "text/plain": [
       "  0%|          | 0/14 [00:00<?, ?it/s]"
      ]
     },
     "metadata": {},
     "output_type": "display_data"
    },
    {
     "data": {
      "application/vnd.jupyter.widget-view+json": {
       "model_id": "",
       "version_major": 2,
       "version_minor": 0
      },
      "text/plain": [
       "  0%|          | 0/262 [00:00<?, ?it/s]"
      ]
     },
     "metadata": {},
     "output_type": "display_data"
    },
    {
     "data": {
      "application/vnd.jupyter.widget-view+json": {
       "model_id": "",
       "version_major": 2,
       "version_minor": 0
      },
      "text/plain": [
       "  0%|          | 0/14 [00:00<?, ?it/s]"
      ]
     },
     "metadata": {},
     "output_type": "display_data"
    },
    {
     "data": {
      "application/vnd.jupyter.widget-view+json": {
       "model_id": "",
       "version_major": 2,
       "version_minor": 0
      },
      "text/plain": [
       "  0%|          | 0/262 [00:00<?, ?it/s]"
      ]
     },
     "metadata": {},
     "output_type": "display_data"
    },
    {
     "data": {
      "application/vnd.jupyter.widget-view+json": {
       "model_id": "",
       "version_major": 2,
       "version_minor": 0
      },
      "text/plain": [
       "  0%|          | 0/14 [00:00<?, ?it/s]"
      ]
     },
     "metadata": {},
     "output_type": "display_data"
    },
    {
     "data": {
      "application/vnd.jupyter.widget-view+json": {
       "model_id": "",
       "version_major": 2,
       "version_minor": 0
      },
      "text/plain": [
       "  0%|          | 0/262 [00:00<?, ?it/s]"
      ]
     },
     "metadata": {},
     "output_type": "display_data"
    },
    {
     "data": {
      "application/vnd.jupyter.widget-view+json": {
       "model_id": "",
       "version_major": 2,
       "version_minor": 0
      },
      "text/plain": [
       "  0%|          | 0/14 [00:00<?, ?it/s]"
      ]
     },
     "metadata": {},
     "output_type": "display_data"
    },
    {
     "data": {
      "application/vnd.jupyter.widget-view+json": {
       "model_id": "",
       "version_major": 2,
       "version_minor": 0
      },
      "text/plain": [
       "  0%|          | 0/262 [00:00<?, ?it/s]"
      ]
     },
     "metadata": {},
     "output_type": "display_data"
    },
    {
     "data": {
      "application/vnd.jupyter.widget-view+json": {
       "model_id": "",
       "version_major": 2,
       "version_minor": 0
      },
      "text/plain": [
       "  0%|          | 0/14 [00:00<?, ?it/s]"
      ]
     },
     "metadata": {},
     "output_type": "display_data"
    },
    {
     "data": {
      "application/vnd.jupyter.widget-view+json": {
       "model_id": "",
       "version_major": 2,
       "version_minor": 0
      },
      "text/plain": [
       "  0%|          | 0/262 [00:00<?, ?it/s]"
      ]
     },
     "metadata": {},
     "output_type": "display_data"
    },
    {
     "data": {
      "application/vnd.jupyter.widget-view+json": {
       "model_id": "",
       "version_major": 2,
       "version_minor": 0
      },
      "text/plain": [
       "  0%|          | 0/14 [00:00<?, ?it/s]"
      ]
     },
     "metadata": {},
     "output_type": "display_data"
    },
    {
     "data": {
      "application/vnd.jupyter.widget-view+json": {
       "model_id": "",
       "version_major": 2,
       "version_minor": 0
      },
      "text/plain": [
       "  0%|          | 0/262 [00:00<?, ?it/s]"
      ]
     },
     "metadata": {},
     "output_type": "display_data"
    },
    {
     "data": {
      "application/vnd.jupyter.widget-view+json": {
       "model_id": "",
       "version_major": 2,
       "version_minor": 0
      },
      "text/plain": [
       "  0%|          | 0/14 [00:00<?, ?it/s]"
      ]
     },
     "metadata": {},
     "output_type": "display_data"
    },
    {
     "data": {
      "application/vnd.jupyter.widget-view+json": {
       "model_id": "",
       "version_major": 2,
       "version_minor": 0
      },
      "text/plain": [
       "  0%|          | 0/262 [00:00<?, ?it/s]"
      ]
     },
     "metadata": {},
     "output_type": "display_data"
    },
    {
     "data": {
      "application/vnd.jupyter.widget-view+json": {
       "model_id": "",
       "version_major": 2,
       "version_minor": 0
      },
      "text/plain": [
       "  0%|          | 0/14 [00:00<?, ?it/s]"
      ]
     },
     "metadata": {},
     "output_type": "display_data"
    },
    {
     "data": {
      "application/vnd.jupyter.widget-view+json": {
       "model_id": "",
       "version_major": 2,
       "version_minor": 0
      },
      "text/plain": [
       "  0%|          | 0/262 [00:00<?, ?it/s]"
      ]
     },
     "metadata": {},
     "output_type": "display_data"
    },
    {
     "data": {
      "application/vnd.jupyter.widget-view+json": {
       "model_id": "",
       "version_major": 2,
       "version_minor": 0
      },
      "text/plain": [
       "  0%|          | 0/14 [00:00<?, ?it/s]"
      ]
     },
     "metadata": {},
     "output_type": "display_data"
    },
    {
     "data": {
      "application/vnd.jupyter.widget-view+json": {
       "model_id": "",
       "version_major": 2,
       "version_minor": 0
      },
      "text/plain": [
       "  0%|          | 0/262 [00:00<?, ?it/s]"
      ]
     },
     "metadata": {},
     "output_type": "display_data"
    },
    {
     "data": {
      "application/vnd.jupyter.widget-view+json": {
       "model_id": "",
       "version_major": 2,
       "version_minor": 0
      },
      "text/plain": [
       "  0%|          | 0/14 [00:00<?, ?it/s]"
      ]
     },
     "metadata": {},
     "output_type": "display_data"
    },
    {
     "data": {
      "application/vnd.jupyter.widget-view+json": {
       "model_id": "10be6e7b6ac446c0ab37aa615285f1f1",
       "version_major": 2,
       "version_minor": 0
      },
      "text/plain": [
       "  0%|          | 0/262 [00:00<?, ?it/s]"
      ]
     },
     "metadata": {},
     "output_type": "display_data"
    },
    {
     "name": "stderr",
     "output_type": "stream",
     "text": [
      "Exception ignored in: <function _MultiProcessingDataLoaderIter.__del__ at 0x7f9b95e9dca0>\n",
      "Traceback (most recent call last):\n",
      "  File \"/data1/home/ttcchen/anaconda3/envs/siads-orbital/lib/python3.8/site-packages/torch/utils/data/dataloader.py\", line 1324, in __del__\n",
      "    self._shutdown_workers()\n",
      "  File \"/data1/home/ttcchen/anaconda3/envs/siads-orbital/lib/python3.8/site-packages/torch/utils/data/dataloader.py\", line 1297, in _shutdown_workers\n",
      "    w.join(timeout=_utils.MP_STATUS_CHECK_INTERVAL)\n",
      "  File \"/data1/home/ttcchen/anaconda3/envs/siads-orbital/lib/python3.8/multiprocessing/process.py\", line 149, in join\n",
      "    res = self._popen.wait(timeout)\n",
      "  File \"/data1/home/ttcchen/anaconda3/envs/siads-orbital/lib/python3.8/multiprocessing/popen_fork.py\", line 44, in wait\n",
      "    if not wait([self.sentinel], timeout):\n",
      "  File \"/data1/home/ttcchen/anaconda3/envs/siads-orbital/lib/python3.8/multiprocessing/connection.py\", line 931, in wait\n",
      "    ready = selector.select(timeout)\n",
      "  File \"/data1/home/ttcchen/anaconda3/envs/siads-orbital/lib/python3.8/selectors.py\", line 415, in select\n",
      "    fd_event_list = self._selector.poll(timeout)\n",
      "KeyboardInterrupt: \n"
     ]
    },
    {
     "ename": "KeyboardInterrupt",
     "evalue": "",
     "output_type": "error",
     "traceback": [
      "\u001b[0;31m---------------------------------------------------------------------------\u001b[0m",
      "\u001b[0;31mKeyboardInterrupt\u001b[0m                         Traceback (most recent call last)",
      "\u001b[0;32m<ipython-input-30-bea134e20f6b>\u001b[0m in \u001b[0;36m<module>\u001b[0;34m\u001b[0m\n\u001b[0;32m----> 1\u001b[0;31m \u001b[0mtrain_model\u001b[0m\u001b[0;34m(\u001b[0m\u001b[0mX_train\u001b[0m\u001b[0;34m,\u001b[0m \u001b[0my_train\u001b[0m\u001b[0;34m[\u001b[0m\u001b[0my_cols\u001b[0m\u001b[0;34m]\u001b[0m\u001b[0;34m,\u001b[0m \u001b[0mX_test\u001b[0m\u001b[0;34m,\u001b[0m \u001b[0my_test\u001b[0m\u001b[0;34m[\u001b[0m\u001b[0my_cols\u001b[0m\u001b[0;34m]\u001b[0m\u001b[0;34m,\u001b[0m \u001b[0mtrain_config\u001b[0m\u001b[0;34m,\u001b[0m \u001b[0mmodel_configs\u001b[0m\u001b[0;34m,\u001b[0m \u001b[0msubmodel_to_train\u001b[0m\u001b[0;34m)\u001b[0m\u001b[0;34m\u001b[0m\u001b[0;34m\u001b[0m\u001b[0m\n\u001b[0m",
      "\u001b[0;32m<ipython-input-4-1779f4c8027a>\u001b[0m in \u001b[0;36mtrain_model\u001b[0;34m(X_train, y_train, X_test, y_test, train_config, model_configs, sub_model_key, force_optimizer)\u001b[0m\n\u001b[1;32m     36\u001b[0m             \u001b[0mprediction\u001b[0m \u001b[0;34m=\u001b[0m \u001b[0mnet\u001b[0m\u001b[0;34m(\u001b[0m\u001b[0mx\u001b[0m\u001b[0;34m)\u001b[0m     \u001b[0;31m# input x and predict based on x\u001b[0m\u001b[0;34m\u001b[0m\u001b[0;34m\u001b[0m\u001b[0m\n\u001b[1;32m     37\u001b[0m             \u001b[0mloss\u001b[0m \u001b[0;34m=\u001b[0m \u001b[0mloss_func\u001b[0m\u001b[0;34m(\u001b[0m\u001b[0mprediction\u001b[0m\u001b[0;34m,\u001b[0m \u001b[0my\u001b[0m\u001b[0;34m)\u001b[0m     \u001b[0;31m# must be (1. nn output, 2. target)\u001b[0m\u001b[0;34m\u001b[0m\u001b[0;34m\u001b[0m\u001b[0m\n\u001b[0;32m---> 38\u001b[0;31m             \u001b[0mloss\u001b[0m\u001b[0;34m.\u001b[0m\u001b[0mbackward\u001b[0m\u001b[0;34m(\u001b[0m\u001b[0;34m)\u001b[0m         \u001b[0;31m# backpropagation, compute gradients\u001b[0m\u001b[0;34m\u001b[0m\u001b[0;34m\u001b[0m\u001b[0m\n\u001b[0m\u001b[1;32m     39\u001b[0m             \u001b[0moptimizer\u001b[0m\u001b[0;34m.\u001b[0m\u001b[0mstep\u001b[0m\u001b[0;34m(\u001b[0m\u001b[0;34m)\u001b[0m        \u001b[0;31m# apply gradients\u001b[0m\u001b[0;34m\u001b[0m\u001b[0;34m\u001b[0m\u001b[0m\n\u001b[1;32m     40\u001b[0m             \u001b[0mrunning_eloss\u001b[0m \u001b[0;34m+=\u001b[0m \u001b[0mloss\u001b[0m\u001b[0;34m.\u001b[0m\u001b[0mitem\u001b[0m\u001b[0;34m(\u001b[0m\u001b[0;34m)\u001b[0m\u001b[0;34m\u001b[0m\u001b[0;34m\u001b[0m\u001b[0m\n",
      "\u001b[0;32m~/anaconda3/envs/siads-orbital/lib/python3.8/site-packages/torch/tensor.py\u001b[0m in \u001b[0;36mbackward\u001b[0;34m(self, gradient, retain_graph, create_graph, inputs)\u001b[0m\n\u001b[1;32m    243\u001b[0m                 \u001b[0mcreate_graph\u001b[0m\u001b[0;34m=\u001b[0m\u001b[0mcreate_graph\u001b[0m\u001b[0;34m,\u001b[0m\u001b[0;34m\u001b[0m\u001b[0;34m\u001b[0m\u001b[0m\n\u001b[1;32m    244\u001b[0m                 inputs=inputs)\n\u001b[0;32m--> 245\u001b[0;31m         \u001b[0mtorch\u001b[0m\u001b[0;34m.\u001b[0m\u001b[0mautograd\u001b[0m\u001b[0;34m.\u001b[0m\u001b[0mbackward\u001b[0m\u001b[0;34m(\u001b[0m\u001b[0mself\u001b[0m\u001b[0;34m,\u001b[0m \u001b[0mgradient\u001b[0m\u001b[0;34m,\u001b[0m \u001b[0mretain_graph\u001b[0m\u001b[0;34m,\u001b[0m \u001b[0mcreate_graph\u001b[0m\u001b[0;34m,\u001b[0m \u001b[0minputs\u001b[0m\u001b[0;34m=\u001b[0m\u001b[0minputs\u001b[0m\u001b[0;34m)\u001b[0m\u001b[0;34m\u001b[0m\u001b[0;34m\u001b[0m\u001b[0m\n\u001b[0m\u001b[1;32m    246\u001b[0m \u001b[0;34m\u001b[0m\u001b[0m\n\u001b[1;32m    247\u001b[0m     \u001b[0;32mdef\u001b[0m \u001b[0mregister_hook\u001b[0m\u001b[0;34m(\u001b[0m\u001b[0mself\u001b[0m\u001b[0;34m,\u001b[0m \u001b[0mhook\u001b[0m\u001b[0;34m)\u001b[0m\u001b[0;34m:\u001b[0m\u001b[0;34m\u001b[0m\u001b[0;34m\u001b[0m\u001b[0m\n",
      "\u001b[0;32m~/anaconda3/envs/siads-orbital/lib/python3.8/site-packages/torch/autograd/__init__.py\u001b[0m in \u001b[0;36mbackward\u001b[0;34m(tensors, grad_tensors, retain_graph, create_graph, grad_variables, inputs)\u001b[0m\n\u001b[1;32m    143\u001b[0m         \u001b[0mretain_graph\u001b[0m \u001b[0;34m=\u001b[0m \u001b[0mcreate_graph\u001b[0m\u001b[0;34m\u001b[0m\u001b[0;34m\u001b[0m\u001b[0m\n\u001b[1;32m    144\u001b[0m \u001b[0;34m\u001b[0m\u001b[0m\n\u001b[0;32m--> 145\u001b[0;31m     Variable._execution_engine.run_backward(\n\u001b[0m\u001b[1;32m    146\u001b[0m         \u001b[0mtensors\u001b[0m\u001b[0;34m,\u001b[0m \u001b[0mgrad_tensors_\u001b[0m\u001b[0;34m,\u001b[0m \u001b[0mretain_graph\u001b[0m\u001b[0;34m,\u001b[0m \u001b[0mcreate_graph\u001b[0m\u001b[0;34m,\u001b[0m \u001b[0minputs\u001b[0m\u001b[0;34m,\u001b[0m\u001b[0;34m\u001b[0m\u001b[0;34m\u001b[0m\u001b[0m\n\u001b[1;32m    147\u001b[0m         allow_unreachable=True, accumulate_grad=True)  # allow_unreachable flag\n",
      "\u001b[0;31mKeyboardInterrupt\u001b[0m: "
     ]
    }
   ],
   "source": [
    "train_model(X_train, y_train[y_cols], X_test, y_test[y_cols], train_config, model_configs, submodel_to_train)"
   ]
  },
  {
   "cell_type": "code",
   "execution_count": null,
   "metadata": {},
   "outputs": [],
   "source": []
  }
 ],
 "metadata": {
  "kernelspec": {
   "display_name": "Python 3",
   "language": "python",
   "name": "python3"
  },
  "language_info": {
   "codemirror_mode": {
    "name": "ipython",
    "version": 3
   },
   "file_extension": ".py",
   "mimetype": "text/x-python",
   "name": "python",
   "nbconvert_exporter": "python",
   "pygments_lexer": "ipython3",
   "version": "3.8.8"
  }
 },
 "nbformat": 4,
 "nbformat_minor": 4
}
