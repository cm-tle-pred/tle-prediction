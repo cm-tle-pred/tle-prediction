{
 "cells": [
  {
   "cell_type": "code",
   "execution_count": 1,
   "metadata": {},
   "outputs": [],
   "source": [
    "import pandas as pd\n",
    "import numpy as np\n",
    "import os\n",
    "import torch\n",
    "import torch.nn as nn\n",
    "from dataset import Dataset, to_device\n",
    "from model import NNSingleFeatureModel, tims_mse_loss, tim95_mse_loss\n",
    "from sklearn.metrics import mean_squared_error, mean_absolute_error\n",
    "import matplotlib.pyplot as plt\n",
    "import pickle\n",
    "import normalize_data\n",
    "import random\n",
    "from time import time\n",
    "from tqdm.notebook import tqdm\n",
    "\n",
    "pd.set_option('display.max_columns', 999)\n",
    "pd.set_option('display.precision', 12)"
   ]
  },
  {
   "cell_type": "code",
   "execution_count": 2,
   "metadata": {},
   "outputs": [],
   "source": [
    "raw_data = {} # loads raw data and stores as a dict cache\n",
    "\n",
    "def dataset_key(dataset='', validation=False):\n",
    "    return dataset+('test' if validation else 'train')\n",
    "\n",
    "def load_data(raw, dataset='', validation=False):\n",
    "    key = dataset+('test' if validation else 'train')\n",
    "    if key not in raw:\n",
    "        print(f\"Loading data to cache for: {key}\")\n",
    "        raw[key] = pd.read_pickle(f'{os.environ[\"GP_HIST_PATH\"]}/../t7_data/{key}.pkl')\n",
    "    return raw[key]"
   ]
  },
  {
   "cell_type": "code",
   "execution_count": 3,
   "metadata": {},
   "outputs": [],
   "source": [
    "def load_sub_model_with_config(train_config, model_configs, sub_model_key, X_count=0, force_recreate=False):\n",
    "    path = train_config['model_path']\n",
    "    prefix = train_config['model_prefix']\n",
    "    model_config = model_configs[sub_model_key]\n",
    "    f = f\"{path}/{prefix}{sub_model_key}.pth\"\n",
    "    if os.path.exists(f) and not force_recreate:\n",
    "        print(\"Loading existing model\")\n",
    "        checkpoint = torch.load(f)\n",
    "        net = checkpoint['net']\n",
    "        loss_func = checkpoint['loss_func']\n",
    "        optimizer = checkpoint['optimizer']\n",
    "        mean_losses = checkpoint['mean_losses']\n",
    "        next_epoch = checkpoint['next_epoch']\n",
    "    else:\n",
    "        raise Exception('Model does not exist')\n",
    "    return net, loss_func, optimizer, mean_losses, next_epoch"
   ]
  },
  {
   "cell_type": "code",
   "execution_count": 4,
   "metadata": {},
   "outputs": [],
   "source": [
    "# # incase i need to save the current model in memory\n",
    "# def save_model_with_config(train_config, sub_model_key, **kwargs):\n",
    "#     path = train_config['model_path']\n",
    "#     prefix = train_config['model_prefix']\n",
    "#     f = f\"{path}/{prefix}{sub_model_key}.pth\"\n",
    "#     torch.save(kwargs, f)"
   ]
  },
  {
   "cell_type": "code",
   "execution_count": 5,
   "metadata": {},
   "outputs": [],
   "source": [
    "def predict(model, X, y, device='cpu'):\n",
    "    pyt_device = torch.device(device)\n",
    "    model.eval()\n",
    "    X_tensor = torch.from_numpy(X.to_numpy()).float()\n",
    "    nn_results = model(X_tensor).detach().numpy()\n",
    "    return nn_results"
   ]
  },
  {
   "cell_type": "code",
   "execution_count": 6,
   "metadata": {},
   "outputs": [],
   "source": [
    "def get_ref_X_y(df):\n",
    "    ref_cols = [c for c in df.columns if c.startswith('__')]\n",
    "    X_cols = [c for c in df.columns if c.startswith('X_')]\n",
    "    y_cols = [c for c in df.columns if c.startswith('y_')]\n",
    "    return (df[ref_cols], df[X_cols], df[y_cols])"
   ]
  },
  {
   "cell_type": "code",
   "execution_count": 7,
   "metadata": {},
   "outputs": [],
   "source": [
    "train_config = {\n",
    "    'dataset' : 'sample_200_', # '', 'sample_', 'secret_'\n",
    "    'model_prefix' : \"SINGLE_0_\", \n",
    "    'model_path' : f\"{os.environ['GP_HIST_PATH']}/../t7_models\",\n",
    "    'device' : 'cpu',\n",
    "}"
   ]
  },
  {
   "cell_type": "code",
   "execution_count": 8,
   "metadata": {},
   "outputs": [
    {
     "name": "stdout",
     "output_type": "stream",
     "text": [
      "Loading data to cache for: sample_200_test\n",
      "CPU times: user 676 ms, sys: 639 ms, total: 1.31 s\n",
      "Wall time: 897 ms\n"
     ]
    }
   ],
   "source": [
    "%%time\n",
    "test_df = normalize_data.normalize_all_columns(load_data(raw_data,dataset=train_config['dataset'],validation=True)).dropna()\n",
    "ref_test, X_test, y_test = get_ref_X_y(test_df)\n",
    "# y_cols = ['y_INCLINATION', 'y_ECCENTRICITY', 'y_MEAN_MOTION', 'y_RA_OF_ASC_NODE_REG', 'y_ARG_OF_PERICENTER_REG', 'y_REV_MA_REG', 'y_BSTAR']\n",
    "# y_test = y_test[y_cols]"
   ]
  },
  {
   "cell_type": "code",
   "execution_count": 9,
   "metadata": {},
   "outputs": [],
   "source": [
    "model_configs = {\n",
    "    'y_SAT_RX': { \n",
    "    },\n",
    "    'y_SAT_RY': { \n",
    "    },\n",
    "    'y_SAT_RZ': { \n",
    "    },\n",
    "    'y_SAT_VX': { \n",
    "    },\n",
    "    'y_SAT_VY': { \n",
    "    },\n",
    "    'y_SAT_VZ': { \n",
    "    },\n",
    "}"
   ]
  },
  {
   "cell_type": "code",
   "execution_count": 12,
   "metadata": {
    "scrolled": false
   },
   "outputs": [
    {
     "name": "stdout",
     "output_type": "stream",
     "text": [
      "Loading existing model\n",
      "y_SAT_RX\n",
      "MSELoss()\n"
     ]
    },
    {
     "data": {
      "image/png": "[encoded data removed]",
      "text/plain": [
       "<Figure size 936x288 with 1 Axes>"
      ]
     },
     "metadata": {
      "needs_background": "light"
     },
     "output_type": "display_data"
    },
    {
     "data": {
      "text/html": [
       "<div>\n",
       "<style scoped>\n",
       "    .dataframe tbody tr th:only-of-type {\n",
       "        vertical-align: middle;\n",
       "    }\n",
       "\n",
       "    .dataframe tbody tr th {\n",
       "        vertical-align: top;\n",
       "    }\n",
       "\n",
       "    .dataframe thead th {\n",
       "        text-align: right;\n",
       "    }\n",
       "</style>\n",
       "<table border=\"1\" class=\"dataframe\">\n",
       "  <thead>\n",
       "    <tr style=\"text-align: right;\">\n",
       "      <th></th>\n",
       "      <th>train loss</th>\n",
       "      <th>validation loss</th>\n",
       "    </tr>\n",
       "  </thead>\n",
       "  <tbody>\n",
       "    <tr>\n",
       "      <th>23</th>\n",
       "      <td>0.000279409908</td>\n",
       "      <td>0.002031233576</td>\n",
       "    </tr>\n",
       "    <tr>\n",
       "      <th>24</th>\n",
       "      <td>0.000279882111</td>\n",
       "      <td>0.002031182030</td>\n",
       "    </tr>\n",
       "    <tr>\n",
       "      <th>25</th>\n",
       "      <td>0.000281370979</td>\n",
       "      <td>0.002031194044</td>\n",
       "    </tr>\n",
       "    <tr>\n",
       "      <th>26</th>\n",
       "      <td>0.000279616211</td>\n",
       "      <td>0.002031152567</td>\n",
       "    </tr>\n",
       "    <tr>\n",
       "      <th>27</th>\n",
       "      <td>0.000279861546</td>\n",
       "      <td>0.002031185714</td>\n",
       "    </tr>\n",
       "    <tr>\n",
       "      <th>28</th>\n",
       "      <td>0.000281179701</td>\n",
       "      <td>0.002031198233</td>\n",
       "    </tr>\n",
       "    <tr>\n",
       "      <th>29</th>\n",
       "      <td>0.000279369084</td>\n",
       "      <td>0.002031180037</td>\n",
       "    </tr>\n",
       "    <tr>\n",
       "      <th>30</th>\n",
       "      <td>0.000279445313</td>\n",
       "      <td>0.002031166423</td>\n",
       "    </tr>\n",
       "    <tr>\n",
       "      <th>31</th>\n",
       "      <td>0.000280564320</td>\n",
       "      <td>0.002031165124</td>\n",
       "    </tr>\n",
       "    <tr>\n",
       "      <th>32</th>\n",
       "      <td>0.000281835227</td>\n",
       "      <td>0.002031185861</td>\n",
       "    </tr>\n",
       "  </tbody>\n",
       "</table>\n",
       "</div>"
      ],
      "text/plain": [
       "        train loss  validation loss\n",
       "23  0.000279409908   0.002031233576\n",
       "24  0.000279882111   0.002031182030\n",
       "25  0.000281370979   0.002031194044\n",
       "26  0.000279616211   0.002031152567\n",
       "27  0.000279861546   0.002031185714\n",
       "28  0.000281179701   0.002031198233\n",
       "29  0.000279369084   0.002031180037\n",
       "30  0.000279445313   0.002031166423\n",
       "31  0.000280564320   0.002031165124\n",
       "32  0.000281835227   0.002031185861"
      ]
     },
     "metadata": {},
     "output_type": "display_data"
    },
    {
     "name": "stdout",
     "output_type": "stream",
     "text": [
      "Epoch 33\n",
      "    Test set MAE (L1) loss: 0.002799321021077943\n",
      "    Test set MSE (L2) loss: 0.0017543101868913048\n",
      "==============================\n",
      "Loading existing model\n",
      "No data for y_SAT_RY\n",
      "Loading existing model\n",
      "No data for y_SAT_RZ\n",
      "Loading existing model\n",
      "No data for y_SAT_VX\n",
      "Loading existing model\n",
      "No data for y_SAT_VY\n",
      "Loading existing model\n",
      "No data for y_SAT_VZ\n"
     ]
    },
    {
     "data": {
      "text/html": [
       "<div>\n",
       "<style scoped>\n",
       "    .dataframe tbody tr th:only-of-type {\n",
       "        vertical-align: middle;\n",
       "    }\n",
       "\n",
       "    .dataframe tbody tr th {\n",
       "        vertical-align: top;\n",
       "    }\n",
       "\n",
       "    .dataframe thead th {\n",
       "        text-align: right;\n",
       "    }\n",
       "</style>\n",
       "<table border=\"1\" class=\"dataframe\">\n",
       "  <thead>\n",
       "    <tr style=\"text-align: right;\">\n",
       "      <th></th>\n",
       "      <th>y_SAT_RX</th>\n",
       "      <th>y_SAT_RX_pred</th>\n",
       "    </tr>\n",
       "  </thead>\n",
       "  <tbody>\n",
       "    <tr>\n",
       "      <th>0</th>\n",
       "      <td>-0.278770563185</td>\n",
       "      <td>-0.278621733189</td>\n",
       "    </tr>\n",
       "    <tr>\n",
       "      <th>1</th>\n",
       "      <td>-0.175395993702</td>\n",
       "      <td>-0.175052791834</td>\n",
       "    </tr>\n",
       "    <tr>\n",
       "      <th>2</th>\n",
       "      <td>-0.125969005786</td>\n",
       "      <td>-0.126286774874</td>\n",
       "    </tr>\n",
       "    <tr>\n",
       "      <th>3</th>\n",
       "      <td>-0.094794682753</td>\n",
       "      <td>-0.094790205359</td>\n",
       "    </tr>\n",
       "    <tr>\n",
       "      <th>4</th>\n",
       "      <td>-0.013679499544</td>\n",
       "      <td>-0.013781782240</td>\n",
       "    </tr>\n",
       "    <tr>\n",
       "      <th>...</th>\n",
       "      <td>...</td>\n",
       "      <td>...</td>\n",
       "    </tr>\n",
       "    <tr>\n",
       "      <th>479660</th>\n",
       "      <td>-0.753290479244</td>\n",
       "      <td>-0.413678228855</td>\n",
       "    </tr>\n",
       "    <tr>\n",
       "      <th>479661</th>\n",
       "      <td>-0.742980631570</td>\n",
       "      <td>-0.461483359337</td>\n",
       "    </tr>\n",
       "    <tr>\n",
       "      <th>479662</th>\n",
       "      <td>-0.719214177844</td>\n",
       "      <td>-0.089906089008</td>\n",
       "    </tr>\n",
       "    <tr>\n",
       "      <th>479663</th>\n",
       "      <td>-0.701667344477</td>\n",
       "      <td>0.069660402834</td>\n",
       "    </tr>\n",
       "    <tr>\n",
       "      <th>479664</th>\n",
       "      <td>-0.676365658446</td>\n",
       "      <td>0.351648688316</td>\n",
       "    </tr>\n",
       "  </tbody>\n",
       "</table>\n",
       "<p>479665 rows × 2 columns</p>\n",
       "</div>"
      ],
      "text/plain": [
       "              y_SAT_RX   y_SAT_RX_pred\n",
       "0      -0.278770563185 -0.278621733189\n",
       "1      -0.175395993702 -0.175052791834\n",
       "2      -0.125969005786 -0.126286774874\n",
       "3      -0.094794682753 -0.094790205359\n",
       "4      -0.013679499544 -0.013781782240\n",
       "...                ...             ...\n",
       "479660 -0.753290479244 -0.413678228855\n",
       "479661 -0.742980631570 -0.461483359337\n",
       "479662 -0.719214177844 -0.089906089008\n",
       "479663 -0.701667344477  0.069660402834\n",
       "479664 -0.676365658446  0.351648688316\n",
       "\n",
       "[479665 rows x 2 columns]"
      ]
     },
     "metadata": {},
     "output_type": "display_data"
    }
   ],
   "source": [
    "# Create or load all new sub models here if needed.\n",
    "# sample_idx = random.sample(list(X_test.index), 10000)\n",
    "sample_idx = X_test.index\n",
    "all_models = {}\n",
    "display_data = []\n",
    "# for sub_key in y_cols:\n",
    "for sub_key in model_configs.keys():\n",
    "    # When new models are created, a dummy optimizer is used\n",
    "    model, loss_func, optimizer, mean_losses, next_epoch = load_sub_model_with_config(train_config, model_configs, sub_key)\n",
    "    all_models[sub_key] = (model, loss_func, optimizer, mean_losses, next_epoch)\n",
    "    try:\n",
    "        tl, vl = zip(*mean_losses)\n",
    "        print(f'{sub_key}')\n",
    "    except:\n",
    "        print(f\"No data for {sub_key}\")\n",
    "        continue\n",
    "\n",
    "    fig,ax = plt.subplots(figsize=(13,4))\n",
    "    print(loss_func)\n",
    "    ax.plot(tl, label=\"Training Loss\")\n",
    "    ax.plot(vl, label=\"Validation Loss\")\n",
    "    ax.set_title(sub_key)\n",
    "    ax.set_yscale('log')\n",
    "    ax.set_ylim((ax.get_ylim()[0], min(1,ax.get_ylim()[1])))\n",
    "    fig.legend()\n",
    "    plt.show()\n",
    "    display(pd.DataFrame(mean_losses, columns=['train loss','validation loss']).tail(10))\n",
    "\n",
    "    trained_model = model\n",
    "    X_sample = X_test.loc[sample_idx]\n",
    "    y_sample = y_test.loc[sample_idx][[sub_key]]\n",
    "    y_sample_pred = predict(trained_model, X_sample, y_sample, device=\"cpu\") # get predictions for each train\n",
    "    y_sample_pred_df = pd.DataFrame(y_sample_pred, columns=y_sample.columns, index=y_sample.index)  # put results into a dataframe\n",
    "    print(f'Epoch {next_epoch}')\n",
    "    print(f'    Test set MAE (L1) loss: {mean_absolute_error(y_sample, y_sample_pred_df)}')\n",
    "    print(f'    Test set MSE (L2) loss: {mean_squared_error(y_sample, y_sample_pred_df)}')\n",
    "    display_data.append(y_sample)\n",
    "    display_data.append(y_sample_pred_df.add_suffix('_pred'))\n",
    "#     display_data.append(X_sample.iloc[:,model_configs[sub_key]['feature_index']:model_configs[sub_key]['feature_index']+1])\n",
    "#     display(X_sample.iloc[:,model_configs[sub_key]['feature_index']:model_configs[sub_key]['feature_index']+1].values - y_sample_pred_df.values)\n",
    "    print('==============================')\n",
    "df = pd.concat(display_data, axis=1)\n",
    "display(df)\n",
    "# df['error'] = (np.abs(df.iloc[:,0]*360 - df.iloc[:,1]*360))%360\n",
    "# df['error'] = np.minimum(360-df.error,df.error)\n",
    "# display(df.error.quantile([0.1, 0.2, 0.3, 0.4, 0.5, 0.6, 0.7, 0.8, 0.9, 0.95, 0.975, 0.99, 0.999]))\n",
    "# df['epoch_diff'] = X_sample.X_delta_EPOCH\n",
    "# display(df.error.describe())"
   ]
  },
  {
   "cell_type": "code",
   "execution_count": null,
   "metadata": {},
   "outputs": [],
   "source": [
    "df = df.sort_values('error', ascending=False)\n",
    "df = df.merge(ref_test, left_index=True, right_index=True)"
   ]
  },
  {
   "cell_type": "code",
   "execution_count": null,
   "metadata": {},
   "outputs": [],
   "source": [
    "df"
   ]
  }
 ],
 "metadata": {
  "kernelspec": {
   "display_name": "Python 3",
   "language": "python",
   "name": "python3"
  },
  "language_info": {
   "codemirror_mode": {
    "name": "ipython",
    "version": 3
   },
   "file_extension": ".py",
   "mimetype": "text/x-python",
   "name": "python",
   "nbconvert_exporter": "python",
   "pygments_lexer": "ipython3",
   "version": "3.8.8"
  }
 },
 "nbformat": 4,
 "nbformat_minor": 4
}
